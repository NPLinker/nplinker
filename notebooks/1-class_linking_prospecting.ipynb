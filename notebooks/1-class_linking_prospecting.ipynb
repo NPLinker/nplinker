{
 "cells": [
  {
   "cell_type": "markdown",
   "id": "stunning-screw",
   "metadata": {},
   "source": [
    "# Summary\n",
    "Prospect some ways to load CANOPUS output, load MIBiG known class links, and establish class linking (scores) in the NPLinker object. To try this, we use a version of the Crusemann dataset (see Crüsemann et al. (2016) or MolNetEnhancer paper). Many parts of this notebook originate from the demo notebook."
   ]
  },
  {
   "cell_type": "code",
   "execution_count": 1,
   "id": "identical-statistics",
   "metadata": {},
   "outputs": [],
   "source": [
    "import sys, csv, os\n",
    "# if running from clone of the git repo\n",
    "sys.path.append('../prototype')\n",
    "\n",
    "# import the main NPLinker class. normally this all that's required to work\n",
    "# with NPLinker in a notebook environment\n",
    "from nplinker.nplinker import NPLinker"
   ]
  },
  {
   "cell_type": "code",
   "execution_count": 20,
   "id": "differential-capture",
   "metadata": {},
   "outputs": [
    {
     "name": "stdout",
     "output_type": "stream",
     "text": [
      "18:15:24 [INFO] config.py:121, Loading from local data in directory /mnt/scratch/louwe015/NPLinker/own/nplinker_shared/crus_full_new_AS3_03-09/\n",
      "18:15:24 [WARNING] loader.py:46, WARNING: unable to find extra_nodes_file in path \"/mnt/scratch/louwe015/NPLinker/own/nplinker_shared/crus_full_new_AS3_03-09/quantification_table_reformatted/*.csv\"\n",
      "18:15:24 [WARNING] loader.py:46, WARNING: unable to find metadata_table_file in path \"/mnt/scratch/louwe015/NPLinker/own/nplinker_shared/crus_full_new_AS3_03-09/metadata_table/metadata_table*.txt\"\n",
      "18:15:24 [WARNING] loader.py:46, WARNING: unable to find quantification_table_file in path \"/mnt/scratch/louwe015/NPLinker/own/nplinker_shared/crus_full_new_AS3_03-09/quantification_table/quantification_table*.csv\"\n",
      "18:15:24 [INFO] loader.py:80, Trying to discover correct bigscape directory under /mnt/scratch/louwe015/NPLinker/own/nplinker_shared/crus_full_new_AS3_03-09/bigscape\n",
      "18:15:24 [INFO] loader.py:83, Found network files directory: /mnt/scratch/louwe015/NPLinker/own/nplinker_shared/crus_full_new_AS3_03-09/bigscape/network_files/2021-07-16_08-32-34_hybrids_glocal\n",
      "18:15:24 [INFO] loader.py:212, Updating bigscape_dir to discovered location /mnt/scratch/louwe015/NPLinker/own/nplinker_shared/crus_full_new_AS3_03-09/bigscape/network_files/2021-07-16_08-32-34_hybrids_glocal\n",
      "18:15:24 [INFO] loader.py:571, Loaded global strain IDs (0 total)\n",
      "18:15:24 [INFO] loader.py:582, Loaded dataset strain IDs (159 total)\n",
      "18:15:31 [INFO] metabolomics.py:699, 13667 molecules parsed from MGF file\n",
      "18:15:32 [INFO] metabolomics.py:716, Found older-style GNPS dataset, no quantification table\n",
      "18:15:32 [WARNING] metabolomics.py:516, Unknown strain: 37c.mzXML for cluster index 63\n",
      "18:15:32 [WARNING] metabolomics.py:516, Unknown strain: 32c.mzXML for cluster index 110\n",
      "18:15:32 [WARNING] metabolomics.py:516, Unknown strain: 32b.mzXML for cluster index 110\n",
      "18:15:32 [WARNING] metabolomics.py:516, Unknown strain: 36c.mzXML for cluster index 110\n",
      "18:15:32 [WARNING] metabolomics.py:516, Unknown strain: 28b.mzXML for cluster index 118\n",
      "18:15:32 [WARNING] metabolomics.py:516, Unknown strain: 40a.mzXML for cluster index 142\n",
      "18:15:32 [WARNING] metabolomics.py:516, Unknown strain: 40b.mzXML for cluster index 142\n",
      "18:15:32 [WARNING] metabolomics.py:516, Unknown strain: 28a.mzXML for cluster index 143\n",
      "18:15:32 [WARNING] metabolomics.py:516, Unknown strain: R551-3-Me.mzXML for cluster index 227\n",
      "18:15:32 [WARNING] metabolomics.py:516, Unknown strain: neg-3-EA.mzXML for cluster index 227\n",
      "18:15:32 [WARNING] metabolomics.py:516, Unknown strain: TAA486_R5_M.mzXML for cluster index 280\n",
      "18:15:32 [WARNING] metabolomics.py:516, Unknown strain: -ve_R5_B.mzXML for cluster index 378\n",
      "18:15:32 [WARNING] metabolomics.py:516, Unknown strain: S.TU6071_R5_B.mzXML for cluster index 378\n",
      "18:15:32 [WARNING] metabolomics.py:516, Unknown strain: CNY228_MS_E.mzXML for cluster index 419\n",
      "18:15:32 [WARNING] metabolomics.py:516, Unknown strain: S.TU6071_R5_M.mzXML for cluster index 419\n",
      "18:15:32 [WARNING] metabolomics.py:516, Unknown strain: -ve_R5_M.mzXML for cluster index 441\n",
      "18:15:32 [WARNING] metabolomics.py:516, Unknown strain: S.gris_MS_M.mzXML for cluster index 448\n",
      "18:15:32 [WARNING] metabolomics.py:516, Unknown strain: S.TU6071_R5_E.mzXML for cluster index 462\n",
      "18:15:32 [WARNING] metabolomics.py:516, Unknown strain: -ve_MS_E.mzXML for cluster index 486\n",
      "18:15:32 [WARNING] metabolomics.py:516, Unknown strain: Y254-3-Me.mzXML for cluster index 906\n",
      "18:15:32 [WARNING] metabolomics.py:516, Unknown strain: H721-3-Me.mzXML for cluster index 906\n",
      "18:15:32 [WARNING] metabolomics.py:516, Unknown strain: R416-3-Me.mzXML for cluster index 906\n",
      "18:15:32 [WARNING] metabolomics.py:516, Unknown strain: R551-3-EA.mzXML for cluster index 1183\n",
      "18:15:32 [WARNING] metabolomics.py:516, Unknown strain: H721-3-EA.mzXML for cluster index 1418\n",
      "18:15:32 [WARNING] metabolomics.py:516, Unknown strain: H721-3-Bu.mzXML for cluster index 3496\n",
      "18:15:32 [WARNING] metabolomics.py:516, Unknown strain: R551-3-Bu.mzXML for cluster index 5198\n",
      "18:15:32 [WARNING] metabolomics.py:516, Unknown strain: neg-3-Me.mzXML for cluster index 5360\n",
      "18:15:32 [WARNING] metabolomics.py:516, Unknown strain: neg-3-Bu.mzXML for cluster index 5369\n",
      "18:15:32 [WARNING] metabolomics.py:516, Unknown strain: R416-3-EA.mzXML for cluster index 5369\n",
      "18:15:32 [WARNING] metabolomics.py:516, Unknown strain: R416-3-Bu.mzXML for cluster index 5436\n",
      "18:15:32 [WARNING] metabolomics.py:516, Unknown strain: -ve_A1_B.mzXML for cluster index 5615\n",
      "18:15:32 [WARNING] metabolomics.py:516, Unknown strain: -ve_A1_M.mzXML for cluster index 5615\n",
      "18:15:32 [WARNING] metabolomics.py:516, Unknown strain: -ve_R5_E.mzXML for cluster index 6518\n",
      "18:15:32 [WARNING] metabolomics.py:516, Unknown strain: -ve_MS_B.mzXML for cluster index 8678\n",
      "18:15:32 [WARNING] metabolomics.py:516, Unknown strain: -ve_A1_E.mzXML for cluster index 9112\n",
      "18:15:32 [WARNING] metabolomics.py:516, Unknown strain: Y254-3-EA.mzXML for cluster index 30611\n",
      "18:15:32 [WARNING] metabolomics.py:516, Unknown strain: -ve_MS_M.mzXML for cluster index 44505\n",
      "18:15:32 [WARNING] metabolomics.py:516, Unknown strain: Y254-3-Bu.mzXML for cluster index 49548\n",
      "18:15:32 [WARNING] metabolomics.py:516, Unknown strain: 35c.mzXML for cluster index 56273\n",
      "18:15:32 [WARNING] metabolomics.py:516, Unknown strain: 37b.mzXML for cluster index 56273\n",
      "18:15:32 [WARNING] metabolomics.py:516, Unknown strain: 14a.mzXML for cluster index 95015\n",
      "18:15:32 [WARNING] metabolomics.py:516, Unknown strain: 21c.mzXML for cluster index 95015\n",
      "18:15:32 [WARNING] metabolomics.py:516, Unknown strain: 14b.mzXML for cluster index 95015\n",
      "18:15:33 [WARNING] metabolomics.py:516, Unknown strain: 6a.mzXML for cluster index 116381\n",
      "18:15:33 [WARNING] metabolomics.py:516, Unknown strain: 6b.mzXML for cluster index 116381\n",
      "18:15:33 [WARNING] metabolomics.py:516, Unknown strain: 1b.mzXML for cluster index 244653\n",
      "18:15:33 [WARNING] metabolomics.py:531, 46 unknown strains were detected a total of 4037 times\n",
      "18:15:34 [WARNING] loader.py:550, Writing unknown strains from METABOLOMICS data to /mnt/scratch/louwe015/NPLinker/own/nplinker_shared/crus_full_new_AS3_03-09/unknown_strains_met.csv\n",
      "18:15:34 [INFO] loader.py:557, Loading provided annotation files (/mnt/scratch/louwe015/NPLinker/own/nplinker_shared/crus_full_new_AS3_03-09/result_specnets_DB)\n",
      "18:15:44 [INFO] genomics.py:461, Found 1816 MiBIG json files\n",
      "18:15:52 [INFO] genomics.py:253, Using antiSMASH filename delimiters ['.', '_', '-']\n",
      "18:19:29 [INFO] genomics.py:368, # MiBIG BGCs = 0, non-MiBIG BGCS = 7721, total bgcs = 7721, GCFs = 1263, strains=1975\n",
      "18:19:29 [INFO] genomics.py:425, Filtering MiBIG BGCs: removing 0 GCFs and 0 BGCs\n",
      "18:19:29 [INFO] genomics.py:375, # after filtering, total bgcs = 5905, GCFs = 1263, strains=159, unknown_strains=0\n",
      "18:19:30 [WARNING] loader.py:538, Writing unknown strains from GENOMICS data to /mnt/scratch/louwe015/NPLinker/own/nplinker_shared/crus_full_new_AS3_03-09/unknown_strains_gen.csv\n",
      "18:19:30 [INFO] loader.py:334, Writing common strain labels to /mnt/scratch/louwe015/NPLinker/own/nplinker_shared/crus_full_new_AS3_03-09/common_strains.csv\n",
      "18:19:30 [INFO] loader.py:347, Strains filtered down to total of 142\n",
      "18:19:30 [INFO] loader.py:273, No further strain filtering to apply\n"
     ]
    },
    {
     "data": {
      "text/plain": [
       "True"
      ]
     },
     "execution_count": 20,
     "metadata": {},
     "output_type": "execute_result"
    }
   ],
   "source": [
    "# load local crusemann data\n",
    "npl = NPLinker({'dataset': {'root': '/mnt/scratch/louwe015/NPLinker/own/nplinker_shared/crus_full_new_AS3_03-09/'}})\n",
    "npl.load_data()"
   ]
  },
  {
   "cell_type": "code",
   "execution_count": 17,
   "id": "special-physiology",
   "metadata": {},
   "outputs": [
    {
     "name": "stdout",
     "output_type": "stream",
     "text": [
      "{'loglevel': 'INFO', 'logfile': '', 'log_to_stdout': True, 'repro_file': '', 'dataset': {'root': '/mnt/scratch/louwe015/NPLinker/own/nplinker_shared/crus_full_new_AS3_03-09/', 'overrides': {}, 'platform_id': ''}, 'antismash': {'antismash_format': 'default', 'ignore_spaces': False}, 'docker': {'run_bigscape': True, 'extra_bigscape_parameters': ''}, 'webapp': {'tables_metcalf_threshold': 2.0}, 'scoring': {'rosetta': {}}}\n",
      "../prototype/nplinker/data\n",
      "\n",
      "/mnt/scratch/louwe015/NPLinker/own/nplinker_shared/crus_full_new_AS3_03-09/\n",
      "BGCs: 5905\n",
      "GCFs: 1263\n",
      "Spectra: 13667\n",
      "Molecular Families: 8346\n"
     ]
    }
   ],
   "source": [
    "# Basic functionality\n",
    "# ===================\n",
    "#\n",
    "# Once you have an NPLinker object with all data loaded, there are a collection of simple\n",
    "# methods and properties you can use to access objects and metadata. Some examples are \n",
    "# given below, see https://nplinker.readthedocs.io/en/latest/ for a complete API description.\n",
    "\n",
    "# configuration/dataset metadata\n",
    "# - a copy of the configuration as parsed from the .toml file (dict)\n",
    "print(npl.config) \n",
    "# - the path to the directory where various nplinker data files are located (e.g. the \n",
    "#   default configuration file template) (str)\n",
    "print(npl.data_dir)\n",
    "# - a dataset ID, derived from the path for local datasets or the paired platform ID\n",
    "#   for datasets loaded from that source (str)\n",
    "print(npl.dataset_id)\n",
    "# - the root directory for the current dataset (str)\n",
    "print(npl.root_dir)\n",
    "\n",
    "# objects\n",
    "# - you can directly access lists of each of the 4 object types:\n",
    "print('BGCs:', len(npl.bgcs))\n",
    "print('GCFs:', len(npl.gcfs)) # contains GCF objects\n",
    "print('Spectra:', len(npl.spectra)) # contains Spectrum objects\n",
    "print('Molecular Families:', len(npl.molfams)) # contains MolecularFamily objects"
   ]
  },
  {
   "cell_type": "code",
   "execution_count": 4,
   "id": "marked-discussion",
   "metadata": {},
   "outputs": [
    {
     "name": "stdout",
     "output_type": "stream",
     "text": [
      "14:25:27 [INFO] methods.py:436, MetcalfScoring.setup (bgcs=5905, gcfs=1263, spectra=8099, molfams=4611, strains=48)\n",
      "14:25:35 [INFO] methods.py:475, MetcalfScoring.setup completed\n",
      "Number of results: 959\n"
     ]
    }
   ],
   "source": [
    "mc = npl.scoring_method('metcalf')\n",
    "\n",
    "# Now mc is an instance of the class that implements Metcalf scoring. Once\n",
    "# you have such an instance, you may change any of the parameters it exposes.\n",
    "# In the case of Metcalf scoring, the following parameters are currently exposed:\n",
    "# - cutoff (float): the scoring threshold. Links with scores less than this are excluded\n",
    "# - standardised (bool): set to True to use standardised scores (default), False for regular\n",
    "mc.cutoff = 2.5\n",
    "mc.standardised = True\n",
    "\n",
    "results = npl.get_links(npl.gcfs, mc, and_mode=True) \n",
    "\n",
    "# get_links returns an instance of a class called LinkCollection. This provides a wrapper\n",
    "# around the results of the scoring operation and has various useful properties/methods:\n",
    "#\n",
    "# - len(results) or .source_count will tell you how many of the input_objects were found to have links\n",
    "print('Number of results: {}'.format(len(results)))\n",
    "# - .sources is a list of those objects\n",
    "objects_with_links = results.sources\n",
    "# - .links is a dict with structure {input_object: {linked_object: ObjectLink}} \n",
    "objects_and_link_info = results.links\n",
    "# - .get_all_targets() will return a flat list of *all* the linked objects (for all sources)\n",
    "all_targets = results.get_all_targets() \n",
    "# - .methods is a list of the scoring methods passed to get_links\n",
    "methods = results.methods"
   ]
  },
  {
   "cell_type": "code",
   "execution_count": 5,
   "id": "bearing-debut",
   "metadata": {},
   "outputs": [
    {
     "data": {
      "text/plain": [
       "(143, 48)"
      ]
     },
     "execution_count": 5,
     "metadata": {},
     "output_type": "execute_result"
    }
   ],
   "source": [
    "### strange there are only 48 strains... -> ah there are only spectra for 48 strains so that makes sense\n",
    "b_strains = [bgc.strain.id for bgc in npl.bgcs]\n",
    "bs_set = set(b_strains)\n",
    "s_strains = [list(spec.strains) for spec in npl.spectra]\n",
    "s_strains = [strain.id for s in s_strains for strain in s if s]\n",
    "ss_set = set(s_strains)\n",
    "len(bs_set), len(ss_set)"
   ]
  },
  {
   "cell_type": "markdown",
   "id": "generic-lightweight",
   "metadata": {},
   "source": [
    "## Reading canopus output\n",
    "Expect files to be present in the data folder that are called:\n",
    "- cluster_index_classifications.txt -> for the spectra (cluster indices in gnps)\n",
    "- component_index_classifications.txt -> for the molfams (component indices in gnps)\n",
    "\n",
    "For now just read the files to some dicts"
   ]
  },
  {
   "cell_type": "code",
   "execution_count": 6,
   "id": "developing-circulation",
   "metadata": {},
   "outputs": [
    {
     "data": {
      "text/plain": [
       "['nrps',\n",
       " 'nrps.t1pks.otherks',\n",
       " 'cf_fatty_acid.nrps.t1pks',\n",
       " 'nrps',\n",
       " 'nrps',\n",
       " 'nrps',\n",
       " 'nrps',\n",
       " 'nrps',\n",
       " 'nrps',\n",
       " 'nrps.t1pks']"
      ]
     },
     "execution_count": 6,
     "metadata": {},
     "output_type": "execute_result"
    }
   ],
   "source": [
    "[bgc.product_prediction for bgc in npl.bgcs][:10]"
   ]
  },
  {
   "cell_type": "code",
   "execution_count": 7,
   "id": "active-server",
   "metadata": {},
   "outputs": [
    {
     "data": {
      "text/plain": [
       "'/mnt/scratch/louwe015/NPLinker/own/nplinker_shared/crus_new_gnps_AS3/'"
      ]
     },
     "execution_count": 7,
     "metadata": {},
     "output_type": "execute_result"
    }
   ],
   "source": [
    "npl.root_dir"
   ]
  },
  {
   "cell_type": "code",
   "execution_count": 8,
   "id": "annual-subdivision",
   "metadata": {},
   "outputs": [
    {
     "data": {
      "text/plain": [
       "{'precursormass': 577.31299,\n",
       " 'parentintensity': None,\n",
       " 'charge': 0,\n",
       " 'mslevel': '2',\n",
       " 'precursorintensity': '122530.000000',\n",
       " 'filename': 'specs_ms.pklbin',\n",
       " 'parentrt': 1022.690002,\n",
       " 'activation': 'CID',\n",
       " 'instrument': 'ion trap',\n",
       " 'title': 'Scan Number: 46386',\n",
       " 'scans': '46386',\n",
       " 'parentmass': 577.31299,\n",
       " 'singlechargeprecursormass': 577.31299,\n",
       " 'cluster_index': 46386,\n",
       " 'files': {'CNS654_R5_E.mzXML': 'CNS654_R5_E.mzXML'}}"
      ]
     },
     "execution_count": 8,
     "metadata": {},
     "output_type": "execute_result"
    }
   ],
   "source": [
    "c_spec = None\n",
    "for spec in npl.spectra:\n",
    "    if spec.spectrum_id == 46386:\n",
    "        c_spec = spec\n",
    "c_spec.metadata"
   ]
  },
  {
   "cell_type": "code",
   "execution_count": 9,
   "id": "undefined-fitness",
   "metadata": {},
   "outputs": [
    {
     "name": "stdout",
     "output_type": "stream",
     "text": [
      "componentindex\tcluster index\tformula\tkingdom\tsuperclass\tclass\tsubclass\tlevel 5\tlevel 6\tlevel 7\tlevel 8\tlevel 9\tlevel 10\tlevel 11\tpathway\tsuperclass\tclass\n",
      "\n",
      "['3773', '31191', 'C19H41NO13', 'Organic compounds:1.000', 'Organic oxygen compounds:0.999; Organoheterocyclic compounds:0.536; Organic nitrogen compounds:1.000; Hydrocarbon derivatives:1.000; Organopnictogen compounds:0.959', 'Organooxygen compounds:0.953; Oxanes:0.579; Organonitrogen compounds:1.000', 'Carbohydrates and carbohydrate conjugates:0.936; Amines:0.977; Alcohols and polyols:0.955; Ethers:0.782', 'Glycosyl compounds:0.739; Alkanolamines:0.824; Secondary alcohols:0.870; Acetals:0.738; Secondary amines:0.741; Polyols:0.770; Primary alcohols:0.835', 'O-glycosyl compounds:0.657; 1,2-aminoalcohols:0.789; Dialkylamines:0.767', '', '', '', '', '', 'Amino acids and Peptides:0.010', 'Amino acid glycosides:0.302', 'Cyanogenic glycosides:0.438']\n"
     ]
    }
   ],
   "source": [
    "ci_classes_file = os.path.join(npl.root_dir, 'cluster_index_classifications.txt')\n",
    "os.path.exists(ci_classes_file)\n",
    "ci_classes = {} # for now make a dict {ci: [[(class,score)]]}\n",
    "with open(ci_classes_file) as inf:\n",
    "    ci_classes_header = inf.readline()\n",
    "    print(ci_classes_header)\n",
    "    for line in inf:\n",
    "        line = line.strip().split(\"\\t\")\n",
    "        classes_list = []\n",
    "        for lvl in line[3:]:\n",
    "            lvl_list = []\n",
    "            for l_class in lvl.split(\"; \"):\n",
    "                if l_class:\n",
    "                    l_class = l_class.split(\":\")\n",
    "                    c_tup = tuple([l_class[0], float(l_class[1])])\n",
    "                else:\n",
    "                    c_tup = None  # default value for class value\n",
    "                lvl_list.append(c_tup)\n",
    "            classes_list.append(lvl_list)\n",
    "        ci_classes[line[1]] = classes_list\n",
    "\n",
    "print(line)  #example"
   ]
  },
  {
   "cell_type": "code",
   "execution_count": 10,
   "id": "upper-graham",
   "metadata": {},
   "outputs": [
    {
     "data": {
      "text/plain": [
       "[[('Organic compounds', 1.0)],\n",
       " [('Lipids and lipid-like molecules', 0.359),\n",
       "  ('Organic acids and derivatives', 0.601),\n",
       "  ('Organic oxygen compounds', 1.0),\n",
       "  ('Organic nitrogen compounds', 1.0),\n",
       "  ('Hydrocarbon derivatives', 1.0),\n",
       "  ('Organopnictogen compounds', 0.976)],\n",
       " [('Fatty Acyls', 0.49),\n",
       "  ('Carboxylic acids and derivatives', 0.358),\n",
       "  ('Organooxygen compounds', 0.994),\n",
       "  ('Organonitrogen compounds', 1.0),\n",
       "  ('Organic oxides', 0.639)],\n",
       " [('Fatty amides', 0.597),\n",
       "  ('Carboxylic acid derivatives', 0.334),\n",
       "  ('Alcohols and polyols', 0.941),\n",
       "  ('Amines', 0.829),\n",
       "  ('Carbonyl compounds', 0.572)],\n",
       " [('N-acyl amines', 0.812),\n",
       "  ('Carboxylic acid amides', 0.521),\n",
       "  ('Secondary alcohols', 0.73),\n",
       "  ('Polyols', 0.551),\n",
       "  ('Primary alcohols', 0.599),\n",
       "  ('Primary amines', 0.839)],\n",
       " [('Secondary carboxylic acid amides', 0.512), ('Monoalkylamines', 0.849)],\n",
       " [None],\n",
       " [None],\n",
       " [None],\n",
       " [None],\n",
       " [None],\n",
       " [('Carbohydrates', 0.419)],\n",
       " [('Polyols', 0.856)],\n",
       " [('Amino cyclitols', 0.8)]]"
      ]
     },
     "execution_count": 10,
     "metadata": {},
     "output_type": "execute_result"
    }
   ],
   "source": [
    "ci_classes['46386']"
   ]
  },
  {
   "cell_type": "code",
   "execution_count": 11,
   "id": "balanced-peripheral",
   "metadata": {},
   "outputs": [
    {
     "name": "stdout",
     "output_type": "stream",
     "text": [
      "componentindex\tsize\tkingdom\tsuperclass\tclass\tsubclass\tlevel 5\tlevel 6\tlevel 7\tlevel 8\tlevel 9\tlevel 10\tlevel 11\tpathway\tsuperclass\tclass\n",
      "\n",
      "['3773', '2', 'Organic compounds:1.000', 'Organic acids and derivatives:0.500; Organic oxygen compounds:1.000; Alkaloids and derivatives:0.500; Organic nitrogen compounds:1.000; Organoheterocyclic compounds:1.000; Hydrocarbon derivatives:1.000; Organopnictogen compounds:1.000', 'Carboxylic acids and derivatives:0.500; Organooxygen compounds:1.000; Organonitrogen compounds:1.000; Oxanes:0.500; Azacyclic compounds:0.500; Oxacyclic compounds:0.500; Organic oxides:0.500', 'Amino acids, peptides, and analogues:0.500; Carbohydrates and carbohydrate conjugates:0.500; Amines:1.000; Carboxylic acid derivatives:0.500; Alcohols and polyols:1.000; Ethers:0.500; Monocarboxylic acids and derivatives:0.500; Carbonyl compounds:0.500', 'Glycosyl compounds:0.500; Aralkylamines:0.500; Alkanolamines:0.500; Amino acids and derivatives:0.500; Carboxylic acid esters:0.500; Secondary alcohols:1.000; Tertiary amines:0.500; Acetals:0.500; Secondary amines:0.500; Polyols:0.500; Primary alcohols:0.500', 'O-glycosyl compounds:0.500; 1,2-aminoalcohols:0.500; Trialkylamines:0.500; Dialkylamines:0.500', '', '', '', '', '', 'Alkaloids:0.500; Amino acids and Peptides:0.500', 'Amino acid glycosides:0.500', 'Cyanogenic glycosides:0.500']\n"
     ]
    }
   ],
   "source": [
    "# for component indices\n",
    "compi_classes_file = os.path.join(npl.root_dir, 'component_index_classifications.txt')\n",
    "os.path.exists(compi_classes_file)\n",
    "compi_classes = {} # for now make a dict {ci: [[(class,score)]]}\n",
    "with open(compi_classes_file) as inf:\n",
    "    compi_classes_header = inf.readline()\n",
    "    print(compi_classes_header)\n",
    "    for line in inf:\n",
    "        line = line.strip().split(\"\\t\")\n",
    "        classes_list = []\n",
    "        for lvl in line[2:]:\n",
    "            lvl_list = []\n",
    "            for l_class in lvl.split(\"; \"):\n",
    "                if l_class:\n",
    "                    l_class = l_class.split(\":\")\n",
    "                    c_tup = tuple([l_class[0], float(l_class[1])])\n",
    "                else:\n",
    "                    c_tup = None  # default value for class value\n",
    "                lvl_list.append(c_tup)\n",
    "            classes_list.append(lvl_list)\n",
    "        compi_classes[line[0]] = classes_list\n",
    "\n",
    "print(line)  #example"
   ]
  },
  {
   "cell_type": "code",
   "execution_count": 12,
   "id": "printable-volleyball",
   "metadata": {},
   "outputs": [
    {
     "data": {
      "text/plain": [
       "[[('Organic compounds', 1.0)],\n",
       " [('Organic acids and derivatives', 0.5),\n",
       "  ('Organic oxygen compounds', 1.0),\n",
       "  ('Alkaloids and derivatives', 0.5),\n",
       "  ('Organic nitrogen compounds', 1.0),\n",
       "  ('Organoheterocyclic compounds', 1.0),\n",
       "  ('Hydrocarbon derivatives', 1.0),\n",
       "  ('Organopnictogen compounds', 1.0)],\n",
       " [('Carboxylic acids and derivatives', 0.5),\n",
       "  ('Organooxygen compounds', 1.0),\n",
       "  ('Organonitrogen compounds', 1.0),\n",
       "  ('Oxanes', 0.5),\n",
       "  ('Azacyclic compounds', 0.5),\n",
       "  ('Oxacyclic compounds', 0.5),\n",
       "  ('Organic oxides', 0.5)],\n",
       " [('Amino acids, peptides, and analogues', 0.5),\n",
       "  ('Carbohydrates and carbohydrate conjugates', 0.5),\n",
       "  ('Amines', 1.0),\n",
       "  ('Carboxylic acid derivatives', 0.5),\n",
       "  ('Alcohols and polyols', 1.0),\n",
       "  ('Ethers', 0.5),\n",
       "  ('Monocarboxylic acids and derivatives', 0.5),\n",
       "  ('Carbonyl compounds', 0.5)],\n",
       " [('Glycosyl compounds', 0.5),\n",
       "  ('Aralkylamines', 0.5),\n",
       "  ('Alkanolamines', 0.5),\n",
       "  ('Amino acids and derivatives', 0.5),\n",
       "  ('Carboxylic acid esters', 0.5),\n",
       "  ('Secondary alcohols', 1.0),\n",
       "  ('Tertiary amines', 0.5),\n",
       "  ('Acetals', 0.5),\n",
       "  ('Secondary amines', 0.5),\n",
       "  ('Polyols', 0.5),\n",
       "  ('Primary alcohols', 0.5)],\n",
       " [('O-glycosyl compounds', 0.5),\n",
       "  ('1,2-aminoalcohols', 0.5),\n",
       "  ('Trialkylamines', 0.5),\n",
       "  ('Dialkylamines', 0.5)],\n",
       " [None],\n",
       " [None],\n",
       " [None],\n",
       " [None],\n",
       " [None],\n",
       " [('Alkaloids', 0.5), ('Amino acids and Peptides', 0.5)],\n",
       " [('Amino acid glycosides', 0.5)],\n",
       " [('Cyanogenic glycosides', 0.5)]]"
      ]
     },
     "execution_count": 12,
     "metadata": {},
     "output_type": "execute_result"
    }
   ],
   "source": [
    "compi_classes['3773']"
   ]
  },
  {
   "cell_type": "markdown",
   "id": "labeled-technician",
   "metadata": {},
   "source": [
    "## Find some known links (staurosporine...) and compare classes\n",
    "Not completely sure but from other notebook this seems to be one of the staurosporine GCFs:\n",
    "\n",
    "Results for object: GCF(id=504, class=Others, gcf_id=3327, strains=3), 34 total links, 1 methods used\n",
    "  --> [metcalf] Spectrum(id=1707, spectrum_id=27268, strains=1) | 3.8730 | shared strains = 1"
   ]
  },
  {
   "cell_type": "code",
   "execution_count": 13,
   "id": "statewide-stamp",
   "metadata": {},
   "outputs": [
    {
     "data": {
      "text/plain": [
       "('Others',\n",
       " [BGC(id=2716, name=AREQ01000000_KB892473.1.cluster040, strain=Strain(Salinispora arenicola CNT849) [28 aliases], asid=KB892480.1, region=-1),\n",
       "  BGC(id=2719, name=ARGY01000000_KB896072.1.cluster017, strain=Strain(Salinispora arenicola CNP193) [7 aliases], asid=KB896077.1, region=-1),\n",
       "  BGC(id=2738, name=AZWU01000000_KI911490.1.cluster011, strain=Strain(Salinispora arenicola CNT005) [32 aliases], asid=KI911493.1, region=-1)])"
      ]
     },
     "execution_count": 13,
     "metadata": {},
     "output_type": "execute_result"
    }
   ],
   "source": [
    "cur_gcf = npl.gcfs[504]\n",
    "cur_bgcs = [bgc for bgc in cur_gcf.bgcs if bgc.strain in cur_gcf.strains]\n",
    "cur_gcf.bigscape_class, cur_bgcs"
   ]
  },
  {
   "cell_type": "code",
   "execution_count": 14,
   "id": "basic-ecology",
   "metadata": {},
   "outputs": [
    {
     "data": {
      "text/plain": [
       "(Spectrum(id=1707, spectrum_id=27268, strains=1),\n",
       " 27268,\n",
       " [[('Organic compounds', 1.0)],\n",
       "  [('Lipids and lipid-like molecules', 0.411),\n",
       "   ('Benzenoids', 0.878),\n",
       "   ('Hydrocarbon derivatives', 1.0),\n",
       "   ('Organic oxygen compounds', 1.0)],\n",
       "  [('Prenol lipids', 0.613), ('Organooxygen compounds', 0.998)],\n",
       "  [None],\n",
       "  [None],\n",
       "  [None],\n",
       "  [None],\n",
       "  [None],\n",
       "  [None],\n",
       "  [None],\n",
       "  [None],\n",
       "  [('Terpenoids', 0.884)],\n",
       "  [('Meroterpenoids', 0.625)]])"
      ]
     },
     "execution_count": 14,
     "metadata": {},
     "output_type": "execute_result"
    }
   ],
   "source": [
    "cur_spec = npl.spectra[1707]\n",
    "cur_spec_id = cur_spec.spectrum_id\n",
    "\n",
    "cur_spec, cur_spec_id, ci_classes[str(cur_spec_id)]"
   ]
  },
  {
   "cell_type": "code",
   "execution_count": 15,
   "id": "devoted-consciousness",
   "metadata": {},
   "outputs": [
    {
     "data": {
      "text/plain": [
       "'indole'"
      ]
     },
     "execution_count": 15,
     "metadata": {},
     "output_type": "execute_result"
    }
   ],
   "source": [
    "cur_bgcs[0].product_prediction"
   ]
  }
 ],
 "metadata": {
  "kernelspec": {
   "display_name": "Python 3",
   "language": "python",
   "name": "python3"
  },
  "language_info": {
   "codemirror_mode": {
    "name": "ipython",
    "version": 3
   },
   "file_extension": ".py",
   "mimetype": "text/x-python",
   "name": "python",
   "nbconvert_exporter": "python",
   "pygments_lexer": "ipython3",
   "version": "3.7.2"
  }
 },
 "nbformat": 4,
 "nbformat_minor": 5
}
