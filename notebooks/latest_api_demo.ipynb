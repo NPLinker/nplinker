{
 "cells": [
  {
   "cell_type": "code",
   "execution_count": null,
   "metadata": {},
   "outputs": [],
   "source": [
    "import sys\n",
    "from nplinker.nplinker import NPLinker\n",
    "%reload_ext autoreload\n",
    "%autoreload 2"
   ]
  },
  {
   "cell_type": "code",
   "execution_count": null,
   "metadata": {},
   "outputs": [],
   "source": [
    "npl = NPLinker('latest_api_demo.toml')\n",
    "if not npl.load_data():\n",
    "    raise Exception('Failed to load data')"
   ]
  },
  {
   "cell_type": "markdown",
   "metadata": {},
   "source": [
    "## Rosetta-stone linking (nplinker version)"
   ]
  },
  {
   "cell_type": "code",
   "execution_count": null,
   "metadata": {},
   "outputs": [],
   "source": [
    "from nplinker.scoring.rosetta import rosetta\n",
    "ro = rosetta.Rosetta(npl.data_dir, npl.root_dir, npl.dataset_id,ignore_genomic_cache = True)\n",
    "rhits = ro.run(npl.spectra, npl.bgcs)\n",
    "print('Rosetta hits: {}'.format(len(rhits)))"
   ]
  },
  {
   "cell_type": "code",
   "execution_count": null,
   "metadata": {},
   "outputs": [],
   "source": [
    "for r in rhits:\n",
    "    print(r)"
   ]
  },
  {
   "cell_type": "code",
   "execution_count": null,
   "metadata": {},
   "outputs": [],
   "source": [
    "k = list(ro.bgc_hits.keys())[0]\n",
    "summary_scores = ro.generate_bgc_summary_scores()\n",
    "for key,item_list in summary_scores.items():\n",
    "    for mib,score in item_list.items():\n",
    "        print(key,'\\t',mib,score)"
   ]
  },
  {
   "cell_type": "code",
   "execution_count": null,
   "metadata": {},
   "outputs": [],
   "source": [
    "kk = list(summary_scores.keys())\n",
    "temp = ro.bgc_hits[kk[-2]]['BGC0000644']\n",
    "tt = temp['individual_hits']\n",
    "print(tt)\n",
    "print(temp['all_mibig_genes'])\n",
    "print(temp['all_bgc_genes'])"
   ]
  },
  {
   "cell_type": "code",
   "execution_count": null,
   "metadata": {},
   "outputs": [],
   "source": [
    "import csv\n",
    "spec_hits = ro.spec_hits\n",
    "# Write this out as a .tsv file to test the DB loading\n",
    "with open('carnegie_rosetta_hits.tsv','w') as f:\n",
    "    writer = csv.writer(f,delimiter='\\t')\n",
    "    heads = ['#Scan#','GNPS_ID','Score']\n",
    "    writer.writerow(heads)\n",
    "    for spec,hits in spec_hits.items():\n",
    "        for hit in hits:\n",
    "            writer.writerow([spec.spectrum_id, hit[0], hit[1]])"
   ]
  },
  {
   "cell_type": "markdown",
   "metadata": {},
   "source": [
    "## Todo:\n",
    "\n",
    "- At the moment we get lots of hits per GNPS,MiBIG pair because they are in lots of BGCs\n",
    "- We also should percolate the scores (both of the spectral match and the knownclusterblast) to the output\n",
    "- Parameterise (at least) two parameters in the spectral matching: score threshold and ms1_tol. At the moment, MS1_tol will only find things with near identical MS1 m/z, which precludes analogues.\n",
    "- The code for getting the knownclusterblast name and parsing the knownclusterblast file is horrific... :-)"
   ]
  }
 ],
 "metadata": {
  "kernelspec": {
   "display_name": "Python 3",
   "language": "python",
   "name": "python3"
  },
  "language_info": {
   "codemirror_mode": {
    "name": "ipython",
    "version": 3
   },
   "file_extension": ".py",
   "mimetype": "text/x-python",
   "name": "python",
   "nbconvert_exporter": "python",
   "pygments_lexer": "ipython3",
   "version": "3.7.4"
  },
  "varInspector": {
   "cols": {
    "lenName": 16,
    "lenType": 16,
    "lenVar": 40
   },
   "kernels_config": {
    "python": {
     "delete_cmd_postfix": "",
     "delete_cmd_prefix": "del ",
     "library": "var_list.py",
     "varRefreshCmd": "print(var_dic_list())"
    },
    "r": {
     "delete_cmd_postfix": ") ",
     "delete_cmd_prefix": "rm(",
     "library": "var_list.r",
     "varRefreshCmd": "cat(var_dic_list()) "
    }
   },
   "types_to_exclude": [
    "module",
    "function",
    "builtin_function_or_method",
    "instance",
    "_Feature"
   ],
   "window_display": false
  }
 },
 "nbformat": 4,
 "nbformat_minor": 2
}
