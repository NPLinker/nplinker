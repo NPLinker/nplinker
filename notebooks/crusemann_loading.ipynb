{
 "cells": [
  {
   "cell_type": "code",
   "execution_count": null,
   "metadata": {},
   "outputs": [],
   "source": [
    "import sys\n",
    "from nplinker.nplinker import NPLinker\n",
    "from nplinker.layout import create_genomics_graph\n",
    "%reload_ext autoreload\n",
    "%autoreload 2"
   ]
  },
  {
   "cell_type": "code",
   "execution_count": null,
   "metadata": {},
   "outputs": [],
   "source": [
    "npl = NPLinker('latest_api_demo_cru.toml')\n",
    "npl.load_data()\n",
    "npl.process_dataset()"
   ]
  },
  {
   "cell_type": "code",
   "execution_count": null,
   "metadata": {},
   "outputs": [],
   "source": [
    "gpoints, gedges = create_genomics_graph(npl.bgcs, width=22, mibig=True, split_mibig=False)\n",
    "# this produces 4300 nodes and 89136 edges for me!\n",
    "node_edge_counts = {}\n",
    "for i in range(len(gedges['start'])):\n",
    "    if gedges['start'][i] not in node_edge_counts:\n",
    "        node_edge_counts[gedges['start'][i]] = 1\n",
    "    else:\n",
    "        node_edge_counts[gedges['start'][i]] += 1\n",
    "        \n",
    "for bgcid, ec in node_edge_counts.items():\n",
    "    print('ID={}, {}, graph edges={}, object edges={}'.format(bgcid, npl.bgcs[bgcid], ec, len(npl.bgcs[bgcid].edges)))"
   ]
  },
  {
   "cell_type": "code",
   "execution_count": null,
   "metadata": {},
   "outputs": [],
   "source": []
  }
 ],
 "metadata": {
  "kernelspec": {
   "display_name": "Python 3",
   "language": "python",
   "name": "python3"
  },
  "language_info": {
   "codemirror_mode": {
    "name": "ipython",
    "version": 3
   },
   "file_extension": ".py",
   "mimetype": "text/x-python",
   "name": "python",
   "nbconvert_exporter": "python",
   "pygments_lexer": "ipython3",
   "version": "3.8.0"
  }
 },
 "nbformat": 4,
 "nbformat_minor": 2
}
