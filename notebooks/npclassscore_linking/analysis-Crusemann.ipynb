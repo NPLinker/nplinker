{
 "cells": [
  {
   "cell_type": "markdown",
   "id": "complex-henry",
   "metadata": {},
   "source": [
    "## Summary\n",
    "In this notebook, the Crüsemann data is analysed for the NPClassScore paper.\n",
    "\n",
    "The newly developed implementation of NPClassScore is used in combination with Metcalf scoring to discover BGC-MS/MS spectrum links in the Crüsemann dataset. Validated links from the PoDP are used to validate the results.\n",
    "\n",
    "Sections:\n",
    "- Loading Crüsemann dataset\n",
    "- Scoring using the new NPClassScore method\n",
    "- Investigating NPClassScore cutoff\n",
    "- Counting number of links\n",
    "- Making plots showing the filtered links\n",
    "- Investigate known links\n",
    "- Check MNE coverage over MFs and compare to CANOPUS\n",
    "- Scoring Spectra to GCF"
   ]
  },
  {
   "cell_type": "markdown",
   "id": "composite-flour",
   "metadata": {},
   "source": [
    "## Loading Crüsemann dataset"
   ]
  },
  {
   "cell_type": "code",
   "execution_count": 205,
   "id": "productive-constitution",
   "metadata": {},
   "outputs": [],
   "source": [
    "import sys, csv, os\n",
    "# if running from clone of the git repo\n",
    "sys.path.append('../../prototype')\n",
    "\n",
    "# import the main NPLinker class. normally this all that's required to work\n",
    "# with NPLinker in a notebook environment\n",
    "import numpy as np\n",
    "import pandas as pd\n",
    "import matplotlib.pyplot as plt\n",
    "from nplinker.nplinker import NPLinker\n",
    "from nplinker.nplinker import Spectrum\n",
    "from collections import Counter, defaultdict"
   ]
  },
  {
   "cell_type": "code",
   "execution_count": 4,
   "id": "friendly-point",
   "metadata": {
    "scrolled": true
   },
   "outputs": [
    {
     "name": "stdout",
     "output_type": "stream",
     "text": [
      "15:05:15 [INFO] config.py:121, Loading from local data in directory /mnt/scratch/louwe015/NPLinker/own/nplinker_shared/crusemann_3ids_AS6-AS3_30-11/\n",
      "15:05:15 [WARNING] loader.py:50, WARNING: unable to find extra_nodes_file in path \"/mnt/scratch/louwe015/NPLinker/own/nplinker_shared/crusemann_3ids_AS6-AS3_30-11/quantification_table_reformatted/*.csv\"\n",
      "15:05:15 [WARNING] loader.py:50, WARNING: unable to find metadata_table_file in path \"/mnt/scratch/louwe015/NPLinker/own/nplinker_shared/crusemann_3ids_AS6-AS3_30-11/metadata_table/metadata_table*.txt\"\n",
      "15:05:15 [WARNING] loader.py:50, WARNING: unable to find quantification_table_file in path \"/mnt/scratch/louwe015/NPLinker/own/nplinker_shared/crusemann_3ids_AS6-AS3_30-11/quantification_table/quantification_table*.csv\"\n",
      "15:05:15 [INFO] loader.py:84, Trying to discover correct bigscape directory under /mnt/scratch/louwe015/NPLinker/own/nplinker_shared/crusemann_3ids_AS6-AS3_30-11/bigscape\n",
      "15:05:15 [INFO] loader.py:87, Found network files directory: /mnt/scratch/louwe015/NPLinker/own/nplinker_shared/crusemann_3ids_AS6-AS3_30-11/bigscape/network_files/2021-12-02_16-48-06_hybrids_glocal\n",
      "15:05:15 [INFO] loader.py:226, Updating bigscape_dir to discovered location /mnt/scratch/louwe015/NPLinker/own/nplinker_shared/crusemann_3ids_AS6-AS3_30-11/bigscape/network_files/2021-12-02_16-48-06_hybrids_glocal\n",
      "15:05:15 [INFO] loader.py:648, Loaded global strain IDs (0 total)\n",
      "15:05:15 [INFO] loader.py:659, Loaded dataset strain IDs (159 total)\n",
      "15:05:21 [INFO] metabolomics.py:699, 13667 molecules parsed from MGF file\n",
      "15:05:23 [INFO] metabolomics.py:716, Found older-style GNPS dataset, no quantification table\n",
      "15:05:23 [WARNING] metabolomics.py:516, Unknown strain: 37c.mzXML for cluster index 63\n",
      "15:05:23 [WARNING] metabolomics.py:516, Unknown strain: 32c.mzXML for cluster index 110\n",
      "15:05:23 [WARNING] metabolomics.py:516, Unknown strain: 32b.mzXML for cluster index 110\n",
      "15:05:23 [WARNING] metabolomics.py:516, Unknown strain: 36c.mzXML for cluster index 110\n",
      "15:05:23 [WARNING] metabolomics.py:516, Unknown strain: 28b.mzXML for cluster index 118\n",
      "15:05:23 [WARNING] metabolomics.py:516, Unknown strain: 40a.mzXML for cluster index 142\n",
      "15:05:23 [WARNING] metabolomics.py:516, Unknown strain: 40b.mzXML for cluster index 142\n",
      "15:05:23 [WARNING] metabolomics.py:516, Unknown strain: 28a.mzXML for cluster index 143\n",
      "15:05:23 [WARNING] metabolomics.py:516, Unknown strain: R551-3-Me.mzXML for cluster index 227\n",
      "15:05:23 [WARNING] metabolomics.py:516, Unknown strain: neg-3-EA.mzXML for cluster index 227\n",
      "15:05:23 [WARNING] metabolomics.py:516, Unknown strain: -ve_R5_B.mzXML for cluster index 378\n",
      "15:05:23 [WARNING] metabolomics.py:516, Unknown strain: CNY228_MS_E.mzXML for cluster index 419\n",
      "15:05:23 [WARNING] metabolomics.py:516, Unknown strain: -ve_R5_M.mzXML for cluster index 441\n",
      "15:05:23 [WARNING] metabolomics.py:516, Unknown strain: S.gris_MS_M.mzXML for cluster index 448\n",
      "15:05:23 [WARNING] metabolomics.py:516, Unknown strain: -ve_MS_E.mzXML for cluster index 486\n",
      "15:05:23 [WARNING] metabolomics.py:516, Unknown strain: Y254-3-Me.mzXML for cluster index 906\n",
      "15:05:23 [WARNING] metabolomics.py:516, Unknown strain: H721-3-Me.mzXML for cluster index 906\n",
      "15:05:23 [WARNING] metabolomics.py:516, Unknown strain: R416-3-Me.mzXML for cluster index 906\n",
      "15:05:23 [WARNING] metabolomics.py:516, Unknown strain: R551-3-EA.mzXML for cluster index 1183\n",
      "15:05:23 [WARNING] metabolomics.py:516, Unknown strain: H721-3-EA.mzXML for cluster index 1418\n",
      "15:05:23 [WARNING] metabolomics.py:516, Unknown strain: H721-3-Bu.mzXML for cluster index 3496\n",
      "15:05:23 [WARNING] metabolomics.py:516, Unknown strain: R551-3-Bu.mzXML for cluster index 5198\n",
      "15:05:23 [WARNING] metabolomics.py:516, Unknown strain: neg-3-Me.mzXML for cluster index 5360\n",
      "15:05:23 [WARNING] metabolomics.py:516, Unknown strain: neg-3-Bu.mzXML for cluster index 5369\n",
      "15:05:23 [WARNING] metabolomics.py:516, Unknown strain: R416-3-EA.mzXML for cluster index 5369\n",
      "15:05:23 [WARNING] metabolomics.py:516, Unknown strain: R416-3-Bu.mzXML for cluster index 5436\n",
      "15:05:23 [WARNING] metabolomics.py:516, Unknown strain: -ve_A1_B.mzXML for cluster index 5615\n",
      "15:05:23 [WARNING] metabolomics.py:516, Unknown strain: -ve_A1_M.mzXML for cluster index 5615\n",
      "15:05:23 [WARNING] metabolomics.py:516, Unknown strain: -ve_R5_E.mzXML for cluster index 6518\n",
      "15:05:23 [WARNING] metabolomics.py:516, Unknown strain: -ve_MS_B.mzXML for cluster index 8678\n",
      "15:05:23 [WARNING] metabolomics.py:516, Unknown strain: -ve_A1_E.mzXML for cluster index 9112\n",
      "15:05:23 [WARNING] metabolomics.py:516, Unknown strain: Y254-3-EA.mzXML for cluster index 30611\n",
      "15:05:23 [WARNING] metabolomics.py:516, Unknown strain: -ve_MS_M.mzXML for cluster index 44505\n",
      "15:05:23 [WARNING] metabolomics.py:516, Unknown strain: Y254-3-Bu.mzXML for cluster index 49548\n",
      "15:05:23 [WARNING] metabolomics.py:516, Unknown strain: 35c.mzXML for cluster index 56273\n",
      "15:05:23 [WARNING] metabolomics.py:516, Unknown strain: 37b.mzXML for cluster index 56273\n",
      "15:05:23 [WARNING] metabolomics.py:516, Unknown strain: 14a.mzXML for cluster index 95015\n",
      "15:05:23 [WARNING] metabolomics.py:516, Unknown strain: 21c.mzXML for cluster index 95015\n",
      "15:05:23 [WARNING] metabolomics.py:516, Unknown strain: 14b.mzXML for cluster index 95015\n",
      "15:05:23 [WARNING] metabolomics.py:516, Unknown strain: 6a.mzXML for cluster index 116381\n",
      "15:05:23 [WARNING] metabolomics.py:516, Unknown strain: 6b.mzXML for cluster index 116381\n",
      "15:05:24 [WARNING] metabolomics.py:516, Unknown strain: 1b.mzXML for cluster index 244653\n",
      "15:05:24 [WARNING] metabolomics.py:531, 42 unknown strains were detected a total of 3562 times\n",
      "15:05:25 [WARNING] loader.py:577, Writing unknown strains from METABOLOMICS data to /mnt/scratch/louwe015/NPLinker/own/nplinker_shared/crusemann_3ids_AS6-AS3_30-11/unknown_strains_met.csv\n",
      "15:05:25 [INFO] loader.py:584, Loading provided annotation files (/mnt/scratch/louwe015/NPLinker/own/nplinker_shared/crusemann_3ids_AS6-AS3_30-11/result_specnets_DB)\n",
      "15:05:47 [INFO] genomics.py:485, Found 1816 MiBIG json files\n",
      "15:05:57 [INFO] genomics.py:255, Using antiSMASH filename delimiters ['.', '_', '-']\n",
      "15:09:15 [INFO] genomics.py:392, # MiBIG BGCs = 0, non-MiBIG BGCS = 7685, total bgcs = 7685, GCFs = 1581, strains=1975\n",
      "15:09:15 [INFO] genomics.py:449, Filtering MiBIG BGCs: removing 0 GCFs and 0 BGCs\n",
      "15:09:15 [INFO] genomics.py:399, # after filtering, total bgcs = 5869, GCFs = 1581, strains=159, unknown_strains=0\n",
      "15:09:15 [WARNING] loader.py:565, Writing unknown strains from GENOMICS data to /mnt/scratch/louwe015/NPLinker/own/nplinker_shared/crusemann_3ids_AS6-AS3_30-11/unknown_strains_gen.csv\n",
      "15:09:15 [INFO] class_matches.py:44, Loaded MIBiG classes, and class matching tables\n",
      "15:09:15 [INFO] loader.py:623, Found CANOPUS dir, CANOPUS not run again!\n",
      "15:09:15 [INFO] chem_classes.py:191, reading canopus results for spectra from /mnt/scratch/louwe015/NPLinker/own/nplinker_shared/crusemann_3ids_AS6-AS3_30-11/canopus/cluster_index_classifications.txt\n",
      "15:09:17 [INFO] chem_classes.py:499, reading molnetenhancer results from /mnt/scratch/louwe015/NPLinker/own/nplinker_shared/crusemann_3ids_AS6-AS3_30-11/molnetenhancer\n",
      "15:09:17 [INFO] loader.py:357, Writing common strain labels to /mnt/scratch/louwe015/NPLinker/own/nplinker_shared/crusemann_3ids_AS6-AS3_30-11/common_strains.csv\n",
      "15:09:17 [INFO] loader.py:370, Strains filtered down to total of 154\n",
      "15:09:17 [INFO] loader.py:296, No further strain filtering to apply\n"
     ]
    },
    {
     "data": {
      "text/plain": [
       "True"
      ]
     },
     "execution_count": 4,
     "metadata": {},
     "output_type": "execute_result"
    }
   ],
   "source": [
    "# load local crusemann data\n",
    "npl = NPLinker({'dataset': {'root': '/mnt/scratch/louwe015/NPLinker/own/nplinker_shared/crusemann_3ids_AS6-AS3_30-11/'},\n",
    "                'docker': {'run_canopus': True}})\n",
    "npl.load_data()"
   ]
  },
  {
   "cell_type": "code",
   "execution_count": 6,
   "id": "victorian-possibility",
   "metadata": {},
   "outputs": [
    {
     "name": "stdout",
     "output_type": "stream",
     "text": [
      "{'loglevel': 'INFO', 'logfile': '', 'log_to_stdout': True, 'repro_file': '', 'dataset': {'root': '/mnt/scratch/louwe015/NPLinker/own/nplinker_shared/crusemann_3ids_AS6-AS3_30-11/', 'overrides': {}, 'platform_id': ''}, 'antismash': {'antismash_format': 'default', 'ignore_spaces': False}, 'docker': {'run_bigscape': True, 'extra_bigscape_parameters': '', 'run_canopus': True}, 'webapp': {'tables_metcalf_threshold': 2.0}, 'scoring': {'rosetta': {}}}\n",
      "../../prototype/nplinker/data\n",
      "\n",
      "/mnt/scratch/louwe015/NPLinker/own/nplinker_shared/crusemann_3ids_AS6-AS3_30-11/\n",
      "BGCs: 5869\n",
      "GCFs: 1581\n",
      "Spectra: 13667\n",
      "Molecular Families: 8346\n"
     ]
    }
   ],
   "source": [
    "# Basic functionality\n",
    "# ===================\n",
    "#\n",
    "# Once you have an NPLinker object with all data loaded, there are a collection of simple\n",
    "# methods and properties you can use to access objects and metadata. Some examples are \n",
    "# given below, see https://nplinker.readthedocs.io/en/latest/ for a complete API description.\n",
    "\n",
    "# configuration/dataset metadata\n",
    "# - a copy of the configuration as parsed from the .toml file (dict)\n",
    "print(npl.config) \n",
    "# - the path to the directory where various nplinker data files are located (e.g. the \n",
    "#   default configuration file template) (str)\n",
    "print(npl.data_dir)\n",
    "# - a dataset ID, derived from the path for local datasets or the paired platform ID\n",
    "#   for datasets loaded from that source (str)\n",
    "print(npl.dataset_id)\n",
    "# - the root directory for the current dataset (str)\n",
    "print(npl.root_dir)\n",
    "\n",
    "# objects\n",
    "# - you can directly access lists of each of the 4 object types:\n",
    "print('BGCs:', len(npl.bgcs))\n",
    "print('GCFs:', len(npl.gcfs)) # contains GCF objects\n",
    "print('Spectra:', len(npl.spectra)) # contains Spectrum objects\n",
    "print('Molecular Families:', len(npl.molfams)) # contains MolecularFamily objects"
   ]
  },
  {
   "cell_type": "markdown",
   "id": "decimal-andrews",
   "metadata": {},
   "source": [
    "## Scoring using the new NPClassScore method\n",
    "Use the scoring methods in NPLinker to find links with:\n",
    "- Metcalf scoring\n",
    "- Metcalf + NPClassScore scoring"
   ]
  },
  {
   "cell_type": "code",
   "execution_count": 7,
   "id": "forward-electric",
   "metadata": {},
   "outputs": [
    {
     "name": "stdout",
     "output_type": "stream",
     "text": [
      "15:10:10 [INFO] methods.py:459, MetcalfScoring.setup (bgcs=5869, gcfs=1581, spectra=13667, molfams=8346, strains=154)\n",
      "15:10:20 [INFO] methods.py:499, MetcalfScoring.setup completed\n",
      "Number of results: 1581\n"
     ]
    }
   ],
   "source": [
    "mc = npl.scoring_method('metcalf')\n",
    "\n",
    "# Now mc is an instance of the class that implements Metcalf scoring. Once\n",
    "# you have such an instance, you may change any of the parameters it exposes.\n",
    "# In the case of Metcalf scoring, the following parameters are currently exposed:\n",
    "# - cutoff (float): the scoring threshold. Links with scores less than this are excluded\n",
    "# - standardised (bool): set to True to use standardised scores (default), False for regular\n",
    "mc.cutoff = 2.5\n",
    "mc.standardised = True\n",
    "\n",
    "results = npl.get_links(npl.gcfs, mc, and_mode=True)\n",
    "\n",
    "# get_links returns an instance of a class called LinkCollection. This provides a wrapper\n",
    "# around the results of the scoring operation and has various useful properties/methods:\n",
    "#\n",
    "# - len(results) or .source_count will tell you how many of the input_objects were found to have links\n",
    "print('Number of results: {}'.format(len(results)))\n",
    "# - .sources is a list of those objects\n",
    "objects_with_links = results.sources\n",
    "# - .links is a dict with structure {input_object: {linked_object: ObjectLink}} \n",
    "objects_and_link_info = results.links\n",
    "# - .get_all_targets() will return a flat list of *all* the linked objects (for all sources)\n",
    "all_targets = results.get_all_targets() \n",
    "# - .methods is a list of the scoring methods passed to get_links\n",
    "methods = results.methods"
   ]
  },
  {
   "cell_type": "code",
   "execution_count": 219,
   "id": "shared-jerusalem",
   "metadata": {},
   "outputs": [
    {
     "name": "stdout",
     "output_type": "stream",
     "text": [
      "17:45:04 [INFO] methods.py:982, Running NPClassScore...\n",
      "17:45:04 [INFO] methods.py:996, Using Metcalf scoring to get shared strains\n",
      "17:46:00 [INFO] methods.py:1003, Calculating NPClassScore for 1581 objects to 13667 targets (1784369 pairwise interactions that share at least 1 strain). This might take a while.\n",
      "17:49:17 [INFO] methods.py:1052, NPClassScore completed in 252.9s\n",
      "Number of results for Metcalf and NPClassScore scoring: 1574\n",
      "{<nplinker.scoring.methods.MetcalfScoring object at 0x7f29f0f2f710>, <nplinker.scoring.methods.NPClassScoring object at 0x7f2901a58978>}\n"
     ]
    }
   ],
   "source": [
    "# Initialise NPClassScore scoring the same way\n",
    "# default method: 'mix' meaning use both CANOPUS and MolNetEnhancer with priority to CANOPUS\n",
    "npcl = npl.scoring_method('npclassscore')\n",
    "npcl.cutoff = 0.25\n",
    "\n",
    "# Now only links are kept that pass the cutoff for both methods\n",
    "results_both = npl.get_links(npl.gcfs, [mc, npcl], and_mode=True)\n",
    "\n",
    "print('Number of results for Metcalf and NPClassScore scoring: {}'.format(len(results_both)))\n",
    "print(results_both.methods)"
   ]
  },
  {
   "cell_type": "code",
   "execution_count": 17,
   "id": "informed-african",
   "metadata": {},
   "outputs": [
    {
     "name": "stdout",
     "output_type": "stream",
     "text": [
      "15:29:54 [INFO] methods.py:982, Running NPClassScore...\n",
      "15:29:55 [INFO] methods.py:996, Using Metcalf scoring to get shared strains\n",
      "15:31:40 [INFO] methods.py:1003, Calculating NPClassScore for 1581 objects to 13667 targets (1784369 pairwise interactions that share at least 1 strain). This might take a while.\n",
      "15:37:37 [INFO] methods.py:1052, NPClassScore completed in 462.6s\n",
      "Number of results for Metcalf and NPClassScore scoring: 1581\n",
      "{<nplinker.scoring.methods.MetcalfScoring object at 0x7f29f0f2f710>, <nplinker.scoring.methods.NPClassScoring object at 0x7f29442be9e8>}\n"
     ]
    }
   ],
   "source": [
    "# Also create an object with both Metcalf and NPClassScore with a cutoff of 0 to investigate proper cutoff\n",
    "npcl_0 = npl.scoring_method('npclassscore')\n",
    "npcl_0.cutoff = 0\n",
    "\n",
    "# Now only links are kept that pass the cutoff for both methods\n",
    "results_0 = npl.get_links(npl.gcfs, [mc, npcl_0], and_mode=True)\n",
    "\n",
    "print('Number of results for Metcalf and NPClassScore scoring: {}'.format(len(results_0)))\n",
    "print(results_0.methods)"
   ]
  },
  {
   "cell_type": "markdown",
   "id": "leading-rwanda",
   "metadata": {},
   "source": [
    "## Investigating NPClassScore cutoff\n",
    "We choose 0.25 as a cutoff as around this value there is a marked drop in the number of links per GCF."
   ]
  },
  {
   "cell_type": "code",
   "execution_count": 183,
   "id": "global-confusion",
   "metadata": {},
   "outputs": [],
   "source": [
    "# gradient of class linking score cutoff\n",
    "\n",
    "cs_cutoffs = [0.125, 0.25, 0.375, 0.5, 0.625, 0.75, 0.875]\n",
    "d_all_num_links = []\n",
    "d_all_num_filtered_links = {cut: [] for cut in cs_cutoffs}\n",
    "d_all_no_scores = []\n",
    "\n",
    "for gcf in npl.gcfs:\n",
    "    # filter out MF links\n",
    "    num_links = 0\n",
    "    if gcf in results.links:\n",
    "        num_links = len([link_data for link_data in results.get_sorted_links(mc, gcf)\n",
    "                         if isinstance(link_data.target, Spectrum)])\n",
    "\n",
    "    # init filtered links for each cutoff\n",
    "    num_filtered_links = [0 for _ in range(len(cs_cutoffs))]\n",
    "    for cs_cut in cs_cutoffs:\n",
    "        num_filtered_links = 0\n",
    "        if gcf in results_0.links:\n",
    "            num_filtered_links = len([link_data for link_data in results_0.get_sorted_links(mc, gcf)\n",
    "                                      if isinstance(link_data.target, Spectrum) and \n",
    "                                      float(npcl_0.format_data(link_data[npcl_0])) > cs_cut])\n",
    "        d_all_num_filtered_links[cs_cut].append(num_filtered_links)\n",
    "    d_all_num_links.append(num_links)\n",
    "#     all_num_filtered_links.append(num_filtered_links)"
   ]
  },
  {
   "cell_type": "code",
   "execution_count": 186,
   "id": "active-edwards",
   "metadata": {},
   "outputs": [
    {
     "name": "stdout",
     "output_type": "stream",
     "text": [
      "NPClassScore_cutoff\tNumber_of_links\tChange\n",
      "0\t549.85\n",
      "0.125\t332.96\t-0.39\n",
      "0.25\t177.00\t-0.68\n",
      "0.375\t149.46\t-0.73\n",
      "0.5\t115.89\t-0.79\n",
      "0.625\t105.10\t-0.81\n",
      "0.75\t64.19\t-0.88\n",
      "0.875\t23.13\t-0.96\n"
     ]
    }
   ],
   "source": [
    "print(f\"NPClassScore_cutoff\\tNumber_of_links\\tChange\")\n",
    "print(f\"0\\t{np.mean(d_all_num_links):.2f}\")\n",
    "for cs_cut, filt_links in d_all_num_filtered_links.items():\n",
    "    print(f\"{cs_cut}\\t{np.mean(filt_links):.2f}\\t{(np.mean(filt_links)-np.mean(d_all_num_links))/np.mean(d_all_num_links):.2f}\")"
   ]
  },
  {
   "cell_type": "markdown",
   "id": "excessive-robertson",
   "metadata": {},
   "source": [
    "## Counting number of links\n",
    "For each GCF count the number of links with and without NPClassScore filtering using the chosen cutoff of 0.25."
   ]
  },
  {
   "cell_type": "code",
   "execution_count": 179,
   "id": "pending-rescue",
   "metadata": {},
   "outputs": [
    {
     "data": {
      "text/plain": [
       "(549.8481973434535, 177.0)"
      ]
     },
     "execution_count": 179,
     "metadata": {},
     "output_type": "execute_result"
    }
   ],
   "source": [
    "# loop through all gcfs (objects) and count how many links exist (spectra)\n",
    "all_num_links = []\n",
    "all_num_filtered_links = []\n",
    "all_no_scores = []\n",
    "\n",
    "for gcf in npl.gcfs:\n",
    "    # filter out MF links\n",
    "    num_links = 0\n",
    "    if gcf in results.links:\n",
    "        num_links = len([link_data for link_data in results.get_sorted_links(mc, gcf)\n",
    "                         if isinstance(link_data.target, Spectrum)])\n",
    "    num_filtered_links = 0\n",
    "    if gcf in results_both.links:\n",
    "        num_filtered_links = len([link_data for link_data in results_both.get_sorted_links(mc, gcf)\n",
    "                                  if isinstance(link_data.target, Spectrum)])\n",
    "    all_num_links.append(num_links)\n",
    "    all_num_filtered_links.append(num_filtered_links)\n",
    "\n",
    "np.mean(all_num_links), np.mean(all_num_filtered_links)"
   ]
  },
  {
   "cell_type": "code",
   "execution_count": 111,
   "id": "tough-george",
   "metadata": {},
   "outputs": [
    {
     "data": {
      "text/plain": [
       "-0.6780929702867792"
      ]
     },
     "execution_count": 111,
     "metadata": {},
     "output_type": "execute_result"
    }
   ],
   "source": [
    "# change in average links per GCF\n",
    "(np.mean(all_num_filtered_links)-np.mean(all_num_links))/np.mean(all_num_links)"
   ]
  },
  {
   "cell_type": "markdown",
   "id": "combined-latin",
   "metadata": {},
   "source": [
    "## Making plots showing the filtered links"
   ]
  },
  {
   "cell_type": "code",
   "execution_count": 185,
   "id": "continent-rocket",
   "metadata": {},
   "outputs": [
    {
     "data": {
      "image/png": "[encoded data removed]",
      "text/plain": [
       "<Figure size 1008x576 with 1 Axes>"
      ]
     },
     "metadata": {
      "needs_background": "light"
     },
     "output_type": "display_data"
    }
   ],
   "source": [
    "sorted_filt_items = sorted(d_all_num_filtered_links.items())\n",
    "labels = [\"0\"] + [f\"{cut}\" for cut, vals in sorted_filt_items]\n",
    "xs = [d_all_num_links] + [vals for keys, vals in sorted_filt_items]\n",
    "lg_size = 14\n",
    "custom_xlim = (-1, 2607)\n",
    "links_title = \"Number of links per GCF\"\n",
    "\n",
    "fig, ax = plt.subplots(nrows=1, ncols=1, figsize=(14, 8))\n",
    "ax.boxplot(xs, labels=labels, flierprops={\"markersize\": 0.5}, medianprops={\"color\": \"black\"})\n",
    "plt.setp(ax, ylim=custom_xlim, xlabel=\"Cutoffs NPClassScore\", ylabel=links_title)\n",
    "figout = \"/home/louwe015/NPLinker/boxplot_cutoffs_npclass_mix_can-mne_figure.svg\"\n",
    "plt.savefig(figout)"
   ]
  },
  {
   "cell_type": "code",
   "execution_count": 173,
   "id": "greatest-brand",
   "metadata": {},
   "outputs": [
    {
     "name": "stdout",
     "output_type": "stream",
     "text": [
      "Use MNE when there is no CANOPUS prediction\n"
     ]
    },
    {
     "data": {
      "image/png": "[encoded data removed]",
      "text/plain": [
       "<Figure size 504x432 with 1 Axes>"
      ]
     },
     "metadata": {
      "needs_background": "light"
     },
     "output_type": "display_data"
    }
   ],
   "source": [
    "print(\"Use MNE when there is no CANOPUS prediction\")\n",
    "labels = [\"Links\", \"Filtered links\"]\n",
    "colours = [\"#003f5c\", \"#bc5090\", \"#ffa600\"]\n",
    "xs = [all_num_links, all_num_filtered_links]\n",
    "lg_size = 14\n",
    "custom_xlim = (-1, 2500)\n",
    "bin_size = 25\n",
    "n_bins = np.arange(0, 2500, bin_size)\n",
    "links_title = \"Number of links per GCF\"\n",
    "count_title = \"GCF counts\"\n",
    "hist_type = \"stepfilled\"\n",
    "alpha = 0.75\n",
    "\n",
    "SMALL_SIZE = 12\n",
    "MEDIUM_SIZE = 16\n",
    "BIGGER_SIZE = 18\n",
    "\n",
    "plt.rc('font', size=MEDIUM_SIZE)          # controls default text sizes\n",
    "plt.rc('axes', titlesize=MEDIUM_SIZE)     # fontsize of the axes title\n",
    "plt.rc('axes', labelsize=MEDIUM_SIZE)    # fontsize of the x and y labels\n",
    "plt.rc('xtick', labelsize=SMALL_SIZE)    # fontsize of the tick labels\n",
    "plt.rc('ytick', labelsize=SMALL_SIZE)    # fontsize of the tick labels\n",
    "plt.rc('legend', fontsize=SMALL_SIZE)    # legend fontsize\n",
    "# plt.rc('figure', titlesize=BIGGER_SIZE)  # fontsize of the figure title\n",
    "\n",
    "fig, ax0 = plt.subplots(nrows=1, ncols=1, figsize=(7, 6))\n",
    "ax0.hist(xs[:2], bins=n_bins, density=False, histtype=hist_type, stacked=False, label=labels[:2],\n",
    "         color=colours[:2], alpha=alpha)\n",
    "ax0.legend(prop={'size': lg_size})\n",
    "plt.setp(ax0, xlim=custom_xlim, xlabel=links_title, ylabel=count_title)\n",
    "figout = \"/home/louwe015/NPLinker/filtered_links_mix_can-mne_figure_new.svg\"\n",
    "plt.savefig(figout)"
   ]
  },
  {
   "cell_type": "markdown",
   "id": "mental-custody",
   "metadata": {},
   "source": [
    "## Investigate known links"
   ]
  },
  {
   "cell_type": "markdown",
   "id": "overhead-philip",
   "metadata": {},
   "source": [
    "### Staurosporine"
   ]
  },
  {
   "cell_type": "code",
   "execution_count": 206,
   "id": "original-moldova",
   "metadata": {},
   "outputs": [
    {
     "name": "stdout",
     "output_type": "stream",
     "text": [
      "26\n",
      "{GCF(id=378, class=Others, gcf_id=5342, strains=13), GCF(id=587, class=Others, gcf_id=1275, strains=16), GCF(id=534, class=Others, gcf_id=511, strains=54), GCF(id=671, class=Others, gcf_id=2205, strains=1)} 4\n"
     ]
    }
   ],
   "source": [
    "# Find the right GCF by seeing if this mibig occurs in the knownclusterblast results\n",
    "key = 'bgc0000827'\n",
    "result_bgcs = defaultdict(list)\n",
    "interest_lines = []\n",
    "for bgc in npl.bgcs:\n",
    "    as_file = bgc.antismash_file\n",
    "    with open(as_file) as inf:\n",
    "        for x in range(1000):\n",
    "            line = inf.readline().lower()\n",
    "            if key in line:\n",
    "                result_bgcs[bgc].append(line.strip())\n",
    "print(len(result_bgcs))\n",
    "result_gcfs = set([parent for bgc in result_bgcs for parent in bgc.parents])\n",
    "print(result_gcfs, len(result_gcfs))"
   ]
  },
  {
   "cell_type": "code",
   "execution_count": 207,
   "id": "signed-accreditation",
   "metadata": {},
   "outputs": [
    {
     "data": {
      "text/plain": [
       "(GCF(id=534, class=Others, gcf_id=511, strains=54),\n",
       " {BGC(id=1746, name=2515154186_c00001_B103DRA...cluster023, strain=Strain(Salinispora arenicola CNT798) [4 aliases], asid=c00007_B103DRA.., region=-1),\n",
       "  BGC(id=1747, name=34967.assembled_unknown.cluster033, strain=Strain(Salinispora arenicola CNH643) [4 aliases], asid=unknown_6, region=-1),\n",
       "  BGC(id=1748, name=34969.assembled_unknown.cluster037, strain=Strain(Salinispora arenicola CNQ884) [4 aliases], asid=unknown_15, region=-1),\n",
       "  BGC(id=1749, name=35121.assembled_unknown.cluster028, strain=Strain(Salinispora arenicola CNY281) [4 aliases], asid=unknown_7, region=-1),\n",
       "  BGC(id=1750, name=35123.assembled_unknown.cluster032, strain=Strain(Salinispora arenicola CNH718) [4 aliases], asid=unknown_4, region=-1),\n",
       "  BGC(id=1751, name=35125.assembled_unknown.cluster031, strain=Strain(Salinispora arenicola CNY486) [4 aliases], asid=unknown_6, region=-1),\n",
       "  BGC(id=1752, name=35128.assembled_unknown.cluster003, strain=Strain(Salinispora arenicola CNY244) [4 aliases], asid=unknown, region=-1),\n",
       "  BGC(id=1753, name=35129.assembled_unknown.cluster011, strain=Strain(Salinispora arenicola CNY690) [4 aliases], asid=unknown_2, region=-1),\n",
       "  BGC(id=1754, name=35131.assembled_unknown.cluster029, strain=Strain(Salinispora arenicola CNY679) [4 aliases], asid=unknown_6, region=-1),\n",
       "  BGC(id=1755, name=35132.assembled_unknown.cluster032, strain=Strain(Salinispora arenicola CNY694) [4 aliases], asid=unknown_13, region=-1),\n",
       "  BGC(id=1756, name=35133.assembled_unknown.cluster029, strain=Strain(Salinispora arenicola CNY230) [4 aliases], asid=unknown_6, region=-1),\n",
       "  BGC(id=1757, name=35845.assembled_unknown.cluster022, strain=Strain(Salinispora arenicola CNY685) [4 aliases], asid=unknown_5, region=-1),\n",
       "  BGC(id=1758, name=36410.assembled_unknown.cluster035, strain=Strain(Salinispora arenicola CNS296) [4 aliases], asid=unknown_6, region=-1),\n",
       "  BGC(id=1759, name=36417.assembled_unknown.cluster034, strain=Strain(Salinispora arenicola CNS820) [4 aliases], asid=unknown_5, region=-1),\n",
       "  BGC(id=1760, name=37236.assembled_unknown.cluster046, strain=Strain(Salinispora arenicola CNH713) [4 aliases], asid=unknown_7, region=-1),\n",
       "  BGC(id=1761, name=37242.assembled_unknown.cluster031, strain=Strain(Salinispora arenicola CNS325) [4 aliases], asid=unknown_6, region=-1),\n",
       "  BGC(id=1762, name=37324.assembled_unknown.cluster033, strain=Strain(Salinispora arenicola CNS342) [4 aliases], asid=unknown_6, region=-1),\n",
       "  BGC(id=1763, name=38495.assembled_unknown.cluster025, strain=Strain(Salinispora arenicola CNS848) [4 aliases], asid=unknown_5, region=-1),\n",
       "  BGC(id=1764, name=ARHG01000000_KB896697.1.cluster042, strain=Strain(Salinispora arenicola CNY260) [4 aliases], asid=KB896707.1, region=-1),\n",
       "  BGC(id=1765, name=ARKV01000000_KB905198.1.cluster027, strain=Strain(Salinispora arenicola CNY282) [4 aliases], asid=KB905205.1, region=-1),\n",
       "  BGC(id=1766, name=NC_009953.1.region013, strain=Strain(Salinispora arenicola CNS205) [10 aliases], asid=NC_009953.1, region=13),\n",
       "  BGC(id=1767, name=NZ_AUKM01000010.region001, strain=Strain(Salinispora arenicola CNS299) [35 aliases], asid=NZ_AUKM01000010, region=1),\n",
       "  BGC(id=1768, name=NZ_AXVS01000009.region001, strain=Strain(Salinispora arenicola CNR425) [32 aliases], asid=NZ_AXVS01000009, region=1),\n",
       "  BGC(id=1769, name=NZ_AZVD01000016.region001, strain=Strain(Salinispora arenicola CNT799) [33 aliases], asid=NZ_AZVD01000016, region=1),\n",
       "  BGC(id=1770, name=NZ_AZWD01000005.region002, strain=Strain(Salinispora arenicola CNX482) [31 aliases], asid=NZ_AZWD01000005, region=2),\n",
       "  BGC(id=1771, name=NZ_AZWH01000010.region001, strain=Strain(Salinispora arenicola CNH646) [28 aliases], asid=NZ_AZWH01000010, region=1),\n",
       "  BGC(id=1772, name=NZ_AZWT01000005.region001, strain=Strain(Salinispora arenicola CNX508) [30 aliases], asid=NZ_AZWT01000005, region=1),\n",
       "  BGC(id=1773, name=NZ_AZWW01000008.region002, strain=Strain(Salinispora arenicola CNX891) [29 aliases], asid=NZ_AZWW01000008, region=2),\n",
       "  BGC(id=1774, name=NZ_AZWX01000013.region001, strain=Strain(Salinispora arenicola CNT857) [30 aliases], asid=NZ_AZWX01000013, region=1),\n",
       "  BGC(id=1775, name=NZ_AZWY01000011.region001, strain=Strain(Salinispora arenicola CNQ748) [37 aliases], asid=NZ_AZWY01000011, region=1),\n",
       "  BGC(id=1776, name=NZ_AZXB01000009.region001, strain=Strain(Salinispora arenicola CNH905) [33 aliases], asid=NZ_AZXB01000009, region=1),\n",
       "  BGC(id=1777, name=NZ_AZXI01000003.region001, strain=Strain(Salinispora arenicola CNB527) [37 aliases], asid=NZ_AZXI01000003, region=1),\n",
       "  BGC(id=1778, name=NZ_KB892480.1.region001, strain=Strain(Salinispora arenicola CNT849) [31 aliases], asid=NZ_KB892480.1, region=1),\n",
       "  BGC(id=1779, name=NZ_KB892529.1.region001, strain=Strain(Salinispora arenicola CNS673) [31 aliases], asid=NZ_KB892529.1, region=1),\n",
       "  BGC(id=1780, name=NZ_KB895914.1.region001, strain=Strain(Salinispora arenicola CNS051) [29 aliases], asid=NZ_KB895914.1, region=1),\n",
       "  BGC(id=1781, name=NZ_KB896010.1.region001, strain=Strain(Salinispora arenicola CNP105) [33 aliases], asid=NZ_KB896010.1, region=1),\n",
       "  BGC(id=1782, name=NZ_KB896077.1.region001, strain=Strain(Salinispora arenicola CNP193) [33 aliases], asid=NZ_KB896077.1, region=1),\n",
       "  BGC(id=1783, name=NZ_KB896156.1.region001, strain=Strain(Salinispora arenicola CNS744) [27 aliases], asid=NZ_KB896156.1, region=1),\n",
       "  BGC(id=1784, name=NZ_KB896243.1.region002, strain=Strain(Salinispora arenicola CNX481) [29 aliases], asid=NZ_KB896243.1, region=2),\n",
       "  BGC(id=1785, name=NZ_KB896318.1.region002, strain=Strain(Salinispora arenicola CNX814) [28 aliases], asid=NZ_KB896318.1, region=2),\n",
       "  BGC(id=1786, name=NZ_KB896383.1.region001, strain=Strain(Salinispora arenicola CNY011) [34 aliases], asid=NZ_KB896383.1, region=1),\n",
       "  BGC(id=1787, name=NZ_KB896464.1.region001, strain=Strain(Salinispora arenicola CNY231) [27 aliases], asid=NZ_KB896464.1, region=1),\n",
       "  BGC(id=1788, name=NZ_KB896538.1.region001, strain=Strain(Salinispora arenicola CNY256) [26 aliases], asid=NZ_KB896538.1, region=1),\n",
       "  BGC(id=1789, name=NZ_KB896608.1.region001, strain=Strain(Salinispora arenicola CNY280) [30 aliases], asid=NZ_KB896608.1, region=1),\n",
       "  BGC(id=1790, name=NZ_KB896942.1.region002, strain=Strain(Salinispora arenicola CNY237) [26 aliases], asid=NZ_KB896942.1, region=2),\n",
       "  BGC(id=1791, name=NZ_KB898416.1.region001, strain=Strain(Salinispora arenicola CNT859) [33 aliases], asid=NZ_KB898416.1, region=1),\n",
       "  BGC(id=1792, name=NZ_KB900145.1.region001, strain=Strain(Salinispora arenicola CNH877) [37 aliases], asid=NZ_KB900145.1, region=1),\n",
       "  BGC(id=1793, name=NZ_KB900237.1.region001, strain=Strain(Salinispora arenicola CNH962) [30 aliases], asid=NZ_KB900237.1, region=1),\n",
       "  BGC(id=1794, name=NZ_KB900325.1.region001, strain=Strain(Salinispora arenicola CNR107) [23 aliases], asid=NZ_KB900325.1, region=1),\n",
       "  BGC(id=1795, name=NZ_KB905505.1.region001, strain=Strain(Salinispora arenicola CNY234) [32 aliases], asid=NZ_KB905505.1, region=1),\n",
       "  BGC(id=1796, name=NZ_KB913036.1.region005, strain=Strain(Salinispora arenicola CNS991) [8 aliases], asid=NZ_KB913036.1, region=5),\n",
       "  BGC(id=1797, name=NZ_KI911432.1.region004, strain=Strain(Salinispora arenicola CNR921) [21 aliases], asid=NZ_KI911432.1, region=4),\n",
       "  BGC(id=1798, name=NZ_KI911445.1.region001, strain=Strain(Salinispora arenicola CNB458) [32 aliases], asid=NZ_KI911445.1, region=1),\n",
       "  BGC(id=1799, name=NZ_KI911493.1.region001, strain=Strain(Salinispora arenicola CNT005) [34 aliases], asid=NZ_KI911493.1, region=1)})"
      ]
     },
     "execution_count": 207,
     "metadata": {},
     "output_type": "execute_result"
    }
   ],
   "source": [
    "result_gcf = [gcf for gcf in npl.gcfs if gcf.id == 534][0]\n",
    "result_gcf, result_gcf.bgcs"
   ]
  },
  {
   "cell_type": "code",
   "execution_count": 220,
   "id": "going-accident",
   "metadata": {},
   "outputs": [
    {
     "name": "stdout",
     "output_type": "stream",
     "text": [
      "Results for object: GCF(id=534, class=Others, gcf_id=511, strains=54), 21 total links, 1 methods used\n",
      "Rank above cutoff (original rank)\n",
      "ObjectLink(source=GCF(id=534, class=Others, gcf_id=511, strains=54), target=Spectrum(id=3632, spectrum_id=89513, strains=67), #methods=2)\n"
     ]
    },
    {
     "ename": "NameError",
     "evalue": "name 'npcl_both' is not defined",
     "output_type": "error",
     "traceback": [
      "\u001b[0;31m---------------------------------------------------------------------------\u001b[0m",
      "\u001b[0;31mNameError\u001b[0m                                 Traceback (most recent call last)",
      "\u001b[0;32m<ipython-input-220-de73b95a5e3b>\u001b[0m in \u001b[0;36m<module>\u001b[0;34m\u001b[0m\n\u001b[1;32m     13\u001b[0m         \u001b[0mi\u001b[0m \u001b[0;34m+=\u001b[0m \u001b[0;36m1\u001b[0m\u001b[0;34m\u001b[0m\u001b[0;34m\u001b[0m\u001b[0m\n\u001b[1;32m     14\u001b[0m         \u001b[0mprint\u001b[0m\u001b[0;34m(\u001b[0m\u001b[0mlink_data\u001b[0m\u001b[0;34m)\u001b[0m\u001b[0;34m\u001b[0m\u001b[0;34m\u001b[0m\u001b[0m\n\u001b[0;32m---> 15\u001b[0;31m         \u001b[0mcl_score\u001b[0m \u001b[0;34m=\u001b[0m \u001b[0mlink_data\u001b[0m\u001b[0;34m[\u001b[0m\u001b[0mnpcl_both\u001b[0m\u001b[0;34m]\u001b[0m\u001b[0;34m\u001b[0m\u001b[0;34m\u001b[0m\u001b[0m\n\u001b[0m\u001b[1;32m     16\u001b[0m         \u001b[0;31m#float(npcl_0.format_data(link_data[npcl_0])) > cs_cut\u001b[0m\u001b[0;34m\u001b[0m\u001b[0;34m\u001b[0m\u001b[0;34m\u001b[0m\u001b[0m\n\u001b[1;32m     17\u001b[0m         \u001b[0mpref\u001b[0m \u001b[0;34m=\u001b[0m \u001b[0;34m'x.'\u001b[0m\u001b[0;34m\u001b[0m\u001b[0;34m\u001b[0m\u001b[0m\n",
      "\u001b[0;31mNameError\u001b[0m: name 'npcl_both' is not defined"
     ]
    }
   ],
   "source": [
    "cutoff = 0.25\n",
    "result_links = results_both.get_sorted_links(mc, result_gcf)\n",
    "result_links_ori = results.get_sorted_links(mc, result_gcf)\n",
    "count = 0\n",
    "i = 0\n",
    "include_below_cutoff = False\n",
    "print('Results for object: {}, {} total links, {} methods used'.format(result_gcf, len(result_links), results.method_count))\n",
    "print(\"Rank above cutoff (original rank)\")\n",
    "for link_data in result_links:\n",
    "    if count == 10:\n",
    "        break\n",
    "    if isinstance(link_data.target, Spectrum):\n",
    "        i += 1\n",
    "        print(link_data)\n",
    "        cl_score = link_data[npcl_both]\n",
    "        #float(npcl_0.format_data(link_data[npcl_0])) > cs_cut\n",
    "        pref = 'x.'\n",
    "        if cl_score:\n",
    "            if cl_score[0][0] > cutoff:\n",
    "                count += 1\n",
    "                pref = f\"{count}.\"\n",
    "        if include_below_cutoff or not pref == 'x.':\n",
    "            print('{}({})\\t{}\\t{} = {}\\tshared strains = {}'.format(\n",
    "                pref,\n",
    "                i,\n",
    "                link_data.target,\n",
    "                ','.join(method.name for method in link_data.methods),\n",
    "                mc.format_data(link_data[mc]),\n",
    "                len(link_data.shared_strains)))\n",
    "            if cl_score:\n",
    "                print('NPClassScore:', cl_score[0])\n",
    "            if link_data.target.gnps_annotations:\n",
    "                print('Library match:', link_data.target.gnps_annotations.get(\"Compound_Name\"))\n",
    "            print('Precursor_mz:', link_data.target.precursor_mz)"
   ]
  },
  {
   "cell_type": "code",
   "execution_count": 295,
   "id": "informational-content",
   "metadata": {},
   "outputs": [
    {
     "name": "stdout",
     "output_type": "stream",
     "text": [
      "100 16\n"
     ]
    }
   ],
   "source": [
    "filtered_counts = 0\n",
    "metcalf_counts = 0\n",
    "for link_data in result_links:\n",
    "    if isinstance(link_data.target, Spectrum):\n",
    "        metcalf_counts += 1\n",
    "        cl_score = dev_score(npl, mne_res, result_gcf, link_data.target, 'mix')\n",
    "        if cl_score:\n",
    "            if cl_score[0][0] > cutoff:\n",
    "                filtered_counts += 1\n",
    "print(metcalf_counts, filtered_counts)"
   ]
  },
  {
   "cell_type": "markdown",
   "id": "widespread-progressive",
   "metadata": {},
   "source": [
    "### Rosamicin"
   ]
  },
  {
   "cell_type": "code",
   "execution_count": 288,
   "id": "secure-stone",
   "metadata": {},
   "outputs": [
    {
     "name": "stdout",
     "output_type": "stream",
     "text": [
      "[BGC(id=3761, name=NZ_AUGH01000019.region001, strain=Strain(Salinispora pacifica CNS237) [23 aliases], asid=NZ_AUGH01000019, region=1)]\n",
      "{GCF(id=944, class=PKSI, gcf_id=1354, strains=2)} 1\n"
     ]
    }
   ],
   "source": [
    "result_bgcs = [bgc for bgc in npl.bgcs if bgc.name == \"NZ_AUGH01000019.region001\"]\n",
    "print(result_bgcs)\n",
    "result_gcfs = set([parent for bgc in result_bgcs for parent in bgc.parents])\n",
    "print(result_gcfs, len(result_gcfs))"
   ]
  },
  {
   "cell_type": "code",
   "execution_count": 289,
   "id": "fresh-explorer",
   "metadata": {},
   "outputs": [
    {
     "data": {
      "text/plain": [
       "(GCF(id=944, class=PKSI, gcf_id=1354, strains=2),\n",
       " StrainCollection(n=2) [Salinispora pacifica CNY646,Salinispora pacifica CNS237],\n",
       " {BGC(id=3760, name=35578.assembled_unknown.cluster037, strain=Strain(Salinispora pacifica CNY646) [4 aliases], asid=unknown_15, region=-1),\n",
       "  BGC(id=3761, name=NZ_AUGH01000019.region001, strain=Strain(Salinispora pacifica CNS237) [23 aliases], asid=NZ_AUGH01000019, region=1)})"
      ]
     },
     "execution_count": 289,
     "metadata": {},
     "output_type": "execute_result"
    }
   ],
   "source": [
    "result_gcf = [gcf for gcf in npl.gcfs if gcf.id == 944][0]\n",
    "result_gcf, result_gcf.strains, result_gcf.bgcs"
   ]
  },
  {
   "cell_type": "code",
   "execution_count": 290,
   "id": "collect-trout",
   "metadata": {
    "scrolled": false
   },
   "outputs": [
    {
     "name": "stdout",
     "output_type": "stream",
     "text": [
      "Results for object: GCF(id=944, class=PKSI, gcf_id=1354, strains=2), 503 total links, 1 methods used\n",
      "Rank above cutoff (original rank)\n",
      "1.(8)\tSpectrum(id=2023, spectrum_id=57072, strains=1)\tmetcalf = 8.7178\tshared strains = 1\n",
      "CL score: (0.7590027700831025, 'mibig_classes', 'npc_pathway', 'Polyketide', 'Polyketides')\n",
      "Library match: Rhodojaponin II\n",
      "Precursor_mz: 435.272\n",
      "2.(14)\tSpectrum(id=5072, spectrum_id=111712, strains=1)\tmetcalf = 8.7178\tshared strains = 1\n",
      "CL score: (0.7590027700831025, 'mibig_classes', 'npc_pathway', 'Polyketide', 'Polyketides')\n",
      "Library match: (2-chloro-4,5-difluorophenyl)-N-[2-(2-methylindol-3-yl)ethyl]carboxamide\n",
      "Precursor_mz: 524.35797\n",
      "3.(23)\tSpectrum(id=6319, spectrum_id=130529, strains=1)\tmetcalf = 8.7178\tshared strains = 1\n",
      "CL score: (0.7590027700831025, 'mibig_classes', 'npc_pathway', 'Polyketide', 'Polyketides')\n",
      "Library match: 21-hydroxyrosamicin \n",
      "Precursor_mz: 568.38397\n",
      "4.(24)\tSpectrum(id=7074, spectrum_id=141312, strains=1)\tmetcalf = 8.7178\tshared strains = 1\n",
      "CL score: (0.7590027700831025, 'mibig_classes', 'npc_pathway', 'Polyketide', 'Polyketides')\n",
      "Library match: 21-hydroxyrosamicin \n",
      "Precursor_mz: 597.37701\n",
      "5.(25)\tSpectrum(id=7384, spectrum_id=144189, strains=1)\tmetcalf = 8.7178\tshared strains = 1\n",
      "CL score: (0.26903553299492383, 'mibig_classes', 'cf_superclass', 'Polyketide', 'Phenylpropanoids and polyketides')\n",
      "Library match: (7S,9E,11S,12S,13S,14S,15S,16R,17S,18S,19E,21Z)-26-[(2-ethylphenyl)amino]-2,13,15,17-tetrahydroxy-11-methoxy-3,7,12,14,16,18,22-heptamethyl-8,30-dioxa-24-azatetracyclo[23.3.1.1^{4,7}.0^{5,28}]triaconta-1,3,5(28),9,19,21,25-heptaene-6,23,27,29-tetrone\n",
      "Precursor_mz: 610.47803\n",
      "6.(27)\tSpectrum(id=7589, spectrum_id=146390, strains=1)\tmetcalf = 8.7178\tshared strains = 1\n",
      "CL score: (0.7590027700831025, 'mibig_classes', 'npc_pathway', 'Polyketide', 'Polyketides')\n",
      "Library match: (2S,3R)-2-(((S)-7-acetamido-1,2,3-trimethoxy-9-oxo-5,6,7,9-tetrahydrobenzo[a]heptalen-10-yl)amino)-N-(4-(1,1-dioxido-1,2-thiazinan-2-yl)phenyl)-3-methylpentanamide\n",
      "Precursor_mz: 616.36902\n",
      "7.(47)\tSpectrum(id=773, spectrum_id=28046, strains=2)\tmetcalf = 6.1033\tshared strains = 1\n",
      "CL score: (0.26903553299492383, 'mibig_classes', 'cf_superclass', 'Polyketide', 'Phenylpropanoids and polyketides')\n",
      "Library match: Aviprin\n",
      "Precursor_mz: 417.26001\n",
      "8.(80)\tSpectrum(id=5511, spectrum_id=116549, strains=2)\tmetcalf = 6.1033\tshared strains = 1\n",
      "CL score: (0.26903553299492383, 'mibig_classes', 'cf_superclass', 'Polyketide', 'Phenylpropanoids and polyketides')\n",
      "Library match: Nobiletin\n",
      "Precursor_mz: 541.19598\n",
      "9.(81)\tSpectrum(id=5844, spectrum_id=121597, strains=2)\tmetcalf = 6.1033\tshared strains = 1\n",
      "CL score: (0.26903553299492383, 'mibig_classes', 'cf_superclass', 'Polyketide', 'Phenylpropanoids and polyketides')\n",
      "Precursor_mz: 551.35699\n",
      "10.(83)\tSpectrum(id=5937, spectrum_id=123194, strains=2)\tmetcalf = 6.1033\tshared strains = 1\n",
      "CL score: (0.7590027700831025, 'mibig_classes', 'npc_pathway', 'Polyketide', 'Polyketides')\n",
      "Library match: (2S,3R)-2-(((S)-7-acetamido-1,2,3-trimethoxy-9-oxo-5,6,7,9-tetrahydrobenzo[a]heptalen-10-yl)amino)-N-(4-(1,1-dioxido-1,2-thiazinan-2-yl)phenyl)-3-methylpentanamide\n",
      "Precursor_mz: 556.383\n"
     ]
    }
   ],
   "source": [
    "cutoff = 0.25\n",
    "result_links = results.get_sorted_links(mc, result_gcf)\n",
    "count = 0\n",
    "i = 0\n",
    "include_below_cutoff = False\n",
    "print('Results for object: {}, {} total links, {} methods used'.format(result_gcf, len(result_links), results.method_count))\n",
    "print(\"Rank above cutoff (original rank)\")\n",
    "for link_data in result_links:\n",
    "    if count == 10:\n",
    "        break\n",
    "    if isinstance(link_data.target, Spectrum):\n",
    "        i += 1\n",
    "        cl_score = dev_score(npl, mne_res, result_gcf, link_data.target, 'mix') # npl.class_linking_score(result_gcf, link_data.target)\n",
    "        pref = 'x.'\n",
    "        if cl_score:\n",
    "            if cl_score[0][0] > cutoff:\n",
    "                count += 1\n",
    "                pref = f\"{count}.\"\n",
    "        if include_below_cutoff or not pref == 'x.':\n",
    "            print('{}({})\\t{}\\t{} = {}\\tshared strains = {}'.format(\n",
    "                pref,\n",
    "                i,\n",
    "                link_data.target,\n",
    "                ','.join(method.name for method in link_data.methods),\n",
    "                mc.format_data(link_data[mc]),\n",
    "                len(link_data.shared_strains)))\n",
    "            if cl_score:\n",
    "                print('CL score:', cl_score[0])\n",
    "            if link_data.target.gnps_annotations:\n",
    "                print('Library match:', link_data.target.gnps_annotations.get(\"Compound_Name\"))\n",
    "            print('Precursor_mz:', link_data.target.precursor_mz)"
   ]
  },
  {
   "cell_type": "code",
   "execution_count": 292,
   "id": "logical-magic",
   "metadata": {},
   "outputs": [
    {
     "name": "stdout",
     "output_type": "stream",
     "text": [
      "275 38\n"
     ]
    }
   ],
   "source": [
    "filtered_counts = 0\n",
    "metcalf_counts = 0\n",
    "for link_data in result_links:\n",
    "    if isinstance(link_data.target, Spectrum):\n",
    "        metcalf_counts += 1\n",
    "        cl_score = dev_score(npl, mne_res, result_gcf, link_data.target, 'mix')\n",
    "        if cl_score:\n",
    "            if cl_score[0][0] > cutoff:\n",
    "                filtered_counts += 1\n",
    "print(metcalf_counts, filtered_counts)"
   ]
  },
  {
   "cell_type": "code",
   "execution_count": 72,
   "id": "acquired-hepatitis",
   "metadata": {},
   "outputs": [
    {
     "name": "stdout",
     "output_type": "stream",
     "text": [
      "[BGC(id=4324, name=NZ_AZWA01000049.region001, strain=Strain(Salinispora pacifica CNT084) [33 aliases], asid=NZ_AZWA01000049, region=1), BGC(id=4325, name=NZ_KB904950.1.region001, strain=Strain(Salinispora pacifica CNT609) [29 aliases], asid=NZ_KB904950.1, region=1)]\n",
      "Counter({GCF(id=1114, class=PKSI, gcf_id=5627, strains=2): 2}) 1\n"
     ]
    }
   ],
   "source": [
    "other_options = ['NZ_KB904950.1.region001', 'NZ_AZWA01000049.region001']\n",
    "result_bgcs = [bgc for bgc in npl.bgcs if bgc.name in other_options]\n",
    "print(result_bgcs)\n",
    "result_gcfs = Counter([parent for bgc in result_bgcs for parent in bgc.parents])\n",
    "print(result_gcfs, len(result_gcfs))"
   ]
  },
  {
   "cell_type": "code",
   "execution_count": 73,
   "id": "characteristic-tribe",
   "metadata": {
    "scrolled": true
   },
   "outputs": [
    {
     "name": "stdout",
     "output_type": "stream",
     "text": [
      "Results for object: GCF(id=1114, class=PKSI, gcf_id=5627, strains=2), 434 total links, 1 methods used\n",
      "Rank above cutoff (original rank)\n",
      "1.(5)\tSpectrum(id=7587, spectrum_id=146379, strains=1)\tmetcalf = 8.7178\tshared strains = 1\n",
      "CL score: (0.7590027700831025, 'mibig_classes', 'npc_pathway', 'Polyketide', 'Polyketides')\n",
      "Library match: (2S,3R)-2-(((S)-7-acetamido-1,2,3-trimethoxy-9-oxo-5,6,7,9-tetrahydrobenzo[a]heptalen-10-yl)amino)-N-(4-(1,1-dioxido-1,2-thiazinan-2-yl)phenyl)-3-methylpentanamide\n",
      "Precursor_mz: 616.36401\n",
      "2.(46)\tSpectrum(id=6318, spectrum_id=130522, strains=2)\tmetcalf = 6.1033\tshared strains = 1\n",
      "CL score: (0.7590027700831025, 'mibig_classes', 'npc_pathway', 'Polyketide', 'Polyketides')\n",
      "Library match: NCGC00380724-01_C28H47NO8_(3R,5R,6S,7S,9R,11E,13S,14R)-14-Ethyl-13-hydroxy-3,5,7,9,13-pentamethyl-2,4,10-trioxooxacyclotetradec-11-en-6-yl 3,4,6-trideoxy-3-(dimethylamino)-D-xylo-hexopyranoside\n",
      "Precursor_mz: 568.37799\n",
      "3.(57)\tSpectrum(id=10168, spectrum_id=186527, strains=2)\tmetcalf = 6.1033\tshared strains = 1\n",
      "CL score: (0.7590027700831025, 'mibig_classes', 'npc_pathway', 'Polyketide', 'Polyketides')\n",
      "Library match: Camelliaside A\n",
      "Precursor_mz: 710.29401\n",
      "4.(58)\tSpectrum(id=10404, spectrum_id=189565, strains=2)\tmetcalf = 6.1033\tshared strains = 1\n",
      "CL score: (0.7590027700831025, 'mibig_classes', 'npc_pathway', 'Polyketide', 'Polyketides')\n",
      "Library match: (2S,3R)-2-(((S)-7-acetamido-1,2,3-trimethoxy-9-oxo-5,6,7,9-tetrahydrobenzo[a]heptalen-10-yl)amino)-N-(4-(1,1-dioxido-1,2-thiazinan-2-yl)phenyl)-3-methylpentanamide\n",
      "Precursor_mz: 717.39801\n",
      "5.(61)\tSpectrum(id=11182, spectrum_id=201331, strains=2)\tmetcalf = 6.1033\tshared strains = 1\n",
      "CL score: (0.7590027700831025, 'mibig_classes', 'npc_pathway', 'Polyketide', 'Polyketides')\n",
      "Library match: (2S,3R)-2-(((S)-7-acetamido-1,2,3-trimethoxy-9-oxo-5,6,7,9-tetrahydrobenzo[a]heptalen-10-yl)amino)-N-(4-(1,1-dioxido-1,2-thiazinan-2-yl)phenyl)-3-methylpentanamide\n",
      "Precursor_mz: 745.39099\n",
      "6.(90)\tSpectrum(id=6356, spectrum_id=130984, strains=3)\tmetcalf = 4.9331\tshared strains = 1\n",
      "CL score: (0.7590027700831025, 'mibig_classes', 'npc_pathway', 'Polyketide', 'Polyketides')\n",
      "Library match: (2S,3R)-2-(((S)-7-acetamido-1,2,3-trimethoxy-9-oxo-5,6,7,9-tetrahydrobenzo[a]heptalen-10-yl)amino)-N-(4-(1,1-dioxido-1,2-thiazinan-2-yl)phenyl)-3-methylpentanamide\n",
      "Precursor_mz: 570.36499\n",
      "7.(92)\tSpectrum(id=6697, spectrum_id=134525, strains=3)\tmetcalf = 4.9331\tshared strains = 1\n",
      "CL score: (0.7590027700831025, 'mibig_classes', 'npc_pathway', 'Polyketide', 'Polyketides')\n",
      "Library match: 21-hydroxyrosamicin \n",
      "Precursor_mz: 584.37598\n",
      "8.(97)\tSpectrum(id=11181, spectrum_id=201329, strains=3)\tmetcalf = 4.9331\tshared strains = 1\n",
      "CL score: (0.7590027700831025, 'mibig_classes', 'npc_pathway', 'Polyketide', 'Polyketides')\n",
      "Library match: (2S,3R)-2-(((S)-7-acetamido-1,2,3-trimethoxy-9-oxo-5,6,7,9-tetrahydrobenzo[a]heptalen-10-yl)amino)-N-(4-(1,1-dioxido-1,2-thiazinan-2-yl)phenyl)-3-methylpentanamide\n",
      "Precursor_mz: 745.39001\n",
      "9.(117)\tSpectrum(id=6661, spectrum_id=134244, strains=4)\tmetcalf = 4.2285\tshared strains = 1\n",
      "CL score: (0.7590027700831025, 'mibig_classes', 'npc_pathway', 'Polyketide', 'Polyketides')\n",
      "Library match: 21-hydroxyrosamicin \n",
      "Precursor_mz: 582.36298\n",
      "10.(157)\tSpectrum(id=6696, spectrum_id=134524, strains=6)\tmetcalf = 3.3806\tshared strains = 1\n",
      "CL score: (0.7590027700831025, 'mibig_classes', 'npc_pathway', 'Polyketide', 'Polyketides')\n",
      "Library match: 21-hydroxyrosamicin \n",
      "Precursor_mz: 584.36499\n"
     ]
    }
   ],
   "source": [
    "result_gcf = [gcf for gcf in npl.gcfs if gcf.id == 1114][0]\n",
    "result_gcf, list(result_gcf.bgcs)[:2]\n",
    "\n",
    "cutoff = 0.5\n",
    "result_links = results.get_sorted_links(mc, result_gcf)\n",
    "count = 0\n",
    "i = 0\n",
    "include_below_cutoff = False\n",
    "print('Results for object: {}, {} total links, {} methods used'.format(result_gcf, len(result_links), results.method_count))\n",
    "print(\"Rank above cutoff (original rank)\")\n",
    "for link_data in result_links:\n",
    "    if count == 10:\n",
    "        break\n",
    "    if isinstance(link_data.target, Spectrum):\n",
    "        i += 1\n",
    "        cl_score = npl.class_linking_score(result_gcf, link_data.target)\n",
    "        pref = 'x.'\n",
    "        if cl_score:\n",
    "            if cl_score[0][0] > cutoff:\n",
    "                count += 1\n",
    "                pref = f\"{count}.\"\n",
    "        if include_below_cutoff or not pref == 'x.':\n",
    "            print('{}({})\\t{}\\t{} = {}\\tshared strains = {}'.format(\n",
    "                pref,\n",
    "                i,\n",
    "                link_data.target,\n",
    "                ','.join(method.name for method in link_data.methods),\n",
    "                mc.format_data(link_data[mc]),\n",
    "                len(link_data.shared_strains)))\n",
    "            if cl_score:\n",
    "                print('CL score:', cl_score[0])\n",
    "            if link_data.target.gnps_annotations:\n",
    "                print('Library match:', link_data.target.gnps_annotations.get(\"Compound_Name\"))\n",
    "            print('Precursor_mz:', link_data.target.precursor_mz)"
   ]
  },
  {
   "cell_type": "markdown",
   "id": "falling-craps",
   "metadata": {},
   "source": [
    "### Desferrioxamine"
   ]
  },
  {
   "cell_type": "code",
   "execution_count": 74,
   "id": "ambient-quarter",
   "metadata": {},
   "outputs": [
    {
     "name": "stdout",
     "output_type": "stream",
     "text": [
      "37\n",
      "Counter({GCF(id=528, class=Others, gcf_id=493, strains=50): 21, GCF(id=1453, class=Others, gcf_id=1087, strains=20): 20, GCF(id=908, class=Others, gcf_id=5613, strains=34): 9, GCF(id=839, class=Others, gcf_id=3562, strains=9): 4, GCF(id=575, class=Others, gcf_id=1051, strains=6): 2, GCF(id=618, class=Others, gcf_id=1514, strains=6): 1}) 6\n"
     ]
    }
   ],
   "source": [
    "from collections import Counter\n",
    "key = 'bgc0000940'\n",
    "\n",
    "result_bgcs = defaultdict(list)\n",
    "interest_lines = []\n",
    "for bgc in npl.bgcs:\n",
    "    as_file = bgc.antismash_file\n",
    "    with open(as_file) as inf:\n",
    "        for x in range(1000):  # try to find knownclusterblast in the gbks\n",
    "            line = inf.readline().lower()\n",
    "            if key in line:\n",
    "                result_bgcs[bgc].append(line.strip())\n",
    "print(len(result_bgcs))\n",
    "result_gcfs = Counter([parent for bgc in result_bgcs for parent in bgc.parents])\n",
    "print(result_gcfs, len(result_gcfs))"
   ]
  },
  {
   "cell_type": "code",
   "execution_count": 75,
   "id": "partial-obligation",
   "metadata": {
    "scrolled": true
   },
   "outputs": [
    {
     "name": "stdout",
     "output_type": "stream",
     "text": [
      "Results for object: GCF(id=528, class=Others, gcf_id=493, strains=50), 191 total links, 1 methods used\n",
      "Rank above cutoff (original rank)\n",
      "1.(14)\tSpectrum(id=4276, spectrum_id=100033, strains=13)\tmetcalf = 4.1828\tshared strains = 11\n",
      "CL score: (0.5555555555555556, 'as_classes', 'cf_superclass', 'siderophore', 'Organic acids and derivatives')\n",
      "Library match: Flavokawain A\n",
      "Precursor_mz: 499.20401\n",
      "2.(18)\tSpectrum(id=7723, spectrum_id=147515, strains=8)\tmetcalf = 4.1759\tshared strains = 8\n",
      "CL score: (0.6, 'as_classes', 'npc_pathway', 'siderophore', 'Amino acids and Peptides')\n",
      "Library match: methyl 3-(6-((4-formylpiperazin-1-yl)methyl)-3-hydroxy-4-oxo-4H-pyran-2-yl)-3-(4-((1-methyl-1H-imidazol-2-yl)methoxy)phenyl)propanoate\n",
      "Precursor_mz: 621.42499\n",
      "3.(19)\tSpectrum(id=10414, spectrum_id=189607, strains=15)\tmetcalf = 4.1247\tshared strains = 12\n",
      "CL score: (0.6, 'as_classes', 'npc_pathway', 'siderophore', 'Amino acids and Peptides')\n",
      "Library match: (7S,9E,11S,12R,13S,14S,15S,16R,17S,18S,19E,21Z)-13-(acetyloxy)-15,17-dihydroxy-11-methoxy-3,7,12,14,16,18,22-heptamethyl-6,23,27,29-tetraoxo-26-(pyrrolidin-1-yl)-8,30-dioxa-24-azatetracyclo[23.3.1.1^{4,7}.0^{5,28}]triaconta-1,3,5(28),9,19,21,25-heptae...\n",
      "Precursor_mz: 718.29303\n",
      "4.(20)\tSpectrum(id=8665, spectrum_id=163253, strains=17)\tmetcalf = 4.0946\tshared strains = 13\n",
      "CL score: (0.6, 'as_classes', 'npc_pathway', 'siderophore', 'Amino acids and Peptides')\n",
      "Library match: Rifamycin W\n",
      "Precursor_mz: 656.30499\n",
      "5.(21)\tSpectrum(id=4357, spectrum_id=100684, strains=14)\tmetcalf = 3.8513\tshared strains = 11\n",
      "CL score: (0.6, 'as_classes', 'npc_pathway', 'siderophore', 'Amino acids and Peptides')\n",
      "Library match: Spectral Match to Timolol from NIST14\n",
      "Precursor_mz: 503.272\n",
      "6.(24)\tSpectrum(id=5255, spectrum_id=113773, strains=21)\tmetcalf = 3.5897\tshared strains = 14\n",
      "CL score: (0.6, 'as_classes', 'npc_pathway', 'siderophore', 'Amino acids and Peptides')\n",
      "Library match: Spectral Match to Ile-Pro-Ile from NIST14\n",
      "Precursor_mz: 530.28302\n",
      "7.(26)\tSpectrum(id=7546, spectrum_id=145882, strains=24)\tmetcalf = 3.4087\tshared strains = 15\n",
      "CL score: (0.6, 'as_classes', 'npc_pathway', 'siderophore', 'Amino acids and Peptides')\n",
      "Precursor_mz: 614.34698\n",
      "8.(27)\tSpectrum(id=10609, spectrum_id=192706, strains=8)\tmetcalf = 3.4029\tshared strains = 7\n",
      "CL score: (0.6, 'as_classes', 'npc_pathway', 'siderophore', 'Amino acids and Peptides')\n",
      "Precursor_mz: 725.28198\n",
      "9.(29)\tSpectrum(id=5110, spectrum_id=112252, strains=46)\tmetcalf = 3.3973\tshared strains = 24\n",
      "CL score: (0.6, 'as_classes', 'npc_pathway', 'siderophore', 'Amino acids and Peptides')\n",
      "Library match: Massbank:FIO00202 Myricitrin\n",
      "Precursor_mz: 526.32397\n",
      "10.(30)\tSpectrum(id=8755, spectrum_id=164061, strains=22)\tmetcalf = 3.3613\tshared strains = 14\n",
      "CL score: (0.5555555555555556, 'as_classes', 'cf_superclass', 'siderophore', 'Organic acids and derivatives')\n",
      "Library match: N-((S)-1,2,3-trimethoxy-10-(((S)-4-methyl-1-oxo-1-(4-(piperidin-1-ylsulfonyl)-1,4-diazepan-1-yl)pentan-2-yl)amino)-9-oxo-5,6,7,9-tetrahydrobenzo[a]heptalen-7-yl)acetamide\n",
      "Precursor_mz: 661.31897\n"
     ]
    }
   ],
   "source": [
    "result_gcf = [gcf for gcf in npl.gcfs if gcf.id == 528][0]\n",
    "result_gcf, list(result_gcf.bgcs)[:2]\n",
    "\n",
    "cutoff = 0.5\n",
    "result_links = results.get_sorted_links(mc, result_gcf)\n",
    "count = 0\n",
    "i = 0\n",
    "include_below_cutoff = False\n",
    "print('Results for object: {}, {} total links, {} methods used'.format(result_gcf, len(result_links), results.method_count))\n",
    "print(\"Rank above cutoff (original rank)\")\n",
    "for link_data in result_links:\n",
    "    if count == 10:\n",
    "        break\n",
    "    if isinstance(link_data.target, Spectrum):\n",
    "        i += 1\n",
    "        cl_score = npl.class_linking_score(result_gcf, link_data.target)\n",
    "        pref = 'x.'\n",
    "        if cl_score:\n",
    "            if cl_score[0][0] > cutoff:\n",
    "                count += 1\n",
    "                pref = f\"{count}.\"\n",
    "        if include_below_cutoff or not pref == 'x.':\n",
    "            print('{}({})\\t{}\\t{} = {}\\tshared strains = {}'.format(\n",
    "                pref,\n",
    "                i,\n",
    "                link_data.target,\n",
    "                ','.join(method.name for method in link_data.methods),\n",
    "                mc.format_data(link_data[mc]),\n",
    "                len(link_data.shared_strains)))\n",
    "            if cl_score:\n",
    "                print('CL score:', cl_score[0])\n",
    "            if link_data.target.gnps_annotations:\n",
    "                print('Library match:', link_data.target.gnps_annotations.get(\"Compound_Name\"))\n",
    "            print('Precursor_mz:', link_data.target.precursor_mz)"
   ]
  },
  {
   "cell_type": "code",
   "execution_count": 76,
   "id": "different-anaheim",
   "metadata": {
    "scrolled": true
   },
   "outputs": [
    {
     "name": "stdout",
     "output_type": "stream",
     "text": [
      "Results for object: GCF(id=1453, class=Others, gcf_id=1087, strains=20), 309 total links, 1 methods used\n",
      "Rank above cutoff (original rank)\n",
      "1.(1)\tSpectrum(id=6540, spectrum_id=133084, strains=5)\tmetcalf = 5.8651\tshared strains = 5\n",
      "CL score: (0.5555555555555556, 'as_classes', 'cf_superclass', 'siderophore', 'Organic acids and derivatives')\n",
      "Precursor_mz: 577.77698\n",
      "2.(6)\tSpectrum(id=4997, spectrum_id=110889, strains=23)\tmetcalf = 4.0308\tshared strains = 9\n",
      "CL score: (0.6, 'as_classes', 'npc_pathway', 'siderophore', 'Amino acids and Peptides')\n",
      "Library match: NCGC00169091-02!4-methoxy-6-[2-(4-methoxyphenyl)ethyl]pyran-2-one [IIN-based on: CCMSLIB00000846463]\n",
      "Precursor_mz: 521.28198\n",
      "3.(7)\tSpectrum(id=11543, spectrum_id=205717, strains=6)\tmetcalf = 3.9770\tshared strains = 4\n",
      "CL score: (0.5555555555555556, 'as_classes', 'cf_superclass', 'siderophore', 'Organic acids and derivatives')\n",
      "Library match: Sodium Formate\n",
      "Precursor_mz: 770.84601\n",
      "4.(8)\tSpectrum(id=3505, spectrum_id=87426, strains=4)\tmetcalf = 3.7262\tshared strains = 3\n",
      "CL score: (0.6, 'as_classes', 'npc_pathway', 'siderophore', 'Amino acids and Peptides')\n",
      "Library match: Massbank:FIO00595 Rutin\n",
      "Precursor_mz: 478.276\n",
      "5.(9)\tSpectrum(id=8918, spectrum_id=165938, strains=4)\tmetcalf = 3.7262\tshared strains = 3\n",
      "CL score: (0.6, 'as_classes', 'npc_pathway', 'siderophore', 'Amino acids and Peptides')\n",
      "Library match: NCGC00380119-01!3-(5,6-dihydroxyheptyl)-4-methyl-2H-furan-5-one [IIN-based on: CCMSLIB00000845434]\n",
      "Precursor_mz: 668.35699\n",
      "6.(11)\tSpectrum(id=399, spectrum_id=6780, strains=2)\tmetcalf = 3.6726\tshared strains = 2\n",
      "CL score: (0.5555555555555556, 'as_classes', 'cf_superclass', 'siderophore', 'Organic acids and derivatives')\n",
      "Library match: Spectral Match to Leu-Thr from NIST14\n",
      "Precursor_mz: 407.19299\n",
      "7.(12)\tSpectrum(id=947, spectrum_id=30903, strains=2)\tmetcalf = 3.6726\tshared strains = 2\n",
      "CL score: (0.6, 'as_classes', 'npc_pathway', 'siderophore', 'Amino acids and Peptides')\n",
      "Library match: Massbank:AU247106 Hexa(methoxymethyl)melamine|2-N,2-N,4-N,4-N,6-N,6-N-hexakis(methoxymethyl)-1,3,5-triazine-2,4,6-triamine\n",
      "Precursor_mz: 421.15701\n",
      "8.(15)\tSpectrum(id=1511, spectrum_id=48267, strains=2)\tmetcalf = 3.6726\tshared strains = 2\n",
      "CL score: (0.6, 'as_classes', 'npc_pathway', 'siderophore', 'Amino acids and Peptides')\n",
      "Library match: Pseudomonas quinolone signal\n",
      "Precursor_mz: 430.22699\n",
      "9.(16)\tSpectrum(id=2167, spectrum_id=62773, strains=2)\tmetcalf = 3.6726\tshared strains = 2\n",
      "CL score: (0.6, 'as_classes', 'npc_pathway', 'siderophore', 'Amino acids and Peptides')\n",
      "Library match: Isocolumbin\n",
      "Precursor_mz: 441.173\n",
      "10.(17)\tSpectrum(id=2521, spectrum_id=73434, strains=2)\tmetcalf = 3.6726\tshared strains = 2\n",
      "CL score: (0.6, 'as_classes', 'npc_pathway', 'siderophore', 'Amino acids and Peptides')\n",
      "Precursor_mz: 450.19601\n"
     ]
    }
   ],
   "source": [
    "# second biggest gcf\n",
    "result_gcf = [gcf for gcf in npl.gcfs if gcf.id == 1453][0]\n",
    "result_gcf, list(result_gcf.bgcs)[:2]\n",
    "\n",
    "cutoff = 0.5\n",
    "result_links = results.get_sorted_links(mc, result_gcf)\n",
    "count = 0\n",
    "i = 0\n",
    "include_below_cutoff = False\n",
    "print('Results for object: {}, {} total links, {} methods used'.format(result_gcf, len(result_links), results.method_count))\n",
    "print(\"Rank above cutoff (original rank)\")\n",
    "for link_data in result_links:\n",
    "    if count == 10:\n",
    "        break\n",
    "    if isinstance(link_data.target, Spectrum):\n",
    "        i += 1\n",
    "        cl_score = npl.class_linking_score(result_gcf, link_data.target)\n",
    "        pref = 'x.'\n",
    "        if cl_score:\n",
    "            if cl_score[0][0] > cutoff:\n",
    "                count += 1\n",
    "                pref = f\"{count}.\"\n",
    "        if include_below_cutoff or not pref == 'x.':\n",
    "            print('{}({})\\t{}\\t{} = {}\\tshared strains = {}'.format(\n",
    "                pref,\n",
    "                i,\n",
    "                link_data.target,\n",
    "                ','.join(method.name for method in link_data.methods),\n",
    "                mc.format_data(link_data[mc]),\n",
    "                len(link_data.shared_strains)))\n",
    "            if cl_score:\n",
    "                print('CL score:', cl_score[0])\n",
    "            if link_data.target.gnps_annotations:\n",
    "                print('Library match:', link_data.target.gnps_annotations.get(\"Compound_Name\"))\n",
    "            print('Precursor_mz:', link_data.target.precursor_mz)"
   ]
  },
  {
   "cell_type": "markdown",
   "id": "upper-transsexual",
   "metadata": {},
   "source": [
    "### Rifamycin"
   ]
  },
  {
   "cell_type": "code",
   "execution_count": 77,
   "id": "atomic-trailer",
   "metadata": {
    "scrolled": true
   },
   "outputs": [
    {
     "name": "stdout",
     "output_type": "stream",
     "text": [
      "90\n",
      "Counter({GCF(id=924, class=PKSI, gcf_id=382, strains=20): 20, GCF(id=1447, class=Saccharides, gcf_id=735, strains=20): 16, GCF(id=960, class=PKSI, gcf_id=2043, strains=18): 14, GCF(id=1488, class=Terpene, gcf_id=2299, strains=37): 8, GCF(id=511, class=Others, gcf_id=343, strains=5): 7, GCF(id=623, class=Others, gcf_id=1534, strains=7): 7, GCF(id=1106, class=PKSI, gcf_id=5101, strains=29): 7, GCF(id=1448, class=Saccharides, gcf_id=764, strains=9): 5, GCF(id=730, class=Others, gcf_id=2635, strains=3): 3, GCF(id=916, class=PKSI, gcf_id=127, strains=6): 3, GCF(id=1107, class=PKSI, gcf_id=5119, strains=45): 2, GCF(id=648, class=Others, gcf_id=1918, strains=17): 1, GCF(id=1576, class=Terpene, gcf_id=4995, strains=14): 1, GCF(id=391, class=NRPS, gcf_id=5596, strains=41): 1, GCF(id=1577, class=Terpene, gcf_id=5100, strains=9): 1, GCF(id=667, class=Others, gcf_id=2185, strains=1): 1, GCF(id=972, class=PKSI, gcf_id=2362, strains=1): 1, GCF(id=1552, class=Terpene, gcf_id=3583, strains=17): 1}) 18\n"
     ]
    }
   ],
   "source": [
    "key = 'bgc0000137'\n",
    "result_bgcs = defaultdict(list)\n",
    "interest_lines = []\n",
    "for bgc in npl.bgcs:\n",
    "    as_file = bgc.antismash_file\n",
    "    with open(as_file) as inf:\n",
    "        for x in range(1000):  # try to find knownclusterblast in the gbks\n",
    "            line = inf.readline().lower()\n",
    "            if key in line:\n",
    "                result_bgcs[bgc].append(line.strip())\n",
    "print(len(result_bgcs))\n",
    "result_gcfs = Counter([parent for bgc in result_bgcs for parent in bgc.parents])\n",
    "print(result_gcfs, len(result_gcfs))"
   ]
  },
  {
   "cell_type": "code",
   "execution_count": 78,
   "id": "promising-lottery",
   "metadata": {
    "scrolled": true
   },
   "outputs": [
    {
     "name": "stdout",
     "output_type": "stream",
     "text": [
      "Results for object: GCF(id=960, class=PKSI, gcf_id=2043, strains=18), 293 total links, 1 methods used\n",
      "Rank above cutoff (original rank)\n",
      "1.(1)\tSpectrum(id=8070, spectrum_id=151548, strains=4)\tmetcalf = 5.5522\tshared strains = 4\n",
      "CL score: (0.26903553299492383, 'mibig_classes', 'cf_superclass', 'Polyketide', 'Phenylpropanoids and polyketides')\n",
      "Library match: NCGC00385035-01![8-[2-(3-methylbut-2-enoyloxy)propan-2-yl]-2-oxo-8,9-dihydrofuro[2,3-h]chromen-9-yl] (Z)-2-methylbut-2-enoate\n",
      "Precursor_mz: 634.87201\n",
      "2.(8)\tSpectrum(id=2167, spectrum_id=62773, strains=2)\tmetcalf = 3.9001\tshared strains = 2\n",
      "CL score: (0.26903553299492383, 'mibig_classes', 'cf_superclass', 'Polyketide', 'Phenylpropanoids and polyketides')\n",
      "Library match: Isocolumbin\n",
      "Precursor_mz: 441.173\n",
      "3.(23)\tSpectrum(id=11537, spectrum_id=205706, strains=2)\tmetcalf = 3.9001\tshared strains = 2\n",
      "CL score: (0.26903553299492383, 'mibig_classes', 'cf_superclass', 'Polyketide', 'Phenylpropanoids and polyketides')\n",
      "Library match: Sodium Formate\n",
      "Precursor_mz: 770.84497\n",
      "4.(32)\tSpectrum(id=12375, spectrum_id=218888, strains=5)\tmetcalf = 3.4073\tshared strains = 3\n",
      "CL score: (0.26903553299492383, 'mibig_classes', 'cf_superclass', 'Polyketide', 'Phenylpropanoids and polyketides')\n",
      "Library match: MS_Contaminant_Sodium_Formate_Cluster\n",
      "Precursor_mz: 838.83698\n",
      "5.(42)\tSpectrum(id=8063, spectrum_id=151527, strains=3)\tmetcalf = 2.9835\tshared strains = 2\n",
      "CL score: (0.26903553299492383, 'mibig_classes', 'cf_superclass', 'Polyketide', 'Phenylpropanoids and polyketides')\n",
      "Precursor_mz: 634.87201\n",
      "6.(54)\tSpectrum(id=12381, spectrum_id=218908, strains=3)\tmetcalf = 2.9835\tshared strains = 2\n",
      "CL score: (0.26903553299492383, 'mibig_classes', 'cf_superclass', 'Polyketide', 'Phenylpropanoids and polyketides')\n",
      "Library match: MS_Contaminant_Sodium_Formate_Cluster\n",
      "Precursor_mz: 838.836\n",
      "7.(111)\tSpectrum(id=6210, spectrum_id=126151, strains=1)\tmetcalf = 2.7487\tshared strains = 1\n",
      "CL score: (0.7590027700831025, 'mibig_classes', 'npc_pathway', 'Polyketide', 'Polyketides')\n",
      "Library match: Massbank:PR308966 trans-piceid\n",
      "Precursor_mz: 566.88599\n",
      "8.(138)\tSpectrum(id=8785, spectrum_id=164433, strains=1)\tmetcalf = 2.7487\tshared strains = 1\n",
      "CL score: (0.7590027700831025, 'mibig_classes', 'npc_pathway', 'Polyketide', 'Polyketides')\n",
      "Library match: NCGC00385425-01_C21H36O11_\n",
      "Precursor_mz: 662.15399\n",
      "9.(172)\tSpectrum(id=11570, spectrum_id=205896, strains=1)\tmetcalf = 2.7487\tshared strains = 1\n",
      "CL score: (0.26903553299492383, 'mibig_classes', 'cf_superclass', 'Polyketide', 'Phenylpropanoids and polyketides')\n",
      "Library match: Sodium Formate\n",
      "Precursor_mz: 770.85199\n",
      "10.(176)\tSpectrum(id=11884, spectrum_id=211299, strains=1)\tmetcalf = 2.7487\tshared strains = 1\n",
      "CL score: (0.7590027700831025, 'mibig_classes', 'npc_pathway', 'Polyketide', 'Polyketides')\n",
      "Library match: Arenimycin B\n",
      "Precursor_mz: 795.29602\n"
     ]
    }
   ],
   "source": [
    "result_gcf = [gcf for gcf in npl.gcfs if gcf.id == 960][0]\n",
    "result_gcf, list(result_gcf.bgcs)[:2]\n",
    "\n",
    "cutoff = 0.25\n",
    "result_links = results.get_sorted_links(mc, result_gcf)\n",
    "count = 0\n",
    "i = 0\n",
    "include_below_cutoff = False\n",
    "print('Results for object: {}, {} total links, {} methods used'.format(result_gcf, len(result_links), results.method_count))\n",
    "print(\"Rank above cutoff (original rank)\")\n",
    "for link_data in result_links:\n",
    "    if count == 10:\n",
    "        break\n",
    "    if isinstance(link_data.target, Spectrum):\n",
    "        i += 1\n",
    "        cl_score = npl.class_linking_score(result_gcf, link_data.target)\n",
    "        pref = 'x.'\n",
    "        if cl_score:\n",
    "            if cl_score[0][0] > cutoff:\n",
    "                count += 1\n",
    "                pref = f\"{count}.\"\n",
    "        if include_below_cutoff or not pref == 'x.':\n",
    "            print('{}({})\\t{}\\t{} = {}\\tshared strains = {}'.format(\n",
    "                pref,\n",
    "                i,\n",
    "                link_data.target,\n",
    "                ','.join(method.name for method in link_data.methods),\n",
    "                mc.format_data(link_data[mc]),\n",
    "                len(link_data.shared_strains)))\n",
    "            if cl_score:\n",
    "                print('CL score:', cl_score[0])\n",
    "            if link_data.target.gnps_annotations:\n",
    "                print('Library match:', link_data.target.gnps_annotations.get(\"Compound_Name\"))\n",
    "            print('Precursor_mz:', link_data.target.precursor_mz)"
   ]
  },
  {
   "cell_type": "markdown",
   "id": "incorporate-cowboy",
   "metadata": {},
   "source": [
    "### Actinomycin D"
   ]
  },
  {
   "cell_type": "code",
   "execution_count": 79,
   "id": "closing-visiting",
   "metadata": {},
   "outputs": [
    {
     "name": "stdout",
     "output_type": "stream",
     "text": [
      "9\n",
      "Counter({GCF(id=395, class=PKS-NRP_Hybrids, gcf_id=5752, strains=11): 6, GCF(id=935, class=PKS-NRP_Hybrids, gcf_id=733, strains=6): 6, GCF(id=29, class=PKS-NRP_Hybrids, gcf_id=1258, strains=9): 5, GCF(id=14, class=NRPS, gcf_id=597, strains=1): 1, GCF(id=492, class=Others, gcf_id=232, strains=1): 1, GCF(id=632, class=Others, gcf_id=1735, strains=4): 1}) 6\n"
     ]
    }
   ],
   "source": [
    "key = 'bgc0000296'\n",
    "result_bgcs = defaultdict(list)\n",
    "interest_lines = []\n",
    "for bgc in npl.bgcs:\n",
    "    as_file = bgc.antismash_file\n",
    "    with open(as_file) as inf:\n",
    "        for x in range(1000):  # try to find knownclusterblast in the gbks\n",
    "            line = inf.readline().lower()\n",
    "            if key in line:\n",
    "                result_bgcs[bgc].append(line.strip())\n",
    "print(len(result_bgcs))\n",
    "result_gcfs = Counter([parent for bgc in result_bgcs for parent in bgc.parents])\n",
    "print(result_gcfs, len(result_gcfs))"
   ]
  },
  {
   "cell_type": "code",
   "execution_count": 80,
   "id": "moved-advantage",
   "metadata": {
    "scrolled": true
   },
   "outputs": [
    {
     "name": "stdout",
     "output_type": "stream",
     "text": [
      "GCF(id=395, class=PKS-NRP_Hybrids, gcf_id=5752, strains=11) [BGC(id=105, name=35133.assembled_unknown.cluster061, strain=Strain(Salinispora arenicola CNY230) [4 aliases], asid=unknown_36, region=-1), BGC(id=106, name=35581.assembled_unknown.cluster039, strain=Strain(Salinispora pacifica CNY363) [4 aliases], asid=unknown_31, region=-1), BGC(id=107, name=36410.assembled_unknown.cluster052, strain=Strain(Salinispora arenicola CNS296) [4 aliases], asid=unknown_15, region=-1), BGC(id=108, name=38495.assembled_unknown.cluster053, strain=Strain(Salinispora arenicola CNS848) [4 aliases], asid=unknown_24, region=-1), BGC(id=109, name=NZ_AUKM01000028.region001, strain=Strain(Salinispora arenicola CNS299) [35 aliases], asid=NZ_AUKM01000028, region=1), BGC(id=110, name=NZ_AZWU01000037.region001, strain=Strain(Salinispora arenicola CNT005) [34 aliases], asid=NZ_AZWU01000037, region=1), BGC(id=111, name=NZ_KB896478.1.region001, strain=Strain(Salinispora arenicola CNY231) [27 aliases], asid=NZ_KB896478.1, region=1), BGC(id=112, name=NZ_KB896629.1.region001, strain=Strain(Salinispora arenicola CNY280) [30 aliases], asid=NZ_KB896629.1, region=1), BGC(id=83, name=NZ_AUKM01000031.region001, strain=Strain(Salinispora arenicola CNS299) [35 aliases], asid=NZ_AUKM01000031, region=1), BGC(id=84, name=NZ_AZWU01000046.region001, strain=Strain(Salinispora arenicola CNT005) [34 aliases], asid=NZ_AZWU01000046, region=1), BGC(id=85, name=NZ_KB896480.1.region001, strain=Strain(Salinispora arenicola CNY231) [27 aliases], asid=NZ_KB896480.1, region=1), BGC(id=1215, name=35133.assembled_unknown.cluster071, strain=Strain(Salinispora arenicola CNY230) [4 aliases], asid=unknown_51, region=-1), BGC(id=1216, name=38495.assembled_unknown.cluster063, strain=Strain(Salinispora arenicola CNS848) [4 aliases], asid=unknown_35, region=-1), BGC(id=1217, name=ARHO01000000_KB897450.1.cluster043, strain=Strain(Salinispora pacifica CNY331) [4 aliases], asid=KB897488.1, region=-1), BGC(id=1218, name=NZ_KB896633.1.region001, strain=Strain(Salinispora arenicola CNY280) [30 aliases], asid=NZ_KB896633.1, region=1), BGC(id=1219, name=NZ_KB913036.1.region014, strain=Strain(Salinispora arenicola CNS991) [8 aliases], asid=NZ_KB913036.1, region=14), BGC(id=103, name=35125.assembled_unknown.cluster055, strain=Strain(Salinispora arenicola CNY486) [4 aliases], asid=unknown_37, region=-1)]\n",
      "Results for object: GCF(id=395, class=PKS-NRP_Hybrids, gcf_id=5752, strains=11), 348 total links, 1 methods used\n",
      "Rank above cutoff (original rank)\n",
      "1.(1)\tSpectrum(id=399, spectrum_id=6780, strains=2)\tmetcalf = 5.1158\tshared strains = 2\n",
      "CL score: (0.6419354838709678, 'as_classes', 'cf_superclass', 'NRPS', 'Organic acids and derivatives')\n",
      "Library match: Spectral Match to Leu-Thr from NIST14\n",
      "Precursor_mz: 407.19299\n",
      "2.(2)\tSpectrum(id=5557, spectrum_id=117039, strains=2)\tmetcalf = 5.1158\tshared strains = 2\n",
      "CL score: (0.6419354838709678, 'as_classes', 'cf_superclass', 'NRPS', 'Organic acids and derivatives')\n",
      "Precursor_mz: 543.30298\n",
      "3.(3)\tSpectrum(id=6673, spectrum_id=134334, strains=2)\tmetcalf = 5.1158\tshared strains = 2\n",
      "CL score: (0.6419354838709678, 'as_classes', 'cf_superclass', 'NRPS', 'Organic acids and derivatives')\n",
      "Library match: peiminine\n",
      "Precursor_mz: 583.29401\n",
      "4.(6)\tSpectrum(id=11489, spectrum_id=205411, strains=2)\tmetcalf = 5.1158\tshared strains = 2\n",
      "CL score: (0.6419354838709678, 'as_classes', 'cf_superclass', 'NRPS', 'Organic acids and derivatives')\n",
      "Precursor_mz: 767.43201\n",
      "5.(11)\tSpectrum(id=3539, spectrum_id=87761, strains=3)\tmetcalf = 4.0296\tshared strains = 2\n",
      "CL score: (0.6419354838709678, 'as_classes', 'cf_superclass', 'NRPS', 'Organic acids and derivatives')\n",
      "Library match: Massbank:AU273902 Domperidone|6-chloro-3-[1-[3-(2-oxo-3H-benzimidazol-1-yl)propyl]piperidin-4-yl]-1H-benzimidazol-2-one\n",
      "Precursor_mz: 480.28101\n",
      "6.(12)\tSpectrum(id=4741, spectrum_id=107784, strains=3)\tmetcalf = 4.0296\tshared strains = 2\n",
      "CL score: (0.6419354838709678, 'as_classes', 'cf_superclass', 'NRPS', 'Organic acids and derivatives')\n",
      "Library match: 2-(4-methyl-6-(2-naphthyloxy)pyrimidin-2-ylthio)-1-phenylethan-1-one\n",
      "Precursor_mz: 511.289\n",
      "7.(13)\tSpectrum(id=6190, spectrum_id=125840, strains=3)\tmetcalf = 4.0296\tshared strains = 2\n",
      "CL score: (0.6419354838709678, 'as_classes', 'cf_superclass', 'NRPS', 'Organic acids and derivatives')\n",
      "Library match: Massbank:PR308966 trans-piceid\n",
      "Precursor_mz: 566.88702\n",
      "8.(15)\tSpectrum(id=8207, spectrum_id=155505, strains=3)\tmetcalf = 4.0296\tshared strains = 2\n",
      "CL score: (0.6419354838709678, 'as_classes', 'cf_superclass', 'NRPS', 'Organic acids and derivatives')\n",
      "Precursor_mz: 638.25897\n",
      "9.(16)\tSpectrum(id=10785, spectrum_id=197484, strains=3)\tmetcalf = 4.0296\tshared strains = 2\n",
      "CL score: (0.6419354838709678, 'as_classes', 'cf_superclass', 'NRPS', 'Organic acids and derivatives')\n",
      "Library match: Tenacissoside I\n",
      "Precursor_mz: 729.547\n",
      "10.(17)\tSpectrum(id=11501, spectrum_id=205534, strains=3)\tmetcalf = 4.0296\tshared strains = 2\n",
      "CL score: (0.6419354838709678, 'as_classes', 'cf_superclass', 'NRPS', 'Organic acids and derivatives')\n",
      "Library match: Massbank:FIO00733 Nicotiflorine\n",
      "Precursor_mz: 768.44299\n"
     ]
    }
   ],
   "source": [
    "result_gcf = [gcf for gcf in npl.gcfs if gcf.id == 395][0]\n",
    "print(result_gcf, list(result_gcf.bgcs))\n",
    "\n",
    "cutoff = 0.25\n",
    "result_links = results.get_sorted_links(mc, result_gcf)\n",
    "count = 0\n",
    "i = 0\n",
    "include_below_cutoff = False\n",
    "print('Results for object: {}, {} total links, {} methods used'.format(result_gcf, len(result_links), results.method_count))\n",
    "print(\"Rank above cutoff (original rank)\")\n",
    "for link_data in result_links:\n",
    "    if count == 10:\n",
    "        break\n",
    "    if isinstance(link_data.target, Spectrum):\n",
    "        i += 1\n",
    "        cl_score = npl.class_linking_score(result_gcf, link_data.target)\n",
    "        pref = 'x.'\n",
    "        if cl_score:\n",
    "            if cl_score[0][0] > cutoff:\n",
    "                count += 1\n",
    "                pref = f\"{count}.\"\n",
    "        if include_below_cutoff or not pref == 'x.':\n",
    "            print('{}({})\\t{}\\t{} = {}\\tshared strains = {}'.format(\n",
    "                pref,\n",
    "                i,\n",
    "                link_data.target,\n",
    "                ','.join(method.name for method in link_data.methods),\n",
    "                mc.format_data(link_data[mc]),\n",
    "                len(link_data.shared_strains)))\n",
    "            if cl_score:\n",
    "                print('CL score:', cl_score[0])\n",
    "            if link_data.target.gnps_annotations:\n",
    "                print('Library match:', link_data.target.gnps_annotations.get(\"Compound_Name\"))\n",
    "            print('Precursor_mz:', link_data.target.precursor_mz)"
   ]
  },
  {
   "cell_type": "code",
   "execution_count": 81,
   "id": "sealed-candidate",
   "metadata": {},
   "outputs": [
    {
     "name": "stdout",
     "output_type": "stream",
     "text": [
      "[BGC(id=537, name=JNLT01000010.1.region001, strain=Strain(Streptomyces sp. CNS654) [78 aliases], asid=JNLT01000010.1, region=1), BGC(id=544, name=JNLT01000023.1.region001, strain=Strain(Streptomyces sp. CNS654) [78 aliases], asid=JNLT01000023.1, region=1)]\n",
      "Counter({GCF(id=212, class=NRPS, gcf_id=3444, strains=1): 1, GCF(id=218, class=NRPS, gcf_id=3462, strains=1): 1}) 2\n"
     ]
    }
   ],
   "source": [
    "# alternative, knownclusterblast has hit to JNLT01000010.1.region001\n",
    "other_options = ['JNLT01000023.1.region001', 'JNLT01000010.1.region001']\n",
    "result_bgcs = [bgc for bgc in npl.bgcs if bgc.name in other_options]\n",
    "print(result_bgcs)\n",
    "result_gcfs = Counter([parent for bgc in result_bgcs for parent in bgc.parents])\n",
    "print(result_gcfs, len(result_gcfs))"
   ]
  },
  {
   "cell_type": "code",
   "execution_count": 82,
   "id": "consecutive-chain",
   "metadata": {},
   "outputs": [
    {
     "name": "stdout",
     "output_type": "stream",
     "text": [
      "GCF(id=218, class=NRPS, gcf_id=3462, strains=1) [BGC(id=544, name=JNLT01000023.1.region001, strain=Strain(Streptomyces sp. CNS654) [78 aliases], asid=JNLT01000023.1, region=1)]\n",
      "Results for object: GCF(id=218, class=NRPS, gcf_id=3462, strains=1), 1021 total links, 1 methods used\n",
      "Rank above cutoff (original rank)\n",
      "1.(3)\tSpectrum(id=374, spectrum_id=6563, strains=1)\tmetcalf = 12.3693\tshared strains = 1\n",
      "CL score: (0.7553763440860215, 'mibig_classes', 'cf_superclass', 'NRP', 'Organic acids and derivatives')\n",
      "Library match: (2E)-1-(3,4-dimethoxyphenyl)-3-(2-nitrophenyl)prop-2-en-1-one\n",
      "Precursor_mz: 406.104\n",
      "2.(4)\tSpectrum(id=375, spectrum_id=6596, strains=1)\tmetcalf = 12.3693\tshared strains = 1\n",
      "CL score: (0.7553763440860215, 'mibig_classes', 'cf_superclass', 'NRP', 'Organic acids and derivatives')\n",
      "Library match: Dehydrodihydrorotenone\n",
      "Precursor_mz: 406.168\n",
      "3.(5)\tSpectrum(id=469, spectrum_id=7835, strains=1)\tmetcalf = 12.3693\tshared strains = 1\n",
      "CL score: (0.7553763440860215, 'mibig_classes', 'cf_superclass', 'NRP', 'Organic acids and derivatives')\n",
      "Precursor_mz: 409.194\n",
      "4.(7)\tSpectrum(id=751, spectrum_id=27380, strains=1)\tmetcalf = 12.3693\tshared strains = 1\n",
      "CL score: (0.5786618444846293, 'mibig_classes', 'npc_pathway', 'NRP', 'Amino acids and Peptides')\n",
      "Library match: 1-((3-methoxypropyl)amino)-3-methyl-2H-naphtho[1,2,3-de]quinoline-2,7(3H)-dione\n",
      "Precursor_mz: 417.09299\n",
      "5.(10)\tSpectrum(id=945, spectrum_id=30887, strains=1)\tmetcalf = 12.3693\tshared strains = 1\n",
      "CL score: (0.7553763440860215, 'mibig_classes', 'cf_superclass', 'NRP', 'Organic acids and derivatives')\n",
      "Library match: NCGC00380863-01!5-hydroxy-2-methyl-7-[(2S,3R,4S,5S,6R)-3,4,5-trihydroxy-6-(hydroxymethyl)oxan-2-yl]oxychromen-4-one\n",
      "Precursor_mz: 421.14899\n",
      "6.(11)\tSpectrum(id=954, spectrum_id=30948, strains=1)\tmetcalf = 12.3693\tshared strains = 1\n",
      "CL score: (0.7553763440860215, 'mibig_classes', 'cf_superclass', 'NRP', 'Organic acids and derivatives')\n",
      "Precursor_mz: 421.18399\n",
      "7.(12)\tSpectrum(id=1225, spectrum_id=42697, strains=1)\tmetcalf = 12.3693\tshared strains = 1\n",
      "CL score: (0.4435483870967742, 'mibig_classes', 'cf_class', 'NRP', 'Carboxylic acids and derivatives')\n",
      "Library match: Massbank:FIO00287 Pyrimethamine\n",
      "Precursor_mz: 425.16501\n",
      "8.(13)\tSpectrum(id=1227, spectrum_id=42709, strains=1)\tmetcalf = 12.3693\tshared strains = 1\n",
      "CL score: (0.7553763440860215, 'mibig_classes', 'cf_superclass', 'NRP', 'Organic acids and derivatives')\n",
      "Precursor_mz: 425.189\n",
      "9.(14)\tSpectrum(id=1945, spectrum_id=56077, strains=1)\tmetcalf = 12.3693\tshared strains = 1\n",
      "CL score: (0.7553763440860215, 'mibig_classes', 'cf_superclass', 'NRP', 'Organic acids and derivatives')\n",
      "Library match: Massbank:AU208501 Tramadol N-Oxide|1-[2-hydroxy-2-(3-methoxyphenyl)cyclohexyl]-N,N-dimethylmethanamine oxide\n",
      "Precursor_mz: 433.29401\n",
      "10.(17)\tSpectrum(id=2596, spectrum_id=73992, strains=1)\tmetcalf = 12.3693\tshared strains = 1\n",
      "CL score: (0.7553763440860215, 'mibig_classes', 'cf_superclass', 'NRP', 'Organic acids and derivatives')\n",
      "Library match: alpha-dihydrolysergol\n",
      "Precursor_mz: 453.194\n",
      "11.(18)\tSpectrum(id=2757, spectrum_id=76051, strains=1)\tmetcalf = 12.3693\tshared strains = 1\n",
      "CL score: (0.5786618444846293, 'mibig_classes', 'npc_pathway', 'NRP', 'Amino acids and Peptides')\n",
      "Precursor_mz: 457.09299\n",
      "12.(19)\tSpectrum(id=2885, spectrum_id=78348, strains=1)\tmetcalf = 12.3693\tshared strains = 1\n",
      "CL score: (0.7553763440860215, 'mibig_classes', 'cf_superclass', 'NRP', 'Organic acids and derivatives')\n",
      "Precursor_mz: 460.30099\n",
      "13.(21)\tSpectrum(id=3522, spectrum_id=87605, strains=1)\tmetcalf = 12.3693\tshared strains = 1\n",
      "CL score: (0.7553763440860215, 'mibig_classes', 'cf_superclass', 'NRP', 'Organic acids and derivatives')\n",
      "Library match: Vitexin - 20eV\n",
      "Precursor_mz: 479.22601\n",
      "14.(22)\tSpectrum(id=3523, spectrum_id=87609, strains=1)\tmetcalf = 12.3693\tshared strains = 1\n",
      "CL score: (0.7553763440860215, 'mibig_classes', 'cf_superclass', 'NRP', 'Organic acids and derivatives')\n",
      "Library match: 4-oxo-1,2,3-trihydrocyclopenta[1,2-c]chromen-7-yl benzoate\n",
      "Precursor_mz: 479.22601\n",
      "15.(23)\tSpectrum(id=3626, spectrum_id=89479, strains=1)\tmetcalf = 12.3693\tshared strains = 1\n",
      "CL score: (0.7553763440860215, 'mibig_classes', 'cf_superclass', 'NRP', 'Organic acids and derivatives')\n",
      "Precursor_mz: 482.297\n",
      "16.(24)\tSpectrum(id=3932, spectrum_id=93754, strains=1)\tmetcalf = 12.3693\tshared strains = 1\n",
      "CL score: (0.7553763440860215, 'mibig_classes', 'cf_superclass', 'NRP', 'Organic acids and derivatives')\n",
      "Precursor_mz: 491.181\n",
      "17.(25)\tSpectrum(id=3982, spectrum_id=94150, strains=1)\tmetcalf = 12.3693\tshared strains = 1\n",
      "CL score: (0.7553763440860215, 'mibig_classes', 'cf_superclass', 'NRP', 'Organic acids and derivatives')\n",
      "Precursor_mz: 493.30099\n",
      "18.(26)\tSpectrum(id=4025, spectrum_id=94536, strains=1)\tmetcalf = 12.3693\tshared strains = 1\n",
      "CL score: (0.7553763440860215, 'mibig_classes', 'cf_superclass', 'NRP', 'Organic acids and derivatives')\n",
      "Precursor_mz: 495.19101\n",
      "19.(27)\tSpectrum(id=4049, spectrum_id=94869, strains=1)\tmetcalf = 12.3693\tshared strains = 1\n",
      "CL score: (0.7553763440860215, 'mibig_classes', 'cf_superclass', 'NRP', 'Organic acids and derivatives')\n",
      "Precursor_mz: 496.276\n",
      "20.(30)\tSpectrum(id=4350, spectrum_id=100612, strains=1)\tmetcalf = 12.3693\tshared strains = 1\n",
      "CL score: (0.7553763440860215, 'mibig_classes', 'cf_superclass', 'NRP', 'Organic acids and derivatives')\n",
      "Library match: Verbenalin\n",
      "Precursor_mz: 503.241\n"
     ]
    }
   ],
   "source": [
    "result_gcf = [gcf for gcf in npl.gcfs if gcf.id == 218][0]\n",
    "print(result_gcf, list(result_gcf.bgcs))\n",
    "\n",
    "cutoff = 0.25\n",
    "result_links = results.get_sorted_links(mc, result_gcf)\n",
    "count = 0\n",
    "i = 0\n",
    "include_below_cutoff = False\n",
    "print('Results for object: {}, {} total links, {} methods used'.format(result_gcf, len(result_links), results.method_count))\n",
    "print(\"Rank above cutoff (original rank)\")\n",
    "for link_data in result_links:\n",
    "    if count == 20:\n",
    "        break\n",
    "    if isinstance(link_data.target, Spectrum):\n",
    "        i += 1\n",
    "        cl_score = npl.class_linking_score(result_gcf, link_data.target)\n",
    "        pref = 'x.'\n",
    "        if cl_score:\n",
    "            if cl_score[0][0] > cutoff:\n",
    "                count += 1\n",
    "                pref = f\"{count}.\"\n",
    "        if include_below_cutoff or not pref == 'x.':\n",
    "            print('{}({})\\t{}\\t{} = {}\\tshared strains = {}'.format(\n",
    "                pref,\n",
    "                i,\n",
    "                link_data.target,\n",
    "                ','.join(method.name for method in link_data.methods),\n",
    "                mc.format_data(link_data[mc]),\n",
    "                len(link_data.shared_strains)))\n",
    "            if cl_score:\n",
    "                print('CL score:', cl_score[0])\n",
    "            if link_data.target.gnps_annotations:\n",
    "                print('Library match:', link_data.target.gnps_annotations.get(\"Compound_Name\"))\n",
    "            print('Precursor_mz:', link_data.target.precursor_mz)"
   ]
  },
  {
   "cell_type": "markdown",
   "id": "educated-bryan",
   "metadata": {},
   "source": [
    "## Check MNE coverage over MFs and compare to CANOPUS"
   ]
  },
  {
   "cell_type": "code",
   "execution_count": 164,
   "id": "lonely-result",
   "metadata": {},
   "outputs": [],
   "source": [
    "mne_component_dict = npl.chem_classes.molnetenhancer.molfam_classes\n",
    "mne_cluster2component = npl.chem_classes.molnetenhancer.spectra2molfam\n",
    "columns = npl.chem_classes.molnetenhancer.spectra_classes_names"
   ]
  },
  {
   "cell_type": "code",
   "execution_count": 160,
   "id": "numerical-christian",
   "metadata": {},
   "outputs": [],
   "source": [
    "column_counters = [Counter() for col in columns]\n",
    "\n",
    "for values in mne_component_dict.values():\n",
    "    for i, tup in enumerate(values):\n",
    "        column_counters[i].update([tup[0]])"
   ]
  },
  {
   "cell_type": "code",
   "execution_count": 161,
   "id": "surgical-johnson",
   "metadata": {},
   "outputs": [
    {
     "data": {
      "text/plain": [
       "('cf_superclass',\n",
       " Counter({'Benzenoids': 199,\n",
       "          'Phenylpropanoids and polyketides': 1001,\n",
       "          'Organoheterocyclic compounds': 484,\n",
       "          'Alkaloids and derivatives': 110,\n",
       "          'no matches': 3057,\n",
       "          'Lipids and lipid-like molecules': 1512,\n",
       "          'Organic acids and derivatives': 1605,\n",
       "          'Organic oxygen compounds': 169,\n",
       "          'Organic nitrogen compounds': 76,\n",
       "          'Nucleosides, nucleotides, and analogues': 17,\n",
       "          'Lignans, neolignans and related compounds': 56,\n",
       "          'Organosulfur compounds': 1,\n",
       "          'Hydrocarbon derivatives': 16,\n",
       "          'Organic Polymers': 35,\n",
       "          'Organohalogen compounds': 8}),\n",
       " 8346)"
      ]
     },
     "execution_count": 161,
     "metadata": {},
     "output_type": "execute_result"
    }
   ],
   "source": [
    "columns[1], column_counters[1], len(mne_component_dict)"
   ]
  },
  {
   "cell_type": "code",
   "execution_count": 162,
   "id": "neutral-information",
   "metadata": {},
   "outputs": [
    {
     "name": "stdout",
     "output_type": "stream",
     "text": [
      "cf_superclass \n",
      " [(0.0, 3057), (0.1, 5), (0.2, 51), (0.3, 191), (0.4, 192), (0.5, 412), (0.6, 114), (0.7, 84), (0.8, 75), (0.9, 19), (1.0, 4146)] \n",
      " 8346\n"
     ]
    },
    {
     "data": {
      "image/png": "[encoded data removed]",
      "text/plain": [
       "<Figure size 432x288 with 1 Axes>"
      ]
     },
     "metadata": {
      "needs_background": "light"
     },
     "output_type": "display_data"
    }
   ],
   "source": [
    "# now for scores rounded on 1 decimal\n",
    "column_counters = [Counter() for col in columns]\n",
    "column_vals = [[] for col in columns]\n",
    "x = 1  # superclass\n",
    "\n",
    "for values in mne_component_dict.values():\n",
    "    for i, tup in enumerate(values):\n",
    "        column_vals[i].append(tup[1])\n",
    "        column_counters[i].update([round(tup[1],1)])\n",
    "print(columns[x],'\\n', sorted(column_counters[x].items()), '\\n', len(mne_component_dict))\n",
    "plt.hist(column_vals[x], bins=10)\n",
    "plt.show()"
   ]
  },
  {
   "cell_type": "code",
   "execution_count": 165,
   "id": "signed-competition",
   "metadata": {},
   "outputs": [
    {
     "data": {
      "text/plain": [
       "('cf_superclass',\n",
       " [('Alkaloids and derivatives', 173),\n",
       "  ('Benzenoids', 281),\n",
       "  ('Hydrocarbon derivatives', 17),\n",
       "  ('Lignans, neolignans and related compounds', 61),\n",
       "  ('Lipids and lipid-like molecules', 4597),\n",
       "  ('Nucleosides, nucleotides, and analogues', 18),\n",
       "  ('Organic Polymers', 105),\n",
       "  ('Organic acids and derivatives', 2437),\n",
       "  ('Organic nitrogen compounds', 79),\n",
       "  ('Organic oxygen compounds', 231),\n",
       "  ('Organohalogen compounds', 16),\n",
       "  ('Organoheterocyclic compounds', 1013),\n",
       "  ('Organosulfur compounds', 1),\n",
       "  ('Phenylpropanoids and polyketides', 1528),\n",
       "  ('no matches', 3110)],\n",
       " 13667)"
      ]
     },
     "execution_count": 165,
     "metadata": {},
     "output_type": "execute_result"
    }
   ],
   "source": [
    "# nodes with a superclass\n",
    "node_superclass_counts = Counter()\n",
    "for node, comp in mne_cluster2component.items():\n",
    "    superclass = mne_component_dict[comp][1][0]\n",
    "    node_superclass_counts.update([superclass])\n",
    "columns[1], sorted(node_superclass_counts.most_common()), len(mne_cluster2component)"
   ]
  },
  {
   "cell_type": "code",
   "execution_count": 166,
   "id": "cognitive-wells",
   "metadata": {},
   "outputs": [
    {
     "name": "stdout",
     "output_type": "stream",
     "text": [
      "Alkaloids and derivatives\t173\n",
      "Benzenoids\t281\n",
      "Hydrocarbon derivatives\t17\n",
      "Lignans, neolignans and related compounds\t61\n",
      "Lipids and lipid-like molecules\t4597\n",
      "Nucleosides, nucleotides, and analogues\t18\n",
      "Organic Polymers\t105\n",
      "Organic acids and derivatives\t2437\n",
      "Organic nitrogen compounds\t79\n",
      "Organic oxygen compounds\t231\n",
      "Organohalogen compounds\t16\n",
      "Organoheterocyclic compounds\t1013\n",
      "Organosulfur compounds\t1\n",
      "Phenylpropanoids and polyketides\t1528\n",
      "no matches\t3110\n"
     ]
    }
   ],
   "source": [
    "for t1,t2 in sorted(node_superclass_counts.most_common()):\n",
    "    print(f'{t1}\\t{t2}')"
   ]
  },
  {
   "cell_type": "code",
   "execution_count": 167,
   "id": "appreciated-supervision",
   "metadata": {},
   "outputs": [
    {
     "data": {
      "text/plain": [
       "10557"
      ]
     },
     "execution_count": 167,
     "metadata": {},
     "output_type": "execute_result"
    }
   ],
   "source": [
    "sum(node_superclass_counts.values()) - 3110  # minus 'no matches'"
   ]
  },
  {
   "cell_type": "code",
   "execution_count": 168,
   "id": "institutional-gothic",
   "metadata": {},
   "outputs": [
    {
     "data": {
      "text/plain": [
       "('cf_superclass',\n",
       " Counter({'Benzenoids': 263,\n",
       "          'Phenylpropanoids and polyketides': 1373,\n",
       "          'Organoheterocyclic compounds': 981,\n",
       "          'Alkaloids and derivatives': 150,\n",
       "          'no matches': 2633,\n",
       "          'Lipids and lipid-like molecules': 3603,\n",
       "          'Organic acids and derivatives': 1865,\n",
       "          'Organic oxygen compounds': 209,\n",
       "          'Organic nitrogen compounds': 78,\n",
       "          'Nucleosides, nucleotides, and analogues': 18,\n",
       "          'Lignans, neolignans and related compounds': 60,\n",
       "          'Organosulfur compounds': 1,\n",
       "          'Hydrocarbon derivatives': 14,\n",
       "          'Organohalogen compounds': 16,\n",
       "          'Organic Polymers': 10}),\n",
       " 11274)"
      ]
     },
     "execution_count": 168,
     "metadata": {},
     "output_type": "execute_result"
    }
   ],
   "source": [
    "# nodes with a superclass <850 Da to compare to canopus\n",
    "node_superclass_counts_cut = Counter()\n",
    "cut = 850\n",
    "for node, comp in mne_cluster2component.items():\n",
    "    spec = [spec for spec in npl.spectra if spec.spectrum_id == int(node)][0]\n",
    "    if spec.parent_mz < cut:\n",
    "        superclass = mne_component_dict[comp][1][0]\n",
    "        node_superclass_counts_cut.update([superclass])\n",
    "columns[1], node_superclass_counts_cut, sum(node_superclass_counts_cut.values())"
   ]
  },
  {
   "cell_type": "code",
   "execution_count": 327,
   "id": "southeast-sweden",
   "metadata": {},
   "outputs": [
    {
     "name": "stdout",
     "output_type": "stream",
     "text": [
      "Alkaloids and derivatives\t150\n",
      "Benzenoids\t263\n",
      "Hydrocarbon derivatives\t14\n",
      "Lignans, neolignans and related compounds\t60\n",
      "Lipids and lipid-like molecules\t3603\n",
      "Nucleosides, nucleotides, and analogues\t18\n",
      "Organic Polymers\t10\n",
      "Organic acids and derivatives\t1865\n",
      "Organic nitrogen compounds\t78\n",
      "Organic oxygen compounds\t209\n",
      "Organohalogen compounds\t16\n",
      "Organoheterocyclic compounds\t981\n",
      "Organosulfur compounds\t1\n",
      "Phenylpropanoids and polyketides\t1373\n",
      "no matches\t2633\n"
     ]
    }
   ],
   "source": [
    "for t1,t2 in sorted(node_superclass_counts_cut.most_common()):\n",
    "    print(f'{t1}\\t{t2}')"
   ]
  },
  {
   "cell_type": "code",
   "execution_count": 328,
   "id": "associate-separation",
   "metadata": {},
   "outputs": [
    {
     "data": {
      "text/plain": [
       "('cf_superclass',\n",
       " Counter({'Benzenoids': 203,\n",
       "          'Phenylpropanoids and polyketides': 951,\n",
       "          'Organoheterocyclic compounds': 773,\n",
       "          'Alkaloids and derivatives': 119,\n",
       "          'no matches': 1940,\n",
       "          'Lipids and lipid-like molecules': 2686,\n",
       "          'Organic acids and derivatives': 1553,\n",
       "          'Organic oxygen compounds': 165,\n",
       "          'Organic nitrogen compounds': 72,\n",
       "          'Nucleosides, nucleotides, and analogues': 16,\n",
       "          'Lignans, neolignans and related compounds': 33,\n",
       "          'Organosulfur compounds': 1,\n",
       "          'Hydrocarbon derivatives': 8,\n",
       "          'Organohalogen compounds': 16,\n",
       "          'Organic Polymers': 10}),\n",
       " 8546)"
      ]
     },
     "execution_count": 328,
     "metadata": {},
     "output_type": "execute_result"
    }
   ],
   "source": [
    "# nodes with a superclass that have canopus prediction\n",
    "node_superclass_counts_also_canopus = Counter()\n",
    "for node, comp in mne_cluster2component.items():\n",
    "    spec = [spec for spec in npl.spectra if spec.spectrum_id == int(node)][0]\n",
    "    if node in npl.canopus.spectra_classes:\n",
    "        superclass = mne_component_dict[comp][1][0]\n",
    "        node_superclass_counts_also_canopus.update([superclass])\n",
    "columns[1], node_superclass_counts_also_canopus, sum(node_superclass_counts_also_canopus.values())"
   ]
  },
  {
   "cell_type": "code",
   "execution_count": 329,
   "id": "difficult-earthquake",
   "metadata": {},
   "outputs": [
    {
     "name": "stdout",
     "output_type": "stream",
     "text": [
      "Alkaloids and derivatives\t119\n",
      "Benzenoids\t203\n",
      "Hydrocarbon derivatives\t8\n",
      "Lignans, neolignans and related compounds\t33\n",
      "Lipids and lipid-like molecules\t2686\n",
      "Nucleosides, nucleotides, and analogues\t16\n",
      "Organic Polymers\t10\n",
      "Organic acids and derivatives\t1553\n",
      "Organic nitrogen compounds\t72\n",
      "Organic oxygen compounds\t165\n",
      "Organohalogen compounds\t16\n",
      "Organoheterocyclic compounds\t773\n",
      "Organosulfur compounds\t1\n",
      "Phenylpropanoids and polyketides\t951\n",
      "no matches\t1940\n"
     ]
    }
   ],
   "source": [
    "for t1,t2 in sorted(node_superclass_counts_also_canopus.most_common()):\n",
    "    print(f'{t1}\\t{t2}')"
   ]
  },
  {
   "cell_type": "code",
   "execution_count": 324,
   "id": "instructional-shelf",
   "metadata": {},
   "outputs": [
    {
     "data": {
      "text/plain": [
       "('cf_superclass',\n",
       " [('Alkaloids and derivatives', 9),\n",
       "  ('Benzenoids', 522),\n",
       "  ('Hydrocarbon derivatives', 13),\n",
       "  ('Hydrocarbons', 1),\n",
       "  ('Lignans, neolignans and related compounds', 3),\n",
       "  ('Lipids and lipid-like molecules', 1647),\n",
       "  ('Nucleosides, nucleotides, and analogues', 136),\n",
       "  ('Organic 1,3-dipolar compounds', 30),\n",
       "  ('Organic Polymers', 2),\n",
       "  ('Organic acids and derivatives', 4057),\n",
       "  ('Organic nitrogen compounds', 280),\n",
       "  ('Organic oxygen compounds', 882),\n",
       "  ('Organoheterocyclic compounds', 731),\n",
       "  ('Organophosphorus compounds', 2),\n",
       "  ('Organosulfur compounds', 29),\n",
       "  ('Phenylpropanoids and polyketides', 202)],\n",
       " 8546)"
      ]
     },
     "execution_count": 324,
     "metadata": {},
     "output_type": "execute_result"
    }
   ],
   "source": [
    "# compare to CANOPUS\n",
    "node_canopus_superclass_count = Counter()\n",
    "for spectrum in npl.spectra:\n",
    "    classes = npl.canopus.spectra_classes.get(str(spectrum.spectrum_id))\n",
    "    if classes:\n",
    "        node_canopus_superclass_count.update([classes[1][0][0]])\n",
    "npl.canopus.spectra_classes_names[1], sorted(node_canopus_superclass_count.most_common()), sum(node_canopus_superclass_count.values())"
   ]
  },
  {
   "cell_type": "code",
   "execution_count": 325,
   "id": "solved-gender",
   "metadata": {},
   "outputs": [
    {
     "name": "stdout",
     "output_type": "stream",
     "text": [
      "Alkaloids and derivatives\t9\n",
      "Benzenoids\t522\n",
      "Hydrocarbon derivatives\t13\n",
      "Hydrocarbons\t1\n",
      "Lignans, neolignans and related compounds\t3\n",
      "Lipids and lipid-like molecules\t1647\n",
      "Nucleosides, nucleotides, and analogues\t136\n",
      "Organic 1,3-dipolar compounds\t30\n",
      "Organic Polymers\t2\n",
      "Organic acids and derivatives\t4057\n",
      "Organic nitrogen compounds\t280\n",
      "Organic oxygen compounds\t882\n",
      "Organoheterocyclic compounds\t731\n",
      "Organophosphorus compounds\t2\n",
      "Organosulfur compounds\t29\n",
      "Phenylpropanoids and polyketides\t202\n"
     ]
    }
   ],
   "source": [
    "for t1,t2 in sorted(node_canopus_superclass_count.most_common()):\n",
    "    print(f\"{t1}\\t{t2}\")"
   ]
  },
  {
   "cell_type": "code",
   "execution_count": 334,
   "id": "medical-interference",
   "metadata": {},
   "outputs": [
    {
     "data": {
      "text/plain": [
       "('cf_superclass',\n",
       " Counter({'Benzenoids': 338,\n",
       "          'Lipids and lipid-like molecules': 1301,\n",
       "          'Organic nitrogen compounds': 243,\n",
       "          'Nucleosides, nucleotides, and analogues': 81,\n",
       "          'Hydrocarbon derivatives': 13,\n",
       "          'Organic oxygen compounds': 700,\n",
       "          'Organic acids and derivatives': 3229,\n",
       "          'Organoheterocyclic compounds': 534,\n",
       "          'Phenylpropanoids and polyketides': 113,\n",
       "          'Organosulfur compounds': 24,\n",
       "          'Alkaloids and derivatives': 7,\n",
       "          'Organic 1,3-dipolar compounds': 16,\n",
       "          'Lignans, neolignans and related compounds': 3,\n",
       "          'Organophosphorus compounds': 2,\n",
       "          'Hydrocarbons': 1,\n",
       "          'Organic Polymers': 1}),\n",
       " 6606)"
      ]
     },
     "execution_count": 334,
     "metadata": {},
     "output_type": "execute_result"
    }
   ],
   "source": [
    "# canopus predictions that also have MNE predictions\n",
    "canopus_also_mne_superclass = Counter()\n",
    "for node, comp in mne_cluster2component.items():\n",
    "    spec = [spec for spec in npl.spectra if spec.spectrum_id == int(node)][0]\n",
    "    if mne_component_dict[comp][1][0] and not mne_component_dict[comp][1][0] == 'no matches':\n",
    "        classes = npl.canopus.spectra_classes.get(node)\n",
    "        if classes:\n",
    "            superclass = classes[1][0][0]\n",
    "            canopus_also_mne_superclass.update([superclass])\n",
    "columns[1], canopus_also_mne_superclass, sum(canopus_also_mne_superclass.values())"
   ]
  },
  {
   "cell_type": "code",
   "execution_count": 335,
   "id": "given-clarity",
   "metadata": {},
   "outputs": [
    {
     "name": "stdout",
     "output_type": "stream",
     "text": [
      "Alkaloids and derivatives\t7\n",
      "Benzenoids\t338\n",
      "Hydrocarbon derivatives\t13\n",
      "Hydrocarbons\t1\n",
      "Lignans, neolignans and related compounds\t3\n",
      "Lipids and lipid-like molecules\t1301\n",
      "Nucleosides, nucleotides, and analogues\t81\n",
      "Organic 1,3-dipolar compounds\t16\n",
      "Organic Polymers\t1\n",
      "Organic acids and derivatives\t3229\n",
      "Organic nitrogen compounds\t243\n",
      "Organic oxygen compounds\t700\n",
      "Organoheterocyclic compounds\t534\n",
      "Organophosphorus compounds\t2\n",
      "Organosulfur compounds\t24\n",
      "Phenylpropanoids and polyketides\t113\n"
     ]
    }
   ],
   "source": [
    "for t1,t2 in sorted(canopus_also_mne_superclass.most_common()):\n",
    "    print(f\"{t1}\\t{t2}\")"
   ]
  },
  {
   "cell_type": "code",
   "execution_count": 318,
   "id": "alert-blood",
   "metadata": {},
   "outputs": [
    {
     "data": {
      "text/plain": [
       "8546"
      ]
     },
     "execution_count": 318,
     "metadata": {},
     "output_type": "execute_result"
    }
   ],
   "source": [
    "len(npl.canopus.spectra_classes)"
   ]
  },
  {
   "cell_type": "markdown",
   "id": "separated-concentration",
   "metadata": {},
   "source": [
    "## Scoring Spectra to GCF\n",
    "Do the same analysis as above but scoring from the spectrum side to the GCFs.\n",
    "\n",
    "To get a similar number of links removed as for the GCFs, a cutoff of 0.4 seems reasonable"
   ]
  },
  {
   "cell_type": "code",
   "execution_count": 176,
   "id": "eight-european",
   "metadata": {},
   "outputs": [
    {
     "name": "stdout",
     "output_type": "stream",
     "text": [
      "Number of results: 13374\n"
     ]
    }
   ],
   "source": [
    "results_spec = npl.get_links(npl.spectra, mc, and_mode=True)\n",
    "\n",
    "print('Number of results: {}'.format(len(results_spec)))"
   ]
  },
  {
   "cell_type": "code",
   "execution_count": 180,
   "id": "mighty-supervisor",
   "metadata": {},
   "outputs": [
    {
     "name": "stdout",
     "output_type": "stream",
     "text": [
      "16:34:01 [INFO] methods.py:982, Running NPClassScore...\n",
      "16:34:01 [INFO] methods.py:996, Using Metcalf scoring to get shared strains\n",
      "16:35:17 [INFO] methods.py:1003, Calculating NPClassScore for 13667 objects to 1581 targets (1784369 pairwise interactions that share at least 1 strain). This might take a while.\n",
      "16:39:08 [INFO] methods.py:1052, NPClassScore completed in 307.7s\n",
      "Number of results: 12178\n"
     ]
    }
   ],
   "source": [
    "results_0_spec = npl.get_links(npl.spectra, [mc, npcl_0], and_mode=True)\n",
    "\n",
    "print('Number of results: {}'.format(len(results_both_spec)))"
   ]
  },
  {
   "cell_type": "code",
   "execution_count": 193,
   "id": "systematic-worthy",
   "metadata": {},
   "outputs": [
    {
     "name": "stdout",
     "output_type": "stream",
     "text": [
      "[0.1 0.2 0.3 0.4 0.5 0.6 0.7 0.8 0.9]\n"
     ]
    }
   ],
   "source": [
    "# gradient of class linking score cutoff for spectrum -> GCF\n",
    "\n",
    "cs_cutoffs = np.arange(0.1, 1, 0.1)\n",
    "d_all_num_links_spec = []\n",
    "d_all_num_filtered_links_spec = {cut: [] for cut in cs_cutoffs}\n",
    "d_all_no_scores_spec = []\n",
    "\n",
    "for spec in npl.spectra:\n",
    "    num_links = 0\n",
    "    if spec in results_spec.links:\n",
    "        num_links = len([link_data for link_data in results_spec.get_sorted_links(mc, spec)])\n",
    "\n",
    "    for cs_cut in cs_cutoffs:\n",
    "        num_filtered_links = 0\n",
    "        if spec in results_0_spec.links:\n",
    "            num_filtered_links = len([link_data for link_data in results_0_spec.get_sorted_links(mc, spec) \n",
    "                                      if float(npcl_0.format_data(link_data[npcl_0])) > cs_cut])\n",
    "        d_all_num_filtered_links_spec[cs_cut].append(num_filtered_links)\n",
    "    d_all_num_links_spec.append(num_links)\n",
    "#     all_num_filtered_links.append(num_filtered_links)"
   ]
  },
  {
   "cell_type": "code",
   "execution_count": 195,
   "id": "artistic-roots",
   "metadata": {},
   "outputs": [
    {
     "name": "stdout",
     "output_type": "stream",
     "text": [
      "NPClassScore_cutoff\tNumber_of_links\tChange\n",
      "0\t64.69\n",
      "0.1\t46.34\t-0.28\n",
      "0.2\t37.72\t-0.42\n",
      "0.3\t30.31\t-0.53\n",
      "0.4\t23.24\t-0.64\n",
      "0.5\t12.79\t-0.80\n",
      "0.6\t9.68\t-0.85\n",
      "0.7\t6.52\t-0.90\n",
      "0.8\t4.61\t-0.93\n",
      "0.9\t3.94\t-0.94\n"
     ]
    }
   ],
   "source": [
    "print(f\"NPClassScore_cutoff\\tNumber_of_links\\tChange\")\n",
    "print(f\"0\\t{np.mean(d_all_num_links_spec):.2f}\")\n",
    "for cs_cut, filt_links in d_all_num_filtered_links_spec.items():\n",
    "    print(f\"{cs_cut:.1f}\\t{np.mean(filt_links):.2f}\\t{(np.mean(filt_links)-np.mean(d_all_num_links_spec))/np.mean(d_all_num_links_spec):.2f}\")"
   ]
  },
  {
   "cell_type": "code",
   "execution_count": 197,
   "id": "stupid-links",
   "metadata": {},
   "outputs": [
    {
     "data": {
      "image/png": "[encoded data removed]",
      "text/plain": [
       "<Figure size 1008x576 with 1 Axes>"
      ]
     },
     "metadata": {
      "needs_background": "light"
     },
     "output_type": "display_data"
    }
   ],
   "source": [
    "sorted_filt_items_spec = sorted(d_all_num_filtered_links_spec.items())\n",
    "labels_spec = [\"0\"] + [f\"{cut:.1f}\" for cut, vals in sorted_filt_items_spec]\n",
    "xs_spec = [d_all_num_links_spec] + [vals for keys, vals in sorted_filt_items_spec]\n",
    "lg_size = 14\n",
    "custom_xlim = (-1, 500)\n",
    "links_title_spec = \"Number of links per spectrum\"\n",
    "\n",
    "fig, ax = plt.subplots(nrows=1, ncols=1, figsize=(14, 8))\n",
    "ax.boxplot(xs_spec, labels=labels_spec, flierprops={\"markersize\": 0.5}, medianprops={\"color\": \"black\"})\n",
    "plt.setp(ax, ylim=custom_xlim, xlabel=\"Cutoffs NPClassScore\", ylabel=links_title_spec)\n",
    "figout = \"/home/louwe015/NPLinker/boxplot_cutoffs_npclass_spectra_mix_can-mne_figure.svg\"\n",
    "plt.savefig(figout)"
   ]
  },
  {
   "cell_type": "code",
   "execution_count": 216,
   "id": "included-samuel",
   "metadata": {},
   "outputs": [
    {
     "name": "stdout",
     "output_type": "stream",
     "text": [
      "17:39:04 [INFO] methods.py:982, Running NPClassScore...\n",
      "17:39:05 [INFO] methods.py:996, Using Metcalf scoring to get shared strains\n",
      "17:40:09 [INFO] methods.py:1003, Calculating NPClassScore for 13667 objects to 1581 targets (1784369 pairwise interactions that share at least 1 strain). This might take a while.\n",
      "17:43:17 [INFO] methods.py:1052, NPClassScore completed in 252.0s\n",
      "Number of results: 11735\n"
     ]
    }
   ],
   "source": [
    "npcl_spec = npl.scoring_method('npclassscore')\n",
    "npcl_spec.cutoff = 0.4\n",
    "results_both_spec = npl.get_links(npl.spectra, [mc, npcl_spec], and_mode=True)\n",
    "\n",
    "print('Number of results: {}'.format(len(results_both_spec)))"
   ]
  },
  {
   "cell_type": "markdown",
   "id": "productive-transaction",
   "metadata": {},
   "source": [
    "For each GCF count the number of links with and without NPClassScore filtering using the chosen cutoff of 0.4."
   ]
  },
  {
   "cell_type": "code",
   "execution_count": 217,
   "id": "central-willow",
   "metadata": {},
   "outputs": [
    {
     "data": {
      "text/plain": [
       "(64.69371478744421, 23.242920904368187)"
      ]
     },
     "execution_count": 217,
     "metadata": {},
     "output_type": "execute_result"
    }
   ],
   "source": [
    "# loop through all gcfs (objects) and count how many links exist (spectra)\n",
    "all_num_links_spec = []\n",
    "all_num_filtered_links_spec = []\n",
    "all_no_scores_spec = []\n",
    "\n",
    "for spec in npl.spectra:\n",
    "    num_links = 0\n",
    "    if spec in results_spec.links:\n",
    "        num_links = len([link_data for link_data in results_spec.get_sorted_links(mc, spec)])\n",
    "\n",
    "    num_filtered_links = 0\n",
    "    if spec in results_both_spec.links:\n",
    "        num_filtered_links = len([link_data for link_data in results_both_spec.get_sorted_links(mc, spec)])\n",
    "    all_num_links_spec.append(num_links)\n",
    "    all_num_filtered_links_spec.append(num_filtered_links)\n",
    "\n",
    "np.mean(all_num_links_spec), np.mean(all_num_filtered_links_spec)"
   ]
  },
  {
   "cell_type": "code",
   "execution_count": 218,
   "id": "operational-sheriff",
   "metadata": {},
   "outputs": [
    {
     "name": "stdout",
     "output_type": "stream",
     "text": [
      "Use MNE when there is no CANOPUS prediction\n"
     ]
    },
    {
     "data": {
      "image/png": "[encoded data removed]",
      "text/plain": [
       "<Figure size 504x432 with 1 Axes>"
      ]
     },
     "metadata": {
      "needs_background": "light"
     },
     "output_type": "display_data"
    }
   ],
   "source": [
    "print(\"Use MNE when there is no CANOPUS prediction\")\n",
    "labels = [\"Links\", \"Filtered links\"]\n",
    "colours = [\"#003f5c\", \"#bc5090\", \"#ffa600\"]\n",
    "xs = [all_num_links_spec, all_num_filtered_links_spec]\n",
    "lg_size = 14\n",
    "custom_xlim = (-1, 500)\n",
    "bin_size = 10\n",
    "n_bins = np.arange(0, 2500, bin_size)\n",
    "links_title = \"Number of links per spectrum\"\n",
    "count_title = \"Spectrum counts\"\n",
    "hist_type = \"stepfilled\"\n",
    "alpha = 0.75\n",
    "\n",
    "SMALL_SIZE = 12\n",
    "MEDIUM_SIZE = 16\n",
    "BIGGER_SIZE = 18\n",
    "\n",
    "plt.rc('font', size=MEDIUM_SIZE)          # controls default text sizes\n",
    "plt.rc('axes', titlesize=MEDIUM_SIZE)     # fontsize of the axes title\n",
    "plt.rc('axes', labelsize=MEDIUM_SIZE)    # fontsize of the x and y labels\n",
    "plt.rc('xtick', labelsize=SMALL_SIZE)    # fontsize of the tick labels\n",
    "plt.rc('ytick', labelsize=SMALL_SIZE)    # fontsize of the tick labels\n",
    "plt.rc('legend', fontsize=SMALL_SIZE)    # legend fontsize\n",
    "# plt.rc('figure', titlesize=BIGGER_SIZE)  # fontsize of the figure title\n",
    "\n",
    "fig, ax0 = plt.subplots(nrows=1, ncols=1, figsize=(7, 6))\n",
    "ax0.hist(xs[:2], bins=n_bins, density=False, histtype=hist_type, stacked=False, label=labels[:2],\n",
    "         color=colours[:2], alpha=alpha)\n",
    "ax0.legend(prop={'size': lg_size})\n",
    "plt.setp(ax0, xlim=custom_xlim, xlabel=links_title, ylabel=count_title)\n",
    "figout = \"/home/louwe015/NPLinker/filtered_links_spectra_mix_can-mne_figure_new.svg\"\n",
    "plt.savefig(figout)"
   ]
  }
 ],
 "metadata": {
  "kernelspec": {
   "display_name": "Python 3",
   "language": "python",
   "name": "python3"
  },
  "language_info": {
   "codemirror_mode": {
    "name": "ipython",
    "version": 3
   },
   "file_extension": ".py",
   "mimetype": "text/x-python",
   "name": "python",
   "nbconvert_exporter": "python",
   "pygments_lexer": "ipython3",
   "version": "3.7.2"
  }
 },
 "nbformat": 4,
 "nbformat_minor": 5
}
