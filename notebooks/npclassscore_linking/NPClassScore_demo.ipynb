{
 "cells": [
  {
   "cell_type": "markdown",
   "id": "sophisticated-syracuse",
   "metadata": {},
   "source": [
    "## Use NPClassScore on a local dataset"
   ]
  },
  {
   "cell_type": "code",
   "execution_count": 1,
   "id": "joint-specification",
   "metadata": {},
   "outputs": [],
   "source": [
    "import os\n",
    "import sys\n",
    "import glob\n",
    "# if running from clone of the git repo\n",
    "sys.path.append('../../prototype')\n",
    "\n",
    "# import the main NPLinker class. normally this all that's required to work\n",
    "# with NPLinker in a notebook environment\n",
    "from nplinker.nplinker import NPLinker\n",
    "from nplinker.nplinker import Spectrum  # to be able to separate molfams and spectrums from each other in results"
   ]
  },
  {
   "cell_type": "code",
   "execution_count": 2,
   "id": "threatened-bankruptcy",
   "metadata": {
    "scrolled": true
   },
   "outputs": [
    {
     "name": "stdout",
     "output_type": "stream",
     "text": [
      "12:22:58 [INFO] config.py:121, Loading from local data in directory /mnt/scratch/louwe015/NPLinker/own/nplinker_shared/crusemann_3ids_AS6-AS3_30-11/\n",
      "12:22:58 [WARNING] loader.py:50, WARNING: unable to find extra_nodes_file in path \"/mnt/scratch/louwe015/NPLinker/own/nplinker_shared/crusemann_3ids_AS6-AS3_30-11/quantification_table_reformatted/*.csv\"\n",
      "12:22:58 [WARNING] loader.py:50, WARNING: unable to find metadata_table_file in path \"/mnt/scratch/louwe015/NPLinker/own/nplinker_shared/crusemann_3ids_AS6-AS3_30-11/metadata_table/metadata_table*.txt\"\n",
      "12:22:58 [WARNING] loader.py:50, WARNING: unable to find quantification_table_file in path \"/mnt/scratch/louwe015/NPLinker/own/nplinker_shared/crusemann_3ids_AS6-AS3_30-11/quantification_table/quantification_table*.csv\"\n",
      "12:22:58 [INFO] loader.py:84, Trying to discover correct bigscape directory under /mnt/scratch/louwe015/NPLinker/own/nplinker_shared/crusemann_3ids_AS6-AS3_30-11/bigscape\n",
      "12:22:58 [INFO] loader.py:87, Found network files directory: /mnt/scratch/louwe015/NPLinker/own/nplinker_shared/crusemann_3ids_AS6-AS3_30-11/bigscape/network_files/2021-12-02_16-48-06_hybrids_glocal\n",
      "12:22:58 [INFO] loader.py:222, Updating bigscape_dir to discovered location /mnt/scratch/louwe015/NPLinker/own/nplinker_shared/crusemann_3ids_AS6-AS3_30-11/bigscape/network_files/2021-12-02_16-48-06_hybrids_glocal\n",
      "12:22:58 [INFO] loader.py:633, Loaded global strain IDs (0 total)\n",
      "12:22:58 [INFO] loader.py:644, Loaded dataset strain IDs (159 total)\n",
      "12:23:02 [INFO] metabolomics.py:699, 13667 molecules parsed from MGF file\n",
      "12:23:03 [INFO] metabolomics.py:716, Found older-style GNPS dataset, no quantification table\n",
      "12:23:03 [WARNING] metabolomics.py:516, Unknown strain: 37c.mzXML for cluster index 63\n",
      "12:23:03 [WARNING] metabolomics.py:516, Unknown strain: 32c.mzXML for cluster index 110\n",
      "12:23:03 [WARNING] metabolomics.py:516, Unknown strain: 32b.mzXML for cluster index 110\n",
      "12:23:03 [WARNING] metabolomics.py:516, Unknown strain: 36c.mzXML for cluster index 110\n",
      "12:23:03 [WARNING] metabolomics.py:516, Unknown strain: 28b.mzXML for cluster index 118\n",
      "12:23:03 [WARNING] metabolomics.py:516, Unknown strain: 40a.mzXML for cluster index 142\n",
      "12:23:03 [WARNING] metabolomics.py:516, Unknown strain: 40b.mzXML for cluster index 142\n",
      "12:23:03 [WARNING] metabolomics.py:516, Unknown strain: 28a.mzXML for cluster index 143\n",
      "12:23:03 [WARNING] metabolomics.py:516, Unknown strain: R551-3-Me.mzXML for cluster index 227\n",
      "12:23:03 [WARNING] metabolomics.py:516, Unknown strain: neg-3-EA.mzXML for cluster index 227\n",
      "12:23:03 [WARNING] metabolomics.py:516, Unknown strain: -ve_R5_B.mzXML for cluster index 378\n",
      "12:23:03 [WARNING] metabolomics.py:516, Unknown strain: CNY228_MS_E.mzXML for cluster index 419\n",
      "12:23:03 [WARNING] metabolomics.py:516, Unknown strain: -ve_R5_M.mzXML for cluster index 441\n",
      "12:23:03 [WARNING] metabolomics.py:516, Unknown strain: S.gris_MS_M.mzXML for cluster index 448\n",
      "12:23:03 [WARNING] metabolomics.py:516, Unknown strain: -ve_MS_E.mzXML for cluster index 486\n",
      "12:23:03 [WARNING] metabolomics.py:516, Unknown strain: Y254-3-Me.mzXML for cluster index 906\n",
      "12:23:03 [WARNING] metabolomics.py:516, Unknown strain: H721-3-Me.mzXML for cluster index 906\n",
      "12:23:03 [WARNING] metabolomics.py:516, Unknown strain: R416-3-Me.mzXML for cluster index 906\n",
      "12:23:03 [WARNING] metabolomics.py:516, Unknown strain: R551-3-EA.mzXML for cluster index 1183\n",
      "12:23:03 [WARNING] metabolomics.py:516, Unknown strain: H721-3-EA.mzXML for cluster index 1418\n",
      "12:23:03 [WARNING] metabolomics.py:516, Unknown strain: H721-3-Bu.mzXML for cluster index 3496\n",
      "12:23:03 [WARNING] metabolomics.py:516, Unknown strain: R551-3-Bu.mzXML for cluster index 5198\n",
      "12:23:03 [WARNING] metabolomics.py:516, Unknown strain: neg-3-Me.mzXML for cluster index 5360\n",
      "12:23:03 [WARNING] metabolomics.py:516, Unknown strain: neg-3-Bu.mzXML for cluster index 5369\n",
      "12:23:03 [WARNING] metabolomics.py:516, Unknown strain: R416-3-EA.mzXML for cluster index 5369\n",
      "12:23:03 [WARNING] metabolomics.py:516, Unknown strain: R416-3-Bu.mzXML for cluster index 5436\n",
      "12:23:03 [WARNING] metabolomics.py:516, Unknown strain: -ve_A1_B.mzXML for cluster index 5615\n",
      "12:23:03 [WARNING] metabolomics.py:516, Unknown strain: -ve_A1_M.mzXML for cluster index 5615\n",
      "12:23:03 [WARNING] metabolomics.py:516, Unknown strain: -ve_R5_E.mzXML for cluster index 6518\n",
      "12:23:03 [WARNING] metabolomics.py:516, Unknown strain: -ve_MS_B.mzXML for cluster index 8678\n",
      "12:23:03 [WARNING] metabolomics.py:516, Unknown strain: -ve_A1_E.mzXML for cluster index 9112\n",
      "12:23:03 [WARNING] metabolomics.py:516, Unknown strain: Y254-3-EA.mzXML for cluster index 30611\n",
      "12:23:03 [WARNING] metabolomics.py:516, Unknown strain: -ve_MS_M.mzXML for cluster index 44505\n",
      "12:23:03 [WARNING] metabolomics.py:516, Unknown strain: Y254-3-Bu.mzXML for cluster index 49548\n",
      "12:23:03 [WARNING] metabolomics.py:516, Unknown strain: 35c.mzXML for cluster index 56273\n",
      "12:23:03 [WARNING] metabolomics.py:516, Unknown strain: 37b.mzXML for cluster index 56273\n",
      "12:23:03 [WARNING] metabolomics.py:516, Unknown strain: 14a.mzXML for cluster index 95015\n",
      "12:23:03 [WARNING] metabolomics.py:516, Unknown strain: 21c.mzXML for cluster index 95015\n",
      "12:23:03 [WARNING] metabolomics.py:516, Unknown strain: 14b.mzXML for cluster index 95015\n",
      "12:23:03 [WARNING] metabolomics.py:516, Unknown strain: 6a.mzXML for cluster index 116381\n",
      "12:23:03 [WARNING] metabolomics.py:516, Unknown strain: 6b.mzXML for cluster index 116381\n",
      "12:23:03 [WARNING] metabolomics.py:516, Unknown strain: 1b.mzXML for cluster index 244653\n",
      "12:23:03 [WARNING] metabolomics.py:531, 42 unknown strains were detected a total of 3562 times\n",
      "12:23:03 [WARNING] loader.py:569, Writing unknown strains from METABOLOMICS data to /mnt/scratch/louwe015/NPLinker/own/nplinker_shared/crusemann_3ids_AS6-AS3_30-11/unknown_strains_met.csv\n",
      "12:23:03 [INFO] loader.py:576, Loading provided annotation files (/mnt/scratch/louwe015/NPLinker/own/nplinker_shared/crusemann_3ids_AS6-AS3_30-11/result_specnets_DB)\n",
      "12:23:28 [INFO] genomics.py:461, Found 1816 MiBIG json files\n",
      "12:23:40 [INFO] genomics.py:253, Using antiSMASH filename delimiters ['.', '_', '-']\n",
      "12:26:22 [INFO] genomics.py:368, # MiBIG BGCs = 0, non-MiBIG BGCS = 7685, total bgcs = 7685, GCFs = 1581, strains=1975\n",
      "12:26:22 [INFO] genomics.py:425, Filtering MiBIG BGCs: removing 0 GCFs and 0 BGCs\n",
      "12:26:22 [INFO] genomics.py:375, # after filtering, total bgcs = 5869, GCFs = 1581, strains=159, unknown_strains=0\n",
      "12:26:23 [WARNING] loader.py:557, Writing unknown strains from GENOMICS data to /mnt/scratch/louwe015/NPLinker/own/nplinker_shared/crusemann_3ids_AS6-AS3_30-11/unknown_strains_gen.csv\n",
      "12:26:23 [INFO] class_matches.py:44, Loaded MIBiG classes, and class matching tables\n",
      "12:26:23 [INFO] chem_classes.py:171, reading canopus results for spectra from /mnt/scratch/louwe015/NPLinker/own/nplinker_shared/crusemann_3ids_AS6-AS3_30-11/canopus/cluster_index_classifications.txt\n",
      "12:26:24 [INFO] chem_classes.py:365, reading molnetenhancer results from /mnt/scratch/louwe015/NPLinker/own/nplinker_shared/crusemann_3ids_AS6-AS3_30-11/molnetenhancer\n",
      "12:26:24 [INFO] loader.py:353, Writing common strain labels to /mnt/scratch/louwe015/NPLinker/own/nplinker_shared/crusemann_3ids_AS6-AS3_30-11/common_strains.csv\n",
      "12:26:24 [INFO] loader.py:366, Strains filtered down to total of 154\n",
      "12:26:24 [INFO] loader.py:292, No further strain filtering to apply\n"
     ]
    },
    {
     "data": {
      "text/plain": [
       "True"
      ]
     },
     "execution_count": 2,
     "metadata": {},
     "output_type": "execute_result"
    }
   ],
   "source": [
    "# load your local dataset\n",
    "npl = NPLinker({'dataset': {'root': '/mnt/scratch/louwe015/NPLinker/own/nplinker_shared/crusemann_3ids_AS6-AS3_30-11/'}})\n",
    "npl.load_data()"
   ]
  },
  {
   "cell_type": "code",
   "execution_count": 3,
   "id": "annual-improvement",
   "metadata": {},
   "outputs": [
    {
     "name": "stdout",
     "output_type": "stream",
     "text": [
      "{'loglevel': 'INFO', 'logfile': '', 'log_to_stdout': True, 'repro_file': '', 'dataset': {'root': '/mnt/scratch/louwe015/NPLinker/own/nplinker_shared/crusemann_3ids_AS6-AS3_30-11/', 'overrides': {}, 'platform_id': ''}, 'antismash': {'antismash_format': 'default', 'ignore_spaces': False}, 'docker': {'run_bigscape': True, 'extra_bigscape_parameters': ''}, 'webapp': {'tables_metcalf_threshold': 2.0}, 'scoring': {'rosetta': {}}}\n",
      "../../prototype/nplinker/data\n",
      "\n",
      "/mnt/scratch/louwe015/NPLinker/own/nplinker_shared/crusemann_3ids_AS6-AS3_30-11/\n",
      "BGCs: 5869\n",
      "GCFs: 1581\n",
      "Spectra: 13667\n",
      "Molecular Families: 8346\n"
     ]
    }
   ],
   "source": [
    "# Basic functionality\n",
    "# ===================\n",
    "#\n",
    "# Once you have an NPLinker object with all data loaded, there are a collection of simple\n",
    "# methods and properties you can use to access objects and metadata. Some examples are \n",
    "# given below, see https://nplinker.readthedocs.io/en/latest/ for a complete API description.\n",
    "\n",
    "# configuration/dataset metadata\n",
    "# - a copy of the configuration as parsed from the .toml file (dict)\n",
    "print(npl.config) \n",
    "# - the path to the directory where various nplinker data files are located (e.g. the \n",
    "#   default configuration file template) (str)\n",
    "print(npl.data_dir)\n",
    "# - a dataset ID, derived from the path for local datasets or the paired platform ID\n",
    "#   for datasets loaded from that source (str)\n",
    "print(npl.dataset_id)\n",
    "# - the root directory for the current dataset (str)\n",
    "print(npl.root_dir)\n",
    "\n",
    "# objects\n",
    "# - you can directly access lists of each of the 4 object types:\n",
    "print('BGCs:', len(npl.bgcs))\n",
    "print('GCFs:', len(npl.gcfs)) # contains GCF objects\n",
    "print('Spectra:', len(npl.spectra)) # contains Spectrum objects\n",
    "print('Molecular Families:', len(npl.molfams)) # contains MolecularFamily objects"
   ]
  },
  {
   "cell_type": "markdown",
   "id": "logical-nightmare",
   "metadata": {},
   "source": [
    "### Run NPClassScore on data"
   ]
  },
  {
   "cell_type": "code",
   "execution_count": 4,
   "id": "exempt-jordan",
   "metadata": {},
   "outputs": [
    {
     "name": "stdout",
     "output_type": "stream",
     "text": [
      "12:26:24 [INFO] methods.py:968, Set up NPClassScore scoring\n",
      "12:26:24 [INFO] methods.py:970, Please choose one of the methods from ['mix', 'main', 'canopus', 'molnetenhancer']\n",
      "12:26:24 [INFO] methods.py:976, Currently the method 'mix' is selected\n",
      "12:26:24 [INFO] methods.py:982, Running NPClassScore...\n",
      "12:26:24 [INFO] methods.py:996, Using Metcalf scoring to get shared strains\n",
      "12:26:24 [INFO] methods.py:459, MetcalfScoring.setup (bgcs=5869, gcfs=1581, spectra=13667, molfams=8346, strains=154)\n",
      "12:26:25 [INFO] methods.py:499, MetcalfScoring.setup completed\n",
      "12:27:12 [INFO] methods.py:1003, Calculating NPClassScore for 1581 objects to 13667 targets (1784369 pairwise interactions that share at least 1 strain). This might take a while.\n",
      "12:29:49 [INFO] methods.py:1052, NPClassScore completed in 204.7s\n",
      "Number of results: 1581\n",
      "{<nplinker.scoring.methods.NPClassScoring object at 0x7f08fa1b8e48>}\n"
     ]
    }
   ],
   "source": [
    "# Use NPClassScore alone\n",
    "npcl = npl.scoring_method('npclassscore')\n",
    "\n",
    "'''\n",
    "Now npcl is an instance of the class that implements NPClassScore scoring. Once\n",
    "you have such an instance, you may change any of the parameters it exposes.\n",
    "In the case of NPClassScore scoring, the following parameters are currently exposed:\n",
    "- cutoff (float): the scoring threshold, default 0.25. Links with scores less than this are excluded\n",
    "- method (str): the chemical class prediction tool that is used, default is mix. Choose from .method_options:\n",
    "      mix - use all tools (first canopus then molnetenhancer), main - use main method (canopus),\n",
    "      canopus - use canopus, molnetenhancer - use molnetenhancer\n",
    "\n",
    "Less important parameters:\n",
    "- equal_targets (bool): targets are on equal level, default is False. I.e. if input object is GCF,\n",
    "       target is spectra and not MFs.\n",
    "- both_targets (bool): take both targets from the other side, default is False. I.e. if input object\n",
    "        is GCF, target both spectra and MF as targets.\n",
    "- num_results (int): how many scores do you want to show for each link. Default is 1 showing\n",
    "       only NPClassScore (the best) score.\n",
    "- filter_missing_scores (bool): filter out spectra without a score due to missing spectrum classes,\n",
    "        default is False.'''\n",
    "npcl.cutoff = 0.25\n",
    "\n",
    "results = npl.get_links(npl.gcfs, npcl, and_mode=True)\n",
    "\n",
    "# get_links returns an instance of a class called LinkCollection. This provides a wrapper\n",
    "# around the results of the scoring operation and has various useful properties/methods:\n",
    "#\n",
    "# - len(results) or .source_count will tell you how many of the input_objects were found to have links\n",
    "print('Number of results: {}'.format(len(results)))\n",
    "# - .sources is a list of those objects\n",
    "objects_with_links = results.sources\n",
    "# - .links is a dict with structure {input_object: {linked_object: ObjectLink}} \n",
    "objects_and_link_info = results.links\n",
    "# - .get_all_targets() will return a flat list of *all* the linked objects (for all sources)\n",
    "all_targets = results.get_all_targets() \n",
    "# - .methods is a list of the scoring methods passed to get_links\n",
    "print(results.methods)"
   ]
  },
  {
   "cell_type": "code",
   "execution_count": 18,
   "id": "appointed-closer",
   "metadata": {},
   "outputs": [
    {
     "name": "stdout",
     "output_type": "stream",
     "text": [
      "Results for object: GCF(id=534, class=Others, gcf_id=511, strains=54), 644 total links, 1 methods used\n",
      "\n",
      "ObjectLink:  ObjectLink(source=GCF(id=534, class=Others, gcf_id=511, strains=54), target=Spectrum(id=88, spectrum_id=424, strains=2), #methods=1)\n",
      "  --> [npclassscore] Spectrum(id=88, spectrum_id=424, strains=2) | 0.781 | shared strains = 1\n",
      "   unfiltered direct result from NPClassScore: [(0.780952380952381, 'as_classes', 'cf_superclass', 'indole', 'Organoheterocyclic compounds')]\n"
     ]
    }
   ],
   "source": [
    "# show the result for one of the objects - in this case a GCF encoding staurosporine\n",
    "obj = npl.gcfs[534]\n",
    "\n",
    "result = results.links[obj]\n",
    "print('Results for object: {}, {} total links, {} methods used\\n'.format(obj, len(result), results.method_count))\n",
    "sorted_links = results.get_sorted_links(npcl, obj)\n",
    "link_data = sorted_links[0]\n",
    "print(\"ObjectLink: \", link_data)\n",
    "print('  --> [{}] {} | {} | shared strains = {}'.format(','.join(method.name for method in link_data.methods),\n",
    "                                                                 link_data.target,\n",
    "                                                                 npcl.format_data(link_data[npcl]),\n",
    "                                                                 len(link_data.shared_strains)))\n",
    "print(\"   unfiltered direct result from NPClassScore:\", link_data[npcl])"
   ]
  },
  {
   "cell_type": "markdown",
   "id": "auburn-southwest",
   "metadata": {},
   "source": [
    "### Run NPClassScore and Metcalf scoring"
   ]
  },
  {
   "cell_type": "code",
   "execution_count": 6,
   "id": "turned-simon",
   "metadata": {},
   "outputs": [
    {
     "name": "stdout",
     "output_type": "stream",
     "text": [
      "12:31:02 [INFO] methods.py:982, Running NPClassScore...\n",
      "12:31:02 [INFO] methods.py:996, Using Metcalf scoring to get shared strains\n",
      "12:31:49 [INFO] methods.py:1003, Calculating NPClassScore for 1581 objects to 13667 targets (1784369 pairwise interactions that share at least 1 strain). This might take a while.\n",
      "12:34:44 [INFO] methods.py:1052, NPClassScore completed in 221.6s\n",
      "Number of results for Metcalf and NPClassScore scoring: 1574\n",
      "{<nplinker.scoring.methods.MetcalfScoring object at 0x7f0892776898>, <nplinker.scoring.methods.NPClassScoring object at 0x7f08fa1b8e48>}\n"
     ]
    }
   ],
   "source": [
    "# Initialise metcalf scoring the same way\n",
    "mc = npl.scoring_method('metcalf')\n",
    "mc.cutoff = 2.5\n",
    "mc.standardised = True\n",
    "\n",
    "# Now only links are kept that pass the cutoff for both methods\n",
    "results_both = npl.get_links(npl.gcfs, [mc, npcl], and_mode=True)\n",
    "\n",
    "print('Number of results for Metcalf and NPClassScore scoring: {}'.format(len(results_both)))\n",
    "print(results_both.methods)"
   ]
  },
  {
   "cell_type": "code",
   "execution_count": 17,
   "id": "embedded-craps",
   "metadata": {
    "scrolled": true
   },
   "outputs": [
    {
     "name": "stdout",
     "output_type": "stream",
     "text": [
      "Results for object: GCF(id=534, class=Others, gcf_id=511, strains=54), 21 total links, 2 methods used\n",
      "0  --> [metcalf,npclassscore] Spectrum(id=3632, spectrum_id=89513, strains=67) | mc:8.9996 npcl:0.781 | shared strains = 50\n",
      "   unfiltered results: 8.99963318035332 [(0.780952380952381, 'as_classes', 'cf_superclass', 'indole', 'Organoheterocyclic compounds')]\n",
      "1  --> [metcalf,npclassscore] Spectrum(id=4070, spectrum_id=95003, strains=21) | mc:4.7266 npcl:0.702 | shared strains = 17\n",
      "   unfiltered results: 4.726582782023565 [(0.7021276595744681, 'as_classes', 'npc_pathway', 'indole', 'Alkaloids')]\n",
      "2  --> [metcalf,npclassscore] Spectrum(id=3544, spectrum_id=87806, strains=27) | mc:4.6625 npcl:0.702 | shared strains = 20\n",
      "   unfiltered results: 4.6624688447848435 [(0.7021276595744681, 'as_classes', 'npc_pathway', 'indole', 'Alkaloids')]\n",
      "3  --> [metcalf,npclassscore] Spectrum(id=4060, spectrum_id=94966, strains=27) | mc:4.6625 npcl:0.702 | shared strains = 20\n",
      "   unfiltered results: 4.6624688447848435 [(0.7021276595744681, 'as_classes', 'npc_pathway', 'indole', 'Alkaloids')]\n",
      "4  --> [metcalf,npclassscore] Spectrum(id=4276, spectrum_id=100033, strains=13) | mc:4.5056 npcl:0.702 | shared strains = 12\n",
      "   unfiltered results: 4.50559572073334 [(0.7021276595744681, 'as_classes', 'npc_pathway', 'indole', 'Alkaloids')]\n",
      "5  --> [metcalf,npclassscore] Spectrum(id=4073, spectrum_id=95015, strains=10) | mc:4.4358 npcl:0.781 | shared strains = 10\n",
      "   unfiltered results: 4.435755395186497 [(0.780952380952381, 'as_classes', 'cf_superclass', 'indole', 'Organoheterocyclic compounds')]\n",
      "6  --> [metcalf,npclassscore] Spectrum(id=2561, spectrum_id=73747, strains=8) | mc:3.9402 npcl:0.781 | shared strains = 8\n",
      "   unfiltered results: 3.940192146996286 [(0.780952380952381, 'as_classes', 'cf_superclass', 'indole', 'Organoheterocyclic compounds')]\n",
      "7  --> [metcalf,npclassscore] Spectrum(id=141, spectrum_id=906, strains=35) | mc:3.5054 npcl:0.781 | shared strains = 21\n",
      "   unfiltered results: 3.505424368033068 [(0.780952380952381, 'as_classes', 'cf_superclass', 'indole', 'Organoheterocyclic compounds')]\n",
      "8  --> [metcalf,npclassscore] Spectrum(id=4076, spectrum_id=95046, strains=6) | mc:3.3892 npcl:0.781 | shared strains = 6\n",
      "   unfiltered results: 3.3891719470228776 [(0.780952380952381, 'as_classes', 'cf_superclass', 'indole', 'Organoheterocyclic compounds')]\n",
      "9  --> [metcalf,npclassscore] Spectrum(id=4075, spectrum_id=95022, strains=8) | mc:3.1817 npcl:0.781 | shared strains = 7\n",
      "   unfiltered results: 3.1817051586994998 [(0.780952380952381, 'as_classes', 'cf_superclass', 'indole', 'Organoheterocyclic compounds')]\n",
      "10  --> [metcalf,npclassscore] Spectrum(id=7740, spectrum_id=147931, strains=8) | mc:3.1817 npcl:0.781 | shared strains = 7\n",
      "   unfiltered results: 3.1817051586994998 [(0.780952380952381, 'as_classes', 'cf_superclass', 'indole', 'Organoheterocyclic compounds')]\n",
      "11  --> [metcalf,npclassscore] Spectrum(id=6540, spectrum_id=133084, strains=5) | mc:3.0835 npcl:0.702 | shared strains = 5\n",
      "   unfiltered results: 3.083476929965375 [(0.7021276595744681, 'as_classes', 'npc_pathway', 'indole', 'Alkaloids')]\n",
      "12  --> [metcalf,npclassscore] Spectrum(id=8203, spectrum_id=155479, strains=5) | mc:3.0835 npcl:0.781 | shared strains = 5\n",
      "   unfiltered results: 3.083476929965375 [(0.780952380952381, 'as_classes', 'cf_superclass', 'indole', 'Organoheterocyclic compounds')]\n",
      "13  --> [metcalf,npclassscore] Spectrum(id=8204, spectrum_id=155484, strains=5) | mc:3.0835 npcl:0.781 | shared strains = 5\n",
      "   unfiltered results: 3.083476929965375 [(0.780952380952381, 'as_classes', 'cf_superclass', 'indole', 'Organoheterocyclic compounds')]\n",
      "14  --> [metcalf,npclassscore] Spectrum(id=4108, spectrum_id=95366, strains=9) | mc:2.7585 npcl:0.702 | shared strains = 7\n",
      "   unfiltered results: 2.7584510803542486 [(0.7021276595744681, 'as_classes', 'npc_pathway', 'indole', 'Alkaloids')]\n",
      "15  --> [metcalf,npclassscore] Spectrum(id=8229, spectrum_id=155735, strains=9) | mc:2.7585 npcl:0.702 | shared strains = 7\n",
      "   unfiltered results: 2.7584510803542486 [(0.7021276595744681, 'as_classes', 'npc_pathway', 'indole', 'Alkaloids')]\n"
     ]
    }
   ],
   "source": [
    "# use same obj as before to show results\n",
    "print('Results for object: {}, {} total links, {} methods used'.format(\n",
    "    obj, len(results_both.links.get(obj)), results_both.method_count))\n",
    "\n",
    "# sort results based on metcalf scoring\n",
    "sorted_links_both = results_both.get_sorted_links(mc, obj)\n",
    "i = 0  # keep track of (spectrum) results\n",
    "for both_link_data in sorted_links_both:\n",
    "        if isinstance(both_link_data.target, Spectrum):\n",
    "            print('{}  --> [{}] {} | mc:{} npcl:{} | shared strains = {}'.format(\n",
    "                i,\n",
    "                ','.join(method.name for method in both_link_data.methods),\n",
    "                both_link_data.target,\n",
    "                mc.format_data(both_link_data[mc]),\n",
    "                npcl.format_data(both_link_data[npcl]),\n",
    "                len(both_link_data.shared_strains)))\n",
    "            print(\"   unfiltered results:\", both_link_data[mc], both_link_data[npcl])\n",
    "            i+=1"
   ]
  },
  {
   "cell_type": "markdown",
   "id": "violent-broadway",
   "metadata": {},
   "source": [
    "### Use only the feature based scores - Rosetta and NPClassScore"
   ]
  },
  {
   "cell_type": "code",
   "execution_count": 8,
   "id": "given-guinea",
   "metadata": {},
   "outputs": [
    {
     "name": "stdout",
     "output_type": "stream",
     "text": [
      "12:34:48 [INFO] methods.py:329, RosettaScoring setup\n",
      "12:34:48 [INFO] rosetta.py:376, Trying to load cached Rosetta hits data\n",
      "12:34:48 [INFO] rosetta.py:379, Loaded cached Rosetta hits for dataset  at /mnt/scratch/louwe015/NPLinker/own/nplinker_shared/crusemann_3ids_AS6-AS3_30-11/rosetta/RosettaHits.pckl\n",
      "12:34:48 [INFO] methods.py:346, RosettaScoring setup completed\n",
      "12:34:48 [INFO] methods.py:393, RosettaScoring got 1581 GCFs input, converted to 5869 BGCs\n",
      "12:34:51 [INFO] methods.py:982, Running NPClassScore...\n",
      "12:34:51 [INFO] methods.py:996, Using Metcalf scoring to get shared strains\n",
      "12:35:37 [INFO] methods.py:1003, Calculating NPClassScore for 1581 objects to 13667 targets (1784369 pairwise interactions that share at least 1 strain). This might take a while.\n",
      "12:38:15 [INFO] methods.py:1052, NPClassScore completed in 204.6s\n",
      "Number of results for Rosetta and NPClassScore scoring: 31\n",
      "{<nplinker.scoring.methods.NPClassScoring object at 0x7f08fa1b8e48>, <nplinker.scoring.methods.RosettaScoring object at 0x7f085b2e9048>}\n"
     ]
    }
   ],
   "source": [
    "# Initialise rosetta scoring the same way\n",
    "ros = npl.scoring_method('rosetta')\n",
    "\n",
    "# Now only links are kept that pass the cutoff for both methods\n",
    "results_feat = npl.get_links(npl.gcfs, [ros, npcl], and_mode=True)\n",
    "\n",
    "print('Number of results for Rosetta and NPClassScore scoring: {}'.format(len(results_feat)))\n",
    "print(results_feat.methods)"
   ]
  },
  {
   "cell_type": "code",
   "execution_count": 9,
   "id": "pressing-trace",
   "metadata": {},
   "outputs": [
    {
     "name": "stdout",
     "output_type": "stream",
     "text": [
      "Results for object: GCF(id=534, class=Others, gcf_id=511, strains=54), None total links, 2 methods used\n",
      "\n",
      "No result for obj GCF(id=534, class=Others, gcf_id=511, strains=54)\n"
     ]
    }
   ],
   "source": [
    "# use same obj as before to show results\n",
    "result_feat = results_feat.links.get(obj)\n",
    "print('Results for object: {}, {} total links, {} methods used'.format(\n",
    "    obj, result_feat if not result_feat else len(result_feat), results_feat.method_count))\n",
    "if result_feat:\n",
    "    # sort results based on metcalf scoring\n",
    "    sorted_links_feat = results_feat.get_sorted_links(ros, obj)\n",
    "\n",
    "    i = 0  # keep track of (spectrum) results\n",
    "    for feat_link_data in sorted_links_feat:\n",
    "            if isinstance(feat_link_data.target, Spectrum):\n",
    "                print('{}  --> [{}] {} | ros:{} npcl:{} | shared strains = {}'.format(\n",
    "                    i,\n",
    "                    ','.join(method.name for method in feat_link_data.methods),\n",
    "                    feat_link_data.target,\n",
    "                    ros.format_data(feat_link_data[ros]),\n",
    "                    npcl.format_data(feat_link_data[npcl]),\n",
    "                    len(feat_link_data.shared_strains)))\n",
    "                print(\"   unfiltered results:\", feat_link_data[ros], feat_link_data[npcl])\n",
    "                i+=1\n",
    "else:\n",
    "    print(\"\\nNo result for obj\", obj)"
   ]
  },
  {
   "cell_type": "code",
   "execution_count": 10,
   "id": "detected-liechtenstein",
   "metadata": {},
   "outputs": [
    {
     "name": "stdout",
     "output_type": "stream",
     "text": [
      "GCF(id=1459, class=Others, gcf_id=1754, strains=39)\n"
     ]
    }
   ],
   "source": [
    "# get results for an obj that does have links\n",
    "obj_feat = list(results_feat.links)[0]\n",
    "print(obj_feat)"
   ]
  },
  {
   "cell_type": "code",
   "execution_count": 11,
   "id": "english-premiere",
   "metadata": {},
   "outputs": [
    {
     "name": "stdout",
     "output_type": "stream",
     "text": [
      "Results for object: GCF(id=1459, class=Others, gcf_id=1754, strains=39), 1 total links, 2 methods used\n",
      "0  --> [rosetta,npclassscore] Spectrum(id=8987, spectrum_id=166494, strains=1) | ros:3 hits npcl:0.412 | shared strains = 1\n",
      "   unformatted results: [RosettaHit: 166494<-->NZ_KB900331.1.region001 via (CCMSLIB00000222303 (0.507), BGC0000054 (4.155)), RosettaHit: 166494<-->NZ_KB896267.1.region001 via (CCMSLIB00000222303 (0.507), BGC0000054 (4.159)), RosettaHit: 166494<-->NZ_KB900270.1.region001 via (CCMSLIB00000222303 (0.507), BGC0000054 (4.088))] [(0.4117647058823529, 'as_classes', 'cf_subclass', 'oligosaccharide', 'Carbohydrates and carbohydrate conjugates')]\n"
     ]
    }
   ],
   "source": [
    "result_feat = results_feat.links.get(obj_feat)\n",
    "print('Results for object: {}, {} total links, {} methods used'.format(\n",
    "    obj_feat, result_feat if not result_feat else len(result_feat), results_feat.method_count))\n",
    "if result_feat:\n",
    "    # sort results based on metcalf scoring\n",
    "    sorted_links_feat = results_feat.get_sorted_links(ros, obj_feat)\n",
    "\n",
    "    i = 0  # keep track of (spectrum) results\n",
    "    for feat_link_data in sorted_links_feat:\n",
    "            if isinstance(feat_link_data.target, Spectrum):\n",
    "                print('{}  --> [{}] {} | ros:{} npcl:{} | shared strains = {}'.format(\n",
    "                    i,\n",
    "                    ','.join(method.name for method in feat_link_data.methods),\n",
    "                    feat_link_data.target,\n",
    "                    ros.format_data(feat_link_data[ros]),\n",
    "                    npcl.format_data(feat_link_data[npcl]),\n",
    "                    len(feat_link_data.shared_strains)))\n",
    "                print(\"   unformatted results:\", feat_link_data[ros], feat_link_data[npcl])\n",
    "                i+=1\n",
    "else:\n",
    "    print(\"\\nNo result for obj\", obj_feat)"
   ]
  }
 ],
 "metadata": {
  "kernelspec": {
   "display_name": "Python 3",
   "language": "python",
   "name": "python3"
  },
  "language_info": {
   "codemirror_mode": {
    "name": "ipython",
    "version": 3
   },
   "file_extension": ".py",
   "mimetype": "text/x-python",
   "name": "python",
   "nbconvert_exporter": "python",
   "pygments_lexer": "ipython3",
   "version": "3.7.2"
  }
 },
 "nbformat": 4,
 "nbformat_minor": 5
}
