{
 "cells": [
  {
   "cell_type": "markdown",
   "id": "square-turtle",
   "metadata": {},
   "source": [
    "## Summary\n",
    "In this notebook, the paired data from MSV000084950 is analysed for the NPClassScore paper.\n",
    "\n",
    "The newly developed implementation of NPClassScore is used in combination with Metcalf scoring to discover BGC-MS/MS spectrum links in the MSV000084950 dataset. Validated links from the PoDP are used to validate the results.\n",
    "\n",
    "Sections:\n",
    "- Loading the MSV000084950 dataset\n",
    "- Scoring using the new NPClassScore method\n",
    "- Investigating NPClassScore cutoff\n",
    "- Counting number of links\n",
    "- Making plots showing the filtered links\n",
    "- Investigate known links"
   ]
  },
  {
   "cell_type": "markdown",
   "id": "norwegian-batch",
   "metadata": {},
   "source": [
    "## Loading MSV000084950 dataset"
   ]
  },
  {
   "cell_type": "code",
   "execution_count": 1,
   "id": "productive-constitution",
   "metadata": {},
   "outputs": [],
   "source": [
    "import sys, csv, os\n",
    "# if running from clone of the git repo\n",
    "sys.path.append('../../prototype')\n",
    "\n",
    "# import the main NPLinker class. normally this all that's required to work\n",
    "# with NPLinker in a notebook environment\n",
    "import numpy as np\n",
    "import pandas as pd\n",
    "import matplotlib.pyplot as plt\n",
    "from nplinker.nplinker import NPLinker\n",
    "from nplinker.nplinker import Spectrum\n",
    "from collections import Counter, defaultdict"
   ]
  },
  {
   "cell_type": "code",
   "execution_count": 18,
   "id": "friendly-point",
   "metadata": {
    "scrolled": true
   },
   "outputs": [
    {
     "name": "stdout",
     "output_type": "stream",
     "text": [
      "12:06:31 [INFO] config.py:121, Loading from local data in directory /mnt/scratch/louwe015/NPLinker/own/nplinker_shared/nplinker_data/pairedomics/extracted/MSV000084950/\n",
      "12:06:31 [WARNING] loader.py:50, WARNING: unable to find extra_nodes_file in path \"/mnt/scratch/louwe015/NPLinker/own/nplinker_shared/nplinker_data/pairedomics/extracted/MSV000084950/quantification_table_reformatted/*.csv\"\n",
      "12:06:31 [WARNING] loader.py:50, WARNING: unable to find metadata_table_file in path \"/mnt/scratch/louwe015/NPLinker/own/nplinker_shared/nplinker_data/pairedomics/extracted/MSV000084950/metadata_table/metadata_table*.txt\"\n",
      "12:06:31 [WARNING] loader.py:50, WARNING: unable to find quantification_table_file in path \"/mnt/scratch/louwe015/NPLinker/own/nplinker_shared/nplinker_data/pairedomics/extracted/MSV000084950/quantification_table/quantification_table*.csv\"\n",
      "12:06:31 [INFO] loader.py:84, Trying to discover correct bigscape directory under /mnt/scratch/louwe015/NPLinker/own/nplinker_shared/nplinker_data/pairedomics/extracted/MSV000084950/bigscape\n",
      "12:06:31 [INFO] loader.py:87, Found network files directory: /mnt/scratch/louwe015/NPLinker/own/nplinker_shared/nplinker_data/pairedomics/extracted/MSV000084950/bigscape/network_files/2022-05-12_09-41-51_hybrids_glocal\n",
      "12:06:31 [INFO] loader.py:226, Updating bigscape_dir to discovered location /mnt/scratch/louwe015/NPLinker/own/nplinker_shared/nplinker_data/pairedomics/extracted/MSV000084950/bigscape/network_files/2022-05-12_09-41-51_hybrids_glocal\n",
      "12:06:31 [INFO] loader.py:648, Loaded global strain IDs (0 total)\n",
      "12:06:31 [INFO] loader.py:659, Loaded dataset strain IDs (24 total)\n",
      "12:06:31 [INFO] metabolomics.py:699, 729 molecules parsed from MGF file\n",
      "12:06:31 [INFO] metabolomics.py:716, Found older-style GNPS dataset, no quantification table\n",
      "12:06:31 [WARNING] loader.py:577, Writing unknown strains from METABOLOMICS data to /mnt/scratch/louwe015/NPLinker/own/nplinker_shared/nplinker_data/pairedomics/extracted/MSV000084950/unknown_strains_met.csv\n",
      "12:06:31 [INFO] loader.py:584, Loading provided annotation files (/mnt/scratch/louwe015/NPLinker/own/nplinker_shared/nplinker_data/pairedomics/extracted/MSV000084950/result_specnets_DB)\n",
      "12:06:38 [INFO] genomics.py:485, Found 1816 MiBIG json files\n",
      "12:06:51 [WARNING] loader.py:516, 1 missing annotation tsv files:\n",
      "12:06:51 [WARNING] loader.py:518,   1/1: /mnt/scratch/louwe015/NPLinker/own/nplinker_shared/nplinker_data/pairedomics/extracted/MSV000084950/bigscape/network_files/2022-05-12_09-41-51_hybrids_glocal/Saccharides/Network_Annotations_Saccharides.tsv\n",
      "12:06:51 [WARNING] loader.py:516, 1 missing clustering tsv files:\n",
      "12:06:51 [WARNING] loader.py:518,   1/1: /mnt/scratch/louwe015/NPLinker/own/nplinker_shared/nplinker_data/pairedomics/extracted/MSV000084950/bigscape/network_files/2022-05-12_09-41-51_hybrids_glocal/Saccharides/Saccharides_clustering_c0.30.tsv\n",
      "12:06:51 [WARNING] loader.py:516, 1 missing network files:\n",
      "12:06:51 [WARNING] loader.py:518,   1/1: /mnt/scratch/louwe015/NPLinker/own/nplinker_shared/nplinker_data/pairedomics/extracted/MSV000084950/bigscape/network_files/2022-05-12_09-41-51_hybrids_glocal/Saccharides/Saccharides_c0.30.network\n",
      "12:06:51 [WARNING] loader.py:532, Product type Saccharides will be skipped due to missing files!\n",
      "12:06:51 [INFO] genomics.py:255, Using antiSMASH filename delimiters ['.', '_', '-']\n",
      "12:06:59 [INFO] genomics.py:392, # MiBIG BGCs = 0, non-MiBIG BGCS = 2117, total bgcs = 2117, GCFs = 184, strains=1840\n",
      "12:06:59 [INFO] genomics.py:449, Filtering MiBIG BGCs: removing 0 GCFs and 0 BGCs\n",
      "12:06:59 [INFO] genomics.py:399, # after filtering, total bgcs = 301, GCFs = 184, strains=24, unknown_strains=0\n",
      "12:06:59 [WARNING] loader.py:565, Writing unknown strains from GENOMICS data to /mnt/scratch/louwe015/NPLinker/own/nplinker_shared/nplinker_data/pairedomics/extracted/MSV000084950/unknown_strains_gen.csv\n",
      "12:07:00 [INFO] class_matches.py:44, Loaded MIBiG classes, and class matching tables\n",
      "12:07:00 [INFO] loader.py:623, Found CANOPUS dir, CANOPUS not run again!\n",
      "12:07:00 [INFO] chem_classes.py:191, reading canopus results for spectra from /mnt/scratch/louwe015/NPLinker/own/nplinker_shared/nplinker_data/pairedomics/extracted/MSV000084950/canopus/cluster_index_classifications.txt\n",
      "12:07:00 [INFO] chem_classes.py:499, reading molnetenhancer results from /mnt/scratch/louwe015/NPLinker/own/nplinker_shared/nplinker_data/pairedomics/extracted/MSV000084950/molnetenhancer\n",
      "12:07:00 [INFO] loader.py:357, Writing common strain labels to /mnt/scratch/louwe015/NPLinker/own/nplinker_shared/nplinker_data/pairedomics/extracted/MSV000084950/common_strains.csv\n",
      "12:07:00 [INFO] loader.py:370, Strains filtered down to total of 23\n",
      "12:07:00 [INFO] loader.py:296, No further strain filtering to apply\n"
     ]
    },
    {
     "data": {
      "text/plain": [
       "True"
      ]
     },
     "execution_count": 18,
     "metadata": {},
     "output_type": "execute_result"
    }
   ],
   "source": [
    "# load local crusemann data\n",
    "npl = NPLinker(\n",
    "    {'dataset':\n",
    "     {'root': '/mnt/scratch/louwe015/NPLinker/own/nplinker_shared/nplinker_data/pairedomics/extracted/MSV000084950/'},\n",
    "    'docker':\n",
    "     {'run_canopus': True}})\n",
    "npl.load_data()"
   ]
  },
  {
   "cell_type": "code",
   "execution_count": 19,
   "id": "victorian-possibility",
   "metadata": {},
   "outputs": [
    {
     "name": "stdout",
     "output_type": "stream",
     "text": [
      "{'loglevel': 'INFO', 'logfile': '', 'log_to_stdout': True, 'repro_file': '', 'dataset': {'root': '/mnt/scratch/louwe015/NPLinker/own/nplinker_shared/nplinker_data/pairedomics/extracted/MSV000084950/', 'overrides': {}, 'platform_id': ''}, 'antismash': {'antismash_format': 'default', 'ignore_spaces': False}, 'docker': {'run_bigscape': True, 'extra_bigscape_parameters': '', 'run_canopus': True}, 'webapp': {'tables_metcalf_threshold': 2.0}, 'scoring': {'rosetta': {}}}\n",
      "../../prototype/nplinker/data\n",
      "\n",
      "/mnt/scratch/louwe015/NPLinker/own/nplinker_shared/nplinker_data/pairedomics/extracted/MSV000084950/\n",
      "BGCs: 301\n",
      "GCFs: 184\n",
      "Spectra: 729\n",
      "Molecular Families: 341\n"
     ]
    }
   ],
   "source": [
    "# Basic functionality\n",
    "# ===================\n",
    "#\n",
    "# Once you have an NPLinker object with all data loaded, there are a collection of simple\n",
    "# methods and properties you can use to access objects and metadata. Some examples are \n",
    "# given below, see https://nplinker.readthedocs.io/en/latest/ for a complete API description.\n",
    "\n",
    "# configuration/dataset metadata\n",
    "# - a copy of the configuration as parsed from the .toml file (dict)\n",
    "print(npl.config) \n",
    "# - the path to the directory where various nplinker data files are located (e.g. the \n",
    "#   default configuration file template) (str)\n",
    "print(npl.data_dir)\n",
    "# - a dataset ID, derived from the path for local datasets or the paired platform ID\n",
    "#   for datasets loaded from that source (str)\n",
    "print(npl.dataset_id)\n",
    "# - the root directory for the current dataset (str)\n",
    "print(npl.root_dir)\n",
    "\n",
    "# objects\n",
    "# - you can directly access lists of each of the 4 object types:\n",
    "print('BGCs:', len(npl.bgcs))\n",
    "print('GCFs:', len(npl.gcfs)) # contains GCF objects\n",
    "print('Spectra:', len(npl.spectra)) # contains Spectrum objects\n",
    "print('Molecular Families:', len(npl.molfams)) # contains MolecularFamily objects"
   ]
  },
  {
   "cell_type": "markdown",
   "id": "decimal-andrews",
   "metadata": {},
   "source": [
    "## Scoring using the new NPClassScore method\n",
    "Use the scoring methods in NPLinker to find links with:\n",
    "- Metcalf scoring\n",
    "- Metcalf + NPClassScore scoring"
   ]
  },
  {
   "cell_type": "code",
   "execution_count": 21,
   "id": "forward-electric",
   "metadata": {},
   "outputs": [
    {
     "name": "stdout",
     "output_type": "stream",
     "text": [
      "Number of results: 184\n"
     ]
    }
   ],
   "source": [
    "mc = npl.scoring_method('metcalf')\n",
    "\n",
    "# Now mc is an instance of the class that implements Metcalf scoring. Once\n",
    "# you have such an instance, you may change any of the parameters it exposes.\n",
    "# In the case of Metcalf scoring, the following parameters are currently exposed:\n",
    "# - cutoff (float): the scoring threshold. Links with scores less than this are excluded\n",
    "# - standardised (bool): set to True to use standardised scores (default), False for regular\n",
    "mc.cutoff = 2.5\n",
    "mc.standardised = True\n",
    "\n",
    "results = npl.get_links(npl.gcfs, mc, and_mode=True)\n",
    "\n",
    "# get_links returns an instance of a class called LinkCollection. This provides a wrapper\n",
    "# around the results of the scoring operation and has various useful properties/methods:\n",
    "#\n",
    "# - len(results) or .source_count will tell you how many of the input_objects were found to have links\n",
    "print('Number of results: {}'.format(len(results)))\n",
    "# - .sources is a list of those objects\n",
    "objects_with_links = results.sources\n",
    "# - .links is a dict with structure {input_object: {linked_object: ObjectLink}} \n",
    "objects_and_link_info = results.links\n",
    "# - .get_all_targets() will return a flat list of *all* the linked objects (for all sources)\n",
    "all_targets = results.get_all_targets() \n",
    "# - .methods is a list of the scoring methods passed to get_links\n",
    "methods = results.methods"
   ]
  },
  {
   "cell_type": "code",
   "execution_count": 22,
   "id": "shared-jerusalem",
   "metadata": {},
   "outputs": [
    {
     "name": "stdout",
     "output_type": "stream",
     "text": [
      "12:07:23 [INFO] methods.py:968, Set up NPClassScore scoring\n",
      "12:07:23 [INFO] methods.py:970, Please choose one of the methods from ['mix', 'main', 'canopus', 'molnetenhancer']\n",
      "12:07:23 [INFO] methods.py:976, Currently the method 'mix' is selected\n",
      "12:07:24 [INFO] methods.py:982, Running NPClassScore...\n",
      "12:07:24 [INFO] methods.py:996, Using Metcalf scoring to get shared strains\n",
      "12:07:24 [INFO] methods.py:1003, Calculating NPClassScore for 184 objects to 729 targets (36852 pairwise interactions that share at least 1 strain). This might take a while.\n",
      "12:07:27 [INFO] methods.py:1052, NPClassScore completed in 3.4s\n",
      "Number of results for Metcalf and NPClassScore scoring: 168\n",
      "{<nplinker.scoring.methods.NPClassScoring object at 0x7f61e2fe9f98>, <nplinker.scoring.methods.MetcalfScoring object at 0x7f61e471f9b0>}\n"
     ]
    }
   ],
   "source": [
    "# Initialise NPClassScore scoring the same way\n",
    "# default method: 'mix' meaning use both CANOPUS and MolNetEnhancer with priority to CANOPUS\n",
    "npcl = npl.scoring_method('npclassscore')\n",
    "npcl.cutoff = 0.25\n",
    "\n",
    "# Now only links are kept that pass the cutoff for both methods\n",
    "results_both = npl.get_links(npl.gcfs, [mc, npcl], and_mode=True)\n",
    "\n",
    "print('Number of results for Metcalf and NPClassScore scoring: {}'.format(len(results_both)))\n",
    "print(results_both.methods)"
   ]
  },
  {
   "cell_type": "code",
   "execution_count": 23,
   "id": "informed-african",
   "metadata": {},
   "outputs": [
    {
     "name": "stdout",
     "output_type": "stream",
     "text": [
      "12:07:28 [INFO] methods.py:982, Running NPClassScore...\n",
      "12:07:28 [INFO] methods.py:996, Using Metcalf scoring to get shared strains\n",
      "12:07:28 [INFO] methods.py:1003, Calculating NPClassScore for 184 objects to 729 targets (36852 pairwise interactions that share at least 1 strain). This might take a while.\n",
      "12:07:31 [INFO] methods.py:1052, NPClassScore completed in 3.4s\n",
      "Number of results for Metcalf and NPClassScore scoring: 180\n",
      "{<nplinker.scoring.methods.NPClassScoring object at 0x7f61e5ae3f98>, <nplinker.scoring.methods.MetcalfScoring object at 0x7f61e471f9b0>}\n"
     ]
    }
   ],
   "source": [
    "# Also create an object with both Metcalf and NPClassScore with a cutoff of 0 to investigate proper cutoff\n",
    "npcl_0 = npl.scoring_method('npclassscore')\n",
    "npcl_0.cutoff = 0\n",
    "\n",
    "# Now only links are kept that pass the cutoff for both methods\n",
    "results_0 = npl.get_links(npl.gcfs, [mc, npcl_0], and_mode=True)\n",
    "\n",
    "print('Number of results for Metcalf and NPClassScore scoring: {}'.format(len(results_0)))\n",
    "print(results_0.methods)"
   ]
  },
  {
   "cell_type": "code",
   "execution_count": 38,
   "id": "alpha-jacksonville",
   "metadata": {},
   "outputs": [
    {
     "data": {
      "text/plain": [
       "173"
      ]
     },
     "execution_count": 38,
     "metadata": {},
     "output_type": "execute_result"
    }
   ],
   "source": [
    "mne_no_matches = 0\n",
    "for spec in npl.spectra:\n",
    "    spec_can = npl.chem_classes.canopus.spectra_classes.get(str(spec.spectrum_id))\n",
    "    if not spec_can:\n",
    "        spec_mne = npl.chem_classes.molnetenhancer.spectra_classes(str(spec.spectrum_id))\n",
    "        if spec_mne:\n",
    "#             print(spec_mne)\n",
    "            if spec_mne[0][0] == 'no matches':\n",
    "                mne_no_matches += 1\n",
    "mne_no_matches"
   ]
  },
  {
   "cell_type": "markdown",
   "id": "vertical-jurisdiction",
   "metadata": {},
   "source": [
    "## Investigating NPClassScore cutoff\n",
    "We choose 0.25 as a cutoff as around this value there is a marked drop in the number of links per GCF."
   ]
  },
  {
   "cell_type": "code",
   "execution_count": 24,
   "id": "proud-yugoslavia",
   "metadata": {},
   "outputs": [],
   "source": [
    "# gradient of class linking score cutoff\n",
    "\n",
    "cs_cutoffs = [0.125, 0.25, 0.375, 0.5, 0.625, 0.75, 0.875]\n",
    "d_all_num_links = []\n",
    "d_all_num_filtered_links = {cut: [] for cut in cs_cutoffs}\n",
    "d_all_no_scores = []\n",
    "\n",
    "for gcf in npl.gcfs:\n",
    "    # filter out MF links\n",
    "    num_links = 0\n",
    "    if gcf in results.links:\n",
    "        num_links = len([link_data for link_data in results.get_sorted_links(mc, gcf)\n",
    "                         if isinstance(link_data.target, Spectrum)])\n",
    "    \n",
    "    # loop through cutoffs\n",
    "    for cs_cut in cs_cutoffs:\n",
    "        num_filtered_links = 0\n",
    "        if gcf in results_0.links:\n",
    "            # calculate number of links with npcl filtering\n",
    "            num_filtered_links = len([link_data for link_data in results_0.get_sorted_links(mc, gcf)\n",
    "                                      if isinstance(link_data.target, Spectrum) and \n",
    "                                      float(npcl_0.format_data(link_data[npcl_0])) > cs_cut])\n",
    "        d_all_num_filtered_links[cs_cut].append(num_filtered_links)\n",
    "    d_all_num_links.append(num_links)"
   ]
  },
  {
   "cell_type": "code",
   "execution_count": 25,
   "id": "received-pricing",
   "metadata": {},
   "outputs": [
    {
     "name": "stdout",
     "output_type": "stream",
     "text": [
      "NPClassScore_cutoff\tNumber_of_links\tChange\n",
      "0\t26.98\n",
      "0.125\t13.17\t-0.51\n",
      "0.25\t11.59\t-0.57\n",
      "0.375\t10.11\t-0.63\n",
      "0.5\t8.86\t-0.67\n",
      "0.625\t8.77\t-0.67\n",
      "0.75\t4.42\t-0.84\n",
      "0.875\t1.34\t-0.95\n"
     ]
    }
   ],
   "source": [
    "print(f\"NPClassScore_cutoff\\tNumber_of_links\\tChange\")\n",
    "print(f\"0\\t{np.mean(d_all_num_links):.2f}\")\n",
    "for cs_cut, filt_links in d_all_num_filtered_links.items():\n",
    "    print(f\"{cs_cut}\\t{np.mean(filt_links):.2f}\\t{(np.mean(filt_links)-np.mean(d_all_num_links))/np.mean(d_all_num_links):.2f}\")"
   ]
  },
  {
   "cell_type": "markdown",
   "id": "excessive-robertson",
   "metadata": {},
   "source": [
    "## Counting number of links\n",
    "For each GCF count the number of links with and without NPClassScore filtering using the chosen cutoff of 0.25."
   ]
  },
  {
   "cell_type": "code",
   "execution_count": 26,
   "id": "pending-rescue",
   "metadata": {},
   "outputs": [
    {
     "data": {
      "text/plain": [
       "(26.97826086956522, 11.592391304347826)"
      ]
     },
     "execution_count": 26,
     "metadata": {},
     "output_type": "execute_result"
    }
   ],
   "source": [
    "# loop through all gcfs (objects) and count how many links exist (spectra)\n",
    "all_num_links = []\n",
    "all_num_filtered_links = []\n",
    "all_no_scores = []\n",
    "\n",
    "for gcf in npl.gcfs:\n",
    "    # filter out MF links\n",
    "    num_links = 0\n",
    "    if gcf in results.links:\n",
    "        num_links = len([link_data for link_data in results.get_sorted_links(mc, gcf)\n",
    "                         if isinstance(link_data.target, Spectrum)])\n",
    "    num_filtered_links = 0\n",
    "    if gcf in results_both.links:\n",
    "        num_filtered_links = len([link_data for link_data in results_both.get_sorted_links(mc, gcf)\n",
    "                                  if isinstance(link_data.target, Spectrum)])\n",
    "    all_num_links.append(num_links)\n",
    "    all_num_filtered_links.append(num_filtered_links)\n",
    "\n",
    "np.mean(all_num_links), np.mean(all_num_filtered_links)"
   ]
  },
  {
   "cell_type": "code",
   "execution_count": 27,
   "id": "tough-george",
   "metadata": {},
   "outputs": [
    {
     "data": {
      "text/plain": [
       "-0.5703062046736503"
      ]
     },
     "execution_count": 27,
     "metadata": {},
     "output_type": "execute_result"
    }
   ],
   "source": [
    "# change in average links per GCF\n",
    "(np.mean(all_num_filtered_links)-np.mean(all_num_links))/np.mean(all_num_links)"
   ]
  },
  {
   "cell_type": "markdown",
   "id": "combined-latin",
   "metadata": {},
   "source": [
    "## Making plots showing the filtered links"
   ]
  },
  {
   "cell_type": "code",
   "execution_count": 33,
   "id": "tracked-suite",
   "metadata": {},
   "outputs": [
    {
     "data": {
      "image/png": "[encoded data removed]",
      "text/plain": [
       "<Figure size 1008x576 with 1 Axes>"
      ]
     },
     "metadata": {
      "needs_background": "light"
     },
     "output_type": "display_data"
    }
   ],
   "source": [
    "sorted_filt_items = sorted(d_all_num_filtered_links.items())\n",
    "labels = [\"0\"] + [f\"{cut}\" for cut, vals in sorted_filt_items]\n",
    "xs = [d_all_num_links] + [vals for keys, vals in sorted_filt_items]\n",
    "lg_size = 14\n",
    "custom_xlim = (-1, max(d_all_num_links))\n",
    "links_title = \"Number of links per GCF\"\n",
    "\n",
    "fig, ax = plt.subplots(nrows=1, ncols=1, figsize=(14, 8))\n",
    "ax.boxplot(xs, labels=labels, flierprops={\"markersize\": 0.5}, medianprops={\"color\": \"black\"})\n",
    "plt.setp(ax, ylim=custom_xlim, xlabel=\"Cutoffs NPClassScore\", ylabel=links_title)\n",
    "figout = \"/home/louwe015/NPLinker/boxplot_cutoffs_MSV000084950_npclass_mix_can-mne_figure.svg\"\n",
    "plt.savefig(figout)"
   ]
  },
  {
   "cell_type": "code",
   "execution_count": 37,
   "id": "changed-finance",
   "metadata": {},
   "outputs": [
    {
     "name": "stdout",
     "output_type": "stream",
     "text": [
      "Use MNE when there is no CANOPUS prediction\n",
      "Bin size: 5\n"
     ]
    },
    {
     "data": {
      "image/png": "[encoded data removed]",
      "text/plain": [
       "<Figure size 504x432 with 1 Axes>"
      ]
     },
     "metadata": {
      "needs_background": "light"
     },
     "output_type": "display_data"
    }
   ],
   "source": [
    "print(\"Use MNE when there is no CANOPUS prediction\")\n",
    "labels = [\"Links\", \"Filtered links\"]\n",
    "colours = [\"#003f5c\", \"#bc5090\", \"#ffa600\"]\n",
    "xs = [all_num_links, all_num_filtered_links]\n",
    "lg_size = 14\n",
    "custom_xlim = (-1, max(d_all_num_links))\n",
    "bin_size = 5\n",
    "print(\"Bin size:\", bin_size)\n",
    "n_bins = np.arange(0, max(d_all_num_links), bin_size)\n",
    "links_title = \"Number of links per GCF\"\n",
    "count_title = \"GCF counts\"\n",
    "hist_type = \"stepfilled\"\n",
    "alpha = 0.75\n",
    "\n",
    "SMALL_SIZE = 12\n",
    "MEDIUM_SIZE = 16\n",
    "BIGGER_SIZE = 18\n",
    "\n",
    "plt.rc('font', size=MEDIUM_SIZE)          # controls default text sizes\n",
    "plt.rc('axes', titlesize=MEDIUM_SIZE)     # fontsize of the axes title\n",
    "plt.rc('axes', labelsize=MEDIUM_SIZE)    # fontsize of the x and y labels\n",
    "plt.rc('xtick', labelsize=SMALL_SIZE)    # fontsize of the tick labels\n",
    "plt.rc('ytick', labelsize=SMALL_SIZE)    # fontsize of the tick labels\n",
    "plt.rc('legend', fontsize=SMALL_SIZE)    # legend fontsize\n",
    "# plt.rc('figure', titlesize=BIGGER_SIZE)  # fontsize of the figure title\n",
    "\n",
    "fig, ax0 = plt.subplots(nrows=1, ncols=1, figsize=(7, 6))\n",
    "ax0.hist(xs[:2], bins=n_bins, density=False, histtype=hist_type, stacked=False, label=labels[:2],\n",
    "         color=colours[:2], alpha=alpha)\n",
    "ax0.legend(prop={'size': lg_size})\n",
    "plt.setp(ax0, xlim=custom_xlim, xlabel=links_title, ylabel=count_title)\n",
    "figout = \"/home/louwe015/NPLinker/filtered_links_MSV000084950_mix_can-mne_figure_new.svg\"\n",
    "plt.savefig(figout)"
   ]
  },
  {
   "cell_type": "markdown",
   "id": "mental-custody",
   "metadata": {},
   "source": [
    "## Investigate known links"
   ]
  },
  {
   "cell_type": "code",
   "execution_count": 30,
   "id": "comprehensive-nitrogen",
   "metadata": {},
   "outputs": [],
   "source": [
    "known_links_dict = {}"
   ]
  },
  {
   "cell_type": "markdown",
   "id": "overhead-philip",
   "metadata": {},
   "source": [
    "### Staurosporine"
   ]
  },
  {
   "cell_type": "code",
   "execution_count": 31,
   "id": "original-moldova",
   "metadata": {},
   "outputs": [
    {
     "name": "stdout",
     "output_type": "stream",
     "text": [
      "0\n",
      "set() 0\n"
     ]
    }
   ],
   "source": [
    "# Find the right GCF by seeing if this mibig occurs in the knownclusterblast results\n",
    "key = 'bgc0000827'\n",
    "result_bgcs = defaultdict(list)\n",
    "interest_lines = []\n",
    "for bgc in npl.bgcs:\n",
    "    as_file = bgc.antismash_file\n",
    "    with open(as_file) as inf:\n",
    "        for x in range(1000):\n",
    "            line = inf.readline().lower()\n",
    "            if key in line:\n",
    "                result_bgcs[bgc].append(line.strip())\n",
    "print(len(result_bgcs))\n",
    "result_gcfs = set([parent for bgc in result_bgcs for parent in bgc.parents])\n",
    "print(result_gcfs, len(result_gcfs))"
   ]
  },
  {
   "cell_type": "code",
   "execution_count": 32,
   "id": "signed-accreditation",
   "metadata": {},
   "outputs": [
    {
     "ename": "IndexError",
     "evalue": "list index out of range",
     "output_type": "error",
     "traceback": [
      "\u001b[0;31m---------------------------------------------------------------------------\u001b[0m",
      "\u001b[0;31mIndexError\u001b[0m                                Traceback (most recent call last)",
      "\u001b[0;32m<ipython-input-32-eae26736bcfe>\u001b[0m in \u001b[0;36m<module>\u001b[0;34m\u001b[0m\n\u001b[1;32m      3\u001b[0m \u001b[0mspectrum_hits\u001b[0m \u001b[0;34m=\u001b[0m \u001b[0;34m[\u001b[0m\u001b[0;36m89513\u001b[0m\u001b[0;34m]\u001b[0m  \u001b[0;31m# based on library hits\u001b[0m\u001b[0;34m\u001b[0m\u001b[0;34m\u001b[0m\u001b[0m\n\u001b[1;32m      4\u001b[0m \u001b[0;34m\u001b[0m\u001b[0m\n\u001b[0;32m----> 5\u001b[0;31m \u001b[0mresult_gcf\u001b[0m \u001b[0;34m=\u001b[0m \u001b[0;34m[\u001b[0m\u001b[0mgcf\u001b[0m \u001b[0;32mfor\u001b[0m \u001b[0mgcf\u001b[0m \u001b[0;32min\u001b[0m \u001b[0mnpl\u001b[0m\u001b[0;34m.\u001b[0m\u001b[0mgcfs\u001b[0m \u001b[0;32mif\u001b[0m \u001b[0mgcf\u001b[0m\u001b[0;34m.\u001b[0m\u001b[0mid\u001b[0m \u001b[0;34m==\u001b[0m \u001b[0;36m534\u001b[0m\u001b[0;34m]\u001b[0m\u001b[0;34m[\u001b[0m\u001b[0;36m0\u001b[0m\u001b[0;34m]\u001b[0m\u001b[0;34m\u001b[0m\u001b[0;34m\u001b[0m\u001b[0m\n\u001b[0m\u001b[1;32m      6\u001b[0m \u001b[0mresult_gcf\u001b[0m\u001b[0;34m,\u001b[0m \u001b[0mlist\u001b[0m\u001b[0;34m(\u001b[0m\u001b[0mresult_gcf\u001b[0m\u001b[0;34m.\u001b[0m\u001b[0mbgcs\u001b[0m\u001b[0;34m)\u001b[0m\u001b[0;34m[\u001b[0m\u001b[0;34m:\u001b[0m\u001b[0;36m5\u001b[0m\u001b[0;34m]\u001b[0m\u001b[0;34m\u001b[0m\u001b[0;34m\u001b[0m\u001b[0m\n",
      "\u001b[0;31mIndexError\u001b[0m: list index out of range"
     ]
    }
   ],
   "source": [
    "name_hit = 'staurosporine'\n",
    "known_links_dict[name_hit] = {'hits': [], 'counts': None}\n",
    "spectrum_hits = [89513]  # based on library hits\n",
    "\n",
    "result_gcf = [gcf for gcf in npl.gcfs if gcf.id == 534][0]\n",
    "result_gcf, list(result_gcf.bgcs)[:5]"
   ]
  },
  {
   "cell_type": "code",
   "execution_count": null,
   "id": "going-accident",
   "metadata": {},
   "outputs": [],
   "source": [
    "cutoff = 0.25\n",
    "result_links_both = results_both.links[result_gcf]\n",
    "result_links_mc = results.get_sorted_links(mc, result_gcf)\n",
    "count = 0\n",
    "i = 0\n",
    "show_x = 10\n",
    "include_below_cutoff = False\n",
    "prev_mc = 10**100\n",
    "delay = 0\n",
    "print('Results for object: {}, {} total links, {} methods used'.format(result_gcf, len(result_links_both), results.method_count))\n",
    "print(\"Rank above cutoff (original rank)\")\n",
    "for link_data in result_links_mc:\n",
    "    if count == show_x:\n",
    "        break\n",
    "    if isinstance(link_data.target, Spectrum):\n",
    "        link_data_both = result_links_both.get(link_data.target)\n",
    "        cur_mc = link_data[mc]\n",
    "        i += 1\n",
    "        \n",
    "        pref = 'x.'\n",
    "        cl_score = None\n",
    "        if link_data_both:\n",
    "            cl_score = link_data_both[npcl]\n",
    "            if cl_score[0][0] > cutoff:\n",
    "                if cur_mc < prev_mc:\n",
    "                    count += 1\n",
    "                    count += delay\n",
    "                    delay = 0\n",
    "                else:\n",
    "                    delay += 1\n",
    "                pref = f\"{count}.\"\n",
    "                prev_mc = cur_mc\n",
    "        if include_below_cutoff or not pref == 'x.':\n",
    "            print('{}({})\\t{}\\t{}={}\\tshared strains={}\\tMF={}'.format(\n",
    "                pref,\n",
    "                i,\n",
    "                link_data.target,\n",
    "                ','.join(method.name for method in link_data.methods),\n",
    "                mc.format_data(cur_mc),\n",
    "                len(link_data.shared_strains),\n",
    "                link_data.target.family_id))\n",
    "            if cl_score:\n",
    "                print('NPClassScore:', cl_score[0])\n",
    "            comp_name = ''\n",
    "            if link_data.target.gnps_annotations:\n",
    "                comp_name = link_data.target.gnps_annotations.get(\"Compound_Name\")\n",
    "                print('Library match:', comp_name)\n",
    "            print('Precursor_mz:', link_data.target.precursor_mz)\n",
    "            if link_data.target.spectrum_id in spectrum_hits or name_hit in comp_name.lower():\n",
    "                print(\"--MATCH--\")\n",
    "                known_links_dict[name_hit]['hits'].append((count, i, result_gcf, link_data))\n",
    "    if count + delay == show_x:\n",
    "        break"
   ]
  },
  {
   "cell_type": "code",
   "execution_count": null,
   "id": "informational-content",
   "metadata": {},
   "outputs": [],
   "source": [
    "filtered_counts = 0\n",
    "metcalf_counts = 0\n",
    "for link_data in result_links_mc:\n",
    "    if isinstance(link_data.target, Spectrum):\n",
    "        metcalf_counts += 1\n",
    "        link_data_both = result_links_both.get(link_data.target)\n",
    "        if link_data_both:\n",
    "            cl_score = link_data_both[npcl]\n",
    "            if cl_score[0][0] > cutoff:\n",
    "                filtered_counts += 1\n",
    "known_links_dict[name_hit]['counts'] = (metcalf_counts, filtered_counts)\n",
    "print(metcalf_counts, filtered_counts)"
   ]
  },
  {
   "cell_type": "code",
   "execution_count": null,
   "id": "nuclear-minimum",
   "metadata": {},
   "outputs": [],
   "source": []
  }
 ],
 "metadata": {
  "kernelspec": {
   "display_name": "Python 3",
   "language": "python",
   "name": "python3"
  },
  "language_info": {
   "codemirror_mode": {
    "name": "ipython",
    "version": 3
   },
   "file_extension": ".py",
   "mimetype": "text/x-python",
   "name": "python",
   "nbconvert_exporter": "python",
   "pygments_lexer": "ipython3",
   "version": "3.7.2"
  }
 },
 "nbformat": 4,
 "nbformat_minor": 5
}
