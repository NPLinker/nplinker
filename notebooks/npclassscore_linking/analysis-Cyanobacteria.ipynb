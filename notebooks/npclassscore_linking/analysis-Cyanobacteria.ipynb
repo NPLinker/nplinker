{
 "cells": [
  {
   "cell_type": "markdown",
   "id": "directed-parks",
   "metadata": {},
   "source": [
    "## Summary\n",
    "In this notebook, the paired data from the Cyanobacteria dataset is analysed for the NPClassScore paper. This data originates from MSV000084950.\n",
    "\n",
    "The newly developed implementation of NPClassScore is used in combination with Metcalf scoring to discover BGC-MS/MS spectrum links in the Cyanobacteria dataset. Validated links from the PoDP are used to validate the results.\n",
    "\n",
    "Sections:\n",
    "- Loading the MSV000084950 dataset\n",
    "- Scoring using the new NPClassScore method\n",
    "- Investigating NPClassScore cutoff\n",
    "- Counting number of links\n",
    "- Making plots showing the filtered links\n",
    "- Investigate known links"
   ]
  },
  {
   "cell_type": "markdown",
   "id": "lightweight-helmet",
   "metadata": {},
   "source": [
    "## Loading MSV000084950 dataset"
   ]
  },
  {
   "cell_type": "code",
   "execution_count": 2,
   "id": "productive-constitution",
   "metadata": {},
   "outputs": [],
   "source": [
    "import sys, csv, os\n",
    "# if running from clone of the git repo\n",
    "sys.path.append('../../src')\n",
    "\n",
    "# import the main NPLinker class. normally this all that's required to work\n",
    "# with NPLinker in a notebook environment\n",
    "import pickle\n",
    "import numpy as np\n",
    "import pandas as pd\n",
    "import matplotlib.pyplot as plt\n",
    "from nplinker.nplinker import NPLinker\n",
    "from nplinker.metabolomics import Spectrum\n",
    "from collections import Counter, defaultdict"
   ]
  },
  {
   "cell_type": "code",
   "execution_count": 4,
   "id": "friendly-point",
   "metadata": {
    "scrolled": true
   },
   "outputs": [
    {
     "name": "stdout",
     "output_type": "stream",
     "text": [
      "14:47:38 [INFO] config.py:164, Loading from local data in directory /home/hechth/nplinker_data/cyanobacteria_complete_MSV000084950/\n",
      "14:47:38 [WARNING] loader.py:52, WARNING: unable to find extra_nodes_file in path \"/home/hechth/nplinker_data/cyanobacteria_complete_MSV000084950/quantification_table_reformatted/*.csv\"\n",
      "14:47:38 [WARNING] loader.py:52, WARNING: unable to find metadata_table_file in path \"/home/hechth/nplinker_data/cyanobacteria_complete_MSV000084950/metadata_table/metadata_table*.txt\"\n",
      "14:47:38 [WARNING] loader.py:52, WARNING: unable to find quantification_table_file in path \"/home/hechth/nplinker_data/cyanobacteria_complete_MSV000084950/quantification_table/quantification_table*.csv\"\n",
      "14:47:38 [INFO] loader.py:94, Trying to discover correct bigscape directory under /home/hechth/nplinker_data/cyanobacteria_complete_MSV000084950/bigscape\n",
      "14:47:38 [INFO] loader.py:98, Found network files directory: /home/hechth/nplinker_data/cyanobacteria_complete_MSV000084950/bigscape/network_files/2022-05-12_09-41-51_hybrids_glocal\n",
      "14:47:38 [INFO] loader.py:287, Updating bigscape_dir to discovered location /home/hechth/nplinker_data/cyanobacteria_complete_MSV000084950/bigscape/network_files/2022-05-12_09-41-51_hybrids_glocal\n",
      "14:47:38 [INFO] loader.py:820, Loaded global strain IDs (0 total)\n",
      "14:47:38 [INFO] loader.py:811, Loaded dataset strain IDs (24 total)\n",
      "14:47:39 [INFO] metabolomics.py:116, 729 molecules parsed from MGF file\n",
      "14:47:40 [INFO] load_gnps.py:429, Found older-style GNPS dataset, no quantification table\n",
      "14:47:40 [WARNING] loader.py:719, Writing unknown strains from METABOLOMICS data to /home/hechth/nplinker_data/cyanobacteria_complete_MSV000084950/unknown_strains_met.csv\n",
      "14:47:40 [INFO] loader.py:728, Loading provided annotation files (/home/hechth/nplinker_data/cyanobacteria_complete_MSV000084950/result_specnets_DB)\n",
      "14:47:40 [INFO] loader.py:505, Attempting to download MiBIG JSON database (v1.4)...\n",
      "14:47:42 [INFO] genomics.py:350, Found 1816 MiBIG json files\n",
      "14:47:42 [WARNING] loader.py:645, 1 missing annotation tsv files:\n",
      "14:47:42 [WARNING] loader.py:647,   1/1: /home/hechth/nplinker_data/cyanobacteria_complete_MSV000084950/bigscape/network_files/2022-05-12_09-41-51_hybrids_glocal/Saccharides/Network_Annotations_Saccharides.tsv\n",
      "14:47:42 [WARNING] loader.py:645, 1 missing clustering tsv files:\n",
      "14:47:42 [WARNING] loader.py:647,   1/1: /home/hechth/nplinker_data/cyanobacteria_complete_MSV000084950/bigscape/network_files/2022-05-12_09-41-51_hybrids_glocal/Saccharides/Saccharides_clustering_c0.30.tsv\n",
      "14:47:42 [WARNING] loader.py:645, 1 missing network files:\n",
      "14:47:42 [WARNING] loader.py:647,   1/1: /home/hechth/nplinker_data/cyanobacteria_complete_MSV000084950/bigscape/network_files/2022-05-12_09-41-51_hybrids_glocal/Saccharides/Saccharides_c0.30.network\n",
      "14:47:42 [WARNING] loader.py:667, Product type Saccharides will be skipped due to missing files!\n",
      "14:47:42 [INFO] genomics.py:78, Using antiSMASH filename delimiters ['.', '_', '-']\n",
      "14:47:47 [INFO] genomics.py:243, # MiBIG BGCs = 0, non-MiBIG BGCS = 2117, total bgcs = 2117, GCFs = 184, strains=1840\n",
      "14:47:47 [INFO] genomics.py:309, Filtering MiBIG BGCs: removing 0 GCFs and 0 BGCs\n",
      "14:47:47 [INFO] genomics.py:255, # after filtering, total bgcs = 301, GCFs = 184, strains=24, unknown_strains=0\n",
      "14:47:47 [WARNING] loader.py:703, Writing unknown strains from GENOMICS data to /home/hechth/nplinker_data/cyanobacteria_complete_MSV000084950/unknown_strains_gen.csv\n"
     ]
    },
    {
     "name": "stderr",
     "output_type": "stream",
     "text": [
      "/home/hechth/dev/git/hechth/nplinker/src/nplinker/class_info/class_matches.py:248: FutureWarning: In a future version, passing float-dtype values containing NaN and an integer dtype will raise IntCastingNaNError (subclass of ValueError) instead of silently ignoring the passed dtype. To retain the old behavior, call Series(arr) or DataFrame(arr) without passing a dtype.\n",
      "  counts_df = pd.DataFrame.from_dict(counts, dtype=int)\n"
     ]
    },
    {
     "name": "stdout",
     "output_type": "stream",
     "text": [
      "14:47:47 [INFO] class_matches.py:44, Loaded MIBiG classes, and class matching tables\n",
      "14:47:47 [INFO] loader.py:777, Found CANOPUS dir, CANOPUS not run again!\n",
      "14:47:47 [INFO] chem_classes.py:199, reading canopus results for spectra from /home/hechth/nplinker_data/cyanobacteria_complete_MSV000084950/canopus/cluster_index_classifications.txt\n",
      "14:47:47 [INFO] chem_classes.py:544, reading molnetenhancer results from /home/hechth/nplinker_data/cyanobacteria_complete_MSV000084950/molnetenhancer\n",
      "14:47:47 [INFO] loader.py:448, Writing common strain labels to /home/hechth/nplinker_data/cyanobacteria_complete_MSV000084950/common_strains.csv\n",
      "14:47:47 [INFO] loader.py:461, Strains filtered down to total of 23\n",
      "14:47:47 [INFO] loader.py:370, No further strain filtering to apply\n"
     ]
    },
    {
     "data": {
      "text/plain": [
       "True"
      ]
     },
     "execution_count": 4,
     "metadata": {},
     "output_type": "execute_result"
    }
   ],
   "source": [
    "# load local crusemann data\n",
    "npl = NPLinker(\n",
    "    {'dataset':\n",
    "     {'root': '/home/hechth/nplinker_data/cyanobacteria_complete_MSV000084950/'},\n",
    "    'docker':\n",
    "     {'run_canopus': True}})\n",
    "npl.load_data()"
   ]
  },
  {
   "cell_type": "code",
   "execution_count": 5,
   "id": "victorian-possibility",
   "metadata": {},
   "outputs": [
    {
     "name": "stdout",
     "output_type": "stream",
     "text": [
      "{'loglevel': 'INFO', 'logfile': '', 'log_to_stdout': True, 'repro_file': '', 'dataset': {'root': '/home/hechth/nplinker_data/cyanobacteria_complete_MSV000084950/', 'overrides': {}, 'platform_id': ''}, 'antismash': {'antismash_format': 'default', 'ignore_spaces': False}, 'docker': {'run_bigscape': True, 'run_canopus': True, 'extra_canopus_parameters': '--maxmz 600 formula zodiac structure canopus'}, 'webapp': {'tables_metcalf_threshold': 2.0}, 'scoring': {'rosetta': {}}}\n",
      "/home/hechth/dev/git/hechth/nplinker/src/nplinker/data\n",
      "\n",
      "/home/hechth/nplinker_data/cyanobacteria_complete_MSV000084950/\n",
      "BGCs: 301\n",
      "GCFs: 184\n",
      "Spectra: 729 (707 spectra actually present in currently selected strains in strain_mappings.csv)\n",
      "Molecular Families: 341\n"
     ]
    }
   ],
   "source": [
    "# Basic functionality\n",
    "# ===================\n",
    "#\n",
    "# Once you have an NPLinker object with all data loaded, there are a collection of simple\n",
    "# methods and properties you can use to access objects and metadata. Some examples are \n",
    "# given below, see https://nplinker.readthedocs.io/en/latest/ for a complete API description.\n",
    "\n",
    "# configuration/dataset metadata\n",
    "# - a copy of the configuration as parsed from the .toml file (dict)\n",
    "print(npl.config) \n",
    "# - the path to the directory where various nplinker data files are located (e.g. the \n",
    "#   default configuration file template) (str)\n",
    "print(npl.data_dir)\n",
    "# - a dataset ID, derived from the path for local datasets or the paired platform ID\n",
    "#   for datasets loaded from that source (str)\n",
    "print(npl.dataset_id)\n",
    "# - the root directory for the current dataset (str)\n",
    "print(npl.root_dir)\n",
    "\n",
    "# objects\n",
    "# - you can directly access lists of each of the 4 object types:\n",
    "print('BGCs:', len(npl.bgcs))\n",
    "print('GCFs:', len(npl.gcfs)) # contains GCF objects\n",
    "spectra_in_dataset = [spec for spec in npl.spectra if 'strains=0' not in str(spec)]\n",
    "print('Spectra:', len(npl.spectra), # contains Spectrum objects\n",
    "      '({} spectra actually present in currently selected strains in strain_mappings.csv)'.format(len(spectra_in_dataset)))\n",
    "print('Molecular Families:', len(npl.molfams)) # contains MolecularFamily objects"
   ]
  },
  {
   "cell_type": "code",
   "execution_count": 6,
   "id": "billion-thomas",
   "metadata": {},
   "outputs": [
    {
     "name": "stdout",
     "output_type": "stream",
     "text": [
      "From the 707 spectra present in current strains, 673 spectra have class info\n"
     ]
    }
   ],
   "source": [
    "# Count spectra with chemical class info\n",
    "spectra_in_dataset_with_class = []\n",
    "spectra_in_dataset_no_class = []\n",
    "for spec in spectra_in_dataset:\n",
    "    spec_can = npl.chem_classes.canopus.spectra_classes.get(str(spec.spectrum_id))\n",
    "    if not spec_can:\n",
    "        spec_mne = npl.chem_classes.molnetenhancer.spectra_classes(str(spec.spectrum_id))\n",
    "        if not spec_mne:\n",
    "            spectra_in_dataset_no_class.append(spec)\n",
    "        else:\n",
    "            spectra_in_dataset_with_class.append(spec)\n",
    "    else:\n",
    "        spectra_in_dataset_with_class.append(spec)\n",
    "print(f\"From the {len(spectra_in_dataset)} spectra present in current strains, {len(spectra_in_dataset_with_class)} spectra have class info\")"
   ]
  },
  {
   "cell_type": "markdown",
   "id": "decimal-andrews",
   "metadata": {},
   "source": [
    "## Scoring using the new NPClassScore method\n",
    "Use the scoring methods in NPLinker to find links with:\n",
    "- Metcalf scoring\n",
    "- Metcalf + NPClassScore scoring"
   ]
  },
  {
   "cell_type": "code",
   "execution_count": 7,
   "id": "forward-electric",
   "metadata": {},
   "outputs": [
    {
     "name": "stdout",
     "output_type": "stream",
     "text": [
      "14:48:00 [INFO] methods.py:263, MetcalfScoring.setup (bgcs=301, gcfs=184, spectra=729, molfams=341, strains=23)\n",
      "14:48:00 [INFO] methods.py:302, MetcalfScoring.setup preprocessing dataset (this may take some time)\n",
      "14:48:01 [INFO] methods.py:320, MetcalfScoring.setup completed\n",
      "Number of results: 184\n"
     ]
    }
   ],
   "source": [
    "mc = npl.scoring_method('metcalf')\n",
    "\n",
    "# Now mc is an instance of the class that implements Metcalf scoring. Once\n",
    "# you have such an instance, you may change any of the parameters it exposes.\n",
    "# In the case of Metcalf scoring, the following parameters are currently exposed:\n",
    "# - cutoff (float): the scoring threshold. Links with scores less than this are excluded\n",
    "# - standardised (bool): set to True to use standardised scores (default), False for regular\n",
    "mc.cutoff = 2.5\n",
    "mc.standardised = True\n",
    "\n",
    "results = npl.get_links(npl.gcfs, mc, and_mode=True)\n",
    "\n",
    "# get_links returns an instance of a class called LinkCollection. This provides a wrapper\n",
    "# around the results of the scoring operation and has various useful properties/methods:\n",
    "#\n",
    "# - len(results) or .source_count will tell you how many of the input_objects were found to have links\n",
    "print('Number of results: {}'.format(len(results)))\n",
    "# - .sources is a list of those objects\n",
    "objects_with_links = results.sources\n",
    "# - .links is a dict with structure {input_object: {linked_object: ObjectLink}} \n",
    "objects_and_link_info = results.links\n",
    "# - .get_all_targets() will return a flat list of *all* the linked objects (for all sources)\n",
    "all_targets = results.get_all_targets() \n",
    "# - .methods is a list of the scoring methods passed to get_links\n",
    "methods = results.methods"
   ]
  },
  {
   "cell_type": "code",
   "execution_count": 8,
   "id": "shared-jerusalem",
   "metadata": {},
   "outputs": [
    {
     "name": "stdout",
     "output_type": "stream",
     "text": [
      "14:48:10 [INFO] np_class_scoring.py:296, Set up NPClassScore scoring\n",
      "14:48:10 [INFO] np_class_scoring.py:298, Please choose one of the methods from ['mix', 'main', 'canopus', 'molnetenhancer']\n",
      "14:48:10 [INFO] np_class_scoring.py:304, Currently the method 'mix' is selected\n",
      "14:48:10 [INFO] np_class_scoring.py:310, Running NPClassScore...\n",
      "14:48:10 [INFO] np_class_scoring.py:327, Using Metcalf scoring to get shared strains\n",
      "14:48:11 [INFO] np_class_scoring.py:336, Calculating NPClassScore for 184 objects to 729 targets (36852 pairwise interactions that share at least 1 strain). This might take a while.\n",
      "14:48:16 [WARNING] np_class_scoring.py:379, 38 targets have no NPClassScore prediction due to missing class predictions and are kept by default. Adjust .filter_missing_scores to change.\n",
      "14:48:16 [INFO] np_class_scoring.py:385, NPClassScore completed in 5.7s\n",
      "Number of results for Metcalf and NPClassScore scoring: 183\n",
      "{<nplinker.scoring.np_class_scoring.NPClassScoring object at 0x7f89cb639fa0>, <nplinker.scoring.methods.MetcalfScoring object at 0x7f89e8113f40>}\n"
     ]
    }
   ],
   "source": [
    "# Initialise NPClassScore scoring the same way\n",
    "# default method: 'mix' meaning use both CANOPUS and MolNetEnhancer with priority to CANOPUS\n",
    "npcl = npl.scoring_method('npclassscore')\n",
    "npcl.cutoff = 0.25\n",
    "\n",
    "# Now only links are kept that pass the cutoff for both methods\n",
    "results_both = npl.get_links(npl.gcfs, [mc, npcl], and_mode=True)\n",
    "\n",
    "print('Number of results for Metcalf and NPClassScore scoring: {}'.format(len(results_both)))\n",
    "print(results_both.methods)"
   ]
  },
  {
   "cell_type": "code",
   "execution_count": 9,
   "id": "informed-african",
   "metadata": {},
   "outputs": [
    {
     "name": "stdout",
     "output_type": "stream",
     "text": [
      "14:48:20 [INFO] np_class_scoring.py:310, Running NPClassScore...\n",
      "14:48:20 [INFO] np_class_scoring.py:327, Using Metcalf scoring to get shared strains\n",
      "14:48:20 [INFO] np_class_scoring.py:336, Calculating NPClassScore for 184 objects to 729 targets (36852 pairwise interactions that share at least 1 strain). This might take a while.\n",
      "14:48:24 [WARNING] np_class_scoring.py:379, 38 targets have no NPClassScore prediction due to missing class predictions and are kept by default. Adjust .filter_missing_scores to change.\n",
      "14:48:24 [INFO] np_class_scoring.py:385, NPClassScore completed in 3.9s\n",
      "Number of results for Metcalf and NPClassScore scoring: 184\n",
      "{<nplinker.scoring.np_class_scoring.NPClassScoring object at 0x7f898f6acdc0>, <nplinker.scoring.methods.MetcalfScoring object at 0x7f89e8113f40>}\n"
     ]
    }
   ],
   "source": [
    "# Also create an object with both Metcalf and NPClassScore with a cutoff of 0 to investigate proper cutoff\n",
    "npcl_0 = npl.scoring_method('npclassscore')\n",
    "npcl_0.cutoff = 0\n",
    "\n",
    "# Now only links are kept that pass the cutoff for both methods\n",
    "results_0 = npl.get_links(npl.gcfs, [mc, npcl_0], and_mode=True)\n",
    "\n",
    "print('Number of results for Metcalf and NPClassScore scoring: {}'.format(len(results_0)))\n",
    "print(results_0.methods)"
   ]
  },
  {
   "cell_type": "code",
   "execution_count": 10,
   "id": "equivalent-importance",
   "metadata": {},
   "outputs": [
    {
     "name": "stdout",
     "output_type": "stream",
     "text": [
      "14:48:27 [INFO] np_class_scoring.py:310, Running NPClassScore...\n",
      "14:48:27 [INFO] np_class_scoring.py:327, Using Metcalf scoring to get shared strains\n",
      "14:48:28 [INFO] np_class_scoring.py:336, Calculating NPClassScore for 184 objects to 729 targets (36852 pairwise interactions that share at least 1 strain). This might take a while.\n",
      "14:48:32 [WARNING] np_class_scoring.py:379, 38 targets have no NPClassScore prediction due to missing class predictions and are kept by default. Adjust .filter_missing_scores to change.\n",
      "14:48:32 [INFO] np_class_scoring.py:385, NPClassScore completed in 4.5s\n",
      "Number of results for NPClassScore scoring: 184\n",
      "{<nplinker.scoring.np_class_scoring.NPClassScoring object at 0x7f898eea3220>}\n"
     ]
    }
   ],
   "source": [
    "# score just with NPClassScore to check if missing known links have good scores\n",
    "\n",
    "npcl_only = npl.scoring_method('npclassscore')\n",
    "npcl_only.cutoff = 0\n",
    "\n",
    "results_npcl = npl.get_links(npl.gcfs, [npcl_only], and_mode=True)\n",
    "\n",
    "print('Number of results for NPClassScore scoring: {}'.format(len(results_npcl)))\n",
    "print(results_npcl.methods)"
   ]
  },
  {
   "cell_type": "markdown",
   "id": "disturbed-arrangement",
   "metadata": {},
   "source": [
    "## Investigating NPClassScore cutoff\n",
    "We choose 0.25 as a cutoff as around this value there is a marked drop in the number of links per GCF."
   ]
  },
  {
   "cell_type": "code",
   "execution_count": 11,
   "id": "possible-government",
   "metadata": {},
   "outputs": [],
   "source": [
    "# gradient of class linking score cutoff\n",
    "\n",
    "cs_cutoffs = [0.125, 0.25, 0.375, 0.5, 0.625, 0.75, 0.875]\n",
    "d_all_num_links = []\n",
    "d_all_num_filtered_links = {cut: [] for cut in cs_cutoffs}\n",
    "d_all_no_scores = []\n",
    "count_nones = False\n",
    "\n",
    "for gcf in npl.gcfs:\n",
    "    # filter out MF links\n",
    "    num_links = 0\n",
    "    if gcf in results.links:\n",
    "        num_links = len([link_data for link_data in results.get_sorted_links(mc, gcf)\n",
    "                         if isinstance(link_data.target, Spectrum)])\n",
    "    \n",
    "    # loop through cutoffs\n",
    "    for cs_cut in cs_cutoffs:\n",
    "        num_filtered_links = 0\n",
    "        if gcf in results_0.links:\n",
    "            # calculate number of links with npcl filtering\n",
    "            filtered_links = []\n",
    "            for link_data in results_0.get_sorted_links(mc, gcf):\n",
    "                if isinstance(link_data.target, Spectrum):\n",
    "                    npcl_score = npcl_0.format_data(link_data[npcl_0])\n",
    "                    if npcl_score:\n",
    "                        if float(npcl_score) > cs_cut:\n",
    "                            filtered_links.append(link_data)\n",
    "                    else:\n",
    "                        if count_nones:\n",
    "                            filtered_links.append(link_data)\n",
    "            num_filtered_links = len(filtered_links)\n",
    "        d_all_num_filtered_links[cs_cut].append(num_filtered_links)\n",
    "    d_all_num_links.append(num_links)"
   ]
  },
  {
   "cell_type": "code",
   "execution_count": 12,
   "id": "similar-tanzania",
   "metadata": {},
   "outputs": [
    {
     "name": "stdout",
     "output_type": "stream",
     "text": [
      "NPClassScore_cutoff\tNumber_of_links\tChange\n",
      "0\t26.98\n",
      "0.125\t15.81\t-0.41\n",
      "0.25\t12.61\t-0.53\n",
      "0.375\t11.78\t-0.56\n",
      "0.5\t9.88\t-0.63\n",
      "0.625\t8.42\t-0.69\n",
      "0.75\t6.20\t-0.77\n",
      "0.875\t3.82\t-0.86\n"
     ]
    }
   ],
   "source": [
    "print(f\"NPClassScore_cutoff\\tNumber_of_links\\tChange\")\n",
    "print(f\"0\\t{np.mean(d_all_num_links):.2f}\")\n",
    "for cs_cut, filt_links in d_all_num_filtered_links.items():\n",
    "    print(f\"{cs_cut}\\t{np.mean(filt_links):.2f}\\t{(np.mean(filt_links)-np.mean(d_all_num_links))/np.mean(d_all_num_links):.2f}\")"
   ]
  },
  {
   "cell_type": "markdown",
   "id": "excessive-robertson",
   "metadata": {},
   "source": [
    "## Counting number of links\n",
    "For each GCF count the number of links with and without NPClassScore filtering using the chosen cutoff of 0.25."
   ]
  },
  {
   "cell_type": "code",
   "execution_count": 13,
   "id": "pending-rescue",
   "metadata": {},
   "outputs": [
    {
     "data": {
      "text/plain": [
       "(26.97826086956522, 12.608695652173912)"
      ]
     },
     "execution_count": 13,
     "metadata": {},
     "output_type": "execute_result"
    }
   ],
   "source": [
    "# loop through all gcfs (objects) and count how many links exist (spectra)\n",
    "all_num_links = []\n",
    "all_num_filtered_links = []\n",
    "all_no_scores = []\n",
    "count_nones = False  # this controls if you want to include spectra without class info like npcl.filter_missing_scores\n",
    "\n",
    "for gcf in npl.gcfs:\n",
    "    # filter out MF links\n",
    "    num_links = 0\n",
    "    if gcf in results.links:\n",
    "        num_links = len([link_data for link_data in results.get_sorted_links(mc, gcf)\n",
    "                         if isinstance(link_data.target, Spectrum)])\n",
    "    num_filtered_links = 0\n",
    "    if gcf in results_both.links:\n",
    "        if count_nones:\n",
    "            num_filtered_links = len([link_data for link_data in results_both.get_sorted_links(mc, gcf)\n",
    "                                      if isinstance(link_data.target, Spectrum)])\n",
    "        else:\n",
    "            num_filtered_links = len([link_data for link_data in results_both.get_sorted_links(mc, gcf)\n",
    "                                      if isinstance(link_data.target, Spectrum) if link_data[npcl]])\n",
    "    all_num_links.append(num_links)\n",
    "    all_num_filtered_links.append(num_filtered_links)\n",
    "\n",
    "np.mean(all_num_links), np.mean(all_num_filtered_links)"
   ]
  },
  {
   "cell_type": "code",
   "execution_count": 14,
   "id": "tough-george",
   "metadata": {},
   "outputs": [
    {
     "data": {
      "text/plain": [
       "-0.532634971796938"
      ]
     },
     "execution_count": 14,
     "metadata": {},
     "output_type": "execute_result"
    }
   ],
   "source": [
    "# change in average links per GCF\n",
    "(np.mean(all_num_filtered_links)-np.mean(all_num_links))/np.mean(all_num_links)"
   ]
  },
  {
   "cell_type": "markdown",
   "id": "combined-latin",
   "metadata": {},
   "source": [
    "## Making plots showing the filtered links"
   ]
  },
  {
   "cell_type": "code",
   "execution_count": 16,
   "id": "taken-wednesday",
   "metadata": {},
   "outputs": [
    {
     "data": {
      "image/png": "[encoded data removed]",
      "text/plain": [
       "<Figure size 1400x800 with 1 Axes>"
      ]
     },
     "metadata": {},
     "output_type": "display_data"
    }
   ],
   "source": [
    "sorted_filt_items = sorted(d_all_num_filtered_links.items())\n",
    "labels = [\"0\"] + [f\"{cut}\" for cut, vals in sorted_filt_items]\n",
    "xs = [d_all_num_links] + [vals for keys, vals in sorted_filt_items]\n",
    "lg_size = 14\n",
    "custom_xlim = (-1, max(d_all_num_links))\n",
    "links_title = \"Number of links per GCF\"\n",
    "\n",
    "fig, ax = plt.subplots(nrows=1, ncols=1, figsize=(14, 8))\n",
    "ax.boxplot(xs, labels=labels, flierprops={\"markersize\": 0.5}, medianprops={\"color\": \"black\"})\n",
    "plt.setp(ax, ylim=custom_xlim, xlabel=\"Cutoffs NPClassScore\", ylabel=links_title)\n",
    "figout = \"boxplot_cutoffs_MSV000084950_npclass_mix_can-mne_figure.svg\"\n",
    "plt.savefig(figout)"
   ]
  },
  {
   "cell_type": "code",
   "execution_count": 18,
   "id": "central-collectible",
   "metadata": {},
   "outputs": [
    {
     "name": "stdout",
     "output_type": "stream",
     "text": [
      "Use MNE when there is no CANOPUS prediction\n",
      "Bin size: 5\n"
     ]
    },
    {
     "data": {
      "image/png": "[encoded data removed]",
      "text/plain": [
       "<Figure size 700x600 with 1 Axes>"
      ]
     },
     "metadata": {},
     "output_type": "display_data"
    }
   ],
   "source": [
    "print(\"Use MNE when there is no CANOPUS prediction\")\n",
    "labels = [\"Links\", \"Filtered links\"]\n",
    "colours = [\"#003f5c\", \"#bc5090\", \"#ffa600\"]\n",
    "xs = [all_num_links, all_num_filtered_links]\n",
    "lg_size = 14\n",
    "custom_xlim = (-1, max(d_all_num_links))\n",
    "bin_size = 5\n",
    "print(\"Bin size:\", bin_size)\n",
    "n_bins = np.arange(0, max(d_all_num_links), bin_size)\n",
    "links_title = \"Number of links per GCF\"\n",
    "count_title = \"GCF counts\"\n",
    "hist_type = \"stepfilled\"\n",
    "alpha = 0.75\n",
    "\n",
    "SMALL_SIZE = 12\n",
    "MEDIUM_SIZE = 16\n",
    "BIGGER_SIZE = 18\n",
    "\n",
    "plt.rc('font', size=MEDIUM_SIZE)          # controls default text sizes\n",
    "plt.rc('axes', titlesize=MEDIUM_SIZE)     # fontsize of the axes title\n",
    "plt.rc('axes', labelsize=MEDIUM_SIZE)    # fontsize of the x and y labels\n",
    "plt.rc('xtick', labelsize=SMALL_SIZE)    # fontsize of the tick labels\n",
    "plt.rc('ytick', labelsize=SMALL_SIZE)    # fontsize of the tick labels\n",
    "plt.rc('legend', fontsize=SMALL_SIZE)    # legend fontsize\n",
    "# plt.rc('figure', titlesize=BIGGER_SIZE)  # fontsize of the figure title\n",
    "\n",
    "fig, ax0 = plt.subplots(nrows=1, ncols=1, figsize=(7, 6))\n",
    "ax0.hist(xs[:2], bins=n_bins, density=False, histtype=hist_type, stacked=False, label=labels[:2],\n",
    "         color=colours[:2], alpha=alpha)\n",
    "ax0.legend(prop={'size': lg_size})\n",
    "plt.setp(ax0, xlim=custom_xlim, xlabel=links_title, ylabel=count_title)\n",
    "figout = \"filtered_links_MSV000084950_mix_can-mne_figure_new.svg\"\n",
    "plt.savefig(figout)"
   ]
  },
  {
   "cell_type": "code",
   "execution_count": 241,
   "id": "boxed-ordering",
   "metadata": {},
   "outputs": [],
   "source": [
    "# save xs\n",
    "xs_out = 'filtered_data_MSV000084950.pickle'\n",
    "pickle.dump(xs, open(xs_out, 'wb'))"
   ]
  },
  {
   "cell_type": "markdown",
   "id": "mental-custody",
   "metadata": {},
   "source": [
    "## Investigate known links"
   ]
  },
  {
   "cell_type": "code",
   "execution_count": 34,
   "id": "convertible-apparatus",
   "metadata": {},
   "outputs": [],
   "source": [
    "known_links_dict = {}"
   ]
  },
  {
   "cell_type": "markdown",
   "id": "overhead-philip",
   "metadata": {},
   "source": [
    "### Anabaenopeptins "
   ]
  },
  {
   "cell_type": "code",
   "execution_count": 122,
   "id": "signed-accreditation",
   "metadata": {},
   "outputs": [
    {
     "name": "stdout",
     "output_type": "stream",
     "text": [
      "[BGC(id=15, name=NZ_AP018314.1.region007, strain=Strain(Sphaerospermopsis kisseleviana NIES-73) [4 aliases], asid=NZ_AP018314.1, region=7), BGC(id=42, name=NZ_CP043056.1.region006, strain=Strain(Dolichospermum sp. UHCC 0315A) [4 aliases], asid=NZ_CP043056.1, region=6), BGC(id=68, name=NC_019427.1.region004, strain=Strain(Dolichospermum sp. UHCC 0090) [5 aliases], asid=NC_019427.1, region=4)]\n",
      "{GCF(id=12, class=Others, gcf_id=59, strains=1), GCF(id=28, class=Others, gcf_id=153, strains=6), GCF(id=38, class=Others, gcf_id=211, strains=4), GCF(id=68, class=Others, gcf_id=32, strains=1)} 4\n"
     ]
    }
   ],
   "source": [
    "# cblaster results of BGC0000302 yields best hits to NC_019427.1.region004 and NZ_CP043056.1.region006\n",
    "# gcf id 28 has both of these\n",
    "name_hit = 'anabaenopeptin'\n",
    "known_links_dict[name_hit] = {'hits': [], 'counts': None}\n",
    "spectrum_hits = [2429, 2412, 2512, 2545, 2513]  # spectra from MF 54 as listed on PoDP MSV000084950\n",
    "\n",
    "bgcs_names = ['NZ_AP018314.1.region007', 'NZ_CP043056.1.region006', 'NC_019427.1.region004']\n",
    "result_bgcs = [bgc for bgc in npl.bgcs if bgc.name in bgcs_names]\n",
    "print(result_bgcs)\n",
    "result_gcfs = set([parent for bgc in result_bgcs for parent in bgc.parents])\n",
    "print(result_gcfs, len(result_gcfs))"
   ]
  },
  {
   "cell_type": "code",
   "execution_count": 126,
   "id": "conservative-click",
   "metadata": {},
   "outputs": [
    {
     "data": {
      "text/plain": [
       "(GCF(id=28, class=Others, gcf_id=153, strains=6),\n",
       " StrainCollection(n=6) [Dolichospermum sp. UHCC 0315A,Dolichospermum sp. UHCC 0299,Dolichospermum sp. UHCC 0352,Dolichospermum sp. UHCC 0260,Dolichospermum sp. UHCC 0406,Dolichospermum sp. UHCC 0090],\n",
       " {BGC(id=42, name=NZ_CP043056.1.region006, strain=Strain(Dolichospermum sp. UHCC 0315A) [4 aliases], asid=NZ_CP043056.1, region=6),\n",
       "  BGC(id=43, name=NZ_VIKV01000211.region001, strain=Strain(Dolichospermum sp. UHCC 0299) [15 aliases], asid=NZ_VIKV01000211, region=1),\n",
       "  BGC(id=44, name=NZ_VIKY01000297.region001, strain=Strain(Dolichospermum sp. UHCC 0352) [15 aliases], asid=NZ_VIKY01000297, region=1),\n",
       "  BGC(id=45, name=NZ_VIKZ01000011.region001, strain=Strain(Dolichospermum sp. UHCC 0260) [16 aliases], asid=NZ_VIKZ01000011, region=1),\n",
       "  BGC(id=46, name=NZ_VILA01000007.region001, strain=Strain(Dolichospermum sp. UHCC 0406) [14 aliases], asid=NZ_VILA01000007, region=1),\n",
       "  BGC(id=68, name=NC_019427.1.region004, strain=Strain(Dolichospermum sp. UHCC 0090) [5 aliases], asid=NC_019427.1, region=4)})"
      ]
     },
     "execution_count": 126,
     "metadata": {},
     "output_type": "execute_result"
    }
   ],
   "source": [
    "result_gcf = [gcf for gcf in npl.gcfs if gcf.id == 28][0]\n",
    "result_gcf, result_gcf.strains, result_gcf.bgcs"
   ]
  },
  {
   "cell_type": "code",
   "execution_count": 127,
   "id": "going-accident",
   "metadata": {
    "scrolled": true
   },
   "outputs": [
    {
     "name": "stdout",
     "output_type": "stream",
     "text": [
      "Results for object: GCF(id=28, class=Others, gcf_id=153, strains=6), 28 total links, 1 methods used\n",
      "Rank above cutoff (original rank)\n",
      "1.(1)\tSpectrum(id=140, spectrum_id=1028, strains=6)\tmetcalf=4.6904\tshared strains=6\tMF=50\n",
      "NPClassScore: (0.9285714285714286, 'as_classes', 'npc_pathway', 'betalactone', 'Amino acids and Peptides')\n",
      "Precursor_mz: 419.20401\n",
      "2.(3)\tSpectrum(id=123, spectrum_id=990, strains=5)\tmetcalf=4.1611\tshared strains=5\tMF=-1\n",
      "NPClassScore: (0.9285714285714286, 'as_classes', 'npc_pathway', 'betalactone', 'Amino acids and Peptides')\n",
      "Precursor_mz: 405.20099\n",
      "2.(3)\tSpectrum(id=558, spectrum_id=2499, strains=5)\tmetcalf=4.1611\tshared strains=5\tMF=50\n",
      "NPClassScore: (0.9285714285714286, 'as_classes', 'npc_pathway', 'betalactone', 'Amino acids and Peptides')\n",
      "Precursor_mz: 837.521\n",
      "2.(3)\tSpectrum(id=562, spectrum_id=2513, strains=5)\tmetcalf=4.1611\tshared strains=5\tMF=54\n",
      "NPClassScore: (0.9285714285714286, 'as_classes', 'npc_pathway', 'betalactone', 'Amino acids and Peptides')\n",
      "Precursor_mz: 844.48798\n",
      "--MATCH--\n",
      "5.(9)\tSpectrum(id=152, spectrum_id=1049, strains=4)\tmetcalf=3.6225\tshared strains=4\tMF=50\n",
      "NPClassScore: (0.9285714285714286, 'as_classes', 'npc_pathway', 'betalactone', 'Amino acids and Peptides')\n",
      "Precursor_mz: 426.21301\n",
      "5.(9)\tSpectrum(id=153, spectrum_id=1050, strains=4)\tmetcalf=3.6225\tshared strains=4\tMF=50\n",
      "NPClassScore: (0.9285714285714286, 'as_classes', 'npc_pathway', 'betalactone', 'Amino acids and Peptides')\n",
      "Precursor_mz: 426.21301\n",
      "5.(9)\tSpectrum(id=538, spectrum_id=2429, strains=4)\tmetcalf=3.6225\tshared strains=4\tMF=54\n",
      "NPClassScore: (0.9285714285714286, 'as_classes', 'npc_pathway', 'betalactone', 'Amino acids and Peptides')\n",
      "Precursor_mz: 809.51099\n",
      "--MATCH--\n",
      "8.(13)\tSpectrum(id=698, spectrum_id=2824, strains=9)\tmetcalf=3.4754\tshared strains=6\tMF=5\n",
      "NPClassScore: (1.0, 'as_classes', 'cf_superclass', 'betalactone', 'Organic acids and derivatives')\n",
      "Precursor_mz: 1132.79004\n",
      "9.(15)\tSpectrum(id=126, spectrum_id=1001, strains=7)\tmetcalf=3.2035\tshared strains=5\tMF=4\n",
      "NPClassScore: (1.0, 'as_classes', 'cf_superclass', 'betalactone', 'Organic acids and derivatives')\n",
      "Precursor_mz: 405.65799\n",
      "9.(15)\tSpectrum(id=127, spectrum_id=1002, strains=7)\tmetcalf=3.2035\tshared strains=5\tMF=4\n",
      "NPClassScore: (1.0, 'as_classes', 'cf_superclass', 'betalactone', 'Organic acids and derivatives')\n",
      "Precursor_mz: 405.65799\n",
      "9.(15)\tSpectrum(id=161, spectrum_id=1068, strains=7)\tmetcalf=3.2035\tshared strains=5\tMF=59\n",
      "NPClassScore: (0.9090909090909091, 'as_classes', 'cf_subclass', 'betalactone', 'Amino acids, peptides, and analogues')\n",
      "Precursor_mz: 429.34601\n",
      "9.(15)\tSpectrum(id=311, spectrum_id=1731, strains=7)\tmetcalf=3.2035\tshared strains=5\tMF=36\n",
      "NPClassScore: (1.0, 'as_classes', 'cf_superclass', 'betalactone', 'Organic acids and derivatives')\n",
      "Precursor_mz: 566.83398\n",
      "9.(15)\tSpectrum(id=570, spectrum_id=2531, strains=7)\tmetcalf=3.2035\tshared strains=5\tMF=5\n",
      "NPClassScore: (1.0, 'as_classes', 'cf_superclass', 'betalactone', 'Organic acids and derivatives')\n",
      "Precursor_mz: 854.41998\n",
      "9.(15)\tSpectrum(id=697, spectrum_id=2823, strains=7)\tmetcalf=3.2035\tshared strains=5\tMF=5\n",
      "NPClassScore: (1.0, 'as_classes', 'cf_superclass', 'betalactone', 'Organic acids and derivatives')\n",
      "Precursor_mz: 1130.77795\n",
      "9.(15)\tSpectrum(id=711, spectrum_id=2844, strains=7)\tmetcalf=3.2035\tshared strains=5\tMF=9\n",
      "NPClassScore: (1.0, 'as_classes', 'cf_superclass', 'betalactone', 'Organic acids and derivatives')\n",
      "Precursor_mz: 1154.12\n",
      "16.(28)\tSpectrum(id=119, spectrum_id=986, strains=3)\tmetcalf=3.0578\tshared strains=3\tMF=55\n",
      "NPClassScore: (0.9285714285714286, 'as_classes', 'npc_pathway', 'betalactone', 'Amino acids and Peptides')\n",
      "Precursor_mz: 403.28799\n",
      "16.(28)\tSpectrum(id=205, spectrum_id=1271, strains=3)\tmetcalf=3.0578\tshared strains=3\tMF=-1\n",
      "NPClassScore: (0.9285714285714286, 'as_classes', 'npc_pathway', 'betalactone', 'Amino acids and Peptides')\n",
      "Precursor_mz: 478.185\n",
      "16.(28)\tSpectrum(id=333, spectrum_id=1777, strains=3)\tmetcalf=3.0578\tshared strains=3\tMF=-1\n",
      "NPClassScore: (0.9285714285714286, 'as_classes', 'npc_pathway', 'betalactone', 'Amino acids and Peptides')\n",
      "Precursor_mz: 575.336\n",
      "16.(28)\tSpectrum(id=334, spectrum_id=1778, strains=3)\tmetcalf=3.0578\tshared strains=3\tMF=50\n",
      "NPClassScore: (0.9090909090909091, 'as_classes', 'cf_subclass', 'betalactone', 'Amino acids, peptides, and analogues')\n",
      "Precursor_mz: 575.336\n",
      "16.(28)\tSpectrum(id=561, spectrum_id=2512, strains=3)\tmetcalf=3.0578\tshared strains=3\tMF=54\n",
      "NPClassScore: (0.9285714285714286, 'as_classes', 'npc_pathway', 'betalactone', 'Amino acids and Peptides')\n",
      "Precursor_mz: 844.48297\n",
      "--MATCH--\n",
      "16.(28)\tSpectrum(id=582, spectrum_id=2560, strains=3)\tmetcalf=3.0578\tshared strains=3\tMF=40\n",
      "NPClassScore: (1.0, 'as_classes', 'cf_superclass', 'betalactone', 'Organic acids and derivatives')\n",
      "Precursor_mz: 866.47101\n",
      "16.(28)\tSpectrum(id=700, spectrum_id=2827, strains=3)\tmetcalf=3.0578\tshared strains=3\tMF=5\n",
      "NPClassScore: (1.0, 'as_classes', 'cf_superclass', 'betalactone', 'Organic acids and derivatives')\n",
      "Precursor_mz: 1133.78894\n",
      "23.(41)\tSpectrum(id=124, spectrum_id=993, strains=8)\tmetcalf=2.8405\tshared strains=5\tMF=1\n",
      "NPClassScore: (0.47073170731707314, 'mibig_classes', 'npc_pathway', 'Other', 'Alkaloids')\n",
      "Precursor_mz: 405.37701\n",
      "24.(47)\tSpectrum(id=110, spectrum_id=968, strains=6)\tmetcalf=2.5751\tshared strains=4\tMF=64\n",
      "NPClassScore: (1.0, 'as_classes', 'cf_superclass', 'betalactone', 'Organic acids and derivatives')\n",
      "Precursor_mz: 396.651\n",
      "24.(47)\tSpectrum(id=473, spectrum_id=2247, strains=6)\tmetcalf=2.5751\tshared strains=4\tMF=55\n",
      "NPClassScore: (0.47073170731707314, 'mibig_classes', 'npc_pathway', 'Other', 'Alkaloids')\n",
      "Precursor_mz: 691.63202\n"
     ]
    }
   ],
   "source": [
    "cutoff = 0.25\n",
    "result_links_both = results_both.links[result_gcf]\n",
    "result_links_mc = results.get_sorted_links(mc, result_gcf)\n",
    "count = 0\n",
    "i = 0\n",
    "show_x = 25\n",
    "include_below_cutoff = False\n",
    "prev_mc = 10**100\n",
    "i_delay = 0\n",
    "delay = 0 \n",
    "print('Results for object: {}, {} total links, {} methods used'.format(result_gcf, len(result_links_both), results.method_count))\n",
    "print(\"Rank above cutoff (original rank)\")\n",
    "for link_data in result_links_mc:\n",
    "    if isinstance(link_data.target, Spectrum):\n",
    "        link_data_both = result_links_both.get(link_data.target)\n",
    "        cur_mc = link_data[mc]\n",
    "        if cur_mc < prev_mc:\n",
    "            i += 1\n",
    "            i += i_delay\n",
    "            i_delay = 0\n",
    "        else:\n",
    "            i_delay += 1\n",
    "        \n",
    "        pref = 'x.'\n",
    "        cl_score = None\n",
    "        if link_data_both:\n",
    "            cl_score = link_data_both[npcl]\n",
    "            if cl_score:\n",
    "                if cl_score[0][0] > cutoff:\n",
    "                    if cur_mc < prev_mc:\n",
    "                        count += 1\n",
    "                        count += delay\n",
    "                        delay = 0\n",
    "                    else:\n",
    "                        delay += 1\n",
    "                    pref = f\"{count}.\"\n",
    "                    prev_mc = cur_mc\n",
    "        if include_below_cutoff or not pref == 'x.':\n",
    "            print('{}({})\\t{}\\t{}={}\\tshared strains={}\\tMF={}'.format(\n",
    "                pref,\n",
    "                i,\n",
    "                link_data.target,\n",
    "                ','.join(method.name for method in link_data.methods),\n",
    "                mc.format_data(cur_mc),\n",
    "                len(link_data.shared_strains),\n",
    "                link_data.target.family_id))\n",
    "            if cl_score:\n",
    "                print('NPClassScore:', cl_score[0])\n",
    "            comp_name = ''\n",
    "            if link_data.target.gnps_annotations:\n",
    "                comp_name = link_data.target.gnps_annotations.get(\"Compound_Name\")\n",
    "                print('Library match:', comp_name)\n",
    "            print('Precursor_mz:', link_data.target.precursor_mz)\n",
    "            if link_data.target.spectrum_id in spectrum_hits or name_hit in comp_name.lower():\n",
    "                print(\"--MATCH--\")\n",
    "                known_links_dict[name_hit]['hits'].append((count, i, result_gcf, link_data))\n",
    "    if count + delay == show_x:\n",
    "        break"
   ]
  },
  {
   "cell_type": "code",
   "execution_count": 125,
   "id": "informational-content",
   "metadata": {},
   "outputs": [
    {
     "name": "stdout",
     "output_type": "stream",
     "text": [
      "33 21\n"
     ]
    }
   ],
   "source": [
    "filtered_counts = 0\n",
    "metcalf_counts = 0\n",
    "for link_data in result_links_mc:\n",
    "    if isinstance(link_data.target, Spectrum):\n",
    "        metcalf_counts += 1\n",
    "        link_data_both = result_links_both.get(link_data.target)\n",
    "        if link_data_both:\n",
    "            cl_score = link_data_both[npcl]\n",
    "            if cl_score:\n",
    "                if cl_score[0][0] > cutoff:\n",
    "                    filtered_counts += 1\n",
    "                else:\n",
    "                    if count_nones:\n",
    "                        filtered_counts += 1\n",
    "\n",
    "known_links_dict[name_hit]['counts'] = (metcalf_counts, filtered_counts)\n",
    "print(metcalf_counts, filtered_counts)"
   ]
  },
  {
   "cell_type": "markdown",
   "id": "dirty-guyana",
   "metadata": {},
   "source": [
    "### Micropeptins "
   ]
  },
  {
   "cell_type": "code",
   "execution_count": 215,
   "id": "indirect-mainland",
   "metadata": {},
   "outputs": [
    {
     "name": "stdout",
     "output_type": "stream",
     "text": [
      "[BGC(id=19, name=NZ_JXYX01000001.region002, strain=Strain(Microcystis aeruginosa NIES-88) [12 aliases], asid=NZ_JXYX01000001, region=2)]\n",
      "{GCF(id=13, class=Others, gcf_id=68, strains=4)} 1\n"
     ]
    }
   ],
   "source": [
    "# cblaster results of BGC0000332 yields hit NZ_JXYX01000001.region002 from Microcystis aeruginosa NIES-88 as indicated on PoDP\n",
    "name_hit = 'micropeptin'\n",
    "known_links_dict[name_hit] = {'hits': [], 'counts': None}\n",
    "spectrum_hits = [spec.spectrum_id for spec in\n",
    "                 [mf for mf in npl.molfams if mf.family_id == 26][0].spectra\n",
    "                ]  # spectra from MF 26 as listed on PoDP MSV000084950\n",
    "\n",
    "result_bgcs = [bgc for bgc in npl.bgcs if bgc.name == \"NZ_JXYX01000001.region002\"]\n",
    "print(result_bgcs)\n",
    "result_gcfs = set([parent for bgc in result_bgcs for parent in bgc.parents])\n",
    "print(result_gcfs, len(result_gcfs))"
   ]
  },
  {
   "cell_type": "code",
   "execution_count": 216,
   "id": "hollow-division",
   "metadata": {},
   "outputs": [
    {
     "data": {
      "text/plain": [
       "(GCF(id=13, class=Others, gcf_id=68, strains=4),\n",
       " StrainCollection(n=4) [Microcystis aeruginosa NIES-843,Microcystis viridis NIES-102,Microcystis aeruginosa NIES-298,Microcystis aeruginosa NIES-88],\n",
       " {BGC(id=16, name=NC_010296.1.region012, strain=Strain(Microcystis aeruginosa NIES-843) [4 aliases], asid=NC_010296.1, region=12),\n",
       "  BGC(id=17, name=NZ_AP019314.1.region007, strain=Strain(Microcystis viridis NIES-102) [4 aliases], asid=NZ_AP019314.1, region=7),\n",
       "  BGC(id=18, name=NZ_CP046058.1.region013, strain=Strain(Microcystis aeruginosa NIES-298) [4 aliases], asid=NZ_CP046058.1, region=13),\n",
       "  BGC(id=19, name=NZ_JXYX01000001.region002, strain=Strain(Microcystis aeruginosa NIES-88) [12 aliases], asid=NZ_JXYX01000001, region=2)})"
      ]
     },
     "execution_count": 216,
     "metadata": {},
     "output_type": "execute_result"
    }
   ],
   "source": [
    "result_gcf = [gcf for gcf in npl.gcfs if gcf.id == 13][0]\n",
    "result_gcf, result_gcf.strains, result_gcf.bgcs"
   ]
  },
  {
   "cell_type": "code",
   "execution_count": 217,
   "id": "willing-prairie",
   "metadata": {
    "scrolled": true
   },
   "outputs": [
    {
     "name": "stdout",
     "output_type": "stream",
     "text": [
      "Results for object: GCF(id=13, class=Others, gcf_id=68, strains=4), 37 total links, 1 methods used\n",
      "Rank above cutoff (original rank)\n",
      "1.(1)\tSpectrum(id=201, spectrum_id=1266, strains=4)\tmetcalf=4.6904\tshared strains=4\tMF=-1\n",
      "NPClassScore: (0.75, 'as_classes', 'npc_pathway', 'microviridin', 'Amino acids and Peptides')\n",
      "Precursor_mz: 476.345\n",
      "2.(6)\tSpectrum(id=552, spectrum_id=2493, strains=5)\tmetcalf=4.0833\tshared strains=4\tMF=1\n",
      "NPClassScore: (0.3718861209964413, 'as_classes', 'cf_subclass', 'NRPS', 'Amino acids, peptides, and analogues')\n",
      "Precursor_mz: 834.599\n",
      "3.(9)\tSpectrum(id=457, spectrum_id=2204, strains=3)\tmetcalf=3.9592\tshared strains=3\tMF=47\n",
      "NPClassScore: (1.0, 'as_classes', 'npc_superclass', 'microviridin', 'Oligopeptides')\n",
      "Precursor_mz: 675.284\n",
      "3.(9)\tSpectrum(id=458, spectrum_id=2205, strains=3)\tmetcalf=3.9592\tshared strains=3\tMF=47\n",
      "NPClassScore: (0.75, 'as_classes', 'npc_pathway', 'microviridin', 'Amino acids and Peptides')\n",
      "Precursor_mz: 675.284\n",
      "3.(9)\tSpectrum(id=557, spectrum_id=2498, strains=3)\tmetcalf=3.9592\tshared strains=3\tMF=1\n",
      "NPClassScore: (0.3718861209964413, 'as_classes', 'cf_subclass', 'NRPS', 'Amino acids, peptides, and analogues')\n",
      "Precursor_mz: 836.61102\n",
      "3.(9)\tSpectrum(id=682, spectrum_id=2794, strains=3)\tmetcalf=3.9592\tshared strains=3\tMF=74\n",
      "NPClassScore: (1.0, 'as_classes', 'cf_subclass', 'microviridin', 'Depsipeptides')\n",
      "Precursor_mz: 1101.10303\n",
      "7.(13)\tSpectrum(id=215, spectrum_id=1337, strains=6)\tmetcalf=3.6225\tshared strains=4\tMF=75\n",
      "NPClassScore: (0.47073170731707314, 'mibig_classes', 'npc_pathway', 'Other', 'Alkaloids')\n",
      "Precursor_mz: 492.34299\n",
      "7.(13)\tSpectrum(id=576, spectrum_id=2548, strains=6)\tmetcalf=3.6225\tshared strains=4\tMF=34\n",
      "NPClassScore: (0.6666666666666666, 'as_classes', 'cf_superclass', 'microviridin', 'Organic acids and derivatives')\n",
      "Precursor_mz: 861.54999\n",
      "7.(13)\tSpectrum(id=657, spectrum_id=2730, strains=6)\tmetcalf=3.6225\tshared strains=4\tMF=23\n",
      "NPClassScore: (0.6666666666666666, 'as_classes', 'cf_superclass', 'microviridin', 'Organic acids and derivatives')\n",
      "Library match: Massbank:EA299209 Microcystin-LR|(5R,8R,11R,12S,15S,18S,19S,22R)-15-{3-[(Diaminomethylene)amino]propyl}-8-isobutyl-18-[(1E,3E,5S,6S)-6-methoxy-3,5-dimethyl-7-phenyl-1,3-heptadien-1-yl]-1,5,12,19-tetramethyl-2-methylene\n",
      "Precursor_mz: 995.65601\n",
      "10.(18)\tSpectrum(id=691, spectrum_id=2815, strains=7)\tmetcalf=3.2537\tshared strains=4\tMF=5\n",
      "NPClassScore: (0.6666666666666666, 'as_classes', 'cf_superclass', 'microviridin', 'Organic acids and derivatives')\n",
      "Precursor_mz: 1116.78796\n",
      "11.(20)\tSpectrum(id=37, spectrum_id=574, strains=2)\tmetcalf=3.1547\tshared strains=2\tMF=-1\n",
      "NPClassScore: (0.3403225806451613, 'as_classes', 'cf_class', 'NRPS', 'Carboxylic acids and derivatives')\n",
      "Precursor_mz: 270.23199\n",
      "11.(20)\tSpectrum(id=202, spectrum_id=1267, strains=2)\tmetcalf=3.1547\tshared strains=2\tMF=-1\n",
      "NPClassScore: (0.75, 'as_classes', 'npc_pathway', 'microviridin', 'Amino acids and Peptides')\n",
      "Precursor_mz: 476.345\n",
      "11.(20)\tSpectrum(id=203, spectrum_id=1268, strains=2)\tmetcalf=3.1547\tshared strains=2\tMF=-1\n",
      "NPClassScore: (0.47073170731707314, 'mibig_classes', 'npc_pathway', 'Other', 'Alkaloids')\n",
      "Precursor_mz: 476.345\n",
      "11.(20)\tSpectrum(id=216, spectrum_id=1338, strains=2)\tmetcalf=3.1547\tshared strains=2\tMF=-1\n",
      "NPClassScore: (0.75, 'as_classes', 'npc_pathway', 'microviridin', 'Amino acids and Peptides')\n",
      "Precursor_mz: 492.34\n",
      "11.(20)\tSpectrum(id=217, spectrum_id=1341, strains=2)\tmetcalf=3.1547\tshared strains=2\tMF=-1\n",
      "NPClassScore: (0.47073170731707314, 'mibig_classes', 'npc_pathway', 'Other', 'Alkaloids')\n",
      "Precursor_mz: 492.345\n",
      "11.(20)\tSpectrum(id=392, spectrum_id=1987, strains=2)\tmetcalf=3.1547\tshared strains=2\tMF=70\n",
      "NPClassScore: (0.75, 'as_classes', 'npc_pathway', 'microviridin', 'Amino acids and Peptides')\n",
      "Precursor_mz: 605.37097\n",
      "11.(20)\tSpectrum(id=418, spectrum_id=2081, strains=2)\tmetcalf=3.1547\tshared strains=2\tMF=6\n",
      "NPClassScore: (0.47073170731707314, 'mibig_classes', 'npc_pathway', 'Other', 'Alkaloids')\n",
      "Precursor_mz: 621.37201\n",
      "11.(20)\tSpectrum(id=433, spectrum_id=2126, strains=2)\tmetcalf=3.1547\tshared strains=2\tMF=6\n",
      "NPClassScore: (1.0, 'as_classes', 'npc_superclass', 'microviridin', 'Oligopeptides')\n",
      "Precursor_mz: 635.38898\n",
      "11.(20)\tSpectrum(id=448, spectrum_id=2167, strains=2)\tmetcalf=3.1547\tshared strains=2\tMF=6\n",
      "NPClassScore: (1.0, 'as_classes', 'npc_superclass', 'microviridin', 'Oligopeptides')\n",
      "Precursor_mz: 653.34003\n",
      "11.(20)\tSpectrum(id=475, spectrum_id=2268, strains=2)\tmetcalf=3.1547\tshared strains=2\tMF=39\n",
      "NPClassScore: (0.29936974789915966, 'as_classes', 'npc_pathway', 'NRPS', 'Polyketides')\n",
      "Precursor_mz: 697.362\n",
      "11.(20)\tSpectrum(id=541, spectrum_id=2436, strains=2)\tmetcalf=3.1547\tshared strains=2\tMF=1\n",
      "NPClassScore: (1.0, 'as_classes', 'npc_superclass', 'microviridin', 'Oligopeptides')\n",
      "Precursor_mz: 815.55798\n",
      "11.(20)\tSpectrum(id=551, spectrum_id=2492, strains=2)\tmetcalf=3.1547\tshared strains=2\tMF=1\n",
      "NPClassScore: (1.0, 'as_classes', 'npc_superclass', 'microviridin', 'Oligopeptides')\n",
      "Precursor_mz: 832.58801\n",
      "11.(20)\tSpectrum(id=555, spectrum_id=2496, strains=2)\tmetcalf=3.1547\tshared strains=2\tMF=61\n",
      "NPClassScore: (0.29936974789915966, 'as_classes', 'npc_pathway', 'NRPS', 'Polyketides')\n",
      "Precursor_mz: 836.40302\n",
      "11.(20)\tSpectrum(id=556, spectrum_id=2497, strains=2)\tmetcalf=3.1547\tshared strains=2\tMF=1\n",
      "NPClassScore: (1.0, 'as_classes', 'npc_superclass', 'microviridin', 'Oligopeptides')\n",
      "Precursor_mz: 836.61102\n",
      "11.(20)\tSpectrum(id=692, spectrum_id=2816, strains=2)\tmetcalf=3.1547\tshared strains=2\tMF=5\n",
      "NPClassScore: (0.6666666666666666, 'as_classes', 'cf_superclass', 'microviridin', 'Organic acids and derivatives')\n",
      "Precursor_mz: 1116.78796\n",
      "26.(43)\tSpectrum(id=243, spectrum_id=1467, strains=5)\tmetcalf=2.7789\tshared strains=3\tMF=-1\n",
      "NPClassScore: (0.75, 'as_classes', 'npc_pathway', 'microviridin', 'Amino acids and Peptides')\n",
      "Precursor_mz: 519.78101\n",
      "26.(43)\tSpectrum(id=262, spectrum_id=1592, strains=5)\tmetcalf=2.7789\tshared strains=3\tMF=30\n",
      "NPClassScore: (1.0, 'as_classes', 'npc_superclass', 'microviridin', 'Oligopeptides')\n",
      "Precursor_mz: 539.28198\n",
      "26.(43)\tSpectrum(id=263, spectrum_id=1593, strains=5)\tmetcalf=2.7789\tshared strains=3\tMF=30\n",
      "NPClassScore: (0.3718861209964413, 'as_classes', 'cf_subclass', 'NRPS', 'Amino acids, peptides, and analogues')\n",
      "Precursor_mz: 539.28198\n",
      "26.(43)\tSpectrum(id=559, spectrum_id=2501, strains=5)\tmetcalf=2.7789\tshared strains=3\tMF=5\n",
      "NPClassScore: (0.29936974789915966, 'as_classes', 'npc_pathway', 'NRPS', 'Polyketides')\n",
      "Precursor_mz: 838.41803\n",
      "30.(48)\tSpectrum(id=143, spectrum_id=1034, strains=9)\tmetcalf=2.6842\tshared strains=4\tMF=4\n",
      "NPClassScore: (0.6666666666666666, 'as_classes', 'cf_superclass', 'microviridin', 'Organic acids and derivatives')\n",
      "Precursor_mz: 419.65302\n",
      "30.(48)\tSpectrum(id=144, spectrum_id=1035, strains=9)\tmetcalf=2.6842\tshared strains=4\tMF=4\n",
      "NPClassScore: (0.6666666666666666, 'as_classes', 'cf_superclass', 'microviridin', 'Organic acids and derivatives')\n",
      "Precursor_mz: 419.65201\n"
     ]
    }
   ],
   "source": [
    "cutoff = 0.25\n",
    "result_links_both = results_both.links[result_gcf]\n",
    "result_links_mc = results.get_sorted_links(mc, result_gcf)\n",
    "count = 0\n",
    "i = 0\n",
    "show_x = 50\n",
    "include_below_cutoff = False\n",
    "prev_mc = 10**100\n",
    "i_delay = 0\n",
    "delay = 0 \n",
    "print('Results for object: {}, {} total links, {} methods used'.format(result_gcf, len(result_links_both), results.method_count))\n",
    "print(\"Rank above cutoff (original rank)\")\n",
    "for link_data in result_links_mc:\n",
    "    if isinstance(link_data.target, Spectrum):\n",
    "        link_data_both = result_links_both.get(link_data.target)\n",
    "        cur_mc = link_data[mc]\n",
    "        if cur_mc < prev_mc:\n",
    "            i += 1\n",
    "            i += i_delay\n",
    "            i_delay = 0\n",
    "        else:\n",
    "            i_delay += 1\n",
    "        \n",
    "        pref = 'x.'\n",
    "        cl_score = None\n",
    "        if link_data_both:\n",
    "            cl_score = link_data_both[npcl]\n",
    "            if cl_score:\n",
    "                if cl_score[0][0] > cutoff:\n",
    "                    if cur_mc < prev_mc:\n",
    "                        count += 1\n",
    "                        count += delay\n",
    "                        delay = 0\n",
    "                    else:\n",
    "                        delay += 1\n",
    "                    pref = f\"{count}.\"\n",
    "                    prev_mc = cur_mc\n",
    "        if include_below_cutoff or not pref == 'x.':\n",
    "            print('{}({})\\t{}\\t{}={}\\tshared strains={}\\tMF={}'.format(\n",
    "                pref,\n",
    "                i,\n",
    "                link_data.target,\n",
    "                ','.join(method.name for method in link_data.methods),\n",
    "                mc.format_data(cur_mc),\n",
    "                len(link_data.shared_strains),\n",
    "                link_data.target.family_id))\n",
    "            if cl_score:\n",
    "                print('NPClassScore:', cl_score[0])\n",
    "            comp_name = ''\n",
    "            if link_data.target.gnps_annotations:\n",
    "                comp_name = link_data.target.gnps_annotations.get(\"Compound_Name\")\n",
    "                print('Library match:', comp_name)\n",
    "            print('Precursor_mz:', link_data.target.precursor_mz)\n",
    "            if link_data.target.spectrum_id in spectrum_hits or name_hit in comp_name.lower():\n",
    "                print(\"--MATCH--\")\n",
    "                known_links_dict[name_hit]['hits'].append((count, i, result_gcf, link_data))\n",
    "    if count + delay == show_x:\n",
    "        break"
   ]
  },
  {
   "cell_type": "code",
   "execution_count": 218,
   "id": "sunrise-thumb",
   "metadata": {},
   "outputs": [
    {
     "name": "stdout",
     "output_type": "stream",
     "text": [
      "50 31\n"
     ]
    }
   ],
   "source": [
    "filtered_counts = 0\n",
    "metcalf_counts = 0\n",
    "for link_data in result_links_mc:\n",
    "    if isinstance(link_data.target, Spectrum):\n",
    "        metcalf_counts += 1\n",
    "        link_data_both = result_links_both.get(link_data.target)\n",
    "        if link_data_both:\n",
    "            cl_score = link_data_both[npcl]\n",
    "            if cl_score:\n",
    "                if cl_score[0][0] > cutoff:\n",
    "                    filtered_counts += 1\n",
    "                else:\n",
    "                    if count_nones:\n",
    "                        filtered_counts += 1\n",
    "\n",
    "known_links_dict[name_hit]['counts'] = (metcalf_counts, filtered_counts)\n",
    "print(metcalf_counts, filtered_counts)"
   ]
  },
  {
   "cell_type": "code",
   "execution_count": 219,
   "id": "referenced-causing",
   "metadata": {},
   "outputs": [
    {
     "name": "stdout",
     "output_type": "stream",
     "text": [
      "--- ObjectLink(source=GCF(id=13, class=Others, gcf_id=68, strains=4), target=Spectrum(id=539, spectrum_id=2432, strains=1), #methods=1)\n",
      "[(1.0, 'as_classes', 'npc_superclass', 'microviridin', 'Oligopeptides')]\n",
      "--- ObjectLink(source=GCF(id=13, class=Others, gcf_id=68, strains=4), target=Spectrum(id=565, spectrum_id=2520, strains=1), #methods=1)\n",
      "[(1.0, 'as_classes', 'npc_superclass', 'microviridin', 'Oligopeptides')]\n",
      "--- ObjectLink(source=GCF(id=13, class=Others, gcf_id=68, strains=4), target=Spectrum(id=578, spectrum_id=2550, strains=1), #methods=1)\n",
      "[(0.6666666666666666, 'as_classes', 'cf_superclass', 'microviridin', 'Organic acids and derivatives')]\n",
      "--- ObjectLink(source=GCF(id=13, class=Others, gcf_id=68, strains=4), target=Spectrum(id=669, spectrum_id=2763, strains=1), #methods=1)\n",
      "[(0.6666666666666666, 'as_classes', 'cf_superclass', 'microviridin', 'Organic acids and derivatives')]\n",
      "--- ObjectLink(source=GCF(id=13, class=Others, gcf_id=68, strains=4), target=Spectrum(id=674, spectrum_id=2775, strains=1), #methods=1)\n",
      "[(0.6666666666666666, 'as_classes', 'cf_superclass', 'microviridin', 'Organic acids and derivatives')]\n",
      "--- ObjectLink(source=GCF(id=13, class=Others, gcf_id=68, strains=4), target=Spectrum(id=677, spectrum_id=2784, strains=1), #methods=1)\n",
      "[(0.6666666666666666, 'as_classes', 'cf_superclass', 'microviridin', 'Organic acids and derivatives')]\n",
      "--- ObjectLink(source=GCF(id=13, class=Others, gcf_id=68, strains=4), target=Spectrum(id=681, spectrum_id=2793, strains=1), #methods=1)\n",
      "[(0.6666666666666666, 'as_classes', 'cf_superclass', 'microviridin', 'Organic acids and derivatives')]\n",
      "--- ObjectLink(source=GCF(id=13, class=Others, gcf_id=68, strains=4), target=Spectrum(id=687, spectrum_id=2807, strains=1), #methods=1)\n",
      "[(0.6666666666666666, 'as_classes', 'cf_superclass', 'microviridin', 'Organic acids and derivatives')]\n"
     ]
    }
   ],
   "source": [
    "# check if missing link does have npcl score\n",
    "result_links_npcl = results_npcl.get_sorted_links(npcl_only, result_gcf)\n",
    "for link_data in result_links_npcl:\n",
    "    if isinstance(link_data.target, Spectrum):\n",
    "#         print(link_data.target.spectrum_id)\n",
    "        if link_data.target.spectrum_id in spectrum_hits:\n",
    "            print('---',link_data)\n",
    "            print(link_data[npcl_only])"
   ]
  },
  {
   "cell_type": "code",
   "execution_count": 223,
   "id": "demanding-soviet",
   "metadata": {},
   "outputs": [],
   "source": [
    "# does get found by NPClassScore above threshold but not by metcalf\n",
    "known_links_dict[name_hit]['not_found'] = 'not in metcalf'"
   ]
  },
  {
   "cell_type": "markdown",
   "id": "official-warner",
   "metadata": {},
   "source": [
    "### Kawaguchipeptin B"
   ]
  },
  {
   "cell_type": "code",
   "execution_count": 97,
   "id": "numerical-physics",
   "metadata": {},
   "outputs": [
    {
     "name": "stdout",
     "output_type": "stream",
     "text": [
      "[BGC(id=186, name=NZ_JXYX01000010.region001, strain=Strain(Microcystis aeruginosa NIES-88) [12 aliases], asid=NZ_JXYX01000010, region=1)]\n",
      "{GCF(id=125, class=RiPPs, gcf_id=129, strains=1)} 1\n"
     ]
    }
   ],
   "source": [
    "# knownclusterblast found NZ_JXYX01000010.region001 as BGC0001632 in Microcystis aeruginosa NIES-88 as indicated in MIBiG\n",
    "name_hit = 'kawaguchipeptin'\n",
    "known_links_dict[name_hit] = {'hits': [], 'counts': None}\n",
    "spectrum_hits = [2858]  # as listed on PoDP MSV000084950\n",
    "\n",
    "result_bgcs = [bgc for bgc in npl.bgcs if bgc.name == \"NZ_JXYX01000010.region001\"]\n",
    "print(result_bgcs)\n",
    "result_gcfs = set([parent for bgc in result_bgcs for parent in bgc.parents])\n",
    "print(result_gcfs, len(result_gcfs))"
   ]
  },
  {
   "cell_type": "code",
   "execution_count": 98,
   "id": "lyric-tongue",
   "metadata": {},
   "outputs": [
    {
     "data": {
      "text/plain": [
       "(GCF(id=125, class=RiPPs, gcf_id=129, strains=1),\n",
       " StrainCollection(n=1) [Microcystis aeruginosa NIES-88],\n",
       " {BGC(id=186, name=NZ_JXYX01000010.region001, strain=Strain(Microcystis aeruginosa NIES-88) [12 aliases], asid=NZ_JXYX01000010, region=1)})"
      ]
     },
     "execution_count": 98,
     "metadata": {},
     "output_type": "execute_result"
    }
   ],
   "source": [
    "result_gcf = [gcf for gcf in npl.gcfs if gcf.id == 125][0]\n",
    "result_gcf, result_gcf.strains, result_gcf.bgcs"
   ]
  },
  {
   "cell_type": "code",
   "execution_count": 99,
   "id": "primary-charles",
   "metadata": {
    "scrolled": true
   },
   "outputs": [
    {
     "name": "stdout",
     "output_type": "stream",
     "text": [
      "Results for object: GCF(id=125, class=RiPPs, gcf_id=129, strains=1), 57 total links, 1 methods used\n",
      "Rank above cutoff (original rank)\n",
      "1.(2)\tSpectrum(id=194, spectrum_id=1239, strains=1)\tmetcalf=4.6904\tshared strains=1\tMF=-1\n",
      "NPClassScore: (0.9, 'as_classes', 'cf_subclass', 'cyanobactin', 'Amino acids, peptides, and analogues')\n",
      "Precursor_mz: 461.776\n",
      "1.(2)\tSpectrum(id=200, spectrum_id=1261, strains=1)\tmetcalf=4.6904\tshared strains=1\tMF=-1\n",
      "NPClassScore: (1.0, 'as_classes', 'npc_pathway', 'cyanobactin', 'Amino acids and Peptides')\n",
      "Precursor_mz: 473.30099\n",
      "1.(2)\tSpectrum(id=246, spectrum_id=1473, strains=1)\tmetcalf=4.6904\tshared strains=1\tMF=37\n",
      "NPClassScore: (1.0, 'as_classes', 'npc_pathway', 'cyanobactin', 'Amino acids and Peptides')\n",
      "Precursor_mz: 523.27399\n",
      "1.(2)\tSpectrum(id=251, spectrum_id=1498, strains=1)\tmetcalf=4.6904\tshared strains=1\tMF=-1\n",
      "NPClassScore: (1.0, 'as_classes', 'npc_pathway', 'cyanobactin', 'Amino acids and Peptides')\n",
      "Precursor_mz: 529.85498\n",
      "1.(2)\tSpectrum(id=266, spectrum_id=1613, strains=1)\tmetcalf=4.6904\tshared strains=1\tMF=37\n",
      "NPClassScore: (1.0, 'as_classes', 'npc_pathway', 'cyanobactin', 'Amino acids and Peptides')\n",
      "Precursor_mz: 541.26099\n",
      "1.(2)\tSpectrum(id=277, spectrum_id=1640, strains=1)\tmetcalf=4.6904\tshared strains=1\tMF=37\n",
      "NPClassScore: (1.0, 'as_classes', 'npc_pathway', 'cyanobactin', 'Amino acids and Peptides')\n",
      "Precursor_mz: 548.27002\n",
      "1.(2)\tSpectrum(id=387, spectrum_id=1980, strains=1)\tmetcalf=4.6904\tshared strains=1\tMF=6\n",
      "NPClassScore: (1.0, 'as_classes', 'npc_pathway', 'cyanobactin', 'Amino acids and Peptides')\n",
      "Precursor_mz: 603.354\n",
      "1.(2)\tSpectrum(id=432, spectrum_id=2122, strains=1)\tmetcalf=4.6904\tshared strains=1\tMF=92\n",
      "NPClassScore: (1.0, 'as_classes', 'npc_pathway', 'cyanobactin', 'Amino acids and Peptides')\n",
      "Precursor_mz: 634.289\n",
      "1.(2)\tSpectrum(id=439, spectrum_id=2137, strains=1)\tmetcalf=4.6904\tshared strains=1\tMF=92\n",
      "NPClassScore: (1.0, 'as_classes', 'npc_pathway', 'cyanobactin', 'Amino acids and Peptides')\n",
      "Precursor_mz: 643.30298\n",
      "1.(2)\tSpectrum(id=452, spectrum_id=2185, strains=1)\tmetcalf=4.6904\tshared strains=1\tMF=-1\n",
      "NPClassScore: (1.0, 'as_classes', 'npc_pathway', 'cyanobactin', 'Amino acids and Peptides')\n",
      "Precursor_mz: 668.33197\n",
      "1.(2)\tSpectrum(id=462, spectrum_id=2211, strains=1)\tmetcalf=4.6904\tshared strains=1\tMF=-1\n",
      "NPClassScore: (1.0, 'as_classes', 'npc_pathway', 'cyanobactin', 'Amino acids and Peptides')\n",
      "Precursor_mz: 677.33398\n",
      "1.(2)\tSpectrum(id=474, spectrum_id=2256, strains=1)\tmetcalf=4.6904\tshared strains=1\tMF=-1\n",
      "NPClassScore: (1.0, 'as_classes', 'npc_pathway', 'cyanobactin', 'Amino acids and Peptides')\n",
      "Precursor_mz: 693.43701\n",
      "1.(2)\tSpectrum(id=476, spectrum_id=2270, strains=1)\tmetcalf=4.6904\tshared strains=1\tMF=13\n",
      "NPClassScore: (1.0, 'as_classes', 'npc_pathway', 'cyanobactin', 'Amino acids and Peptides')\n",
      "Precursor_mz: 697.37402\n",
      "1.(2)\tSpectrum(id=482, spectrum_id=2290, strains=1)\tmetcalf=4.6904\tshared strains=1\tMF=13\n",
      "NPClassScore: (1.0, 'as_classes', 'npc_pathway', 'cyanobactin', 'Amino acids and Peptides')\n",
      "Precursor_mz: 702.87201\n",
      "1.(2)\tSpectrum(id=483, spectrum_id=2291, strains=1)\tmetcalf=4.6904\tshared strains=1\tMF=13\n",
      "NPClassScore: (1.0, 'as_classes', 'npc_pathway', 'cyanobactin', 'Amino acids and Peptides')\n",
      "Precursor_mz: 702.87201\n",
      "1.(2)\tSpectrum(id=488, spectrum_id=2298, strains=1)\tmetcalf=4.6904\tshared strains=1\tMF=13\n",
      "NPClassScore: (1.0, 'as_classes', 'npc_pathway', 'cyanobactin', 'Amino acids and Peptides')\n",
      "Precursor_mz: 711.38\n",
      "1.(2)\tSpectrum(id=489, spectrum_id=2303, strains=1)\tmetcalf=4.6904\tshared strains=1\tMF=-1\n",
      "NPClassScore: (1.0, 'as_classes', 'npc_pathway', 'cyanobactin', 'Amino acids and Peptides')\n",
      "Precursor_mz: 722.367\n",
      "1.(2)\tSpectrum(id=491, spectrum_id=2305, strains=1)\tmetcalf=4.6904\tshared strains=1\tMF=-1\n",
      "NPClassScore: (1.0, 'as_classes', 'npc_pathway', 'cyanobactin', 'Amino acids and Peptides')\n",
      "Precursor_mz: 730.35498\n",
      "1.(2)\tSpectrum(id=539, spectrum_id=2432, strains=1)\tmetcalf=4.6904\tshared strains=1\tMF=26\n",
      "NPClassScore: (1.0, 'as_classes', 'npc_pathway', 'cyanobactin', 'Amino acids and Peptides')\n",
      "Precursor_mz: 812.50702\n",
      "1.(2)\tSpectrum(id=548, spectrum_id=2485, strains=1)\tmetcalf=4.6904\tshared strains=1\tMF=85\n",
      "NPClassScore: (1.0, 'as_classes', 'npc_pathway', 'cyanobactin', 'Amino acids and Peptides')\n",
      "Precursor_mz: 830.49902\n",
      "1.(2)\tSpectrum(id=549, spectrum_id=2486, strains=1)\tmetcalf=4.6904\tshared strains=1\tMF=85\n",
      "NPClassScore: (1.0, 'as_classes', 'npc_pathway', 'cyanobactin', 'Amino acids and Peptides')\n",
      "Precursor_mz: 831.00201\n",
      "1.(2)\tSpectrum(id=565, spectrum_id=2520, strains=1)\tmetcalf=4.6904\tshared strains=1\tMF=26\n",
      "NPClassScore: (1.0, 'as_classes', 'npc_pathway', 'cyanobactin', 'Amino acids and Peptides')\n",
      "Precursor_mz: 848.52197\n",
      "1.(2)\tSpectrum(id=578, spectrum_id=2550, strains=1)\tmetcalf=4.6904\tshared strains=1\tMF=26\n",
      "NPClassScore: (0.9, 'as_classes', 'cf_subclass', 'cyanobactin', 'Amino acids, peptides, and analogues')\n",
      "Precursor_mz: 862.50299\n",
      "1.(2)\tSpectrum(id=593, spectrum_id=2594, strains=1)\tmetcalf=4.6904\tshared strains=1\tMF=-1\n",
      "NPClassScore: (0.9, 'as_classes', 'cf_subclass', 'cyanobactin', 'Amino acids, peptides, and analogues')\n",
      "Precursor_mz: 880.63599\n",
      "1.(2)\tSpectrum(id=623, spectrum_id=2669, strains=1)\tmetcalf=4.6904\tshared strains=1\tMF=14\n",
      "NPClassScore: (0.9, 'as_classes', 'cf_subclass', 'cyanobactin', 'Amino acids, peptides, and analogues')\n",
      "Precursor_mz: 922.67102\n",
      "1.(2)\tSpectrum(id=654, spectrum_id=2727, strains=1)\tmetcalf=4.6904\tshared strains=1\tMF=14\n",
      "NPClassScore: (0.9, 'as_classes', 'cf_subclass', 'cyanobactin', 'Amino acids, peptides, and analogues')\n",
      "Precursor_mz: 990.75299\n",
      "1.(2)\tSpectrum(id=669, spectrum_id=2763, strains=1)\tmetcalf=4.6904\tshared strains=1\tMF=26\n",
      "NPClassScore: (0.9, 'as_classes', 'cf_subclass', 'cyanobactin', 'Amino acids, peptides, and analogues')\n",
      "Precursor_mz: 1045.68604\n",
      "1.(2)\tSpectrum(id=672, spectrum_id=2768, strains=1)\tmetcalf=4.6904\tshared strains=1\tMF=14\n",
      "NPClassScore: (0.9, 'as_classes', 'cf_subclass', 'cyanobactin', 'Amino acids, peptides, and analogues')\n",
      "Precursor_mz: 1058.82703\n",
      "1.(2)\tSpectrum(id=673, spectrum_id=2769, strains=1)\tmetcalf=4.6904\tshared strains=1\tMF=14\n",
      "NPClassScore: (0.9, 'as_classes', 'cf_subclass', 'cyanobactin', 'Amino acids, peptides, and analogues')\n",
      "Precursor_mz: 1058.82703\n",
      "1.(2)\tSpectrum(id=674, spectrum_id=2775, strains=1)\tmetcalf=4.6904\tshared strains=1\tMF=26\n",
      "NPClassScore: (0.9, 'as_classes', 'cf_subclass', 'cyanobactin', 'Amino acids, peptides, and analogues')\n",
      "Precursor_mz: 1063.63403\n",
      "1.(2)\tSpectrum(id=677, spectrum_id=2784, strains=1)\tmetcalf=4.6904\tshared strains=1\tMF=26\n",
      "NPClassScore: (0.9, 'as_classes', 'cf_subclass', 'cyanobactin', 'Amino acids, peptides, and analogues')\n",
      "Precursor_mz: 1081.677\n",
      "1.(2)\tSpectrum(id=678, spectrum_id=2787, strains=1)\tmetcalf=4.6904\tshared strains=1\tMF=-1\n",
      "NPClassScore: (0.7142857142857143, 'as_classes', 'cf_superclass', 'cyanobactin', 'Organic acids and derivatives')\n",
      "Precursor_mz: 1085.68604\n",
      "1.(2)\tSpectrum(id=681, spectrum_id=2793, strains=1)\tmetcalf=4.6904\tshared strains=1\tMF=26\n",
      "NPClassScore: (0.9, 'as_classes', 'cf_subclass', 'cyanobactin', 'Amino acids, peptides, and analogues')\n",
      "Precursor_mz: 1099.698\n",
      "1.(2)\tSpectrum(id=687, spectrum_id=2807, strains=1)\tmetcalf=4.6904\tshared strains=1\tMF=26\n",
      "NPClassScore: (0.9, 'as_classes', 'cf_subclass', 'cyanobactin', 'Amino acids, peptides, and analogues')\n",
      "Precursor_mz: 1113.68298\n",
      "1.(2)\tSpectrum(id=722, spectrum_id=2858, strains=1)\tmetcalf=4.6904\tshared strains=1\tMF=-1\n",
      "NPClassScore: (0.7142857142857143, 'as_classes', 'cf_superclass', 'cyanobactin', 'Organic acids and derivatives')\n",
      "Precursor_mz: 1285.74695\n",
      "--MATCH--\n",
      "1.(2)\tSpectrum(id=723, spectrum_id=2859, strains=1)\tmetcalf=4.6904\tshared strains=1\tMF=13\n",
      "NPClassScore: (0.7142857142857143, 'as_classes', 'cf_superclass', 'cyanobactin', 'Organic acids and derivatives')\n",
      "Precursor_mz: 1404.89197\n",
      "1.(2)\tSpectrum(id=725, spectrum_id=2861, strains=1)\tmetcalf=4.6904\tshared strains=1\tMF=13\n",
      "NPClassScore: (0.7142857142857143, 'as_classes', 'cf_superclass', 'cyanobactin', 'Organic acids and derivatives')\n",
      "Precursor_mz: 1421.91101\n",
      "38.(41)\tSpectrum(id=37, spectrum_id=574, strains=2)\tmetcalf=3.2404\tshared strains=1\tMF=-1\n",
      "NPClassScore: (0.6428571428571429, 'as_classes', 'cf_class', 'cyanobactin', 'Carboxylic acids and derivatives')\n",
      "Precursor_mz: 270.23199\n",
      "38.(41)\tSpectrum(id=163, spectrum_id=1071, strains=2)\tmetcalf=3.2404\tshared strains=1\tMF=-1\n",
      "NPClassScore: (1.0, 'as_classes', 'npc_pathway', 'cyanobactin', 'Amino acids and Peptides')\n",
      "Precursor_mz: 431.16599\n",
      "38.(41)\tSpectrum(id=216, spectrum_id=1338, strains=2)\tmetcalf=3.2404\tshared strains=1\tMF=-1\n",
      "NPClassScore: (1.0, 'as_classes', 'npc_pathway', 'cyanobactin', 'Amino acids and Peptides')\n",
      "Precursor_mz: 492.34\n",
      "38.(41)\tSpectrum(id=392, spectrum_id=1987, strains=2)\tmetcalf=3.2404\tshared strains=1\tMF=70\n",
      "NPClassScore: (1.0, 'as_classes', 'npc_pathway', 'cyanobactin', 'Amino acids and Peptides')\n",
      "Precursor_mz: 605.37097\n",
      "38.(41)\tSpectrum(id=393, spectrum_id=1989, strains=2)\tmetcalf=3.2404\tshared strains=1\tMF=-1\n",
      "NPClassScore: (1.0, 'as_classes', 'npc_pathway', 'cyanobactin', 'Amino acids and Peptides')\n",
      "Precursor_mz: 605.48901\n",
      "38.(41)\tSpectrum(id=433, spectrum_id=2126, strains=2)\tmetcalf=3.2404\tshared strains=1\tMF=6\n",
      "NPClassScore: (1.0, 'as_classes', 'npc_pathway', 'cyanobactin', 'Amino acids and Peptides')\n",
      "Precursor_mz: 635.38898\n",
      "38.(41)\tSpectrum(id=541, spectrum_id=2436, strains=2)\tmetcalf=3.2404\tshared strains=1\tMF=1\n",
      "NPClassScore: (1.0, 'as_classes', 'npc_pathway', 'cyanobactin', 'Amino acids and Peptides')\n",
      "Precursor_mz: 815.55798\n",
      "38.(41)\tSpectrum(id=551, spectrum_id=2492, strains=2)\tmetcalf=3.2404\tshared strains=1\tMF=1\n",
      "NPClassScore: (1.0, 'as_classes', 'npc_pathway', 'cyanobactin', 'Amino acids and Peptides')\n",
      "Precursor_mz: 832.58801\n",
      "38.(41)\tSpectrum(id=589, spectrum_id=2579, strains=2)\tmetcalf=3.2404\tshared strains=1\tMF=5\n",
      "NPClassScore: (0.9, 'as_classes', 'cf_subclass', 'cyanobactin', 'Amino acids, peptides, and analogues')\n",
      "Precursor_mz: 874.65503\n",
      "38.(41)\tSpectrum(id=692, spectrum_id=2816, strains=2)\tmetcalf=3.2404\tshared strains=1\tMF=5\n",
      "NPClassScore: (0.9, 'as_classes', 'cf_subclass', 'cyanobactin', 'Amino acids, peptides, and analogues')\n",
      "Precursor_mz: 1116.78796\n",
      "48.(62)\tSpectrum(id=238, spectrum_id=1441, strains=3)\tmetcalf=2.5820\tshared strains=1\tMF=-1\n",
      "NPClassScore: (1.0, 'as_classes', 'npc_pathway', 'cyanobactin', 'Amino acids and Peptides')\n",
      "Precursor_mz: 515.30603\n",
      "48.(62)\tSpectrum(id=359, spectrum_id=1855, strains=3)\tmetcalf=2.5820\tshared strains=1\tMF=-1\n",
      "NPClassScore: (1.0, 'as_classes', 'npc_pathway', 'cyanobactin', 'Amino acids and Peptides')\n",
      "Precursor_mz: 590.49103\n",
      "48.(62)\tSpectrum(id=360, spectrum_id=1856, strains=3)\tmetcalf=2.5820\tshared strains=1\tMF=21\n",
      "NPClassScore: (1.0, 'as_classes', 'npc_pathway', 'cyanobactin', 'Amino acids and Peptides')\n",
      "Precursor_mz: 590.49103\n"
     ]
    }
   ],
   "source": [
    "cutoff = 0.25\n",
    "result_links_both = results_both.links[result_gcf]\n",
    "result_links_mc = results.get_sorted_links(mc, result_gcf)\n",
    "count = 0\n",
    "i = 0\n",
    "show_x = 50\n",
    "include_below_cutoff = False\n",
    "prev_mc = 10**100\n",
    "i_delay = 0\n",
    "delay = 0 \n",
    "print('Results for object: {}, {} total links, {} methods used'.format(result_gcf, len(result_links_both), results.method_count))\n",
    "print(\"Rank above cutoff (original rank)\")\n",
    "for link_data in result_links_mc:\n",
    "    if isinstance(link_data.target, Spectrum):\n",
    "        link_data_both = result_links_both.get(link_data.target)\n",
    "        cur_mc = link_data[mc]\n",
    "        if cur_mc < prev_mc:\n",
    "            i += 1\n",
    "            i += i_delay\n",
    "            i_delay = 0\n",
    "        else:\n",
    "            i_delay += 1\n",
    "        \n",
    "        pref = 'x.'\n",
    "        cl_score = None\n",
    "        if link_data_both:\n",
    "            cl_score = link_data_both[npcl]\n",
    "            if cl_score:\n",
    "                if cl_score[0][0] > cutoff:\n",
    "                    if cur_mc < prev_mc:\n",
    "                        count += 1\n",
    "                        count += delay\n",
    "                        delay = 0\n",
    "                    else:\n",
    "                        delay += 1\n",
    "                    pref = f\"{count}.\"\n",
    "                    prev_mc = cur_mc\n",
    "        if include_below_cutoff or not pref == 'x.':\n",
    "            print('{}({})\\t{}\\t{}={}\\tshared strains={}\\tMF={}'.format(\n",
    "                pref,\n",
    "                i,\n",
    "                link_data.target,\n",
    "                ','.join(method.name for method in link_data.methods),\n",
    "                mc.format_data(cur_mc),\n",
    "                len(link_data.shared_strains),\n",
    "                link_data.target.family_id))\n",
    "            if cl_score:\n",
    "                print('NPClassScore:', cl_score[0])\n",
    "            comp_name = ''\n",
    "            if link_data.target.gnps_annotations:\n",
    "                comp_name = link_data.target.gnps_annotations.get(\"Compound_Name\")\n",
    "                print('Library match:', comp_name)\n",
    "            print('Precursor_mz:', link_data.target.precursor_mz)\n",
    "            if link_data.target.spectrum_id in spectrum_hits or name_hit in comp_name.lower():\n",
    "                print(\"--MATCH--\")\n",
    "                known_links_dict[name_hit]['hits'].append((count, i, result_gcf, link_data))\n",
    "    if count + delay == show_x:\n",
    "        break"
   ]
  },
  {
   "cell_type": "code",
   "execution_count": 102,
   "id": "worth-twenty",
   "metadata": {},
   "outputs": [
    {
     "name": "stdout",
     "output_type": "stream",
     "text": [
      "68 54\n"
     ]
    }
   ],
   "source": [
    "filtered_counts = 0\n",
    "metcalf_counts = 0\n",
    "for link_data in result_links_mc:\n",
    "    if isinstance(link_data.target, Spectrum):\n",
    "        metcalf_counts += 1\n",
    "        link_data_both = result_links_both.get(link_data.target)\n",
    "        if link_data_both:\n",
    "            cl_score = link_data_both[npcl]\n",
    "            if cl_score:\n",
    "                if cl_score[0][0] > cutoff:\n",
    "                    filtered_counts += 1\n",
    "                else:\n",
    "                    if count_nones:\n",
    "                        filtered_counts += 1\n",
    "\n",
    "known_links_dict[name_hit]['counts'] = (metcalf_counts, filtered_counts)\n",
    "print(metcalf_counts, filtered_counts)"
   ]
  },
  {
   "cell_type": "markdown",
   "id": "skilled-going",
   "metadata": {},
   "source": [
    "### Microcyclamide"
   ]
  },
  {
   "cell_type": "code",
   "execution_count": 104,
   "id": "sharing-marine",
   "metadata": {},
   "outputs": [
    {
     "name": "stdout",
     "output_type": "stream",
     "text": [
      "[BGC(id=182, name=NZ_CP046058.1.region009, strain=Strain(Microcystis aeruginosa NIES-298) [4 aliases], asid=NZ_CP046058.1, region=9)]\n",
      "{GCF(id=120, class=RiPPs, gcf_id=117, strains=1)} 1\n"
     ]
    }
   ],
   "source": [
    "# knownclusterblast found NZ_CP046058.1.region009 as BGC0000473 in Microcystis aeruginosa NIES-298 as indicated in MIBiG\n",
    "name_hit = 'microcyclamide'\n",
    "known_links_dict[name_hit] = {'hits': [], 'counts': None}\n",
    "spectrum_hits = [1809]  # as listed on PoDP MSV000084950\n",
    "\n",
    "result_bgcs = [bgc for bgc in npl.bgcs if bgc.name == \"NZ_CP046058.1.region009\"]\n",
    "print(result_bgcs)\n",
    "result_gcfs = set([parent for bgc in result_bgcs for parent in bgc.parents])\n",
    "print(result_gcfs, len(result_gcfs))"
   ]
  },
  {
   "cell_type": "code",
   "execution_count": 105,
   "id": "eastern-opinion",
   "metadata": {},
   "outputs": [
    {
     "data": {
      "text/plain": [
       "(GCF(id=120, class=RiPPs, gcf_id=117, strains=1),\n",
       " StrainCollection(n=1) [Microcystis aeruginosa NIES-298],\n",
       " {BGC(id=182, name=NZ_CP046058.1.region009, strain=Strain(Microcystis aeruginosa NIES-298) [4 aliases], asid=NZ_CP046058.1, region=9)})"
      ]
     },
     "execution_count": 105,
     "metadata": {},
     "output_type": "execute_result"
    }
   ],
   "source": [
    "result_gcf = [gcf for gcf in npl.gcfs if gcf.id == 120][0]\n",
    "result_gcf, result_gcf.strains, result_gcf.bgcs"
   ]
  },
  {
   "cell_type": "code",
   "execution_count": 106,
   "id": "identified-norman",
   "metadata": {
    "scrolled": true
   },
   "outputs": [
    {
     "name": "stdout",
     "output_type": "stream",
     "text": [
      "Results for object: GCF(id=120, class=RiPPs, gcf_id=117, strains=1), 31 total links, 1 methods used\n",
      "Rank above cutoff (original rank)\n",
      "1.(1)\tSpectrum(id=210, spectrum_id=1293, strains=1)\tmetcalf=4.6904\tshared strains=1\tMF=-1\n",
      "NPClassScore: (1.0, 'as_classes', 'npc_pathway', 'cyanobactin', 'Amino acids and Peptides')\n",
      "Precursor_mz: 487.104\n",
      "1.(1)\tSpectrum(id=211, spectrum_id=1294, strains=1)\tmetcalf=4.6904\tshared strains=1\tMF=3\n",
      "NPClassScore: (1.0, 'as_classes', 'npc_pathway', 'cyanobactin', 'Amino acids and Peptides')\n",
      "Precursor_mz: 487.104\n",
      "1.(1)\tSpectrum(id=265, spectrum_id=1611, strains=1)\tmetcalf=4.6904\tshared strains=1\tMF=3\n",
      "NPClassScore: (0.9, 'as_classes', 'cf_subclass', 'cyanobactin', 'Amino acids, peptides, and analogues')\n",
      "Precursor_mz: 541.12903\n",
      "1.(1)\tSpectrum(id=343, spectrum_id=1809, strains=1)\tmetcalf=4.6904\tshared strains=1\tMF=73\n",
      "NPClassScore: (1.0, 'as_classes', 'npc_pathway', 'cyanobactin', 'Amino acids and Peptides')\n",
      "Precursor_mz: 583.19501\n",
      "--MATCH--\n",
      "1.(1)\tSpectrum(id=344, spectrum_id=1810, strains=1)\tmetcalf=4.6904\tshared strains=1\tMF=73\n",
      "NPClassScore: (1.0, 'as_classes', 'npc_pathway', 'cyanobactin', 'Amino acids and Peptides')\n",
      "Precursor_mz: 583.19501\n",
      "1.(1)\tSpectrum(id=374, spectrum_id=1907, strains=1)\tmetcalf=4.6904\tshared strains=1\tMF=22\n",
      "NPClassScore: (0.9, 'as_classes', 'cf_subclass', 'cyanobactin', 'Amino acids, peptides, and analogues')\n",
      "Precursor_mz: 597.172\n",
      "1.(1)\tSpectrum(id=375, spectrum_id=1908, strains=1)\tmetcalf=4.6904\tshared strains=1\tMF=22\n",
      "NPClassScore: (1.0, 'as_classes', 'npc_pathway', 'cyanobactin', 'Amino acids and Peptides')\n",
      "Precursor_mz: 597.172\n",
      "1.(1)\tSpectrum(id=379, spectrum_id=1927, strains=1)\tmetcalf=4.6904\tshared strains=1\tMF=3\n",
      "NPClassScore: (0.9, 'as_classes', 'cf_subclass', 'cyanobactin', 'Amino acids, peptides, and analogues')\n",
      "Precursor_mz: 599.19\n",
      "1.(1)\tSpectrum(id=577, spectrum_id=2549, strains=1)\tmetcalf=4.6904\tshared strains=1\tMF=-1\n",
      "NPClassScore: (0.7142857142857143, 'as_classes', 'cf_superclass', 'cyanobactin', 'Organic acids and derivatives')\n",
      "Precursor_mz: 862.45203\n",
      "1.(1)\tSpectrum(id=591, spectrum_id=2590, strains=1)\tmetcalf=4.6904\tshared strains=1\tMF=-1\n",
      "NPClassScore: (0.7142857142857143, 'as_classes', 'cf_superclass', 'cyanobactin', 'Organic acids and derivatives')\n",
      "Precursor_mz: 878.966\n",
      "1.(1)\tSpectrum(id=662, spectrum_id=2739, strains=1)\tmetcalf=4.6904\tshared strains=1\tMF=-1\n",
      "NPClassScore: (0.9, 'as_classes', 'cf_subclass', 'cyanobactin', 'Amino acids, peptides, and analogues')\n",
      "Precursor_mz: 1008.599\n",
      "1.(1)\tSpectrum(id=683, spectrum_id=2795, strains=1)\tmetcalf=4.6904\tshared strains=1\tMF=74\n",
      "NPClassScore: (0.7142857142857143, 'as_classes', 'cf_superclass', 'cyanobactin', 'Organic acids and derivatives')\n",
      "Precursor_mz: 1101.42102\n",
      "1.(1)\tSpectrum(id=684, spectrum_id=2800, strains=1)\tmetcalf=4.6904\tshared strains=1\tMF=-1\n",
      "NPClassScore: (0.7142857142857143, 'as_classes', 'cf_superclass', 'cyanobactin', 'Organic acids and derivatives')\n",
      "Precursor_mz: 1106.42505\n",
      "14.(19)\tSpectrum(id=16, spectrum_id=342, strains=2)\tmetcalf=3.2404\tshared strains=1\tMF=-1\n",
      "NPClassScore: (1.0, 'as_classes', 'npc_pathway', 'cyanobactin', 'Amino acids and Peptides')\n",
      "Precursor_mz: 244.06599\n",
      "14.(19)\tSpectrum(id=37, spectrum_id=574, strains=2)\tmetcalf=3.2404\tshared strains=1\tMF=-1\n",
      "NPClassScore: (0.6428571428571429, 'as_classes', 'cf_class', 'cyanobactin', 'Carboxylic acids and derivatives')\n",
      "Precursor_mz: 270.23199\n",
      "14.(19)\tSpectrum(id=202, spectrum_id=1267, strains=2)\tmetcalf=3.2404\tshared strains=1\tMF=-1\n",
      "NPClassScore: (1.0, 'as_classes', 'npc_pathway', 'cyanobactin', 'Amino acids and Peptides')\n",
      "Precursor_mz: 476.345\n",
      "14.(19)\tSpectrum(id=392, spectrum_id=1987, strains=2)\tmetcalf=3.2404\tshared strains=1\tMF=70\n",
      "NPClassScore: (1.0, 'as_classes', 'npc_pathway', 'cyanobactin', 'Amino acids and Peptides')\n",
      "Precursor_mz: 605.37097\n",
      "14.(19)\tSpectrum(id=433, spectrum_id=2126, strains=2)\tmetcalf=3.2404\tshared strains=1\tMF=6\n",
      "NPClassScore: (1.0, 'as_classes', 'npc_pathway', 'cyanobactin', 'Amino acids and Peptides')\n",
      "Precursor_mz: 635.38898\n",
      "14.(19)\tSpectrum(id=692, spectrum_id=2816, strains=2)\tmetcalf=3.2404\tshared strains=1\tMF=5\n",
      "NPClassScore: (0.9, 'as_classes', 'cf_subclass', 'cyanobactin', 'Amino acids, peptides, and analogues')\n",
      "Precursor_mz: 1116.78796\n",
      "20.(31)\tSpectrum(id=340, spectrum_id=1798, strains=3)\tmetcalf=2.5820\tshared strains=1\tMF=-1\n",
      "NPClassScore: (1.0, 'as_classes', 'npc_pathway', 'cyanobactin', 'Amino acids and Peptides')\n",
      "Precursor_mz: 578.52301\n",
      "20.(31)\tSpectrum(id=457, spectrum_id=2204, strains=3)\tmetcalf=2.5820\tshared strains=1\tMF=47\n",
      "NPClassScore: (1.0, 'as_classes', 'npc_pathway', 'cyanobactin', 'Amino acids and Peptides')\n",
      "Precursor_mz: 675.284\n",
      "20.(31)\tSpectrum(id=458, spectrum_id=2205, strains=3)\tmetcalf=2.5820\tshared strains=1\tMF=47\n",
      "NPClassScore: (1.0, 'as_classes', 'npc_pathway', 'cyanobactin', 'Amino acids and Peptides')\n",
      "Precursor_mz: 675.284\n",
      "20.(31)\tSpectrum(id=557, spectrum_id=2498, strains=3)\tmetcalf=2.5820\tshared strains=1\tMF=1\n",
      "NPClassScore: (0.9, 'as_classes', 'cf_subclass', 'cyanobactin', 'Amino acids, peptides, and analogues')\n",
      "Precursor_mz: 836.61102\n"
     ]
    }
   ],
   "source": [
    "cutoff = 0.25\n",
    "result_links_both = results_both.links[result_gcf]\n",
    "result_links_mc = results.get_sorted_links(mc, result_gcf)\n",
    "count = 0\n",
    "i = 0\n",
    "show_x = 50\n",
    "include_below_cutoff = False\n",
    "prev_mc = 10**100\n",
    "i_delay = 0\n",
    "delay = 0 \n",
    "print('Results for object: {}, {} total links, {} methods used'.format(result_gcf, len(result_links_both), results.method_count))\n",
    "print(\"Rank above cutoff (original rank)\")\n",
    "for link_data in result_links_mc:\n",
    "    if isinstance(link_data.target, Spectrum):\n",
    "        link_data_both = result_links_both.get(link_data.target)\n",
    "        cur_mc = link_data[mc]\n",
    "        if cur_mc < prev_mc:\n",
    "            i += 1\n",
    "            i += i_delay\n",
    "            i_delay = 0\n",
    "        else:\n",
    "            i_delay += 1\n",
    "        \n",
    "        pref = 'x.'\n",
    "        cl_score = None\n",
    "        if link_data_both:\n",
    "            cl_score = link_data_both[npcl]\n",
    "            if cl_score:\n",
    "                if cl_score[0][0] > cutoff:\n",
    "                    if cur_mc < prev_mc:\n",
    "                        count += 1\n",
    "                        count += delay\n",
    "                        delay = 0\n",
    "                    else:\n",
    "                        delay += 1\n",
    "                    pref = f\"{count}.\"\n",
    "                    prev_mc = cur_mc\n",
    "        if include_below_cutoff or not pref == 'x.':\n",
    "            print('{}({})\\t{}\\t{}={}\\tshared strains={}\\tMF={}'.format(\n",
    "                pref,\n",
    "                i,\n",
    "                link_data.target,\n",
    "                ','.join(method.name for method in link_data.methods),\n",
    "                mc.format_data(cur_mc),\n",
    "                len(link_data.shared_strains),\n",
    "                link_data.target.family_id))\n",
    "            if cl_score:\n",
    "                print('NPClassScore:', cl_score[0])\n",
    "            comp_name = ''\n",
    "            if link_data.target.gnps_annotations:\n",
    "                comp_name = link_data.target.gnps_annotations.get(\"Compound_Name\")\n",
    "                print('Library match:', comp_name)\n",
    "            print('Precursor_mz:', link_data.target.precursor_mz)\n",
    "            if link_data.target.spectrum_id in spectrum_hits or name_hit in comp_name.lower():\n",
    "                print(\"--MATCH--\")\n",
    "                known_links_dict[name_hit]['hits'].append((count, i, result_gcf, link_data))\n",
    "    if count + delay == show_x:\n",
    "        break"
   ]
  },
  {
   "cell_type": "code",
   "execution_count": 107,
   "id": "working-rebecca",
   "metadata": {},
   "outputs": [
    {
     "name": "stdout",
     "output_type": "stream",
     "text": [
      "35 23\n"
     ]
    }
   ],
   "source": [
    "filtered_counts = 0\n",
    "metcalf_counts = 0\n",
    "for link_data in result_links_mc:\n",
    "    if isinstance(link_data.target, Spectrum):\n",
    "        metcalf_counts += 1\n",
    "        link_data_both = result_links_both.get(link_data.target)\n",
    "        if link_data_both:\n",
    "            cl_score = link_data_both[npcl]\n",
    "            if cl_score:\n",
    "                if cl_score[0][0] > cutoff:\n",
    "                    filtered_counts += 1\n",
    "                else:\n",
    "                    if count_nones:\n",
    "                        filtered_counts += 1\n",
    "\n",
    "known_links_dict[name_hit]['counts'] = (metcalf_counts, filtered_counts)\n",
    "print(metcalf_counts, filtered_counts)"
   ]
  },
  {
   "cell_type": "markdown",
   "id": "widespread-telescope",
   "metadata": {},
   "source": [
    "### Microcystins"
   ]
  },
  {
   "cell_type": "code",
   "execution_count": 224,
   "id": "geographic-active",
   "metadata": {},
   "outputs": [
    {
     "name": "stdout",
     "output_type": "stream",
     "text": [
      "[BGC(id=68, name=NC_019427.1.region004, strain=Strain(Dolichospermum sp. UHCC 0090) [5 aliases], asid=NC_019427.1, region=4)]\n",
      "{GCF(id=28, class=Others, gcf_id=153, strains=6), GCF(id=38, class=Others, gcf_id=211, strains=4), GCF(id=68, class=Others, gcf_id=32, strains=1)} 3\n"
     ]
    }
   ],
   "source": [
    "# cblaster results of BGC0001016 yields as best hit NC_019427.1.region004\n",
    "name_hit = 'microcystins'\n",
    "known_links_dict[name_hit] = {'hits': [], 'counts': None}\n",
    "spectrum_hits = [spec.spectrum_id for spec in\n",
    "                 [mf for mf in npl.molfams if mf.family_id == 23][0].spectra\n",
    "                ]  # spectra from MF 26 as listed on PoDP MSV000084950\n",
    "\n",
    "result_bgcs = [bgc for bgc in npl.bgcs if bgc.name == \"NC_019427.1.region004\"]\n",
    "print(result_bgcs)\n",
    "result_gcfs = set([parent for bgc in result_bgcs for parent in bgc.parents])\n",
    "print(result_gcfs, len(result_gcfs))"
   ]
  },
  {
   "cell_type": "code",
   "execution_count": 225,
   "id": "first-state",
   "metadata": {},
   "outputs": [
    {
     "data": {
      "text/plain": [
       "(GCF(id=38, class=Others, gcf_id=211, strains=4),\n",
       " StrainCollection(n=4) [Dolichospermum sp. UHCC 0090,Dolichospermum sp. UHCC 0315A,Dolichospermum sp. UHCC 0352,Dolichospermum sp. UHCC 0260],\n",
       " {BGC(id=68, name=NC_019427.1.region004, strain=Strain(Dolichospermum sp. UHCC 0090) [5 aliases], asid=NC_019427.1, region=4),\n",
       "  BGC(id=69, name=NZ_CP043056.1.region011, strain=Strain(Dolichospermum sp. UHCC 0315A) [4 aliases], asid=NZ_CP043056.1, region=11),\n",
       "  BGC(id=70, name=NZ_VIKY01000283.region001, strain=Strain(Dolichospermum sp. UHCC 0352) [15 aliases], asid=NZ_VIKY01000283, region=1),\n",
       "  BGC(id=71, name=NZ_VIKZ01000014.region001, strain=Strain(Dolichospermum sp. UHCC 0260) [16 aliases], asid=NZ_VIKZ01000014, region=1)})"
      ]
     },
     "execution_count": 225,
     "metadata": {},
     "output_type": "execute_result"
    }
   ],
   "source": [
    "result_gcf = [gcf for gcf in npl.gcfs if gcf.id == 38][0]\n",
    "result_gcf, result_gcf.strains, result_gcf.bgcs"
   ]
  },
  {
   "cell_type": "code",
   "execution_count": 226,
   "id": "technological-custody",
   "metadata": {
    "scrolled": true
   },
   "outputs": [
    {
     "name": "stdout",
     "output_type": "stream",
     "text": [
      "Results for object: GCF(id=38, class=Others, gcf_id=211, strains=4), 21 total links, 1 methods used\n",
      "Rank above cutoff (original rank)\n",
      "1.(1)\tSpectrum(id=140, spectrum_id=1028, strains=6)\tmetcalf=3.6225\tshared strains=4\tMF=50\n",
      "NPClassScore: (0.532563025210084, 'as_classes', 'npc_pathway', 'NRPS', 'Amino acids and Peptides')\n",
      "Precursor_mz: 419.20401\n",
      "2.(2)\tSpectrum(id=152, spectrum_id=1049, strains=4)\tmetcalf=3.2709\tshared strains=3\tMF=50\n",
      "NPClassScore: (0.532563025210084, 'as_classes', 'npc_pathway', 'NRPS', 'Amino acids and Peptides')\n",
      "Precursor_mz: 426.21301\n",
      "2.(2)\tSpectrum(id=153, spectrum_id=1050, strains=4)\tmetcalf=3.2709\tshared strains=3\tMF=50\n",
      "NPClassScore: (0.532563025210084, 'as_classes', 'npc_pathway', 'NRPS', 'Amino acids and Peptides')\n",
      "Precursor_mz: 426.21301\n",
      "2.(2)\tSpectrum(id=563, spectrum_id=2518, strains=4)\tmetcalf=3.2709\tshared strains=3\tMF=34\n",
      "NPClassScore: (0.5899705014749262, 'as_classes', 'npc_superclass', 'NRPS', 'Oligopeptides')\n",
      "Precursor_mz: 847.53101\n",
      "2.(2)\tSpectrum(id=564, spectrum_id=2519, strains=4)\tmetcalf=3.2709\tshared strains=3\tMF=34\n",
      "NPClassScore: (0.5899705014749262, 'as_classes', 'npc_superclass', 'NRPS', 'Oligopeptides')\n",
      "Precursor_mz: 847.53101\n",
      "6.(6)\tSpectrum(id=126, spectrum_id=1001, strains=7)\tmetcalf=3.2537\tshared strains=4\tMF=4\n",
      "NPClassScore: (0.6419354838709678, 'as_classes', 'cf_superclass', 'NRPS', 'Organic acids and derivatives')\n",
      "Precursor_mz: 405.65799\n",
      "6.(6)\tSpectrum(id=127, spectrum_id=1002, strains=7)\tmetcalf=3.2537\tshared strains=4\tMF=4\n",
      "NPClassScore: (0.6419354838709678, 'as_classes', 'cf_superclass', 'NRPS', 'Organic acids and derivatives')\n",
      "Precursor_mz: 405.65799\n",
      "6.(6)\tSpectrum(id=311, spectrum_id=1731, strains=7)\tmetcalf=3.2537\tshared strains=4\tMF=36\n",
      "NPClassScore: (0.6419354838709678, 'as_classes', 'cf_superclass', 'NRPS', 'Organic acids and derivatives')\n",
      "Precursor_mz: 566.83398\n",
      "6.(6)\tSpectrum(id=570, spectrum_id=2531, strains=7)\tmetcalf=3.2537\tshared strains=4\tMF=5\n",
      "NPClassScore: (0.6419354838709678, 'as_classes', 'cf_superclass', 'NRPS', 'Organic acids and derivatives')\n",
      "Precursor_mz: 854.41998\n",
      "6.(6)\tSpectrum(id=697, spectrum_id=2823, strains=7)\tmetcalf=3.2537\tshared strains=4\tMF=5\n",
      "NPClassScore: (0.6419354838709678, 'as_classes', 'cf_superclass', 'NRPS', 'Organic acids and derivatives')\n",
      "Precursor_mz: 1130.77795\n",
      "11.(13)\tSpectrum(id=227, spectrum_id=1376, strains=2)\tmetcalf=3.1547\tshared strains=2\tMF=-1\n",
      "NPClassScore: (0.5899705014749262, 'as_classes', 'npc_superclass', 'NRPS', 'Oligopeptides')\n",
      "Precursor_mz: 507.242\n",
      "11.(13)\tSpectrum(id=445, spectrum_id=2162, strains=2)\tmetcalf=3.1547\tshared strains=2\tMF=-1\n",
      "NPClassScore: (0.532563025210084, 'as_classes', 'npc_pathway', 'NRPS', 'Amino acids and Peptides')\n",
      "Precursor_mz: 651.84601\n",
      "11.(13)\tSpectrum(id=569, spectrum_id=2530, strains=2)\tmetcalf=3.1547\tshared strains=2\tMF=5\n",
      "NPClassScore: (0.6419354838709678, 'as_classes', 'cf_superclass', 'NRPS', 'Organic acids and derivatives')\n",
      "Precursor_mz: 854.41998\n",
      "11.(13)\tSpectrum(id=668, spectrum_id=2762, strains=2)\tmetcalf=3.1547\tshared strains=2\tMF=23\n",
      "NPClassScore: (0.6419354838709678, 'as_classes', 'cf_superclass', 'NRPS', 'Organic acids and derivatives')\n",
      "Precursor_mz: 1045.65796\n",
      "--MATCH--\n",
      "15.(21)\tSpectrum(id=123, spectrum_id=990, strains=5)\tmetcalf=2.7789\tshared strains=3\tMF=-1\n",
      "NPClassScore: (0.532563025210084, 'as_classes', 'npc_pathway', 'NRPS', 'Amino acids and Peptides')\n",
      "Precursor_mz: 405.20099\n",
      "15.(21)\tSpectrum(id=558, spectrum_id=2499, strains=5)\tmetcalf=2.7789\tshared strains=3\tMF=50\n",
      "NPClassScore: (0.5899705014749262, 'as_classes', 'npc_superclass', 'NRPS', 'Oligopeptides')\n",
      "Precursor_mz: 837.521\n",
      "15.(21)\tSpectrum(id=562, spectrum_id=2513, strains=5)\tmetcalf=2.7789\tshared strains=3\tMF=54\n",
      "NPClassScore: (0.5899705014749262, 'as_classes', 'npc_superclass', 'NRPS', 'Oligopeptides')\n",
      "Precursor_mz: 844.48798\n",
      "15.(21)\tSpectrum(id=651, spectrum_id=2724, strains=5)\tmetcalf=2.7789\tshared strains=3\tMF=23\n",
      "NPClassScore: (0.6419354838709678, 'as_classes', 'cf_superclass', 'NRPS', 'Organic acids and derivatives')\n",
      "Precursor_mz: 981.63599\n",
      "--MATCH--\n",
      "19.(27)\tSpectrum(id=698, spectrum_id=2824, strains=9)\tmetcalf=2.6842\tshared strains=4\tMF=5\n",
      "NPClassScore: (0.6419354838709678, 'as_classes', 'cf_superclass', 'NRPS', 'Organic acids and derivatives')\n",
      "Precursor_mz: 1132.79004\n"
     ]
    }
   ],
   "source": [
    "cutoff = 0.25\n",
    "result_links_both = results_both.links[result_gcf]\n",
    "result_links_mc = results.get_sorted_links(mc, result_gcf)\n",
    "count = 0\n",
    "i = 0\n",
    "show_x = 50\n",
    "include_below_cutoff = False\n",
    "prev_mc = 10**100\n",
    "i_delay = 0\n",
    "delay = 0 \n",
    "print('Results for object: {}, {} total links, {} methods used'.format(result_gcf, len(result_links_both), results.method_count))\n",
    "print(\"Rank above cutoff (original rank)\")\n",
    "for link_data in result_links_mc:\n",
    "    if isinstance(link_data.target, Spectrum):\n",
    "        link_data_both = result_links_both.get(link_data.target)\n",
    "        cur_mc = link_data[mc]\n",
    "        if cur_mc < prev_mc:\n",
    "            i += 1\n",
    "            i += i_delay\n",
    "            i_delay = 0\n",
    "        else:\n",
    "            i_delay += 1\n",
    "        \n",
    "        pref = 'x.'\n",
    "        cl_score = None\n",
    "        if link_data_both:\n",
    "            cl_score = link_data_both[npcl]\n",
    "            if cl_score:\n",
    "                if cl_score[0][0] > cutoff:\n",
    "                    if cur_mc < prev_mc:\n",
    "                        count += 1\n",
    "                        count += delay\n",
    "                        delay = 0\n",
    "                    else:\n",
    "                        delay += 1\n",
    "                    pref = f\"{count}.\"\n",
    "                    prev_mc = cur_mc\n",
    "        if include_below_cutoff or not pref == 'x.':\n",
    "            print('{}({})\\t{}\\t{}={}\\tshared strains={}\\tMF={}'.format(\n",
    "                pref,\n",
    "                i,\n",
    "                link_data.target,\n",
    "                ','.join(method.name for method in link_data.methods),\n",
    "                mc.format_data(cur_mc),\n",
    "                len(link_data.shared_strains),\n",
    "                link_data.target.family_id))\n",
    "            if cl_score:\n",
    "                print('NPClassScore:', cl_score[0])\n",
    "            comp_name = ''\n",
    "            if link_data.target.gnps_annotations:\n",
    "                comp_name = link_data.target.gnps_annotations.get(\"Compound_Name\")\n",
    "                print('Library match:', comp_name)\n",
    "            print('Precursor_mz:', link_data.target.precursor_mz)\n",
    "            if link_data.target.spectrum_id in spectrum_hits or name_hit in comp_name.lower():\n",
    "                print(\"--MATCH--\")\n",
    "                known_links_dict[name_hit]['hits'].append((count, i, result_gcf, link_data))\n",
    "    if count + delay == show_x:\n",
    "        break"
   ]
  },
  {
   "cell_type": "code",
   "execution_count": 227,
   "id": "senior-rebate",
   "metadata": {},
   "outputs": [
    {
     "name": "stdout",
     "output_type": "stream",
     "text": [
      "27 19\n"
     ]
    }
   ],
   "source": [
    "filtered_counts = 0\n",
    "metcalf_counts = 0\n",
    "for link_data in result_links_mc:\n",
    "    if isinstance(link_data.target, Spectrum):\n",
    "        metcalf_counts += 1\n",
    "        link_data_both = result_links_both.get(link_data.target)\n",
    "        if link_data_both:\n",
    "            cl_score = link_data_both[npcl]\n",
    "            if cl_score:\n",
    "                if cl_score[0][0] > cutoff:\n",
    "                    filtered_counts += 1\n",
    "                else:\n",
    "                    if count_nones:\n",
    "                        filtered_counts += 1\n",
    "\n",
    "known_links_dict[name_hit]['counts'] = (metcalf_counts, filtered_counts)\n",
    "print(metcalf_counts, filtered_counts)"
   ]
  },
  {
   "cell_type": "markdown",
   "id": "legendary-variable",
   "metadata": {},
   "source": [
    "### Microcystin RR"
   ]
  },
  {
   "cell_type": "code",
   "execution_count": 228,
   "id": "temporal-excitement",
   "metadata": {},
   "outputs": [
    {
     "name": "stdout",
     "output_type": "stream",
     "text": [
      "[BGC(id=30, name=NC_010296.1.region009, strain=Strain(Microcystis aeruginosa NIES-843) [4 aliases], asid=NC_010296.1, region=9)]\n",
      "{GCF(id=23, class=PKS-NRP_Hybrids, gcf_id=124, strains=4)} 1\n"
     ]
    }
   ],
   "source": [
    "# should be present in Microcystis aeruginosa NIES-843 according to PoDP - cblaster hits BGC0001017 to NC_010296.1.region009\n",
    "name_hit = 'microcystin-rr'\n",
    "known_links_dict[name_hit] = {'hits': [], 'counts': None}\n",
    "spectrum_hits = [2758]  # as listed on PoDP MSV000084950\n",
    "\n",
    "result_bgcs = [bgc for bgc in npl.bgcs if bgc.name == \"NC_010296.1.region009\"]\n",
    "print(result_bgcs)\n",
    "result_gcfs = set([parent for bgc in result_bgcs for parent in bgc.parents])\n",
    "print(result_gcfs, len(result_gcfs))"
   ]
  },
  {
   "cell_type": "code",
   "execution_count": 229,
   "id": "laden-corporation",
   "metadata": {},
   "outputs": [
    {
     "data": {
      "text/plain": [
       "(Spectrum(id=667, spectrum_id=2758, strains=3),\n",
       " StrainCollection(n=3) [Microcystis viridis NIES-102,Microcystis aeruginosa NIES-88,Dolichospermum sp. UHCC 0352],\n",
       " None,\n",
       " [('Organic compounds', 1.0),\n",
       "  ('Organic acids and derivatives', 1.0),\n",
       "  ('Carboxylic acids and derivatives', 1.0),\n",
       "  ('Amino acids, peptides, and analogues', 1.0),\n",
       "  ('Oligopeptides', 1.0),\n",
       "  ('Aromatic heteropolycyclic compounds', 1.0)])"
      ]
     },
     "execution_count": 229,
     "metadata": {},
     "output_type": "execute_result"
    }
   ],
   "source": [
    "# the spectrum as listed on PoDP does have predicted classes from mne\n",
    "spec = [spec for spec in npl.spectra if spec.spectrum_id in spectrum_hits][0]\n",
    "spec_id = str(spec.spectrum_id)\n",
    "spec, spec.strains, npl.chem_classes.canopus.spectra_classes.get(spec_id), npl.chem_classes.molnetenhancer.spectra_classes(spec_id)"
   ]
  },
  {
   "cell_type": "code",
   "execution_count": 231,
   "id": "comparative-arbor",
   "metadata": {},
   "outputs": [
    {
     "data": {
      "text/plain": [
       "(GCF(id=23, class=PKS-NRP_Hybrids, gcf_id=124, strains=4),\n",
       " StrainCollection(n=4) [Microcystis aeruginosa NIES-843,Microcystis viridis NIES-102,Microcystis aeruginosa NIES-298,Microcystis aeruginosa NIES-88],\n",
       " {BGC(id=30, name=NC_010296.1.region009, strain=Strain(Microcystis aeruginosa NIES-843) [4 aliases], asid=NC_010296.1, region=9),\n",
       "  BGC(id=31, name=NZ_AP019314.1.region004, strain=Strain(Microcystis viridis NIES-102) [4 aliases], asid=NZ_AP019314.1, region=4),\n",
       "  BGC(id=32, name=NZ_CP046058.1.region006, strain=Strain(Microcystis aeruginosa NIES-298) [4 aliases], asid=NZ_CP046058.1, region=6),\n",
       "  BGC(id=33, name=NZ_JXYX01000004.region001, strain=Strain(Microcystis aeruginosa NIES-88) [12 aliases], asid=NZ_JXYX01000004, region=1)})"
      ]
     },
     "execution_count": 231,
     "metadata": {},
     "output_type": "execute_result"
    }
   ],
   "source": [
    "result_gcf = [gcf for gcf in npl.gcfs if gcf.id == 23][0]\n",
    "result_gcf, result_gcf.strains, result_gcf.bgcs"
   ]
  },
  {
   "cell_type": "code",
   "execution_count": 232,
   "id": "hawaiian-easter",
   "metadata": {
    "scrolled": true
   },
   "outputs": [
    {
     "name": "stdout",
     "output_type": "stream",
     "text": [
      "Results for object: GCF(id=23, class=PKS-NRP_Hybrids, gcf_id=124, strains=4), 32 total links, 1 methods used\n",
      "Rank above cutoff (original rank)\n",
      "1.(1)\tSpectrum(id=201, spectrum_id=1266, strains=4)\tmetcalf=4.6904\tshared strains=4\tMF=-1\n",
      "NPClassScore: (0.532563025210084, 'as_classes', 'npc_pathway', 'NRPS', 'Amino acids and Peptides')\n",
      "Precursor_mz: 476.345\n",
      "2.(6)\tSpectrum(id=552, spectrum_id=2493, strains=5)\tmetcalf=4.0833\tshared strains=4\tMF=1\n",
      "NPClassScore: (0.3718861209964413, 'as_classes', 'cf_subclass', 'NRPS', 'Amino acids, peptides, and analogues')\n",
      "Precursor_mz: 834.599\n",
      "3.(9)\tSpectrum(id=457, spectrum_id=2204, strains=3)\tmetcalf=3.9592\tshared strains=3\tMF=47\n",
      "NPClassScore: (0.5899705014749262, 'as_classes', 'npc_superclass', 'NRPS', 'Oligopeptides')\n",
      "Precursor_mz: 675.284\n",
      "3.(9)\tSpectrum(id=458, spectrum_id=2205, strains=3)\tmetcalf=3.9592\tshared strains=3\tMF=47\n",
      "NPClassScore: (0.532563025210084, 'as_classes', 'npc_pathway', 'NRPS', 'Amino acids and Peptides')\n",
      "Precursor_mz: 675.284\n",
      "3.(9)\tSpectrum(id=557, spectrum_id=2498, strains=3)\tmetcalf=3.9592\tshared strains=3\tMF=1\n",
      "NPClassScore: (0.3718861209964413, 'as_classes', 'cf_subclass', 'NRPS', 'Amino acids, peptides, and analogues')\n",
      "Precursor_mz: 836.61102\n",
      "3.(9)\tSpectrum(id=682, spectrum_id=2794, strains=3)\tmetcalf=3.9592\tshared strains=3\tMF=74\n",
      "NPClassScore: (0.6419354838709678, 'as_classes', 'cf_superclass', 'NRPS', 'Organic acids and derivatives')\n",
      "Precursor_mz: 1101.10303\n",
      "7.(14)\tSpectrum(id=576, spectrum_id=2548, strains=6)\tmetcalf=3.6225\tshared strains=4\tMF=34\n",
      "NPClassScore: (0.6419354838709678, 'as_classes', 'cf_superclass', 'NRPS', 'Organic acids and derivatives')\n",
      "Precursor_mz: 861.54999\n",
      "7.(14)\tSpectrum(id=657, spectrum_id=2730, strains=6)\tmetcalf=3.6225\tshared strains=4\tMF=23\n",
      "NPClassScore: (0.6419354838709678, 'as_classes', 'cf_superclass', 'NRPS', 'Organic acids and derivatives')\n",
      "Library match: Massbank:EA299209 Microcystin-LR|(5R,8R,11R,12S,15S,18S,19S,22R)-15-{3-[(Diaminomethylene)amino]propyl}-8-isobutyl-18-[(1E,3E,5S,6S)-6-methoxy-3,5-dimethyl-7-phenyl-1,3-heptadien-1-yl]-1,5,12,19-tetramethyl-2-methylene\n",
      "Precursor_mz: 995.65601\n",
      "9.(18)\tSpectrum(id=691, spectrum_id=2815, strains=7)\tmetcalf=3.2537\tshared strains=4\tMF=5\n",
      "NPClassScore: (0.6419354838709678, 'as_classes', 'cf_superclass', 'NRPS', 'Organic acids and derivatives')\n",
      "Precursor_mz: 1116.78796\n",
      "10.(20)\tSpectrum(id=37, spectrum_id=574, strains=2)\tmetcalf=3.1547\tshared strains=2\tMF=-1\n",
      "NPClassScore: (0.3403225806451613, 'as_classes', 'cf_class', 'NRPS', 'Carboxylic acids and derivatives')\n",
      "Precursor_mz: 270.23199\n",
      "10.(20)\tSpectrum(id=202, spectrum_id=1267, strains=2)\tmetcalf=3.1547\tshared strains=2\tMF=-1\n",
      "NPClassScore: (0.532563025210084, 'as_classes', 'npc_pathway', 'NRPS', 'Amino acids and Peptides')\n",
      "Precursor_mz: 476.345\n",
      "10.(20)\tSpectrum(id=216, spectrum_id=1338, strains=2)\tmetcalf=3.1547\tshared strains=2\tMF=-1\n",
      "NPClassScore: (0.532563025210084, 'as_classes', 'npc_pathway', 'NRPS', 'Amino acids and Peptides')\n",
      "Precursor_mz: 492.34\n",
      "10.(20)\tSpectrum(id=392, spectrum_id=1987, strains=2)\tmetcalf=3.1547\tshared strains=2\tMF=70\n",
      "NPClassScore: (0.532563025210084, 'as_classes', 'npc_pathway', 'NRPS', 'Amino acids and Peptides')\n",
      "Precursor_mz: 605.37097\n",
      "10.(20)\tSpectrum(id=433, spectrum_id=2126, strains=2)\tmetcalf=3.1547\tshared strains=2\tMF=6\n",
      "NPClassScore: (0.5899705014749262, 'as_classes', 'npc_superclass', 'NRPS', 'Oligopeptides')\n",
      "Precursor_mz: 635.38898\n",
      "10.(20)\tSpectrum(id=448, spectrum_id=2167, strains=2)\tmetcalf=3.1547\tshared strains=2\tMF=6\n",
      "NPClassScore: (0.5899705014749262, 'as_classes', 'npc_superclass', 'NRPS', 'Oligopeptides')\n",
      "Precursor_mz: 653.34003\n",
      "10.(20)\tSpectrum(id=475, spectrum_id=2268, strains=2)\tmetcalf=3.1547\tshared strains=2\tMF=39\n",
      "NPClassScore: (0.5569917743830788, 'as_classes', 'npc_pathway', 'T1PKS', 'Polyketides')\n",
      "Precursor_mz: 697.362\n",
      "10.(20)\tSpectrum(id=541, spectrum_id=2436, strains=2)\tmetcalf=3.1547\tshared strains=2\tMF=1\n",
      "NPClassScore: (0.5899705014749262, 'as_classes', 'npc_superclass', 'NRPS', 'Oligopeptides')\n",
      "Precursor_mz: 815.55798\n",
      "10.(20)\tSpectrum(id=551, spectrum_id=2492, strains=2)\tmetcalf=3.1547\tshared strains=2\tMF=1\n",
      "NPClassScore: (0.5899705014749262, 'as_classes', 'npc_superclass', 'NRPS', 'Oligopeptides')\n",
      "Precursor_mz: 832.58801\n",
      "10.(20)\tSpectrum(id=555, spectrum_id=2496, strains=2)\tmetcalf=3.1547\tshared strains=2\tMF=61\n",
      "NPClassScore: (0.5569917743830788, 'as_classes', 'npc_pathway', 'T1PKS', 'Polyketides')\n",
      "Precursor_mz: 836.40302\n",
      "10.(20)\tSpectrum(id=556, spectrum_id=2497, strains=2)\tmetcalf=3.1547\tshared strains=2\tMF=1\n",
      "NPClassScore: (0.5899705014749262, 'as_classes', 'npc_superclass', 'NRPS', 'Oligopeptides')\n",
      "Precursor_mz: 836.61102\n",
      "10.(20)\tSpectrum(id=692, spectrum_id=2816, strains=2)\tmetcalf=3.1547\tshared strains=2\tMF=5\n",
      "NPClassScore: (0.6419354838709678, 'as_classes', 'cf_superclass', 'NRPS', 'Organic acids and derivatives')\n",
      "Precursor_mz: 1116.78796\n",
      "22.(43)\tSpectrum(id=243, spectrum_id=1467, strains=5)\tmetcalf=2.7789\tshared strains=3\tMF=-1\n",
      "NPClassScore: (0.532563025210084, 'as_classes', 'npc_pathway', 'NRPS', 'Amino acids and Peptides')\n",
      "Precursor_mz: 519.78101\n",
      "22.(43)\tSpectrum(id=262, spectrum_id=1592, strains=5)\tmetcalf=2.7789\tshared strains=3\tMF=30\n",
      "NPClassScore: (0.5899705014749262, 'as_classes', 'npc_superclass', 'NRPS', 'Oligopeptides')\n",
      "Precursor_mz: 539.28198\n",
      "22.(43)\tSpectrum(id=263, spectrum_id=1593, strains=5)\tmetcalf=2.7789\tshared strains=3\tMF=30\n",
      "NPClassScore: (0.3718861209964413, 'as_classes', 'cf_subclass', 'NRPS', 'Amino acids, peptides, and analogues')\n",
      "Precursor_mz: 539.28198\n",
      "22.(43)\tSpectrum(id=559, spectrum_id=2501, strains=5)\tmetcalf=2.7789\tshared strains=3\tMF=5\n",
      "NPClassScore: (0.5569917743830788, 'as_classes', 'npc_pathway', 'T1PKS', 'Polyketides')\n",
      "Precursor_mz: 838.41803\n",
      "26.(48)\tSpectrum(id=143, spectrum_id=1034, strains=9)\tmetcalf=2.6842\tshared strains=4\tMF=4\n",
      "NPClassScore: (0.6419354838709678, 'as_classes', 'cf_superclass', 'NRPS', 'Organic acids and derivatives')\n",
      "Precursor_mz: 419.65302\n",
      "26.(48)\tSpectrum(id=144, spectrum_id=1035, strains=9)\tmetcalf=2.6842\tshared strains=4\tMF=4\n",
      "NPClassScore: (0.6419354838709678, 'as_classes', 'cf_superclass', 'NRPS', 'Organic acids and derivatives')\n",
      "Precursor_mz: 419.65201\n"
     ]
    }
   ],
   "source": [
    "cutoff = 0.25\n",
    "result_links_both = results_both.links[result_gcf]\n",
    "result_links_mc = results.get_sorted_links(mc, result_gcf)\n",
    "count = 0\n",
    "i = 0\n",
    "show_x = 50\n",
    "include_below_cutoff = False\n",
    "prev_mc = 10**100\n",
    "i_delay = 0\n",
    "delay = 0 \n",
    "print('Results for object: {}, {} total links, {} methods used'.format(result_gcf, len(result_links_both), results.method_count))\n",
    "print(\"Rank above cutoff (original rank)\")\n",
    "for link_data in result_links_mc:\n",
    "    if isinstance(link_data.target, Spectrum):\n",
    "        link_data_both = result_links_both.get(link_data.target)\n",
    "        cur_mc = link_data[mc]\n",
    "        if cur_mc < prev_mc:\n",
    "            i += 1\n",
    "            i += i_delay\n",
    "            i_delay = 0\n",
    "        else:\n",
    "            i_delay += 1\n",
    "        \n",
    "        pref = 'x.'\n",
    "        cl_score = None\n",
    "        if link_data_both:\n",
    "            cl_score = link_data_both[npcl]\n",
    "            if cl_score:\n",
    "                if cl_score[0][0] > cutoff:\n",
    "                    if cur_mc < prev_mc:\n",
    "                        count += 1\n",
    "                        count += delay\n",
    "                        delay = 0\n",
    "                    else:\n",
    "                        delay += 1\n",
    "                    pref = f\"{count}.\"\n",
    "                    prev_mc = cur_mc\n",
    "        if include_below_cutoff or not pref == 'x.':\n",
    "            print('{}({})\\t{}\\t{}={}\\tshared strains={}\\tMF={}'.format(\n",
    "                pref,\n",
    "                i,\n",
    "                link_data.target,\n",
    "                ','.join(method.name for method in link_data.methods),\n",
    "                mc.format_data(cur_mc),\n",
    "                len(link_data.shared_strains),\n",
    "                link_data.target.family_id))\n",
    "            if cl_score:\n",
    "                print('NPClassScore:', cl_score[0])\n",
    "            comp_name = ''\n",
    "            if link_data.target.gnps_annotations:\n",
    "                comp_name = link_data.target.gnps_annotations.get(\"Compound_Name\")\n",
    "                print('Library match:', comp_name)\n",
    "            print('Precursor_mz:', link_data.target.precursor_mz)\n",
    "            if link_data.target.spectrum_id in spectrum_hits or name_hit in comp_name.lower():\n",
    "                print(\"--MATCH--\")\n",
    "                known_links_dict[name_hit]['hits'].append((count, i, result_gcf, link_data))\n",
    "    if count + delay == show_x:\n",
    "        break"
   ]
  },
  {
   "cell_type": "code",
   "execution_count": 233,
   "id": "dense-indiana",
   "metadata": {},
   "outputs": [
    {
     "name": "stdout",
     "output_type": "stream",
     "text": [
      "50 27\n"
     ]
    }
   ],
   "source": [
    "filtered_counts = 0\n",
    "metcalf_counts = 0\n",
    "for link_data in result_links_mc:\n",
    "    if isinstance(link_data.target, Spectrum):\n",
    "        metcalf_counts += 1\n",
    "        link_data_both = result_links_both.get(link_data.target)\n",
    "        if link_data_both:\n",
    "            cl_score = link_data_both[npcl]\n",
    "            if cl_score:\n",
    "                if cl_score[0][0] > cutoff:\n",
    "                    filtered_counts += 1\n",
    "                else:\n",
    "                    if count_nones:\n",
    "                        filtered_counts += 1\n",
    "\n",
    "known_links_dict[name_hit]['counts'] = (metcalf_counts, filtered_counts)\n",
    "print(metcalf_counts, filtered_counts)"
   ]
  },
  {
   "cell_type": "code",
   "execution_count": 234,
   "id": "silent-drawing",
   "metadata": {
    "scrolled": false
   },
   "outputs": [
    {
     "name": "stdout",
     "output_type": "stream",
     "text": [
      "--- ObjectLink(source=GCF(id=23, class=PKS-NRP_Hybrids, gcf_id=124, strains=4), target=Spectrum(id=667, spectrum_id=2758, strains=3), #methods=1)\n",
      "[(0.6419354838709678, 'as_classes', 'cf_superclass', 'NRPS', 'Organic acids and derivatives')]\n"
     ]
    }
   ],
   "source": [
    "# check if missing link does have npcl score\n",
    "result_links_npcl = results_npcl.get_sorted_links(npcl_only, result_gcf)\n",
    "for link_data in result_links_npcl:\n",
    "    if isinstance(link_data.target, Spectrum):\n",
    "#         print(link_data.target.spectrum_id)\n",
    "        if link_data.target.spectrum_id in spectrum_hits:\n",
    "            print('---',link_data)\n",
    "            print(link_data[npcl_only])"
   ]
  },
  {
   "cell_type": "code",
   "execution_count": 236,
   "id": "defined-article",
   "metadata": {},
   "outputs": [],
   "source": [
    "# does get found by NPClassScore above threshold but not by metcalf\n",
    "known_links_dict[name_hit]['not_found'] = 'not in metcalf'"
   ]
  },
  {
   "cell_type": "markdown",
   "id": "celtic-rachel",
   "metadata": {},
   "source": [
    "### Summarise"
   ]
  },
  {
   "cell_type": "code",
   "execution_count": 237,
   "id": "controversial-prince",
   "metadata": {},
   "outputs": [
    {
     "name": "stdout",
     "output_type": "stream",
     "text": [
      "anabaenopeptin {'hits': [(2, 3, GCF(id=28, class=Others, gcf_id=153, strains=6), ObjectLink(source=GCF(id=28, class=Others, gcf_id=153, strains=6), target=Spectrum(id=562, spectrum_id=2513, strains=5), #methods=1)), (5, 9, GCF(id=28, class=Others, gcf_id=153, strains=6), ObjectLink(source=GCF(id=28, class=Others, gcf_id=153, strains=6), target=Spectrum(id=538, spectrum_id=2429, strains=4), #methods=1)), (16, 28, GCF(id=28, class=Others, gcf_id=153, strains=6), ObjectLink(source=GCF(id=28, class=Others, gcf_id=153, strains=6), target=Spectrum(id=561, spectrum_id=2512, strains=3), #methods=1))], 'counts': (33, 21)}\n",
      "\n",
      "micropeptin {'hits': [], 'counts': (50, 31), 'not_found': 'not in metcalf'}\n",
      "\n",
      "kawaguchipeptin {'hits': [(1, 2, GCF(id=125, class=RiPPs, gcf_id=129, strains=1), ObjectLink(source=GCF(id=125, class=RiPPs, gcf_id=129, strains=1), target=Spectrum(id=722, spectrum_id=2858, strains=1), #methods=1))], 'counts': (68, 54)}\n",
      "\n",
      "microcyclamide {'hits': [(1, 1, GCF(id=120, class=RiPPs, gcf_id=117, strains=1), ObjectLink(source=GCF(id=120, class=RiPPs, gcf_id=117, strains=1), target=Spectrum(id=343, spectrum_id=1809, strains=1), #methods=1))], 'counts': (35, 23)}\n",
      "\n",
      "microcystins {'hits': [(11, 13, GCF(id=38, class=Others, gcf_id=211, strains=4), ObjectLink(source=GCF(id=38, class=Others, gcf_id=211, strains=4), target=Spectrum(id=668, spectrum_id=2762, strains=2), #methods=1)), (15, 21, GCF(id=38, class=Others, gcf_id=211, strains=4), ObjectLink(source=GCF(id=38, class=Others, gcf_id=211, strains=4), target=Spectrum(id=651, spectrum_id=2724, strains=5), #methods=1))], 'counts': (27, 19)}\n",
      "\n",
      "microcystin-rr {'hits': [], 'counts': (50, 27), 'not_found': 'not in metcalf'}\n",
      "\n"
     ]
    }
   ],
   "source": [
    "for k,v in known_links_dict.items():\n",
    "    print(k,v)\n",
    "    print()"
   ]
  },
  {
   "cell_type": "code",
   "execution_count": 239,
   "id": "numerous-bicycle",
   "metadata": {},
   "outputs": [
    {
     "data": {
      "text/plain": [
       "{'anabaenopeptin': {'hits': [[2, 3], [5, 9], [16, 28]], 'counts': (33, 21)},\n",
       " 'micropeptin': {'hits': [],\n",
       "  'counts': (50, 31),\n",
       "  'not_found': 'not in metcalf'},\n",
       " 'kawaguchipeptin': {'hits': [[1, 2]], 'counts': (68, 54)},\n",
       " 'microcyclamide': {'hits': [[1, 1]], 'counts': (35, 23)},\n",
       " 'microcystins': {'hits': [[11, 13], [15, 21]], 'counts': (27, 19)},\n",
       " 'microcystin-rr': {'hits': [],\n",
       "  'counts': (50, 27),\n",
       "  'not_found': 'not in metcalf'}}"
      ]
     },
     "execution_count": 239,
     "metadata": {},
     "output_type": "execute_result"
    }
   ],
   "source": [
    "pickle_known_links_dict = {}\n",
    "for k,v in known_links_dict.items():\n",
    "    new_known_links = {}\n",
    "    hit_list = v['hits']\n",
    "    new_hit_list = [([hit[0], hit[1]]) for hit in hit_list]\n",
    "    new_known_links['hits'] = new_hit_list\n",
    "    new_known_links['counts'] = v['counts']\n",
    "    if v.get('not_found'):\n",
    "        new_known_links['not_found'] = v['not_found']\n",
    "    pickle_known_links_dict[k] = new_known_links\n",
    "pickle_known_links_dict"
   ]
  },
  {
   "cell_type": "code",
   "execution_count": 240,
   "id": "acquired-architect",
   "metadata": {},
   "outputs": [],
   "source": [
    "known_links_out = '/home/louwe015/NPLinker/known_links_dict_MSV000084950.pickle'\n",
    "pickle.dump(pickle_known_links_dict, open(known_links_out, 'wb'))"
   ]
  }
 ],
 "metadata": {
  "kernelspec": {
   "display_name": "Python 3.9.13 ('nplinker-dev')",
   "language": "python",
   "name": "python3"
  },
  "language_info": {
   "codemirror_mode": {
    "name": "ipython",
    "version": 3
   },
   "file_extension": ".py",
   "mimetype": "text/x-python",
   "name": "python",
   "nbconvert_exporter": "python",
   "pygments_lexer": "ipython3",
   "version": "3.9.13"
  },
  "vscode": {
   "interpreter": {
    "hash": "feb2b738576e79d632c483b34dac6edd383ecd505e527394183ce474f0c12dc4"
   }
  }
 },
 "nbformat": 4,
 "nbformat_minor": 5
}
