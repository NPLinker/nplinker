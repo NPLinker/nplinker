{
 "cells": [
  {
   "cell_type": "markdown",
   "id": "defensive-thread",
   "metadata": {},
   "source": [
    "## Summary\n",
    "In this notebook, the paired data from MSV000084771 is analysed for the NPClassScore paper.\n",
    "\n",
    "The newly developed implementation of NPClassScore is used in combination with Metcalf scoring to discover BGC-MS/MS spectrum links in the MSV000084771 dataset. Validated links from the PoDP are used to validate the results.\n",
    "\n",
    "Sections:\n",
    "- Loading the MSV000084771 dataset\n",
    "- Scoring using the new NPClassScore method\n",
    "- Investigating NPClassScore cutoff\n",
    "- Counting number of links\n",
    "- Making plots showing the filtered links\n",
    "- Investigate known links"
   ]
  },
  {
   "cell_type": "markdown",
   "id": "reflected-photograph",
   "metadata": {},
   "source": [
    "## Loading MSV000084771 dataset"
   ]
  },
  {
   "cell_type": "code",
   "execution_count": 1,
   "id": "productive-constitution",
   "metadata": {},
   "outputs": [],
   "source": [
    "import sys, csv, os\n",
    "# if running from clone of the git repo\n",
    "sys.path.append('../../prototype')\n",
    "\n",
    "# import the main NPLinker class. normally this all that's required to work\n",
    "# with NPLinker in a notebook environment\n",
    "import numpy as np\n",
    "import pandas as pd\n",
    "import matplotlib.pyplot as plt\n",
    "from nplinker.nplinker import NPLinker\n",
    "from nplinker.nplinker import Spectrum\n",
    "from collections import Counter, defaultdict"
   ]
  },
  {
   "cell_type": "code",
   "execution_count": 59,
   "id": "friendly-point",
   "metadata": {
    "scrolled": true
   },
   "outputs": [
    {
     "name": "stdout",
     "output_type": "stream",
     "text": [
      "15:37:08 [INFO] config.py:121, Loading from local data in directory /mnt/scratch/louwe015/NPLinker/own/nplinker_shared/nplinker_data/pairedomics/extracted/MSV000084771/\n",
      "15:37:08 [WARNING] loader.py:50, WARNING: unable to find extra_nodes_file in path \"/mnt/scratch/louwe015/NPLinker/own/nplinker_shared/nplinker_data/pairedomics/extracted/MSV000084771/quantification_table_reformatted/*.csv\"\n",
      "15:37:08 [WARNING] loader.py:50, WARNING: unable to find metadata_table_file in path \"/mnt/scratch/louwe015/NPLinker/own/nplinker_shared/nplinker_data/pairedomics/extracted/MSV000084771/metadata_table/metadata_table*.txt\"\n",
      "15:37:08 [WARNING] loader.py:50, WARNING: unable to find quantification_table_file in path \"/mnt/scratch/louwe015/NPLinker/own/nplinker_shared/nplinker_data/pairedomics/extracted/MSV000084771/quantification_table/quantification_table*.csv\"\n",
      "15:37:08 [INFO] loader.py:84, Trying to discover correct bigscape directory under /mnt/scratch/louwe015/NPLinker/own/nplinker_shared/nplinker_data/pairedomics/extracted/MSV000084771/bigscape\n",
      "15:37:08 [INFO] loader.py:87, Found network files directory: /mnt/scratch/louwe015/NPLinker/own/nplinker_shared/nplinker_data/pairedomics/extracted/MSV000084771/bigscape/network_files/2022-05-12_12-56-13_hybrids_glocal\n",
      "15:37:08 [INFO] loader.py:226, Updating bigscape_dir to discovered location /mnt/scratch/louwe015/NPLinker/own/nplinker_shared/nplinker_data/pairedomics/extracted/MSV000084771/bigscape/network_files/2022-05-12_12-56-13_hybrids_glocal\n",
      "15:37:08 [INFO] loader.py:648, Loaded global strain IDs (0 total)\n",
      "15:37:08 [INFO] loader.py:659, Loaded dataset strain IDs (11 total)\n",
      "15:37:09 [INFO] metabolomics.py:699, 11464 molecules parsed from MGF file\n",
      "15:37:10 [INFO] metabolomics.py:716, Found older-style GNPS dataset, no quantification table\n",
      "15:37:10 [WARNING] metabolomics.py:516, Unknown strain: Ctrl-FeMeOHGa.mzXML for cluster index 8\n",
      "15:37:10 [WARNING] metabolomics.py:516, Unknown strain: TerpA.mzXML for cluster index 187\n",
      "15:37:10 [WARNING] metabolomics.py:516, Unknown strain: TerpB.mzXML for cluster index 200\n",
      "15:37:10 [WARNING] metabolomics.py:516, Unknown strain: TerpC.mzXML for cluster index 204\n",
      "15:37:10 [WARNING] metabolomics.py:516, Unknown strain: 108RE.mzXML for cluster index 1137\n",
      "15:37:10 [WARNING] metabolomics.py:516, Unknown strain: 29-FeGa.mzXML for cluster index 1875\n",
      "15:37:10 [WARNING] metabolomics.py:516, Unknown strain: Ctrl-FeGa(old).mzXML for cluster index 2143\n",
      "15:37:10 [WARNING] metabolomics.py:531, 7 unknown strains were detected a total of 8540 times\n",
      "15:37:10 [WARNING] loader.py:577, Writing unknown strains from METABOLOMICS data to /mnt/scratch/louwe015/NPLinker/own/nplinker_shared/nplinker_data/pairedomics/extracted/MSV000084771/unknown_strains_met.csv\n",
      "15:37:10 [INFO] loader.py:584, Loading provided annotation files (/mnt/scratch/louwe015/NPLinker/own/nplinker_shared/nplinker_data/pairedomics/extracted/MSV000084771/result_specnets_DB)\n",
      "15:37:13 [INFO] genomics.py:485, Found 1816 MiBIG json files\n",
      "15:37:26 [WARNING] loader.py:516, 1 missing annotation tsv files:\n",
      "15:37:26 [WARNING] loader.py:518,   1/1: /mnt/scratch/louwe015/NPLinker/own/nplinker_shared/nplinker_data/pairedomics/extracted/MSV000084771/bigscape/network_files/2022-05-12_12-56-13_hybrids_glocal/Saccharides/Network_Annotations_Saccharides.tsv\n",
      "15:37:26 [WARNING] loader.py:516, 1 missing clustering tsv files:\n",
      "15:37:26 [WARNING] loader.py:518,   1/1: /mnt/scratch/louwe015/NPLinker/own/nplinker_shared/nplinker_data/pairedomics/extracted/MSV000084771/bigscape/network_files/2022-05-12_12-56-13_hybrids_glocal/Saccharides/Saccharides_clustering_c0.30.tsv\n",
      "15:37:26 [WARNING] loader.py:516, 1 missing network files:\n",
      "15:37:26 [WARNING] loader.py:518,   1/1: /mnt/scratch/louwe015/NPLinker/own/nplinker_shared/nplinker_data/pairedomics/extracted/MSV000084771/bigscape/network_files/2022-05-12_12-56-13_hybrids_glocal/Saccharides/Saccharides_c0.30.network\n",
      "15:37:26 [WARNING] loader.py:532, Product type Saccharides will be skipped due to missing files!\n",
      "15:37:26 [INFO] genomics.py:255, Using antiSMASH filename delimiters ['.', '_', '-']\n",
      "15:37:38 [INFO] genomics.py:392, # MiBIG BGCs = 0, non-MiBIG BGCS = 2183, total bgcs = 2183, GCFs = 300, strains=1827\n",
      "15:37:38 [INFO] genomics.py:449, Filtering MiBIG BGCs: removing 0 GCFs and 0 BGCs\n",
      "15:37:38 [INFO] genomics.py:399, # after filtering, total bgcs = 367, GCFs = 300, strains=11, unknown_strains=0\n",
      "15:37:38 [WARNING] loader.py:565, Writing unknown strains from GENOMICS data to /mnt/scratch/louwe015/NPLinker/own/nplinker_shared/nplinker_data/pairedomics/extracted/MSV000084771/unknown_strains_gen.csv\n",
      "15:37:38 [INFO] class_matches.py:44, Loaded MIBiG classes, and class matching tables\n",
      "15:37:38 [INFO] loader.py:623, Found CANOPUS dir, CANOPUS not run again!\n",
      "15:37:39 [INFO] chem_classes.py:191, reading canopus results for spectra from /mnt/scratch/louwe015/NPLinker/own/nplinker_shared/nplinker_data/pairedomics/extracted/MSV000084771/canopus/cluster_index_classifications.txt\n",
      "15:37:39 [INFO] chem_classes.py:522, reading molnetenhancer results from /mnt/scratch/louwe015/NPLinker/own/nplinker_shared/nplinker_data/pairedomics/extracted/MSV000084771/molnetenhancer\n",
      "15:37:39 [INFO] loader.py:357, Writing common strain labels to /mnt/scratch/louwe015/NPLinker/own/nplinker_shared/nplinker_data/pairedomics/extracted/MSV000084771/common_strains.csv\n",
      "15:37:39 [INFO] loader.py:370, Strains filtered down to total of 11\n",
      "15:37:39 [INFO] loader.py:296, No further strain filtering to apply\n"
     ]
    },
    {
     "data": {
      "text/plain": [
       "True"
      ]
     },
     "execution_count": 59,
     "metadata": {},
     "output_type": "execute_result"
    }
   ],
   "source": [
    "# load local crusemann data\n",
    "npl = NPLinker(\n",
    "    {'dataset':\n",
    "     {'root': '/mnt/scratch/louwe015/NPLinker/own/nplinker_shared/nplinker_data/pairedomics/extracted/MSV000084771/'},\n",
    "    'docker':\n",
    "     {'run_canopus': True}})\n",
    "npl.load_data()"
   ]
  },
  {
   "cell_type": "code",
   "execution_count": 3,
   "id": "statutory-superintendent",
   "metadata": {},
   "outputs": [],
   "source": [
    "# del NPLinker"
   ]
  },
  {
   "cell_type": "code",
   "execution_count": 64,
   "id": "victorian-possibility",
   "metadata": {},
   "outputs": [
    {
     "name": "stdout",
     "output_type": "stream",
     "text": [
      "{'loglevel': 'INFO', 'logfile': '', 'log_to_stdout': True, 'repro_file': '', 'dataset': {'root': '/mnt/scratch/louwe015/NPLinker/own/nplinker_shared/nplinker_data/pairedomics/extracted/MSV000084771/', 'overrides': {}, 'platform_id': ''}, 'antismash': {'antismash_format': 'default', 'ignore_spaces': False}, 'docker': {'run_bigscape': True, 'extra_bigscape_parameters': '', 'run_canopus': True}, 'webapp': {'tables_metcalf_threshold': 2.0}, 'scoring': {'rosetta': {}}}\n",
      "../../prototype/nplinker/data\n",
      "\n",
      "/mnt/scratch/louwe015/NPLinker/own/nplinker_shared/nplinker_data/pairedomics/extracted/MSV000084771/\n",
      "BGCs: 367\n",
      "GCFs: 300\n",
      "Spectra: 11464 (3080 spectra actually present in currently selected strains in strain_mappings.csv)\n",
      "Molecular Families: 10458\n"
     ]
    }
   ],
   "source": [
    "# Basic functionality\n",
    "# ===================\n",
    "#\n",
    "# Once you have an NPLinker object with all data loaded, there are a collection of simple\n",
    "# methods and properties you can use to access objects and metadata. Some examples are \n",
    "# given below, see https://nplinker.readthedocs.io/en/latest/ for a complete API description.\n",
    "\n",
    "# configuration/dataset metadata\n",
    "# - a copy of the configuration as parsed from the .toml file (dict)\n",
    "print(npl.config) \n",
    "# - the path to the directory where various nplinker data files are located (e.g. the \n",
    "#   default configuration file template) (str)\n",
    "print(npl.data_dir)\n",
    "# - a dataset ID, derived from the path for local datasets or the paired platform ID\n",
    "#   for datasets loaded from that source (str)\n",
    "print(npl.dataset_id)\n",
    "# - the root directory for the current dataset (str)\n",
    "print(npl.root_dir)\n",
    "\n",
    "# objects\n",
    "# - you can directly access lists of each of the 4 object types:\n",
    "print('BGCs:', len(npl.bgcs))\n",
    "print('GCFs:', len(npl.gcfs)) # contains GCF objects\n",
    "spectra_in_dataset = [spec for spec in npl.spectra if 'strains=0' not in str(spec)]\n",
    "print('Spectra:', len(npl.spectra), # contains Spectrum objects\n",
    "      '({} spectra actually present in currently selected strains in strain_mappings.csv)'.format(len(spectra_in_dataset)))\n",
    "print('Molecular Families:', len(npl.molfams)) # contains MolecularFamily objects"
   ]
  },
  {
   "cell_type": "code",
   "execution_count": 69,
   "id": "smart-magazine",
   "metadata": {},
   "outputs": [
    {
     "name": "stdout",
     "output_type": "stream",
     "text": [
      "From the 3080 spectra present in current strains, 2271 spectra have class info\n"
     ]
    }
   ],
   "source": [
    "# Count spectra with chemical class info\n",
    "spectra_in_dataset_with_class = []\n",
    "spectra_in_dataset_no_class = []\n",
    "for spec in spectra_in_dataset:\n",
    "    spec_can = npl.chem_classes.canopus.spectra_classes.get(str(spec.spectrum_id))\n",
    "    if not spec_can:\n",
    "        spec_mne = npl.chem_classes.molnetenhancer.spectra_classes(str(spec.spectrum_id))\n",
    "        if not spec_mne:\n",
    "            spectra_in_dataset_no_class.append(spec)\n",
    "        else:\n",
    "            spectra_in_dataset_with_class.append(spec)\n",
    "    else:\n",
    "        spectra_in_dataset_with_class.append(spec)\n",
    "print(f\"From the {len(spectra_in_dataset)} spectra present in current strains, {len(spectra_in_dataset_with_class)} spectra have class info\")"
   ]
  },
  {
   "cell_type": "code",
   "execution_count": 70,
   "id": "imperial-pension",
   "metadata": {},
   "outputs": [],
   "source": [
    "parent_masses = [spec.parent_mz for spec in spectra_in_dataset]"
   ]
  },
  {
   "cell_type": "code",
   "execution_count": 71,
   "id": "romantic-roots",
   "metadata": {},
   "outputs": [
    {
     "data": {
      "text/plain": [
       "(array([ 65., 350., 346., 401., 907., 444., 251.,  92.,  19.,  40.,  37.,\n",
       "          9.,  10.,  20.,  23.,   4.,   9.,   6.,   1.,  46.]),\n",
       " array([ 132.02672355,  263.45046573,  394.8742079 ,  526.29795008,\n",
       "         657.72169226,  789.14543444,  920.56917661, 1051.99291879,\n",
       "        1183.41666097, 1314.84040314, 1446.26414532, 1577.6878875 ,\n",
       "        1709.11162968, 1840.53537185, 1971.95911403, 2103.38285621,\n",
       "        2234.80659839, 2366.23034056, 2497.65408274, 2629.07782492,\n",
       "        2760.5015671 ]),\n",
       " <BarContainer object of 20 artists>)"
      ]
     },
     "execution_count": 71,
     "metadata": {},
     "output_type": "execute_result"
    },
    {
     "data": {
      "image/png": "[encoded data removed]",
      "text/plain": [
       "<Figure size 432x288 with 1 Axes>"
      ]
     },
     "metadata": {
      "needs_background": "light"
     },
     "output_type": "display_data"
    }
   ],
   "source": [
    "plt.hist(parent_masses, bins=20)"
   ]
  },
  {
   "cell_type": "code",
   "execution_count": 73,
   "id": "classified-ordinary",
   "metadata": {},
   "outputs": [],
   "source": [
    "parent_masses_no_pred = [spec.parent_mz for spec in spectra_in_dataset_no_class]"
   ]
  },
  {
   "cell_type": "code",
   "execution_count": 74,
   "id": "lesbian-shopper",
   "metadata": {},
   "outputs": [
    {
     "data": {
      "text/plain": [
       "(array([ 14.,  81.,  82.,  75.,  87.,  52., 197.,  65.,  18.,  27.,  34.,\n",
       "          2.,   4.,   9.,  10.,   1.,   8.,   3.,   1.,  39.]),\n",
       " array([ 132.02672355,  263.45046573,  394.8742079 ,  526.29795008,\n",
       "         657.72169226,  789.14543444,  920.56917661, 1051.99291879,\n",
       "        1183.41666097, 1314.84040314, 1446.26414532, 1577.6878875 ,\n",
       "        1709.11162968, 1840.53537185, 1971.95911403, 2103.38285621,\n",
       "        2234.80659839, 2366.23034056, 2497.65408274, 2629.07782492,\n",
       "        2760.5015671 ]),\n",
       " <BarContainer object of 20 artists>)"
      ]
     },
     "execution_count": 74,
     "metadata": {},
     "output_type": "execute_result"
    },
    {
     "data": {
      "image/png": "[encoded data removed]",
      "text/plain": [
       "<Figure size 432x288 with 1 Axes>"
      ]
     },
     "metadata": {
      "needs_background": "light"
     },
     "output_type": "display_data"
    }
   ],
   "source": [
    "plt.hist(parent_masses_no_pred, bins=20)"
   ]
  },
  {
   "cell_type": "markdown",
   "id": "decimal-andrews",
   "metadata": {},
   "source": [
    "## Scoring using the new NPClassScore method\n",
    "Use the scoring methods in NPLinker to find links with:\n",
    "- Metcalf scoring\n",
    "- Metcalf + NPClassScore scoring"
   ]
  },
  {
   "cell_type": "code",
   "execution_count": 11,
   "id": "forward-electric",
   "metadata": {},
   "outputs": [
    {
     "name": "stdout",
     "output_type": "stream",
     "text": [
      "19:41:41 [INFO] methods.py:459, MetcalfScoring.setup (bgcs=367, gcfs=300, spectra=11464, molfams=10458, strains=11)\n",
      "19:41:41 [INFO] methods.py:499, MetcalfScoring.setup completed\n",
      "Number of results: 298\n"
     ]
    }
   ],
   "source": [
    "mc = npl.scoring_method('metcalf')\n",
    "\n",
    "# Now mc is an instance of the class that implements Metcalf scoring. Once\n",
    "# you have such an instance, you may change any of the parameters it exposes.\n",
    "# In the case of Metcalf scoring, the following parameters are currently exposed:\n",
    "# - cutoff (float): the scoring threshold. Links with scores less than this are excluded\n",
    "# - standardised (bool): set to True to use standardised scores (default), False for regular\n",
    "mc.cutoff = 2.5\n",
    "mc.standardised = True\n",
    "\n",
    "results = npl.get_links(npl.gcfs, mc, and_mode=True)\n",
    "\n",
    "# get_links returns an instance of a class called LinkCollection. This provides a wrapper\n",
    "# around the results of the scoring operation and has various useful properties/methods:\n",
    "#\n",
    "# - len(results) or .source_count will tell you how many of the input_objects were found to have links\n",
    "print('Number of results: {}'.format(len(results)))\n",
    "# - .sources is a list of those objects\n",
    "objects_with_links = results.sources\n",
    "# - .links is a dict with structure {input_object: {linked_object: ObjectLink}} \n",
    "objects_and_link_info = results.links\n",
    "# - .get_all_targets() will return a flat list of *all* the linked objects (for all sources)\n",
    "all_targets = results.get_all_targets() \n",
    "# - .methods is a list of the scoring methods passed to get_links\n",
    "methods = results.methods"
   ]
  },
  {
   "cell_type": "code",
   "execution_count": 12,
   "id": "shared-jerusalem",
   "metadata": {},
   "outputs": [
    {
     "name": "stdout",
     "output_type": "stream",
     "text": [
      "19:41:55 [INFO] methods.py:968, Set up NPClassScore scoring\n",
      "19:41:55 [INFO] methods.py:970, Please choose one of the methods from ['mix', 'main', 'canopus', 'molnetenhancer']\n",
      "19:41:55 [INFO] methods.py:976, Currently the method 'mix' is selected\n",
      "19:42:07 [INFO] methods.py:982, Running NPClassScore...\n",
      "19:42:07 [INFO] methods.py:996, Using Metcalf scoring to get shared strains\n",
      "19:42:16 [INFO] methods.py:1003, Calculating NPClassScore for 300 objects to 11464 targets (123323 pairwise interactions that share at least 1 strain). This might take a while.\n",
      "19:42:28 [WARNING] methods.py:1047, 809 targets have no NPClassScore prediction due to missing class predictions and are kept by default. Adjust .filter_missing_scores to change.\n",
      "19:42:28 [INFO] methods.py:1052, NPClassScore completed in 21.0s\n",
      "Number of results for Metcalf and NPClassScore scoring: 275\n",
      "{<nplinker.scoring.methods.NPClassScoring object at 0x7fd0484e7908>, <nplinker.scoring.methods.MetcalfScoring object at 0x7fd059bd47b8>}\n"
     ]
    }
   ],
   "source": [
    "# Initialise NPClassScore scoring the same way\n",
    "# default method: 'mix' meaning use both CANOPUS and MolNetEnhancer with priority to CANOPUS\n",
    "npcl = npl.scoring_method('npclassscore')\n",
    "npcl.cutoff = 0.25\n",
    "\n",
    "# Now only links are kept that pass the cutoff for both methods\n",
    "results_both = npl.get_links(npl.gcfs, [mc, npcl], and_mode=True)\n",
    "\n",
    "print('Number of results for Metcalf and NPClassScore scoring: {}'.format(len(results_both)))\n",
    "print(results_both.methods)"
   ]
  },
  {
   "cell_type": "code",
   "execution_count": 13,
   "id": "informed-african",
   "metadata": {},
   "outputs": [
    {
     "name": "stdout",
     "output_type": "stream",
     "text": [
      "19:42:41 [INFO] methods.py:982, Running NPClassScore...\n",
      "19:42:41 [INFO] methods.py:996, Using Metcalf scoring to get shared strains\n",
      "19:42:50 [INFO] methods.py:1003, Calculating NPClassScore for 300 objects to 11464 targets (123323 pairwise interactions that share at least 1 strain). This might take a while.\n",
      "19:43:02 [WARNING] methods.py:1047, 809 targets have no NPClassScore prediction due to missing class predictions and are kept by default. Adjust .filter_missing_scores to change.\n",
      "19:43:02 [INFO] methods.py:1052, NPClassScore completed in 21.4s\n",
      "Number of results for Metcalf and NPClassScore scoring: 282\n",
      "{<nplinker.scoring.methods.MetcalfScoring object at 0x7fd059bd47b8>, <nplinker.scoring.methods.NPClassScoring object at 0x7fd040944860>}\n"
     ]
    }
   ],
   "source": [
    "# Also create an object with both Metcalf and NPClassScore with a cutoff of 0 to investigate proper cutoff\n",
    "npcl_0 = npl.scoring_method('npclassscore')\n",
    "npcl_0.cutoff = 0\n",
    "\n",
    "# Now only links are kept that pass the cutoff for both methods\n",
    "results_0 = npl.get_links(npl.gcfs, [mc, npcl_0], and_mode=True)\n",
    "\n",
    "print('Number of results for Metcalf and NPClassScore scoring: {}'.format(len(results_0)))\n",
    "print(results_0.methods)"
   ]
  },
  {
   "cell_type": "markdown",
   "id": "subtle-search",
   "metadata": {},
   "source": [
    "## Investigating NPClassScore cutoff\n",
    "We choose 0.25 as a cutoff as around this value there is a marked drop in the number of links per GCF."
   ]
  },
  {
   "cell_type": "code",
   "execution_count": 76,
   "id": "simple-oxide",
   "metadata": {},
   "outputs": [],
   "source": [
    "# gradient of class linking score cutoff\n",
    "\n",
    "cs_cutoffs = [0.125, 0.25, 0.375, 0.5, 0.625, 0.75, 0.875]\n",
    "d_all_num_links = []\n",
    "d_all_num_filtered_links = {cut: [] for cut in cs_cutoffs}\n",
    "d_all_no_scores = []\n",
    "count_nones = False  # this controls if you want to include spectra without class info like npcl.filter_missing_scores\n",
    "\n",
    "for gcf in npl.gcfs:\n",
    "    # filter out MF links\n",
    "    num_links = 0\n",
    "    if gcf in results.links:\n",
    "        num_links = len([link_data for link_data in results.get_sorted_links(mc, gcf)\n",
    "                         if isinstance(link_data.target, Spectrum) and 'strains=0' not in str(link_data.target)])\n",
    "    \n",
    "    # loop through cutoffs\n",
    "    for cs_cut in cs_cutoffs:\n",
    "        num_filtered_links = 0\n",
    "        if gcf in results_0.links:\n",
    "            # calculate number of links with npcl filtering\n",
    "            filtered_links = []\n",
    "            for link_data in results_0.get_sorted_links(mc, gcf):\n",
    "                if isinstance(link_data.target, Spectrum):\n",
    "                    npcl_score = npcl_0.format_data(link_data[npcl_0])\n",
    "                    if npcl_score:\n",
    "                        if float(npcl_score) > cs_cut:\n",
    "                            filtered_links.append(link_data)\n",
    "                    else:\n",
    "                        if count_nones:\n",
    "                            filtered_links.append(link_data)\n",
    "            num_filtered_links = len(filtered_links)\n",
    "        d_all_num_filtered_links[cs_cut].append(num_filtered_links)\n",
    "    d_all_num_links.append(num_links)"
   ]
  },
  {
   "cell_type": "code",
   "execution_count": 77,
   "id": "desirable-converter",
   "metadata": {},
   "outputs": [
    {
     "name": "stdout",
     "output_type": "stream",
     "text": [
      "NPClassScore_cutoff\tNumber_of_links\tChange\n",
      "0\t206.33\n",
      "0.125\t98.27\t-0.52\n",
      "0.25\t64.35\t-0.69\n",
      "0.375\t58.24\t-0.72\n",
      "0.5\t45.85\t-0.78\n",
      "0.625\t35.17\t-0.83\n",
      "0.75\t13.03\t-0.94\n",
      "0.875\t6.31\t-0.97\n"
     ]
    }
   ],
   "source": [
    "print(f\"NPClassScore_cutoff\\tNumber_of_links\\tChange\")\n",
    "print(f\"0\\t{np.mean(d_all_num_links):.2f}\")\n",
    "for cs_cut, filt_links in d_all_num_filtered_links.items():\n",
    "    print(f\"{cs_cut}\\t{np.mean(filt_links):.2f}\\t{(np.mean(filt_links)-np.mean(d_all_num_links))/np.mean(d_all_num_links):.2f}\")"
   ]
  },
  {
   "cell_type": "markdown",
   "id": "excessive-robertson",
   "metadata": {},
   "source": [
    "## Counting number of links\n",
    "For each GCF count the number of links with and without NPClassScore filtering using the chosen cutoff of 0.25."
   ]
  },
  {
   "cell_type": "code",
   "execution_count": 78,
   "id": "pending-rescue",
   "metadata": {},
   "outputs": [
    {
     "data": {
      "text/plain": [
       "(206.32666666666665, 64.34666666666666)"
      ]
     },
     "execution_count": 78,
     "metadata": {},
     "output_type": "execute_result"
    }
   ],
   "source": [
    "# loop through all gcfs (objects) and count how many links exist (spectra)\n",
    "all_num_links = []\n",
    "all_num_filtered_links = []\n",
    "all_no_scores = []\n",
    "count_nones = False  # this controls if you want to include spectra without class info like npcl.filter_missing_scores\n",
    "\n",
    "for gcf in npl.gcfs:\n",
    "    # filter out MF links\n",
    "    num_links = 0\n",
    "    if gcf in results.links:\n",
    "        num_links = len([link_data for link_data in results.get_sorted_links(mc, gcf)\n",
    "                         if isinstance(link_data.target, Spectrum)])\n",
    "    num_filtered_links = 0\n",
    "    if gcf in results_both.links:\n",
    "        if count_nones:\n",
    "            num_filtered_links = len([link_data for link_data in results_both.get_sorted_links(mc, gcf)\n",
    "                                      if isinstance(link_data.target, Spectrum)])\n",
    "        else:\n",
    "            num_filtered_links = len([link_data for link_data in results_both.get_sorted_links(mc, gcf)\n",
    "                                      if isinstance(link_data.target, Spectrum) if link_data[npcl]])\n",
    "    all_num_links.append(num_links)\n",
    "    all_num_filtered_links.append(num_filtered_links)\n",
    "\n",
    "np.mean(all_num_links), np.mean(all_num_filtered_links)"
   ]
  },
  {
   "cell_type": "code",
   "execution_count": 80,
   "id": "tough-george",
   "metadata": {},
   "outputs": [
    {
     "data": {
      "text/plain": [
       "-0.6881320882742576"
      ]
     },
     "execution_count": 80,
     "metadata": {},
     "output_type": "execute_result"
    }
   ],
   "source": [
    "# change in average links per GCF\n",
    "(np.mean(all_num_filtered_links)-np.mean(all_num_links))/np.mean(all_num_links)"
   ]
  },
  {
   "cell_type": "markdown",
   "id": "combined-latin",
   "metadata": {},
   "source": [
    "## Making plots showing the filtered links"
   ]
  },
  {
   "cell_type": "code",
   "execution_count": 81,
   "id": "express-chapter",
   "metadata": {},
   "outputs": [
    {
     "data": {
      "image/png": "[encoded data removed]",
      "text/plain": [
       "<Figure size 1008x576 with 1 Axes>"
      ]
     },
     "metadata": {
      "needs_background": "light"
     },
     "output_type": "display_data"
    }
   ],
   "source": [
    "sorted_filt_items = sorted(d_all_num_filtered_links.items())\n",
    "labels = [\"0\"] + [f\"{cut}\" for cut, vals in sorted_filt_items]\n",
    "xs = [d_all_num_links] + [vals for keys, vals in sorted_filt_items]\n",
    "lg_size = 14\n",
    "custom_xlim = (-1, max(d_all_num_links))\n",
    "links_title = \"Number of links per GCF\"\n",
    "\n",
    "fig, ax = plt.subplots(nrows=1, ncols=1, figsize=(14, 8))\n",
    "ax.boxplot(xs, labels=labels, flierprops={\"markersize\": 0.5}, medianprops={\"color\": \"black\"})\n",
    "plt.setp(ax, ylim=custom_xlim, xlabel=\"Cutoffs NPClassScore\", ylabel=links_title)\n",
    "figout = \"/home/louwe015/NPLinker/boxplot_cutoffs_MSV000084771_npclass_mix_can-mne_figure.svg\"\n",
    "plt.savefig(figout)"
   ]
  },
  {
   "cell_type": "code",
   "execution_count": 82,
   "id": "particular-meeting",
   "metadata": {},
   "outputs": [
    {
     "name": "stdout",
     "output_type": "stream",
     "text": [
      "Use MNE when there is no CANOPUS prediction\n",
      "Bin size: 25\n"
     ]
    },
    {
     "data": {
      "image/png": "[encoded data removed]",
      "text/plain": [
       "<Figure size 504x432 with 1 Axes>"
      ]
     },
     "metadata": {
      "needs_background": "light"
     },
     "output_type": "display_data"
    }
   ],
   "source": [
    "print(\"Use MNE when there is no CANOPUS prediction\")\n",
    "labels = [\"Links\", \"Filtered links\"]\n",
    "colours = [\"#003f5c\", \"#bc5090\", \"#ffa600\"]\n",
    "xs = [all_num_links, all_num_filtered_links]\n",
    "lg_size = 14\n",
    "custom_xlim = (-1, max(d_all_num_links))\n",
    "bin_size = 25\n",
    "print(\"Bin size:\", bin_size)\n",
    "n_bins = np.arange(0, max(d_all_num_links), bin_size)\n",
    "links_title = \"Number of links per GCF\"\n",
    "count_title = \"GCF counts\"\n",
    "hist_type = \"stepfilled\"\n",
    "alpha = 0.75\n",
    "\n",
    "SMALL_SIZE = 12\n",
    "MEDIUM_SIZE = 16\n",
    "BIGGER_SIZE = 18\n",
    "\n",
    "plt.rc('font', size=MEDIUM_SIZE)          # controls default text sizes\n",
    "plt.rc('axes', titlesize=MEDIUM_SIZE)     # fontsize of the axes title\n",
    "plt.rc('axes', labelsize=MEDIUM_SIZE)    # fontsize of the x and y labels\n",
    "plt.rc('xtick', labelsize=SMALL_SIZE)    # fontsize of the tick labels\n",
    "plt.rc('ytick', labelsize=SMALL_SIZE)    # fontsize of the tick labels\n",
    "plt.rc('legend', fontsize=SMALL_SIZE)    # legend fontsize\n",
    "# plt.rc('figure', titlesize=BIGGER_SIZE)  # fontsize of the figure title\n",
    "\n",
    "fig, ax0 = plt.subplots(nrows=1, ncols=1, figsize=(7, 6))\n",
    "ax0.hist(xs[:2], bins=n_bins, density=False, histtype=hist_type, stacked=False, label=labels[:2],\n",
    "         color=colours[:2], alpha=alpha)\n",
    "ax0.legend(prop={'size': lg_size})\n",
    "plt.setp(ax0, xlim=custom_xlim, xlabel=links_title, ylabel=count_title)\n",
    "figout = \"/home/louwe015/NPLinker/filtered_links_MSV000084771_mix_can-mne_figure_new.svg\"\n",
    "plt.savefig(figout)"
   ]
  },
  {
   "cell_type": "markdown",
   "id": "mental-custody",
   "metadata": {},
   "source": [
    "## Investigate known links"
   ]
  },
  {
   "cell_type": "code",
   "execution_count": null,
   "id": "advisory-rabbit",
   "metadata": {},
   "outputs": [],
   "source": [
    "# Nocobactin hits with cblaster\n",
    "# NC_016887.1.region003\n",
    "# NZ_BAFR01000032.region001\n",
    "# NZ_BAGG01000019.region002\n",
    "# NZ_LMFE01000007.region002\n",
    "# NZ_BDAX01000006.region001\n",
    "# NZ_BDBF01000011.region001\n",
    "# NZ_BDBM01000018.region001\n",
    "# NZ_BDBU01000023.region001\n",
    "# NZ_BDCA01000029.region001\n",
    "# NZ_BDCL01000038.region001\n",
    "# NZ_BDCU01000023.region001"
   ]
  },
  {
   "cell_type": "code",
   "execution_count": 24,
   "id": "purple-empire",
   "metadata": {},
   "outputs": [],
   "source": [
    "known_links_dict = {}"
   ]
  },
  {
   "cell_type": "markdown",
   "id": "overhead-philip",
   "metadata": {},
   "source": [
    "### Staurosporine"
   ]
  },
  {
   "cell_type": "code",
   "execution_count": 26,
   "id": "signed-accreditation",
   "metadata": {},
   "outputs": [
    {
     "ename": "IndexError",
     "evalue": "list index out of range",
     "output_type": "error",
     "traceback": [
      "\u001b[0;31m---------------------------------------------------------------------------\u001b[0m",
      "\u001b[0;31mIndexError\u001b[0m                                Traceback (most recent call last)",
      "\u001b[0;32m<ipython-input-26-eae26736bcfe>\u001b[0m in \u001b[0;36m<module>\u001b[0;34m\u001b[0m\n\u001b[1;32m      3\u001b[0m \u001b[0mspectrum_hits\u001b[0m \u001b[0;34m=\u001b[0m \u001b[0;34m[\u001b[0m\u001b[0;36m89513\u001b[0m\u001b[0;34m]\u001b[0m  \u001b[0;31m# based on library hits\u001b[0m\u001b[0;34m\u001b[0m\u001b[0;34m\u001b[0m\u001b[0m\n\u001b[1;32m      4\u001b[0m \u001b[0;34m\u001b[0m\u001b[0m\n\u001b[0;32m----> 5\u001b[0;31m \u001b[0mresult_gcf\u001b[0m \u001b[0;34m=\u001b[0m \u001b[0;34m[\u001b[0m\u001b[0mgcf\u001b[0m \u001b[0;32mfor\u001b[0m \u001b[0mgcf\u001b[0m \u001b[0;32min\u001b[0m \u001b[0mnpl\u001b[0m\u001b[0;34m.\u001b[0m\u001b[0mgcfs\u001b[0m \u001b[0;32mif\u001b[0m \u001b[0mgcf\u001b[0m\u001b[0;34m.\u001b[0m\u001b[0mid\u001b[0m \u001b[0;34m==\u001b[0m \u001b[0;36m534\u001b[0m\u001b[0;34m]\u001b[0m\u001b[0;34m[\u001b[0m\u001b[0;36m0\u001b[0m\u001b[0;34m]\u001b[0m\u001b[0;34m\u001b[0m\u001b[0;34m\u001b[0m\u001b[0m\n\u001b[0m\u001b[1;32m      6\u001b[0m \u001b[0mresult_gcf\u001b[0m\u001b[0;34m,\u001b[0m \u001b[0mlist\u001b[0m\u001b[0;34m(\u001b[0m\u001b[0mresult_gcf\u001b[0m\u001b[0;34m.\u001b[0m\u001b[0mbgcs\u001b[0m\u001b[0;34m)\u001b[0m\u001b[0;34m[\u001b[0m\u001b[0;34m:\u001b[0m\u001b[0;36m5\u001b[0m\u001b[0;34m]\u001b[0m\u001b[0;34m\u001b[0m\u001b[0;34m\u001b[0m\u001b[0m\n",
      "\u001b[0;31mIndexError\u001b[0m: list index out of range"
     ]
    }
   ],
   "source": [
    "name_hit = 'staurosporine'\n",
    "known_links_dict[name_hit] = {'hits': [], 'counts': None}\n",
    "spectrum_hits = [89513]  # based on library hits\n",
    "\n",
    "result_gcf = [gcf for gcf in npl.gcfs if gcf.id == 534][0]\n",
    "result_gcf, list(result_gcf.bgcs)[:5]"
   ]
  },
  {
   "cell_type": "code",
   "execution_count": null,
   "id": "going-accident",
   "metadata": {},
   "outputs": [],
   "source": [
    "cutoff = 0.25\n",
    "result_links_both = results_both.links[result_gcf]\n",
    "result_links_mc = results.get_sorted_links(mc, result_gcf)\n",
    "count = 0\n",
    "i = 0\n",
    "show_x = 10\n",
    "include_below_cutoff = False\n",
    "prev_mc = 10**100\n",
    "delay = 0\n",
    "print('Results for object: {}, {} total links, {} methods used'.format(result_gcf, len(result_links_both), results.method_count))\n",
    "print(\"Rank above cutoff (original rank)\")\n",
    "for link_data in result_links_mc:\n",
    "    if count == show_x:\n",
    "        break\n",
    "    if isinstance(link_data.target, Spectrum):\n",
    "        link_data_both = result_links_both.get(link_data.target)\n",
    "        cur_mc = link_data[mc]\n",
    "        i += 1\n",
    "        \n",
    "        pref = 'x.'\n",
    "        cl_score = None\n",
    "        if link_data_both:\n",
    "            cl_score = link_data_both[npcl]\n",
    "            if cl_score[0][0] > cutoff:\n",
    "                if cur_mc < prev_mc:\n",
    "                    count += 1\n",
    "                    count += delay\n",
    "                    delay = 0\n",
    "                else:\n",
    "                    delay += 1\n",
    "                pref = f\"{count}.\"\n",
    "                prev_mc = cur_mc\n",
    "        if include_below_cutoff or not pref == 'x.':\n",
    "            print('{}({})\\t{}\\t{}={}\\tshared strains={}\\tMF={}'.format(\n",
    "                pref,\n",
    "                i,\n",
    "                link_data.target,\n",
    "                ','.join(method.name for method in link_data.methods),\n",
    "                mc.format_data(cur_mc),\n",
    "                len(link_data.shared_strains),\n",
    "                link_data.target.family_id))\n",
    "            if cl_score:\n",
    "                print('NPClassScore:', cl_score[0])\n",
    "            comp_name = ''\n",
    "            if link_data.target.gnps_annotations:\n",
    "                comp_name = link_data.target.gnps_annotations.get(\"Compound_Name\")\n",
    "                print('Library match:', comp_name)\n",
    "            print('Precursor_mz:', link_data.target.precursor_mz)\n",
    "            if link_data.target.spectrum_id in spectrum_hits or name_hit in comp_name.lower():\n",
    "                print(\"--MATCH--\")\n",
    "                known_links_dict[name_hit]['hits'].append((count, i, result_gcf, link_data))\n",
    "    if count + delay == show_x:\n",
    "        break"
   ]
  },
  {
   "cell_type": "code",
   "execution_count": null,
   "id": "informational-content",
   "metadata": {},
   "outputs": [],
   "source": [
    "filtered_counts = 0\n",
    "metcalf_counts = 0\n",
    "for link_data in result_links_mc:\n",
    "    if isinstance(link_data.target, Spectrum):\n",
    "        metcalf_counts += 1\n",
    "        link_data_both = result_links_both.get(link_data.target)\n",
    "        if link_data_both:\n",
    "            cl_score = link_data_both[npcl]\n",
    "            if cl_score[0][0] > cutoff:\n",
    "                filtered_counts += 1\n",
    "known_links_dict[name_hit]['counts'] = (metcalf_counts, filtered_counts)\n",
    "print(metcalf_counts, filtered_counts)"
   ]
  },
  {
   "cell_type": "code",
   "execution_count": null,
   "id": "occupational-trading",
   "metadata": {},
   "outputs": [],
   "source": []
  }
 ],
 "metadata": {
  "kernelspec": {
   "display_name": "Python 3",
   "language": "python",
   "name": "python3"
  },
  "language_info": {
   "codemirror_mode": {
    "name": "ipython",
    "version": 3
   },
   "file_extension": ".py",
   "mimetype": "text/x-python",
   "name": "python",
   "nbconvert_exporter": "python",
   "pygments_lexer": "ipython3",
   "version": "3.7.2"
  }
 },
 "nbformat": 4,
 "nbformat_minor": 5
}
