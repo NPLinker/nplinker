{
 "cells": [
  {
   "cell_type": "markdown",
   "id": "mediterranean-holocaust",
   "metadata": {},
   "source": [
    "# Summary\n",
    "Make figures for the three datasets."
   ]
  },
  {
   "cell_type": "code",
   "execution_count": 48,
   "id": "bigger-works",
   "metadata": {},
   "outputs": [],
   "source": [
    "import pickle\n",
    "import numpy as np\n",
    "import pandas as pd\n",
    "import matplotlib.pyplot as plt\n",
    "import seaborn as sns"
   ]
  },
  {
   "cell_type": "code",
   "execution_count": 45,
   "id": "organic-leader",
   "metadata": {},
   "outputs": [],
   "source": [
    "plt.rcParams['svg.fonttype'] = 'none'  # default is 'path' which converts text to path, 'none' keeps text as text\n",
    "# note: this might cause some interpreters of svgs to not be able to load them though"
   ]
  },
  {
   "cell_type": "markdown",
   "id": "higher-sarah",
   "metadata": {},
   "source": [
    "## Known links"
   ]
  },
  {
   "cell_type": "code",
   "execution_count": 6,
   "id": "recreational-leisure",
   "metadata": {},
   "outputs": [],
   "source": [
    "base_kl = '/home/louwe015/NPLinker/known_links_dict_{}.pickle'\n",
    "known_links_datasets = []\n",
    "datasets = ['crusemann', 'MSV000084950', 'MSV000084771']\n",
    "for dataset in datasets:\n",
    "    known_links_datasets.append(pickle.load(open(base_kl.format(dataset), 'rb')))"
   ]
  },
  {
   "cell_type": "code",
   "execution_count": 7,
   "id": "perfect-spanish",
   "metadata": {
    "scrolled": true
   },
   "outputs": [
    {
     "data": {
      "text/plain": [
       "[{'staurosporine': {'hits': [[1, 2], [3, 11]], 'counts': (100, 16)},\n",
       "  'rosamicin': {'hits': [[1, 8], [1, 8]], 'counts': (275, 38)},\n",
       "  'desferrioxamine': {'hits': [[1, 1],\n",
       "    [4, 4],\n",
       "    [5, 5],\n",
       "    [5, 5],\n",
       "    [9, 9],\n",
       "    [10, 10]],\n",
       "   'counts': (2967, 1480)},\n",
       "  'rifamycin': {'hits': [[152, 257]], 'counts': (856, 478)},\n",
       "  'lomaiviticin': {'hits': [[30, 381]], 'counts': (635, 66)},\n",
       "  'arenimycin': {'hits': [[1, 1]], 'counts': (103, 12)},\n",
       "  'enterocin': {'hits': [[1, 4]], 'counts': (664, 74)},\n",
       "  'salinamide': {'hits': [[1, 1], [41, 85]], 'counts': (621, 237)},\n",
       "  'cyclomarin': {'hits': [[3, 4], [3, 4], [3, 4], [3, 4]],\n",
       "   'counts': (558, 335)},\n",
       "  'retimycin': {'hits': [], 'counts': None, 'not_found': 'no spectrum found'},\n",
       "  'actinomycin': {'hits': [[1, 1], [1, 1]], 'counts': (756, 333)}},\n",
       " {'anabaenopeptin': {'hits': [[2, 3], [5, 9], [16, 28]], 'counts': (33, 21)},\n",
       "  'micropeptin': {'hits': [],\n",
       "   'counts': (50, 31),\n",
       "   'not_found': 'not in metcalf'},\n",
       "  'kawaguchipeptin': {'hits': [[1, 2]], 'counts': (68, 54)},\n",
       "  'microcyclamide': {'hits': [[1, 1]], 'counts': (35, 23)},\n",
       "  'microcystins': {'hits': [[11, 13], [15, 21]], 'counts': (27, 19)},\n",
       "  'microcystin-rr': {'hits': [],\n",
       "   'counts': (50, 27),\n",
       "   'not_found': 'not in metcalf'}},\n",
       " {'mycobactin': {'hits': [[1, 2]], 'counts': (249, 105)},\n",
       "  'mycobactin takedensis': {'hits': [],\n",
       "   'counts': (652, 338),\n",
       "   'not_found': 'not identified'},\n",
       "  'nocardimicin': {'hits': [],\n",
       "   'counts': (378, 234),\n",
       "   'not_found': 'no spectrum found'},\n",
       "  'nocobactin': {'hits': [],\n",
       "   'counts': (208, 130),\n",
       "   'not_found': 'not in metcalf'},\n",
       "  'nocobactin (2)': {'hits': [],\n",
       "   'counts': (231, 99),\n",
       "   'not_found': 'not in metcalf'},\n",
       "  'nocobactin (3)': {'hits': [],\n",
       "   'counts': (564, 272),\n",
       "   'not_found': 'not in metcalf'},\n",
       "  'formobactin': {'hits': [[1, 4]], 'counts': (652, 338)},\n",
       "  'nocardimicin a': {'hits': [[2, 11]], 'counts': (431, 255)},\n",
       "  'carboxynocobactin': {'hits': [[1, 4]], 'counts': (652, 338)}}]"
      ]
     },
     "execution_count": 7,
     "metadata": {},
     "output_type": "execute_result"
    }
   ],
   "source": [
    "known_links_datasets"
   ]
  },
  {
   "cell_type": "code",
   "execution_count": 18,
   "id": "simple-weekend",
   "metadata": {},
   "outputs": [
    {
     "name": "stdout",
     "output_type": "stream",
     "text": [
      "{'hits': [], 'counts': None, 'not_found': 'no spectrum found'}\n",
      "{'hits': [], 'counts': (50, 31), 'not_found': 'not in metcalf'}\n",
      "{'hits': [], 'counts': (50, 27), 'not_found': 'not in metcalf'}\n",
      "{'hits': [], 'counts': (652, 338), 'not_found': 'not identified'}\n",
      "{'hits': [], 'counts': (378, 234), 'not_found': 'no spectrum found'}\n",
      "{'hits': [], 'counts': (208, 130), 'not_found': 'not in metcalf'}\n",
      "{'hits': [], 'counts': (231, 99), 'not_found': 'not in metcalf'}\n",
      "{'hits': [], 'counts': (564, 272), 'not_found': 'not in metcalf'}\n"
     ]
    },
    {
     "data": {
      "text/plain": [
       "([10, 4, 4], [0, 0, 1], [1, 0, 1], [0, 2, 3])"
      ]
     },
     "execution_count": 18,
     "metadata": {},
     "output_type": "execute_result"
    }
   ],
   "source": [
    "# overview\n",
    "found = []\n",
    "no_found = []\n",
    "no_spectrum = []\n",
    "no_metcalf = []\n",
    "\n",
    "for i, dataset in enumerate(datasets):\n",
    "    i_found = 0\n",
    "    i_no_found = 0\n",
    "    i_no_spectrum = 0\n",
    "    i_no_metcalf = 0\n",
    "    for k,v in known_links_datasets[i].items():\n",
    "        if v['hits']:\n",
    "            i_found += 1\n",
    "        elif v['not_found']:\n",
    "            if v['not_found'] == 'not identified':\n",
    "                i_no_found += 1\n",
    "            elif v['not_found'] == 'no spectrum found':\n",
    "                i_no_spectrum += 1\n",
    "            elif v['not_found'] == 'not in metcalf':\n",
    "                i_no_metcalf += 1\n",
    "    found.append(i_found)\n",
    "    no_found.append(i_no_found)\n",
    "    no_spectrum.append(i_no_spectrum)\n",
    "    no_metcalf.append(i_no_metcalf)\n",
    "\n",
    "found, no_found, no_spectrum, no_metcalf"
   ]
  },
  {
   "cell_type": "code",
   "execution_count": 28,
   "id": "tested-welcome",
   "metadata": {},
   "outputs": [
    {
     "data": {
      "text/html": [
       "<div>\n",
       "<style scoped>\n",
       "    .dataframe tbody tr th:only-of-type {\n",
       "        vertical-align: middle;\n",
       "    }\n",
       "\n",
       "    .dataframe tbody tr th {\n",
       "        vertical-align: top;\n",
       "    }\n",
       "\n",
       "    .dataframe thead th {\n",
       "        text-align: right;\n",
       "    }\n",
       "</style>\n",
       "<table border=\"1\" class=\"dataframe\">\n",
       "  <thead>\n",
       "    <tr style=\"text-align: right;\">\n",
       "      <th></th>\n",
       "      <th>Identified</th>\n",
       "      <th>Not in Metcalf</th>\n",
       "      <th>Not identified</th>\n",
       "      <th>Spectrum absent</th>\n",
       "    </tr>\n",
       "  </thead>\n",
       "  <tbody>\n",
       "    <tr>\n",
       "      <th>Crüsemann</th>\n",
       "      <td>10</td>\n",
       "      <td>0</td>\n",
       "      <td>0</td>\n",
       "      <td>1</td>\n",
       "    </tr>\n",
       "    <tr>\n",
       "      <th>MSV000084950</th>\n",
       "      <td>4</td>\n",
       "      <td>2</td>\n",
       "      <td>0</td>\n",
       "      <td>0</td>\n",
       "    </tr>\n",
       "    <tr>\n",
       "      <th>MSV000084771</th>\n",
       "      <td>4</td>\n",
       "      <td>3</td>\n",
       "      <td>1</td>\n",
       "      <td>1</td>\n",
       "    </tr>\n",
       "  </tbody>\n",
       "</table>\n",
       "</div>"
      ],
      "text/plain": [
       "              Identified  Not in Metcalf  Not identified  Spectrum absent\n",
       "Crüsemann             10               0               0                1\n",
       "MSV000084950           4               2               0                0\n",
       "MSV000084771           4               3               1                1"
      ]
     },
     "execution_count": 28,
     "metadata": {},
     "output_type": "execute_result"
    }
   ],
   "source": [
    "df_kl = pd.DataFrame({'Identified': found,\n",
    "                      'Not in Metcalf': no_metcalf,\n",
    "                      'Not identified': no_found,\n",
    "                      'Spectrum absent': no_spectrum},\n",
    "                  index=['Crüsemann']+datasets[1:])\n",
    "df_kl"
   ]
  },
  {
   "cell_type": "code",
   "execution_count": 43,
   "id": "responsible-quantity",
   "metadata": {},
   "outputs": [
    {
     "data": {
      "text/html": [
       "<div>\n",
       "<style scoped>\n",
       "    .dataframe tbody tr th:only-of-type {\n",
       "        vertical-align: middle;\n",
       "    }\n",
       "\n",
       "    .dataframe tbody tr th {\n",
       "        vertical-align: top;\n",
       "    }\n",
       "\n",
       "    .dataframe thead th {\n",
       "        text-align: right;\n",
       "    }\n",
       "</style>\n",
       "<table border=\"1\" class=\"dataframe\">\n",
       "  <thead>\n",
       "    <tr style=\"text-align: right;\">\n",
       "      <th></th>\n",
       "      <th>Identified</th>\n",
       "      <th>Not in Metcalf</th>\n",
       "      <th>Not identified</th>\n",
       "      <th>Spectrum absent</th>\n",
       "    </tr>\n",
       "  </thead>\n",
       "  <tbody>\n",
       "    <tr>\n",
       "      <th>Crüsemann</th>\n",
       "      <td>10</td>\n",
       "      <td>0</td>\n",
       "      <td>0</td>\n",
       "      <td>1</td>\n",
       "    </tr>\n",
       "    <tr>\n",
       "      <th>MSV000084950</th>\n",
       "      <td>4</td>\n",
       "      <td>2</td>\n",
       "      <td>0</td>\n",
       "      <td>0</td>\n",
       "    </tr>\n",
       "    <tr>\n",
       "      <th>MSV000084771</th>\n",
       "      <td>4</td>\n",
       "      <td>3</td>\n",
       "      <td>1</td>\n",
       "      <td>1</td>\n",
       "    </tr>\n",
       "    <tr>\n",
       "      <th>Total</th>\n",
       "      <td>18</td>\n",
       "      <td>5</td>\n",
       "      <td>1</td>\n",
       "      <td>2</td>\n",
       "    </tr>\n",
       "  </tbody>\n",
       "</table>\n",
       "</div>"
      ],
      "text/plain": [
       "              Identified  Not in Metcalf  Not identified  Spectrum absent\n",
       "Crüsemann             10               0               0                1\n",
       "MSV000084950           4               2               0                0\n",
       "MSV000084771           4               3               1                1\n",
       "Total                 18               5               1                2"
      ]
     },
     "execution_count": 43,
     "metadata": {},
     "output_type": "execute_result"
    }
   ],
   "source": [
    "df_kl.loc[\"Total\"] = df_kl.sum()\n",
    "df_kl"
   ]
  },
  {
   "cell_type": "code",
   "execution_count": 131,
   "id": "verified-colleague",
   "metadata": {},
   "outputs": [
    {
     "data": {
      "text/plain": [
       "(0.9583333333333334, 0.8846153846153846, 0.6923076923076923)"
      ]
     },
     "execution_count": 131,
     "metadata": {},
     "output_type": "execute_result"
    }
   ],
   "source": [
    "23/24, 23/26, 18/26"
   ]
  },
  {
   "cell_type": "code",
   "execution_count": 134,
   "id": "still-acceptance",
   "metadata": {},
   "outputs": [
    {
     "data": {
      "text/plain": [
       "3212.3333333333335"
      ]
     },
     "execution_count": 134,
     "metadata": {},
     "output_type": "execute_result"
    }
   ],
   "source": [
    "9637 /3"
   ]
  },
  {
   "cell_type": "code",
   "execution_count": 65,
   "id": "earned-independence",
   "metadata": {},
   "outputs": [
    {
     "data": {
      "image/png": "[encoded data removed]",
      "text/plain": [
       "<Figure size 439.2x403.2 with 1 Axes>"
      ]
     },
     "metadata": {
      "needs_background": "light"
     },
     "output_type": "display_data"
    }
   ],
   "source": [
    "inch = 2.54\n",
    "df_kl.plot(kind='bar', stacked=True, color=['#BD5091', '#003F5C', '#ffa600', '#808181'], figsize=(6.1, 5.6))\n",
    "plt.xticks(rotation=30, horizontalalignment=\"right\")\n",
    "sns.despine()\n",
    "plt.yticks(np.arange(0, 28, 2.0))\n",
    "plt.xlabel('Dataset')\n",
    "plt.ylabel('Count')\n",
    "figout = \"/home/louwe015/NPLinker/known_links_barplot.svg\"\n",
    "plt.savefig(figout)"
   ]
  },
  {
   "cell_type": "markdown",
   "id": "handmade-alberta",
   "metadata": {},
   "source": [
    "## Cutoffs"
   ]
  },
  {
   "cell_type": "code",
   "execution_count": 66,
   "id": "vanilla-india",
   "metadata": {},
   "outputs": [],
   "source": [
    "# save xs\n",
    "xs_base = '/home/louwe015/NPLinker/filtered_data_{}.pickle'\n",
    "xs_list = []\n",
    "for dataset in datasets:\n",
    "    xs_list.append(pickle.load(open(xs_base.format(dataset), 'rb')))"
   ]
  },
  {
   "cell_type": "code",
   "execution_count": 69,
   "id": "vulnerable-africa",
   "metadata": {},
   "outputs": [
    {
     "data": {
      "text/plain": [
       "3"
      ]
     },
     "execution_count": 69,
     "metadata": {},
     "output_type": "execute_result"
    }
   ],
   "source": [
    "len(xs_list)"
   ]
  },
  {
   "cell_type": "code",
   "execution_count": 82,
   "id": "executive-harris",
   "metadata": {},
   "outputs": [],
   "source": [
    "labels = ['Crüsemann']+datasets[1:]\n",
    "label_links = 'links'\n",
    "label_filtered = 'filtered links'\n",
    "lab_dataset = []\n",
    "lab_f_links = []\n",
    "xs_unlist = []\n",
    "for i, xs in enumerate(xs_list):\n",
    "    mean_x0 = np.mean(xs[0])\n",
    "    xs_unlist += xs[0]\n",
    "    mean_x1 = np.mean(xs[1])\n",
    "    xs_unlist += xs[1]\n",
    "    len_links = len(xs[0])\n",
    "    len_filt = len(xs[1])\n",
    "    lab_f_links += [label_links for _ in range(len_links)]\n",
    "    lab_f_links += [label_filtered for _ in range(len_filt)]\n",
    "    lab_dataset += [labels[i] for _ in range(len_links+len_filt)]"
   ]
  },
  {
   "cell_type": "code",
   "execution_count": 83,
   "id": "meaning-impact",
   "metadata": {},
   "outputs": [
    {
     "data": {
      "text/html": [
       "<div>\n",
       "<style scoped>\n",
       "    .dataframe tbody tr th:only-of-type {\n",
       "        vertical-align: middle;\n",
       "    }\n",
       "\n",
       "    .dataframe tbody tr th {\n",
       "        vertical-align: top;\n",
       "    }\n",
       "\n",
       "    .dataframe thead th {\n",
       "        text-align: right;\n",
       "    }\n",
       "</style>\n",
       "<table border=\"1\" class=\"dataframe\">\n",
       "  <thead>\n",
       "    <tr style=\"text-align: right;\">\n",
       "      <th></th>\n",
       "      <th>Data links</th>\n",
       "      <th>Filtered label</th>\n",
       "      <th>Dataset</th>\n",
       "    </tr>\n",
       "  </thead>\n",
       "  <tbody>\n",
       "    <tr>\n",
       "      <th>0</th>\n",
       "      <td>498</td>\n",
       "      <td>links</td>\n",
       "      <td>Crüsemann</td>\n",
       "    </tr>\n",
       "    <tr>\n",
       "      <th>1</th>\n",
       "      <td>498</td>\n",
       "      <td>links</td>\n",
       "      <td>Crüsemann</td>\n",
       "    </tr>\n",
       "    <tr>\n",
       "      <th>2</th>\n",
       "      <td>498</td>\n",
       "      <td>links</td>\n",
       "      <td>Crüsemann</td>\n",
       "    </tr>\n",
       "    <tr>\n",
       "      <th>3</th>\n",
       "      <td>498</td>\n",
       "      <td>links</td>\n",
       "      <td>Crüsemann</td>\n",
       "    </tr>\n",
       "    <tr>\n",
       "      <th>4</th>\n",
       "      <td>498</td>\n",
       "      <td>links</td>\n",
       "      <td>Crüsemann</td>\n",
       "    </tr>\n",
       "    <tr>\n",
       "      <th>...</th>\n",
       "      <td>...</td>\n",
       "      <td>...</td>\n",
       "      <td>...</td>\n",
       "    </tr>\n",
       "    <tr>\n",
       "      <th>4125</th>\n",
       "      <td>0</td>\n",
       "      <td>filtered links</td>\n",
       "      <td>MSV000084771</td>\n",
       "    </tr>\n",
       "    <tr>\n",
       "      <th>4126</th>\n",
       "      <td>9</td>\n",
       "      <td>filtered links</td>\n",
       "      <td>MSV000084771</td>\n",
       "    </tr>\n",
       "    <tr>\n",
       "      <th>4127</th>\n",
       "      <td>6</td>\n",
       "      <td>filtered links</td>\n",
       "      <td>MSV000084771</td>\n",
       "    </tr>\n",
       "    <tr>\n",
       "      <th>4128</th>\n",
       "      <td>0</td>\n",
       "      <td>filtered links</td>\n",
       "      <td>MSV000084771</td>\n",
       "    </tr>\n",
       "    <tr>\n",
       "      <th>4129</th>\n",
       "      <td>0</td>\n",
       "      <td>filtered links</td>\n",
       "      <td>MSV000084771</td>\n",
       "    </tr>\n",
       "  </tbody>\n",
       "</table>\n",
       "<p>4130 rows × 3 columns</p>\n",
       "</div>"
      ],
      "text/plain": [
       "      Data links  Filtered label       Dataset\n",
       "0            498           links     Crüsemann\n",
       "1            498           links     Crüsemann\n",
       "2            498           links     Crüsemann\n",
       "3            498           links     Crüsemann\n",
       "4            498           links     Crüsemann\n",
       "...          ...             ...           ...\n",
       "4125           0  filtered links  MSV000084771\n",
       "4126           9  filtered links  MSV000084771\n",
       "4127           6  filtered links  MSV000084771\n",
       "4128           0  filtered links  MSV000084771\n",
       "4129           0  filtered links  MSV000084771\n",
       "\n",
       "[4130 rows x 3 columns]"
      ]
     },
     "execution_count": 83,
     "metadata": {},
     "output_type": "execute_result"
    }
   ],
   "source": [
    "df = pd.DataFrame({'Data links': xs_unlist,\n",
    "                   'Filtered label': lab_f_links,\n",
    "                   'Dataset': lab_dataset})\n",
    "df"
   ]
  },
  {
   "cell_type": "code",
   "execution_count": 92,
   "id": "available-creek",
   "metadata": {},
   "outputs": [
    {
     "data": {
      "image/png": "[encoded data removed]",
      "text/plain": [
       "<Figure size 439.2x403.2 with 1 Axes>"
      ]
     },
     "metadata": {
      "needs_background": "light"
     },
     "output_type": "display_data"
    }
   ],
   "source": [
    "fig, ax = plt.subplots(nrows=1, ncols=1, figsize=(6.1, 5.6))\n",
    "sns.boxplot(x = 'Filtered label',\n",
    "            y = 'Data links',\n",
    "            data = df,\n",
    "            hue = 'Dataset',\n",
    "            palette = ['#003f5c', '#bc5090', '#ffa600'],\n",
    "            flierprops={\"markersize\": 1})\n",
    "figout = \"/home/louwe015/NPLinker/filtered_links_boxplot.svg\"\n",
    "plt.savefig(figout)"
   ]
  },
  {
   "cell_type": "code",
   "execution_count": 97,
   "id": "bearing-listing",
   "metadata": {},
   "outputs": [],
   "source": [
    "labels = ['Crüsemann']+datasets[1:]\n",
    "label_links = 'links'\n",
    "label_filtered = 'filtered links'\n",
    "lab_dataset = []\n",
    "lab_f_links = []\n",
    "xs_unlist = []\n",
    "for i, xs in enumerate(xs_list):\n",
    "    mean_xs = np.mean(xs[0]+xs[1])\n",
    "    xs_unlist += [x/mean_xs for x in xs[0]]\n",
    "    xs_unlist += [x/mean_xs for x in xs[1]]\n",
    "    len_links = len(xs[0])\n",
    "    len_filt = len(xs[1])\n",
    "    lab_f_links += [label_links for _ in range(len_links)]\n",
    "    lab_f_links += [label_filtered for _ in range(len_filt)]\n",
    "    lab_dataset += [labels[i] for _ in range(len_links+len_filt)]"
   ]
  },
  {
   "cell_type": "code",
   "execution_count": 98,
   "id": "excellent-definition",
   "metadata": {},
   "outputs": [
    {
     "data": {
      "text/html": [
       "<div>\n",
       "<style scoped>\n",
       "    .dataframe tbody tr th:only-of-type {\n",
       "        vertical-align: middle;\n",
       "    }\n",
       "\n",
       "    .dataframe tbody tr th {\n",
       "        vertical-align: top;\n",
       "    }\n",
       "\n",
       "    .dataframe thead th {\n",
       "        text-align: right;\n",
       "    }\n",
       "</style>\n",
       "<table border=\"1\" class=\"dataframe\">\n",
       "  <thead>\n",
       "    <tr style=\"text-align: right;\">\n",
       "      <th></th>\n",
       "      <th>Number of links per GCF</th>\n",
       "      <th>Filtered label</th>\n",
       "      <th>Dataset</th>\n",
       "    </tr>\n",
       "  </thead>\n",
       "  <tbody>\n",
       "    <tr>\n",
       "      <th>0</th>\n",
       "      <td>1.370300</td>\n",
       "      <td>links</td>\n",
       "      <td>Crüsemann</td>\n",
       "    </tr>\n",
       "    <tr>\n",
       "      <th>1</th>\n",
       "      <td>1.370300</td>\n",
       "      <td>links</td>\n",
       "      <td>Crüsemann</td>\n",
       "    </tr>\n",
       "    <tr>\n",
       "      <th>2</th>\n",
       "      <td>1.370300</td>\n",
       "      <td>links</td>\n",
       "      <td>Crüsemann</td>\n",
       "    </tr>\n",
       "    <tr>\n",
       "      <th>3</th>\n",
       "      <td>1.370300</td>\n",
       "      <td>links</td>\n",
       "      <td>Crüsemann</td>\n",
       "    </tr>\n",
       "    <tr>\n",
       "      <th>4</th>\n",
       "      <td>1.370300</td>\n",
       "      <td>links</td>\n",
       "      <td>Crüsemann</td>\n",
       "    </tr>\n",
       "    <tr>\n",
       "      <th>...</th>\n",
       "      <td>...</td>\n",
       "      <td>...</td>\n",
       "      <td>...</td>\n",
       "    </tr>\n",
       "    <tr>\n",
       "      <th>4125</th>\n",
       "      <td>0.000000</td>\n",
       "      <td>filtered links</td>\n",
       "      <td>MSV000084771</td>\n",
       "    </tr>\n",
       "    <tr>\n",
       "      <th>4126</th>\n",
       "      <td>0.066501</td>\n",
       "      <td>filtered links</td>\n",
       "      <td>MSV000084771</td>\n",
       "    </tr>\n",
       "    <tr>\n",
       "      <th>4127</th>\n",
       "      <td>0.044334</td>\n",
       "      <td>filtered links</td>\n",
       "      <td>MSV000084771</td>\n",
       "    </tr>\n",
       "    <tr>\n",
       "      <th>4128</th>\n",
       "      <td>0.000000</td>\n",
       "      <td>filtered links</td>\n",
       "      <td>MSV000084771</td>\n",
       "    </tr>\n",
       "    <tr>\n",
       "      <th>4129</th>\n",
       "      <td>0.000000</td>\n",
       "      <td>filtered links</td>\n",
       "      <td>MSV000084771</td>\n",
       "    </tr>\n",
       "  </tbody>\n",
       "</table>\n",
       "<p>4130 rows × 3 columns</p>\n",
       "</div>"
      ],
      "text/plain": [
       "      Number of links per GCF  Filtered label       Dataset\n",
       "0                    1.370300           links     Crüsemann\n",
       "1                    1.370300           links     Crüsemann\n",
       "2                    1.370300           links     Crüsemann\n",
       "3                    1.370300           links     Crüsemann\n",
       "4                    1.370300           links     Crüsemann\n",
       "...                       ...             ...           ...\n",
       "4125                 0.000000  filtered links  MSV000084771\n",
       "4126                 0.066501  filtered links  MSV000084771\n",
       "4127                 0.044334  filtered links  MSV000084771\n",
       "4128                 0.000000  filtered links  MSV000084771\n",
       "4129                 0.000000  filtered links  MSV000084771\n",
       "\n",
       "[4130 rows x 3 columns]"
      ]
     },
     "execution_count": 98,
     "metadata": {},
     "output_type": "execute_result"
    }
   ],
   "source": [
    "df_norm = pd.DataFrame({'Number of links per GCF': xs_unlist,\n",
    "                        'Filtered label': lab_f_links,\n",
    "                        'Dataset': lab_dataset})\n",
    "df_norm"
   ]
  },
  {
   "cell_type": "code",
   "execution_count": 105,
   "id": "medical-afternoon",
   "metadata": {},
   "outputs": [
    {
     "data": {
      "image/png": "[encoded data removed]",
      "text/plain": [
       "<Figure size 439.2x403.2 with 1 Axes>"
      ]
     },
     "metadata": {
      "needs_background": "light"
     },
     "output_type": "display_data"
    }
   ],
   "source": [
    "fig, ax = plt.subplots(nrows=1, ncols=1, figsize=(6.1, 5.6))\n",
    "ax = sns.boxplot(x = 'Filtered label',\n",
    "            y = 'Number of links per GCF',\n",
    "            data = df_norm,\n",
    "            hue = 'Dataset',\n",
    "            palette = ['#003f5c', '#bc5090', '#ffa600'],\n",
    "            flierprops={\"markersize\": 1})\n",
    "sns.despine()\n",
    "plt.setp(ax, ylim=(-.2,6), ylabel='Mean normalised links per GCF')\n",
    "figout = \"/home/louwe015/NPLinker/filtered_links_boxplot_normalised.svg\"\n",
    "plt.savefig(figout)"
   ]
  },
  {
   "cell_type": "code",
   "execution_count": 126,
   "id": "classified-execution",
   "metadata": {},
   "outputs": [
    {
     "data": {
      "text/plain": [
       "(3, 1581, 2065, 2065)"
      ]
     },
     "execution_count": 126,
     "metadata": {},
     "output_type": "execute_result"
    }
   ],
   "source": [
    "# take percentage wise difference between each GCF to show\n",
    "\n",
    "labels = ['Crüsemann']+datasets[1:]\n",
    "xs_diff = []\n",
    "xs_diff_unlist = []\n",
    "xs_diff_labels = []\n",
    "for i, xs in enumerate(xs_list):\n",
    "    fraction_diff = [x0 if x0 == 0 else (x1-x0)/x0*100 for x0, x1 in zip(*xs)]\n",
    "    xs_diff.append(fraction_diff)\n",
    "    xs_diff_unlist.extend(fraction_diff)\n",
    "    xs_diff_labels.extend([labels[i] for _ in range(len(fraction_diff))])\n",
    "len(xs_diff), len(xs_diff[0]), len(xs_diff_unlist), len(xs_diff_labels)"
   ]
  },
  {
   "cell_type": "code",
   "execution_count": null,
   "id": "entire-elizabeth",
   "metadata": {},
   "outputs": [],
   "source": [
    "# add total"
   ]
  },
  {
   "cell_type": "code",
   "execution_count": 127,
   "id": "expired-blowing",
   "metadata": {},
   "outputs": [
    {
     "data": {
      "text/html": [
       "<div>\n",
       "<style scoped>\n",
       "    .dataframe tbody tr th:only-of-type {\n",
       "        vertical-align: middle;\n",
       "    }\n",
       "\n",
       "    .dataframe tbody tr th {\n",
       "        vertical-align: top;\n",
       "    }\n",
       "\n",
       "    .dataframe thead th {\n",
       "        text-align: right;\n",
       "    }\n",
       "</style>\n",
       "<table border=\"1\" class=\"dataframe\">\n",
       "  <thead>\n",
       "    <tr style=\"text-align: right;\">\n",
       "      <th></th>\n",
       "      <th>links</th>\n",
       "      <th>Dataset</th>\n",
       "    </tr>\n",
       "  </thead>\n",
       "  <tbody>\n",
       "    <tr>\n",
       "      <th>0</th>\n",
       "      <td>-63.855422</td>\n",
       "      <td>Crüsemann</td>\n",
       "    </tr>\n",
       "    <tr>\n",
       "      <th>1</th>\n",
       "      <td>-29.718876</td>\n",
       "      <td>Crüsemann</td>\n",
       "    </tr>\n",
       "    <tr>\n",
       "      <th>2</th>\n",
       "      <td>-63.855422</td>\n",
       "      <td>Crüsemann</td>\n",
       "    </tr>\n",
       "    <tr>\n",
       "      <th>3</th>\n",
       "      <td>-63.855422</td>\n",
       "      <td>Crüsemann</td>\n",
       "    </tr>\n",
       "    <tr>\n",
       "      <th>4</th>\n",
       "      <td>-63.855422</td>\n",
       "      <td>Crüsemann</td>\n",
       "    </tr>\n",
       "    <tr>\n",
       "      <th>...</th>\n",
       "      <td>...</td>\n",
       "      <td>...</td>\n",
       "    </tr>\n",
       "    <tr>\n",
       "      <th>2060</th>\n",
       "      <td>-100.000000</td>\n",
       "      <td>MSV000084771</td>\n",
       "    </tr>\n",
       "    <tr>\n",
       "      <th>2061</th>\n",
       "      <td>-93.918919</td>\n",
       "      <td>MSV000084771</td>\n",
       "    </tr>\n",
       "    <tr>\n",
       "      <th>2062</th>\n",
       "      <td>-95.555556</td>\n",
       "      <td>MSV000084771</td>\n",
       "    </tr>\n",
       "    <tr>\n",
       "      <th>2063</th>\n",
       "      <td>0.000000</td>\n",
       "      <td>MSV000084771</td>\n",
       "    </tr>\n",
       "    <tr>\n",
       "      <th>2064</th>\n",
       "      <td>0.000000</td>\n",
       "      <td>MSV000084771</td>\n",
       "    </tr>\n",
       "  </tbody>\n",
       "</table>\n",
       "<p>2065 rows × 2 columns</p>\n",
       "</div>"
      ],
      "text/plain": [
       "           links       Dataset\n",
       "0     -63.855422     Crüsemann\n",
       "1     -29.718876     Crüsemann\n",
       "2     -63.855422     Crüsemann\n",
       "3     -63.855422     Crüsemann\n",
       "4     -63.855422     Crüsemann\n",
       "...          ...           ...\n",
       "2060 -100.000000  MSV000084771\n",
       "2061  -93.918919  MSV000084771\n",
       "2062  -95.555556  MSV000084771\n",
       "2063    0.000000  MSV000084771\n",
       "2064    0.000000  MSV000084771\n",
       "\n",
       "[2065 rows x 2 columns]"
      ]
     },
     "execution_count": 127,
     "metadata": {},
     "output_type": "execute_result"
    }
   ],
   "source": [
    "df_diff = pd.DataFrame({'links': xs_diff_unlist,\n",
    "                        'Dataset': xs_diff_labels})\n",
    "df_diff"
   ]
  },
  {
   "cell_type": "code",
   "execution_count": 130,
   "id": "northern-trout",
   "metadata": {},
   "outputs": [
    {
     "data": {
      "image/png": "[encoded data removed]",
      "text/plain": [
       "<Figure size 439.2x403.2 with 1 Axes>"
      ]
     },
     "metadata": {
      "needs_background": "light"
     },
     "output_type": "display_data"
    }
   ],
   "source": [
    "fig, ax = plt.subplots(nrows=1, ncols=1, figsize=(6.1, 5.6))\n",
    "x = 0.8\n",
    "ax = sns.boxplot(x = 'Dataset',\n",
    "            y = 'links',\n",
    "            data = df_diff,\n",
    "            palette = ['#003f5c', '#bc5090', '#ffa600'],\n",
    "            showmeans=True,\n",
    "            flierprops={\"markersize\": x},\n",
    "            boxprops={\"edgecolor\": \"black\", \"linewidth\": x},\n",
    "            medianprops={\"color\": \"black\", \"linewidth\": x},\n",
    "            whiskerprops={\"color\": \"black\", \"linewidth\": x},\n",
    "            capprops={\"color\": \"black\", \"linewidth\": x})\n",
    "plt.xticks(rotation=30, horizontalalignment=\"right\")\n",
    "sns.despine()\n",
    "plt.setp(ax, ylabel='% Change in candidate links per GCF')\n",
    "figout = \"/home/louwe015/NPLinker/filtered_links_boxplot_differences.svg\"\n",
    "plt.savefig(figout)"
   ]
  }
 ],
 "metadata": {
  "kernelspec": {
   "display_name": "Python 3",
   "language": "python",
   "name": "python3"
  },
  "language_info": {
   "codemirror_mode": {
    "name": "ipython",
    "version": 3
   },
   "file_extension": ".py",
   "mimetype": "text/x-python",
   "name": "python",
   "nbconvert_exporter": "python",
   "pygments_lexer": "ipython3",
   "version": "3.7.2"
  }
 },
 "nbformat": 4,
 "nbformat_minor": 5
}
