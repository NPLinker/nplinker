{
 "cells": [
  {
   "cell_type": "markdown",
   "id": "laughing-pollution",
   "metadata": {},
   "source": [
    "# Summary\n",
    "In this notebook the strain mappings file for the data from Crüsemann et al. 2017, named Crusemann dataset, is created.\n",
    "\n",
    "1. Merge strain_mapping files from PoDP of projects MSV000078836 MSV000078839 MSV000079284. NPLinker (through docker) was run on these three accessions. AS3 output files for all strains and AS6 output for most strains are also provided to include in the merged strain mappings file."
   ]
  },
  {
   "cell_type": "markdown",
   "id": "printable-talent",
   "metadata": {},
   "source": [
    "## 1. Getting correct strain mappings file\n",
    "- Merge the three accessions' strain_mappings.csv\n",
    "- Sorting out AS files, with merged AS6 and AS3 output\n",
    "- Writing out a bash file with all the files to be copied"
   ]
  },
  {
   "cell_type": "code",
   "execution_count": 28,
   "id": "fixed-fetish",
   "metadata": {},
   "outputs": [],
   "source": [
    "import os\n",
    "import sys\n",
    "import glob\n",
    "sys.path.append('../../prototype')\n",
    "from nplinker.nplinker import NPLinker"
   ]
  },
  {
   "cell_type": "code",
   "execution_count": 197,
   "id": "friendly-coordinator",
   "metadata": {},
   "outputs": [
    {
     "data": {
      "text/plain": [
       "True"
      ]
     },
     "execution_count": 197,
     "metadata": {},
     "output_type": "execute_result"
    }
   ],
   "source": [
    "new_data_path = \"/mnt/scratch/louwe015/NPLinker/own/nplinker_shared/crusemann_3ids_AS6-AS3_30-11/\"\n",
    "os.path.isdir(new_data_path)"
   ]
  },
  {
   "cell_type": "markdown",
   "id": "juvenile-offering",
   "metadata": {},
   "source": [
    "### Merge strain mappings from the three accessions"
   ]
  },
  {
   "cell_type": "code",
   "execution_count": 180,
   "id": "interracial-viking",
   "metadata": {},
   "outputs": [
    {
     "data": {
      "text/plain": [
       "['/mnt/scratch/louwe015/NPLinker/own/nplinker_shared/nplinker_data/pairedomics/extracted/MSV000078836/strain_mappings.csv',\n",
       " '/mnt/scratch/louwe015/NPLinker/own/nplinker_shared/nplinker_data/pairedomics/extracted/MSV000078839/strain_mappings.csv',\n",
       " '/mnt/scratch/louwe015/NPLinker/own/nplinker_shared/nplinker_data/pairedomics/extracted/MSV000079284/strain_mappings.csv']"
      ]
     },
     "execution_count": 180,
     "metadata": {},
     "output_type": "execute_result"
    }
   ],
   "source": [
    "## Merging 3 PoDP strain mappings files\n",
    "podp_data_dummy = \"/mnt/scratch/louwe015/NPLinker/own/nplinker_shared/nplinker_data/pairedomics/extracted/{}/strain_mappings.csv\"\n",
    "names = [\"MSV000078836\", \"MSV000078839\", \"MSV000079284\"]\n",
    "str_map_files = []\n",
    "for name in names:\n",
    "    str_map_files.append(podp_data_dummy.format(name))\n",
    "str_map_files"
   ]
  },
  {
   "cell_type": "code",
   "execution_count": 279,
   "id": "differential-chaos",
   "metadata": {
    "scrolled": true
   },
   "outputs": [
    {
     "data": {
      "text/plain": [
       "(3,\n",
       " ('Salinispora arenicola CNT005',\n",
       "  ['NZ_AZWU01000030',\n",
       "   'NZ_AZWU01000054',\n",
       "   'NZ_AZWU01000052',\n",
       "   'NZ_AZWU01000039',\n",
       "   'NZ_KI911492',\n",
       "   'NZ_AZWU01000029',\n",
       "   'NZ_AZWU01000023',\n",
       "   'NZ_KI911494',\n",
       "   'NZ_AZWU01000018',\n",
       "   'T005-3-Me.mzXML',\n",
       "   'NZ_AZWU01000045',\n",
       "   'NZ_AZWU01000031',\n",
       "   'NZ_KI911493',\n",
       "   'T005-3-Bu.mzXML',\n",
       "   'NZ_AZWU01000036',\n",
       "   'NZ_AZWU01000038',\n",
       "   'NZ_AZWU01000021',\n",
       "   'GCF_000514895',\n",
       "   'GCA_000514895',\n",
       "   'GCF_000514895.1',\n",
       "   'NZ_AZWU01000007',\n",
       "   'NZ_AZWU01000019',\n",
       "   'NZ_AZWU01000064',\n",
       "   'NZ_AZWU01000020',\n",
       "   'NZ_AZWU01000017',\n",
       "   'NZ_AZWU01000047',\n",
       "   'T005-3-EA.mzXML',\n",
       "   'NZ_AZWU01000046',\n",
       "   'NZ_AZWU01000022',\n",
       "   'NZ_KI911490',\n",
       "   'NZ_AZWU01000037']))"
      ]
     },
     "execution_count": 279,
     "metadata": {},
     "output_type": "execute_result"
    }
   ],
   "source": [
    "read_strain_mappings = []\n",
    "for str_map_file in str_map_files:\n",
    "    str_map = {}\n",
    "    with open(str_map_file) as inf:\n",
    "        for line in inf:\n",
    "            line = line.strip().split(',')\n",
    "            add_mappings = line[1:]\n",
    "            str_mappings = []\n",
    "            # make sure both GCA and GCF end up in the mappings as I don't know which is used for AS6\n",
    "            for str_mapping in add_mappings:\n",
    "                str_mappings.append(str_mapping)\n",
    "                if str_mapping.startswith(\"GCA_\"):\n",
    "                    genbank_refseq = (\"GCF\" + str_mapping[3:]).split(\".\")[0]\n",
    "                    if genbank_refseq not in str_mappings:\n",
    "                        str_mappings.append(genbank_refseq)\n",
    "                if str_mapping.startswith(\"GCF_\"):\n",
    "                    genbank_refseq = (\"GCA\" + str_mapping[3:]).split(\".\")[0]\n",
    "                    if genbank_refseq not in str_mappings:\n",
    "                        str_mappings.append(genbank_refseq)\n",
    "            str_map[line[0]] = str_mappings\n",
    "    read_strain_mappings.append(str_map)\n",
    "len(read_strain_mappings), list(read_strain_mappings[0].items())[0]"
   ]
  },
  {
   "cell_type": "markdown",
   "id": "judicial-victory",
   "metadata": {},
   "source": [
    "### Merge AS3 files to strains mapping\n",
    "- file originating from Crusemann study/MolNetEnhancer study of this data"
   ]
  },
  {
   "cell_type": "code",
   "execution_count": 282,
   "id": "variable-reverse",
   "metadata": {},
   "outputs": [
    {
     "name": "stdout",
     "output_type": "stream",
     "text": [
      "True\n",
      "[('CNT148', ['AZWJ01000000']), ('CNY280', ['ARHH01000000']), ('CNB440', ['GCA_000016425', 'GCF_000016425']), ('CNT084', ['AZWA01000000']), ('CNH898', ['AZXH01000000']), ('CNB091', ['ARJI01000000']), ('CNR107', ['ARKT01000000']), ('CNY202', ['AXVR01000001']), ('CNT796', ['AZWM01000000']), ('CNY230', ['35133'])]\n"
     ]
    }
   ],
   "source": [
    "# file contains AS3_id,strain_id -> dict(strain_id: AS3_id)\n",
    "as3_mappings_file = os.path.join(new_data_path, \"strain_ids_as3.csv\")\n",
    "print(os.path.isfile(as3_mappings_file))\n",
    "as3_mappings = {}\n",
    "with open(as3_mappings_file) as inf:\n",
    "    for line in inf:\n",
    "        line = line.strip()\n",
    "        if line:\n",
    "            line = line.split(\",\")\n",
    "            add_mappings = [line[0]]\n",
    "            str_mappings = []\n",
    "            # make sure both GCA and GCF end up in the mappings as I don't know which is used for AS6\n",
    "            for str_mapping in add_mappings:\n",
    "                str_mappings.append(str_mapping)\n",
    "                if str_mapping.startswith(\"GCA_\"):\n",
    "                    genbank_refseq = (\"GCF\" + str_mapping[3:]).split(\".\")[0]\n",
    "                    if genbank_refseq not in str_mappings:\n",
    "                        str_mappings.append(genbank_refseq)\n",
    "                if str_mapping.startswith(\"GCF_\"):\n",
    "                    genbank_refseq = (\"GCA\" + str_mapping[3:]).split(\".\")[0]\n",
    "                    if genbank_refseq not in str_mappings:\n",
    "                        str_mappings.append(genbank_refseq)\n",
    "            as3_mappings[line[1]] = str_mappings\n",
    "print(list(as3_mappings.items())[:10])"
   ]
  },
  {
   "cell_type": "code",
   "execution_count": 283,
   "id": "prime-aspect",
   "metadata": {},
   "outputs": [
    {
     "name": "stdout",
     "output_type": "stream",
     "text": [
      "Adding new strain mappings\n",
      "Adding new strain mappings\n",
      "Adding new strain mappings\n",
      " mapped inpartial strain names: Salinispora pacifica CNT148 CNT148\n",
      " mapped inpartial strain names: Salinispora arenicola CNY280 CNY280\n",
      " mapped inpartial strain names: Salinispora tropica CNB440 CNB440\n",
      " mapped inpartial strain names: Salinispora pacifica CNT084 CNT084\n",
      " mapped inpartial strain names: Salinispora tropica CNH898 CNH898\n",
      " mapped inpartial strain names: Streptomyces sp. CNB091 CNB091\n",
      " mapped inpartial strain names: Salinispora arenicola CNR107 CNR107\n",
      " mapped inpartial strain names: Salinispora pacifica CNY202 CNY202\n",
      " mapped inpartial strain names: Salinispora pacifica CNT796 CNT796\n",
      " mapped inpartial strain names: Salinispora arenicola CNY230 CNY230\n",
      " mapped inpartial strain names: Salinispora pacifica CNT584 CNT584\n",
      " mapped inpartial strain names: Salinispora tropica CNY012 CNY012\n",
      " mapped inpartial strain names: Salinispora arenicola CNH964 CNH964\n",
      " mapped inpartial strain names: Salinispora pacifica CNT131 CNT131\n",
      " mapped inpartial strain names: Salinispora pacifica CNQ768 CNQ768\n",
      " mapped inpartial strain names: Streptomyces sp. CNY228 CNY228\n",
      " mapped inpartial strain names: Streptomyces sp. CNT360 CNT360\n",
      " mapped inpartial strain names: Salinispora arenicola CNR425 CNR425\n",
      " mapped inpartial strain names: Salinispora arenicola CNS848 CNS848\n",
      " mapped inpartial strain names: Streptomyces sp. CNT302 CNT302\n",
      " mapped inpartial strain names: Salinispora arenicola CNR921 CNR921\n",
      " mapped inpartial strain names: Salinispora pacifica CNS143 CNS143\n",
      " mapped inpartial strain names: Streptomyces sp. CNP082 CNP082\n",
      " mapped inpartial strain names: Salinispora arenicola CNH905 CNH905\n",
      " mapped inpartial strain names: Salinispora arenicola CNY685 CNY685\n",
      " mapped inpartial strain names: Salinispora arenicola CNS051 CNS051\n",
      " mapped inpartial strain names: Salinispora arenicola CNH963 CNH963\n",
      " mapped inpartial strain names: Salinispora pacifica CNT003 CNT003\n",
      " mapped inpartial strain names: Salinispora arenicola CNT799 CNT799\n",
      " mapped inpartial strain names: Salinispora pacifica CNY331 CNY331\n",
      " mapped inpartial strain names: Salinispora arenicola CNT798 CNT798\n",
      " mapped inpartial strain names: Salinispora arenicola CNH877 CNH877\n",
      " mapped inpartial strain names: Salinispora pacifica CNY498 CNY498\n",
      " mapped inpartial strain names: Salinispora pacifica CNS055 CNS055\n",
      " mapped inpartial strain names: Salinispora arenicola CNX481 CNX481\n",
      " mapped inpartial strain names: Salinispora arenicola CNT859 CNT859\n",
      " mapped inpartial strain names: Salinispora arenicola CNS205 CNS205\n",
      " mapped inpartial strain names: Salinispora tropica CNT261 CNT261\n",
      " mapped inpartial strain names: Streptomyces sp. CNH287 CNH287\n",
      " mapped inpartial strain names: Streptomyces sp. CNS335 CNS335\n",
      " mapped inpartial strain names: Salinispora arenicola CNB527 CNB527\n",
      " mapped inpartial strain names: Salinispora pacifica CNT150 CNT150\n",
      " mapped inpartial strain names: Salinispora tropica CNT250 CNT250\n",
      " mapped inpartial strain names: Salinispora arenicola CNS673 CNS673\n",
      " mapped inpartial strain names: Salinispora pacifica CNT045 CNT045\n",
      " mapped inpartial strain names: Salinispora arenicola CNX814 CNX814\n",
      " mapped inpartial strain names: Salinispora pacifica CNS960 CNS960\n",
      " mapped inpartial strain names: Streptomyces sp. TAA204 TAA204\n",
      " mapped inpartial strain names: Salinispora arenicola CNY679 CNY679\n",
      " mapped inpartial strain names: Streptomyces sp. CNQ525 CNQ525\n",
      " mapped inpartial strain names: Salinispora pacifica CNS996 CNS996\n",
      " mapped inpartial strain names: Salinispora arenicola CNY694 CNY694\n",
      " mapped inpartial strain names: Streptomyces sp. CNS654 CNS654\n",
      " mapped inpartial strain names: Salinispora arenicola CNP193 CNP193\n",
      " mapped inpartial strain names: Salinispora arenicola CNT800 CNT800\n",
      " mapped inpartial strain names: Salinispora pacifica CNY363 CNY363\n",
      " mapped inpartial strain names: Salinispora arenicola CNH996 CNH996\n",
      " mapped inpartial strain names: Salinispora pacifica CNT138 CNT138\n",
      " mapped inpartial strain names: Salinispora pacifica CNS863 CNS863\n",
      " mapped inpartial strain names: Streptomyces sp. CNS606 CNS606\n",
      " mapped inpartial strain names: Salinispora pacifica CNR114 CNR114\n",
      " mapped inpartial strain names: Streptomyces sp. CNT318 CNT318\n",
      " mapped inpartial strain names: Streptomyces sp. CNS615 CNS615\n",
      " mapped inpartial strain names: Salinispora pacifica CNT855 CNT855\n",
      " mapped inpartial strain names: Salinispora pacifica CNR894 CNR894\n",
      " mapped inpartial strain names: Salinispora pacifica CNH732 CNH732\n",
      " mapped inpartial strain names: Salinispora arenicola CNH713 CNH713\n",
      " mapped inpartial strain names: Salinispora pacifica CNT029 CNT029\n",
      " mapped inpartial strain names: Salinispora pacifica CNT851 CNT851\n",
      " mapped inpartial strain names: Salinispora arenicola CNH962 CNH962\n",
      " mapped inpartial strain names: Salinispora arenicola CNY011 CNY011\n",
      " mapped inpartial strain names: Salinispora arenicola CNH718 CNH718\n",
      " mapped inpartial strain names: Salinispora arenicola CNY281 CNY281\n",
      " mapped inpartial strain names: Salinispora tropica CNY681 CNY681\n",
      " mapped inpartial strain names: Salinispora tropica CNY678 CNY678\n",
      " mapped inpartial strain names: Salinispora arenicola CNY486 CNY486\n",
      " mapped inpartial strain names: Salinispora arenicola CNH646 CNH646\n",
      " mapped inpartial strain names: Salinispora arenicola CNY244 CNY244\n",
      " mapped inpartial strain names: Salinispora arenicola CNY690 CNY690\n",
      " mapped inpartial strain names: Salinispora pacifica CNR942 CNR942\n",
      " mapped inpartial strain names: Streptomyces sp. CNQ766 CNQ766\n",
      " mapped inpartial strain names: Streptomyces sp. CNT371 CNT371\n",
      " mapped inpartial strain names: Salinispora pacifica CNY330 CNY330\n",
      " mapped inpartial strain names: Salinispora arenicola CNT849 CNT849\n",
      " mapped inpartial strain names: Salinispora pacifica CNS860 CNS860\n",
      " mapped inpartial strain names: Salinispora pacifica CNT403 CNT403\n",
      " mapped inpartial strain names: Salinispora arenicola CNH643 CNH643\n",
      " mapped inpartial strain names: Salinispora pacifica CNS801 CNS801\n",
      " mapped inpartial strain names: Salinispora arenicola CNQ884 CNQ884\n",
      " mapped inpartial strain names: Salinispora pacifica CNR909 CNR909\n",
      " mapped inpartial strain names: Salinispora pacifica CNR510 CNR510\n",
      " mapped inpartial strain names: Salinispora arenicola CNS325 CNS325\n",
      " mapped inpartial strain names: Salinispora arenicola CNX891 CNX891\n",
      " mapped inpartial strain names: Salinispora tropica CNB536 CNB536\n",
      " mapped inpartial strain names: Salinispora arenicola CNS342 CNS342\n",
      " mapped inpartial strain names: Salinispora arenicola CNY282 CNY282\n",
      " mapped inpartial strain names: Salinispora pacifica CNY666 CNY666\n",
      " mapped inpartial strain names: Streptomyces sp. CNY243 CNY243\n",
      " mapped inpartial strain names: Salinispora arenicola CNS991 CNS991\n",
      " mapped inpartial strain names: Salinispora arenicola CNY237 CNY237\n",
      " mapped inpartial strain names: Salinispora arenicola CNS299 CNS299\n",
      " mapped inpartial strain names: Streptomyces sp. CNT372 CNT372\n",
      " mapped inpartial strain names: Streptomyces sp. TAA486 TAA486\n",
      " mapped inpartial strain names: Salinispora tropica CNS197 CNS197\n",
      " mapped inpartial strain names: Salinispora pacifica CNS103 CNS103\n",
      " mapped inpartial strain names: Salinispora pacifica CNT124 CNT124\n",
      " mapped inpartial strain names: Salinispora tropica CNS416 CNS416\n",
      " mapped inpartial strain names: Salinispora arenicola CNQ748 CNQ748\n",
      " mapped inpartial strain names: Streptomyces sp. CNQ865 CNQ865\n",
      " mapped inpartial strain names: Salinispora arenicola CNX508 CNX508\n",
      " mapped inpartial strain names: Salinispora pacifica CNT569 CNT569\n",
      " mapped inpartial strain names: Salinispora arenicola CNS744 CNS744\n",
      " mapped inpartial strain names: Salinispora arenicola CNB458 CNB458\n",
      " mapped inpartial strain names: Salinispora arenicola CNY256 CNY256\n",
      " mapped inpartial strain names: Streptomyces sp. CNQ329 CNQ329\n",
      " mapped inpartial strain names: Salinispora tropica CNB476 CNB476\n",
      " mapped inpartial strain names: Salinispora pacifica CNY703 CNY703\n",
      " mapped inpartial strain names: Streptomyces sp. CNH189 CNH189\n",
      " mapped inpartial strain names: Salinispora arenicola CNS243 CNS243\n",
      " mapped inpartial strain names: Salinispora arenicola CNT088 CNT088\n",
      " mapped inpartial strain names: Salinispora arenicola CNX482 CNX482\n",
      " mapped inpartial strain names: Salinispora pacifica CNS237 CNS237\n",
      " mapped inpartial strain names: Salinispora pacifica CNT001 CNT001\n",
      " mapped inpartial strain names: Salinispora arenicola CNT850 CNT850\n",
      " mapped inpartial strain names: Salinispora arenicola CNH941 CNH941\n",
      " mapped inpartial strain names: Salinispora arenicola CNS296 CNS296\n",
      " mapped inpartial strain names: Salinispora arenicola CNS820 CNS820\n",
      " mapped inpartial strain names: Salinispora pacifica CNT609 CNT609\n",
      " mapped inpartial strain names: Salinispora arenicola CNY260 CNY260\n",
      " mapped inpartial strain names: Salinispora tropica CNR699 CNR699\n",
      " mapped inpartial strain names: Salinispora arenicola CNP105 CNP105\n",
      " mapped inpartial strain names: Salinispora pacifica CNY239 CNY239\n",
      " mapped inpartial strain names: Salinispora pacifica CNT854 CNT854\n",
      " mapped inpartial strain names: Salinispora pacifica CNT133 CNT133\n",
      " mapped inpartial strain names: Streptomyces sp. CNX435 CNX435\n",
      " mapped inpartial strain names: Streptomyces sp. TAA040 TAA040\n",
      " mapped inpartial strain names: Streptomyces sp. CNH099 CNH099\n",
      " mapped inpartial strain names: Salinispora arenicola CNY231 CNY231\n",
      " mapped inpartial strain names: Salinispora arenicola CNT005 CNT005\n",
      " mapped inpartial strain names: Salinispora pacifica CNY646 CNY646\n",
      " mapped inpartial strain names: Salinispora arenicola CNT857 CNT857\n",
      " mapped inpartial strain names: Salinispora arenicola CNY234 CNY234\n",
      " mapped inpartial strain names: Streptomyces sp. CNR698 CNR698\n",
      " mapped inpartial strain names: Salinispora pacifica CNT603 CNT603\n",
      "159\n"
     ]
    }
   ],
   "source": [
    "# take first strain mapping as ref and add the others\n",
    "from copy import deepcopy\n",
    "ref_map = deepcopy(read_strain_mappings[0])\n",
    "read_strain_mappings.append(as3_mappings)\n",
    "\n",
    "for add_map in read_strain_mappings[1:]:\n",
    "    print(\"Adding new strain mappings\")\n",
    "    for ori_strain, mapping in add_map.items():\n",
    "        strain = ori_strain\n",
    "        ref_mapping = ref_map.get(strain, None)\n",
    "        if not ref_mapping:\n",
    "            # only strain name present in add_map\n",
    "            full_strain = [ref_strain for ref_strain in ref_map if ref_strain.endswith(strain)]\n",
    "            if full_strain:\n",
    "                strain = full_strain[0]\n",
    "                ref_mapping = ref_map.get(strain, None)\n",
    "                print(\" mapped inpartial strain names:\", strain, ori_strain)\n",
    "        if not ref_mapping:\n",
    "            # only strain name present in ref_map\n",
    "            partial_strain = [ref_strain for ref_strain in ref_map if strain.endswith(ref_strain)]\n",
    "            if partial_strain:\n",
    "                strain = partial_strain[0]\n",
    "                ref_mapping = ref_map.get(strain, None)\n",
    "                print(\" mapped inpartial strain names:\", strain, ori_strain)\n",
    "\n",
    "        # sure that add_map strain not in ref_map: add to ref_map or merge when ref_mapping exists\n",
    "        if ref_mapping:\n",
    "            # merge add_map in ref_map\n",
    "            for map_elem in mapping:\n",
    "                if map_elem not in ref_mapping:\n",
    "                    ref_mapping.append(map_elem)\n",
    "            ref_map[strain] = ref_mapping\n",
    "        else:\n",
    "            # add add_map in ref_map\n",
    "            ref_map[strain] = mapping\n",
    "print(len(ref_map))"
   ]
  },
  {
   "cell_type": "markdown",
   "id": "behind-bobby",
   "metadata": {},
   "source": [
    "## Sort out new (as6) or old (as3) files to antismash folder\n",
    "- I ran AS6 on the RefSeq/GenBank entries in the strain mappings files of the three accessions\n",
    "- I already had AS3 output for all strains in these accessions - linked through strain_ids_as3.csv\n",
    "- Alternatively, use the AS-db output as automatically downloaded by NPLinker\n",
    "- First figure out if there are AS6 runs on additional refseq/genbank accessions that are not yet in the strain mappings file\n",
    "- New antismash results for any of the strains with RefSeq/GenBank can also be easily added now by just adding an assembly to the AS6 folder and maybe rescuing it to the correct strain mapping."
   ]
  },
  {
   "cell_type": "code",
   "execution_count": 284,
   "id": "comparative-template",
   "metadata": {},
   "outputs": [
    {
     "name": "stdout",
     "output_type": "stream",
     "text": [
      "True True\n"
     ]
    }
   ],
   "source": [
    "as6_loc = os.path.join(new_data_path, \"AS6_assemblies_MSV000078836_MSV000078839_MSV000079284\")\n",
    "as6_dirs = glob.glob(os.path.join(as6_loc, \"*\"))\n",
    "\n",
    "as3_dir = os.path.join(new_data_path, \"as3_files\")\n",
    "as3_files = glob.glob(os.path.join(as3_dir, \"*.gbk\"))\n",
    "\n",
    "print(os.path.isdir(as6_loc), os.path.isdir(as3_dir))\n",
    "\n",
    "\n",
    "antismash_dir = os.path.join(new_data_path, \"antismash\")\n",
    "if not os.path.isdir(antismash_dir):\n",
    "    os.mkdir(antismash_dir)"
   ]
  },
  {
   "cell_type": "markdown",
   "id": "killing-warning",
   "metadata": {},
   "source": [
    "### Are there any RefSeq/GenBank accessions in AS folder that are not in strain mappings yet?\n"
   ]
  },
  {
   "cell_type": "code",
   "execution_count": 285,
   "id": "dressed-while",
   "metadata": {},
   "outputs": [
    {
     "name": "stdout",
     "output_type": "stream",
     "text": [
      "170\n"
     ]
    },
    {
     "data": {
      "text/plain": [
       "20"
      ]
     },
     "execution_count": 285,
     "metadata": {},
     "output_type": "execute_result"
    }
   ],
   "source": [
    "# Are there any RefSeq/GenBank accessions in AS folder that are not in strain mappings yet?\n",
    "accs = []\n",
    "for vals in ref_map.values():\n",
    "    for val in vals:\n",
    "        if val.startswith(\"GCF_\") or val.startswith(\"GCA_\"):\n",
    "            split_val = \"GCF\" + val.split(\".1\")[0][3:]\n",
    "            if split_val not in accs:\n",
    "                accs.append(split_val)\n",
    "                accs.append(\"GCA\" + split_val[3:])\n",
    "print(len(accs))  # double as both GCA and GCF\n",
    "passed = []\n",
    "for acc in accs:\n",
    "    passed_as6_dir = [as6_dir for as6_dir in as6_dirs if acc in as6_dir]\n",
    "    if passed_as6_dir:\n",
    "        passed.append(passed_as6_dir[0])\n",
    "not_passed = [as6_dir for as6_dir in as6_dirs if as6_dir not in passed]\n",
    "len(not_passed)"
   ]
  },
  {
   "cell_type": "markdown",
   "id": "behavioral-fiction",
   "metadata": {},
   "source": [
    "### Look in those 20 AS outputs to see which organism they are"
   ]
  },
  {
   "cell_type": "code",
   "execution_count": 286,
   "id": "charged-oracle",
   "metadata": {},
   "outputs": [],
   "source": [
    "# read strain names from 20 AS outputs\n",
    "# as6_file_dict = {}\n",
    "as6_dir_strain_dict = {}\n",
    "for as6_dir in as6_dirs:\n",
    "    gbk_name = os.path.split(as6_dir)[1] + \".gbk\"\n",
    "    main_gbk = os.path.join(as6_dir, gbk_name)\n",
    "    org_names = []\n",
    "    with open(main_gbk) as inf:\n",
    "        for x in range(500):\n",
    "            line = inf.readline().strip()\n",
    "            # get source and organism\n",
    "            if line.startswith(\"SOURCE\") or line.startswith(\"ORGANISM\"):\n",
    "                org_name = line.partition(\" \")[-1].strip()\n",
    "                if org_name not in org_names:\n",
    "                    org_names.append(org_name)\n",
    "    as6_dir_strain_dict[as6_dir] = org_names\n",
    "#     for org_name in org_names:\n",
    "#         as6_file_dict[org_name] = gbk_name"
   ]
  },
  {
   "cell_type": "code",
   "execution_count": 287,
   "id": "tested-massachusetts",
   "metadata": {},
   "outputs": [
    {
     "name": "stdout",
     "output_type": "stream",
     "text": [
      "20 0\n"
     ]
    }
   ],
   "source": [
    "fails = 0\n",
    "added = 0\n",
    "for as6_dir in not_passed:\n",
    "    strain_name = as6_dir_strain_dict[as6_dir][0]  # I know they're all len(1)\n",
    "    strain_name_mapping = ref_map.get(strain_name)\n",
    "    \n",
    "    # manually rescue\n",
    "    if strain_name == \"Streptomyces himastatinicus ATCC 53653\":\n",
    "        strain_name = \"Streptomyces hygroscopicus\"\n",
    "        strain_name_mapping = ref_map.get(strain_name)\n",
    "    elif strain_name == \"Streptomyces afghaniensis 772\":\n",
    "        strain_name = \"Streptomyces afghanensis\"\n",
    "        strain_name_mapping = ref_map.get(strain_name)\n",
    "    elif strain_name == \"Streptomyces filamentosus NRRL 11379\":\n",
    "        strain_name = \"Streptomyces roseosporus\"\n",
    "        strain_name_mapping = ref_map.get(strain_name)\n",
    "    \n",
    "    # rescue by chopping off info not in strain_mappings\n",
    "    if not strain_name_mapping:\n",
    "        strain_name = \" \".join(as6_dir_strain_dict[as6_dir][0].split(\" \")[:2])\n",
    "        strain_name_mapping = ref_map.get(strain_name)\n",
    "    if not strain_name_mapping:\n",
    "        strain_name = \" \".join(as6_dir_strain_dict[as6_dir][0].split(\" \")[:3])\n",
    "        strain_name_mapping = ref_map.get(strain_name)\n",
    "    \n",
    "    # when success\n",
    "    if strain_name_mapping:\n",
    "        added += 1\n",
    "        assert ref_map.get(strain_name), \"Something weird with strain_name\"\n",
    "        refseq_genbank = os.path.split(as6_dir)[1][:13]\n",
    "        if not refseq_genbank in strain_name_mapping:\n",
    "            strain_name_mapping.append(refseq_genbank)\n",
    "#         print(ref_map.get(strain_name))\n",
    "#         print(\"success\", as6_dir, strain_name, refseq_genbank)\n",
    "        pass\n",
    "    else:\n",
    "        fails += 1\n",
    "        print(\"failure\", as6_dir, strain_name, as6_dir_strain_dict[as6_dir])\n",
    "print(added, fails)"
   ]
  },
  {
   "cell_type": "markdown",
   "id": "organized-regulation",
   "metadata": {},
   "source": [
    "### Add all the regions from the GCF folders into strain mappings\n",
    "- When encountering a folder with GCF/GCA figure out that all the antismash files in that folder should be mapped to the strain"
   ]
  },
  {
   "cell_type": "code",
   "execution_count": 312,
   "id": "mysterious-speed",
   "metadata": {},
   "outputs": [
    {
     "name": "stdout",
     "output_type": "stream",
     "text": [
      "Number of AS dirs passed: 104 Example:\n",
      "('/mnt/scratch/louwe015/NPLinker/own/nplinker_shared/crusemann_3ids_AS6-AS3_30-11/AS6_assemblies_MSV000078836_MSV000078839_MSV000079284/GCF_000375165.1_ASM37516v1_genomic', ['NZ_KB896530', 'NZ_KB896534', 'NZ_KB896538', 'NZ_KB896536', 'NZ_KB896532', 'NZ_KB896533', 'NZ_KB896540', 'NZ_KB896535', 'NZ_KB896539', 'NZ_KB896529', 'NZ_KB896557', 'NZ_KB896548', 'NZ_KB896572', 'NZ_KB896552', 'NZ_KB896562', 'NZ_KB896543', 'NZ_KB896537', 'NZ_KB896547', 'NZ_KB896546'])\n",
      "\n",
      "104 AS dirs processed and added to strain mapping. 0 AS dirs failed: []\n"
     ]
    }
   ],
   "source": [
    "# get names for all AS dirs\n",
    "as6_file_dict = {}\n",
    "for as6_dir in as6_dirs:\n",
    "    as6_files = [os.path.split(as6_file)[1] for as6_file in glob.glob(os.path.join(as6_dir, \"*.gbk\"))]\n",
    "    # filter out the main file and turn into file names (without path)\n",
    "    as6_files = [as6_file for as6_file in as6_files\n",
    "                 if not as6_file.startswith(\"GCF_\") and not as6_file.startswith(\"GCA_\")]\n",
    "    as6_names = []\n",
    "    for as6_file in as6_files:\n",
    "        as6_name = as6_file.split(\".\")[0]\n",
    "        if as6_name not in as6_names:\n",
    "            as6_names.append(as6_name)\n",
    "    as6_file_dict[as6_dir] = as6_names\n",
    "print(\"Number of AS dirs passed:\", len(as6_file_dict), \"Example:\")\n",
    "print(list(as6_file_dict.items())[0])\n",
    "\n",
    "# add names to strain mapping\n",
    "as6_dirs_done = []\n",
    "for strain_name, vals in ref_map.items():\n",
    "    str_done = False\n",
    "    for val in vals:\n",
    "        if str_done:\n",
    "            # strain has encountered a GCF or GCA previously and is done\n",
    "            break\n",
    "        if val.startswith(\"GCF_\") or val.startswith(\"GCA_\"):\n",
    "            acc = val\n",
    "            as6_dir = [as6_dir for as6_dir in as6_file_dict if acc in as6_dir]\n",
    "            if as6_dir:\n",
    "                if len(as6_dir) > 1:\n",
    "                    print(\"  multiple AS output for strain\", strain_name, as6_dir)\n",
    "                as6_dir = as6_dir[0]\n",
    "                if as6_dir not in as6_dirs_done:\n",
    "                    # lookup the as6_names to add to the strain mapping\n",
    "                    as6_names = as6_file_dict[as6_dir]\n",
    "                    for as6_name in as6_names:\n",
    "                        if as6_name not in vals:\n",
    "                            vals.append(as6_name)\n",
    "                    as6_dirs_done.append(as6_dir)\n",
    "                    str_done = True\n",
    "\n",
    "failed_as6_dirs = [as6_dirs for as6_dirs in as6_file_dict if as6_dirs not in as6_dirs_done]\n",
    "print(\"\")\n",
    "print(len(as6_dirs_done), \"AS dirs processed and added to strain mapping.\", len(failed_as6_dirs), \"AS dirs failed:\",\n",
    "     failed_as6_dirs)"
   ]
  },
  {
   "cell_type": "markdown",
   "id": "arranged-williams",
   "metadata": {},
   "source": [
    "### Manually correct some spelling errors"
   ]
  },
  {
   "cell_type": "code",
   "execution_count": 317,
   "id": "injured-right",
   "metadata": {},
   "outputs": [
    {
     "name": "stdout",
     "output_type": "stream",
     "text": [
      "['S.Tu6071_A1_M.mzXML', 'S.Tu6071_MS_M.mzXML', 'S.Tu6071_MS_B.mzXML', 'S.Tu6071_MS_E.mzXML', 'S.TU6071_R5_B.mzXML', 'S.Tu6071_A1_E.mzXML', 'S.Tu6071_A1_B.mzXML', 'S.TU6071_R5_M.mzXML', 'S.TU6071_R5_E.mzXML', 'GCA_000213055', 'CM001165']\n"
     ]
    }
   ],
   "source": [
    "# for S.TU6071_R5_B.mzXML change to capital letters in strain mapping\n",
    "first_strain = \"Streptomyces sp. Tu6071\"\n",
    "first_mapping = ref_map[first_strain]\n",
    "corr_first_mapping = []\n",
    "for mapping in first_mapping:\n",
    "    if mapping == \"S.Tu6071_R5_B.mzXML\":\n",
    "        mapping = \"S.TU6071_R5_B.mzXML\"\n",
    "    if mapping == \"S.Tu6071_R5_M.mzXML\":\n",
    "        mapping = \"S.TU6071_R5_M.mzXML\"\n",
    "    if mapping == \"S.Tu6071_R5_E.mzXML\":\n",
    "        mapping = \"S.TU6071_R5_E.mzXML\"\n",
    "    corr_first_mapping.append(mapping)\n",
    "ref_map[first_strain] = corr_first_mapping\n",
    "print(ref_map[first_strain])"
   ]
  },
  {
   "cell_type": "code",
   "execution_count": 320,
   "id": "respiratory-hygiene",
   "metadata": {},
   "outputs": [
    {
     "name": "stdout",
     "output_type": "stream",
     "text": [
      "['S.MG1_A1_E.mzXML', 'NZ_CP011665', 'GCF_000412265', 'GCA_000412265', 'S.MG1_A1_M.mzXML', 'S.MG1_R5_M.mzXML', 'S.MG1_MS_B.mzXML', 'GCF_000412265.2', 'S.MG1_R5_B.mzXML', 'S.MG1_MS_M.mzXML', 'S.MG1_A1_B.mzXML', 'NZ_CP011664', 'S.MG1_R5_E.mzXML', 'NZ_CP011667', 'S.MG1_MS_E.mzXML', 'CP011665', 'CP011664', 'CP011667'] None\n"
     ]
    }
   ],
   "source": [
    "sec_strain = \"Streptomyces sp.MG1\"\n",
    "sec_cor_strain = \"Streptomyces sp. MG1\"\n",
    "sec_mapping = ref_map.get(sec_strain)\n",
    "if sec_mapping:\n",
    "    del ref_map[sec_strain]\n",
    "    ref_map[sec_cor_strain] = sec_mapping\n",
    "print(ref_map[sec_cor_strain], ref_map.get(sec_strain))"
   ]
  },
  {
   "cell_type": "code",
   "execution_count": 322,
   "id": "technical-integrity",
   "metadata": {},
   "outputs": [
    {
     "name": "stdout",
     "output_type": "stream",
     "text": [
      "['T851-3-Me.mzXML', 'T851-3-Bu.mzXML', 'T851-3-EA.mzXML', '35a.mzXML', '35b.mzXML', 'KB896839', 'ARHL01000000']\n"
     ]
    }
   ],
   "source": [
    "th_strain = \"Salinispora pacifica CNT851\"\n",
    "th_mapping = ref_map.get(th_strain)\n",
    "add_to_th_mapping = \"ARHL01000000\"\n",
    "if th_mapping:\n",
    "    if add_to_th_mapping not in th_mapping:\n",
    "        print('added', add_to_th_mapping)\n",
    "        th_mapping.append(add_to_th_mapping)\n",
    "print(ref_map.get(th_strain))"
   ]
  },
  {
   "cell_type": "markdown",
   "id": "united-finnish",
   "metadata": {},
   "source": [
    "### Write final merged strain mappings"
   ]
  },
  {
   "cell_type": "code",
   "execution_count": 323,
   "id": "terminal-riding",
   "metadata": {},
   "outputs": [],
   "source": [
    "new_data_str_mappings = os.path.join(new_data_path, \"strain_mappings.csv\")\n",
    "with open(new_data_str_mappings, 'w') as outf:\n",
    "    for k_strain, v_mapping in sorted(ref_map.items()):\n",
    "        outf.write(\"{},{}\\n\".format(k_strain, ','.join(sorted(v_mapping))))"
   ]
  },
  {
   "cell_type": "markdown",
   "id": "circular-equality",
   "metadata": {},
   "source": [
    "### Actually sort out AS files"
   ]
  },
  {
   "cell_type": "code",
   "execution_count": 276,
   "id": "martial-absolute",
   "metadata": {},
   "outputs": [
    {
     "name": "stdout",
     "output_type": "stream",
     "text": [
      "Salinispora arenicola CNT005\n",
      "Salinispora arenicola CNR107\n",
      "Salinispora pacifica CNS801 ['34966']\n",
      "Salinispora arenicola CNY011\n",
      "Salinispora arenicola CNX508\n",
      "Salinispora arenicola CNY237\n",
      "Salinispora tropica CNS416 ['ARHQ01000000']\n",
      "Salinispora arenicola CNH996 ['JNLS01000000']\n",
      "Salinispora pacifica CNT138 ['KB911579']\n",
      "  no antismash files\n",
      "Salinispora pacifica CNT001\n",
      "Salinispora arenicola CNY685 ['35845']\n",
      "Salinispora arenicola CNY230 ['35133']\n",
      "Salinispora arenicola CNQ884 ['34969']\n",
      "Salinispora arenicola CNT849\n",
      "Salinispora pacifica CNH732 ['37235']\n",
      "Salinispora tropica CNH898\n",
      "Salinispora pacifica CNY498 ['35607']\n",
      "Salinispora pacifica CNT584\n",
      "Salinispora pacifica CNY703 ['35561']\n",
      "Salinispora pacifica CNS237\n",
      "Salinispora pacifica CNT045\n",
      "Salinispora pacifica CNY330\n",
      "Salinispora arenicola CNR921\n",
      "Salinispora arenicola CNH964 ['JAEY01000000']\n",
      "Salinispora pacifica CNT403 ['34964']\n",
      "Salinispora pacifica CNT133\n",
      "Salinispora pacifica CNQ768\n",
      "Salinispora arenicola CNS325 ['37242']\n",
      "Salinispora arenicola CNS296 ['36410']\n",
      "Salinispora pacifica CNT851 ['KB896839']\n",
      "Salinispora pacifica CNT124\n",
      "Salinispora arenicola CNY231\n",
      "Salinispora arenicola CNS744\n",
      "Salinispora arenicola CNS342 ['37324']\n",
      "Salinispora pacifica CNT796\n",
      "Salinispora pacifica CNR114\n",
      "Salinispora arenicola CNY282 ['ARKV01000000']\n",
      "Salinispora arenicola CNT798 ['2515154186']\n",
      "Salinispora pacifica CNS860 ['ARGI01000000']\n",
      "Salinispora arenicola CNY694 ['35132']\n",
      "Salinispora arenicola CNP193\n",
      "Salinispora pacifica CNS103\n",
      "Salinispora arenicola CNP105\n",
      "Salinispora arenicola CNX482\n",
      "Salinispora pacifica CNY646 ['35578']\n",
      "Salinispora arenicola CNS299\n",
      "Salinispora pacifica CNY673 []\n",
      "  no antismash files\n",
      "Salinispora arenicola CNY281 ['35121']\n",
      "Salinispora pacifica CNT003\n",
      "Salinispora pacifica CNT569\n",
      "Salinispora arenicola CNH643 ['34967']\n",
      "Salinispora arenicola CNH962\n",
      "Salinispora pacifica CNR909 ['34968']\n",
      "Salinispora arenicola CNX481\n",
      "Salinispora pacifica CNT148\n",
      "Salinispora arenicola CNH713 ['37236']\n",
      "Salinispora arenicola CNH963 ['AUKL01000000']\n",
      "Salinispora pacifica CNS863\n",
      "Salinispora tropica CNB476\n",
      "Salinispora tropica CNT261\n",
      "Salinispora tropica CNR699 ['ARHP01000000']\n",
      "Salinispora arenicola CNQ748\n",
      "Salinispora arenicola CNS991\n",
      "Salinispora arenicola CNY244 ['35128']\n",
      "Salinispora pacifica CNT854\n",
      "Salinispora tropica CNY681 ['35126']\n",
      "Salinispora arenicola CNY260 ['ARHG01000000']\n",
      "Salinispora arenicola CNT799\n",
      "Salinispora arenicola CNH718 ['35123']\n",
      "Salinispora arenicola CNH646\n",
      "Salinispora arenicola CNY280\n",
      "Salinispora pacifica CNY202\n",
      "Salinispora arenicola CNY679 ['35131']\n",
      "Salinispora arenicola CNX891\n",
      "Salinispora pacifica CNT855\n",
      "Salinispora pacifica CNS996\n",
      "Salinispora arenicola CNT850 ['AZWG01000000']\n",
      "Salinispora pacifica CNS143 ['AIIG01']\n",
      "Salinispora arenicola CNT088 ['AIIJ01']\n",
      "Salinispora pacifica CNY666 ['35579']\n",
      "Salinispora arenicola CNH941 ['AZWV01000000']\n",
      "Salinispora pacifica CNY239\n",
      "Salinispora arenicola CNR425\n",
      "Salinispora pacifica CNR942\n",
      "Salinispora arenicola CNX814\n",
      "Salinispora pacifica CNT029\n",
      "Salinispora pacifica CNR894\n",
      "Salinispora pacifica CNT150\n",
      "Salinispora tropica CNS197\n",
      "Salinispora arenicola CNS848 ['38495']\n",
      "Salinispora tropica CNY678 ['35127']\n",
      "Salinispora arenicola CNH905\n",
      "Salinispora pacifica CNY363 ['35581']\n",
      "Salinispora arenicola CNY256\n",
      "Salinispora arenicola CNS820 ['36417']\n",
      "Salinispora arenicola CNS243 ['AUKT01000000']\n",
      "Salinispora tropica CNB536\n",
      "Salinispora pacifica CNT084\n",
      "Salinispora arenicola CNT857\n",
      "Salinispora tropica CNY012\n",
      "Salinispora arenicola CNY234\n",
      "Salinispora tropica CNT250\n",
      "Salinispora pacifica CNR510 ['37241']\n",
      "Salinispora arenicola CNT800 ['AZXG01000000']\n",
      "Salinispora pacifica CNS055\n",
      "Salinispora arenicola CNS051\n",
      "Salinispora arenicola CNY486 ['35125']\n",
      "Salinispora arenicola CNB527\n",
      "Salinispora arenicola CNS205\n",
      "Salinispora pacifica CNT131\n",
      "Salinispora pacifica CNT609\n",
      "Salinispora tropica CNB440\n",
      "Salinispora arenicola CNY690 ['35129']\n",
      "Salinispora pacifica CNT603\n",
      "Salinispora pacifica CNY331 ['ARHO01000000']\n",
      "Salinispora arenicola CNT859\n",
      "Salinispora arenicola CNB458\n",
      "Salinispora arenicola CNH877\n",
      "Salinispora arenicola CNS673\n",
      "Salinispora pacifica CNS960\n",
      "Streptomyces sp. CNB091\n",
      "Streptomyces sp. CNS615\n",
      "Streptomyces sp. CNT302\n",
      "Streptomyces sp. CNH099\n",
      "Streptomyces sp. CNH189\n",
      "Streptomyces sp. CNH287\n",
      "Streptomyces sp. CNP082 ['15294']\n",
      "Streptomyces sp. CNQ149 []\n",
      "  no antismash files\n",
      "Streptomyces sp. CNQ329\n",
      "Streptomyces sp. CNQ525 ['35130']\n",
      "Streptomyces sp. CNQ766 ['ARHR01000000']\n",
      "Streptomyces sp. CNQ865\n",
      "Streptomyces sp. CNR698\n",
      "Streptomyces sp. CNS335\n",
      "Streptomyces sp. CNS580 []\n",
      "  no antismash files\n",
      "Streptomyces sp. CNS606\n",
      "Streptomyces sp. CNS654\n",
      "Streptomyces sp. CNT318\n",
      "Streptomyces sp. CNT360\n",
      "Streptomyces sp. CNT371\n",
      "Streptomyces sp. CNT372\n",
      "Streptomyces sp. CNX435 ['34950']\n",
      "Streptomyces sp. CNY228\n",
      "Streptomyces sp. CNY243\n",
      "Streptomyces sp. Tu6071\n",
      "Streptomyces afghanensis\n",
      "Streptomyces albus []\n",
      "  no antismash files\n",
      "Streptomyces cattleya\n",
      "Streptomyces coelicolor\n",
      "Streptomyces ghanaensis\n",
      "Streptomyces griseoflavus Tu4000\n",
      "Streptomyces griseus\n",
      "Streptomyces hygroscopicus\n",
      "Streptomyces lividans\n",
      "Streptomyces roseosporus\n",
      "Streptomyces sp. TAA040\n",
      "Streptomyces sp. TAA204\n",
      "Streptomyces sp. TAA486\n",
      "Streptomyces sp.MG1\n",
      "5 strains do not have any antismash files:\n",
      "['Salinispora pacifica CNT138', 'Salinispora pacifica CNY673', 'Streptomyces sp. CNQ149', 'Streptomyces sp. CNS580', 'Streptomyces albus']\n",
      "2889 files/dirs will be copied\n"
     ]
    }
   ],
   "source": [
    "# loop through all strains and gather the RefSeq/GenBank to look up new AS, otherwise old antismash\n",
    "# first look if in new antismash folder, then look in old antismash folder\n",
    "# write all cp commands to bash script to be run in a screen (use e.a. subprocess if you want to do it here)\n",
    "done = []  # list to keep track of already copied AS files\n",
    "cp_commands = []\n",
    "no_antismash = []\n",
    "\n",
    "for strain, mappings in ref_map.items():\n",
    "    as_maps = []\n",
    "    gcfs = []\n",
    "    for mapping in mappings:\n",
    "        if not mapping.endswith(\".mzXML\"):\n",
    "            if mapping.startswith(\"GCF\") or mapping.startswith(\"GCA\"):\n",
    "                stripped = mapping.partition('.')[0]\n",
    "                if stripped not in gcfs:\n",
    "                    gcfs.append(stripped)\n",
    "            else:\n",
    "                as_maps.append(mapping)\n",
    "    if gcfs:\n",
    "        # copy AS6\n",
    "        print(strain)\n",
    "        if len(gcfs) > 1:\n",
    "            double_acc = [1 for gcf in gcfs if not all([gcf_check.endswith(gcf[4:]) for gcf_check in gcfs])]\n",
    "            if double_acc:\n",
    "                print(\"refseqs len > 1 for\", strain)\n",
    "        gcf_acc = gcfs[0]\n",
    "        gca_acc = \"GCA\" + gcf_acc[3:]\n",
    "        acc_as6_dir_l = [as6_dir for as6_dir in as6_dirs if gcf_acc in as6_dir or gca_acc in as6_dir]\n",
    "        if acc_as6_dir_l:\n",
    "            acc_as6_dir = acc_as6_dir_l[0]\n",
    "            # print(acc_as6_dir[0])\n",
    "            # add to done, copy\n",
    "            if not acc_as6_dir in done:\n",
    "                cp_cmd = f\"cp -r {acc_as6_dir} {antismash_dir}\"\n",
    "#                 print(' ', cp_cmd)\n",
    "                cp_commands.append(cp_cmd)\n",
    "                done.append(acc_as6_dir)\n",
    "        else:\n",
    "            print(\"missing for\", gcf_acc, strain)\n",
    "    else:\n",
    "        # copy AS3\n",
    "        print(strain, as_maps)\n",
    "        as3_files_to_copy = None\n",
    "        for as_map in as_maps:\n",
    "            as3_files_to_copy = [as3_file for as3_file in as3_files if as_map in as3_file]\n",
    "\n",
    "        if not as3_files_to_copy:\n",
    "            print(\"  no antismash files\")\n",
    "            no_antismash.append(strain)\n",
    "        else:\n",
    "            for as3_file_to_copy in as3_files_to_copy:\n",
    "                if not cp_as3_cmd in done:\n",
    "                    cp_as3_cmd = f\"cp {as3_file_to_copy} {antismash_dir}\"\n",
    "                    cp_commands.append(cp_as3_cmd)\n",
    "    #                 print(' ', cp_as3_cmd)\n",
    "                    done.append(as3_file_to_copy)\n",
    "\n",
    "print(len(no_antismash), \"strains do not have any antismash files:\")\n",
    "print(no_antismash)\n",
    "print(len(cp_commands), \"files/dirs will be copied\")"
   ]
  },
  {
   "cell_type": "code",
   "execution_count": 263,
   "id": "intermediate-batman",
   "metadata": {},
   "outputs": [],
   "source": [
    "cp_script = os.path.join(new_data_path, \"get_antismash_files.sh\")\n",
    "with open(cp_script, 'w') as outf:\n",
    "    outf.write(\"#!/usr/bin/env bash\\n\")\n",
    "    for cp_command in cp_commands:\n",
    "        outf.write(f\"{cp_command}\\n\")"
   ]
  }
 ],
 "metadata": {
  "kernelspec": {
   "display_name": "Python 3",
   "language": "python",
   "name": "python3"
  },
  "language_info": {
   "codemirror_mode": {
    "name": "ipython",
    "version": 3
   },
   "file_extension": ".py",
   "mimetype": "text/x-python",
   "name": "python",
   "nbconvert_exporter": "python",
   "pygments_lexer": "ipython3",
   "version": "3.7.2"
  }
 },
 "nbformat": 4,
 "nbformat_minor": 5
}
