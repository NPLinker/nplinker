{
 "cells": [
  {
   "cell_type": "code",
   "execution_count": 6,
   "metadata": {},
   "outputs": [],
   "source": [
    "%reload_ext autoreload\n",
    "%autoreload 2\n",
    "\n",
    "# Add parent directory for NPLinker imports\n",
    "import sys\n",
    "sys.path.append('..')\n",
    "\n",
    "# scoring functions for strain correspondence\n",
    "import scoring_functions"
   ]
  },
  {
   "cell_type": "code",
   "execution_count": 2,
   "metadata": {},
   "outputs": [],
   "source": [
    "path = \"/home/grimur/Downloads/specbgc/\""
   ]
  },
  {
   "cell_type": "code",
   "execution_count": 3,
   "metadata": {},
   "outputs": [],
   "source": [
    "import csv\n",
    "import numpy\n",
    "import os"
   ]
  },
  {
   "cell_type": "code",
   "execution_count": 7,
   "metadata": {},
   "outputs": [],
   "source": [
    "population_size = 25\n",
    "\n",
    "for file in os.listdir(path):\n",
    "    filepath = path + file\n",
    "    outpath = \"/home/grimur/Downloads/specbgc-update/\" + file\n",
    "    lines = []\n",
    "    with open(filepath, 'r') as f:\n",
    "        r = csv.reader(f, delimiter=\"\\t\")\n",
    "        header = next(r)\n",
    "        header.append('metcalf_expected')\n",
    "        header.append('metcalf_variance')\n",
    "        header.append('metcalf_standardised')\n",
    "        for l in r:\n",
    "            spec = int(l[4])\n",
    "            gcf = int(l[5])\n",
    "            overlap = int(l[6])\n",
    "            l[7] = population_size\n",
    "            l[9] = None\n",
    "            metcalf_expected, metcalf_variance = scoring_functions.metcalf_expected_count(spec, gcf, overlap, population_size, 10, -10, 0, 1)\n",
    "            metcalf_raw = scoring_functions.metcalf_count(spec, gcf, overlap, population_size, 10, -10, 0, 1)\n",
    "            metcalf_standardised = (metcalf_raw - metcalf_expected) / numpy.sqrt(metcalf_variance)\n",
    "\n",
    "            l.append(metcalf_expected)\n",
    "            l.append(metcalf_variance)\n",
    "            l.append(metcalf_standardised)\n",
    "            l[8] = metcalf_raw\n",
    "\n",
    "            lines.append(l)\n",
    "\n",
    "    lines.sort(key=lambda x: x[-1], reverse=True)\n",
    "            \n",
    "    with open(outpath, 'w') as fw:\n",
    "        w = csv.writer(fw, delimiter=\"\\t\")\n",
    "        w.writerow(header)\n",
    "        for l in lines:\n",
    "            w.writerow(l)"
   ]
  },
  {
   "cell_type": "code",
   "execution_count": 11,
   "metadata": {},
   "outputs": [
    {
     "ename": "ImportError",
     "evalue": "cannot import name 'metcalf_expected_count' from 'scoring' (/home/grimur/git/nplinker/nplinker/prototype/scoring/__init__.py)",
     "output_type": "error",
     "traceback": [
      "\u001b[0;31m---------------------------------------------------------------------------\u001b[0m",
      "\u001b[0;31mImportError\u001b[0m                               Traceback (most recent call last)",
      "\u001b[0;32m<ipython-input-11-51ac243da75f>\u001b[0m in \u001b[0;36m<module>\u001b[0;34m\u001b[0m\n\u001b[0;32m----> 1\u001b[0;31m \u001b[0;32mfrom\u001b[0m \u001b[0mscoring\u001b[0m \u001b[0;32mimport\u001b[0m \u001b[0mmetcalf_expected_count\u001b[0m\u001b[0;34m\u001b[0m\u001b[0;34m\u001b[0m\u001b[0m\n\u001b[0m",
      "\u001b[0;31mImportError\u001b[0m: cannot import name 'metcalf_expected_count' from 'scoring' (/home/grimur/git/nplinker/nplinker/prototype/scoring/__init__.py)"
     ]
    }
   ],
   "source": [
    "from scoring import metcalf_expected_count"
   ]
  },
  {
   "cell_type": "code",
   "execution_count": null,
   "metadata": {},
   "outputs": [],
   "source": []
  },
  {
   "cell_type": "code",
   "execution_count": null,
   "metadata": {},
   "outputs": [],
   "source": []
  },
  {
   "cell_type": "code",
   "execution_count": null,
   "metadata": {},
   "outputs": [],
   "source": []
  },
  {
   "cell_type": "code",
   "execution_count": null,
   "metadata": {},
   "outputs": [],
   "source": []
  },
  {
   "cell_type": "code",
   "execution_count": null,
   "metadata": {},
   "outputs": [],
   "source": []
  },
  {
   "cell_type": "code",
   "execution_count": null,
   "metadata": {},
   "outputs": [],
   "source": []
  },
  {
   "cell_type": "code",
   "execution_count": null,
   "metadata": {},
   "outputs": [],
   "source": []
  },
  {
   "cell_type": "code",
   "execution_count": 21,
   "metadata": {},
   "outputs": [],
   "source": [
    "spectra_file = \"/home/grimur/data-carnegie/data-nplinker/Carnegie_mzmineoutputmgf_quant.csv\""
   ]
  },
  {
   "cell_type": "code",
   "execution_count": 37,
   "metadata": {},
   "outputs": [],
   "source": [
    "ions_membership = {}\n",
    "with open(spectra_file, 'r') as f:\n",
    "    r = csv.reader(f)\n",
    "    header = next(r)\n",
    "    for l in r:\n",
    "        spectrum_id = l[0]\n",
    "        signal = [x.split('.')[0] for x, y in zip(header[:-1], l[:-1]) if float(y) > 0.0 and x.startswith('KRD')]\n",
    "        ions_membership[spectrum_id] = signal"
   ]
  },
  {
   "cell_type": "code",
   "execution_count": 44,
   "metadata": {},
   "outputs": [],
   "source": [
    "membership_by_media = {}\n",
    "for ion, signal in ions_membership.items():\n",
    "    for signal_id in signal:\n",
    "        signal_id_parts = signal_id.split('_')\n",
    "        medium = signal_id_parts[-1].upper()\n",
    "        strain = ''.join(signal_id_parts[:-1])\n",
    "        if medium not in membership_by_media:\n",
    "            membership_by_media[medium] = {}\n",
    "        if ion not in membership_by_media[medium]:\n",
    "            membership_by_media[medium][ion] = []\n",
    "        membership_by_media[medium][ion].append(strain)"
   ]
  },
  {
   "cell_type": "code",
   "execution_count": null,
   "metadata": {},
   "outputs": [],
   "source": []
  },
  {
   "cell_type": "code",
   "execution_count": null,
   "metadata": {},
   "outputs": [],
   "source": [
    "bigscape_dir = \"/home/grimur/data-carnegie/data-nplinker/bigscape\""
   ]
  },
  {
   "cell_type": "code",
   "execution_count": 71,
   "metadata": {},
   "outputs": [],
   "source": [
    "cutoff = '30'\n",
    "\n",
    "strains = set()\n",
    "\n",
    "gcfs = {}\n",
    "for product_type in os.listdir(bigscape_dir):\n",
    "    if product_type.endswith('.tsv'):\n",
    "        continue\n",
    "    for filename in os.listdir(os.path.join(bigscape_dir, product_type)):\n",
    "        if not ('cluster' in filename and cutoff in filename):\n",
    "            continue\n",
    "        path = os.path.join(bigscape_dir, product_type, filename)\n",
    "        with open(path, 'r') as f:\n",
    "            for l in f.readlines():\n",
    "                if l.startswith('#'):\n",
    "                    continue\n",
    "                bgc_id, product_family_id = l.strip().split()\n",
    "                # ??????\n",
    "                family_id = product_type + product_family_id\n",
    "                #family_id = product_family_id\n",
    "                if family_id not in gcfs:\n",
    "                    gcfs[family_id] = []\n",
    "                strain = bgc_id.split('.')[0]\n",
    "                gcfs[family_id].append(strain)\n",
    "                \n",
    "                strains.add(strain)"
   ]
  },
  {
   "cell_type": "code",
   "execution_count": null,
   "metadata": {},
   "outputs": [],
   "source": []
  },
  {
   "cell_type": "code",
   "execution_count": null,
   "metadata": {},
   "outputs": [],
   "source": []
  },
  {
   "cell_type": "code",
   "execution_count": null,
   "metadata": {},
   "outputs": [],
   "source": []
  },
  {
   "cell_type": "code",
   "execution_count": 77,
   "metadata": {},
   "outputs": [],
   "source": [
    "import _scoring as scoring\n",
    "import numpy"
   ]
  },
  {
   "cell_type": "code",
   "execution_count": 86,
   "metadata": {},
   "outputs": [],
   "source": [
    "scores_by_medium = {}\n",
    "\n",
    "for medium, spectra in membership_by_media.items():\n",
    "    scores_by_medium[medium] = []\n",
    "    for spectrum, spectrum_strains in spectra.items():\n",
    "        for gcf, gcf_strains in gcfs.items():\n",
    "            spectrum_strain_count = len(strains.intersection(spectrum_strains))\n",
    "            gcf_strain_count = len(gcf_strains)\n",
    "            strain_count = len(strains)\n",
    "            overlap = len(set(spectrum_strains).intersection(gcf_strains))\n",
    "            \n",
    "            metcalf_raw = scoring.metcalf_count(spectrum_strain_count, gcf_strain_count, overlap, strain_count, 10, -10, 0, 1)\n",
    "            metcalf_exp, metcalf_var = scoring.metcalf_expected_count(spectrum_strain_count, gcf_strain_count, overlap, strain_count, 10, -10, 0, 1)\n",
    "            metcalf_std = (metcalf_raw - metcalf_exp) / numpy.sqrt(metcalf_var)\n",
    "            scores_by_medium[medium].append((metcalf_raw, metcalf_std))"
   ]
  },
  {
   "cell_type": "code",
   "execution_count": 104,
   "metadata": {},
   "outputs": [
    {
     "data": {
      "image/png": "[encoded data removed]",
      "text/plain": [
       "<Figure size 576x432 with 2 Axes>"
      ]
     },
     "metadata": {
      "needs_background": "light"
     },
     "output_type": "display_data"
    },
    {
     "data": {
      "image/png": "[encoded data removed]",
      "text/plain": [
       "<Figure size 576x432 with 2 Axes>"
      ]
     },
     "metadata": {
      "needs_background": "light"
     },
     "output_type": "display_data"
    },
    {
     "data": {
      "image/png": "[encoded data removed]",
      "text/plain": [
       "<Figure size 576x432 with 2 Axes>"
      ]
     },
     "metadata": {
      "needs_background": "light"
     },
     "output_type": "display_data"
    },
    {
     "data": {
      "image/png": "[encoded data removed]",
      "text/plain": [
       "<Figure size 576x432 with 2 Axes>"
      ]
     },
     "metadata": {
      "needs_background": "light"
     },
     "output_type": "display_data"
    }
   ],
   "source": [
    "for medium, scores in scores_by_medium.items():\n",
    "    fig, (ax1, ax2) = plt.subplots(1, 2, figsize=(8, 6))\n",
    "\n",
    "    fig.suptitle('Medium: {}'.format(medium))\n",
    "    \n",
    "    ax1.hist([x[0] for x in scores], bins=20)\n",
    "    ax1.set_xlabel('Raw correlation score')\n",
    "\n",
    "    ax2.hist([x[1] for x in scores], bins=20)\n",
    "    ax2.set_xlabel('Standardised correlation score')\n",
    "\n",
    "    plt.tight_layout()\n",
    "    \n",
    "    fig.subplots_adjust(top=0.9)"
   ]
  },
  {
   "cell_type": "code",
   "execution_count": null,
   "metadata": {},
   "outputs": [],
   "source": []
  },
  {
   "cell_type": "code",
   "execution_count": null,
   "metadata": {},
   "outputs": [],
   "source": []
  },
  {
   "cell_type": "code",
   "execution_count": null,
   "metadata": {},
   "outputs": [],
   "source": []
  }
 ],
 "metadata": {
  "kernelspec": {
   "display_name": "Python 3",
   "language": "python",
   "name": "python3"
  },
  "language_info": {
   "codemirror_mode": {
    "name": "ipython",
    "version": 3
   },
   "file_extension": ".py",
   "mimetype": "text/x-python",
   "name": "python",
   "nbconvert_exporter": "python",
   "pygments_lexer": "ipython3",
   "version": "3.7.3"
  }
 },
 "nbformat": 4,
 "nbformat_minor": 2
}
