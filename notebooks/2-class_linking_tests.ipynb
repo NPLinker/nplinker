{
 "cells": [
  {
   "cell_type": "code",
   "execution_count": 1,
   "id": "productive-constitution",
   "metadata": {},
   "outputs": [],
   "source": [
    "from class_linking import NPLinker_classes"
   ]
  },
  {
   "cell_type": "code",
   "execution_count": 2,
   "id": "friendly-point",
   "metadata": {},
   "outputs": [
    {
     "name": "stdout",
     "output_type": "stream",
     "text": [
      "15:29:46 [INFO] config.py:121, Loading from local data in directory /mnt/scratch/louwe015/NPLinker/own/nplinker_shared/crus_full_new_AS3_03-09/\n",
      "15:29:46 [WARNING] loader.py:46, WARNING: unable to find extra_nodes_file in path \"/mnt/scratch/louwe015/NPLinker/own/nplinker_shared/crus_full_new_AS3_03-09/quantification_table_reformatted/*.csv\"\n",
      "15:29:46 [WARNING] loader.py:46, WARNING: unable to find metadata_table_file in path \"/mnt/scratch/louwe015/NPLinker/own/nplinker_shared/crus_full_new_AS3_03-09/metadata_table/metadata_table*.txt\"\n",
      "15:29:46 [WARNING] loader.py:46, WARNING: unable to find quantification_table_file in path \"/mnt/scratch/louwe015/NPLinker/own/nplinker_shared/crus_full_new_AS3_03-09/quantification_table/quantification_table*.csv\"\n",
      "15:29:46 [INFO] loader.py:80, Trying to discover correct bigscape directory under /mnt/scratch/louwe015/NPLinker/own/nplinker_shared/crus_full_new_AS3_03-09/bigscape\n",
      "15:29:46 [INFO] loader.py:83, Found network files directory: /mnt/scratch/louwe015/NPLinker/own/nplinker_shared/crus_full_new_AS3_03-09/bigscape/network_files/2021-07-16_08-32-34_hybrids_glocal\n",
      "15:29:46 [INFO] loader.py:212, Updating bigscape_dir to discovered location /mnt/scratch/louwe015/NPLinker/own/nplinker_shared/crus_full_new_AS3_03-09/bigscape/network_files/2021-07-16_08-32-34_hybrids_glocal\n",
      "15:29:46 [INFO] loader.py:571, Loaded global strain IDs (0 total)\n",
      "15:29:46 [INFO] loader.py:582, Loaded dataset strain IDs (159 total)\n",
      "15:29:50 [INFO] metabolomics.py:699, 13667 molecules parsed from MGF file\n",
      "15:29:51 [INFO] metabolomics.py:716, Found older-style GNPS dataset, no quantification table\n",
      "15:29:51 [WARNING] metabolomics.py:516, Unknown strain: 37c.mzXML for cluster index 63\n",
      "15:29:51 [WARNING] metabolomics.py:516, Unknown strain: 32c.mzXML for cluster index 110\n",
      "15:29:51 [WARNING] metabolomics.py:516, Unknown strain: 32b.mzXML for cluster index 110\n",
      "15:29:51 [WARNING] metabolomics.py:516, Unknown strain: 36c.mzXML for cluster index 110\n",
      "15:29:51 [WARNING] metabolomics.py:516, Unknown strain: 28b.mzXML for cluster index 118\n",
      "15:29:51 [WARNING] metabolomics.py:516, Unknown strain: 40a.mzXML for cluster index 142\n",
      "15:29:51 [WARNING] metabolomics.py:516, Unknown strain: 40b.mzXML for cluster index 142\n",
      "15:29:51 [WARNING] metabolomics.py:516, Unknown strain: 28a.mzXML for cluster index 143\n",
      "15:29:51 [WARNING] metabolomics.py:516, Unknown strain: R551-3-Me.mzXML for cluster index 227\n",
      "15:29:51 [WARNING] metabolomics.py:516, Unknown strain: neg-3-EA.mzXML for cluster index 227\n",
      "15:29:51 [WARNING] metabolomics.py:516, Unknown strain: -ve_R5_B.mzXML for cluster index 378\n",
      "15:29:51 [WARNING] metabolomics.py:516, Unknown strain: CNY228_MS_E.mzXML for cluster index 419\n",
      "15:29:51 [WARNING] metabolomics.py:516, Unknown strain: -ve_R5_M.mzXML for cluster index 441\n",
      "15:29:51 [WARNING] metabolomics.py:516, Unknown strain: S.gris_MS_M.mzXML for cluster index 448\n",
      "15:29:51 [WARNING] metabolomics.py:516, Unknown strain: -ve_MS_E.mzXML for cluster index 486\n",
      "15:29:51 [WARNING] metabolomics.py:516, Unknown strain: Y254-3-Me.mzXML for cluster index 906\n",
      "15:29:51 [WARNING] metabolomics.py:516, Unknown strain: H721-3-Me.mzXML for cluster index 906\n",
      "15:29:51 [WARNING] metabolomics.py:516, Unknown strain: R416-3-Me.mzXML for cluster index 906\n",
      "15:29:51 [WARNING] metabolomics.py:516, Unknown strain: R551-3-EA.mzXML for cluster index 1183\n",
      "15:29:51 [WARNING] metabolomics.py:516, Unknown strain: H721-3-EA.mzXML for cluster index 1418\n",
      "15:29:51 [WARNING] metabolomics.py:516, Unknown strain: H721-3-Bu.mzXML for cluster index 3496\n",
      "15:29:51 [WARNING] metabolomics.py:516, Unknown strain: R551-3-Bu.mzXML for cluster index 5198\n",
      "15:29:51 [WARNING] metabolomics.py:516, Unknown strain: neg-3-Me.mzXML for cluster index 5360\n",
      "15:29:51 [WARNING] metabolomics.py:516, Unknown strain: neg-3-Bu.mzXML for cluster index 5369\n",
      "15:29:51 [WARNING] metabolomics.py:516, Unknown strain: R416-3-EA.mzXML for cluster index 5369\n",
      "15:29:51 [WARNING] metabolomics.py:516, Unknown strain: R416-3-Bu.mzXML for cluster index 5436\n",
      "15:29:51 [WARNING] metabolomics.py:516, Unknown strain: -ve_A1_B.mzXML for cluster index 5615\n",
      "15:29:51 [WARNING] metabolomics.py:516, Unknown strain: -ve_A1_M.mzXML for cluster index 5615\n",
      "15:29:51 [WARNING] metabolomics.py:516, Unknown strain: -ve_R5_E.mzXML for cluster index 6518\n",
      "15:29:51 [WARNING] metabolomics.py:516, Unknown strain: -ve_MS_B.mzXML for cluster index 8678\n",
      "15:29:51 [WARNING] metabolomics.py:516, Unknown strain: -ve_A1_E.mzXML for cluster index 9112\n",
      "15:29:51 [WARNING] metabolomics.py:516, Unknown strain: Y254-3-EA.mzXML for cluster index 30611\n",
      "15:29:51 [WARNING] metabolomics.py:516, Unknown strain: -ve_MS_M.mzXML for cluster index 44505\n",
      "15:29:51 [WARNING] metabolomics.py:516, Unknown strain: Y254-3-Bu.mzXML for cluster index 49548\n",
      "15:29:51 [WARNING] metabolomics.py:516, Unknown strain: 35c.mzXML for cluster index 56273\n",
      "15:29:51 [WARNING] metabolomics.py:516, Unknown strain: 37b.mzXML for cluster index 56273\n",
      "15:29:51 [WARNING] metabolomics.py:516, Unknown strain: 14a.mzXML for cluster index 95015\n",
      "15:29:51 [WARNING] metabolomics.py:516, Unknown strain: 21c.mzXML for cluster index 95015\n",
      "15:29:51 [WARNING] metabolomics.py:516, Unknown strain: 14b.mzXML for cluster index 95015\n",
      "15:29:51 [WARNING] metabolomics.py:516, Unknown strain: 6a.mzXML for cluster index 116381\n",
      "15:29:51 [WARNING] metabolomics.py:516, Unknown strain: 6b.mzXML for cluster index 116381\n",
      "15:29:52 [WARNING] metabolomics.py:516, Unknown strain: 1b.mzXML for cluster index 244653\n",
      "15:29:52 [WARNING] metabolomics.py:531, 42 unknown strains were detected a total of 3562 times\n",
      "15:29:52 [WARNING] loader.py:550, Writing unknown strains from METABOLOMICS data to /mnt/scratch/louwe015/NPLinker/own/nplinker_shared/crus_full_new_AS3_03-09/unknown_strains_met.csv\n",
      "15:29:52 [INFO] loader.py:557, Loading provided annotation files (/mnt/scratch/louwe015/NPLinker/own/nplinker_shared/crus_full_new_AS3_03-09/result_specnets_DB)\n",
      "15:29:52 [INFO] genomics.py:461, Found 1816 MiBIG json files\n",
      "15:30:03 [INFO] genomics.py:253, Using antiSMASH filename delimiters ['.', '_', '-']\n",
      "15:32:55 [INFO] genomics.py:368, # MiBIG BGCs = 0, non-MiBIG BGCS = 7721, total bgcs = 7721, GCFs = 1263, strains=1975\n",
      "15:32:55 [INFO] genomics.py:425, Filtering MiBIG BGCs: removing 0 GCFs and 0 BGCs\n",
      "15:32:55 [INFO] genomics.py:375, # after filtering, total bgcs = 5905, GCFs = 1263, strains=159, unknown_strains=0\n",
      "15:32:55 [WARNING] loader.py:538, Writing unknown strains from GENOMICS data to /mnt/scratch/louwe015/NPLinker/own/nplinker_shared/crus_full_new_AS3_03-09/unknown_strains_gen.csv\n",
      "15:32:55 [INFO] loader.py:334, Writing common strain labels to /mnt/scratch/louwe015/NPLinker/own/nplinker_shared/crus_full_new_AS3_03-09/common_strains.csv\n",
      "15:32:55 [INFO] loader.py:347, Strains filtered down to total of 142\n",
      "15:32:55 [INFO] loader.py:273, No further strain filtering to apply\n"
     ]
    },
    {
     "data": {
      "text/plain": [
       "['cf_kingdom',\n",
       " 'cf_superclass',\n",
       " 'cf_class',\n",
       " 'cf_subclass',\n",
       " 'cf_direct_parent',\n",
       " 'npc_class',\n",
       " 'npc_superclass',\n",
       " 'npc_pathway',\n",
       " 'npc_isglycoside']"
      ]
     },
     "execution_count": 2,
     "metadata": {},
     "output_type": "execute_result"
    }
   ],
   "source": [
    "# load local crusemann data\n",
    "npl = NPLinker_classes({'dataset': {'root': '/mnt/scratch/louwe015/NPLinker/own/nplinker_shared/crus_full_new_AS3_03-09/'}})\n",
    "npl.load_data()\n",
    "npl.read_class_info()"
   ]
  },
  {
   "cell_type": "code",
   "execution_count": 3,
   "id": "victorian-possibility",
   "metadata": {},
   "outputs": [
    {
     "name": "stdout",
     "output_type": "stream",
     "text": [
      "{'loglevel': 'INFO', 'logfile': '', 'log_to_stdout': True, 'repro_file': '', 'dataset': {'root': '/mnt/scratch/louwe015/NPLinker/own/nplinker_shared/crus_full_new_AS3_03-09/', 'overrides': {}, 'platform_id': ''}, 'antismash': {'antismash_format': 'default', 'ignore_spaces': False}, 'docker': {'run_bigscape': True, 'extra_bigscape_parameters': ''}, 'webapp': {'tables_metcalf_threshold': 2.0}, 'scoring': {'rosetta': {}}}\n",
      "../prototype/nplinker/data\n",
      "\n",
      "/mnt/scratch/louwe015/NPLinker/own/nplinker_shared/crus_full_new_AS3_03-09/\n",
      "BGCs: 5905\n",
      "GCFs: 1263\n",
      "Spectra: 13667\n",
      "Molecular Families: 8346\n"
     ]
    }
   ],
   "source": [
    "# Basic functionality\n",
    "# ===================\n",
    "#\n",
    "# Once you have an NPLinker object with all data loaded, there are a collection of simple\n",
    "# methods and properties you can use to access objects and metadata. Some examples are \n",
    "# given below, see https://nplinker.readthedocs.io/en/latest/ for a complete API description.\n",
    "\n",
    "# configuration/dataset metadata\n",
    "# - a copy of the configuration as parsed from the .toml file (dict)\n",
    "print(npl.config) \n",
    "# - the path to the directory where various nplinker data files are located (e.g. the \n",
    "#   default configuration file template) (str)\n",
    "print(npl.data_dir)\n",
    "# - a dataset ID, derived from the path for local datasets or the paired platform ID\n",
    "#   for datasets loaded from that source (str)\n",
    "print(npl.dataset_id)\n",
    "# - the root directory for the current dataset (str)\n",
    "print(npl.root_dir)\n",
    "\n",
    "# objects\n",
    "# - you can directly access lists of each of the 4 object types:\n",
    "print('BGCs:', len(npl.bgcs))\n",
    "print('GCFs:', len(npl.gcfs)) # contains GCF objects\n",
    "print('Spectra:', len(npl.spectra)) # contains Spectrum objects\n",
    "print('Molecular Families:', len(npl.molfams)) # contains MolecularFamily objects"
   ]
  },
  {
   "cell_type": "code",
   "execution_count": 4,
   "id": "forward-electric",
   "metadata": {},
   "outputs": [
    {
     "name": "stdout",
     "output_type": "stream",
     "text": [
      "15:32:57 [INFO] methods.py:436, MetcalfScoring.setup (bgcs=5905, gcfs=1263, spectra=13667, molfams=8346, strains=142)\n",
      "15:32:58 [INFO] methods.py:475, MetcalfScoring.setup completed\n",
      "Number of results: 1263\n"
     ]
    }
   ],
   "source": [
    "mc = npl.scoring_method('metcalf')\n",
    "\n",
    "# Now mc is an instance of the class that implements Metcalf scoring. Once\n",
    "# you have such an instance, you may change any of the parameters it exposes.\n",
    "# In the case of Metcalf scoring, the following parameters are currently exposed:\n",
    "# - cutoff (float): the scoring threshold. Links with scores less than this are excluded\n",
    "# - standardised (bool): set to True to use standardised scores (default), False for regular\n",
    "mc.cutoff = 2.5\n",
    "mc.standardised = True\n",
    "\n",
    "results = npl.get_links(npl.gcfs, mc, and_mode=True)\n",
    "\n",
    "# get_links returns an instance of a class called LinkCollection. This provides a wrapper\n",
    "# around the results of the scoring operation and has various useful properties/methods:\n",
    "#\n",
    "# - len(results) or .source_count will tell you how many of the input_objects were found to have links\n",
    "print('Number of results: {}'.format(len(results)))\n",
    "# - .sources is a list of those objects\n",
    "objects_with_links = results.sources\n",
    "# - .links is a dict with structure {input_object: {linked_object: ObjectLink}} \n",
    "objects_and_link_info = results.links\n",
    "# - .get_all_targets() will return a flat list of *all* the linked objects (for all sources)\n",
    "all_targets = results.get_all_targets() \n",
    "# - .methods is a list of the scoring methods passed to get_links\n",
    "methods = results.methods"
   ]
  },
  {
   "cell_type": "code",
   "execution_count": 13,
   "id": "protecting-thermal",
   "metadata": {},
   "outputs": [
    {
     "data": {
      "text/plain": [
       "[(0.7553763440860215,\n",
       "  'mibig_classes',\n",
       "  'cf_superclass',\n",
       "  'NRP',\n",
       "  'Organic acids and derivatives'),\n",
       " (0.4583333333333333,\n",
       "  'mibig_classes',\n",
       "  'cf_subclass',\n",
       "  'NRP',\n",
       "  'Amino acids, peptides, and analogues'),\n",
       " (0.4435483870967742,\n",
       "  'mibig_classes',\n",
       "  'cf_class',\n",
       "  'NRP',\n",
       "  'Carboxylic acids and derivatives'),\n",
       " (0.017241379310344827,\n",
       "  'mibig_classes',\n",
       "  'npc_superclass',\n",
       "  'NRP',\n",
       "  'Nucleosides'),\n",
       " (0.014466546112115732,\n",
       "  'mibig_classes',\n",
       "  'npc_pathway',\n",
       "  'NRP',\n",
       "  'Carbohydrates')]"
      ]
     },
     "execution_count": 13,
     "metadata": {},
     "output_type": "execute_result"
    }
   ],
   "source": [
    "# example of a good score, (predicted) NRP linking to a (predicted) peptide like spectrum\n",
    "npl.class_linking_score(list(npl.gcfs)[0], list(npl.spectra)[500])"
   ]
  },
  {
   "cell_type": "code",
   "execution_count": 14,
   "id": "female-breath",
   "metadata": {},
   "outputs": [
    {
     "data": {
      "text/plain": [
       "[(0.17902350813743217, 'mibig_classes', 'npc_pathway', 'NRP', 'Alkaloids'),\n",
       " (0.03763440860215054, 'mibig_classes', 'cf_superclass', 'NRP', 'Benzenoids'),\n",
       " (0.03225806451612903,\n",
       "  'mibig_classes',\n",
       "  'cf_class',\n",
       "  'NRP',\n",
       "  'Benzene and substituted derivatives')]"
      ]
     },
     "execution_count": 14,
     "metadata": {},
     "output_type": "execute_result"
    }
   ],
   "source": [
    "# example of a bad score, (predicted) NRP linking to an (predicted) alkaloid like spectrum\n",
    "npl.class_linking_score(list(npl.gcfs)[0], list(npl.spectra)[0])"
   ]
  }
 ],
 "metadata": {
  "kernelspec": {
   "display_name": "Python 3",
   "language": "python",
   "name": "python3"
  },
  "language_info": {
   "codemirror_mode": {
    "name": "ipython",
    "version": 3
   },
   "file_extension": ".py",
   "mimetype": "text/x-python",
   "name": "python",
   "nbconvert_exporter": "python",
   "pygments_lexer": "ipython3",
   "version": "3.7.2"
  }
 },
 "nbformat": 4,
 "nbformat_minor": 5
}
