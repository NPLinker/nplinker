{
 "cells": [
  {
   "cell_type": "code",
   "execution_count": 1,
   "metadata": {},
   "outputs": [],
   "source": [
    "%reload_ext autoreload\n",
    "%autoreload 2"
   ]
  },
  {
   "cell_type": "code",
   "execution_count": 2,
   "metadata": {},
   "outputs": [
    {
     "name": "stdout",
     "output_type": "stream",
     "text": [
      "['/home/adr/.local/share/virtualenvs/nplinker-M4xn-QCK/lib/python3.7/site-packages/cdk_pywrapper']\n",
      "starting server process\n",
      "18:17:41 [DEBUG] config.py:83, Parsing default config file: /home/adr/.config/nplinker/nplinker.toml\n",
      "18:17:41 [DEBUG] config.py:86, Loading user config ../../crusemann_new.toml\n",
      "18:17:41 [DEBUG] loader.py:50, DatasetLoader(/mnt/archive/nplinker_data/crusemann_new_ren)\n",
      "18:17:41 [WARNING] loader.py:25, WARNING: unable to find extra_nodes_file in path \"/mnt/archive/nplinker_data/crusemann_new_ren/*.csv\"\n",
      "18:17:41 [WARNING] loader.py:25, WARNING: unable to find metadata_table_file in path \"/mnt/archive/nplinker_data/crusemann_new_ren/metadata_table/metadata_table*.txt\"\n",
      "18:17:41 [WARNING] loader.py:25, WARNING: unable to find quantification_table_file in path \"/mnt/archive/nplinker_data/crusemann_new_ren/quantification_table/quantification_table*.csv\"\n",
      "Initial setup completed\n",
      "18:17:41 [DEBUG] loader.py:98, load_spectra(/mnt/archive/nplinker_data/crusemann_new_ren/spectra/specs_ms.mgf)\n",
      "Loaded 5930 molecules\n",
      "18:17:42 [DEBUG] loader.py:103, load_edges(/mnt/archive/nplinker_data/crusemann_new_ren/networkedges_selfloop/9a93d720f69143bb9f971db39b5d2ba2.selfloop)\n",
      "18:17:42 [DEBUG] metabolomics.py:284, loading edges file: /mnt/archive/nplinker_data/crusemann_new_ren/networkedges_selfloop/9a93d720f69143bb9f971db39b5d2ba2.selfloop [5930 spectra from MGF]\n",
      "18:17:42 [DEBUG] loader.py:106, load_metadata(/mnt/archive/nplinker_data/crusemann_new_ren/clusterinfo_summary/0d51c5b6c73b489185a5503d319977ab.tsv)\n",
      "18:17:42 [DEBUG] metabolomics.py:262, No extra_nodes_file found\n",
      "18:17:43 [DEBUG] loader.py:110, make_families generated 458 molfams\n",
      "18:17:43 [DEBUG] loader.py:114, make_mibig_bgc_dict(/mnt/archive/nplinker_data/crusemann_new_ren/mibig_json)\n",
      "Found 1816 MiBIG json files\n",
      "18:17:44 [DEBUG] loader.py:116, mibig_bgc_dict has 1816 entries\n",
      "18:17:44 [DEBUG] loader.py:135, Generating antiSMASH filename cache...\n",
      "18:17:44 [DEBUG] loader.py:141, Cache generation took 0.18341565132141113s\n",
      "18:17:44 [DEBUG] loader.py:143, loadBGC_from_cluster_files(antismash_dir=/mnt/archive/nplinker_data/crusemann_new_ren/antismash)\n",
      "# mibig BGCs = 1402, # bgcs = 7468\n",
      "18:17:44 [DEBUG] nplinker.py:181, Generating lookup tables\n",
      "18:17:44 [DEBUG] nplinker.py:198, load_data: completed\n",
      "dataset contains 7468 BGCs, 1312 GCFs / 5930 spectra, 458 mol fams\n"
     ]
    }
   ],
   "source": [
    "import os\n",
    "import nplinker\n",
    "import logconfig\n",
    "logconfig.LogConfig.setLogLevel('DEBUG') # 'INFO' is a lot less spammy\n",
    "from scoring import IOKR\n",
    "\n",
    "npl = nplinker.NPLinker('../../crusemann_new.toml')\n",
    "print('Initial setup completed')\n",
    "npl.load_data()\n",
    "print('dataset contains {} BGCs, {} GCFs / {} spectra, {} mol fams'.format(len(npl.bgcs), len(npl.gcfs), len(npl.spectra), len(npl.molfams)))"
   ]
  },
  {
   "cell_type": "code",
   "execution_count": 3,
   "metadata": {},
   "outputs": [
    {
     "name": "stdout",
     "output_type": "stream",
     "text": [
      "18:17:44 [DEBUG] IOKR.py:9, IOKR datapath: /home/adr/Seafile/work_stuff/nplinker/nplinker/prototype/scoring/iokr/data\n",
      "18:17:44 [DEBUG] genomics.py:43, SMILES for BGC(name=100.AXVR01000001.1.region001, strain=100.AXVR01000001.1.region001) = N[C@@H](CO)C(=O)NC([*])C(=O)CC(O)\n",
      "18:17:44 [DEBUG] nplinker_iokr.py:74, Init IOKR data server\n",
      "18:17:44 [DEBUG] iokrdata.py:202, IOKRDataServer __init__\n",
      "18:17:44 [DEBUG] iokrdata.py:38, GNPS __init__\n",
      "18:17:44 [DEBUG] iokrdata.py:210, No kernel specified. Please initialise manually.\n",
      "18:17:44 [DEBUG] nplinker_iokr.py:79, Init kernel values\n",
      "18:17:44 [DEBUG] nplinker_iokr.py:84, Load MS files\n",
      "18:17:44 [DEBUG] iokrdata.py:226, IOKRDataServer load_ms_files\n",
      "18:17:44 [DEBUG] iokrdata.py:237, Loading .ms files\n",
      "18:17:54 [DEBUG] iokrdata.py:246, Loading took 9.575865s\n",
      "18:17:54 [DEBUG] iokrdata.py:247, Caching MS data\n",
      "18:17:54 [DEBUG] nplinker_iokr.py:107, Configure kernel\n",
      "18:17:54 [DEBUG] nplinker_iokr.py:112, Set fingerprint\n",
      "18:17:54 [DEBUG] iokrdata.py:327, IOKRDataServer set_fingerprint\n",
      "18:17:54 [DEBUG] iokrdata.py:335, fpfile is \"/home/adr/Seafile/work_stuff/nplinker/nplinker/prototype/scoring/iokr/data/fp_klekota-roth_gnps.bin.npy\"\n",
      "18:17:54 [DEBUG] iokrdata.py:337, Loading GNPS fingerprints from file\n",
      "18:17:54 [DEBUG] iokrdata.py:69, GNPS set_fingerprint_from_file\n",
      "18:17:54 [DEBUG] nplinker_iokr.py:118, fit()\n",
      "18:17:57 [DEBUG] iokrdata.py:51, GNPS get_fingerprints\n",
      "18:17:57 [DEBUG] nplinker_iokr.py:124, get_iokr_server complete!\n",
      "18:17:57 [DEBUG] nplinker_iokr.py:42, rank_smiles - Calculate candidate FPs\n",
      "18:17:57 [DEBUG] nplinker_iokr.py:44, > 0.67s \n",
      "18:17:57 [DEBUG] nplinker_iokr.py:46, rank_smiles - Extract latent basis\n",
      "18:17:57 [DEBUG] nplinker_iokr.py:48, > 0.00s \n",
      "18:17:57 [DEBUG] nplinker_iokr.py:50, rank_smiles - Get kernel vector for input sample\n",
      "18:18:34 [DEBUG] nplinker_iokr.py:52, > 36.84s \n",
      "18:18:34 [DEBUG] nplinker_iokr.py:54, rank_smiles - Rank candidate set\n",
      "18:18:35 [DEBUG] nplinker_iokr.py:56, > 1.03s \n",
      "[BGC(name=100.AXVR01000001.1.region001, strain=100.AXVR01000001.1.region001)]\n"
     ]
    }
   ],
   "source": [
    "#\n",
    "# IOKR scoring\n",
    "#\n",
    "\n",
    "# select a Spectrum from somewhere\n",
    "spec = npl.spectra[0]\n",
    "# select some BGCs with SMILEs strings (accessing bgc.smiles will \n",
    "# attempt to extract it from the corresponding .gbk and cache it\n",
    "# in the object)\n",
    "bgc_names = ['100.AXVR01000001.1.region001']\n",
    "bgcs = [npl.lookup_bgc(n) for n in bgc_names]\n",
    "# run the scoring method and get back ranked list of BGCs\n",
    "print(IOKR.run_iokr_scoring(spec, bgcs))"
   ]
  },
  {
   "cell_type": "code",
   "execution_count": null,
   "metadata": {},
   "outputs": [],
   "source": []
  }
 ],
 "metadata": {
  "celltoolbar": "Raw Cell Format",
  "kernelspec": {
   "display_name": "Python 3",
   "language": "python",
   "name": "python3"
  },
  "language_info": {
   "codemirror_mode": {
    "name": "ipython",
    "version": 3
   },
   "file_extension": ".py",
   "mimetype": "text/x-python",
   "name": "python",
   "nbconvert_exporter": "python",
   "pygments_lexer": "ipython3",
   "version": "3.7.4"
  },
  "varInspector": {
   "cols": {
    "lenName": 16,
    "lenType": 16,
    "lenVar": 40
   },
   "kernels_config": {
    "python": {
     "delete_cmd_postfix": "",
     "delete_cmd_prefix": "del ",
     "library": "var_list.py",
     "varRefreshCmd": "print(var_dic_list())"
    },
    "r": {
     "delete_cmd_postfix": ") ",
     "delete_cmd_prefix": "rm(",
     "library": "var_list.r",
     "varRefreshCmd": "cat(var_dic_list()) "
    }
   },
   "types_to_exclude": [
    "module",
    "function",
    "builtin_function_or_method",
    "instance",
    "_Feature"
   ],
   "window_display": false
  }
 },
 "nbformat": 4,
 "nbformat_minor": 2
}
