{
 "cells": [
  {
   "cell_type": "code",
   "execution_count": 1,
   "metadata": {},
   "outputs": [],
   "source": [
    "%load_ext autoreload\n",
    "%autoreload 2"
   ]
  },
  {
   "cell_type": "code",
   "execution_count": 2,
   "metadata": {},
   "outputs": [],
   "source": [
    "import os, glob\n",
    "import numpy as np\n",
    "\n",
    "from nplinker_constants import nplinker_setup\n",
    "LDA_PATH = '../../lda/code'\n",
    "nplinker_setup(LDA_PATH=LDA_PATH)\n",
    "from metabolomics import load_metadata, load_edges, make_families, load_spectra\n",
    "from genomics import loadBGC_from_cluster_files\n",
    "from strainmanager import StrainManager\n",
    "from scoring import compute_all_scores_multi_np, metcalf_scoring_np"
   ]
  },
  {
   "cell_type": "code",
   "execution_count": 3,
   "metadata": {},
   "outputs": [],
   "source": [
    "DATASET = '/mnt/archive/nplinker_data/crusemann'\n",
    "MGF_FILE = os.path.join(DATASET, 'gnps/METABOLOMICS-SNETS-c36f90ba-download_clustered_spectra-main.mgf')\n",
    "NODES_FILE = os.path.join(DATASET, 'gnps/0d51c5b6c73b489185a5503d319977ab..out')\n",
    "EDGES_FILE = os.path.join(DATASET, 'gnps/9a93d720f69143bb9f971db39b5d2ba2.pairsinfo')\n",
    "ROOT_PATH = os.path.join(DATASET, 'bigscape/bigscape_corason_crusemann_complete_annotated_mibigs_mix_automode_20180713/network_files/2018-07-13_16-34-11_hybrids_auto_crusemann_bgcs_automode_mix_mibig')\n",
    "FOLDERS = ['NRPS','Others','PKSI','PKS-NRP_Hybrids','PKSother','RiPPs','Saccharides','Terpene']\n",
    "ANTISMASH_DIR = os.path.join(DATASET, 'antismash/justin-20181022/')"
   ]
  },
  {
   "cell_type": "code",
   "execution_count": 4,
   "metadata": {},
   "outputs": [
    {
     "name": "stdout",
     "output_type": "stream",
     "text": [
      "Loaded 5930 molecules\n"
     ]
    }
   ],
   "source": [
    "spectra = load_spectra(MGF_FILE)\n",
    "load_edges(spectra, EDGES_FILE)\n",
    "families = make_families(spectra)\n",
    "metadata = load_metadata(spectra, NODES_FILE)\n",
    "\n",
    "input_files = []\n",
    "ann_files = []\n",
    "mibig_bgc_dict = None\n",
    "\n",
    "for folder in FOLDERS:\n",
    "    fam_file = os.path.join(ROOT_PATH, folder)\n",
    "    cluster_file = glob.glob(fam_file + os.sep + folder + \"_clustering*\")\n",
    "    annotation_files = glob.glob(fam_file + os.sep + \"Network_*\")\n",
    "    input_files.append(cluster_file[0])\n",
    "    ann_files.append(annotation_files[0])\n",
    "gcf_list,bgc_list, strain_list = loadBGC_from_cluster_files(input_files, ann_files, antismash_dir=ANTISMASH_DIR, antismash_format = 'flat', mibig_bgc_dict=mibig_bgc_dict)"
   ]
  },
  {
   "cell_type": "code",
   "execution_count": 5,
   "metadata": {},
   "outputs": [
    {
     "name": "stdout",
     "output_type": "stream",
     "text": [
      "Loaded 199 strains\n"
     ]
    }
   ],
   "source": [
    "# merging all strain info into one place\n",
    "merged_strains = set()\n",
    "for s in strain_list: # from genomics source\n",
    "    merged_strains.add(s)\n",
    "for s in metadata: # from metabolomics source\n",
    "    merged_strains.add(s)\n",
    "    \n",
    "strainmanager = StrainManager(merged_strains)\n",
    "all_strains = strainmanager.all_strains_np # numpy array\n",
    "print('Loaded {} strains'.format(len(all_strains)))\n",
    "\n",
    "# generate the strain_prob_dict for setting up RandomSpectrum objects\n",
    "strain_prob_dict = strainmanager.generate_prob_dict(spectra)"
   ]
  },
  {
   "cell_type": "code",
   "execution_count": 6,
   "metadata": {},
   "outputs": [],
   "source": [
    "# adding random objects and scoring lookup tables\n",
    "\n",
    "# numpy.random.choice converts Python lists to numpy arrays internally\n",
    "# so doing that every time with a large list adds a ton of overhead, doing\n",
    "# it once beforehand is much much faster\n",
    "bgc_list = np.array(bgc_list)\n",
    "for g in gcf_list:\n",
    "    g.add_random(bgc_list)\n",
    "    # add a lookup table indicating which strains are present in each object\n",
    "    g.strains_lookup = strainmanager.generate_lookup_table(g.strains)\n",
    "    g.random_gcf.strains_lookup = strainmanager.generate_lookup_table(g.random_gcf.strains)\n",
    "    \n",
    "# same for spectra\n",
    "for s in spectra:\n",
    "    # TODO could probably convert this to numpy format as well\n",
    "    s.add_random(strain_prob_dict)\n",
    "    s.strains_lookup = strainmanager.generate_lookup_table(s.strain_set)\n",
    "    s.random_spectrum.strains_lookup = strainmanager.generate_lookup_table(s.strain_set)"
   ]
  },
  {
   "cell_type": "code",
   "execution_count": 8,
   "metadata": {},
   "outputs": [
    {
     "name": "stdout",
     "output_type": "stream",
     "text": [
      "compute_all_scores_np on CPU 0, processing 742 spectra\n",
      "compute_all_scores_np on CPU 1, processing 742 spectra\n",
      "compute_all_scores_np on CPU 2, processing 741 spectra\n",
      "compute_all_scores_np on CPU 3, processing 741 spectra\n",
      "compute_all_scores_np on CPU 4, processing 741 spectra\n",
      "compute_all_scores_np on CPU 5, processing 741 spectra\n",
      "compute_all_scores_np on CPU 6, processing 741 spectra\n",
      "compute_all_scores_np on CPU 7, processing 741 spectra\n",
      "compute_all_scores_np on CPU 5, total time = 23.4s, 31.6 scores/sec\n",
      "compute_all_scores_np on CPU 3, total time = 23.6s, 31.3 scores/sec\n",
      "compute_all_scores_np on CPU 4, total time = 23.8s, 31.1 scores/sec\n",
      "compute_all_scores_np on CPU 2, total time = 24.2s, 30.7 scores/sec\n",
      "compute_all_scores_np on CPU 0, total time = 32.6s, 22.8 scores/sec\n",
      "compute_all_scores_np on CPU 1, total time = 32.6s, 22.7 scores/sec\n",
      "compute_all_scores_np on CPU 7, total time = 32.7s, 22.7 scores/sec\n",
      "compute_all_scores_np on CPU 6, total time = 32.7s, 22.7 scores/sec\n",
      "Total time: 57.1 secs, 103.9 scores/sec\n"
     ]
    }
   ],
   "source": [
    "# use new scoring code like this:\n",
    "m_scores = compute_all_scores_multi_np(spectra, gcf_list, all_strains, metcalf_scoring_np, do_random=True)\n"
   ]
  },
  {
   "cell_type": "code",
   "execution_count": null,
   "metadata": {},
   "outputs": [],
   "source": []
  },
  {
   "cell_type": "code",
   "execution_count": null,
   "metadata": {},
   "outputs": [],
   "source": []
  }
 ],
 "metadata": {
  "kernelspec": {
   "display_name": "Python 3",
   "language": "python",
   "name": "python3"
  },
  "language_info": {
   "codemirror_mode": {
    "name": "ipython",
    "version": 3
   },
   "file_extension": ".py",
   "mimetype": "text/x-python",
   "name": "python",
   "nbconvert_exporter": "python",
   "pygments_lexer": "ipython3",
   "version": "3.6.5"
  }
 },
 "nbformat": 4,
 "nbformat_minor": 2
}
