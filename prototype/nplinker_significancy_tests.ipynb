{
 "cells": [
  {
   "cell_type": "markdown",
   "metadata": {},
   "source": [
    "### Example with DataLinks and LinkLikelihood class\n",
    "Testing a way to measure scores from co-occurences in the data."
   ]
  },
  {
   "cell_type": "code",
   "execution_count": 1,
   "metadata": {},
   "outputs": [],
   "source": [
    "# data locations\n",
    "DATASET = \"C:\\\\Users\\\\FlorianHuber\\\\OneDrive - Netherlands eScience Center\\\\Project_Wageningen_iOMEGA\"\n",
    "PATH_MS2LDA = DATASET + \"\\\\lda\\\\code\\\\\"\n",
    "PATH_MGF_DATA = DATASET + \"\\\\Data\\\\Crusemann_dataset\\\\Crusemann_only_Clutered_Data\\\\\"\n",
    "MIBIG_JSON_DIR = DATASET + \"\\\\Data\\\\mibig\\\\mibig_json_1.4\"\n",
    "\n",
    "NODES_FILE = PATH_MGF_DATA + \"clusterinfosummarygroup_attributes_withIDs\\\\0d51c5b6c73b489185a5503d319977ab..out\"\n",
    "\n",
    "MGF_FILE = PATH_MGF_DATA + \"METABOLOMICS-SNETS-c36f90ba-download_clustered_spectra-main.mgf\"\n",
    "EDGES_FILE = PATH_MGF_DATA + 'networkedges_selfloop\\\\9a93d720f69143bb9f971db39b5d2ba2.pairsinfo'\n",
    "\n",
    "ROOT_PATH = DATASET + \"\\\\Data\\mibig_select\\\\\"\n",
    "FOLDERS = ['NRPS','Others','PKSI','PKS-NRP_Hybrids','PKSother','RiPPs','Saccharides','Terpene']\n",
    "ANTISMASH_DIR = DATASET +\"\\\\Data\\\\Crusemann_dataset\\\\bgc_crusemann\\\\\"\n",
    "\n",
    "from nplinker_constants import nplinker_setup\n",
    "nplinker_setup(LDA_PATH=PATH_MS2LDA)"
   ]
  },
  {
   "cell_type": "code",
   "execution_count": 2,
   "metadata": {},
   "outputs": [],
   "source": [
    "# import from NPlinker\n",
    "from metabolomics import load_spectra\n",
    "from metabolomics import load_metadata\n",
    "from metabolomics import load_edges\n",
    "from metabolomics import make_families\n",
    "from genomics import loadBGC_from_cluster_files\n",
    "from genomics import make_mibig_bgc_dict\n",
    "\n",
    "from data_linking import DataLinks\n",
    "from data_linking import LinkLikelihood\n",
    "from data_linking import LinkFinder\n",
    "\n",
    "# import general packages\n",
    "import os\n",
    "import glob"
   ]
  },
  {
   "cell_type": "code",
   "execution_count": 4,
   "metadata": {},
   "outputs": [
    {
     "name": "stdout",
     "output_type": "stream",
     "text": [
      "Loaded 5930 molecules\n",
      "Found 1816 MiBIG json files\n"
     ]
    }
   ],
   "source": [
    "# load, initialize data\n",
    "nplinker_setup(LDA_PATH=PATH_MS2LDA)\n",
    "\n",
    "spectra = load_spectra(MGF_FILE)\n",
    "load_edges(spectra, EDGES_FILE)\n",
    "#families = make_families(spectra)\n",
    "metadata = load_metadata(spectra, NODES_FILE)\n",
    "\n",
    "input_files = []\n",
    "ann_files = []\n",
    "mibig_bgc_dict = make_mibig_bgc_dict(MIBIG_JSON_DIR)\n",
    "\n",
    "for folder in FOLDERS:\n",
    "    fam_file = os.path.join(ROOT_PATH, folder)\n",
    "    cluster_file = glob.glob(fam_file + os.sep + folder + \"_clustering*\")\n",
    "    annotation_files = glob.glob(fam_file + os.sep + \"Network_*\")\n",
    "    input_files.append(cluster_file[0])\n",
    "    ann_files.append(annotation_files[0])\n",
    "gcf_list, bgc_list, strain_list = loadBGC_from_cluster_files(input_files, ann_files, antismash_dir=ANTISMASH_DIR, antismash_format = 'flat', mibig_bgc_dict=mibig_bgc_dict)"
   ]
  },
  {
   "cell_type": "markdown",
   "metadata": {},
   "source": [
    "Now the data from the gene cluster families and spectra is loaded and initilized. \n",
    "\n",
    "The classes **DataLinks** and **LinkProbability** were written to test a possible alternative way to get correlation scores. The scoring is based on creating numpy co-occurence matrices which in principle should allow for very fast calculations."
   ]
  },
  {
   "cell_type": "code",
   "execution_count": 5,
   "metadata": {},
   "outputs": [
    {
     "name": "stdout",
     "output_type": "stream",
     "text": [
      "Create mappings between spectra, gcfs, and strains.\n",
      "Create co-occurence matrices: spectra<->strains + and gcfs<->strains.\n",
      "Create correlation matrices: spectra<->gcfs.\n",
      "Calculating correlation matrices of type:  spec-gcf\n",
      "\n",
      "Create correlation matrices: mol-families<->gcfs.\n",
      "Calculating correlation matrices of type:  fam-gcf\n",
      "\n"
     ]
    }
   ],
   "source": [
    "# extract relevant linking mappings calculate co-occurences\n",
    "data_links = DataLinks()\n",
    "data_links.load_data(spectra, gcf_list, strain_list)\n",
    "data_links.find_correlations(include_singletons=False)"
   ]
  },
  {
   "cell_type": "code",
   "execution_count": 6,
   "metadata": {},
   "outputs": [
    {
     "name": "stdout",
     "output_type": "stream",
     "text": [
      "Calculating likelihood matrices of type:  spec-gcf\n",
      "Calculating likelihood matrices of type:  fam-gcf\n"
     ]
    }
   ],
   "source": [
    "# Calculate link probabilities, such as:\n",
    "# P(gcf_x | spec_y) = probability to find gcf_x in a strain, given spec_y is present\n",
    "# P(gcf_x | not spec_y) = probability to find gcf_x in a strain, given spec_y is NOT present \n",
    "likelihoods = LinkLikelihood()\n",
    "likelihoods.calculate_likelihoods(data_links, type='spec-gcf')\n",
    "likelihoods.calculate_likelihoods(data_links, type='fam-gcf')"
   ]
  },
  {
   "cell_type": "markdown",
   "metadata": {},
   "source": [
    "### Select potential link candidates\n",
    "#### Search for links between GCFs and spectra, and between GCFs and mol. families\n",
    "Can now be done using the metcalf score or based on the likelihood (\"likelihood score\"). "
   ]
  },
  {
   "cell_type": "code",
   "execution_count": 7,
   "metadata": {},
   "outputs": [
    {
     "data": {
      "text/plain": [
       "array([[   54.,    54.,    54., ...,    23.,    54.,    31.],\n",
       "       [-1002., -1002., -1002., ...,  -907., -1023.,  -983.],\n",
       "       [ -815.,  -815.,  -815., ...,  -678.,  -815.,  -796.],\n",
       "       ...,\n",
       "       [  121.,   121.,   121., ...,   132.,   121.,   119.],\n",
       "       [  132.,   132.,   132., ...,   122.,   132.,   151.],\n",
       "       [  143.,   143.,   143., ...,   133.,   143.,   141.]])"
      ]
     },
     "execution_count": 7,
     "metadata": {},
     "output_type": "execute_result"
    }
   ],
   "source": [
    "linkcandidates = LinkFinder()\n",
    "\n",
    "linkcandidates.metcalf_scoring(data_links,\n",
    "                        both=10, \n",
    "                        type1_not_gcf=-10, \n",
    "                        gcf_not_type1=0,\n",
    "                        type='spec-gcf')\n",
    "\n",
    "linkcandidates.metcalf_scoring(data_links,\n",
    "                        both=10, \n",
    "                        type1_not_gcf=-10, \n",
    "                        gcf_not_type1=0,\n",
    "                        type='fam-gcf')"
   ]
  },
  {
   "cell_type": "markdown",
   "metadata": {},
   "source": [
    "Here is the second type of score(the one I had used before). Like the metcalf score it takes into account the directionality BGC-->compound-->spectrum, which suggests that the most relevant likelihoods are: \n",
    "\n",
    "P(gcf|type1) - If type1 is the result of only one particular gene cluster,\n",
    "                            this value should be high (close or equal to 1)\n",
    "\n",
    "P(type1|not gcf) - Following the same logic, this value should be very \n",
    "                                small or 0 (\"no gene cluster, no compound\") P(gcf_x | spec_y).\n",
    "                                \n",
    "This is then weighted by the number of strains this co-occurence was found in."
   ]
  },
  {
   "cell_type": "code",
   "execution_count": 8,
   "metadata": {},
   "outputs": [
    {
     "data": {
      "text/plain": [
       "array([[0.03687055, 0.03687055, 0.03687055, ..., 0.        , 0.03687055,\n",
       "        0.        ],\n",
       "       [0.0009864 , 0.0009864 , 0.0009864 , ..., 0.01334531, 0.        ,\n",
       "        0.00312973],\n",
       "       [0.00170039, 0.00170039, 0.00170039, ..., 0.03450035, 0.00170039,\n",
       "        0.0054402 ],\n",
       "       ...,\n",
       "       [0.        , 0.        , 0.        , ..., 0.19525546, 0.        ,\n",
       "        0.        ],\n",
       "       [0.        , 0.        , 0.        , ..., 0.        , 0.        ,\n",
       "        0.39346934],\n",
       "       [0.        , 0.        , 0.        , ..., 0.        , 0.        ,\n",
       "        0.        ]])"
      ]
     },
     "execution_count": 8,
     "metadata": {},
     "output_type": "execute_result"
    }
   ],
   "source": [
    "linkcandidates.likelihood_scoring(data_links, likelihoods, \n",
    "                        alpha_weighing=0.5,\n",
    "                        type='spec-gcf')\n",
    "\n",
    "linkcandidates.likelihood_scoring(data_links, likelihoods, \n",
    "                        alpha_weighing=0.5,\n",
    "                        type='fam-gcf')"
   ]
  },
  {
   "cell_type": "markdown",
   "metadata": {},
   "source": [
    "Using those scores it is then possible to select suitable, promising candidates for potential links between spectra and GCFs, or mol.families and GCFs."
   ]
  },
  {
   "cell_type": "code",
   "execution_count": 9,
   "metadata": {},
   "outputs": [
    {
     "name": "stdout",
     "output_type": "stream",
     "text": [
      "12197  candidates selected with  P(gcf|spec)  >=  0.9  and a link score >=  0.6 .\n",
      "2319  candidates selected with  P(gcf|fam)  >=  0.8  and a link score >=  0 .\n"
     ]
    }
   ],
   "source": [
    "link_candidates_spec = linkcandidates.select_link_candidates(data_links, likelihoods,\n",
    "                               P_cutoff=0.9, \n",
    "                               main_score='likescore',\n",
    "                               score_cutoff=0.6, \n",
    "                               type='spec-gcf')\n",
    "\n",
    "link_candidates_fam = linkcandidates.select_link_candidates(data_links, likelihoods,\n",
    "                               P_cutoff=0.8, \n",
    "                               main_score='likescore',\n",
    "                               score_cutoff=0, \n",
    "                               type='fam-gcf')"
   ]
  },
  {
   "cell_type": "markdown",
   "metadata": {},
   "source": [
    "What becomes apparent is that the score I used and metcalf are indeed very similar in the sense that they nearly sort candidates the same way. The score I use here (\"likescore\"or \"likelihood score\") might have the advantage that it is normalized to (0,1). "
   ]
  },
  {
   "cell_type": "code",
   "execution_count": 10,
   "metadata": {},
   "outputs": [
    {
     "data": {
      "text/html": [
       "<div>\n",
       "<style scoped>\n",
       "    .dataframe tbody tr th:only-of-type {\n",
       "        vertical-align: middle;\n",
       "    }\n",
       "\n",
       "    .dataframe tbody tr th {\n",
       "        vertical-align: top;\n",
       "    }\n",
       "\n",
       "    .dataframe thead th {\n",
       "        text-align: right;\n",
       "    }\n",
       "</style>\n",
       "<table border=\"1\" class=\"dataframe\">\n",
       "  <thead>\n",
       "    <tr style=\"text-align: right;\">\n",
       "      <th></th>\n",
       "      <th>family_id</th>\n",
       "      <th>GCF id</th>\n",
       "      <th>P(gcf|fam)</th>\n",
       "      <th>P(fam|gcf)</th>\n",
       "      <th>P(gcf|not fam)</th>\n",
       "      <th>P(fam|not gcf)</th>\n",
       "      <th>co-occur in # strains</th>\n",
       "      <th>metcalf score</th>\n",
       "      <th>likelihood score</th>\n",
       "      <th>BGC class</th>\n",
       "    </tr>\n",
       "  </thead>\n",
       "  <tbody>\n",
       "    <tr>\n",
       "      <th>1594</th>\n",
       "      <td>282.0</td>\n",
       "      <td>499.0</td>\n",
       "      <td>0.9</td>\n",
       "      <td>0.180000</td>\n",
       "      <td>0.305970</td>\n",
       "      <td>0.010638</td>\n",
       "      <td>9.0</td>\n",
       "      <td>173.0</td>\n",
       "      <td>0.880534</td>\n",
       "      <td>Others</td>\n",
       "    </tr>\n",
       "    <tr>\n",
       "      <th>84</th>\n",
       "      <td>27.0</td>\n",
       "      <td>426.0</td>\n",
       "      <td>1.0</td>\n",
       "      <td>0.081633</td>\n",
       "      <td>0.321429</td>\n",
       "      <td>0.000000</td>\n",
       "      <td>4.0</td>\n",
       "      <td>135.0</td>\n",
       "      <td>0.864665</td>\n",
       "      <td>Others</td>\n",
       "    </tr>\n",
       "    <tr>\n",
       "      <th>165</th>\n",
       "      <td>43.0</td>\n",
       "      <td>556.0</td>\n",
       "      <td>1.0</td>\n",
       "      <td>0.117647</td>\n",
       "      <td>0.214286</td>\n",
       "      <td>0.000000</td>\n",
       "      <td>4.0</td>\n",
       "      <td>150.0</td>\n",
       "      <td>0.864665</td>\n",
       "      <td>Others</td>\n",
       "    </tr>\n",
       "    <tr>\n",
       "      <th>166</th>\n",
       "      <td>43.0</td>\n",
       "      <td>591.0</td>\n",
       "      <td>1.0</td>\n",
       "      <td>0.133333</td>\n",
       "      <td>0.185714</td>\n",
       "      <td>0.000000</td>\n",
       "      <td>4.0</td>\n",
       "      <td>154.0</td>\n",
       "      <td>0.864665</td>\n",
       "      <td>Others</td>\n",
       "    </tr>\n",
       "    <tr>\n",
       "      <th>167</th>\n",
       "      <td>43.0</td>\n",
       "      <td>815.0</td>\n",
       "      <td>1.0</td>\n",
       "      <td>0.133333</td>\n",
       "      <td>0.185714</td>\n",
       "      <td>0.000000</td>\n",
       "      <td>4.0</td>\n",
       "      <td>154.0</td>\n",
       "      <td>0.864665</td>\n",
       "      <td>Others</td>\n",
       "    </tr>\n",
       "    <tr>\n",
       "      <th>168</th>\n",
       "      <td>43.0</td>\n",
       "      <td>829.0</td>\n",
       "      <td>1.0</td>\n",
       "      <td>0.086957</td>\n",
       "      <td>0.300000</td>\n",
       "      <td>0.000000</td>\n",
       "      <td>4.0</td>\n",
       "      <td>138.0</td>\n",
       "      <td>0.864665</td>\n",
       "      <td>Others</td>\n",
       "    </tr>\n",
       "    <tr>\n",
       "      <th>169</th>\n",
       "      <td>43.0</td>\n",
       "      <td>970.0</td>\n",
       "      <td>1.0</td>\n",
       "      <td>0.080000</td>\n",
       "      <td>0.328571</td>\n",
       "      <td>0.000000</td>\n",
       "      <td>4.0</td>\n",
       "      <td>134.0</td>\n",
       "      <td>0.864665</td>\n",
       "      <td>Others</td>\n",
       "    </tr>\n",
       "    <tr>\n",
       "      <th>170</th>\n",
       "      <td>43.0</td>\n",
       "      <td>1489.0</td>\n",
       "      <td>1.0</td>\n",
       "      <td>0.095238</td>\n",
       "      <td>0.271429</td>\n",
       "      <td>0.000000</td>\n",
       "      <td>4.0</td>\n",
       "      <td>142.0</td>\n",
       "      <td>0.864665</td>\n",
       "      <td>Saccharides</td>\n",
       "    </tr>\n",
       "    <tr>\n",
       "      <th>280</th>\n",
       "      <td>68.0</td>\n",
       "      <td>824.0</td>\n",
       "      <td>1.0</td>\n",
       "      <td>0.166667</td>\n",
       "      <td>0.142857</td>\n",
       "      <td>0.000000</td>\n",
       "      <td>4.0</td>\n",
       "      <td>160.0</td>\n",
       "      <td>0.864665</td>\n",
       "      <td>Others</td>\n",
       "    </tr>\n",
       "    <tr>\n",
       "      <th>281</th>\n",
       "      <td>68.0</td>\n",
       "      <td>1558.0</td>\n",
       "      <td>1.0</td>\n",
       "      <td>0.125000</td>\n",
       "      <td>0.200000</td>\n",
       "      <td>0.000000</td>\n",
       "      <td>4.0</td>\n",
       "      <td>152.0</td>\n",
       "      <td>0.864665</td>\n",
       "      <td>Terpene</td>\n",
       "    </tr>\n",
       "  </tbody>\n",
       "</table>\n",
       "</div>"
      ],
      "text/plain": [
       "      family_id  GCF id  P(gcf|fam)  P(fam|gcf)  P(gcf|not fam)  \\\n",
       "1594      282.0   499.0         0.9    0.180000        0.305970   \n",
       "84         27.0   426.0         1.0    0.081633        0.321429   \n",
       "165        43.0   556.0         1.0    0.117647        0.214286   \n",
       "166        43.0   591.0         1.0    0.133333        0.185714   \n",
       "167        43.0   815.0         1.0    0.133333        0.185714   \n",
       "168        43.0   829.0         1.0    0.086957        0.300000   \n",
       "169        43.0   970.0         1.0    0.080000        0.328571   \n",
       "170        43.0  1489.0         1.0    0.095238        0.271429   \n",
       "280        68.0   824.0         1.0    0.166667        0.142857   \n",
       "281        68.0  1558.0         1.0    0.125000        0.200000   \n",
       "\n",
       "      P(fam|not gcf)  co-occur in # strains  metcalf score  likelihood score  \\\n",
       "1594        0.010638                    9.0          173.0          0.880534   \n",
       "84          0.000000                    4.0          135.0          0.864665   \n",
       "165         0.000000                    4.0          150.0          0.864665   \n",
       "166         0.000000                    4.0          154.0          0.864665   \n",
       "167         0.000000                    4.0          154.0          0.864665   \n",
       "168         0.000000                    4.0          138.0          0.864665   \n",
       "169         0.000000                    4.0          134.0          0.864665   \n",
       "170         0.000000                    4.0          142.0          0.864665   \n",
       "280         0.000000                    4.0          160.0          0.864665   \n",
       "281         0.000000                    4.0          152.0          0.864665   \n",
       "\n",
       "        BGC class  \n",
       "1594       Others  \n",
       "84         Others  \n",
       "165        Others  \n",
       "166        Others  \n",
       "167        Others  \n",
       "168        Others  \n",
       "169        Others  \n",
       "170   Saccharides  \n",
       "280        Others  \n",
       "281       Terpene  "
      ]
     },
     "execution_count": 10,
     "metadata": {},
     "output_type": "execute_result"
    }
   ],
   "source": [
    "# Show table of potential gcf<-> spectrum link candidates\n",
    "#link_candidates_fam.head()\n",
    "link_candidates_fam.nlargest(10, 'likelihood score')"
   ]
  },
  {
   "cell_type": "code",
   "execution_count": 11,
   "metadata": {},
   "outputs": [
    {
     "data": {
      "text/plain": [
       "95.12917572869415"
      ]
     },
     "execution_count": 11,
     "metadata": {},
     "output_type": "execute_result"
    }
   ],
   "source": [
    "import numpy as np\n",
    "np.mean(linkcandidates.metcalf_spec_gcf)"
   ]
  },
  {
   "cell_type": "markdown",
   "metadata": {},
   "source": [
    "## Metcalf score with neither:\n",
    "Still seems problematic to me. For the Crusemann dataset most GCFs and spectra only occur in 1 or 2 strains. Given that we have about 140 strains, they would still score around +100 to +130 quite often."
   ]
  },
  {
   "cell_type": "code",
   "execution_count": 12,
   "metadata": {},
   "outputs": [],
   "source": [
    "from data_linking import RandomisedDataLinks"
   ]
  },
  {
   "cell_type": "code",
   "execution_count": 13,
   "metadata": {},
   "outputs": [
    {
     "name": "stdout",
     "output_type": "stream",
     "text": [
      "(5930, 1574)\n",
      "(5930, 1574)\n"
     ]
    }
   ],
   "source": [
    "ms = linkcandidates.metcalf_scoring(data_links,\n",
    "                        both=10, \n",
    "                        type1_not_gcf=-10, \n",
    "                        gcf_not_type1=0,\n",
    "                        not_type1_not_gcf=0,\n",
    "                        type='spec-gcf')\n",
    "\n",
    "print(linkcandidates.metcalf_spec_gcf.shape)\n",
    "\n",
    "ls = linkcandidates.likescores_spec_gcf\n",
    "print(ls.shape)"
   ]
  },
  {
   "cell_type": "markdown",
   "metadata": {},
   "source": [
    "Moving on to do some tests with the \n",
    "### RandomisedDataLinks...\n",
    "To see how reproducible the method is I ran RamdomisedDatLinks 50 times and compared the results:"
   ]
  },
  {
   "cell_type": "code",
   "execution_count": 14,
   "metadata": {},
   "outputs": [
    {
     "name": "stdout",
     "output_type": "stream",
     "text": [
      "Create correlation matrices: spectra<->gcfs.\n",
      "Calculating correlation matrices of type:  spec-gcf\n",
      "\n",
      "Create correlation matrices: mol-families<->gcfs.\n",
      "Calculating correlation matrices of type:  fam-gcf\n",
      "\n",
      "Create correlation matrices: spectra<->gcfs.\n",
      "Calculating correlation matrices of type:  spec-gcf\n",
      "\n",
      "Create correlation matrices: mol-families<->gcfs.\n",
      "Calculating correlation matrices of type:  fam-gcf\n",
      "\n",
      "Create correlation matrices: spectra<->gcfs.\n",
      "Calculating correlation matrices of type:  spec-gcf\n",
      "\n",
      "Create correlation matrices: mol-families<->gcfs.\n",
      "Calculating correlation matrices of type:  fam-gcf\n",
      "\n",
      "Create correlation matrices: spectra<->gcfs.\n",
      "Calculating correlation matrices of type:  spec-gcf\n",
      "\n",
      "Create correlation matrices: mol-families<->gcfs.\n",
      "Calculating correlation matrices of type:  fam-gcf\n",
      "\n",
      "Create correlation matrices: spectra<->gcfs.\n",
      "Calculating correlation matrices of type:  spec-gcf\n",
      "\n",
      "Create correlation matrices: mol-families<->gcfs.\n",
      "Calculating correlation matrices of type:  fam-gcf\n",
      "\n",
      "Create correlation matrices: spectra<->gcfs.\n",
      "Calculating correlation matrices of type:  spec-gcf\n",
      "\n",
      "Create correlation matrices: mol-families<->gcfs.\n",
      "Calculating correlation matrices of type:  fam-gcf\n",
      "\n",
      "Create correlation matrices: spectra<->gcfs.\n",
      "Calculating correlation matrices of type:  spec-gcf\n",
      "\n",
      "Create correlation matrices: mol-families<->gcfs.\n",
      "Calculating correlation matrices of type:  fam-gcf\n",
      "\n",
      "Create correlation matrices: spectra<->gcfs.\n",
      "Calculating correlation matrices of type:  spec-gcf\n",
      "\n",
      "Create correlation matrices: mol-families<->gcfs.\n",
      "Calculating correlation matrices of type:  fam-gcf\n",
      "\n",
      "Create correlation matrices: spectra<->gcfs.\n",
      "Calculating correlation matrices of type:  spec-gcf\n",
      "\n",
      "Create correlation matrices: mol-families<->gcfs.\n",
      "Calculating correlation matrices of type:  fam-gcf\n",
      "\n",
      "Create correlation matrices: spectra<->gcfs.\n",
      "Calculating correlation matrices of type:  spec-gcf\n",
      "\n",
      "Create correlation matrices: mol-families<->gcfs.\n",
      "Calculating correlation matrices of type:  fam-gcf\n",
      "\n",
      "Create correlation matrices: spectra<->gcfs.\n",
      "Calculating correlation matrices of type:  spec-gcf\n",
      "\n",
      "Create correlation matrices: mol-families<->gcfs.\n",
      "Calculating correlation matrices of type:  fam-gcf\n",
      "\n",
      "Create correlation matrices: spectra<->gcfs.\n",
      "Calculating correlation matrices of type:  spec-gcf\n",
      "\n",
      "Create correlation matrices: mol-families<->gcfs.\n",
      "Calculating correlation matrices of type:  fam-gcf\n",
      "\n",
      "Create correlation matrices: spectra<->gcfs.\n",
      "Calculating correlation matrices of type:  spec-gcf\n",
      "\n",
      "Create correlation matrices: mol-families<->gcfs.\n",
      "Calculating correlation matrices of type:  fam-gcf\n",
      "\n",
      "Create correlation matrices: spectra<->gcfs.\n",
      "Calculating correlation matrices of type:  spec-gcf\n",
      "\n",
      "Create correlation matrices: mol-families<->gcfs.\n",
      "Calculating correlation matrices of type:  fam-gcf\n",
      "\n",
      "Create correlation matrices: spectra<->gcfs.\n",
      "Calculating correlation matrices of type:  spec-gcf\n",
      "\n",
      "Create correlation matrices: mol-families<->gcfs.\n",
      "Calculating correlation matrices of type:  fam-gcf\n",
      "\n",
      "Create correlation matrices: spectra<->gcfs.\n",
      "Calculating correlation matrices of type:  spec-gcf\n",
      "\n",
      "Create correlation matrices: mol-families<->gcfs.\n",
      "Calculating correlation matrices of type:  fam-gcf\n",
      "\n",
      "Create correlation matrices: spectra<->gcfs.\n",
      "Calculating correlation matrices of type:  spec-gcf\n",
      "\n",
      "Create correlation matrices: mol-families<->gcfs.\n",
      "Calculating correlation matrices of type:  fam-gcf\n",
      "\n",
      "Create correlation matrices: spectra<->gcfs.\n",
      "Calculating correlation matrices of type:  spec-gcf\n",
      "\n",
      "Create correlation matrices: mol-families<->gcfs.\n",
      "Calculating correlation matrices of type:  fam-gcf\n",
      "\n",
      "Create correlation matrices: spectra<->gcfs.\n",
      "Calculating correlation matrices of type:  spec-gcf\n",
      "\n",
      "Create correlation matrices: mol-families<->gcfs.\n",
      "Calculating correlation matrices of type:  fam-gcf\n",
      "\n",
      "Create correlation matrices: spectra<->gcfs.\n",
      "Calculating correlation matrices of type:  spec-gcf\n",
      "\n",
      "Create correlation matrices: mol-families<->gcfs.\n",
      "Calculating correlation matrices of type:  fam-gcf\n",
      "\n"
     ]
    }
   ],
   "source": [
    "test_runs = 100\n",
    "\n",
    "test_max_rms = np.zeros((ls.shape[0], test_runs))\n",
    "test_max_rls = np.zeros((ls.shape[0], test_runs))\n",
    "for i in range(test_runs):\n",
    "    rdata_links = RandomisedDataLinks.from_datalinks(data_links)\n",
    "    rdata_links.find_correlations(include_singletons=False)\n",
    "    rms = linkcandidates.metcalf_scoring(rdata_links, not_type1_not_gcf=0, type='spec-gcf')\n",
    "    \n",
    "    rls = linkcandidates.likelihood_scoring(rdata_links, likelihoods, \n",
    "                        alpha_weighing=0.5,\n",
    "                        type='spec-gcf')\n",
    "    \n",
    "    test_max_rms[:,i] = np.max(rms, axis=1) \n",
    "    test_max_rls[:,i] = np.max(rls, axis=1)"
   ]
  },
  {
   "cell_type": "code",
   "execution_count": 15,
   "metadata": {},
   "outputs": [],
   "source": [
    "import pandas as pd\n",
    "rms_summary = np.zeros((ls.shape[0], 4))\n",
    "rms_summary[:,0] = np.mean(test_max_rms, axis=1)\n",
    "rms_summary[:,1] = np.std(test_max_rms, axis=1)\n",
    "rms_summary[:,2] = np.min(test_max_rms, axis=1)\n",
    "rms_summary[:,3] = np.max(test_max_rms, axis=1)\n",
    "rms_summary = pd.DataFrame(rms_summary, columns = ['Mean','STD','Min','Max'])\n",
    "\n",
    "rls_summary = np.zeros((ls.shape[0], 4))\n",
    "rls_summary[:,0] = np.mean(test_max_rls, axis=1)\n",
    "rls_summary[:,1] = np.std(test_max_rls, axis=1)\n",
    "rls_summary[:,2] = np.min(test_max_rls, axis=1)\n",
    "rls_summary[:,3] = np.max(test_max_rls, axis=1)\n",
    "rls_summary = pd.DataFrame(rls_summary, columns = ['Mean','STD','Min','Max'])"
   ]
  },
  {
   "cell_type": "code",
   "execution_count": 16,
   "metadata": {},
   "outputs": [
    {
     "data": {
      "text/html": [
       "<div>\n",
       "<style scoped>\n",
       "    .dataframe tbody tr th:only-of-type {\n",
       "        vertical-align: middle;\n",
       "    }\n",
       "\n",
       "    .dataframe tbody tr th {\n",
       "        vertical-align: top;\n",
       "    }\n",
       "\n",
       "    .dataframe thead th {\n",
       "        text-align: right;\n",
       "    }\n",
       "</style>\n",
       "<table border=\"1\" class=\"dataframe\">\n",
       "  <thead>\n",
       "    <tr style=\"text-align: right;\">\n",
       "      <th></th>\n",
       "      <th>Mean</th>\n",
       "      <th>STD</th>\n",
       "      <th>Min</th>\n",
       "      <th>Max</th>\n",
       "    </tr>\n",
       "  </thead>\n",
       "  <tbody>\n",
       "    <tr>\n",
       "      <th>0</th>\n",
       "      <td>0.6</td>\n",
       "      <td>7.323933</td>\n",
       "      <td>-20.0</td>\n",
       "      <td>20.0</td>\n",
       "    </tr>\n",
       "    <tr>\n",
       "      <th>1</th>\n",
       "      <td>0.6</td>\n",
       "      <td>11.385956</td>\n",
       "      <td>-30.0</td>\n",
       "      <td>50.0</td>\n",
       "    </tr>\n",
       "    <tr>\n",
       "      <th>2</th>\n",
       "      <td>2.0</td>\n",
       "      <td>9.165151</td>\n",
       "      <td>-20.0</td>\n",
       "      <td>30.0</td>\n",
       "    </tr>\n",
       "    <tr>\n",
       "      <th>3</th>\n",
       "      <td>1.4</td>\n",
       "      <td>8.002500</td>\n",
       "      <td>-20.0</td>\n",
       "      <td>40.0</td>\n",
       "    </tr>\n",
       "    <tr>\n",
       "      <th>4</th>\n",
       "      <td>-0.4</td>\n",
       "      <td>9.372300</td>\n",
       "      <td>-30.0</td>\n",
       "      <td>20.0</td>\n",
       "    </tr>\n",
       "    <tr>\n",
       "      <th>5</th>\n",
       "      <td>0.2</td>\n",
       "      <td>8.364209</td>\n",
       "      <td>-20.0</td>\n",
       "      <td>30.0</td>\n",
       "    </tr>\n",
       "    <tr>\n",
       "      <th>6</th>\n",
       "      <td>0.4</td>\n",
       "      <td>9.372300</td>\n",
       "      <td>-30.0</td>\n",
       "      <td>30.0</td>\n",
       "    </tr>\n",
       "    <tr>\n",
       "      <th>7</th>\n",
       "      <td>-0.6</td>\n",
       "      <td>9.467840</td>\n",
       "      <td>-20.0</td>\n",
       "      <td>30.0</td>\n",
       "    </tr>\n",
       "    <tr>\n",
       "      <th>8</th>\n",
       "      <td>1.6</td>\n",
       "      <td>9.024411</td>\n",
       "      <td>-30.0</td>\n",
       "      <td>40.0</td>\n",
       "    </tr>\n",
       "    <tr>\n",
       "      <th>9</th>\n",
       "      <td>-0.8</td>\n",
       "      <td>9.765244</td>\n",
       "      <td>-40.0</td>\n",
       "      <td>20.0</td>\n",
       "    </tr>\n",
       "  </tbody>\n",
       "</table>\n",
       "</div>"
      ],
      "text/plain": [
       "   Mean        STD   Min   Max\n",
       "0   0.6   7.323933 -20.0  20.0\n",
       "1   0.6  11.385956 -30.0  50.0\n",
       "2   2.0   9.165151 -20.0  30.0\n",
       "3   1.4   8.002500 -20.0  40.0\n",
       "4  -0.4   9.372300 -30.0  20.0\n",
       "5   0.2   8.364209 -20.0  30.0\n",
       "6   0.4   9.372300 -30.0  30.0\n",
       "7  -0.6   9.467840 -20.0  30.0\n",
       "8   1.6   9.024411 -30.0  40.0\n",
       "9  -0.8   9.765244 -40.0  20.0"
      ]
     },
     "execution_count": 16,
     "metadata": {},
     "output_type": "execute_result"
    }
   ],
   "source": [
    "rms_summary.head(10)  # Metcalf score (neither =0)"
   ]
  },
  {
   "cell_type": "code",
   "execution_count": 17,
   "metadata": {},
   "outputs": [
    {
     "data": {
      "text/html": [
       "<div>\n",
       "<style scoped>\n",
       "    .dataframe tbody tr th:only-of-type {\n",
       "        vertical-align: middle;\n",
       "    }\n",
       "\n",
       "    .dataframe tbody tr th {\n",
       "        vertical-align: top;\n",
       "    }\n",
       "\n",
       "    .dataframe thead th {\n",
       "        text-align: right;\n",
       "    }\n",
       "</style>\n",
       "<table border=\"1\" class=\"dataframe\">\n",
       "  <thead>\n",
       "    <tr style=\"text-align: right;\">\n",
       "      <th></th>\n",
       "      <th>Mean</th>\n",
       "      <th>STD</th>\n",
       "      <th>Min</th>\n",
       "      <th>Max</th>\n",
       "    </tr>\n",
       "  </thead>\n",
       "  <tbody>\n",
       "    <tr>\n",
       "      <th>0</th>\n",
       "      <td>0.205934</td>\n",
       "      <td>0.278587</td>\n",
       "      <td>0.0</td>\n",
       "      <td>0.776870</td>\n",
       "    </tr>\n",
       "    <tr>\n",
       "      <th>1</th>\n",
       "      <td>0.047216</td>\n",
       "      <td>0.127862</td>\n",
       "      <td>0.0</td>\n",
       "      <td>0.393469</td>\n",
       "    </tr>\n",
       "    <tr>\n",
       "      <th>2</th>\n",
       "      <td>0.052284</td>\n",
       "      <td>0.090898</td>\n",
       "      <td>0.0</td>\n",
       "      <td>0.247311</td>\n",
       "    </tr>\n",
       "    <tr>\n",
       "      <th>3</th>\n",
       "      <td>0.086563</td>\n",
       "      <td>0.162993</td>\n",
       "      <td>0.0</td>\n",
       "      <td>0.393469</td>\n",
       "    </tr>\n",
       "    <tr>\n",
       "      <th>4</th>\n",
       "      <td>0.052523</td>\n",
       "      <td>0.067731</td>\n",
       "      <td>0.0</td>\n",
       "      <td>0.188067</td>\n",
       "    </tr>\n",
       "    <tr>\n",
       "      <th>5</th>\n",
       "      <td>0.053823</td>\n",
       "      <td>0.076710</td>\n",
       "      <td>0.0</td>\n",
       "      <td>0.264136</td>\n",
       "    </tr>\n",
       "    <tr>\n",
       "      <th>6</th>\n",
       "      <td>0.038962</td>\n",
       "      <td>0.067261</td>\n",
       "      <td>0.0</td>\n",
       "      <td>0.246527</td>\n",
       "    </tr>\n",
       "    <tr>\n",
       "      <th>7</th>\n",
       "      <td>0.213278</td>\n",
       "      <td>0.302407</td>\n",
       "      <td>0.0</td>\n",
       "      <td>0.864665</td>\n",
       "    </tr>\n",
       "    <tr>\n",
       "      <th>8</th>\n",
       "      <td>0.123074</td>\n",
       "      <td>0.181196</td>\n",
       "      <td>0.0</td>\n",
       "      <td>0.632121</td>\n",
       "    </tr>\n",
       "    <tr>\n",
       "      <th>9</th>\n",
       "      <td>0.160211</td>\n",
       "      <td>0.237799</td>\n",
       "      <td>0.0</td>\n",
       "      <td>0.864665</td>\n",
       "    </tr>\n",
       "  </tbody>\n",
       "</table>\n",
       "</div>"
      ],
      "text/plain": [
       "       Mean       STD  Min       Max\n",
       "0  0.205934  0.278587  0.0  0.776870\n",
       "1  0.047216  0.127862  0.0  0.393469\n",
       "2  0.052284  0.090898  0.0  0.247311\n",
       "3  0.086563  0.162993  0.0  0.393469\n",
       "4  0.052523  0.067731  0.0  0.188067\n",
       "5  0.053823  0.076710  0.0  0.264136\n",
       "6  0.038962  0.067261  0.0  0.246527\n",
       "7  0.213278  0.302407  0.0  0.864665\n",
       "8  0.123074  0.181196  0.0  0.632121\n",
       "9  0.160211  0.237799  0.0  0.864665"
      ]
     },
     "execution_count": 17,
     "metadata": {},
     "output_type": "execute_result"
    }
   ],
   "source": [
    "rls_summary.head(10)  # Likelihood score"
   ]
  },
  {
   "cell_type": "markdown",
   "metadata": {},
   "source": [
    "### Issues with significancy measure\n",
    "It appears like the max_rand and min_rand within the get_sig_links function are not a good-enough measure to define if a potential link is really significant. \n",
    "In the end it fluctuated a lot and will give different results every time we run it.\n",
    "\n",
    "My feeling is, that we can not assign a significance value per GCF or per spectra (at least not this way).\n",
    "What we can get is a feeling for how likely it is to get certain likelihood or metcalf scores simply by chance!\n",
    "\n",
    "Unfortunately, no matter how high the score, it seems that chances remain fairly high that it will only  be a false positive. "
   ]
  },
  {
   "cell_type": "code",
   "execution_count": 18,
   "metadata": {},
   "outputs": [],
   "source": [
    "# Counting scores in bins\n",
    "cum_rls = []\n",
    "cum_ls = []\n",
    "for i in range(100):\n",
    "    cum_rls.append(np.sum((rls > i/100)))\n",
    "    cum_ls.append(np.sum((ls > i/100)))"
   ]
  },
  {
   "cell_type": "code",
   "execution_count": 19,
   "metadata": {},
   "outputs": [
    {
     "data": {
      "text/plain": [
       "<matplotlib.legend.Legend at 0x22150f2f048>"
      ]
     },
     "execution_count": 19,
     "metadata": {},
     "output_type": "execute_result"
    },
    {
     "data": {
      "image/png": "[encoded data removed]",
      "text/plain": [
       "<Figure size 432x288 with 1 Axes>"
      ]
     },
     "metadata": {},
     "output_type": "display_data"
    }
   ],
   "source": [
    "from matplotlib import pyplot as plt\n",
    "plt.plot(cum_rls, 'r', label='randomized data')  \n",
    "plt.plot(cum_ls, 'black', label='original data')    \n",
    "plt.legend()  "
   ]
  },
  {
   "cell_type": "code",
   "execution_count": 21,
   "metadata": {},
   "outputs": [],
   "source": [
    "# same for metcalf scores (here only positive ones)\n",
    "cum_rms = []\n",
    "cum_ms = []\n",
    "for i in range(100):\n",
    "    cum_rms.append(np.sum(rms > i))\n",
    "    cum_ms.append(np.sum(ms > i))\n",
    "    "
   ]
  },
  {
   "cell_type": "code",
   "execution_count": 22,
   "metadata": {},
   "outputs": [
    {
     "data": {
      "text/plain": [
       "<matplotlib.legend.Legend at 0x22151b596d8>"
      ]
     },
     "execution_count": 22,
     "metadata": {},
     "output_type": "execute_result"
    },
    {
     "data": {
      "image/png": "[encoded data removed]",
      "text/plain": [
       "<Figure size 432x288 with 1 Axes>"
      ]
     },
     "metadata": {},
     "output_type": "display_data"
    }
   ],
   "source": [
    "plt.plot(cum_rms, 'r', label='randomized data') \n",
    "plt.plot(cum_ms, 'black', label='original data')  \n",
    "plt.legend()  "
   ]
  },
  {
   "cell_type": "markdown",
   "metadata": {},
   "source": [
    "### Bit weird\n",
    "That both cummulative distributions show the same steps might still be OK and an artifact of the scores used. But that we also see a fairly constant ratio sure looks a bit weird. I would have expected (or hoped), that we would get much less hits with high scores for the randomized data. But in fact in all cases it appears af if we have to assume a false-positive rate of about 0.2 to 0.3."
   ]
  },
  {
   "cell_type": "markdown",
   "metadata": {},
   "source": [
    "#### Export to cytoscape\n",
    "There is now an added function to create network files that can be imported to Cytoscape."
   ]
  },
  {
   "cell_type": "code",
   "execution_count": 11,
   "metadata": {},
   "outputs": [],
   "source": [
    "# This will create a network from spectra <-> GCF links (including molecular family member links)\n",
    "# Output is a graphml file\n",
    "linkcandidates.create_cytoscape_files(data_links, \n",
    "                               'test_network.graphml', \n",
    "                               link_type='spec-gcf',\n",
    "                               score_type='likescore')"
   ]
  },
  {
   "cell_type": "code",
   "execution_count": 11,
   "metadata": {},
   "outputs": [
    {
     "data": {
      "image/png": "[encoded data removed]",
      "text/plain": [
       "<Figure size 720x720 with 5 Axes>"
      ]
     },
     "metadata": {},
     "output_type": "display_data"
    }
   ],
   "source": [
    "# do some test plotting to inspect the kind of results we get from there...\n",
    "M_links = linkcandidates.plot_candidates(P_cutoff=0.95, \n",
    "                        score_type='likescore', \n",
    "                        score_cutoff=0.6, \n",
    "                        type='spec-gcf')"
   ]
  },
  {
   "cell_type": "markdown",
   "metadata": {},
   "source": [
    "#### Show link candidates between GCFs and molecular families\n",
    "Again done based on \"likelihood score\", but using metcalf scores gives nearly identical results here."
   ]
  },
  {
   "cell_type": "code",
   "execution_count": 12,
   "metadata": {},
   "outputs": [
    {
     "data": {
      "image/png": "[encoded data removed]",
      "text/plain": [
       "<Figure size 720x720 with 5 Axes>"
      ]
     },
     "metadata": {},
     "output_type": "display_data"
    }
   ],
   "source": [
    "# do some test plotting to inspect the kind of results we get from there...\n",
    "M_links = linkcandidates.plot_candidates(P_cutoff=0.9, \n",
    "                        score_type='likescore', \n",
    "                        score_cutoff=0.5, \n",
    "                        type='fam-gcf')"
   ]
  }
 ],
 "metadata": {
  "kernelspec": {
   "display_name": "Python 3",
   "language": "python",
   "name": "python3"
  },
  "language_info": {
   "codemirror_mode": {
    "name": "ipython",
    "version": 3
   },
   "file_extension": ".py",
   "mimetype": "text/x-python",
   "name": "python",
   "nbconvert_exporter": "python",
   "pygments_lexer": "ipython3",
   "version": "3.6.5"
  }
 },
 "nbformat": 4,
 "nbformat_minor": 2
}
