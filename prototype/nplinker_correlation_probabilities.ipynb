{
 "cells": [
  {
   "cell_type": "markdown",
   "metadata": {},
   "source": [
    "### Example with DataLinks and LinkProbability class\n",
    "Testing a way to measure scores from co-occurences in the data."
   ]
  },
  {
   "cell_type": "code",
   "execution_count": 4,
   "metadata": {},
   "outputs": [],
   "source": [
    "# data locations\n",
    "DATASET = \"C:\\\\Users\\\\FlorianHuber\\\\OneDrive - Netherlands eScience Center\\\\Project_Wageningen_iOMEGA\"\n",
    "PATH_MS2LDA = DATASET + \"\\\\lda\\\\code\\\\\"\n",
    "PATH_MGF_DATA = DATASET + \"\\\\Data\\\\Crusemann_dataset\\\\Crusemann_only_Clutered_Data\\\\\"\n",
    "MIBIG_JSON_DIR = DATASET + \"\\\\Data\\\\mibig\\\\mibig_json_1.4\"\n",
    "\n",
    "NODES_FILE = PATH_MGF_DATA + \"clusterinfosummarygroup_attributes_withIDs\\\\0d51c5b6c73b489185a5503d319977ab..out\"\n",
    "\n",
    "MGF_FILE = PATH_MGF_DATA + \"METABOLOMICS-SNETS-c36f90ba-download_clustered_spectra-main.mgf\"\n",
    "EDGES_FILE = PATH_MGF_DATA + 'networkedges_selfloop\\\\9a93d720f69143bb9f971db39b5d2ba2.pairsinfo'\n",
    "\n",
    "ROOT_PATH = DATASET + \"\\\\Data\\mibig_select\\\\\"\n",
    "FOLDERS = ['NRPS','Others','PKSI','PKS-NRP_Hybrids','PKSother','RiPPs','Saccharides','Terpene']\n",
    "ANTISMASH_DIR = DATASET +\"\\\\Data\\\\Crusemann_dataset\\\\bgc_crusemann\\\\\"\n",
    "\n",
    "nplinker_setup(LDA_PATH=PATH_MS2LDA)"
   ]
  },
  {
   "cell_type": "code",
   "execution_count": 5,
   "metadata": {},
   "outputs": [],
   "source": [
    "# import from NPlinker\n",
    "from nplinker_constants import nplinker_setup\n",
    "from metabolomics import load_spectra\n",
    "from metabolomics import load_metadata\n",
    "from metabolomics import load_edges\n",
    "from metabolomics import make_families\n",
    "from genomics import loadBGC_from_cluster_files\n",
    "from genomics import make_mibig_bgc_dict\n",
    "\n",
    "from data_linking import DataLinks\n",
    "from data_linking import LinkProbability\n",
    "\n",
    "# import general packages\n",
    "import os\n",
    "import glob"
   ]
  },
  {
   "cell_type": "code",
   "execution_count": 6,
   "metadata": {},
   "outputs": [
    {
     "name": "stdout",
     "output_type": "stream",
     "text": [
      "Loaded 5930 molecules\n",
      "Found 1816 MiBIG json files\n"
     ]
    }
   ],
   "source": [
    "# load, initialize data\n",
    "nplinker_setup(LDA_PATH=PATH_MS2LDA)\n",
    "\n",
    "spectra = load_spectra(MGF_FILE)\n",
    "load_edges(spectra, EDGES_FILE)\n",
    "#families = make_families(spectra)\n",
    "metadata = load_metadata(spectra, NODES_FILE)\n",
    "\n",
    "input_files = []\n",
    "ann_files = []\n",
    "mibig_bgc_dict = make_mibig_bgc_dict(MIBIG_JSON_DIR)\n",
    "\n",
    "for folder in FOLDERS:\n",
    "    fam_file = os.path.join(ROOT_PATH, folder)\n",
    "    cluster_file = glob.glob(fam_file + os.sep + folder + \"_clustering*\")\n",
    "    annotation_files = glob.glob(fam_file + os.sep + \"Network_*\")\n",
    "    input_files.append(cluster_file[0])\n",
    "    ann_files.append(annotation_files[0])\n",
    "gcf_list, bgc_list, strain_list = loadBGC_from_cluster_files(input_files, ann_files, antismash_dir=ANTISMASH_DIR, antismash_format = 'flat', mibig_bgc_dict=mibig_bgc_dict)"
   ]
  },
  {
   "cell_type": "markdown",
   "metadata": {},
   "source": [
    "Now the data from the gene cluster families and spectra is loaded and initilized. \n",
    "\n",
    "The classes **DataLinks** and **LinkProbability** were written to test a possible alternative way to get correlation scores. The scoring is based on creating numpy co-occurence matrices which in principle should allow for very fast calculations."
   ]
  },
  {
   "cell_type": "code",
   "execution_count": 7,
   "metadata": {},
   "outputs": [
    {
     "name": "stdout",
     "output_type": "stream",
     "text": [
      "Create mappings between spectra, gcfs, and strains.\n",
      "Create co-occurence matrices: spectra<->strains + and gcfs<->strains.\n",
      "Create correlation matrices: spectra<->gcfs.\n",
      "Calculating correlation matrices of type:  spec-gcf\n",
      "  Done  1574  of  1574  GCFs.\n",
      "  Done  5930  of  5930  spectra/families.\n",
      "Create correlation matrices: mol-families<->gcfs.\n",
      "Given types are not yet supported... \n",
      "Calculating correlation matrices of type:  fam-gcf\n",
      "  Done  1574  of  1574  GCFs.\n",
      "  Done  458  of  458  spectra/families.\n"
     ]
    }
   ],
   "source": [
    "# extract relevant linking mappings calculate co-occurences\n",
    "data_links = DataLinks()\n",
    "data_links.load_data(spectra, gcf_list, strain_list)\n",
    "data_links.find_correlations(include_singletons=False)"
   ]
  },
  {
   "cell_type": "code",
   "execution_count": 8,
   "metadata": {},
   "outputs": [
    {
     "name": "stdout",
     "output_type": "stream",
     "text": [
      "Calculating probability matrices of type:  spec-gcf\n",
      "Calculating probability matrices of type:  fam-gcf\n"
     ]
    }
   ],
   "source": [
    "# Calculate link probabilities, such as:\n",
    "# P(gcf_x | spec_y) = probability to find gcf_x in a strain, given spec_y is present\n",
    "# P(gcf_x | not spec_y) = probability to find gcf_x in a strain, given spec_y is NOT present \n",
    "link_probs = LinkProbability()\n",
    "link_probs.correlation_probabilities(data_links, type='spec-gcf')\n",
    "link_probs.correlation_probabilities(data_links, type='fam-gcf')"
   ]
  },
  {
   "cell_type": "markdown",
   "metadata": {},
   "source": [
    "### Select potential link candidates\n",
    "#### 1. Search for links between GCFs and spectra\n",
    "Done based on on the probaility (or co-occurence rate) P(gcf_x | spec_y).\n",
    "This is then weighted by the number of strains this co-occurence was found in."
   ]
  },
  {
   "cell_type": "code",
   "execution_count": 14,
   "metadata": {},
   "outputs": [
    {
     "name": "stdout",
     "output_type": "stream",
     "text": [
      "108118  candidates selected with  P(gcf|spec)  >=  0.8  .\n",
      "15005  candidates selected with  P(gcf|spec)  >=  0.8  and a link score >=  0.5 .\n"
     ]
    }
   ],
   "source": [
    "link_probs.select_link_candidates(data_links, P_cutoff = 0.8, score_cutoff=0.5, type='spec-gcf')"
   ]
  },
  {
   "cell_type": "code",
   "execution_count": 15,
   "metadata": {},
   "outputs": [
    {
     "data": {
      "text/html": [
       "<div>\n",
       "<style scoped>\n",
       "    .dataframe tbody tr th:only-of-type {\n",
       "        vertical-align: middle;\n",
       "    }\n",
       "\n",
       "    .dataframe tbody tr th {\n",
       "        vertical-align: top;\n",
       "    }\n",
       "\n",
       "    .dataframe thead th {\n",
       "        text-align: right;\n",
       "    }\n",
       "</style>\n",
       "<table border=\"1\" class=\"dataframe\">\n",
       "  <thead>\n",
       "    <tr style=\"text-align: right;\">\n",
       "      <th></th>\n",
       "      <th>spectrum_id</th>\n",
       "      <th>GCF id</th>\n",
       "      <th>P(gcf|spec)</th>\n",
       "      <th>P(spec|gcf)</th>\n",
       "      <th>P(gcf|not spec)</th>\n",
       "      <th>P(spec|not gcf)</th>\n",
       "      <th>co-occur in # strains</th>\n",
       "      <th>link score</th>\n",
       "      <th>BGC class</th>\n",
       "    </tr>\n",
       "  </thead>\n",
       "  <tbody>\n",
       "    <tr>\n",
       "      <th>0</th>\n",
       "      <td>2.0</td>\n",
       "      <td>360.0</td>\n",
       "      <td>0.8</td>\n",
       "      <td>0.129032</td>\n",
       "      <td>0.194245</td>\n",
       "      <td>0.008850</td>\n",
       "      <td>4.0</td>\n",
       "      <td>0.685610</td>\n",
       "      <td>Others</td>\n",
       "    </tr>\n",
       "    <tr>\n",
       "      <th>1</th>\n",
       "      <td>2.0</td>\n",
       "      <td>384.0</td>\n",
       "      <td>0.8</td>\n",
       "      <td>0.083333</td>\n",
       "      <td>0.316547</td>\n",
       "      <td>0.010417</td>\n",
       "      <td>4.0</td>\n",
       "      <td>0.684526</td>\n",
       "      <td>Others</td>\n",
       "    </tr>\n",
       "    <tr>\n",
       "      <th>2</th>\n",
       "      <td>2.0</td>\n",
       "      <td>422.0</td>\n",
       "      <td>0.8</td>\n",
       "      <td>0.074074</td>\n",
       "      <td>0.359712</td>\n",
       "      <td>0.011111</td>\n",
       "      <td>4.0</td>\n",
       "      <td>0.684046</td>\n",
       "      <td>Others</td>\n",
       "    </tr>\n",
       "    <tr>\n",
       "      <th>3</th>\n",
       "      <td>2.0</td>\n",
       "      <td>425.0</td>\n",
       "      <td>0.8</td>\n",
       "      <td>0.105263</td>\n",
       "      <td>0.244604</td>\n",
       "      <td>0.009434</td>\n",
       "      <td>4.0</td>\n",
       "      <td>0.685206</td>\n",
       "      <td>Others</td>\n",
       "    </tr>\n",
       "    <tr>\n",
       "      <th>4</th>\n",
       "      <td>2.0</td>\n",
       "      <td>426.0</td>\n",
       "      <td>0.8</td>\n",
       "      <td>0.081633</td>\n",
       "      <td>0.323741</td>\n",
       "      <td>0.010526</td>\n",
       "      <td>4.0</td>\n",
       "      <td>0.684450</td>\n",
       "      <td>Others</td>\n",
       "    </tr>\n",
       "  </tbody>\n",
       "</table>\n",
       "</div>"
      ],
      "text/plain": [
       "   spectrum_id  GCF id  P(gcf|spec)  P(spec|gcf)  P(gcf|not spec)  \\\n",
       "0          2.0   360.0          0.8     0.129032         0.194245   \n",
       "1          2.0   384.0          0.8     0.083333         0.316547   \n",
       "2          2.0   422.0          0.8     0.074074         0.359712   \n",
       "3          2.0   425.0          0.8     0.105263         0.244604   \n",
       "4          2.0   426.0          0.8     0.081633         0.323741   \n",
       "\n",
       "   P(spec|not gcf)  co-occur in # strains  link score BGC class  \n",
       "0         0.008850                    4.0    0.685610    Others  \n",
       "1         0.010417                    4.0    0.684526    Others  \n",
       "2         0.011111                    4.0    0.684046    Others  \n",
       "3         0.009434                    4.0    0.685206    Others  \n",
       "4         0.010526                    4.0    0.684450    Others  "
      ]
     },
     "execution_count": 15,
     "metadata": {},
     "output_type": "execute_result"
    }
   ],
   "source": [
    "# Get table of potential gcf<-> spectrum link candidates\n",
    "link_candidates = link_probs.link_candidates_gcf_spec\n",
    "\n",
    "link_candidates.head()"
   ]
  },
  {
   "cell_type": "code",
   "execution_count": 17,
   "metadata": {},
   "outputs": [
    {
     "data": {
      "image/png": "[encoded data removed]",
      "text/plain": [
       "<Figure size 720x720 with 5 Axes>"
      ]
     },
     "metadata": {},
     "output_type": "display_data"
    }
   ],
   "source": [
    "# do some test plotting to inspect the kind of results we get from there...\n",
    "M_links = link_probs.plot_candidates(P_cutoff=0.95, score_cutoff=0.6, type='spec-gcf')"
   ]
  },
  {
   "cell_type": "markdown",
   "metadata": {},
   "source": [
    "#### 2. Search for links between GCFs and molecular families\n",
    "Done based on on the probaility (or co-occurence rate) P(gcf_x | fam_y).\n",
    "Again, this is then weighted by the number of strains this co-occurence was found in."
   ]
  },
  {
   "cell_type": "code",
   "execution_count": 18,
   "metadata": {},
   "outputs": [
    {
     "name": "stdout",
     "output_type": "stream",
     "text": [
      "3802  candidates selected with  P(gcf|fam)  >=  0.8  .\n",
      "3802  candidates selected with  P(gcf|fam)  >=  0.8  and a link score >=  0 .\n"
     ]
    }
   ],
   "source": [
    "# Select candidates based on the probaility (or co-occurence rate) P(gcf_x | fam_y) \n",
    "link_probs.select_link_candidates(data_links, P_cutoff = 0.8, score_cutoff=0, type='fam-gcf')"
   ]
  },
  {
   "cell_type": "code",
   "execution_count": 19,
   "metadata": {},
   "outputs": [
    {
     "data": {
      "text/html": [
       "<div>\n",
       "<style scoped>\n",
       "    .dataframe tbody tr th:only-of-type {\n",
       "        vertical-align: middle;\n",
       "    }\n",
       "\n",
       "    .dataframe tbody tr th {\n",
       "        vertical-align: top;\n",
       "    }\n",
       "\n",
       "    .dataframe thead th {\n",
       "        text-align: right;\n",
       "    }\n",
       "</style>\n",
       "<table border=\"1\" class=\"dataframe\">\n",
       "  <thead>\n",
       "    <tr style=\"text-align: right;\">\n",
       "      <th></th>\n",
       "      <th>family_id</th>\n",
       "      <th>GCF id</th>\n",
       "      <th>P(gcf|fam)</th>\n",
       "      <th>P(fam|gcf)</th>\n",
       "      <th>P(gcf|not fam)</th>\n",
       "      <th>P(fam|not gcf)</th>\n",
       "      <th>co-occur in # strains</th>\n",
       "      <th>link score</th>\n",
       "      <th>BGC class</th>\n",
       "    </tr>\n",
       "  </thead>\n",
       "  <tbody>\n",
       "    <tr>\n",
       "      <th>0</th>\n",
       "      <td>9.0</td>\n",
       "      <td>1352.0</td>\n",
       "      <td>0.833333</td>\n",
       "      <td>0.113636</td>\n",
       "      <td>0.282609</td>\n",
       "      <td>0.010000</td>\n",
       "      <td>5.0</td>\n",
       "      <td>0.757280</td>\n",
       "      <td>RiPPs</td>\n",
       "    </tr>\n",
       "    <tr>\n",
       "      <th>1</th>\n",
       "      <td>9.0</td>\n",
       "      <td>1471.0</td>\n",
       "      <td>0.833333</td>\n",
       "      <td>0.166667</td>\n",
       "      <td>0.181159</td>\n",
       "      <td>0.008772</td>\n",
       "      <td>5.0</td>\n",
       "      <td>0.758219</td>\n",
       "      <td>Saccharides</td>\n",
       "    </tr>\n",
       "    <tr>\n",
       "      <th>2</th>\n",
       "      <td>16.0</td>\n",
       "      <td>323.0</td>\n",
       "      <td>1.000000</td>\n",
       "      <td>0.250000</td>\n",
       "      <td>0.020979</td>\n",
       "      <td>0.000000</td>\n",
       "      <td>1.0</td>\n",
       "      <td>0.393469</td>\n",
       "      <td>Others</td>\n",
       "    </tr>\n",
       "    <tr>\n",
       "      <th>3</th>\n",
       "      <td>16.0</td>\n",
       "      <td>390.0</td>\n",
       "      <td>1.000000</td>\n",
       "      <td>0.100000</td>\n",
       "      <td>0.062937</td>\n",
       "      <td>0.000000</td>\n",
       "      <td>1.0</td>\n",
       "      <td>0.393469</td>\n",
       "      <td>Others</td>\n",
       "    </tr>\n",
       "    <tr>\n",
       "      <th>4</th>\n",
       "      <td>16.0</td>\n",
       "      <td>401.0</td>\n",
       "      <td>1.000000</td>\n",
       "      <td>0.333333</td>\n",
       "      <td>0.013986</td>\n",
       "      <td>0.000000</td>\n",
       "      <td>1.0</td>\n",
       "      <td>0.393469</td>\n",
       "      <td>Others</td>\n",
       "    </tr>\n",
       "  </tbody>\n",
       "</table>\n",
       "</div>"
      ],
      "text/plain": [
       "   family_id  GCF id  P(gcf|fam)  P(fam|gcf)  P(gcf|not fam)  P(fam|not gcf)  \\\n",
       "0        9.0  1352.0    0.833333    0.113636        0.282609        0.010000   \n",
       "1        9.0  1471.0    0.833333    0.166667        0.181159        0.008772   \n",
       "2       16.0   323.0    1.000000    0.250000        0.020979        0.000000   \n",
       "3       16.0   390.0    1.000000    0.100000        0.062937        0.000000   \n",
       "4       16.0   401.0    1.000000    0.333333        0.013986        0.000000   \n",
       "\n",
       "   co-occur in # strains  link score    BGC class  \n",
       "0                    5.0    0.757280        RiPPs  \n",
       "1                    5.0    0.758219  Saccharides  \n",
       "2                    1.0    0.393469       Others  \n",
       "3                    1.0    0.393469       Others  \n",
       "4                    1.0    0.393469       Others  "
      ]
     },
     "execution_count": 19,
     "metadata": {},
     "output_type": "execute_result"
    }
   ],
   "source": [
    "# Get table of potential gcf<-> mol.family link candidates\n",
    "link_candidates = link_probs.link_candidates_gcf_fam\n",
    "\n",
    "link_candidates.head()"
   ]
  },
  {
   "cell_type": "code",
   "execution_count": 20,
   "metadata": {},
   "outputs": [
    {
     "data": {
      "image/png": "[encoded data removed]",
      "text/plain": [
       "<Figure size 720x720 with 5 Axes>"
      ]
     },
     "metadata": {},
     "output_type": "display_data"
    }
   ],
   "source": [
    "# do some test plotting to inspect the kind of results we get from there...\n",
    "M_links = link_probs.plot_candidates(P_cutoff=0.9, score_cutoff=0.5, type='fam-gcf')"
   ]
  }
 ],
 "metadata": {
  "kernelspec": {
   "display_name": "Python 3",
   "language": "python",
   "name": "python3"
  },
  "language_info": {
   "codemirror_mode": {
    "name": "ipython",
    "version": 3
   },
   "file_extension": ".py",
   "mimetype": "text/x-python",
   "name": "python",
   "nbconvert_exporter": "python",
   "pygments_lexer": "ipython3",
   "version": "3.6.5"
  }
 },
 "nbformat": 4,
 "nbformat_minor": 2
}
