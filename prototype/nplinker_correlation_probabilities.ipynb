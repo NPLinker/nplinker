{
 "cells": [
  {
   "cell_type": "markdown",
   "metadata": {},
   "source": [
    "### Example with DataLinks and LinkLikelihood class\n",
    "Testing a way to measure scores from co-occurences in the data."
   ]
  },
  {
   "cell_type": "code",
   "execution_count": 1,
   "metadata": {},
   "outputs": [],
   "source": [
    "# data locations\n",
    "DATASET = \"C:\\\\Users\\\\FlorianHuber\\\\OneDrive - Netherlands eScience Center\\\\Project_Wageningen_iOMEGA\"\n",
    "PATH_MS2LDA = DATASET + \"\\\\lda\\\\code\\\\\"\n",
    "PATH_MGF_DATA = DATASET + \"\\\\Data\\\\Crusemann_dataset\\\\Crusemann_only_Clutered_Data\\\\\"\n",
    "MIBIG_JSON_DIR = DATASET + \"\\\\Data\\\\mibig\\\\mibig_json_1.4\"\n",
    "\n",
    "NODES_FILE = PATH_MGF_DATA + \"clusterinfosummarygroup_attributes_withIDs\\\\0d51c5b6c73b489185a5503d319977ab..out\"\n",
    "\n",
    "MGF_FILE = PATH_MGF_DATA + \"METABOLOMICS-SNETS-c36f90ba-download_clustered_spectra-main.mgf\"\n",
    "EDGES_FILE = PATH_MGF_DATA + 'networkedges_selfloop\\\\9a93d720f69143bb9f971db39b5d2ba2.pairsinfo'\n",
    "\n",
    "ROOT_PATH = DATASET + \"\\\\Data\\mibig_select\\\\\"\n",
    "FOLDERS = ['NRPS','Others','PKSI','PKS-NRP_Hybrids','PKSother','RiPPs','Saccharides','Terpene']\n",
    "ANTISMASH_DIR = DATASET +\"\\\\Data\\\\Crusemann_dataset\\\\bgc_crusemann\\\\\"\n",
    "\n",
    "from nplinker_constants import nplinker_setup\n",
    "nplinker_setup(LDA_PATH=PATH_MS2LDA)"
   ]
  },
  {
   "cell_type": "code",
   "execution_count": 2,
   "metadata": {},
   "outputs": [],
   "source": [
    "# import from NPlinker\n",
    "from metabolomics import load_spectra\n",
    "from metabolomics import load_metadata\n",
    "from metabolomics import load_edges\n",
    "from metabolomics import make_families\n",
    "from genomics import loadBGC_from_cluster_files\n",
    "from genomics import make_mibig_bgc_dict\n",
    "\n",
    "from data_linking import DataLinks\n",
    "from data_linking import LinkLikelihood\n",
    "from data_linking import LinkFinder\n",
    "\n",
    "# import general packages\n",
    "import os\n",
    "import glob"
   ]
  },
  {
   "cell_type": "code",
   "execution_count": 3,
   "metadata": {},
   "outputs": [
    {
     "name": "stdout",
     "output_type": "stream",
     "text": [
      "Loaded 5930 molecules\n",
      "Found 1816 MiBIG json files\n"
     ]
    }
   ],
   "source": [
    "# load, initialize data\n",
    "nplinker_setup(LDA_PATH=PATH_MS2LDA)\n",
    "\n",
    "spectra = load_spectra(MGF_FILE)\n",
    "load_edges(spectra, EDGES_FILE)\n",
    "#families = make_families(spectra)\n",
    "metadata = load_metadata(spectra, NODES_FILE)\n",
    "\n",
    "input_files = []\n",
    "ann_files = []\n",
    "mibig_bgc_dict = make_mibig_bgc_dict(MIBIG_JSON_DIR)\n",
    "\n",
    "for folder in FOLDERS:\n",
    "    fam_file = os.path.join(ROOT_PATH, folder)\n",
    "    cluster_file = glob.glob(fam_file + os.sep + folder + \"_clustering*\")\n",
    "    annotation_files = glob.glob(fam_file + os.sep + \"Network_*\")\n",
    "    input_files.append(cluster_file[0])\n",
    "    ann_files.append(annotation_files[0])\n",
    "gcf_list, bgc_list, strain_list = loadBGC_from_cluster_files(input_files, ann_files, antismash_dir=ANTISMASH_DIR, antismash_format = 'flat', mibig_bgc_dict=mibig_bgc_dict)"
   ]
  },
  {
   "cell_type": "markdown",
   "metadata": {},
   "source": [
    "Now the data from the gene cluster families and spectra is loaded and initilized. \n",
    "\n",
    "The classes **DataLinks** and **LinkProbability** were written to test a possible alternative way to get correlation scores. The scoring is based on creating numpy co-occurence matrices which in principle should allow for very fast calculations."
   ]
  },
  {
   "cell_type": "code",
   "execution_count": 4,
   "metadata": {},
   "outputs": [
    {
     "name": "stdout",
     "output_type": "stream",
     "text": [
      "Create mappings between spectra, gcfs, and strains.\n",
      "Create co-occurence matrices: spectra<->strains + and gcfs<->strains.\n",
      "Create correlation matrices: spectra<->gcfs.\n",
      "Calculating correlation matrices of type:  spec-gcf\n",
      "  Done  1574  of  1574  type2s\n",
      "  Done  5930  of  5930  type1s. Done  4500  of  5930  type1s.\n",
      "\n",
      "Create correlation matrices: mol-families<->gcfs.\n",
      "Calculating correlation matrices of type:  fam-gcf\n",
      "  Done  1574  of  1574  type2s\n",
      "  Done  458  of  458  type1s.\n",
      "\n"
     ]
    }
   ],
   "source": [
    "# extract relevant linking mappings calculate co-occurences\n",
    "data_links = DataLinks()\n",
    "data_links.load_data(spectra, gcf_list, strain_list)\n",
    "data_links.find_correlations(include_singletons=False)"
   ]
  },
  {
   "cell_type": "code",
   "execution_count": 5,
   "metadata": {},
   "outputs": [
    {
     "name": "stdout",
     "output_type": "stream",
     "text": [
      "Calculating likelihood matrices of type:  spec-gcf\n",
      "Calculating likelihood matrices of type:  fam-gcf\n"
     ]
    }
   ],
   "source": [
    "# Calculate link probabilities, such as:\n",
    "# P(gcf_x | spec_y) = probability to find gcf_x in a strain, given spec_y is present\n",
    "# P(gcf_x | not spec_y) = probability to find gcf_x in a strain, given spec_y is NOT present \n",
    "likelihoods = LinkLikelihood()\n",
    "likelihoods.calculate_likelihoods(data_links, type='spec-gcf')\n",
    "likelihoods.calculate_likelihoods(data_links, type='fam-gcf')"
   ]
  },
  {
   "cell_type": "markdown",
   "metadata": {},
   "source": [
    "### Select potential link candidates\n",
    "#### Search for links between GCFs and spectra, and between GCFs and mol. families\n",
    "Can now be done using the metcalf score or based on the likelihood (\"likelihood score\"). "
   ]
  },
  {
   "cell_type": "code",
   "execution_count": 6,
   "metadata": {},
   "outputs": [],
   "source": [
    "linkcandidates = LinkFinder()\n",
    "\n",
    "linkcandidates.metcalf_scoring(data_links,\n",
    "                        both=10, \n",
    "                        type1_not_gcf=-10, \n",
    "                        gcf_not_type1=0,\n",
    "                        type='spec-gcf')\n",
    "\n",
    "linkcandidates.metcalf_scoring(data_links,\n",
    "                        both=10, \n",
    "                        type1_not_gcf=-10, \n",
    "                        gcf_not_type1=0,\n",
    "                        type='fam-gcf')"
   ]
  },
  {
   "cell_type": "markdown",
   "metadata": {},
   "source": [
    "Here is the second type of score(the one I had used before). Like the metcalf score it takes into account the directionality BGC-->compound-->spectrum, which suggests that the most relevant likelihoods are: \n",
    "\n",
    "P(gcf|type1) - If type1 is the result of only one particular gene cluster,\n",
    "                            this value should be high (close or equal to 1)\n",
    "\n",
    "P(type1|not gcf) - Following the same logic, this value should be very \n",
    "                                small or 0 (\"no gene cluster, no compound\") P(gcf_x | spec_y).\n",
    "                                \n",
    "This is then weighted by the number of strains this co-occurence was found in."
   ]
  },
  {
   "cell_type": "code",
   "execution_count": 7,
   "metadata": {},
   "outputs": [],
   "source": [
    "linkcandidates.likelihood_scoring(data_links, likelihoods, \n",
    "                        alpha_weighing=0.5,\n",
    "                        type='spec-gcf')\n",
    "\n",
    "linkcandidates.likelihood_scoring(data_links, likelihoods, \n",
    "                        alpha_weighing=0.5,\n",
    "                        type='fam-gcf')"
   ]
  },
  {
   "cell_type": "markdown",
   "metadata": {},
   "source": [
    "Using those scores it is then possible to select suitable, promising candidates for potential links between spectra and GCFs, or mol.families and GCFs."
   ]
  },
  {
   "cell_type": "code",
   "execution_count": 8,
   "metadata": {},
   "outputs": [
    {
     "name": "stdout",
     "output_type": "stream",
     "text": [
      "14433  candidates selected with  P(gcf|spec)  >=  0.9  and a link score >=  0.6 .\n",
      "3802  candidates selected with  P(gcf|fam)  >=  0.8  and a link score >=  0 .\n"
     ]
    }
   ],
   "source": [
    "link_candidates_spec = linkcandidates.select_link_candidates(data_links, likelihoods,\n",
    "                               P_cutoff=0.9, \n",
    "                               main_score='likescore',\n",
    "                               score_cutoff=0.6, \n",
    "                               type='spec-gcf')\n",
    "\n",
    "link_candidates_fam = linkcandidates.select_link_candidates(data_links, likelihoods,\n",
    "                               P_cutoff=0.8, \n",
    "                               main_score='likescore',\n",
    "                               score_cutoff=0, \n",
    "                               type='fam-gcf')"
   ]
  },
  {
   "cell_type": "markdown",
   "metadata": {},
   "source": [
    "What becomes apparent is that the score I used and metcalf are indeed very similar in the sense that they nearly sort candidates the same way. The score I use here (\"likescore\"or \"likelihood score\") might have the advantage that it is normalized to (0,1). "
   ]
  },
  {
   "cell_type": "code",
   "execution_count": 10,
   "metadata": {},
   "outputs": [
    {
     "data": {
      "text/html": [
       "<div>\n",
       "<style scoped>\n",
       "    .dataframe tbody tr th:only-of-type {\n",
       "        vertical-align: middle;\n",
       "    }\n",
       "\n",
       "    .dataframe tbody tr th {\n",
       "        vertical-align: top;\n",
       "    }\n",
       "\n",
       "    .dataframe thead th {\n",
       "        text-align: right;\n",
       "    }\n",
       "</style>\n",
       "<table border=\"1\" class=\"dataframe\">\n",
       "  <thead>\n",
       "    <tr style=\"text-align: right;\">\n",
       "      <th></th>\n",
       "      <th>family_id</th>\n",
       "      <th>GCF id</th>\n",
       "      <th>P(gcf|fam)</th>\n",
       "      <th>P(fam|gcf)</th>\n",
       "      <th>P(gcf|not fam)</th>\n",
       "      <th>P(fam|not gcf)</th>\n",
       "      <th>co-occur in # strains</th>\n",
       "      <th>metcalf score</th>\n",
       "      <th>likelihood score</th>\n",
       "      <th>BGC class</th>\n",
       "    </tr>\n",
       "  </thead>\n",
       "  <tbody>\n",
       "    <tr>\n",
       "      <th>259</th>\n",
       "      <td>119.0</td>\n",
       "      <td>970.0</td>\n",
       "      <td>1.0</td>\n",
       "      <td>0.100000</td>\n",
       "      <td>0.323741</td>\n",
       "      <td>0.0</td>\n",
       "      <td>5.0</td>\n",
       "      <td>50.0</td>\n",
       "      <td>0.917915</td>\n",
       "      <td>Others</td>\n",
       "    </tr>\n",
       "    <tr>\n",
       "      <th>1207</th>\n",
       "      <td>196.0</td>\n",
       "      <td>426.0</td>\n",
       "      <td>1.0</td>\n",
       "      <td>0.102041</td>\n",
       "      <td>0.316547</td>\n",
       "      <td>0.0</td>\n",
       "      <td>5.0</td>\n",
       "      <td>50.0</td>\n",
       "      <td>0.917915</td>\n",
       "      <td>Others</td>\n",
       "    </tr>\n",
       "    <tr>\n",
       "      <th>29</th>\n",
       "      <td>35.0</td>\n",
       "      <td>574.0</td>\n",
       "      <td>1.0</td>\n",
       "      <td>0.108108</td>\n",
       "      <td>0.235714</td>\n",
       "      <td>0.0</td>\n",
       "      <td>4.0</td>\n",
       "      <td>40.0</td>\n",
       "      <td>0.864665</td>\n",
       "      <td>Others</td>\n",
       "    </tr>\n",
       "    <tr>\n",
       "      <th>30</th>\n",
       "      <td>35.0</td>\n",
       "      <td>583.0</td>\n",
       "      <td>1.0</td>\n",
       "      <td>0.173913</td>\n",
       "      <td>0.135714</td>\n",
       "      <td>0.0</td>\n",
       "      <td>4.0</td>\n",
       "      <td>40.0</td>\n",
       "      <td>0.864665</td>\n",
       "      <td>Others</td>\n",
       "    </tr>\n",
       "    <tr>\n",
       "      <th>31</th>\n",
       "      <td>35.0</td>\n",
       "      <td>1511.0</td>\n",
       "      <td>1.0</td>\n",
       "      <td>0.117647</td>\n",
       "      <td>0.214286</td>\n",
       "      <td>0.0</td>\n",
       "      <td>4.0</td>\n",
       "      <td>40.0</td>\n",
       "      <td>0.864665</td>\n",
       "      <td>Saccharides</td>\n",
       "    </tr>\n",
       "    <tr>\n",
       "      <th>269</th>\n",
       "      <td>125.0</td>\n",
       "      <td>251.0</td>\n",
       "      <td>1.0</td>\n",
       "      <td>0.093023</td>\n",
       "      <td>0.278571</td>\n",
       "      <td>0.0</td>\n",
       "      <td>4.0</td>\n",
       "      <td>40.0</td>\n",
       "      <td>0.864665</td>\n",
       "      <td>Others</td>\n",
       "    </tr>\n",
       "    <tr>\n",
       "      <th>270</th>\n",
       "      <td>125.0</td>\n",
       "      <td>384.0</td>\n",
       "      <td>1.0</td>\n",
       "      <td>0.083333</td>\n",
       "      <td>0.314286</td>\n",
       "      <td>0.0</td>\n",
       "      <td>4.0</td>\n",
       "      <td>40.0</td>\n",
       "      <td>0.864665</td>\n",
       "      <td>Others</td>\n",
       "    </tr>\n",
       "    <tr>\n",
       "      <th>271</th>\n",
       "      <td>125.0</td>\n",
       "      <td>418.0</td>\n",
       "      <td>1.0</td>\n",
       "      <td>0.137931</td>\n",
       "      <td>0.178571</td>\n",
       "      <td>0.0</td>\n",
       "      <td>4.0</td>\n",
       "      <td>40.0</td>\n",
       "      <td>0.864665</td>\n",
       "      <td>Others</td>\n",
       "    </tr>\n",
       "    <tr>\n",
       "      <th>272</th>\n",
       "      <td>125.0</td>\n",
       "      <td>422.0</td>\n",
       "      <td>1.0</td>\n",
       "      <td>0.074074</td>\n",
       "      <td>0.357143</td>\n",
       "      <td>0.0</td>\n",
       "      <td>4.0</td>\n",
       "      <td>40.0</td>\n",
       "      <td>0.864665</td>\n",
       "      <td>Others</td>\n",
       "    </tr>\n",
       "    <tr>\n",
       "      <th>273</th>\n",
       "      <td>125.0</td>\n",
       "      <td>499.0</td>\n",
       "      <td>1.0</td>\n",
       "      <td>0.080000</td>\n",
       "      <td>0.328571</td>\n",
       "      <td>0.0</td>\n",
       "      <td>4.0</td>\n",
       "      <td>40.0</td>\n",
       "      <td>0.864665</td>\n",
       "      <td>Others</td>\n",
       "    </tr>\n",
       "  </tbody>\n",
       "</table>\n",
       "</div>"
      ],
      "text/plain": [
       "      family_id  GCF id  P(gcf|fam)  P(fam|gcf)  P(gcf|not fam)  \\\n",
       "259       119.0   970.0         1.0    0.100000        0.323741   \n",
       "1207      196.0   426.0         1.0    0.102041        0.316547   \n",
       "29         35.0   574.0         1.0    0.108108        0.235714   \n",
       "30         35.0   583.0         1.0    0.173913        0.135714   \n",
       "31         35.0  1511.0         1.0    0.117647        0.214286   \n",
       "269       125.0   251.0         1.0    0.093023        0.278571   \n",
       "270       125.0   384.0         1.0    0.083333        0.314286   \n",
       "271       125.0   418.0         1.0    0.137931        0.178571   \n",
       "272       125.0   422.0         1.0    0.074074        0.357143   \n",
       "273       125.0   499.0         1.0    0.080000        0.328571   \n",
       "\n",
       "      P(fam|not gcf)  co-occur in # strains  metcalf score  likelihood score  \\\n",
       "259              0.0                    5.0           50.0          0.917915   \n",
       "1207             0.0                    5.0           50.0          0.917915   \n",
       "29               0.0                    4.0           40.0          0.864665   \n",
       "30               0.0                    4.0           40.0          0.864665   \n",
       "31               0.0                    4.0           40.0          0.864665   \n",
       "269              0.0                    4.0           40.0          0.864665   \n",
       "270              0.0                    4.0           40.0          0.864665   \n",
       "271              0.0                    4.0           40.0          0.864665   \n",
       "272              0.0                    4.0           40.0          0.864665   \n",
       "273              0.0                    4.0           40.0          0.864665   \n",
       "\n",
       "        BGC class  \n",
       "259        Others  \n",
       "1207       Others  \n",
       "29         Others  \n",
       "30         Others  \n",
       "31    Saccharides  \n",
       "269        Others  \n",
       "270        Others  \n",
       "271        Others  \n",
       "272        Others  \n",
       "273        Others  "
      ]
     },
     "execution_count": 10,
     "metadata": {},
     "output_type": "execute_result"
    }
   ],
   "source": [
    "# Show table of potential gcf<-> spectrum link candidates\n",
    "#link_candidates_fam.head()\n",
    "link_candidates_fam.nlargest(10, 'likelihood score')"
   ]
  },
  {
   "cell_type": "markdown",
   "metadata": {},
   "source": [
    "#### Export to cytoscape\n",
    "There is now an added function to create network files that can be imported to Cytoscape."
   ]
  },
  {
   "cell_type": "code",
   "execution_count": 11,
   "metadata": {},
   "outputs": [],
   "source": [
    "# This will create a network from spectra <-> GCF links (including molecular family member links)\n",
    "# Output is a graphml file\n",
    "linkcandidates.create_cytoscape_files(data_links, \n",
    "                               'test_network.graphml', \n",
    "                               link_type='spec-gcf',\n",
    "                               score_type='likescore')"
   ]
  },
  {
   "cell_type": "code",
   "execution_count": 12,
   "metadata": {},
   "outputs": [
    {
     "data": {
      "image/png": "[encoded data removed]",
      "text/plain": [
       "<Figure size 720x720 with 5 Axes>"
      ]
     },
     "metadata": {},
     "output_type": "display_data"
    }
   ],
   "source": [
    "# do some test plotting to inspect the kind of results we get from there...\n",
    "M_links = linkcandidates.plot_candidates(P_cutoff=0.95, \n",
    "                        score_type='likescore', \n",
    "                        score_cutoff=0.6, \n",
    "                        type='spec-gcf')"
   ]
  },
  {
   "cell_type": "markdown",
   "metadata": {},
   "source": [
    "#### Show link candidates between GCFs and molecular families\n",
    "Again done based on \"likelihood score\", but using metcalf scores gives nearly identical results here."
   ]
  },
  {
   "cell_type": "code",
   "execution_count": 14,
   "metadata": {},
   "outputs": [
    {
     "data": {
      "image/png": "[encoded data removed]",
      "text/plain": [
       "<Figure size 720x720 with 5 Axes>"
      ]
     },
     "metadata": {},
     "output_type": "display_data"
    }
   ],
   "source": [
    "# do some test plotting to inspect the kind of results we get from there...\n",
    "M_links = linkcandidates.plot_candidates(P_cutoff=0.9, \n",
    "                        score_type='likescore', \n",
    "                        score_cutoff=0.5, \n",
    "                        type='fam-gcf')"
   ]
  }
 ],
 "metadata": {
  "kernelspec": {
   "display_name": "Python 3",
   "language": "python",
   "name": "python3"
  },
  "language_info": {
   "codemirror_mode": {
    "name": "ipython",
    "version": 3
   },
   "file_extension": ".py",
   "mimetype": "text/x-python",
   "name": "python",
   "nbconvert_exporter": "python",
   "pygments_lexer": "ipython3",
   "version": "3.6.5"
  }
 },
 "nbformat": 4,
 "nbformat_minor": 2
}
