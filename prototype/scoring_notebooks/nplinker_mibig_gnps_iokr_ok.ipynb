{
 "cells": [
  {
   "cell_type": "code",
   "execution_count": 1,
   "metadata": {},
   "outputs": [],
   "source": [
    "%reload_ext autoreload\n",
    "%autoreload 2\n",
    "\n",
    "from matplotlib import pyplot as plt\n",
    "%matplotlib inline\n",
    "import seaborn as sns\n",
    "sns.set()"
   ]
  },
  {
   "cell_type": "code",
   "execution_count": null,
   "metadata": {},
   "outputs": [],
   "source": []
  },
  {
   "cell_type": "code",
   "execution_count": null,
   "metadata": {},
   "outputs": [],
   "source": [
    "# Relies on molecular networking code from https://github.com/sdrogers/molnet"
   ]
  },
  {
   "cell_type": "code",
   "execution_count": 2,
   "metadata": {},
   "outputs": [],
   "source": [
    "import sys\n",
    "sys.path.append(\"/home/grimur/git/molnet/molnet/code\")\n",
    "import spec_lib"
   ]
  },
  {
   "cell_type": "code",
   "execution_count": null,
   "metadata": {},
   "outputs": [],
   "source": []
  },
  {
   "cell_type": "code",
   "execution_count": null,
   "metadata": {},
   "outputs": [],
   "source": [
    "# Load the GNPS spectral library for the matched MIBiG hits"
   ]
  },
  {
   "cell_type": "code",
   "execution_count": 3,
   "metadata": {},
   "outputs": [
    {
     "name": "stdout",
     "output_type": "stream",
     "text": [
      "Loaded 100 spectra\n",
      "Loaded 200 spectra\n",
      "Loaded 300 spectra\n",
      "Loaded 400 spectra\n",
      "Loaded 500 spectra\n",
      "Loaded 600 spectra\n",
      "Loaded 700 spectra\n",
      "Loaded 800 spectra\n",
      "Loaded 900 spectra\n",
      "Loaded 1000 spectra\n",
      "Loaded 1100 spectra\n",
      "Loaded 1200 spectra\n",
      "Loaded 1300 spectra\n",
      "Loaded 1400 spectra\n",
      "Loaded 1500 spectra\n",
      "Loaded 1600 spectra\n",
      "Loaded 1700 spectra\n",
      "Loaded 1800 spectra\n",
      "Loaded 1900 spectra\n",
      "Loaded 2000 spectra\n",
      "Filtered 100\n",
      "Filtered 200\n",
      "Filtered 300\n",
      "Filtered 400\n",
      "Filtered 500\n",
      "Filtered 600\n",
      "Filtered 700\n",
      "Filtered 800\n",
      "Filtered 900\n",
      "Filtered 1000\n",
      "Filtered 1100\n",
      "Filtered 1200\n",
      "Filtered 1300\n",
      "Filtered 1400\n",
      "Filtered 1500\n",
      "Filtered 1600\n",
      "Filtered 1700\n",
      "Filtered 1800\n",
      "Filtered 1900\n",
      "Filtered 2000\n"
     ]
    }
   ],
   "source": [
    "mibig_gnps_library_file = \"/home/grimur/iokr/data/mibig/matched_mibig_gnps_update_mibigid.mgf\"\n",
    "mibig_spectral_library = spec_lib.SpecLib(mibig_gnps_library_file)\n",
    "mibig_spectral_library._load_mgf()\n",
    "mibig_spectral_library.filter()"
   ]
  },
  {
   "cell_type": "code",
   "execution_count": 4,
   "metadata": {},
   "outputs": [],
   "source": []
  },
  {
   "cell_type": "code",
   "execution_count": 5,
   "metadata": {},
   "outputs": [],
   "source": [
    "from nplinker.scoring.iokr import spectrum\n",
    "import pyteomics.mgf"
   ]
  },
  {
   "cell_type": "code",
   "execution_count": 6,
   "metadata": {},
   "outputs": [],
   "source": [
    "spectra_list = []\n",
    "for mgf_spec in pyteomics.mgf.read('/home/grimur/iokr/data/mibig/matched_mibig_gnps_update_mibigid.mgf', use_index=False):\n",
    "    spec = spectrum.MSSpectrum(mgf_dict=mgf_spec)\n",
    "    spec.id = mgf_spec['params']['bgcid']\n",
    "    spec.ionisation = '[M+H]+'\n",
    "    if spec.smiles != 'N/A':\n",
    "        spectra_list.append(spec)\n"
   ]
  },
  {
   "cell_type": "code",
   "execution_count": null,
   "metadata": {},
   "outputs": [],
   "source": []
  },
  {
   "cell_type": "code",
   "execution_count": null,
   "metadata": {},
   "outputs": [],
   "source": [
    "# Load the MIBiG structural annotations for BGC->SMILES conversion"
   ]
  },
  {
   "cell_type": "code",
   "execution_count": 7,
   "metadata": {},
   "outputs": [],
   "source": [
    "import csv\n",
    "bgc_structures = {}\n",
    "with open('/home/grimur/iokr/data/mibig/compunds_structures_2.0.csv') as f:\n",
    "    r = csv.reader(f)\n",
    "    for line in r:\n",
    "        bgc_id, compound_name, smiles, database_ids = line\n",
    "        if not bgc_id.startswith('BGC'):\n",
    "            continue\n",
    "        if bgc_id in bgc_structures:\n",
    "            bgc_structures[bgc_id].append(smiles)\n",
    "        else:\n",
    "            bgc_structures[bgc_id] = [smiles]"
   ]
  },
  {
   "cell_type": "code",
   "execution_count": null,
   "metadata": {},
   "outputs": [],
   "source": [
    "# Init SMILES->BGC conversion"
   ]
  },
  {
   "cell_type": "code",
   "execution_count": 8,
   "metadata": {},
   "outputs": [],
   "source": [
    "smiles_reverse_lookup = {}\n",
    "for bgc_id, smiles_list in bgc_structures.items():\n",
    "    for smiles_string in smiles_list:\n",
    "        if smiles_string not in smiles_reverse_lookup:\n",
    "            smiles_reverse_lookup[smiles_string] = [bgc_id]\n",
    "        else:\n",
    "            smiles_reverse_lookup[smiles_string].append(bgc_id)\n"
   ]
  },
  {
   "cell_type": "code",
   "execution_count": 9,
   "metadata": {},
   "outputs": [],
   "source": [
    "smiles_list = smiles_reverse_lookup.keys()"
   ]
  },
  {
   "cell_type": "code",
   "execution_count": null,
   "metadata": {},
   "outputs": [],
   "source": []
  },
  {
   "cell_type": "code",
   "execution_count": null,
   "metadata": {},
   "outputs": [],
   "source": []
  },
  {
   "cell_type": "code",
   "execution_count": null,
   "metadata": {},
   "outputs": [],
   "source": [
    "# Initilise the IOKR server and rank the spectra list against the smiles list"
   ]
  },
  {
   "cell_type": "code",
   "execution_count": 10,
   "metadata": {},
   "outputs": [
    {
     "name": "stdout",
     "output_type": "stream",
     "text": [
      "['/home/grimur/miniconda2/envs/jupyter-py3/lib/python3.7/site-packages/cdk_pywrapper']\n",
      "Server process already running: True\n"
     ]
    }
   ],
   "source": [
    "from nplinker.scoring.iokr import nplinker_iokr"
   ]
  },
  {
   "cell_type": "code",
   "execution_count": 11,
   "metadata": {
    "scrolled": true
   },
   "outputs": [],
   "source": [
    "iokr_server = nplinker_iokr.get_iokr_server()\n",
    "rank = iokr_server.score_smiles(spectra_list, smiles_list)"
   ]
  },
  {
   "cell_type": "code",
   "execution_count": 12,
   "metadata": {},
   "outputs": [],
   "source": [
    "import numpy\n",
    "smiles_list = list(smiles_list)"
   ]
  },
  {
   "cell_type": "code",
   "execution_count": null,
   "metadata": {},
   "outputs": [],
   "source": []
  },
  {
   "cell_type": "code",
   "execution_count": 13,
   "metadata": {},
   "outputs": [],
   "source": [
    "training_set_spectra_ids = set([])\n",
    "iokr_spectra_data = '/home/grimur/iokr/data/spectra.txt'\n",
    "with open(iokr_spectra_data, 'r') as f:\n",
    "    for l in f.readlines():\n",
    "        spec_id = l.split()[0]\n",
    "        training_set_spectra_ids.add(spec_id)\n"
   ]
  },
  {
   "cell_type": "code",
   "execution_count": 14,
   "metadata": {},
   "outputs": [],
   "source": [
    "# For each spectrum, loop through the SMILES matches ordered by score.\n",
    "# Keep track of the corresponding BGCs. When we encounter the correct BGC, \n",
    "# we look at how many BGCs are higher ranked.\n",
    "\n",
    "\n",
    "correct_ranks = []\n",
    "incorrect_ranks = []\n",
    "\n",
    "removed_smiles = set([])\n",
    "for i, spectrum in enumerate(spectra_list):\n",
    "    # Exclusion by spectrum ID\n",
    "    spectrum_id = spectrum.id.split('.')[1]\n",
    "    if spectrum_id in training_set_spectra_ids:\n",
    "        continue\n",
    "        \n",
    "    # exclusion by INCHI key (this sucks)\n",
    "    \"\"\"    smiles = spectrum.smiles\n",
    "    #print(smiles)\n",
    "    try:\n",
    "        cmp = cdk_pywrapper.cdk_pywrapper.Compound(smiles, identifier_type='smiles')\n",
    "    except:\n",
    "        continue\n",
    "    try:\n",
    "        inchi = cmp.get_inchi_key().split('-')[0]\n",
    "    except:\n",
    "        continue\n",
    "    if inchi in training_set_inchi_keys:\n",
    "        removed_smiles.add(smiles)\n",
    "        continue\n",
    "\"\"\"\n",
    "    bgc_id = spectrum.id.split('.')[0]\n",
    "    smiles_scores = rank[i, :]\n",
    "    \n",
    "    smiles_sorted_indices = numpy.argsort(smiles_scores)[::-1]\n",
    "    \n",
    "    collected_bgc_set = set([])\n",
    "    for smiles_rank, smiles_index in enumerate(smiles_sorted_indices):\n",
    "        #if smiles in removed_smiles:\n",
    "        #    continue\n",
    "        smiles = smiles_list[smiles_index]\n",
    "        bgc_list = smiles_reverse_lookup[smiles]\n",
    "        collected_bgc_set_add = collected_bgc_set.union(bgc_list)\n",
    "        if bgc_id in collected_bgc_set_add:\n",
    "            correct_ranks.append(len(collected_bgc_set))\n",
    "            break\n",
    "        else:\n",
    "            collected_bgc_set = collected_bgc_set_add\n",
    "\n",
    "    # Create null distribution by shuffling the rank of the IOKR scores\n",
    "    numpy.random.shuffle(smiles_sorted_indices)\n",
    "    \n",
    "    collected_bgc_set = set([])\n",
    "    for smiles_rank, smiles_index in enumerate(smiles_sorted_indices):\n",
    "        #if smiles in removed_smiles:\n",
    "        #    continue\n",
    "        smiles = smiles_list[smiles_index]\n",
    "        bgc_list = smiles_reverse_lookup[smiles]\n",
    "        collected_bgc_set_add = collected_bgc_set.union(bgc_list)\n",
    "        if bgc_id in collected_bgc_set_add:\n",
    "            incorrect_ranks.append(len(collected_bgc_set))\n",
    "            break\n",
    "        else:\n",
    "            collected_bgc_set = collected_bgc_set_add\n"
   ]
  },
  {
   "cell_type": "code",
   "execution_count": null,
   "metadata": {},
   "outputs": [],
   "source": []
  },
  {
   "cell_type": "code",
   "execution_count": null,
   "metadata": {},
   "outputs": [],
   "source": [
    "# Plot"
   ]
  },
  {
   "cell_type": "code",
   "execution_count": 40,
   "metadata": {},
   "outputs": [
    {
     "data": {
      "text/plain": [
       "<matplotlib.legend.Legend at 0x7f1942d9b978>"
      ]
     },
     "execution_count": 40,
     "metadata": {},
     "output_type": "execute_result"
    },
    {
     "data": {
      "image/png": "[encoded data removed]",
      "text/plain": [
       "<Figure size 576x432 with 1 Axes>"
      ]
     },
     "metadata": {
      "needs_background": "light"
     },
     "output_type": "display_data"
    }
   ],
   "source": [
    "plt.figure(figsize=(8, 6))\n",
    "\n",
    "#bins = bgc_count\n",
    "bins = len(bgc_structures.keys())\n",
    "plt.hist(correct_ranks, cumulative=True, range=[0, bins], bins=bins, edgecolor='b', density=True, label='data')\n",
    "plt.hist(incorrect_ranks, cumulative=True, range=[0, bins], bins=bins, edgecolor='r', density=True, color='r', label='baseline')\n",
    "\n",
    "plt.title('Spectra with correct match among top-n-scoring BGCs')\n",
    "\n",
    "plt.xlabel('n')\n",
    "plt.ylabel('proportion of spectra')\n",
    "plt.legend()\n",
    "\n",
    "# plt.savefig('graph_iokr_mibig_gnps_vs_baseline.pdf')"
   ]
  },
  {
   "cell_type": "code",
   "execution_count": 16,
   "metadata": {},
   "outputs": [
    {
     "name": "stdout",
     "output_type": "stream",
     "text": [
      "top-0 -- 0.12076583210603829, 0.0014727540500736377\n",
      "top-5 -- 0.17083946980854198, 0.008836524300441826\n",
      "top-10 -- 0.187039764359352, 0.014727540500736377\n",
      "top-20 -- 0.21207658321060383, 0.020618556701030927\n",
      "top-200 -- 0.29455081001472755, 0.15758468335787923\n",
      "auc -- 0.6533610583067847, 0.5254512336748118\n"
     ]
    }
   ],
   "source": [
    "bgc_count = len(bgc_structures.keys())\n",
    "\n",
    "for cutoff in (0, 5, 10, 20, 200):\n",
    "    res = []\n",
    "    for test_type in (correct_ranks, incorrect_ranks):\n",
    "        res.append(len([x for x in test_type if x <= cutoff]) / len(test_type))\n",
    "    print('top-{} -- {}, {}'.format(cutoff, res[0], res[1]))\n",
    "\n",
    "res = []\n",
    "for test_type in (correct_ranks, incorrect_ranks):\n",
    "    auc = 0\n",
    "    for i in range(bgc_count):\n",
    "        proportion = len([x for x in test_type if x<= i]) / len(test_type)\n",
    "        auc += proportion\n",
    "    res.append((auc / bgc_count))\n",
    "    \n",
    "print('auc -- {}, {}'.format(*res))"
   ]
  },
  {
   "cell_type": "code",
   "execution_count": null,
   "metadata": {},
   "outputs": [],
   "source": []
  },
  {
   "cell_type": "code",
   "execution_count": 18,
   "metadata": {},
   "outputs": [
    {
     "data": {
      "text/plain": [
       "<matplotlib.legend.Legend at 0x7f194b268eb8>"
      ]
     },
     "execution_count": 18,
     "metadata": {},
     "output_type": "execute_result"
    },
    {
     "data": {
      "image/png": "[encoded data removed]",
      "text/plain": [
       "<Figure size 576x432 with 1 Axes>"
      ]
     },
     "metadata": {
      "needs_background": "light"
     },
     "output_type": "display_data"
    }
   ],
   "source": [
    "p, ax1 = plt.subplots(figsize=(8, 6))\n",
    "\n",
    "# plt.figure(figsize=(8, 6))\n",
    "\n",
    "bins = bgc_count\n",
    "ax1.hist(correct_ranks, cumulative=True, range=[0, 10], bins=10, edgecolor='b', density=False, label='data')\n",
    "ax1.hist(incorrect_ranks, cumulative=True, range=[0, 10], bins=10, edgecolor='r', density=False, color='r', label='baseline')\n",
    "\n",
    "ax1.set_title('Spectra with correct match among top-n-scoring BGCs')\n",
    "\n",
    "ax1.set_xlabel('n')\n",
    "ax1.set_ylabel('proportion of spectra')\n",
    "\n",
    "y_vals = ax1.get_yticks()\n",
    "ax1.set_yticklabels(['{:.2f}'.format(round(x / len(spectra_list), 2)) for x in y_vals])\n",
    "\n",
    "ax1.legend()\n",
    "\n",
    "# plt.savefig('graph_iokr_mibig_gnps_vs_baseline_zoom.pdf')"
   ]
  },
  {
   "cell_type": "code",
   "execution_count": null,
   "metadata": {},
   "outputs": [],
   "source": []
  },
  {
   "cell_type": "code",
   "execution_count": null,
   "metadata": {},
   "outputs": [],
   "source": []
  },
  {
   "cell_type": "code",
   "execution_count": null,
   "metadata": {},
   "outputs": [],
   "source": [
    "import csv\n",
    "with open('data_iokr_mibig_gnps_vs_baseline.csv', 'w') as f:\n",
    "    writer = csv.writer(f, delimiter=',')\n",
    "    writer.writerows(zip(correct_ranks, incorrect_ranks))"
   ]
  },
  {
   "cell_type": "code",
   "execution_count": null,
   "metadata": {},
   "outputs": [],
   "source": []
  },
  {
   "cell_type": "code",
   "execution_count": null,
   "metadata": {},
   "outputs": [],
   "source": []
  },
  {
   "cell_type": "code",
   "execution_count": 23,
   "metadata": {},
   "outputs": [
    {
     "data": {
      "image/png": "[encoded data removed]",
      "text/plain": [
       "<Figure size 576x288 with 2 Axes>"
      ]
     },
     "metadata": {
      "needs_background": "light"
     },
     "output_type": "display_data"
    }
   ],
   "source": [
    "p, (ax1, ax2) = plt.subplots(1, 2, figsize=(8, 4))\n",
    "\n",
    "#bins = bgc_count\n",
    "bins = len(bgc_structures.keys())\n",
    "ax1.hist(correct_ranks, cumulative=True, range=[0, bins], bins=bins, edgecolor='b', density=True, label='data')\n",
    "ax1.hist(incorrect_ranks, cumulative=True, range=[0, bins], bins=bins, edgecolor='r', density=True, color='r', label='baseline')\n",
    "\n",
    "\n",
    "ax1.set_xlabel('n')\n",
    "ax1.set_ylabel('proportion of spectra')\n",
    "\n",
    "ax1.set_title(\"All values of $n$\")\n",
    "# plt.legend()\n",
    "\n",
    "bins = bgc_count\n",
    "ax2.hist(correct_ranks, cumulative=True, range=[0, 10], bins=10, edgecolor='b', density=False, label='data')\n",
    "ax2.hist(incorrect_ranks, cumulative=True, range=[0, 10], bins=10, edgecolor='r', density=False, color='r', label='baseline')\n",
    "\n",
    "ax2.set_title('Values of $n$ < 10')\n",
    "\n",
    "ax2.set_xlabel('n')\n",
    "#ax2.set_ylabel('proportion of spectra')\n",
    "\n",
    "y_vals = ax2.get_yticks()\n",
    "ax2.set_yticklabels(['{:.2f}'.format(round(x / len(spectra_list), 2)) for x in y_vals])\n",
    "\n",
    "plt.tight_layout()\n",
    "\n",
    "# Need the extra bits for the title to come out right\n",
    "#plt.tight_layout(rect=[0, 0.03, 1, 0.95])\n",
    "#p.suptitle('Spectra with correct match among top-n-scoring BGCs')\n",
    "\n",
    "ax1.legend()\n",
    "\n",
    "plt.savefig('20200514_graph_iokr_mibig_gnps_vs_baseline_2panel.pdf')"
   ]
  },
  {
   "cell_type": "code",
   "execution_count": null,
   "metadata": {},
   "outputs": [],
   "source": []
  },
  {
   "cell_type": "code",
   "execution_count": null,
   "metadata": {},
   "outputs": [],
   "source": []
  },
  {
   "cell_type": "code",
   "execution_count": null,
   "metadata": {},
   "outputs": [],
   "source": [
    "# For SI"
   ]
  },
  {
   "cell_type": "code",
   "execution_count": 31,
   "metadata": {},
   "outputs": [],
   "source": [
    "with open('gnps_mibig_smiles.csv', 'w') as f:\n",
    "    w = csv.writer(f, delimiter=',', quotechar='\"')\n",
    "    for i, spectrum in enumerate(spectra_list):\n",
    "        # Exclusion by spectrum ID\n",
    "        spectrum_id = spectrum.id.split('.')[1]\n",
    "        if spectrum_id in training_set_spectra_ids:\n",
    "            continue\n",
    "\n",
    "        bgc_id = spectrum.id.split('.')[0]\n",
    "        smiles_list = bgc_structures[bgc_id]\n",
    "        for smiles in smiles_list:\n",
    "            w.writerow([spectrum_id, bgc_id, smiles])"
   ]
  },
  {
   "cell_type": "code",
   "execution_count": null,
   "metadata": {},
   "outputs": [],
   "source": []
  }
 ],
 "metadata": {
  "kernelspec": {
   "display_name": "Python 3",
   "language": "python",
   "name": "python3"
  },
  "language_info": {
   "codemirror_mode": {
    "name": "ipython",
    "version": 3
   },
   "file_extension": ".py",
   "mimetype": "text/x-python",
   "name": "python",
   "nbconvert_exporter": "python",
   "pygments_lexer": "ipython3",
   "version": "3.7.2"
  }
 },
 "nbformat": 4,
 "nbformat_minor": 2
}
