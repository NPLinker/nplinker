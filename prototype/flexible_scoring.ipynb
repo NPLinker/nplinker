{
 "cells": [
  {
   "cell_type": "code",
   "execution_count": 2,
   "metadata": {},
   "outputs": [],
   "source": [
    "import sys, csv, os\n",
    "# import the main NPLinker class\n",
    "from nplinker.nplinker import NPLinker\n",
    "\n",
    "%reload_ext autoreload\n",
    "%autoreload 2"
   ]
  },
  {
   "cell_type": "code",
   "execution_count": 5,
   "metadata": {},
   "outputs": [
    {
     "name": "stdout",
     "output_type": "stream",
     "text": [
      "18:44:11 [INFO] config.py:105, Loading from local data in directory D:\\current_datasets_07062020\\current\\carnegie_mibig_27112019\n",
      "18:44:11 [INFO] loader.py:360, Loaded global strain IDs (0 total)\n",
      "18:44:11 [INFO] loader.py:368, Loaded dataset strain IDs (25 total)\n",
      "18:44:13 [INFO] metabolomics.py:612, 3107 molecules parsed from MGF file\n",
      "D:\\current_datasets_07062020\\current\\carnegie_mibig_27112019\\clusterinfo_summary\\6f4bf34641bf4bcf8711042bc8cb086f.tsv False\n",
      "18:44:13 [INFO] metabolomics.py:632, quantification table exists, new-style GNPS dataset\n",
      "18:44:14 [INFO] metabolomics.py:572, Merged nodes data (new-style), total lines = 3107\n",
      "18:44:14 [INFO] loader.py:346, Loading provided annotation files (D:\\current_datasets_07062020\\current\\carnegie_mibig_27112019\\DB_result)\n",
      "18:44:14 [INFO] genomics.py:368, Found 1816 MiBIG json files\n",
      "18:44:15 [WARNING] loader.py:295, 2 missing annotation tsv files:\n",
      "18:44:15 [WARNING] loader.py:297,   1/2: D:\\current_datasets_07062020\\current\\carnegie_mibig_27112019\\bigscape\\PKS-NRP_Hybrids\\Network_Annotations_PKS-NRP_Hybrids.tsv\n",
      "18:44:15 [WARNING] loader.py:297,   2/2: D:\\current_datasets_07062020\\current\\carnegie_mibig_27112019\\bigscape\\Saccharides\\Network_Annotations_Saccharides.tsv\n",
      "18:44:15 [WARNING] loader.py:295, 2 missing clustering tsv files:\n",
      "18:44:15 [WARNING] loader.py:297,   1/2: D:\\current_datasets_07062020\\current\\carnegie_mibig_27112019\\bigscape\\PKS-NRP_Hybrids\\PKS-NRP_Hybrids_clustering_c0.30.tsv\n",
      "18:44:15 [WARNING] loader.py:297,   2/2: D:\\current_datasets_07062020\\current\\carnegie_mibig_27112019\\bigscape\\Saccharides\\Saccharides_clustering_c0.30.tsv\n",
      "18:44:15 [WARNING] loader.py:295, 2 missing network files:\n",
      "18:44:15 [WARNING] loader.py:297,   1/2: D:\\current_datasets_07062020\\current\\carnegie_mibig_27112019\\bigscape\\PKS-NRP_Hybrids\\PKS-NRP_Hybrids_c0.30.network\n",
      "18:44:15 [WARNING] loader.py:297,   2/2: D:\\current_datasets_07062020\\current\\carnegie_mibig_27112019\\bigscape\\Saccharides\\Saccharides_c0.30.network\n",
      "18:44:15 [WARNING] loader.py:311, Product type PKS-NRP_Hybrids will be skipped due to missing files!\n",
      "18:44:15 [WARNING] loader.py:311, Product type Saccharides will be skipped due to missing files!\n",
      "18:44:15 [INFO] genomics.py:275, # MiBIG BGCs = 317, non-MiBIG BGCS = 1632, total bgcs = 1949, GCFs = 327, strains=1841\n",
      "18:44:15 [INFO] genomics.py:332, Filtering MiBIG BGCs: removing 246 GCFs and 316 BGCs\n",
      "18:44:15 [INFO] genomics.py:282, # after filtering, total bgcs = 134, GCFs = 81, strains=26\n",
      "18:44:15 [DEBUG] genomics.py:286, Loading .network files\n",
      "18:44:15 [INFO] loader.py:233, Strains filtered down to total of 17\n"
     ]
    },
    {
     "data": {
      "text/plain": [
       "True"
      ]
     },
     "execution_count": 5,
     "metadata": {},
     "output_type": "execute_result"
    }
   ],
   "source": [
    "# load a dataset and parameters by creating an NPLinker instance \n",
    "# from a configuration file\n",
    "npl = NPLinker('latest_api_demo.toml')\n",
    "npl.load_data()"
   ]
  },
  {
   "cell_type": "code",
   "execution_count": 13,
   "metadata": {},
   "outputs": [
    {
     "name": "stdout",
     "output_type": "stream",
     "text": [
      "Available scoring methods:\n",
      " - metcalf\n",
      " - testscore\n",
      " - rosetta\n"
     ]
    }
   ],
   "source": [
    "# get a list of the names of the available scoring methods\n",
    "# (these are currently defined as classes in nplinker/scoring/methods.py)\n",
    "print('Available scoring methods:')\n",
    "for m in npl.scoring_methods:\n",
    "    print(' - {}'.format(m))\n",
    "    \n",
    "# to get an *instance* of a particular method, just pass the\n",
    "# name to .scoring_method()\n",
    "mc = npl.scoring_method('metcalf')\n",
    "rs = npl.scoring_method('rosetta')\n",
    "\n",
    "# once you have an instance of a method you're free to change\n",
    "# any of the parameters it may expose (depending on the method itself) \n",
    "# \n",
    "# for metcalf scoring this currently includes:\n",
    "# - cutoff (float): the scoring threshold, links with scores less than this are excluded\n",
    "# - standardised (bool): set to True to use standardised scores (default), False for regular\n",
    "mc.cutoff = 3.5\n",
    "mc.standardised = True\n",
    "\n",
    "# the Rosetta scoring method is more complex and isn't described\n",
    "# here, but also exposes a few parameters:\n",
    "#\n",
    "# If this parameter is True (default), the genomics output\n",
    "# will consist of GCF objects rather than BGCs. This is mostly\n",
    "# to fit in better with methods like Metcalf. \n",
    "rs.bgc_to_gcf = True\n",
    "# spectral and BGC match scores can each have a cutoff threshold applied\n",
    "rs.spec_score_cutoff = 0.2\n",
    "rs.bgc_score_cutoff = 0.2"
   ]
  },
  {
   "cell_type": "code",
   "execution_count": 14,
   "metadata": {},
   "outputs": [
    {
     "name": "stdout",
     "output_type": "stream",
     "text": [
      "18:52:30 [DEBUG] methods.py:432, MetcalfScoring: standardised = True\n",
      "18:52:31 [DEBUG] methods.py:506, MetcalfScoring: input_type=GCF, result_type=Spec/MolFam, inputs=10, results=(3, 37)\n",
      "18:52:31 [DEBUG] methods.py:565, MetcalfScoring found 3 results\n",
      "18:52:31 [DEBUG] methods.py:567, MetcalfScoring: completed\n",
      "Number of results: 3\n"
     ]
    }
   ],
   "source": [
    "#\n",
    "# examples of different ways you can tell nplinker to generate scoring results\n",
    "#\n",
    "\n",
    "# 1. simplest case: 1 set of objects and 1 scoring method. if the 3rd parameter\n",
    "# to get_links is not given, it defaults to ANDing results from different methods\n",
    "# but this obviously doesn't matter if there's only one of them\n",
    "results = npl.get_links(npl.gcfs[:10], mc) \n",
    "\n",
    "# The \"results\" object is an instance of a class called LinkCollection, defined in\n",
    "# nplinker/scoring/methods.py. \n",
    "#\n",
    "# Useful attributes/methods:\n",
    "# - len(results) or .source_count will tell you how many of the input_objects were found to have links\n",
    "print('Number of results: {}'.format(len(results)))\n",
    "# - .sources will return a list of those objects\n",
    "objects_with_links = results.sources\n",
    "# - .links will return a dict with structure {input_object: {linked_object: ObjectLink}}\n",
    "objects_and_link_info = results.links\n",
    "# - .get_all_targets() will return a flat list of *all* the linked objects (for all sources)\n",
    "all_targets = results.get_all_targets() "
   ]
  },
  {
   "cell_type": "code",
   "execution_count": 15,
   "metadata": {},
   "outputs": [
    {
     "name": "stdout",
     "output_type": "stream",
     "text": [
      "Results for object: GCF(id=0, class=NRPS, gcf_id=1807, strains=1), 14 total links, 1 methods used\n",
      "  --> [metcalf] Spectrum(id=55, spectrum_id=7701, strains=1) | 4.0000 | shared strains = 1\n",
      "  --> [metcalf] Spectrum(id=2663, spectrum_id=240439, strains=2) | 4.0000 | shared strains = 1\n",
      "  --> [metcalf] Spectrum(id=2665, spectrum_id=240461, strains=2) | 4.0000 | shared strains = 1\n",
      "  --> [metcalf] Spectrum(id=2668, spectrum_id=241050, strains=4) | 4.0000 | shared strains = 1\n",
      "  --> [metcalf] Spectrum(id=2679, spectrum_id=242220, strains=3) | 4.0000 | shared strains = 1\n",
      "  --> [metcalf] Spectrum(id=2682, spectrum_id=242381, strains=3) | 4.0000 | shared strains = 1\n",
      "  --> [metcalf] Spectrum(id=2685, spectrum_id=243020, strains=4) | 4.0000 | shared strains = 1\n",
      "  --> [metcalf] Spectrum(id=2826, spectrum_id=279198, strains=3) | 4.0000 | shared strains = 1\n",
      "  --> [metcalf] Spectrum(id=2972, spectrum_id=298372, strains=2) | 4.0000 | shared strains = 1\n",
      "  --> [metcalf] Spectrum(id=2980, spectrum_id=300125, strains=2) | 4.0000 | shared strains = 1\n",
      "  --> [metcalf] Spectrum(id=2985, spectrum_id=300607, strains=2) | 4.0000 | shared strains = 1\n",
      "  --> [metcalf] Spectrum(id=3000, spectrum_id=301633, strains=1) | 4.0000 | shared strains = 1\n",
      "  --> [metcalf] Spectrum(id=3081, spectrum_id=319488, strains=2) | 4.0000 | shared strains = 1\n",
      "  --> [metcalf] Spectrum(id=3083, spectrum_id=319556, strains=2) | 4.0000 | shared strains = 1\n",
      "Results for object: GCF(id=2, class=NRPS, gcf_id=1840, strains=8), 21 total links, 1 methods used\n",
      "  --> [metcalf] Spectrum(id=607, spectrum_id=74766, strains=8) | 4.0000 | shared strains = 8\n",
      "  --> [metcalf] Spectrum(id=280, spectrum_id=64294, strains=11) | 3.5556 | shared strains = 8\n",
      "  --> [metcalf] Spectrum(id=556, spectrum_id=74536, strains=7) | 3.5496 | shared strains = 7\n",
      "  --> [metcalf] Spectrum(id=568, spectrum_id=74561, strains=7) | 3.5496 | shared strains = 7\n",
      "  --> [metcalf] Spectrum(id=571, spectrum_id=74571, strains=7) | 3.5496 | shared strains = 7\n",
      "  --> [metcalf] Spectrum(id=577, spectrum_id=74593, strains=12) | 3.5496 | shared strains = 7\n",
      "  --> [metcalf] Spectrum(id=580, spectrum_id=74608, strains=8) | 3.5496 | shared strains = 7\n",
      "  --> [metcalf] Spectrum(id=581, spectrum_id=74609, strains=7) | 3.5496 | shared strains = 7\n",
      "  --> [metcalf] Spectrum(id=585, spectrum_id=74618, strains=8) | 3.5496 | shared strains = 7\n",
      "  --> [metcalf] Spectrum(id=605, spectrum_id=74758, strains=8) | 3.5496 | shared strains = 7\n",
      "  --> [metcalf] Spectrum(id=615, spectrum_id=74805, strains=10) | 3.5496 | shared strains = 7\n",
      "  --> [metcalf] Spectrum(id=627, spectrum_id=74942, strains=7) | 3.5496 | shared strains = 7\n",
      "  --> [metcalf] Spectrum(id=628, spectrum_id=74943, strains=8) | 3.5496 | shared strains = 7\n",
      "  --> [metcalf] Spectrum(id=636, spectrum_id=74978, strains=7) | 3.5496 | shared strains = 7\n",
      "  --> [metcalf] Spectrum(id=657, spectrum_id=75413, strains=8) | 3.5496 | shared strains = 7\n",
      "  --> [metcalf] Spectrum(id=666, spectrum_id=75741, strains=7) | 3.5496 | shared strains = 7\n",
      "  --> [metcalf] Spectrum(id=681, spectrum_id=76907, strains=7) | 3.5496 | shared strains = 7\n",
      "  --> [metcalf] Spectrum(id=695, spectrum_id=77859, strains=7) | 3.5496 | shared strains = 7\n",
      "  --> [metcalf] Spectrum(id=845, spectrum_id=82542, strains=10) | 3.5496 | shared strains = 7\n",
      "  --> [metcalf] Spectrum(id=1480, spectrum_id=124833, strains=7) | 3.5496 | shared strains = 7\n",
      "  --> [metcalf] Spectrum(id=1487, spectrum_id=124859, strains=7) | 3.5496 | shared strains = 7\n",
      "Results for object: GCF(id=1, class=NRPS, gcf_id=1835, strains=1), 2 total links, 1 methods used\n",
      "  --> [metcalf] Spectrum(id=1219, spectrum_id=104007, strains=1) | 4.0000 | shared strains = 1\n",
      "  --> [metcalf] Spectrum(id=1220, spectrum_id=104013, strains=1) | 4.0000 | shared strains = 1\n"
     ]
    }
   ],
   "source": [
    "# The link data itself is stored in ObjectLink objects, which have the following\n",
    "# basic attributes:\n",
    "# - .source: the input object to the method\n",
    "# - .target: the linked object\n",
    "# - .methods: a list of the methods that found this link\n",
    "# - .shared_strains: a list of Strain objects (possibly empty) shared between .source and .target\n",
    "# - .data(<method_object>): return the output of <method_object> for this link (e.g. any score values)\n",
    "# \n",
    "# You can also retrieve any method-specific info for a link by subscripting these objects with \n",
    "# the appropriate method object, e.g. metcalf_link_data = object_link[mc] \n",
    "\n",
    "# iterate over the link information in result.links. <obj> will be one of the original objects\n",
    "# supplied to get_links and <result> will be a dict with structure {linked_object: ObjectLink}\n",
    "for obj, result in results.links.items():\n",
    "    # display the object, the number of links it has, and the number of methods that were used to get them\n",
    "    print('Results for object: {}, {} total links, {} methods used'.format(obj, len(result), results.method_count))\n",
    "    \n",
    "    # sorting is method-dependent since they might have very different \"scores\", so you should\n",
    "    # use the original object to do this. For metcalf scoring, this will return the ObjectLinks sorted\n",
    "    # by score, in descending order by default\n",
    "    sorted_links = results.get_sorted_links(mc, obj)\n",
    "    \n",
    "    # display some link information for each link this object has. \n",
    "    # link_data[<method_object>] will return the per-link data generated by that \n",
    "    # method. Here the metcalf method simply returns the link score as a floating point value \n",
    "    # but other methods may return more complex objects. Each method also has a format_data \n",
    "    # method which should provide a relatively short human-readable summary of the data, as\n",
    "    # a quick way to print and examine results. \n",
    "    for link_data in sorted_links:\n",
    "        print('  --> [{}] {} | {} | shared strains = {}'.format(','.join(method.name for method in link_data.methods), \n",
    "                                                                link_data.target, \n",
    "                                                                mc.format_data(link_data[mc]), \n",
    "                                                                len(link_data.shared_strains)))\n",
    "        \n",
    "    # alternatively, if you don't care about ordering, you can just iterate directly over the \n",
    "    # linked objects like this:\n",
    "    #for link_target, link_data in result.items():\n",
    "    #    print(link_target, link_data)\n",
    "    "
   ]
  },
  {
   "cell_type": "code",
   "execution_count": 16,
   "metadata": {},
   "outputs": [
    {
     "name": "stdout",
     "output_type": "stream",
     "text": [
      "18:52:32 [DEBUG] methods.py:107, filter_sources: 3 => 2\n"
     ]
    }
   ],
   "source": [
    "# The LinkCollection object supports performing various types of filtering on the original set of\n",
    "# results contained within it through a small set of utility methods:\n",
    "# - .filter_no_shared_strains(): remove any links where the linked objects do not share strains\n",
    "# - .filter_sources(callable), .filter_targets(callable), .filter_links(callable): each of those\n",
    "#     simply do callable(object) and filter out objects for which the return value is False/0. The\n",
    "#     <objects> in each case are: the original input objects (sources), their linked objects (targets),\n",
    "#     and the ObjectLink objects (links).\n",
    "#\n",
    "# Notes:\n",
    "# - these methods all modify the original LinkCollection in-place\n",
    "# - they will automatically remove any original results for which no links exist after filtering. For\n",
    "#    example, if there is a source object which starts off with 2 links, but has 0 after a filter is\n",
    "#    run, this object will no longer appear in the LinkCollection afterwards.\n",
    "#\n",
    "# Examples:\n",
    "# a) exclude any sources for which an arbitrary function is false (here sources are GCFs)\n",
    "results.filter_sources(lambda gcf: gcf.id % 2 == 0)\n",
    "# b) exclude any linked objects for which an arbitrary function is false (here these are Spectrums)\n",
    "results.filter_targets(lambda spec: spec.id % 1 == 0)\n",
    "# c) exclude any links for which an arbitrary function is false (the \"link\" here is an ObjectLink)\n",
    "results.filter_links(lambda link: link[mc] > 3.6)"
   ]
  },
  {
   "cell_type": "code",
   "execution_count": 18,
   "metadata": {},
   "outputs": [
    {
     "name": "stdout",
     "output_type": "stream",
     "text": [
      "18:52:40 [INFO] methods.py:334, RosettaScoring got 10 GCFs input, converted to 20 BGCs\n",
      "18:52:40 [DEBUG] methods.py:376, RosettaScoring found 0 results\n",
      "18:52:40 [DEBUG] methods.py:432, MetcalfScoring: standardised = True\n",
      "18:52:40 [DEBUG] methods.py:506, MetcalfScoring: input_type=GCF, result_type=Spec/MolFam, inputs=10, results=(3, 37)\n",
      "18:52:40 [DEBUG] methods.py:565, MetcalfScoring found 3 results\n",
      "18:52:40 [DEBUG] methods.py:52, Merging 3 results from method metcalf in AND mode\n",
      "18:52:40 [DEBUG] methods.py:567, MetcalfScoring: completed\n"
     ]
    }
   ],
   "source": [
    "# 2. use the same set of objects with two different methods, and AND the results\n",
    "# together so that objects will only be returned which have links according to \n",
    "# both of the supplied methods. \n",
    "#\n",
    "# If you provide 2 or more scoring methods but only a single set of objects,\n",
    "# that set will be used as input to every method.\n",
    "results = npl.get_links(npl.gcfs[:10], [rs, mc], and_mode=True)"
   ]
  },
  {
   "cell_type": "code",
   "execution_count": 19,
   "metadata": {},
   "outputs": [
    {
     "name": "stdout",
     "output_type": "stream",
     "text": [
      "18:52:50 [INFO] methods.py:334, RosettaScoring got 10 GCFs input, converted to 20 BGCs\n",
      "18:52:50 [DEBUG] methods.py:376, RosettaScoring found 0 results\n",
      "18:52:50 [DEBUG] methods.py:432, MetcalfScoring: standardised = True\n",
      "18:52:50 [DEBUG] methods.py:506, MetcalfScoring: input_type=GCF, result_type=Spec/MolFam, inputs=10, results=(3, 37)\n",
      "18:52:50 [DEBUG] methods.py:565, MetcalfScoring found 3 results\n",
      "18:52:50 [DEBUG] methods.py:49, Merging 3 results from method metcalf in OR mode\n",
      "18:52:50 [DEBUG] methods.py:567, MetcalfScoring: completed\n"
     ]
    }
   ],
   "source": [
    "# 3. same thing as #2 but showing how to provide potentially different sets of objects\n",
    "# to each method, and ORing the results instead so that different methods can return\n",
    "# different numbers of results\n",
    "results = npl.get_links([npl.gcfs[:10], npl.gcfs[:10]], [rs, mc], and_mode=False)"
   ]
  },
  {
   "cell_type": "code",
   "execution_count": null,
   "metadata": {},
   "outputs": [],
   "source": []
  }
 ],
 "metadata": {
  "kernelspec": {
   "display_name": "Python 3",
   "language": "python",
   "name": "python3"
  },
  "language_info": {
   "codemirror_mode": {
    "name": "ipython",
    "version": 3
   },
   "file_extension": ".py",
   "mimetype": "text/x-python",
   "name": "python",
   "nbconvert_exporter": "python",
   "pygments_lexer": "ipython3",
   "version": "3.7.7"
  },
  "varInspector": {
   "cols": {
    "lenName": 16,
    "lenType": 16,
    "lenVar": 40
   },
   "kernels_config": {
    "python": {
     "delete_cmd_postfix": "",
     "delete_cmd_prefix": "del ",
     "library": "var_list.py",
     "varRefreshCmd": "print(var_dic_list())"
    },
    "r": {
     "delete_cmd_postfix": ") ",
     "delete_cmd_prefix": "rm(",
     "library": "var_list.r",
     "varRefreshCmd": "cat(var_dic_list()) "
    }
   },
   "types_to_exclude": [
    "module",
    "function",
    "builtin_function_or_method",
    "instance",
    "_Feature"
   ],
   "window_display": false
  }
 },
 "nbformat": 4,
 "nbformat_minor": 2
}
