{
 "cells": [
  {
   "cell_type": "code",
   "execution_count": null,
   "metadata": {},
   "outputs": [],
   "source": [
    "import sys, csv, os\n",
    "from nplinker.nplinker import NPLinker\n",
    "from nplinker.logconfig import LogConfig\n",
    "%reload_ext autoreload\n",
    "%autoreload 2"
   ]
  },
  {
   "cell_type": "code",
   "execution_count": null,
   "metadata": {},
   "outputs": [],
   "source": [
    "npl = NPLinker('local_fbmn.toml')\n",
    "npl.load_data()\n",
    "# don't need to call process_dataset any more, handled internally"
   ]
  },
  {
   "cell_type": "code",
   "execution_count": null,
   "metadata": {},
   "outputs": [],
   "source": [
    "# get a list of the names of the available scoring methods\n",
    "# (defined in nplinker/scoring/methods.py)\n",
    "print('Available scoring methods:')\n",
    "for m in npl.scoring_methods:\n",
    "    print(' - {}'.format(m))\n",
    "    \n",
    "# to get an instance of a particular method, just pass the\n",
    "# name to scoring_method()...\n",
    "mc = npl.scoring_method('metcalf')\n",
    "test = npl.scoring_method('testscore')\n",
    "\n",
    "# once you have an instance of a method you're free to change\n",
    "# its various parameters\n",
    "mc.cutoff = 3.5\n",
    "test.foo = 456\n",
    "\n",
    "# examples of different ways you can tell nplinker to generate scoring results\n",
    "\n",
    "# 1. simplest case: 1 set of objects and 1 scoring method. if the 3rd parameter\n",
    "# to get_links is not given, it defaults to ANDing results from different methods\n",
    "# but this obviously doesn't matter if there's only one of them\n",
    "results = npl.get_links(npl.gcfs[:10], mc) \n",
    "# \"results\" is a dict indexed by the scoring method object(s) passed to get_links.\n",
    "# each value is another dict indexed by the input objects (e.g. the set of 10 GCFs\n",
    "# in the above example), with the values being lists of whatever the output of the\n",
    "# scoring method was. With metcalf, it returns SimpleNamespace objects with fields\n",
    "# src (source object), dst (linked object) and score (metcalf score). Input objects\n",
    "# with no links found are not included in the dict. \n",
    "# \n",
    "# e.g. results = { <mc obj>: {gcf_1: [link1, ...], gcf_2: [link1, ...], ... } }\n",
    "for method in results:\n",
    "    print('Results for method \"{}\"\"'.format(method.name))\n",
    "    for obj in results[method]:\n",
    "        print('   {} has {} links'.format(obj, len(results[method][obj])))\n",
    "        for link in results[method][obj]:\n",
    "            # metcalf output\n",
    "            print('      -> {} | {}'.format(link.score, link.dst))\n",
    "            \n",
    "# 2. use the same set of objects with two different methods, and AND the results\n",
    "# together...\n",
    "# NOTE: there will still be two entries in the \"results\" dict when it's returned \n",
    "# here, one for each method. But if an object appears in the results from one \n",
    "# method it should be guaranteed to appear in the results for the other(s) too. \n",
    "results = npl.get_links([npl.gcfs[:10], npl.gcfs[:10]], [test, mc], npl.MODE_AND)\n",
    "\n",
    "# 3. same thing but ORing the results\n",
    "results = npl.get_links([npl.gcfs[:10], npl.gcfs[:10]], [test, mc], npl.MODE_OR)\n",
    "\n",
    "# 4. if you just want to run multiple completely independent methods on different\n",
    "# sets of objects\n",
    "results = npl.get_links([npl.gcfs[:10], npl.spectra[:10]], [test, mc], npl.MODE_SEPARATE)"
   ]
  }
 ],
 "metadata": {
  "kernelspec": {
   "display_name": "Python 3",
   "language": "python",
   "name": "python3"
  },
  "language_info": {
   "codemirror_mode": {
    "name": "ipython",
    "version": 3
   },
   "file_extension": ".py",
   "mimetype": "text/x-python",
   "name": "python",
   "nbconvert_exporter": "python",
   "pygments_lexer": "ipython3",
   "version": "3.7.4"
  },
  "varInspector": {
   "cols": {
    "lenName": 16,
    "lenType": 16,
    "lenVar": 40
   },
   "kernels_config": {
    "python": {
     "delete_cmd_postfix": "",
     "delete_cmd_prefix": "del ",
     "library": "var_list.py",
     "varRefreshCmd": "print(var_dic_list())"
    },
    "r": {
     "delete_cmd_postfix": ") ",
     "delete_cmd_prefix": "rm(",
     "library": "var_list.r",
     "varRefreshCmd": "cat(var_dic_list()) "
    }
   },
   "types_to_exclude": [
    "module",
    "function",
    "builtin_function_or_method",
    "instance",
    "_Feature"
   ],
   "window_display": false
  }
 },
 "nbformat": 4,
 "nbformat_minor": 2
}
