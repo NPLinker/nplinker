{
 "cells": [
  {
   "cell_type": "code",
   "execution_count": 15,
   "metadata": {},
   "outputs": [
    {
     "name": "stdout",
     "output_type": "stream",
     "text": [
      "The autoreload extension is already loaded. To reload it, use:\n",
      "  %reload_ext autoreload\n"
     ]
    }
   ],
   "source": [
    "%load_ext autoreload\n",
    "%autoreload 2"
   ]
  },
  {
   "cell_type": "code",
   "execution_count": 16,
   "metadata": {},
   "outputs": [],
   "source": [
    "from nplinker_constants import nplinker_setup\n",
    "nplinker_setup()"
   ]
  },
  {
   "cell_type": "code",
   "execution_count": 37,
   "metadata": {},
   "outputs": [
    {
     "name": "stdout",
     "output_type": "stream",
     "text": [
      "Loaded 5930 molecules\n"
     ]
    }
   ],
   "source": [
    "from metabolomics import load_spectra\n",
    "\n",
    "mgf_file = '/Users/simon/Dropbox/BioResearch/Meta_clustering/MS2LDA/gnps_scripts/METABOLOMICS-SNETS-c36f90ba-download_clustered_spectra-main.mgf'\n",
    "spectra = load_spectra(mgf_file)"
   ]
  },
  {
   "cell_type": "code",
   "execution_count": 38,
   "metadata": {},
   "outputs": [
    {
     "name": "stdout",
     "output_type": "stream",
     "text": [
      "cluster index\tnumber of spectra\tparent mass\tprecursor charge\tprecursor mass\tsum(precursor intensity)\t-ve\tA1\tARENICOLA\tBAHAMAS\tBUTANOL\tCHANNELISLANDS\tCNB091\tCNB440\tCNB458\tCNB476\tCNB527\tCNB536\tCNH099\tCNH189\tCNH287\tCNH643\tCNH646\tCNH713\tCNH718\tCNH732\tCNH877\tCNH898\tCNH905\tCNH941\tCNH962\tCNH963\tCNH964\tCNH996\tCNP082\tCNP105\tCNP193\tCNQ149\tCNQ329\tCNQ525\tCNQ748\tCNQ766\tCNQ768\tCNQ865\tCNQ884\tCNR107\tCNR114\tCNR425\tCNR510\tCNR698\tCNR699\tCNR894\tCNR909\tCNR921\tCNR942\tCNS051\tCNS055\tCNS103\tCNS143\tCNS197\tCNS205\tCNS237\tCNS243\tCNS296\tCNS299\tCNS325\tCNS335\tCNS342\tCNS416\tCNS606\tCNS615\tCNS654\tCNS673\tCNS744\tCNS801\tCNS820\tCNS848\tCNS860\tCNS863\tCNS960\tCNS991\tCNS996\tCNT001\tCNT003\tCNT005\tCNT029\tCNT045\tCNT084\tCNT088\tCNT124\tCNT131\tCNT133\tCNT138\tCNT148\tCNT150\tCNT250\tCNT261\tCNT302\tCNT318\tCNT360\tCNT371\tCNT372\tCNT403\tCNT569\tCNT584\tCNT603\tCNT609\tCNT796\tCNT798\tCNT799\tCNT800\tCNT849\tCNT850\tCNT851\tCNT854\tCNT855\tCNT857\tCNT859\tCNX435\tCNX481\tCNX482\tCNX508\tCNX814\tCNX891\tCNY011\tCNY012\tCNY202\tCNY228\tCNY230\tCNY231\tCNY234\tCNY237\tCNY239\tCNY243\tCNY244\tCNY256\tCNY260\tCNY280\tCNY281\tCNY282\tCNY330\tCNY331\tCNY363\tCNY486\tCNY498\tCNY646\tCNY666\tCNY673\tCNY678\tCNY679\tCNY681\tCNY685\tCNY690\tCNY694\tCNY703\tELLIS\tETHYLACETATE\tFIJI\tFLORIDAKEYS\tG1\tG2\tG3\tG4\tG5\tG6\tGUAM\tHAWAII\tMADEIRAS\tMAX\tMETHANOL\tMS\tNEGCONTROL\tPACIFICA\tPALAU\tPALMYRA\tPUERTOVALLARTA\tR5\tREDSEA\tSALINISPORA\tSANDIEGO\tSEAOFCORTEZ\tSTREPTOMYCES\tTAA040\tTAA204\tTAA486\tTROPICA\tYUCATAN\tAllFiles\tAllGroups\tDefaultGroups\tRTMean\tRTStdErr\tProteoSAFeClusterLink\tUniqueFileSourcesCount\tEvenOdd\tLibraryID\tNumberOrganismIDs\tAllOrganisms\n",
      "\n"
     ]
    }
   ],
   "source": [
    "nodes_file = '/Users/simon/Dropbox/BioResearch/Meta_clustering/MS2LDA/gnps_scripts/0d51c5b6c73b489185a5503d319977ab..out'\n",
    "with open(nodes_file,'rU') as f:\n",
    "    for line in f:\n",
    "        print line\n",
    "        break"
   ]
  },
  {
   "cell_type": "code",
   "execution_count": 39,
   "metadata": {},
   "outputs": [],
   "source": [
    "strains = \"CNB091\tCNB440\tCNB458\tCNB476\tCNB527\tCNB536\tCNH099\tCNH189\tCNH287\tCNH643\tCNH646\tCNH713\tCNH718\tCNH732\tCNH877\tCNH898\tCNH905\tCNH941\tCNH962\tCNH963\tCNH964\tCNH996\tCNP082\tCNP105\tCNP193\tCNQ149\tCNQ329\tCNQ525\tCNQ748\tCNQ766\tCNQ768\tCNQ865\tCNQ884\tCNR107\tCNR114\tCNR425\tCNR510\tCNR698\tCNR699\tCNR894\tCNR909\tCNR921\tCNR942\tCNS051\tCNS055\tCNS103\tCNS143\tCNS197\tCNS205\tCNS237\tCNS243\tCNS296\tCNS299\tCNS325\tCNS335\tCNS342\tCNS416\tCNS606\tCNS615\tCNS654\tCNS673\tCNS744\tCNS801\tCNS820\tCNS848\tCNS860\tCNS863\tCNS960\tCNS991\tCNS996\tCNT001\tCNT003\tCNT005\tCNT029\tCNT045\tCNT084\tCNT088\tCNT124\tCNT131\tCNT133\tCNT138\tCNT148\tCNT150\tCNT250\tCNT261\tCNT302\tCNT318\tCNT360\tCNT371\tCNT372\tCNT403\tCNT569\tCNT584\tCNT603\tCNT609\tCNT796\tCNT798\tCNT799\tCNT800\tCNT849\tCNT850\tCNT851\tCNT854\tCNT855\tCNT857\tCNT859\tCNX435\tCNX481\tCNX482\tCNX508\tCNX814\tCNX891\tCNY011\tCNY012\tCNY202\tCNY228\tCNY230\tCNY231\tCNY234\tCNY237\tCNY239\tCNY243\tCNY244\tCNY256\tCNY260\tCNY280\tCNY281\tCNY282\tCNY330\tCNY331\tCNY363\tCNY486\tCNY498\tCNY646\tCNY666\tCNY673\tCNY678\tCNY679\tCNY681\tCNY685\tCNY690\tCNY694\tCNY703\".split('\\t')\n"
   ]
  },
  {
   "cell_type": "code",
   "execution_count": 40,
   "metadata": {},
   "outputs": [],
   "source": [
    "from metabolomics import load_metadata\n",
    "load_metadata(spectra,nodes_file)"
   ]
  },
  {
   "cell_type": "code",
   "execution_count": 41,
   "metadata": {},
   "outputs": [
    {
     "name": "stdout",
     "output_type": "stream",
     "text": [
      "None\n"
     ]
    }
   ],
   "source": [
    "print spectra[0].get_metadata_value('LibraryID')"
   ]
  },
  {
   "cell_type": "code",
   "execution_count": 42,
   "metadata": {},
   "outputs": [],
   "source": [
    "from metabolomics import load_edges\n",
    "edge_file = '/Users/simon/Dropbox/BioResearch/Meta_clustering/MS2LDA/gnps_scripts/9a93d720f69143bb9f971db39b5d2ba2.pairsinfo'\n",
    "load_edges(spectra,edge_file)\n",
    "from metabolomics import make_families\n",
    "families = make_families(spectra)"
   ]
  },
  {
   "cell_type": "code",
   "execution_count": 43,
   "metadata": {},
   "outputs": [
    {
     "name": "stdout",
     "output_type": "stream",
     "text": [
      "47672 Alteramide B\n",
      "1810 Sorbitane Monopalmitate - Polysorbate 40 in-source fragment\n",
      "1863 Sorbitane Monopalmitate - Polysorbate 40 in-source fragment\n",
      "63393 Rosamicin\n",
      "42939 Loperamide hydrochloride\n",
      "63753 MLS000863563-01!1,11,22-trihydroxy-1,6,11,16,22,27-hexazacyclodotriacontane-2,5,12,15,23,26-hexone\n",
      "63751 MLS000863563-01!1,11,22-trihydroxy-1,6,11,16,22,27-hexazacyclodotriacontane-2,5,12,15,23,26-hexone\n",
      "65780 21-hydroxyrosamicin \n",
      "65843 21-hydroxyrosamicin \n",
      "65995 18-dihydro-21-hydroxyrosamicin \n",
      "67276 ReSpect:PT212210 Cyanidin-3-O-(2''-O-beta-glucopyranosyl-beta-glucopyranoside)|Cy 3-Soph|cyanidin-3-sophoroside|(2S,3R,4S,5S,6R)-2-[(2S,3R,4S,5S,6R)-2-[2-(3,4-dihydroxyphenyl)-5,7-dihydroxychromenylium-3-yl]oxy-4,5-di\n",
      "1462 Massbank:FFF00098 24-Ethylcoprostanol\n",
      "1369 Sorbitane Monopalmitate - Polysorbate 40 in-source fragment\n",
      "1585 Sorbitane Monopalmitate - Polysorbate 40 in-source fragment\n",
      "41255 Glycocholic acid\n",
      "41256 Glycocholic acid\n",
      "20859 Sevadicin\n",
      "41296 Staurosporine\n",
      "41297 Staurosporine\n",
      "37863 Massbank:BML00870 11-(2-bromo-3,6-dimethoxyphenyl)-3,3-dimethyl-2,3,4-trihydro-5H,10H,11H-benzo[ b]benzo[2,1-f]1,4-diazepin-1-one\n",
      "77546 Lomaiviticin D\n",
      "53376 1-Oleoyl-sn-glycero-3-phosphocholine\n",
      "114634 Ammosamide B trimer\n",
      "115191 Sodium Formate\n",
      "21986 MLS000830274-01!Ethmozine\n",
      "22544 8-desoxyenterocin\n",
      "63396 Rosamicin\n",
      "58775 Massbank:EA285507 Dronedarone|N-[2-butyl-3-[4-[3-(dibutylamino)propoxy]benzoyl]-1-benzofuran-5-yl]methanesulfonamide\n",
      "57454 Antimycin A1\n",
      "36184 Enterocin\n",
      "37209 HMDB:HMDB00631-862 Deoxycholic acid glycine conjugate\n",
      "107846 MS_Contaminant_Sodium_Formate_Cluster\n",
      "107848 MS_Contaminant_Sodium_Formate_Cluster\n",
      "107847 MS_Contaminant_Sodium_Formate_Cluster\n",
      "107857 MS_Contaminant_Sodium_Formate_Cluster\n",
      "107849 MS_Contaminant_Sodium_Formate_Cluster\n",
      "107850 MS_Contaminant_Sodium_Formate_Cluster\n",
      "107851 MS_Contaminant_Sodium_Formate_Cluster\n",
      "107854 MS_Contaminant_Sodium_Formate_Cluster\n",
      "107859 MS_Contaminant_Sodium_Formate_Cluster\n",
      "107899 MS_Contaminant_Sodium_Formate_Cluster\n",
      "107864 MS_Contaminant_Sodium_Formate_Cluster\n",
      "107872 MS_Contaminant_Sodium_Formate_Cluster\n",
      "107883 MS_Contaminant_Sodium_Formate_Cluster\n",
      "107892 MS_Contaminant_Sodium_Formate_Cluster\n",
      "107893 MS_Contaminant_Sodium_Formate_Cluster\n",
      "107939 MS_Contaminant_Sodium_Formate_Cluster\n",
      "107911 MS_Contaminant_Sodium_Formate_Cluster\n",
      "107977 MS_Contaminant_Sodium_Formate_Cluster\n",
      "108006 MS_Contaminant_Sodium_Formate_Cluster\n",
      "108052 MS_Contaminant_Sodium_Formate_Cluster\n",
      "118611 MS_Contaminant_Sodium_Formate_Cluster\n",
      "120119 Salinamide A\n",
      "120229 Cyclomarin A\n",
      "120629 MS_Contaminant_Sodium_Formate_Cluster\n",
      "120627 MS_Contaminant_Sodium_Formate_Cluster\n",
      "121092 Salinamide B\n",
      "121255 pumilacidin_E_14342_dereplictor_pv_1.13518e-25\n",
      "95828 Acyl desferrioxamine C13\n",
      "13063 MLS000876958-01!2-(3,4-dimethoxyphenyl)-5-hydroxy-3,6,7,8-tetramethoxychromen-4-one\n",
      "69067 Desferrioxamine E\n",
      "100017 Acyl desferrioxamine C15\n",
      "59009 MLS000028713-01!DEFEROXAMINE MESYLATE\n",
      "50379 MLS000563039-01!\n",
      "65082 21-hydroxyrosamicin \n",
      "46391 CYTIDINE 5'-DIPHOSPHOCHOLINE\n",
      "32567 B21A03\n",
      "47484 1-Palmitoyl-sn-glycero-3-phosphocholine\n",
      "983 Sorbitane Monopalmitate - Polysorbate 40 in-source fragment\n",
      "1069 Massbank:FFF00078 Stigmastanol\n",
      "74559 Progesterone\n",
      "66085 Desferrioxamine E\n",
      "76768 Arenimycin A\n",
      "76767 Arenimycin A\n",
      "66136 Desferrioxamine E\n",
      "66141 Desferrioxamine E\n",
      "76991 Lomaiviticin C\n",
      "74200 GranisetronHCl\n",
      "74196 GranisetronHCl\n",
      "104784 Arenimycin B\n",
      "24597 Sorbitane Monostearate - Polysorbate 60 in-source fragment\n",
      "24601 Sorbitane Monostearate - Polysorbate 60 in-source fragment\n",
      "24628 Sorbitane Monostearate - Polysorbate 60 in-source fragment\n",
      "24622 Sorbitane Monostearate - Polysorbate 60 in-source fragment\n",
      "83944 1,2-dipalmitoyl-sn-glycero-3-phosphoethanolamine\n",
      "83932 1,2-dipalmitoyl-sn-glycero-3-phosphoethanolamine\n",
      "83947 1,2-dipalmitoyl-sn-glycero-3-phosphoethanolamine\n",
      "83948 1,2-dipalmitoyl-sn-glycero-3-phosphoethanolamine\n",
      "24675 ReSpect:PS087410 Vitexin|Vitx|apigenin-8-C-glucoside|8-beta-D-Glucopyranosyl-apigenin|Orientoside\n",
      "24709 Sorbitane Monostearate - Polysorbate 60 in-source fragment\n",
      "84096 Rifamycin S\n",
      "4591 MLS001060855-01!\n",
      "4604 Massbank:CE000164 S,R-Noscapine\n",
      "79134 Lomaiviticin A\n",
      "43681 Massbank:PR040097 Isorhamnetin-3-O-glucoside|Isor_3_Glc|5,7-dihydroxy-2-(4-hydroxy-3-methoxyphenyl)-3-[(2S,3R,4S,5S,6R)-3,4,5-trihydroxy-6-(hydroxymethyl)oxan-2-yl]oxychromen-4-one\n",
      "43893 7-OH-staurosporine\n",
      "43894 7-OH-staurosporine\n",
      "43895 7-OH-staurosporine\n",
      "43999 7-OH-staurosporine\n",
      "44704 7-OH-staurosporine\n",
      "75279 Rifamycin W\n",
      "75205 Rifamycin W\n",
      "123468 Aurantin_II_24051_dereplictor_pv_9.12748e-26\n",
      "2839 (2R,3R,4S,6R)-2-((10-hydroxy-2,2-dimethyl-3,4-dihydro-2H-benzo[g]chromen-5-yl)oxy)-6-(hydroxymethyl)tetrahydro-2H-pyran-3,4,5-triol\n",
      "123528 Actinomycin_X2;_Actinomycin_V;_Actinomyc_28731_dereplictor_pv_1.70529e-21\n",
      "24724 Sorbitane Monostearate - Polysorbate 60 in-source fragment\n",
      "108078 MS_Contaminant_Sodium_Formate_Cluster\n",
      "108651 desmethylsalinamide E\n",
      "110072 Salinamide E\n"
     ]
    }
   ],
   "source": [
    "for spectrum in spectra:\n",
    "    lid = spectrum.metadata['LibraryID']\n",
    "    if lid:\n",
    "        print spectrum.spectrum_id,lid"
   ]
  },
  {
   "cell_type": "code",
   "execution_count": 44,
   "metadata": {},
   "outputs": [],
   "source": [
    "from genomics import loadBGC_from_node_files\n",
    "import glob\n",
    "node_file_list = glob.glob('/Users/simon/Dropbox/BioResearch/Meta_clustering/MS2LDA/BGC/data/GCFs/Crusemann_only/*node.csv')\n",
    "gcf_list,bgc_list, strain_list = loadBGC_from_node_files(node_file_list)"
   ]
  },
  {
   "cell_type": "code",
   "execution_count": 45,
   "metadata": {},
   "outputs": [
    {
     "name": "stdout",
     "output_type": "stream",
     "text": [
      "876\n"
     ]
    }
   ],
   "source": [
    "print len(gcf_list)"
   ]
  },
  {
   "cell_type": "code",
   "execution_count": 46,
   "metadata": {},
   "outputs": [],
   "source": [
    "# initiate the random ones\n",
    "for g in gcf_list:\n",
    "    g.add_random(strain_list)\n",
    "for s in spectra:\n",
    "    s.add_random(strain_list)"
   ]
  },
  {
   "cell_type": "code",
   "execution_count": 48,
   "metadata": {},
   "outputs": [
    {
     "name": "stdout",
     "output_type": "stream",
     "text": [
      "0\n",
      "Best:  94\n",
      "Best random:  94\n",
      "Best random:  106\n",
      "Best:  102\n",
      "Best random:  110\n",
      "Best:  110\n",
      "Best random:  114\n",
      "Best:  128\n",
      "Best random:  115\n",
      "Best random:  121\n",
      "Best random:  124\n",
      "Best random:  125\n",
      "Best random:  126\n",
      "Best random:  129\n",
      "Best random:  130\n",
      "Best random:  131\n",
      "Best:  129\n",
      "Best:  130\n",
      "Best:  140\n",
      "100\n",
      "Best:  154\n",
      "200\n",
      "Best random:  139\n",
      "300\n",
      "400\n",
      "500\n",
      "600\n",
      "700\n",
      "800\n",
      "900\n",
      "Best random:  141\n"
     ]
    }
   ],
   "source": [
    "from scoring import metcalf_scoring\n",
    "m_scores = {}\n",
    "best = 0\n",
    "best_random = 0\n",
    "for i,spectrum in enumerate(spectra[:1000]):\n",
    "    m_scores[spectrum] = {}\n",
    "    if i % 100 == 0:\n",
    "        print i\n",
    "    for gcf in gcf_list:\n",
    "        s = metcalf_scoring(spectrum,gcf,strain_list)\n",
    "        s_random = metcalf_scoring(spectrum.random_spectrum,gcf.random_gcf,strain_list)\n",
    "        m_scores[spectrum][gcf] = (s,s_random)\n",
    "        if s > best:\n",
    "            best = s\n",
    "            print \"Best: \",best\n",
    "        if s_random > best_random:\n",
    "            best_random = s_random\n",
    "            print \"Best random: \",best_random"
   ]
  },
  {
   "cell_type": "code",
   "execution_count": 72,
   "metadata": {},
   "outputs": [
    {
     "name": "stdout",
     "output_type": "stream",
     "text": [
      "113\n",
      "0.0144646118721\n"
     ]
    },
    {
     "data": {
      "image/png": "[encoded data removed]",
      "text/plain": [
       "<Figure size 432x288 with 1 Axes>"
      ]
     },
     "metadata": {
      "needs_background": "light"
     },
     "output_type": "display_data"
    },
    {
     "data": {
      "image/png": "[encoded data removed]",
      "text/plain": [
       "<Figure size 432x288 with 1 Axes>"
      ]
     },
     "metadata": {
      "needs_background": "light"
     },
     "output_type": "display_data"
    }
   ],
   "source": [
    "import pylab as plt\n",
    "import numpy as np\n",
    "%matplotlib inline\n",
    "scores =[]\n",
    "random_scores = []\n",
    "for s,g in m_scores.items():\n",
    "    for gg,sc in g.items():\n",
    "        random_scores.append(sc[1])\n",
    "        scores.append(sc[0])\n",
    "plt.hist(random_scores,bins=50)\n",
    "plt.xlim([100,150])\n",
    "plt.figure()\n",
    "plt.hist(scores,bins=50)\n",
    "plt.xlim([100,150])\n",
    "plt.ylim([0,1000])\n",
    "random_scores.sort()\n",
    "perc99 = random_scores[int(np.floor(0.99*len(random_scores)))]\n",
    "print perc99\n",
    "scores = np.array(scores)\n",
    "n_above = len(np.where(scores>=perc99)[0])\n",
    "print (1.0*n_above)/len(scores)"
   ]
  },
  {
   "cell_type": "code",
   "execution_count": null,
   "metadata": {},
   "outputs": [],
   "source": [
    "best_spec = None\n",
    "best_gcf = None\n",
    "for spectrum in m_scores:\n",
    "    for gcf in m_scores[spectrum]:\n",
    "        if m_scores[spectrum][gcf] == best:\n",
    "            best_spec = spectrum\n",
    "            best_gcf = gcf"
   ]
  },
  {
   "cell_type": "code",
   "execution_count": null,
   "metadata": {},
   "outputs": [],
   "source": [
    "print best_spec\n",
    "print best_gcf\n",
    "for strain in strain_list:\n",
    "    print strain,best_spec.has_strain(strain),best_gcf.has_strain(strain)"
   ]
  },
  {
   "cell_type": "code",
   "execution_count": null,
   "metadata": {},
   "outputs": [],
   "source": [
    "print best_spec.metadata['LibraryID']\n",
    "for bgc in best_gcf.bgc_list:\n",
    "    print bgc,bgc.bigscape_class,bgc.product_prediction"
   ]
  },
  {
   "cell_type": "code",
   "execution_count": 78,
   "metadata": {},
   "outputs": [
    {
     "name": "stdout",
     "output_type": "stream",
     "text": [
      "['#mibig_id', 'gnps_id', 'mibig_name', 'gnps_name']\n"
     ]
    }
   ],
   "source": [
    "link_file = 'mibig_gnps_links_q3_loose.csv'\n",
    "links = []\n",
    "import csv\n",
    "with open(link_file,'r') as f:\n",
    "    reader = csv.reader(f)\n",
    "    heads = reader.next()\n",
    "    print heads\n",
    "    for line in reader:\n",
    "        links.append(line)"
   ]
  },
  {
   "cell_type": "code",
   "execution_count": 98,
   "metadata": {},
   "outputs": [],
   "source": [
    "link_dict = {}\n",
    "for link in links:\n",
    "    short_gnps_name = link[3].split()[0]\n",
    "    link_dict[short_gnps_name] = link[0]    "
   ]
  },
  {
   "cell_type": "code",
   "execution_count": 102,
   "metadata": {},
   "outputs": [],
   "source": [
    "spec_lib_dict = {}\n",
    "for spectrum in spectra:\n",
    "    if spectrum.metadata['LibraryID']:\n",
    "        lid = spectrum.metadata['LibraryID'].split()[0]\n",
    "        if lid in link_dict:\n",
    "            spec_lib_dict[spectrum] = lid"
   ]
  },
  {
   "cell_type": "code",
   "execution_count": 107,
   "metadata": {},
   "outputs": [
    {
     "name": "stdout",
     "output_type": "stream",
     "text": [
      "BGC0000198\n",
      "[]\n",
      "BGC0001830\n",
      "[]\n",
      "BGC0000136\n",
      "[]\n",
      "BGC0001766\n",
      "[]\n",
      "BGC0001766\n",
      "[]\n",
      "BGC0001572\n",
      "[]\n",
      "BGC0000241\n",
      "[]\n",
      "BGC0000136\n",
      "[]\n",
      "BGC0001572\n",
      "[]\n",
      "BGC0000426\n",
      "[]\n",
      "BGC0000826\n",
      "[]\n",
      "BGC0000198\n",
      "[]\n",
      "BGC0000333\n",
      "[]\n",
      "BGC0001830\n",
      "[]\n",
      "BGC0001766\n",
      "[]\n",
      "BGC0000241\n",
      "[]\n",
      "BGC0000220\n",
      "[]\n",
      "BGC0000241\n",
      "[]\n",
      "BGC0000198\n",
      "[]\n",
      "BGC0000826\n",
      "[]\n",
      "BGC0001572\n",
      "[]\n",
      "BGC0001572\n",
      "[]\n",
      "BGC0000136\n",
      "[]\n"
     ]
    }
   ],
   "source": [
    "for spec in spec_lib_dict:\n",
    "    bgc_name = link_dict[spec_lib_dict[spec]]\n",
    "    print bgc_name\n",
    "    bgc = [b for b in bgc_list if b.name.startswith(bgc_name)]\n",
    "    print bgc"
   ]
  },
  {
   "cell_type": "code",
   "execution_count": 106,
   "metadata": {},
   "outputs": [
    {
     "name": "stdout",
     "output_type": "stream",
     "text": [
      "['BGC0000181.1', 'BGC0001383.1', 'BGC0001031.1', 'BGC0001032.1', 'BGC0000995.1', 'BGC0001113.1', 'BGC0000418.1', 'BGC0000419.1', 'BGC0000995.1', 'BGC0001113.1', 'BGC0000064.1', 'BGC0001268.1', 'BGC0001096.1', 'BGC0000976.1', 'BGC0001165.1', 'BGC0000989.1', 'BGC0000990.1', 'BGC0001041.1', 'BGC0000991.1', 'BGC0001009.1', 'BGC0001010.1', 'BGC0000689.1', 'BGC0000697.1', 'BGC0001241.1', 'BGC0001267.1', 'BGC0001322.1', 'BGC0001324.1', 'BGC0000611.1', 'BGC0000655.1', 'BGC0000611.1', 'BGC0000655.1', 'BGC0000564.1', 'BGC0001170.1', 'BGC0000491.1', 'BGC0001222.1', 'BGC0000530.1', 'BGC0000533.1', 'BGC0000064.1', 'BGC0001268.1', 'BGC0000989.1', 'BGC0000991.1', 'BGC0000157.1', 'BGC0000158.1', 'BGC0001009.1', 'BGC0001010.1', 'BGC0001041.1', 'BGC0000976.1', 'BGC0001165.1', 'BGC0000958.1', 'BGC0001216.1', 'BGC0001340.1', 'BGC0001385.1', 'BGC0000004.1', 'BGC0000008.1', 'BGC0001259.1', 'BGC0001272.1', 'BGC0001264.1', 'BGC0001280.1', 'BGC0000006.1', 'BGC0000076.1', 'BGC0000077.1', 'BGC0000979.1', 'BGC0000980.1', 'BGC0000034.1', 'BGC0000061.1']\n"
     ]
    }
   ],
   "source": [
    "print [b.name for b in bgc_list if b.name.startswith('BGC')]"
   ]
  },
  {
   "cell_type": "code",
   "execution_count": null,
   "metadata": {},
   "outputs": [],
   "source": []
  }
 ],
 "metadata": {
  "kernelspec": {
   "display_name": "Python 2",
   "language": "python",
   "name": "python2"
  }
 },
 "nbformat": 4,
 "nbformat_minor": 2
}
