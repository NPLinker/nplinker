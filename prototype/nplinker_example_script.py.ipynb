{
 "cells": [
  {
   "cell_type": "code",
   "execution_count": 1,
   "metadata": {},
   "outputs": [],
   "source": [
    "%load_ext autoreload\n",
    "%autoreload 2"
   ]
  },
  {
   "cell_type": "code",
   "execution_count": 2,
   "metadata": {},
   "outputs": [],
   "source": [
    "from nplinker_constants import nplinker_setup\n",
    "nplinker_setup(LDA_PATH='/home/simon/git/lda/code')"
   ]
  },
  {
   "cell_type": "code",
   "execution_count": 3,
   "metadata": {},
   "outputs": [
    {
     "name": "stdout",
     "output_type": "stream",
     "text": [
      "Loaded 5930 molecules\n"
     ]
    }
   ],
   "source": [
    "from metabolomics import load_spectra\n",
    "mgf_file = '/srv/data/crusemann/gnps/METABOLOMICS-SNETS-c36f90ba-download_clustered_spectra-main.mgf'\n",
    "spectra = load_spectra(mgf_file)"
   ]
  },
  {
   "cell_type": "code",
   "execution_count": 5,
   "metadata": {},
   "outputs": [],
   "source": [
    "from metabolomics import load_metadata\n",
    "load_metadata(spectra,nodes_file)"
   ]
  },
  {
   "cell_type": "code",
   "execution_count": 6,
   "metadata": {},
   "outputs": [],
   "source": [
    "from metabolomics import load_edges\n",
    "edge_file = '/srv/data/crusemann/gnps/9a93d720f69143bb9f971db39b5d2ba2.pairsinfo'\n",
    "load_edges(spectra,edge_file)\n",
    "from metabolomics import make_families\n",
    "families = make_families(spectra)"
   ]
  },
  {
   "cell_type": "code",
   "execution_count": 7,
   "metadata": {},
   "outputs": [],
   "source": [
    "import os,glob\n",
    "from genomics import loadBGC_from_cluster_files\n",
    "input_files = []\n",
    "ann_files = []\n",
    "# this is really messy - change folders to change which folers are included\n",
    "# we make two lists of files - the clustering ones and the annotation ones\n",
    "# clusterin gives us the mol families, networking the metadata (bigscape class etc)\n",
    "# it's also really slow, because of the antismash file matching....which is a mess\n",
    "# it works for this data but is incredibly non robust\n",
    "root_path = '/srv/data/crusemann/bigscape/bigscape_corason_crusemann_complete_annotated_mibigs_mix_automode_20180713/network_files/2018-07-13_16-34-11_hybrids_auto_crusemann_bgcs_automode_mix_mibig'\n",
    "folders = ['NRPS','Others','PKSI','PKS-NRP_Hybrids','PKSother','RiPPs','Saccharides','Terpene']\n",
    "# ditched 'mix' and 'others'\n",
    "for folder in folders:\n",
    "    fam_file = os.path.join(root_path,folder)\n",
    "    cluster_file = glob.glob(fam_file + os.sep + folder + \"_clustering*\")\n",
    "    annotation_files = glob.glob(fam_file + os.sep + \"Network_*\")\n",
    "    input_files.append(cluster_file[0])\n",
    "    ann_files.append(annotation_files[0])\n",
    "    \n",
    "gcf_list,bgc_list, strain_list = loadBGC_from_cluster_files(input_files,ann_files,antismash_dir='/srv/data/crusemann/antismash/justin-20181022/',antismash_format = 'flat')"
   ]
  },
  {
   "cell_type": "markdown",
   "metadata": {},
   "source": [
    "Next cell adds a random object to each spectrum and gcf object, for doing the permutation testing"
   ]
  },
  {
   "cell_type": "code",
   "execution_count": 9,
   "metadata": {},
   "outputs": [],
   "source": [
    "# initiate the random ones\n",
    "for g in gcf_list:\n",
    "    g.add_random(strain_list)\n",
    "for s in spectra:\n",
    "    s.add_random(strain_list)"
   ]
  },
  {
   "cell_type": "code",
   "execution_count": null,
   "metadata": {},
   "outputs": [
    {
     "name": "stdout",
     "output_type": "stream",
     "text": [
      "Done 0 of 5930\n",
      "Best:  110\n",
      "Best random:  110\n",
      "Best:  128\n",
      "Best random:  125\n",
      "Best:  131\n",
      "Best random:  126\n",
      "Best:  134\n",
      "Best random:  128\n",
      "Best random:  131\n",
      "Best:  138\n",
      "Best:  144\n",
      "Best random:  143\n",
      "Best:  146\n",
      "Best random:  146\n",
      "Best:  148\n",
      "Best random:  152\n",
      "Best:  153\n",
      "Best random:  153\n",
      "Best random:  158\n",
      "Best random:  161\n",
      "Best random:  169\n",
      "Best:  158\n",
      "Best:  159\n",
      "Best:  161\n",
      "Best:  162\n",
      "Best:  165\n",
      "Done 100 of 5930\n",
      "Best:  166\n",
      "Done 200 of 5930\n"
     ]
    }
   ],
   "source": [
    "from scoring import compute_all_scores,metcalf_scoring\n",
    "m_scores = compute_all_scores(spectra,gcf_list,strain_list,metcalf_scoring,do_random = True)"
   ]
  },
  {
   "cell_type": "code",
   "execution_count": null,
   "metadata": {},
   "outputs": [],
   "source": []
  },
  {
   "cell_type": "code",
   "execution_count": null,
   "metadata": {},
   "outputs": [],
   "source": []
  },
  {
   "cell_type": "code",
   "execution_count": null,
   "metadata": {},
   "outputs": [],
   "source": []
  },
  {
   "cell_type": "code",
   "execution_count": null,
   "metadata": {},
   "outputs": [],
   "source": []
  },
  {
   "cell_type": "code",
   "execution_count": null,
   "metadata": {},
   "outputs": [],
   "source": []
  },
  {
   "cell_type": "code",
   "execution_count": 72,
   "metadata": {},
   "outputs": [
    {
     "name": "stdout",
     "output_type": "stream",
     "text": [
      "113\n",
      "0.0144646118721\n"
     ]
    },
    {
     "data": {
      "image/png": "[encoded data removed]",
      "text/plain": [
       "<Figure size 432x288 with 1 Axes>"
      ]
     },
     "metadata": {
      "needs_background": "light"
     },
     "output_type": "display_data"
    },
    {
     "data": {
      "image/png": "[encoded data removed]",
      "text/plain": [
       "<Figure size 432x288 with 1 Axes>"
      ]
     },
     "metadata": {
      "needs_background": "light"
     },
     "output_type": "display_data"
    }
   ],
   "source": [
    "import pylab as plt\n",
    "import numpy as np\n",
    "%matplotlib inline\n",
    "scores =[]\n",
    "random_scores = []\n",
    "for s,g in m_scores.items():\n",
    "    for gg,sc in g.items():\n",
    "        random_scores.append(sc[1])\n",
    "        scores.append(sc[0])\n",
    "plt.hist(random_scores,bins=50)\n",
    "plt.xlim([100,150])\n",
    "plt.figure()\n",
    "plt.hist(scores,bins=50)\n",
    "plt.xlim([100,150])\n",
    "plt.ylim([0,1000])\n",
    "random_scores.sort()\n",
    "perc99 = random_scores[int(np.floor(0.99*len(random_scores)))]\n",
    "print perc99\n",
    "scores = np.array(scores)\n",
    "n_above = len(np.where(scores>=perc99)[0])\n",
    "print (1.0*n_above)/len(scores)"
   ]
  },
  {
   "cell_type": "code",
   "execution_count": null,
   "metadata": {},
   "outputs": [],
   "source": [
    "best_spec = None\n",
    "best_gcf = None\n",
    "for spectrum in m_scores:\n",
    "    for gcf in m_scores[spectrum]:\n",
    "        if m_scores[spectrum][gcf] == best:\n",
    "            best_spec = spectrum\n",
    "            best_gcf = gcf"
   ]
  },
  {
   "cell_type": "code",
   "execution_count": null,
   "metadata": {},
   "outputs": [],
   "source": [
    "print best_spec\n",
    "print best_gcf\n",
    "for strain in strain_list:\n",
    "    print strain,best_spec.has_strain(strain),best_gcf.has_strain(strain)"
   ]
  },
  {
   "cell_type": "code",
   "execution_count": null,
   "metadata": {},
   "outputs": [],
   "source": [
    "print best_spec.metadata['LibraryID']\n",
    "for bgc in best_gcf.bgc_list:\n",
    "    print bgc,bgc.bigscape_class,bgc.product_prediction"
   ]
  },
  {
   "cell_type": "code",
   "execution_count": 78,
   "metadata": {},
   "outputs": [
    {
     "name": "stdout",
     "output_type": "stream",
     "text": [
      "['#mibig_id', 'gnps_id', 'mibig_name', 'gnps_name']\n"
     ]
    }
   ],
   "source": [
    "link_file = 'mibig_gnps_links_q3_loose.csv'\n",
    "links = []\n",
    "import csv\n",
    "with open(link_file,'r') as f:\n",
    "    reader = csv.reader(f)\n",
    "    heads = reader.next()\n",
    "    print heads\n",
    "    for line in reader:\n",
    "        links.append(line)"
   ]
  },
  {
   "cell_type": "code",
   "execution_count": 98,
   "metadata": {},
   "outputs": [],
   "source": [
    "link_dict = {}\n",
    "for link in links:\n",
    "    short_gnps_name = link[3].split()[0]\n",
    "    link_dict[short_gnps_name] = link[0]    "
   ]
  },
  {
   "cell_type": "code",
   "execution_count": 102,
   "metadata": {},
   "outputs": [],
   "source": [
    "spec_lib_dict = {}\n",
    "for spectrum in spectra:\n",
    "    if spectrum.metadata['LibraryID']:\n",
    "        lid = spectrum.metadata['LibraryID'].split()[0]\n",
    "        if lid in link_dict:\n",
    "            spec_lib_dict[spectrum] = lid"
   ]
  },
  {
   "cell_type": "code",
   "execution_count": 107,
   "metadata": {},
   "outputs": [
    {
     "name": "stdout",
     "output_type": "stream",
     "text": [
      "BGC0000198\n",
      "[]\n",
      "BGC0001830\n",
      "[]\n",
      "BGC0000136\n",
      "[]\n",
      "BGC0001766\n",
      "[]\n",
      "BGC0001766\n",
      "[]\n",
      "BGC0001572\n",
      "[]\n",
      "BGC0000241\n",
      "[]\n",
      "BGC0000136\n",
      "[]\n",
      "BGC0001572\n",
      "[]\n",
      "BGC0000426\n",
      "[]\n",
      "BGC0000826\n",
      "[]\n",
      "BGC0000198\n",
      "[]\n",
      "BGC0000333\n",
      "[]\n",
      "BGC0001830\n",
      "[]\n",
      "BGC0001766\n",
      "[]\n",
      "BGC0000241\n",
      "[]\n",
      "BGC0000220\n",
      "[]\n",
      "BGC0000241\n",
      "[]\n",
      "BGC0000198\n",
      "[]\n",
      "BGC0000826\n",
      "[]\n",
      "BGC0001572\n",
      "[]\n",
      "BGC0001572\n",
      "[]\n",
      "BGC0000136\n",
      "[]\n"
     ]
    }
   ],
   "source": [
    "for spec in spec_lib_dict:\n",
    "    bgc_name = link_dict[spec_lib_dict[spec]]\n",
    "    print bgc_name\n",
    "    bgc = [b for b in bgc_list if b.name.startswith(bgc_name)]\n",
    "    print bgc"
   ]
  },
  {
   "cell_type": "code",
   "execution_count": 106,
   "metadata": {},
   "outputs": [
    {
     "name": "stdout",
     "output_type": "stream",
     "text": [
      "['BGC0000181.1', 'BGC0001383.1', 'BGC0001031.1', 'BGC0001032.1', 'BGC0000995.1', 'BGC0001113.1', 'BGC0000418.1', 'BGC0000419.1', 'BGC0000995.1', 'BGC0001113.1', 'BGC0000064.1', 'BGC0001268.1', 'BGC0001096.1', 'BGC0000976.1', 'BGC0001165.1', 'BGC0000989.1', 'BGC0000990.1', 'BGC0001041.1', 'BGC0000991.1', 'BGC0001009.1', 'BGC0001010.1', 'BGC0000689.1', 'BGC0000697.1', 'BGC0001241.1', 'BGC0001267.1', 'BGC0001322.1', 'BGC0001324.1', 'BGC0000611.1', 'BGC0000655.1', 'BGC0000611.1', 'BGC0000655.1', 'BGC0000564.1', 'BGC0001170.1', 'BGC0000491.1', 'BGC0001222.1', 'BGC0000530.1', 'BGC0000533.1', 'BGC0000064.1', 'BGC0001268.1', 'BGC0000989.1', 'BGC0000991.1', 'BGC0000157.1', 'BGC0000158.1', 'BGC0001009.1', 'BGC0001010.1', 'BGC0001041.1', 'BGC0000976.1', 'BGC0001165.1', 'BGC0000958.1', 'BGC0001216.1', 'BGC0001340.1', 'BGC0001385.1', 'BGC0000004.1', 'BGC0000008.1', 'BGC0001259.1', 'BGC0001272.1', 'BGC0001264.1', 'BGC0001280.1', 'BGC0000006.1', 'BGC0000076.1', 'BGC0000077.1', 'BGC0000979.1', 'BGC0000980.1', 'BGC0000034.1', 'BGC0000061.1']\n"
     ]
    }
   ],
   "source": [
    "print [b.name for b in bgc_list if b.name.startswith('BGC')]"
   ]
  },
  {
   "cell_type": "code",
   "execution_count": null,
   "metadata": {},
   "outputs": [],
   "source": []
  }
 ],
 "metadata": {
  "kernelspec": {
   "display_name": "Python 2",
   "language": "python",
   "name": "python2"
  },
  "language_info": {
   "codemirror_mode": {
    "name": "ipython",
    "version": 2
   },
   "file_extension": ".py",
   "mimetype": "text/x-python",
   "name": "python",
   "nbconvert_exporter": "python",
   "pygments_lexer": "ipython2",
   "version": "2.7.15rc1"
  }
 },
 "nbformat": 4,
 "nbformat_minor": 2
}
