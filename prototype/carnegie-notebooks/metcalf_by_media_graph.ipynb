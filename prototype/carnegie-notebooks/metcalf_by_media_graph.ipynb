{
 "cells": [
  {
   "cell_type": "markdown",
   "metadata": {},
   "source": [
    "Plot the number of links scoring above a threshold for the different media. The x-axis is defined by the scores for all media, i.e. a spectrum is associated with a strain if it appears for that strain in _any_ medium."
   ]
  },
  {
   "cell_type": "code",
   "execution_count": 1,
   "metadata": {},
   "outputs": [],
   "source": [
    "%reload_ext autoreload\n",
    "%autoreload 2\n",
    "\n",
    "# Add parent directory for NPLinker imports\n",
    "import sys\n",
    "sys.path.append('..')\n"
   ]
  },
  {
   "cell_type": "code",
   "execution_count": null,
   "metadata": {},
   "outputs": [],
   "source": []
  },
  {
   "cell_type": "code",
   "execution_count": 2,
   "metadata": {},
   "outputs": [],
   "source": [
    "import csv\n",
    "import numpy\n",
    "import os\n",
    "import matplotlib.pyplot as plt"
   ]
  },
  {
   "cell_type": "code",
   "execution_count": null,
   "metadata": {},
   "outputs": [],
   "source": []
  },
  {
   "cell_type": "code",
   "execution_count": 3,
   "metadata": {},
   "outputs": [],
   "source": [
    "spectra_file = \"/home/grimur/data-carnegie/nplinker_carnegie_27112019/quantification_table_reformatted/91b05b3ce3da4f3d82bd6cbe82e7f11d.csv\"\n",
    "bigscape_dir = \"/home/grimur/data-carnegie/nplinker_carnegie_27112019/bigscape\""
   ]
  },
  {
   "cell_type": "code",
   "execution_count": 4,
   "metadata": {},
   "outputs": [],
   "source": [
    "ions_membership = {}\n",
    "with open(spectra_file, 'r') as f:\n",
    "    r = csv.reader(f)\n",
    "    header = next(r)\n",
    "    for l in r:\n",
    "        spectrum_id = l[0]\n",
    "        signal = [x.split('.')[0] for x, y in zip(header[:-1], l[:-1]) if float(y) > 0.0 and x.startswith('KRD')]\n",
    "        ions_membership[spectrum_id] = signal"
   ]
  },
  {
   "cell_type": "code",
   "execution_count": null,
   "metadata": {},
   "outputs": [],
   "source": []
  },
  {
   "cell_type": "code",
   "execution_count": null,
   "metadata": {},
   "outputs": [],
   "source": []
  },
  {
   "cell_type": "code",
   "execution_count": 5,
   "metadata": {},
   "outputs": [],
   "source": [
    "membership_by_media = {}\n",
    "for ion, signal in ions_membership.items():\n",
    "    for signal_id in signal:\n",
    "        signal_id_parts = signal_id.split('_')\n",
    "        medium = signal_id_parts[-1].upper()\n",
    "        strain = ''.join(signal_id_parts[:-1])\n",
    "        if medium not in membership_by_media:\n",
    "            membership_by_media[medium] = {}\n",
    "        if ion not in membership_by_media[medium]:\n",
    "            membership_by_media[medium][ion] = []\n",
    "        membership_by_media[medium][ion].append(strain)"
   ]
  },
  {
   "cell_type": "code",
   "execution_count": 11,
   "metadata": {},
   "outputs": [],
   "source": [
    "membership_all_media = {}\n",
    "for ion, signal in ions_membership.items():\n",
    "    for signal_id in signal:\n",
    "        signal_id_parts = signal_id.split('_')\n",
    "        strain = ''.join(signal_id_parts[:-1])\n",
    "        if ion not in membership_all_media:\n",
    "            membership_all_media[ion] = []\n",
    "        membership_all_media[ion].append(strain)"
   ]
  },
  {
   "cell_type": "code",
   "execution_count": null,
   "metadata": {},
   "outputs": [],
   "source": []
  },
  {
   "cell_type": "code",
   "execution_count": 6,
   "metadata": {},
   "outputs": [],
   "source": [
    "cutoff = '30'\n",
    "\n",
    "strains = set()\n",
    "\n",
    "gcfs = {}\n",
    "for product_type in os.listdir(bigscape_dir):\n",
    "    if product_type.endswith('.tsv'):\n",
    "        continue\n",
    "    for filename in os.listdir(os.path.join(bigscape_dir, product_type)):\n",
    "        if not ('cluster' in filename and cutoff in filename):\n",
    "            continue\n",
    "        path = os.path.join(bigscape_dir, product_type, filename)\n",
    "        with open(path, 'r') as f:\n",
    "            for l in f.readlines():\n",
    "                if l.startswith('#'):\n",
    "                    continue\n",
    "                bgc_id, product_family_id = l.strip().split()\n",
    "                # ??????\n",
    "                family_id = product_type + product_family_id\n",
    "                #family_id = product_family_id\n",
    "                if family_id not in gcfs:\n",
    "                    gcfs[family_id] = []\n",
    "                strain = bgc_id.split('.')[0]\n",
    "                gcfs[family_id].append(strain)\n",
    "                \n",
    "                strains.add(strain)"
   ]
  },
  {
   "cell_type": "code",
   "execution_count": null,
   "metadata": {},
   "outputs": [],
   "source": []
  },
  {
   "cell_type": "code",
   "execution_count": null,
   "metadata": {},
   "outputs": [],
   "source": []
  },
  {
   "cell_type": "markdown",
   "metadata": {},
   "source": [
    "Standardised vs. non-standardised scores by medium"
   ]
  },
  {
   "cell_type": "code",
   "execution_count": 7,
   "metadata": {},
   "outputs": [],
   "source": [
    "import nplinker.scoring.misc as scoring\n",
    "import numpy"
   ]
  },
  {
   "cell_type": "code",
   "execution_count": 8,
   "metadata": {},
   "outputs": [],
   "source": [
    "scores_by_medium = {}\n",
    "\n",
    "for medium, spectra in membership_by_media.items():\n",
    "    scores_by_medium[medium] = []\n",
    "    for spectrum, spectrum_strains in spectra.items():\n",
    "        for gcf, gcf_strains in gcfs.items():\n",
    "            spectrum_strain_count = len(strains.intersection(spectrum_strains))\n",
    "            gcf_strain_count = len(gcf_strains)\n",
    "            strain_count = len(strains)\n",
    "            overlap = len(set(spectrum_strains).intersection(gcf_strains))\n",
    "            \n",
    "            metcalf_raw = scoring.metcalf_count(spectrum_strain_count, gcf_strain_count, overlap, strain_count, 10, -10, 0, 1)\n",
    "            metcalf_exp, metcalf_var = scoring.metcalf_expected_count(spectrum_strain_count, gcf_strain_count, overlap, strain_count, 10, -10, 0, 1)\n",
    "            metcalf_std = (metcalf_raw - metcalf_exp) / numpy.sqrt(metcalf_var)\n",
    "            scores_by_medium[medium].append((metcalf_raw, metcalf_std))"
   ]
  },
  {
   "cell_type": "code",
   "execution_count": 13,
   "metadata": {},
   "outputs": [],
   "source": [
    "scores_all_media = []\n",
    "for spectrum, spectrum_strains in membership_all_media.items():\n",
    "    for gcf, gcf_strains in gcfs.items():\n",
    "        spectrum_strain_count = len(strains.intersection(spectrum_strains))\n",
    "        gcf_strain_count = len(gcf_strains)\n",
    "        strain_count = len(strains)\n",
    "        overlap = len(set(spectrum_strains).intersection(gcf_strains))\n",
    "\n",
    "        metcalf_raw = scoring.metcalf_count(spectrum_strain_count, gcf_strain_count, overlap, strain_count, 10, -10, 0, 1)\n",
    "        metcalf_exp, metcalf_var = scoring.metcalf_expected_count(spectrum_strain_count, gcf_strain_count, overlap, strain_count, 10, -10, 0, 1)\n",
    "        metcalf_std = (metcalf_raw - metcalf_exp) / numpy.sqrt(metcalf_var)\n",
    "        scores_all_media.append((metcalf_raw, metcalf_std))"
   ]
  },
  {
   "cell_type": "code",
   "execution_count": 32,
   "metadata": {
    "scrolled": true
   },
   "outputs": [
    {
     "name": "stdout",
     "output_type": "stream",
     "text": [
      "75.0 2.433349433325905e-08 29816\n",
      "75.5 2.433349433325905e-08 29816\n",
      "76.0 2.433349433325905e-08 29816\n",
      "76.5 2.9802322387695312e-08 23139\n",
      "77.0 2.9802322387695312e-08 23139\n",
      "77.5 0.15936381457791904 20135\n",
      "78.0 0.4494665749754951 19924\n",
      "78.5 0.6599663291074411 19884\n",
      "79.0 0.7619047619047633 19768\n",
      "79.5 0.8366600265340933 19448\n",
      "80.0 0.911465430375295 19320\n",
      "80.5 0.9428090415820649 18953\n",
      "81.0 0.9428090415820649 18953\n",
      "81.5 1.0606601717798205 18892\n",
      "82.0 1.06066017177984 17708\n",
      "82.5 1.195228609334407 17708\n",
      "83.0 1.195228609334407 17708\n",
      "83.5 1.195228609334407 17708\n",
      "84.0 1.239559573601824 17590\n",
      "84.5 1.239559573601826 16998\n",
      "85.0 1.3540064007726704 16063\n",
      "85.5 1.3540064007726704 16063\n",
      "86.0 1.3540064007726704 16063\n",
      "86.5 1.3540064007726704 16063\n",
      "87.0 1.5139562384902319 15779\n",
      "87.5 1.5491933384829788 15691\n",
      "88.0 1.5491933384829788 15691\n",
      "88.5 1.5491933384829788 15691\n",
      "89.0 1.5491933384829788 15691\n",
      "89.5 1.7333333333333334 15373\n",
      "90.0 1.8027756377319952 14382\n",
      "90.5 1.8027756377319952 14382\n",
      "91.0 1.8027756377319952 14382\n",
      "91.5 1.8027756377319952 14382\n",
      "92.0 1.8027756377319952 14382\n",
      "92.5 1.8027756377319952 14382\n",
      "93.0 1.8027756377319952 14382\n",
      "93.5 2.160246899469286 12052\n",
      "94.0 2.160246899469286 12052\n",
      "94.5 2.160246899469286 12052\n",
      "95.0 2.160246899469286 12052\n",
      "95.5 2.160246899469286 12052\n",
      "96.0 2.160246899469286 12052\n",
      "96.5 2.6331223544175253 8487\n",
      "97.0 2.7386127875258297 7829\n",
      "97.5 2.7386127875258297 7829\n",
      "98.0 2.7386127875258297 7829\n",
      "98.5 2.7386127875258297 7829\n",
      "99.0 4.000000000000001 2922\n",
      "99.5 4.000000000000001 2922\n"
     ]
    }
   ],
   "source": [
    "# normalised, to make sure that more _significant_ links are not simply because there are more links in total\n",
    "datapoints_isp3 = []\n",
    "datapoints_isp2 = []\n",
    "datapoints_tsb = []\n",
    "datapoints_m1 = []\n",
    "\n",
    "p_max = 100\n",
    "p_min = 75\n",
    "steps = 50\n",
    "for p in range(steps):\n",
    "    p = p_min + p * (p_max - p_min) / steps\n",
    "    percentile_thresh = numpy.percentile([x[1] for x in scores_all_media], p)\n",
    "    print(p, percentile_thresh, len([x for x in scores_by_medium['ISP3'] if x[1] >= percentile_thresh]))\n",
    "    datapoints_isp3.append(len([x for x in scores_by_medium['ISP3'] if x[1] >= percentile_thresh]) / len(scores_by_medium['ISP3']))\n",
    "    datapoints_isp2.append(len([x for x in scores_by_medium['ISP2'] if x[1] >= percentile_thresh]) / len(scores_by_medium['ISP2']))\n",
    "    datapoints_tsb.append(len([x for x in scores_by_medium['TSB'] if x[1] >= percentile_thresh]) / len(scores_by_medium['TSB']))\n",
    "    datapoints_m1.append(len([x for x in scores_by_medium['M1'] if x[1] >= percentile_thresh]) / len(scores_by_medium['M1']))\n",
    "    "
   ]
  },
  {
   "cell_type": "code",
   "execution_count": 44,
   "metadata": {},
   "outputs": [
    {
     "data": {
      "image/png": "[encoded data removed]",
      "text/plain": [
       "<Figure size 432x288 with 1 Axes>"
      ]
     },
     "metadata": {
      "needs_background": "light"
     },
     "output_type": "display_data"
    }
   ],
   "source": [
    "plt.plot([x / 2 for x in range(150, 200)], datapoints_isp3, label=\"ISP3\")\n",
    "plt.plot([x / 2 for x in range(150, 200)], datapoints_isp2, label=\"ISP2\")\n",
    "plt.plot([x / 2 for x in range(150, 200)], datapoints_tsb, label=\"TSB\")\n",
    "plt.plot([x / 2 for x in range(150, 200)], datapoints_m1, label=\"M1\")\n",
    "\n",
    "plt.title('Proportion of links above threshold by media')\n",
    "plt.xlabel('percentile (all links)')\n",
    "plt.ylabel('proportion')\n",
    "plt.legend()\n",
    "\n",
    "plt.savefig('graph_high_scoring_links_by_media.pdf')"
   ]
  },
  {
   "cell_type": "code",
   "execution_count": null,
   "metadata": {},
   "outputs": [],
   "source": []
  }
 ],
 "metadata": {
  "kernelspec": {
   "display_name": "Python 3",
   "language": "python",
   "name": "python3"
  },
  "language_info": {
   "codemirror_mode": {
    "name": "ipython",
    "version": 3
   },
   "file_extension": ".py",
   "mimetype": "text/x-python",
   "name": "python",
   "nbconvert_exporter": "python",
   "pygments_lexer": "ipython3",
   "version": "3.7.2"
  }
 },
 "nbformat": 4,
 "nbformat_minor": 2
}
