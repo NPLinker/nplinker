{
 "cells": [
  {
   "cell_type": "code",
   "execution_count": null,
   "metadata": {},
   "outputs": [],
   "source": [
    "# Last run with HEAD at bcd27cb"
   ]
  },
  {
   "cell_type": "code",
   "execution_count": 1,
   "metadata": {},
   "outputs": [],
   "source": [
    "%reload_ext autoreload\n",
    "%autoreload 2\n",
    "\n",
    "from matplotlib import pyplot as plt\n",
    "%matplotlib inline\n",
    "import seaborn as sns\n",
    "sns.set()"
   ]
  },
  {
   "cell_type": "code",
   "execution_count": 2,
   "metadata": {},
   "outputs": [],
   "source": [
    "# relative to nplinker source dir\n",
    "import sys\n",
    "sys.path.append('..')"
   ]
  },
  {
   "cell_type": "code",
   "execution_count": 3,
   "metadata": {},
   "outputs": [
    {
     "name": "stdout",
     "output_type": "stream",
     "text": [
      "['/home/grimur/miniconda2/envs/jupyter-py3/lib/python3.7/site-packages/cdk_pywrapper']\n",
      "Server process already running: True\n"
     ]
    }
   ],
   "source": [
    "import os\n",
    "import numpy\n",
    "\n",
    "from nplinker import nplinker\n",
    "from nplinker import logconfig\n",
    "logconfig.LogConfig.setLogLevel('DEBUG') # 'INFO' is a lot less spammy\n",
    "from nplinker.scoring import IOKR\n"
   ]
  },
  {
   "cell_type": "code",
   "execution_count": 4,
   "metadata": {},
   "outputs": [
    {
     "name": "stdout",
     "output_type": "stream",
     "text": [
      "12:04:59 [DEBUG] config.py:83, Parsing default config file: /home/grimur/.config/nplinker/nplinker.toml\n",
      "12:04:59 [DEBUG] config.py:86, Loading user config carnegie.toml\n",
      "12:04:59 [DEBUG] loader.py:70, DatasetLoader(/home/grimur/uist-data/nplinker_datasets/carnegie_nomibig_27112019/)\n"
     ]
    }
   ],
   "source": [
    "npl = nplinker.NPLinker('carnegie.toml')"
   ]
  },
  {
   "cell_type": "code",
   "execution_count": 6,
   "metadata": {},
   "outputs": [
    {
     "name": "stdout",
     "output_type": "stream",
     "text": [
      "12:05:54 [DEBUG] nplinker.py:201, load_data (normal case, full load)\n",
      "12:05:54 [INFO] loader.py:303, Loaded global strain IDs (162 total)\n",
      "12:05:54 [INFO] loader.py:311, Loaded dataset strain IDs (169 total)\n",
      "12:05:54 [DEBUG] loader.py:274, load_spectra(/home/grimur/uist-data/nplinker_datasets/carnegie_nomibig_27112019/spectra/specs_ms.mgf)\n",
      "12:05:55 [INFO] metabolomics.py:230, load_spectra loaded 3107 molecules\n",
      "12:05:55 [DEBUG] loader.py:279, load_edges(/home/grimur/uist-data/nplinker_datasets/carnegie_nomibig_27112019/networkedges_selfloop/455bd15e8bd645789792b347648be818..selfloop)\n",
      "12:05:55 [DEBUG] metabolomics.py:457, loading edges file: /home/grimur/uist-data/nplinker_datasets/carnegie_nomibig_27112019/networkedges_selfloop/455bd15e8bd645789792b347648be818..selfloop [3107 spectra from MGF]\n",
      "12:05:55 [DEBUG] loader.py:282, load_metadata(/home/grimur/uist-data/nplinker_datasets/carnegie_nomibig_27112019/clusterinfo_summary/6f4bf34641bf4bcf8711042bc8cb086f.tsv)\n",
      "12:05:55 [INFO] metabolomics.py:410, Merged nodes data (new-style), total lines = 3107\n",
      "12:05:56 [INFO] loader.py:286, Loading provided annotation files (/home/grimur/uist-data/nplinker_datasets/carnegie_nomibig_27112019/DB_result)\n",
      "12:05:56 [DEBUG] annotations.py:57, Parsed 1 annotations configuration entries\n",
      "12:05:56 [DEBUG] annotations.py:65, Found 2 annotations .tsv files in /home/grimur/uist-data/nplinker_datasets/carnegie_nomibig_27112019/DB_result\n",
      "12:05:56 [DEBUG] annotations.py:74, Parsing GNPS annotations from /home/grimur/uist-data/nplinker_datasets/carnegie_nomibig_27112019/DB_result/c5961bd508eb41249a251fad2d3894b1.tsv\n",
      "12:05:56 [DEBUG] annotations.py:101, Parsing general annotations from /home/grimur/uist-data/nplinker_datasets/carnegie_nomibig_27112019/DB_result/carnegie_rosetta_hits.tsv\n",
      "12:05:56 [DEBUG] annotations.py:133, Adding annotation data to 238 spectra\n",
      "12:05:56 [DEBUG] metabolomics.py:560, make_families: 192 molams + 2030 singletons\n",
      "12:05:56 [DEBUG] loader.py:290, make_families generated 2222 molfams\n",
      "12:05:56 [DEBUG] loader.py:187, make_mibig_bgc_dict(/home/grimur/uist-data/nplinker_datasets/carnegie_nomibig_27112019/mibig_json)\n",
      "12:05:56 [INFO] genomics.py:366, Found 1816 MiBIG json files\n",
      "12:06:01 [DEBUG] loader.py:189, mibig_bgc_dict has 1816 entries\n",
      "12:06:01 [WARNING] loader.py:226, 2 missing annotation tsv files:\n",
      "12:06:01 [WARNING] loader.py:228,   1/2: /home/grimur/uist-data/nplinker_datasets/carnegie_nomibig_27112019/bigscape/PKS-NRP_Hybrids/Network_Annotations_PKS-NRP_Hybrids.tsv\n",
      "12:06:01 [WARNING] loader.py:228,   2/2: /home/grimur/uist-data/nplinker_datasets/carnegie_nomibig_27112019/bigscape/Saccharides/Network_Annotations_Saccharides.tsv\n",
      "12:06:01 [WARNING] loader.py:226, 2 missing clustering tsv files:\n",
      "12:06:01 [WARNING] loader.py:228,   1/2: /home/grimur/uist-data/nplinker_datasets/carnegie_nomibig_27112019/bigscape/PKS-NRP_Hybrids/PKS-NRP_Hybrids_clustering_c0.30.tsv\n",
      "12:06:01 [WARNING] loader.py:228,   2/2: /home/grimur/uist-data/nplinker_datasets/carnegie_nomibig_27112019/bigscape/Saccharides/Saccharides_clustering_c0.30.tsv\n",
      "12:06:01 [WARNING] loader.py:226, 2 missing network files:\n",
      "12:06:01 [WARNING] loader.py:228,   1/2: /home/grimur/uist-data/nplinker_datasets/carnegie_nomibig_27112019/bigscape/PKS-NRP_Hybrids/PKS-NRP_Hybrids_c0.30.network\n",
      "12:06:01 [WARNING] loader.py:228,   2/2: /home/grimur/uist-data/nplinker_datasets/carnegie_nomibig_27112019/bigscape/Saccharides/Saccharides_c0.30.network\n",
      "12:06:01 [WARNING] loader.py:242, Product type PKS-NRP_Hybrids will be skipped due to missing files!\n",
      "12:06:01 [WARNING] loader.py:242, Product type Saccharides will be skipped due to missing files!\n",
      "12:06:01 [DEBUG] loader.py:248, Generating antiSMASH filename cache...\n",
      "12:06:02 [DEBUG] loader.py:259, Cache generation took 0.420s\n",
      "12:06:02 [DEBUG] loader.py:261, loadBGC_from_cluster_files(antismash_dir=/home/grimur/uist-data/nplinker_datasets/carnegie_nomibig_27112019/antismash)\n",
      "12:06:02 [INFO] genomics.py:273, # MiBIG BGCs = 0, non-MiBIG BGCS = 1949, total bgcs = 1949, GCFs = 83, strains=1985\n",
      "12:06:02 [INFO] genomics.py:329, Filtering MiBIG BGCs: removing 0 GCFs and 0 BGCs\n",
      "12:06:02 [INFO] genomics.py:280, # after filtering, total bgcs = 133, GCFs = 83, strains=169\n",
      "12:06:02 [DEBUG] genomics.py:284, Loading .network files\n",
      "12:06:02 [DEBUG] loader.py:169, Loading params.xml\n",
      "12:06:02 [DEBUG] loader.py:179, Parsed 32 GNPS params\n",
      "12:06:02 [DEBUG] loader.py:184, Parsed description text\n",
      "12:06:02 [INFO] loader.py:164, Strains filtered down to total of 17\n",
      "12:06:02 [DEBUG] nplinker.py:223, Generating lookup tables: genomics\n",
      "12:06:02 [DEBUG] nplinker.py:235, Generating lookup tables: metabolomics\n",
      "12:06:02 [DEBUG] nplinker.py:244, load_data: completed\n"
     ]
    },
    {
     "data": {
      "text/plain": [
       "True"
      ]
     },
     "execution_count": 6,
     "metadata": {},
     "output_type": "execute_result"
    }
   ],
   "source": [
    "npl.load_data()"
   ]
  },
  {
   "cell_type": "code",
   "execution_count": null,
   "metadata": {},
   "outputs": [],
   "source": []
  },
  {
   "cell_type": "code",
   "execution_count": 7,
   "metadata": {},
   "outputs": [],
   "source": [
    "interesting_bgcs = [\n",
    "\"KRD026.Scaffold_10.region001\",\n",
    "\"KRD026.Scaffold_13.region001\",\n",
    "\"KRD140.Scaffold_2.region002\",\n",
    "\"KRD140.Scaffold_3.region001\",\n",
    "\"KRD162.Scaffold_13.region003\",\n",
    "\"KRD175.Scaffold_6.region001\",\n",
    "\"KRD197.Scaffold_2.region002\"\n",
    "]"
   ]
  },
  {
   "cell_type": "code",
   "execution_count": null,
   "metadata": {},
   "outputs": [],
   "source": []
  },
  {
   "cell_type": "code",
   "execution_count": null,
   "metadata": {},
   "outputs": [],
   "source": [
    "from nplinker.scoring import misc"
   ]
  },
  {
   "cell_type": "code",
   "execution_count": 51,
   "metadata": {},
   "outputs": [],
   "source": [
    "links_for_bgcs = {}\n",
    "\n",
    "for bgc_id in interesting_bgcs:\n",
    "    link_score_lines = []\n",
    "    for gcf in npl.gcfs:\n",
    "        if bgc_id in [x.name for x in gcf.bgcs]:\n",
    "            for spectrum in npl.spectra:\n",
    "                score = misc.metcalf_scoring(spectrum, gcf, strains=npl.strains, standardised=True)\n",
    "\n",
    "                for mf in npl.molfams:\n",
    "                    if spectrum in mf.spectra:\n",
    "                        break\n",
    "\n",
    "                # bgc_id,gcf_id,spectrum_id,#spec,#gcf,#overlap,#strains,score,identical,p_val\n",
    "                strain_name = bgc_id.split('.')[0]\n",
    "                overlap = len(set(spectrum.strains.keys()).intersection(gcf.strains))\n",
    "                info_line = [strain_name, \n",
    "                             bgc_id, \n",
    "                             gcf.gcf_id, \n",
    "                             gcf.product_type, \n",
    "                             spectrum.id, \n",
    "                             len(spectrum.strains), \n",
    "                             len(gcf.strains), \n",
    "                             overlap, \n",
    "                             len(npl.strains), \n",
    "                             score]\n",
    "\n",
    "                link_score_lines.append(info_line)\n",
    "                \n",
    "    link_score_lines.sort(key=lambda x: x[9], reverse=True)\n",
    "    links_for_bgcs[bgc_id] = link_score_lines"
   ]
  },
  {
   "cell_type": "code",
   "execution_count": null,
   "metadata": {},
   "outputs": [],
   "source": []
  },
  {
   "cell_type": "code",
   "execution_count": 56,
   "metadata": {},
   "outputs": [
    {
     "name": "stdout",
     "output_type": "stream",
     "text": [
      "['KRD026', 'KRD026.Scaffold_10.region001', 11, 'NRPS', 55, 1, 1, 1, 17, 4.000000000000001, 14, 14]\n",
      "['KRD026', 'KRD026.Scaffold_10.region001', 11, 'NRPS', 2663, 2, 1, 1, 17, 4.000000000000001, 14, 14]\n",
      "['KRD026', 'KRD026.Scaffold_10.region001', 11, 'NRPS', 2665, 2, 1, 1, 17, 4.000000000000001, 14, 14]\n",
      "['KRD026', 'KRD026.Scaffold_10.region001', 11, 'NRPS', 2668, 4, 1, 1, 17, 4.000000000000001, 14, 14]\n",
      "['KRD026', 'KRD026.Scaffold_10.region001', 11, 'NRPS', 2679, 3, 1, 1, 17, 4.000000000000001, 14, 14]\n",
      "['KRD026', 'KRD026.Scaffold_10.region001', 11, 'NRPS', 2682, 3, 1, 1, 17, 4.000000000000001, 14, 14]\n",
      "['KRD026', 'KRD026.Scaffold_10.region001', 11, 'NRPS', 2685, 4, 1, 1, 17, 4.000000000000001, 14, 14]\n",
      "['KRD026', 'KRD026.Scaffold_10.region001', 11, 'NRPS', 2826, 3, 1, 1, 17, 4.000000000000001, 14, 14]\n",
      "['KRD026', 'KRD026.Scaffold_10.region001', 11, 'NRPS', 2972, 2, 1, 1, 17, 4.000000000000001, 14, 14]\n",
      "['KRD026', 'KRD026.Scaffold_10.region001', 11, 'NRPS', 2980, 2, 1, 1, 17, 4.000000000000001, 14, 14]\n",
      "['KRD026', 'KRD026.Scaffold_13.region001', 29, 'NRPS', 607, 8, 8, 8, 17, 3.999999999999996, 1, 1]\n",
      "['KRD026', 'KRD026.Scaffold_13.region001', 29, 'NRPS', 280, 11, 8, 8, 17, 3.5555555555555522, 1, 1]\n",
      "['KRD026', 'KRD026.Scaffold_13.region001', 29, 'NRPS', 556, 7, 8, 7, 17, 3.5496478698597684, 19, 19]\n",
      "['KRD026', 'KRD026.Scaffold_13.region001', 29, 'NRPS', 568, 7, 8, 7, 17, 3.5496478698597684, 19, 19]\n",
      "['KRD026', 'KRD026.Scaffold_13.region001', 29, 'NRPS', 571, 7, 8, 7, 17, 3.5496478698597684, 19, 19]\n",
      "['KRD026', 'KRD026.Scaffold_13.region001', 29, 'NRPS', 577, 12, 8, 7, 17, 3.5496478698597684, 19, 19]\n",
      "['KRD026', 'KRD026.Scaffold_13.region001', 29, 'NRPS', 580, 8, 8, 7, 17, 3.5496478698597684, 19, 19]\n",
      "['KRD026', 'KRD026.Scaffold_13.region001', 29, 'NRPS', 581, 7, 8, 7, 17, 3.5496478698597684, 19, 19]\n",
      "['KRD026', 'KRD026.Scaffold_13.region001', 29, 'NRPS', 585, 8, 8, 7, 17, 3.5496478698597684, 19, 19]\n",
      "['KRD026', 'KRD026.Scaffold_13.region001', 29, 'NRPS', 605, 8, 8, 7, 17, 3.5496478698597684, 19, 19]\n",
      "['KRD140', 'KRD140.Scaffold_2.region002', 38, 'PKSother', 1219, 1, 1, 1, 17, 4.000000000000001, 2, 2]\n",
      "['KRD140', 'KRD140.Scaffold_2.region002', 38, 'PKSother', 1220, 1, 1, 1, 17, 4.000000000000001, 2, 2]\n",
      "['KRD140', 'KRD140.Scaffold_2.region002', 38, 'PKSother', 88, 5, 1, 1, 17, 2.7386127875258297, 37, 37]\n",
      "['KRD140', 'KRD140.Scaffold_2.region002', 38, 'PKSother', 172, 4, 1, 1, 17, 2.7386127875258297, 37, 37]\n",
      "['KRD140', 'KRD140.Scaffold_2.region002', 38, 'PKSother', 438, 10, 1, 1, 17, 2.7386127875258297, 37, 37]\n",
      "['KRD140', 'KRD140.Scaffold_2.region002', 38, 'PKSother', 470, 10, 1, 1, 17, 2.7386127875258297, 37, 37]\n",
      "['KRD140', 'KRD140.Scaffold_2.region002', 38, 'PKSother', 545, 6, 1, 1, 17, 2.7386127875258297, 37, 37]\n",
      "['KRD140', 'KRD140.Scaffold_2.region002', 38, 'PKSother', 559, 3, 1, 1, 17, 2.7386127875258297, 37, 37]\n",
      "['KRD140', 'KRD140.Scaffold_2.region002', 38, 'PKSother', 763, 9, 1, 1, 17, 2.7386127875258297, 37, 37]\n",
      "['KRD140', 'KRD140.Scaffold_2.region002', 38, 'PKSother', 957, 4, 1, 1, 17, 2.7386127875258297, 37, 37]\n",
      "['KRD140', 'KRD140.Scaffold_3.region001', 39, 'NRPS', 1219, 1, 1, 1, 17, 4.000000000000001, 2, 2]\n",
      "['KRD140', 'KRD140.Scaffold_3.region001', 39, 'NRPS', 1220, 1, 1, 1, 17, 4.000000000000001, 2, 2]\n",
      "['KRD140', 'KRD140.Scaffold_3.region001', 39, 'NRPS', 88, 5, 1, 1, 17, 2.7386127875258297, 37, 37]\n",
      "['KRD140', 'KRD140.Scaffold_3.region001', 39, 'NRPS', 172, 4, 1, 1, 17, 2.7386127875258297, 37, 37]\n",
      "['KRD140', 'KRD140.Scaffold_3.region001', 39, 'NRPS', 438, 10, 1, 1, 17, 2.7386127875258297, 37, 37]\n",
      "['KRD140', 'KRD140.Scaffold_3.region001', 39, 'NRPS', 470, 10, 1, 1, 17, 2.7386127875258297, 37, 37]\n",
      "['KRD140', 'KRD140.Scaffold_3.region001', 39, 'NRPS', 545, 6, 1, 1, 17, 2.7386127875258297, 37, 37]\n",
      "['KRD140', 'KRD140.Scaffold_3.region001', 39, 'NRPS', 559, 3, 1, 1, 17, 2.7386127875258297, 37, 37]\n",
      "['KRD140', 'KRD140.Scaffold_3.region001', 39, 'NRPS', 763, 9, 1, 1, 17, 2.7386127875258297, 37, 37]\n",
      "['KRD140', 'KRD140.Scaffold_3.region001', 39, 'NRPS', 957, 4, 1, 1, 17, 2.7386127875258297, 37, 37]\n",
      "['KRD162', 'KRD162.Scaffold_13.region003', 48, 'NRPS', 1570, 2, 1, 1, 17, 2.7386127875258297, 1, 1]\n",
      "['KRD162', 'KRD162.Scaffold_13.region003', 48, 'NRPS', 1563, 4, 1, 1, 17, 2.160246899469286, 2, 2]\n",
      "['KRD162', 'KRD162.Scaffold_13.region003', 48, 'NRPS', 1564, 3, 1, 1, 17, 2.160246899469286, 2, 2]\n",
      "['KRD162', 'KRD162.Scaffold_13.region003', 48, 'NRPS', 59, 4, 1, 1, 17, 1.8027756377319952, 9, 9]\n",
      "['KRD162', 'KRD162.Scaffold_13.region003', 48, 'NRPS', 60, 5, 1, 1, 17, 1.8027756377319952, 9, 9]\n",
      "['KRD162', 'KRD162.Scaffold_13.region003', 48, 'NRPS', 67, 7, 1, 1, 17, 1.8027756377319952, 9, 9]\n",
      "['KRD162', 'KRD162.Scaffold_13.region003', 48, 'NRPS', 70, 6, 1, 1, 17, 1.8027756377319952, 9, 9]\n",
      "['KRD162', 'KRD162.Scaffold_13.region003', 48, 'NRPS', 71, 6, 1, 1, 17, 1.8027756377319952, 9, 9]\n",
      "['KRD162', 'KRD162.Scaffold_13.region003', 48, 'NRPS', 141, 6, 1, 1, 17, 1.8027756377319952, 9, 9]\n",
      "['KRD162', 'KRD162.Scaffold_13.region003', 48, 'NRPS', 1089, 5, 1, 1, 17, 1.8027756377319952, 9, 9]\n",
      "['KRD175', 'KRD175.Scaffold_6.region001', 94, 'NRPS', 1563, 4, 2, 2, 17, 3.1552425509864634, 2, 2]\n",
      "['KRD175', 'KRD175.Scaffold_6.region001', 94, 'NRPS', 1564, 3, 2, 2, 17, 3.1552425509864634, 2, 2]\n",
      "['KRD175', 'KRD175.Scaffold_6.region001', 94, 'NRPS', 113, 5, 2, 1, 17, 2.7386127875258293, 9, 9]\n",
      "['KRD175', 'KRD175.Scaffold_6.region001', 94, 'NRPS', 532, 3, 2, 1, 17, 2.7386127875258293, 9, 9]\n",
      "['KRD175', 'KRD175.Scaffold_6.region001', 94, 'NRPS', 2672, 4, 2, 1, 17, 2.7386127875258293, 9, 9]\n",
      "['KRD175', 'KRD175.Scaffold_6.region001', 94, 'NRPS', 2677, 2, 2, 1, 17, 2.7386127875258293, 9, 9]\n",
      "['KRD175', 'KRD175.Scaffold_6.region001', 94, 'NRPS', 2686, 3, 2, 1, 17, 2.7386127875258293, 9, 9]\n",
      "['KRD175', 'KRD175.Scaffold_6.region001', 94, 'NRPS', 2762, 1, 2, 1, 17, 2.7386127875258293, 9, 9]\n",
      "['KRD175', 'KRD175.Scaffold_6.region001', 94, 'NRPS', 2767, 2, 2, 1, 17, 2.7386127875258293, 9, 9]\n",
      "['KRD175', 'KRD175.Scaffold_6.region001', 94, 'NRPS', 2768, 1, 2, 1, 17, 2.7386127875258293, 9, 9]\n",
      "['KRD197', 'KRD197.Scaffold_2.region002', 84, 'PKSI', 1579, 5, 3, 2, 17, 3.1552425509864617, 7, 7]\n",
      "['KRD197', 'KRD197.Scaffold_2.region002', 84, 'PKSI', 2362, 5, 3, 2, 17, 3.1552425509864617, 7, 7]\n",
      "['KRD197', 'KRD197.Scaffold_2.region002', 84, 'PKSI', 2578, 3, 3, 2, 17, 3.1552425509864617, 7, 7]\n",
      "['KRD197', 'KRD197.Scaffold_2.region002', 84, 'PKSI', 2579, 2, 3, 2, 17, 3.1552425509864617, 7, 7]\n",
      "['KRD197', 'KRD197.Scaffold_2.region002', 84, 'PKSI', 2810, 2, 3, 2, 17, 3.1552425509864617, 7, 7]\n",
      "['KRD197', 'KRD197.Scaffold_2.region002', 84, 'PKSI', 2811, 2, 3, 2, 17, 3.1552425509864617, 7, 7]\n",
      "['KRD197', 'KRD197.Scaffold_2.region002', 84, 'PKSI', 2812, 2, 3, 2, 17, 3.1552425509864617, 7, 7]\n",
      "['KRD197', 'KRD197.Scaffold_2.region002', 84, 'PKSI', 495, 4, 3, 2, 17, 2.380952380952382, 11, 11]\n",
      "['KRD197', 'KRD197.Scaffold_2.region002', 84, 'PKSI', 1229, 3, 3, 2, 17, 2.380952380952382, 11, 11]\n",
      "['KRD197', 'KRD197.Scaffold_2.region002', 84, 'PKSI', 1563, 4, 3, 2, 17, 2.380952380952382, 11, 11]\n"
     ]
    }
   ],
   "source": [
    "links_with_score_count = []\n",
    "\n",
    "for bgc_id, links in links_for_bgcs.items():\n",
    "    scores = [x[9] for x in links]\n",
    "    for i, line in enumerate(links):\n",
    "        if i == 10:\n",
    "            break\n",
    "        current_score = line[9]\n",
    "        current_score_count = scores.count(current_score)\n",
    "        line.append(current_score_count)\n",
    "\n",
    "        links_with_score_count.append(line)\n",
    "        print(line)"
   ]
  },
  {
   "cell_type": "code",
   "execution_count": 57,
   "metadata": {},
   "outputs": [],
   "source": [
    "import csv"
   ]
  },
  {
   "cell_type": "code",
   "execution_count": 58,
   "metadata": {},
   "outputs": [],
   "source": [
    "with open('metcalf_interesting_links_20200212.csv', 'w') as f:\n",
    "    w = csv.writer(f)\n",
    "    w.writerow([\"# strain_name\", \n",
    "                 \"bgc_id\",\n",
    "                 \"gcf_id\",\n",
    "                 \"product_type\",\n",
    "                 \"spectrum_id\",\n",
    "                 \"spectrum_strains)\",\n",
    "                 \"gcf_strains\",\n",
    "                 \"overlap\",\n",
    "                 \"total_strains\",\n",
    "                 \"score\",\n",
    "                 \"score_count\"])\n",
    "    w.writerows(links_with_score_count)"
   ]
  },
  {
   "cell_type": "code",
   "execution_count": null,
   "metadata": {},
   "outputs": [],
   "source": []
  },
  {
   "cell_type": "code",
   "execution_count": null,
   "metadata": {},
   "outputs": [],
   "source": []
  },
  {
   "cell_type": "code",
   "execution_count": null,
   "metadata": {},
   "outputs": [],
   "source": []
  }
 ],
 "metadata": {
  "kernelspec": {
   "display_name": "Python 3",
   "language": "python",
   "name": "python3"
  },
  "language_info": {
   "codemirror_mode": {
    "name": "ipython",
    "version": 3
   },
   "file_extension": ".py",
   "mimetype": "text/x-python",
   "name": "python",
   "nbconvert_exporter": "python",
   "pygments_lexer": "ipython3",
   "version": "3.7.2"
  }
 },
 "nbformat": 4,
 "nbformat_minor": 2
}
