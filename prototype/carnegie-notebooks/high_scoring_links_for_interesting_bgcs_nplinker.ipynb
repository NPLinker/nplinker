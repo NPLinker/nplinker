{
 "cells": [
  {
   "cell_type": "code",
   "execution_count": 1,
   "metadata": {},
   "outputs": [],
   "source": [
    "# Last run with HEAD at 531f56d40d14deb0336ce7494efcd05c049f71a9"
   ]
  },
  {
   "cell_type": "code",
   "execution_count": 2,
   "metadata": {},
   "outputs": [],
   "source": [
    "%reload_ext autoreload\n",
    "%autoreload 2\n",
    "\n",
    "from matplotlib import pyplot as plt\n",
    "%matplotlib inline\n",
    "import seaborn as sns\n",
    "sns.set()"
   ]
  },
  {
   "cell_type": "code",
   "execution_count": 3,
   "metadata": {},
   "outputs": [],
   "source": [
    "# relative to nplinker source dir\n",
    "import sys\n",
    "sys.path.append('..')"
   ]
  },
  {
   "cell_type": "code",
   "execution_count": 4,
   "metadata": {},
   "outputs": [
    {
     "name": "stdout",
     "output_type": "stream",
     "text": [
      "['/home/grimur/miniconda2/envs/jupyter-py3/lib/python3.7/site-packages/cdk_pywrapper']\n",
      "Server process already running: True\n"
     ]
    }
   ],
   "source": [
    "import os\n",
    "import numpy\n",
    "\n",
    "from nplinker import nplinker\n",
    "from nplinker import logconfig\n",
    "logconfig.LogConfig.setLogLevel('DEBUG') # 'INFO' is a lot less spammy\n",
    "from nplinker.scoring import IOKR\n"
   ]
  },
  {
   "cell_type": "code",
   "execution_count": 5,
   "metadata": {},
   "outputs": [
    {
     "name": "stdout",
     "output_type": "stream",
     "text": [
      "10:20:35 [DEBUG] config.py:83, Parsing default config file: /home/grimur/.config/nplinker/nplinker.toml\n",
      "10:20:35 [DEBUG] config.py:86, Loading user config carnegie.toml\n",
      "10:20:35 [INFO] config.py:121, Loading from local data in directory /home/grimur/uist-data/nplinker_datasets/carnegie_nomibig_27112019/\n",
      "10:20:35 [DEBUG] loader.py:94, DatasetLoader(/home/grimur/uist-data/nplinker_datasets/carnegie_nomibig_27112019/, , False)\n"
     ]
    }
   ],
   "source": [
    "npl = nplinker.NPLinker('carnegie.toml')"
   ]
  },
  {
   "cell_type": "code",
   "execution_count": 6,
   "metadata": {},
   "outputs": [
    {
     "name": "stdout",
     "output_type": "stream",
     "text": [
      "10:20:36 [DEBUG] nplinker.py:212, load_data (normal case, full load)\n",
      "10:20:36 [INFO] loader.py:337, Loaded global strain IDs (0 total)\n",
      "10:20:36 [INFO] loader.py:345, Loaded dataset strain IDs (25 total)\n",
      "10:20:37 [INFO] metabolomics.py:626, 3107 molecules parsed from MGF file\n",
      "10:20:37 [DEBUG] metabolomics.py:347, loading edges file: /home/grimur/uist-data/nplinker_datasets/carnegie_nomibig_27112019/networkedges_selfloop/455bd15e8bd645789792b347648be818..selfloop [3107 spectra from MGF]\n",
      "/home/grimur/uist-data/nplinker_datasets/carnegie_nomibig_27112019/clusterinfo_summary/6f4bf34641bf4bcf8711042bc8cb086f.tsv False\n",
      "10:20:37 [INFO] metabolomics.py:646, quantification table exists, new-style GNPS dataset\n",
      "10:20:37 [INFO] metabolomics.py:592, Merged nodes data (new-style), total lines = 3107\n",
      "10:20:37 [DEBUG] metabolomics.py:684, make_families: 192 molams + 2030 singletons\n",
      "10:20:37 [INFO] loader.py:323, Loading provided annotation files (/home/grimur/uist-data/nplinker_datasets/carnegie_nomibig_27112019/DB_result)\n",
      "10:20:37 [DEBUG] annotations.py:57, Parsed 1 annotations configuration entries\n",
      "10:20:37 [DEBUG] annotations.py:65, Found 2 annotations .tsv files in /home/grimur/uist-data/nplinker_datasets/carnegie_nomibig_27112019/DB_result\n",
      "10:20:37 [DEBUG] annotations.py:74, Parsing GNPS annotations from /home/grimur/uist-data/nplinker_datasets/carnegie_nomibig_27112019/DB_result/c5961bd508eb41249a251fad2d3894b1.tsv\n",
      "10:20:37 [DEBUG] annotations.py:101, Parsing general annotations from /home/grimur/uist-data/nplinker_datasets/carnegie_nomibig_27112019/DB_result/carnegie_rosetta_hits.tsv\n",
      "10:20:37 [DEBUG] annotations.py:133, Adding annotation data to 238 spectra\n",
      "10:20:37 [DEBUG] loader.py:233, make_mibig_bgc_dict(/home/grimur/uist-data/nplinker_datasets/carnegie_nomibig_27112019/mibig_json)\n",
      "10:20:37 [INFO] genomics.py:366, Found 1816 MiBIG json files\n",
      "10:20:38 [DEBUG] loader.py:235, mibig_bgc_dict has 1816 entries\n",
      "10:20:38 [WARNING] loader.py:272, 2 missing annotation tsv files:\n",
      "10:20:38 [WARNING] loader.py:274,   1/2: /home/grimur/uist-data/nplinker_datasets/carnegie_nomibig_27112019/bigscape/PKS-NRP_Hybrids/Network_Annotations_PKS-NRP_Hybrids.tsv\n",
      "10:20:38 [WARNING] loader.py:274,   2/2: /home/grimur/uist-data/nplinker_datasets/carnegie_nomibig_27112019/bigscape/Saccharides/Network_Annotations_Saccharides.tsv\n",
      "10:20:38 [WARNING] loader.py:272, 2 missing clustering tsv files:\n",
      "10:20:38 [WARNING] loader.py:274,   1/2: /home/grimur/uist-data/nplinker_datasets/carnegie_nomibig_27112019/bigscape/PKS-NRP_Hybrids/PKS-NRP_Hybrids_clustering_c0.30.tsv\n",
      "10:20:38 [WARNING] loader.py:274,   2/2: /home/grimur/uist-data/nplinker_datasets/carnegie_nomibig_27112019/bigscape/Saccharides/Saccharides_clustering_c0.30.tsv\n",
      "10:20:38 [WARNING] loader.py:272, 2 missing network files:\n",
      "10:20:38 [WARNING] loader.py:274,   1/2: /home/grimur/uist-data/nplinker_datasets/carnegie_nomibig_27112019/bigscape/PKS-NRP_Hybrids/PKS-NRP_Hybrids_c0.30.network\n",
      "10:20:38 [WARNING] loader.py:274,   2/2: /home/grimur/uist-data/nplinker_datasets/carnegie_nomibig_27112019/bigscape/Saccharides/Saccharides_c0.30.network\n",
      "10:20:38 [WARNING] loader.py:288, Product type PKS-NRP_Hybrids will be skipped due to missing files!\n",
      "10:20:38 [WARNING] loader.py:288, Product type Saccharides will be skipped due to missing files!\n",
      "10:20:38 [DEBUG] loader.py:294, Generating antiSMASH filename cache...\n",
      "10:20:38 [DEBUG] loader.py:305, Cache generation took 0.179s\n",
      "10:20:38 [DEBUG] loader.py:307, loadBGC_from_cluster_files(antismash_dir=/home/grimur/uist-data/nplinker_datasets/carnegie_nomibig_27112019/antismash)\n",
      "10:20:38 [INFO] genomics.py:273, # MiBIG BGCs = 0, non-MiBIG BGCS = 1949, total bgcs = 1949, GCFs = 83, strains=1841\n",
      "10:20:38 [INFO] genomics.py:329, Filtering MiBIG BGCs: removing 0 GCFs and 0 BGCs\n",
      "10:20:38 [INFO] genomics.py:280, # after filtering, total bgcs = 133, GCFs = 83, strains=25\n",
      "10:20:38 [DEBUG] genomics.py:284, Loading .network files\n",
      "10:20:38 [DEBUG] loader.py:215, Loading params.xml\n",
      "10:20:38 [DEBUG] loader.py:225, Parsed 32 GNPS params\n",
      "10:20:38 [DEBUG] loader.py:230, Parsed description text\n",
      "10:20:38 [INFO] loader.py:210, Strains filtered down to total of 17\n",
      "10:20:38 [DEBUG] nplinker.py:236, Generating lookup tables: genomics\n",
      "10:20:38 [DEBUG] nplinker.py:248, Generating lookup tables: metabolomics\n",
      "10:20:38 [DEBUG] nplinker.py:257, load_data: completed\n"
     ]
    },
    {
     "data": {
      "text/plain": [
       "True"
      ]
     },
     "execution_count": 6,
     "metadata": {},
     "output_type": "execute_result"
    }
   ],
   "source": [
    "npl.load_data()"
   ]
  },
  {
   "cell_type": "code",
   "execution_count": null,
   "metadata": {},
   "outputs": [],
   "source": []
  },
  {
   "cell_type": "code",
   "execution_count": 7,
   "metadata": {},
   "outputs": [],
   "source": [
    "interesting_bgcs = [\n",
    "\"KRD026.Scaffold_10.region001\",\n",
    "\"KRD026.Scaffold_13.region001\",\n",
    "\"KRD140.Scaffold_2.region002\",\n",
    "\"KRD140.Scaffold_3.region001\",\n",
    "\"KRD162.Scaffold_13.region003\",\n",
    "\"KRD175.Scaffold_6.region001\",\n",
    "\"KRD197.Scaffold_2.region002\"\n",
    "]"
   ]
  },
  {
   "cell_type": "code",
   "execution_count": null,
   "metadata": {},
   "outputs": [],
   "source": []
  },
  {
   "cell_type": "code",
   "execution_count": 8,
   "metadata": {},
   "outputs": [],
   "source": [
    "from nplinker.scoring import misc"
   ]
  },
  {
   "cell_type": "code",
   "execution_count": 9,
   "metadata": {},
   "outputs": [],
   "source": [
    "links_for_bgcs = {}\n",
    "\n",
    "for bgc_id in interesting_bgcs:\n",
    "    link_score_lines = []\n",
    "    for gcf in npl.gcfs:\n",
    "        if bgc_id in [x.name for x in gcf.bgcs]:\n",
    "            for spectrum in npl.spectra:\n",
    "                score = misc.metcalf_scoring(spectrum, gcf, strains=npl.strains, standardised=True)\n",
    "\n",
    "                for mf in npl.molfams:\n",
    "                    if spectrum in mf.spectra:\n",
    "                        break\n",
    "\n",
    "                # bgc_id,gcf_id,spectrum_id,#spec,#gcf,#overlap,#strains,score,identical,p_val\n",
    "                strain_name = bgc_id.split('.')[0]\n",
    "                overlap = len(set(spectrum.strains.keys()).intersection(gcf.strains))\n",
    "                info_line = [strain_name, \n",
    "                             bgc_id, \n",
    "                             gcf.gcf_id, \n",
    "                             gcf.product_type, \n",
    "                             spectrum.spectrum_id, \n",
    "                             len(spectrum.strains), \n",
    "                             len(gcf.strains), \n",
    "                             overlap, \n",
    "                             len(npl.strains), \n",
    "                             score]\n",
    "\n",
    "                link_score_lines.append(info_line)\n",
    "                \n",
    "    link_score_lines.sort(key=lambda x: x[9], reverse=True)\n",
    "    links_for_bgcs[bgc_id] = link_score_lines"
   ]
  },
  {
   "cell_type": "code",
   "execution_count": null,
   "metadata": {},
   "outputs": [],
   "source": []
  },
  {
   "cell_type": "code",
   "execution_count": 10,
   "metadata": {},
   "outputs": [
    {
     "name": "stdout",
     "output_type": "stream",
     "text": [
      "['KRD026', 'KRD026.Scaffold_10.region001', 11, 'NRPS', 7701, 1, 1, 1, 17, 4.000000000000001]\n",
      "['KRD026', 'KRD026.Scaffold_10.region001', 11, 'NRPS', 240439, 2, 1, 1, 17, 4.000000000000001]\n",
      "['KRD026', 'KRD026.Scaffold_10.region001', 11, 'NRPS', 240461, 2, 1, 1, 17, 4.000000000000001]\n",
      "['KRD026', 'KRD026.Scaffold_10.region001', 11, 'NRPS', 241050, 4, 1, 1, 17, 4.000000000000001]\n",
      "['KRD026', 'KRD026.Scaffold_10.region001', 11, 'NRPS', 242220, 3, 1, 1, 17, 4.000000000000001]\n",
      "['KRD026', 'KRD026.Scaffold_10.region001', 11, 'NRPS', 242381, 3, 1, 1, 17, 4.000000000000001]\n",
      "['KRD026', 'KRD026.Scaffold_10.region001', 11, 'NRPS', 243020, 4, 1, 1, 17, 4.000000000000001]\n",
      "['KRD026', 'KRD026.Scaffold_10.region001', 11, 'NRPS', 279198, 3, 1, 1, 17, 4.000000000000001]\n",
      "['KRD026', 'KRD026.Scaffold_10.region001', 11, 'NRPS', 298372, 2, 1, 1, 17, 4.000000000000001]\n",
      "['KRD026', 'KRD026.Scaffold_10.region001', 11, 'NRPS', 300125, 2, 1, 1, 17, 4.000000000000001]\n",
      "['KRD026', 'KRD026.Scaffold_13.region001', 29, 'NRPS', 74766, 8, 8, 8, 17, 3.999999999999996]\n",
      "['KRD026', 'KRD026.Scaffold_13.region001', 29, 'NRPS', 64294, 11, 8, 8, 17, 3.5555555555555522]\n",
      "['KRD026', 'KRD026.Scaffold_13.region001', 29, 'NRPS', 74536, 7, 8, 7, 17, 3.5496478698597684]\n",
      "['KRD026', 'KRD026.Scaffold_13.region001', 29, 'NRPS', 74561, 7, 8, 7, 17, 3.5496478698597684]\n",
      "['KRD026', 'KRD026.Scaffold_13.region001', 29, 'NRPS', 74571, 7, 8, 7, 17, 3.5496478698597684]\n",
      "['KRD026', 'KRD026.Scaffold_13.region001', 29, 'NRPS', 74593, 12, 8, 7, 17, 3.5496478698597684]\n",
      "['KRD026', 'KRD026.Scaffold_13.region001', 29, 'NRPS', 74608, 8, 8, 7, 17, 3.5496478698597684]\n",
      "['KRD026', 'KRD026.Scaffold_13.region001', 29, 'NRPS', 74609, 7, 8, 7, 17, 3.5496478698597684]\n",
      "['KRD026', 'KRD026.Scaffold_13.region001', 29, 'NRPS', 74618, 8, 8, 7, 17, 3.5496478698597684]\n",
      "['KRD026', 'KRD026.Scaffold_13.region001', 29, 'NRPS', 74758, 8, 8, 7, 17, 3.5496478698597684]\n",
      "['KRD140', 'KRD140.Scaffold_2.region002', 38, 'PKSother', 104007, 1, 1, 1, 17, 4.000000000000001]\n",
      "['KRD140', 'KRD140.Scaffold_2.region002', 38, 'PKSother', 104013, 1, 1, 1, 17, 4.000000000000001]\n",
      "['KRD140', 'KRD140.Scaffold_2.region002', 38, 'PKSother', 9314, 5, 1, 1, 17, 2.7386127875258297]\n",
      "['KRD140', 'KRD140.Scaffold_2.region002', 38, 'PKSother', 33285, 4, 1, 1, 17, 2.7386127875258297]\n",
      "['KRD140', 'KRD140.Scaffold_2.region002', 38, 'PKSother', 69420, 10, 1, 1, 17, 2.7386127875258297]\n",
      "['KRD140', 'KRD140.Scaffold_2.region002', 38, 'PKSother', 69606, 10, 1, 1, 17, 2.7386127875258297]\n",
      "['KRD140', 'KRD140.Scaffold_2.region002', 38, 'PKSother', 71503, 6, 1, 1, 17, 2.7386127875258297]\n",
      "['KRD140', 'KRD140.Scaffold_2.region002', 38, 'PKSother', 74543, 3, 1, 1, 17, 2.7386127875258297]\n",
      "['KRD140', 'KRD140.Scaffold_2.region002', 38, 'PKSother', 81827, 9, 1, 1, 17, 2.7386127875258297]\n",
      "['KRD140', 'KRD140.Scaffold_2.region002', 38, 'PKSother', 86879, 4, 1, 1, 17, 2.7386127875258297]\n",
      "['KRD140', 'KRD140.Scaffold_3.region001', 39, 'NRPS', 104007, 1, 1, 1, 17, 4.000000000000001]\n",
      "['KRD140', 'KRD140.Scaffold_3.region001', 39, 'NRPS', 104013, 1, 1, 1, 17, 4.000000000000001]\n",
      "['KRD140', 'KRD140.Scaffold_3.region001', 39, 'NRPS', 9314, 5, 1, 1, 17, 2.7386127875258297]\n",
      "['KRD140', 'KRD140.Scaffold_3.region001', 39, 'NRPS', 33285, 4, 1, 1, 17, 2.7386127875258297]\n",
      "['KRD140', 'KRD140.Scaffold_3.region001', 39, 'NRPS', 69420, 10, 1, 1, 17, 2.7386127875258297]\n",
      "['KRD140', 'KRD140.Scaffold_3.region001', 39, 'NRPS', 69606, 10, 1, 1, 17, 2.7386127875258297]\n",
      "['KRD140', 'KRD140.Scaffold_3.region001', 39, 'NRPS', 71503, 6, 1, 1, 17, 2.7386127875258297]\n",
      "['KRD140', 'KRD140.Scaffold_3.region001', 39, 'NRPS', 74543, 3, 1, 1, 17, 2.7386127875258297]\n",
      "['KRD140', 'KRD140.Scaffold_3.region001', 39, 'NRPS', 81827, 9, 1, 1, 17, 2.7386127875258297]\n",
      "['KRD140', 'KRD140.Scaffold_3.region001', 39, 'NRPS', 86879, 4, 1, 1, 17, 2.7386127875258297]\n",
      "['KRD162', 'KRD162.Scaffold_13.region003', 48, 'NRPS', 135538, 2, 1, 1, 17, 2.7386127875258297]\n",
      "['KRD162', 'KRD162.Scaffold_13.region003', 48, 'NRPS', 130800, 4, 1, 1, 17, 2.160246899469286]\n",
      "['KRD162', 'KRD162.Scaffold_13.region003', 48, 'NRPS', 130809, 3, 1, 1, 17, 2.160246899469286]\n",
      "['KRD162', 'KRD162.Scaffold_13.region003', 48, 'NRPS', 7706, 4, 1, 1, 17, 1.8027756377319952]\n",
      "['KRD162', 'KRD162.Scaffold_13.region003', 48, 'NRPS', 7708, 5, 1, 1, 17, 1.8027756377319952]\n",
      "['KRD162', 'KRD162.Scaffold_13.region003', 48, 'NRPS', 7718, 7, 1, 1, 17, 1.8027756377319952]\n",
      "['KRD162', 'KRD162.Scaffold_13.region003', 48, 'NRPS', 7721, 6, 1, 1, 17, 1.8027756377319952]\n",
      "['KRD162', 'KRD162.Scaffold_13.region003', 48, 'NRPS', 7722, 6, 1, 1, 17, 1.8027756377319952]\n",
      "['KRD162', 'KRD162.Scaffold_13.region003', 48, 'NRPS', 21050, 6, 1, 1, 17, 1.8027756377319952]\n",
      "['KRD162', 'KRD162.Scaffold_13.region003', 48, 'NRPS', 94999, 5, 1, 1, 17, 1.8027756377319952]\n",
      "['KRD175', 'KRD175.Scaffold_6.region001', 94, 'NRPS', 130800, 4, 2, 2, 17, 3.1552425509864634]\n",
      "['KRD175', 'KRD175.Scaffold_6.region001', 94, 'NRPS', 130809, 3, 2, 2, 17, 3.1552425509864634]\n",
      "['KRD175', 'KRD175.Scaffold_6.region001', 94, 'NRPS', 14908, 5, 2, 1, 17, 2.7386127875258293]\n",
      "['KRD175', 'KRD175.Scaffold_6.region001', 94, 'NRPS', 70697, 3, 2, 1, 17, 2.7386127875258293]\n",
      "['KRD175', 'KRD175.Scaffold_6.region001', 94, 'NRPS', 241861, 4, 2, 1, 17, 2.7386127875258293]\n",
      "['KRD175', 'KRD175.Scaffold_6.region001', 94, 'NRPS', 242042, 2, 2, 1, 17, 2.7386127875258293]\n",
      "['KRD175', 'KRD175.Scaffold_6.region001', 94, 'NRPS', 243416, 3, 2, 1, 17, 2.7386127875258293]\n",
      "['KRD175', 'KRD175.Scaffold_6.region001', 94, 'NRPS', 256343, 1, 2, 1, 17, 2.7386127875258293]\n",
      "['KRD175', 'KRD175.Scaffold_6.region001', 94, 'NRPS', 256518, 2, 2, 1, 17, 2.7386127875258293]\n",
      "['KRD175', 'KRD175.Scaffold_6.region001', 94, 'NRPS', 256902, 1, 2, 1, 17, 2.7386127875258293]\n",
      "['KRD197', 'KRD197.Scaffold_2.region002', 84, 'PKSI', 143108, 5, 3, 2, 17, 3.1552425509864617]\n",
      "['KRD197', 'KRD197.Scaffold_2.region002', 84, 'PKSI', 197337, 5, 3, 2, 17, 3.1552425509864617]\n",
      "['KRD197', 'KRD197.Scaffold_2.region002', 84, 'PKSI', 217176, 3, 3, 2, 17, 3.1552425509864617]\n",
      "['KRD197', 'KRD197.Scaffold_2.region002', 84, 'PKSI', 218633, 2, 3, 2, 17, 3.1552425509864617]\n",
      "['KRD197', 'KRD197.Scaffold_2.region002', 84, 'PKSI', 277880, 2, 3, 2, 17, 3.1552425509864617]\n",
      "['KRD197', 'KRD197.Scaffold_2.region002', 84, 'PKSI', 277882, 2, 3, 2, 17, 3.1552425509864617]\n",
      "['KRD197', 'KRD197.Scaffold_2.region002', 84, 'PKSI', 277886, 2, 3, 2, 17, 3.1552425509864617]\n",
      "['KRD197', 'KRD197.Scaffold_2.region002', 84, 'PKSI', 69822, 4, 3, 2, 17, 2.380952380952382]\n",
      "['KRD197', 'KRD197.Scaffold_2.region002', 84, 'PKSI', 104367, 3, 3, 2, 17, 2.380952380952382]\n",
      "['KRD197', 'KRD197.Scaffold_2.region002', 84, 'PKSI', 130800, 4, 3, 2, 17, 2.380952380952382]\n"
     ]
    }
   ],
   "source": [
    "links_with_score_count = []\n",
    "\n",
    "for bgc_id, links in links_for_bgcs.items():\n",
    "    scores = [x[9] for x in links]\n",
    "    for i, line in enumerate(links):\n",
    "        if i == 10:\n",
    "            break\n",
    "        current_score = line[9]\n",
    "        current_score_count = scores.count(current_score)\n",
    "\n",
    "        links_with_score_count.append(line + [current_score_count])\n",
    "        print(line)"
   ]
  },
  {
   "cell_type": "code",
   "execution_count": 11,
   "metadata": {},
   "outputs": [],
   "source": [
    "import csv"
   ]
  },
  {
   "cell_type": "code",
   "execution_count": 12,
   "metadata": {},
   "outputs": [],
   "source": [
    "with open('metcalf_interesting_links_20200212.csv', 'w') as f:\n",
    "    w = csv.writer(f)\n",
    "    w.writerow([\"# strain_name\", \n",
    "                 \"bgc_id\",\n",
    "                 \"gcf_id\",\n",
    "                 \"product_type\",\n",
    "                 \"spectrum_id\",\n",
    "                 \"spectrum_strains\",\n",
    "                 \"gcf_strains\",\n",
    "                 \"overlap\",\n",
    "                 \"total_strains\",\n",
    "                 \"score\",\n",
    "                 \"score_count\"])\n",
    "    w.writerows(links_with_score_count)"
   ]
  },
  {
   "cell_type": "code",
   "execution_count": null,
   "metadata": {},
   "outputs": [],
   "source": []
  },
  {
   "cell_type": "code",
   "execution_count": null,
   "metadata": {},
   "outputs": [],
   "source": []
  },
  {
   "cell_type": "code",
   "execution_count": 23,
   "metadata": {},
   "outputs": [
    {
     "name": "stdout",
     "output_type": "stream",
     "text": [
      "SpectrumID\n",
      "cluster index\n"
     ]
    }
   ],
   "source": [
    "gnps_media_file = \"/home/grimur/uist-data/nplinker_datasets/carnegie_nomibig_27112019/clusterinfo_summary/6f4bf34641bf4bcf8711042bc8cb086f.tsv\"\n",
    "\n",
    "viable_spectrum_ids = []\n",
    "\n",
    "with open(gnps_media_file, 'r') as f:\n",
    "    r = csv.reader(f, delimiter='\\t')\n",
    "    header = next(r)\n",
    "    # print(header)\n",
    "    # print(header[21])\n",
    "    # print(header[24])\n",
    "    for row in r:\n",
    "        # print(row)\n",
    "        medium = row[0]\n",
    "        spectrum_id = row[21]\n",
    "        cluster_id = row[24]\n",
    "        if not \"BLANK\" in medium:\n",
    "            viable_spectrum_ids.append(cluster_id)\n"
   ]
  },
  {
   "cell_type": "code",
   "execution_count": null,
   "metadata": {},
   "outputs": [],
   "source": []
  },
  {
   "cell_type": "code",
   "execution_count": 21,
   "metadata": {},
   "outputs": [
    {
     "name": "stdout",
     "output_type": "stream",
     "text": [
      "['KRD026', 'KRD026.Scaffold_10.region001', 11, 'NRPS', 240439, 2, 1, 1, 17, 4.000000000000001, 14, 14, 14]\n",
      "['KRD026', 'KRD026.Scaffold_10.region001', 11, 'NRPS', 240461, 2, 1, 1, 17, 4.000000000000001, 14, 14, 14]\n",
      "['KRD026', 'KRD026.Scaffold_10.region001', 11, 'NRPS', 241050, 4, 1, 1, 17, 4.000000000000001, 14, 14, 14]\n",
      "['KRD026', 'KRD026.Scaffold_10.region001', 11, 'NRPS', 242220, 3, 1, 1, 17, 4.000000000000001, 14, 14, 14]\n",
      "['KRD026', 'KRD026.Scaffold_10.region001', 11, 'NRPS', 242381, 3, 1, 1, 17, 4.000000000000001, 14, 14, 14]\n",
      "['KRD026', 'KRD026.Scaffold_10.region001', 11, 'NRPS', 243020, 4, 1, 1, 17, 4.000000000000001, 14, 14, 14]\n",
      "['KRD026', 'KRD026.Scaffold_10.region001', 11, 'NRPS', 279198, 3, 1, 1, 17, 4.000000000000001, 14, 14, 14]\n",
      "['KRD026', 'KRD026.Scaffold_10.region001', 11, 'NRPS', 298372, 2, 1, 1, 17, 4.000000000000001, 14, 14, 14]\n",
      "['KRD026', 'KRD026.Scaffold_10.region001', 11, 'NRPS', 300125, 2, 1, 1, 17, 4.000000000000001, 14, 14, 14]\n",
      "['KRD026', 'KRD026.Scaffold_10.region001', 11, 'NRPS', 300607, 2, 1, 1, 17, 4.000000000000001, 14, 14, 14]\n",
      "['KRD026', 'KRD026.Scaffold_13.region001', 29, 'NRPS', 74766, 8, 8, 8, 17, 3.999999999999996, 1, 1, 1]\n",
      "['KRD026', 'KRD026.Scaffold_13.region001', 29, 'NRPS', 74536, 7, 8, 7, 17, 3.5496478698597684, 19, 19, 19]\n",
      "['KRD026', 'KRD026.Scaffold_13.region001', 29, 'NRPS', 74561, 7, 8, 7, 17, 3.5496478698597684, 19, 19, 19]\n",
      "['KRD026', 'KRD026.Scaffold_13.region001', 29, 'NRPS', 74571, 7, 8, 7, 17, 3.5496478698597684, 19, 19, 19]\n",
      "['KRD026', 'KRD026.Scaffold_13.region001', 29, 'NRPS', 74593, 12, 8, 7, 17, 3.5496478698597684, 19, 19, 19]\n",
      "['KRD026', 'KRD026.Scaffold_13.region001', 29, 'NRPS', 74608, 8, 8, 7, 17, 3.5496478698597684, 19, 19, 19]\n",
      "['KRD026', 'KRD026.Scaffold_13.region001', 29, 'NRPS', 74609, 7, 8, 7, 17, 3.5496478698597684, 19, 19, 19]\n",
      "['KRD026', 'KRD026.Scaffold_13.region001', 29, 'NRPS', 74618, 8, 8, 7, 17, 3.5496478698597684, 19, 19, 19]\n",
      "['KRD026', 'KRD026.Scaffold_13.region001', 29, 'NRPS', 74758, 8, 8, 7, 17, 3.5496478698597684, 19, 19, 19]\n",
      "['KRD026', 'KRD026.Scaffold_13.region001', 29, 'NRPS', 74805, 10, 8, 7, 17, 3.5496478698597684, 19, 19, 19]\n",
      "['KRD140', 'KRD140.Scaffold_2.region002', 38, 'PKSother', 104007, 1, 1, 1, 17, 4.000000000000001, 2, 2, 2]\n",
      "['KRD140', 'KRD140.Scaffold_2.region002', 38, 'PKSother', 104013, 1, 1, 1, 17, 4.000000000000001, 2, 2, 2]\n",
      "['KRD140', 'KRD140.Scaffold_2.region002', 38, 'PKSother', 74543, 3, 1, 1, 17, 2.7386127875258297, 37, 37, 37]\n",
      "['KRD140', 'KRD140.Scaffold_2.region002', 38, 'PKSother', 86879, 4, 1, 1, 17, 2.7386127875258297, 37, 37, 37]\n",
      "['KRD140', 'KRD140.Scaffold_2.region002', 38, 'PKSother', 88267, 5, 1, 1, 17, 2.7386127875258297, 37, 37, 37]\n",
      "['KRD140', 'KRD140.Scaffold_2.region002', 38, 'PKSother', 97589, 2, 1, 1, 17, 2.7386127875258297, 37, 37, 37]\n",
      "['KRD140', 'KRD140.Scaffold_2.region002', 38, 'PKSother', 97601, 3, 1, 1, 17, 2.7386127875258297, 37, 37, 37]\n",
      "['KRD140', 'KRD140.Scaffold_2.region002', 38, 'PKSother', 97619, 4, 1, 1, 17, 2.7386127875258297, 37, 37, 37]\n",
      "['KRD140', 'KRD140.Scaffold_2.region002', 38, 'PKSother', 97628, 5, 1, 1, 17, 2.7386127875258297, 37, 37, 37]\n",
      "['KRD140', 'KRD140.Scaffold_2.region002', 38, 'PKSother', 98282, 4, 1, 1, 17, 2.7386127875258297, 37, 37, 37]\n",
      "['KRD140', 'KRD140.Scaffold_3.region001', 39, 'NRPS', 104007, 1, 1, 1, 17, 4.000000000000001, 2, 2, 2]\n",
      "['KRD140', 'KRD140.Scaffold_3.region001', 39, 'NRPS', 104013, 1, 1, 1, 17, 4.000000000000001, 2, 2, 2]\n",
      "['KRD140', 'KRD140.Scaffold_3.region001', 39, 'NRPS', 74543, 3, 1, 1, 17, 2.7386127875258297, 37, 37, 37]\n",
      "['KRD140', 'KRD140.Scaffold_3.region001', 39, 'NRPS', 86879, 4, 1, 1, 17, 2.7386127875258297, 37, 37, 37]\n",
      "['KRD140', 'KRD140.Scaffold_3.region001', 39, 'NRPS', 88267, 5, 1, 1, 17, 2.7386127875258297, 37, 37, 37]\n",
      "['KRD140', 'KRD140.Scaffold_3.region001', 39, 'NRPS', 97589, 2, 1, 1, 17, 2.7386127875258297, 37, 37, 37]\n",
      "['KRD140', 'KRD140.Scaffold_3.region001', 39, 'NRPS', 97601, 3, 1, 1, 17, 2.7386127875258297, 37, 37, 37]\n",
      "['KRD140', 'KRD140.Scaffold_3.region001', 39, 'NRPS', 97619, 4, 1, 1, 17, 2.7386127875258297, 37, 37, 37]\n",
      "['KRD140', 'KRD140.Scaffold_3.region001', 39, 'NRPS', 97628, 5, 1, 1, 17, 2.7386127875258297, 37, 37, 37]\n",
      "['KRD140', 'KRD140.Scaffold_3.region001', 39, 'NRPS', 98282, 4, 1, 1, 17, 2.7386127875258297, 37, 37, 37]\n",
      "['KRD162', 'KRD162.Scaffold_13.region003', 48, 'NRPS', 135538, 2, 1, 1, 17, 2.7386127875258297, 1, 1, 1]\n",
      "['KRD162', 'KRD162.Scaffold_13.region003', 48, 'NRPS', 130800, 4, 1, 1, 17, 2.160246899469286, 2, 2, 2]\n",
      "['KRD162', 'KRD162.Scaffold_13.region003', 48, 'NRPS', 130809, 3, 1, 1, 17, 2.160246899469286, 2, 2, 2]\n",
      "['KRD162', 'KRD162.Scaffold_13.region003', 48, 'NRPS', 94999, 5, 1, 1, 17, 1.8027756377319952, 9, 9, 9]\n",
      "['KRD162', 'KRD162.Scaffold_13.region003', 48, 'NRPS', 133643, 6, 1, 1, 17, 1.8027756377319952, 9, 9, 9]\n",
      "['KRD162', 'KRD162.Scaffold_13.region003', 48, 'NRPS', 86316, 7, 1, 1, 17, 1.5491933384829788, 4, 4, 4]\n",
      "['KRD162', 'KRD162.Scaffold_13.region003', 48, 'NRPS', 124748, 5, 1, 1, 17, 1.5491933384829788, 4, 4, 4]\n",
      "['KRD162', 'KRD162.Scaffold_13.region003', 48, 'NRPS', 136081, 6, 1, 1, 17, 1.3540064007726704, 7, 7, 7]\n",
      "['KRD162', 'KRD162.Scaffold_13.region003', 48, 'NRPS', 81792, 11, 1, 1, 17, 1.195228609334407, 4, 4, 4]\n",
      "['KRD162', 'KRD162.Scaffold_13.region003', 48, 'NRPS', 92053, 8, 1, 1, 17, 1.195228609334407, 4, 4, 4]\n",
      "['KRD175', 'KRD175.Scaffold_6.region001', 94, 'NRPS', 130800, 4, 2, 2, 17, 3.1552425509864634, 2, 2, 2]\n",
      "['KRD175', 'KRD175.Scaffold_6.region001', 94, 'NRPS', 130809, 3, 2, 2, 17, 3.1552425509864634, 2, 2, 2]\n",
      "['KRD175', 'KRD175.Scaffold_6.region001', 94, 'NRPS', 241861, 4, 2, 1, 17, 2.7386127875258293, 9, 9, 9]\n",
      "['KRD175', 'KRD175.Scaffold_6.region001', 94, 'NRPS', 242042, 2, 2, 1, 17, 2.7386127875258293, 9, 9, 9]\n",
      "['KRD175', 'KRD175.Scaffold_6.region001', 94, 'NRPS', 243416, 3, 2, 1, 17, 2.7386127875258293, 9, 9, 9]\n",
      "['KRD175', 'KRD175.Scaffold_6.region001', 94, 'NRPS', 256343, 1, 2, 1, 17, 2.7386127875258293, 9, 9, 9]\n",
      "['KRD175', 'KRD175.Scaffold_6.region001', 94, 'NRPS', 256518, 2, 2, 1, 17, 2.7386127875258293, 9, 9, 9]\n",
      "['KRD175', 'KRD175.Scaffold_6.region001', 94, 'NRPS', 256902, 1, 2, 1, 17, 2.7386127875258293, 9, 9, 9]\n",
      "['KRD175', 'KRD175.Scaffold_6.region001', 94, 'NRPS', 341965, 1, 2, 1, 17, 2.7386127875258293, 9, 9, 9]\n",
      "['KRD175', 'KRD175.Scaffold_6.region001', 94, 'NRPS', 92064, 7, 2, 2, 17, 1.745743121887945, 1, 1, 1]\n",
      "['KRD197', 'KRD197.Scaffold_2.region002', 84, 'PKSI', 143108, 5, 3, 2, 17, 3.1552425509864617, 7, 7, 7]\n",
      "['KRD197', 'KRD197.Scaffold_2.region002', 84, 'PKSI', 197337, 5, 3, 2, 17, 3.1552425509864617, 7, 7, 7]\n",
      "['KRD197', 'KRD197.Scaffold_2.region002', 84, 'PKSI', 217176, 3, 3, 2, 17, 3.1552425509864617, 7, 7, 7]\n",
      "['KRD197', 'KRD197.Scaffold_2.region002', 84, 'PKSI', 218633, 2, 3, 2, 17, 3.1552425509864617, 7, 7, 7]\n",
      "['KRD197', 'KRD197.Scaffold_2.region002', 84, 'PKSI', 277880, 2, 3, 2, 17, 3.1552425509864617, 7, 7, 7]\n",
      "['KRD197', 'KRD197.Scaffold_2.region002', 84, 'PKSI', 277882, 2, 3, 2, 17, 3.1552425509864617, 7, 7, 7]\n",
      "['KRD197', 'KRD197.Scaffold_2.region002', 84, 'PKSI', 277886, 2, 3, 2, 17, 3.1552425509864617, 7, 7, 7]\n",
      "['KRD197', 'KRD197.Scaffold_2.region002', 84, 'PKSI', 104367, 3, 3, 2, 17, 2.380952380952382, 11, 11, 11]\n",
      "['KRD197', 'KRD197.Scaffold_2.region002', 84, 'PKSI', 130800, 4, 3, 2, 17, 2.380952380952382, 11, 11, 11]\n",
      "['KRD197', 'KRD197.Scaffold_2.region002', 84, 'PKSI', 130809, 3, 3, 2, 17, 2.380952380952382, 11, 11, 11]\n"
     ]
    }
   ],
   "source": [
    "links_with_score_count_no_blanks = []\n",
    "\n",
    "for bgc_id, links in links_for_bgcs.items():\n",
    "    scores = [x[9] for x in links]\n",
    "    count = 0\n",
    "    for line in links:\n",
    "        spectrum_id = line[4]\n",
    "        if str(spectrum_id) not in viable_spectrum_ids:\n",
    "            continue\n",
    "        if count == 10:\n",
    "            break\n",
    "        current_score = line[9]\n",
    "        current_score_count = scores.count(current_score)\n",
    "        line.append(current_score_count)\n",
    "\n",
    "        links_with_score_count_no_blanks.append(line + [current_score_count])\n",
    "        count += 1\n",
    "        print(line)"
   ]
  },
  {
   "cell_type": "code",
   "execution_count": null,
   "metadata": {},
   "outputs": [],
   "source": []
  },
  {
   "cell_type": "code",
   "execution_count": 22,
   "metadata": {},
   "outputs": [],
   "source": [
    "with open('metcalf_interesting_links_no_blanks_20200213.csv', 'w') as f:\n",
    "    w = csv.writer(f)\n",
    "    w.writerow([\"# strain_name\", \n",
    "                 \"bgc_id\",\n",
    "                 \"gcf_id\",\n",
    "                 \"product_type\",\n",
    "                 \"spectrum_id\",\n",
    "                 \"spectrum_strains\",\n",
    "                 \"gcf_strains\",\n",
    "                 \"overlap\",\n",
    "                 \"total_strains\",\n",
    "                 \"score\",\n",
    "                 \"score_count\"])\n",
    "    w.writerows(links_with_score_count_no_blanks)"
   ]
  },
  {
   "cell_type": "code",
   "execution_count": null,
   "metadata": {},
   "outputs": [],
   "source": []
  },
  {
   "cell_type": "code",
   "execution_count": null,
   "metadata": {},
   "outputs": [],
   "source": []
  },
  {
   "cell_type": "code",
   "execution_count": null,
   "metadata": {},
   "outputs": [],
   "source": []
  },
  {
   "cell_type": "code",
   "execution_count": null,
   "metadata": {},
   "outputs": [],
   "source": []
  }
 ],
 "metadata": {
  "kernelspec": {
   "display_name": "Python 3",
   "language": "python",
   "name": "python3"
  },
  "language_info": {
   "codemirror_mode": {
    "name": "ipython",
    "version": 3
   },
   "file_extension": ".py",
   "mimetype": "text/x-python",
   "name": "python",
   "nbconvert_exporter": "python",
   "pygments_lexer": "ipython3",
   "version": "3.7.2"
  }
 },
 "nbformat": 4,
 "nbformat_minor": 2
}
