{
 "cells": [
  {
   "cell_type": "code",
   "execution_count": null,
   "metadata": {},
   "outputs": [],
   "source": [
    "import sys\n",
    "from nplinker.nplinker import NPLinker\n",
    "from test_scoring import run_metcalf_test\n",
    "from nplinker.scoring.misc import metcalf_expected_count, metcalf_count\n",
    "from nplinker.scoring.misc import metcalf_scoring\n",
    "%reload_ext autoreload\n",
    "%autoreload 2"
   ]
  },
  {
   "cell_type": "code",
   "execution_count": null,
   "metadata": {},
   "outputs": [],
   "source": [
    "npl = NPLinker('latest_api_demo.toml')\n",
    "npl.load_data()\n",
    "npl.process_dataset()"
   ]
  },
  {
   "cell_type": "code",
   "execution_count": null,
   "metadata": {},
   "outputs": [],
   "source": [
    "from pandas import DataFrame\n",
    "from ipywidgets import widgets\n",
    "from IPython import display\n",
    "\n",
    "# run a quick test on synthetic data to compare scores using non-vectorised and vectorised methods\n",
    "df = run_metcalf_test(standardised=True)\n",
    "wtable = widgets.Output()\n",
    "with wtable as w:\n",
    "    display.display(df)\n",
    "wtable"
   ]
  },
  {
   "cell_type": "code",
   "execution_count": null,
   "metadata": {},
   "outputs": [],
   "source": [
    "# pick a pair of objects and test scoring between Spectrum and GCF with Spectrum as input\n",
    "test_spec = npl.spectra[133]\n",
    "test_gcf = npl.gcfs[11]\n",
    "npl.scoring.metcalf.standardised = True\n",
    "npl.scoring.metcalf.cutoff = None\n",
    "\n",
    "objs_with_scores = npl.get_links([test_spec], npl.scoring.metcalf)\n",
    "linked_objs = npl.links_for_obj(objs_with_scores[0], npl.scoring.metcalf)\n",
    "for obj, score in linked_objs:\n",
    "    if obj == test_gcf:\n",
    "        print('score is {} ({})'.format(score, obj))\n",
    "        simple_score = metcalf_scoring(test_spec, obj, npl.strains, standardised=True)\n",
    "        print('vs {}'.format(simple_score))\n",
    "        break"
   ]
  },
  {
   "cell_type": "code",
   "execution_count": null,
   "metadata": {},
   "outputs": [],
   "source": [
    "# same thing but GCF as input\n",
    "npl.scoring.metcalf.standardised = True\n",
    "npl.scoring.metcalf.cutoff = None\n",
    "objs_with_scores = npl.get_links([test_gcf], npl.scoring.metcalf)\n",
    "linked_objs = npl.links_for_obj(objs_with_scores[0], npl.scoring.metcalf)\n",
    "for obj, score in linked_objs:\n",
    "    if obj == test_spec:\n",
    "        print('score is {} ({})'.format(score, obj))\n",
    "        simple_score = metcalf_scoring(test_gcf, obj, npl.strains, standardised=True)\n",
    "        print('vs {}'.format(simple_score))\n",
    "        break"
   ]
  },
  {
   "cell_type": "code",
   "execution_count": null,
   "metadata": {},
   "outputs": [],
   "source": [
    "\n"
   ]
  }
 ],
 "metadata": {
  "kernelspec": {
   "display_name": "Python 3",
   "language": "python",
   "name": "python3"
  },
  "language_info": {
   "codemirror_mode": {
    "name": "ipython",
    "version": 3
   },
   "file_extension": ".py",
   "mimetype": "text/x-python",
   "name": "python",
   "nbconvert_exporter": "python",
   "pygments_lexer": "ipython3",
   "version": "3.8.0"
  },
  "varInspector": {
   "cols": {
    "lenName": 16,
    "lenType": 16,
    "lenVar": 40
   },
   "kernels_config": {
    "python": {
     "delete_cmd_postfix": "",
     "delete_cmd_prefix": "del ",
     "library": "var_list.py",
     "varRefreshCmd": "print(var_dic_list())"
    },
    "r": {
     "delete_cmd_postfix": ") ",
     "delete_cmd_prefix": "rm(",
     "library": "var_list.r",
     "varRefreshCmd": "cat(var_dic_list()) "
    }
   },
   "types_to_exclude": [
    "module",
    "function",
    "builtin_function_or_method",
    "instance",
    "_Feature"
   ],
   "window_display": false
  }
 },
 "nbformat": 4,
 "nbformat_minor": 2
}
